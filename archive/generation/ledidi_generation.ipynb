{
 "cells": [
  {
   "cell_type": "code",
   "execution_count": 1,
   "metadata": {},
   "outputs": [],
   "source": [
    "import numpy as np\n",
    "import tensorflow as tf\n",
    "\n",
    "from tensorflow.keras.models import load_model\n",
    "from tensorflow.keras.utils import CustomObjectScope\n",
    "\n",
    "from ledidi import Ledidi\n",
    "from ledidi import TensorFlowRegressor, PyTorchRegressor\n",
    "\n",
    "import torch\n",
    "import torch.nn as nn\n",
    "import torch.nn.functional as F\n",
    "from torch.optim import SGD, Adam"
   ]
  },
  {
   "cell_type": "markdown",
   "metadata": {},
   "source": [
    "## Tensorflow Regressor"
   ]
  },
  {
   "cell_type": "code",
   "execution_count": null,
   "metadata": {},
   "outputs": [],
   "source": [
    "# These two objects are necessary for the Basenji model\n",
    "class GELU(tf.keras.layers.Layer):\n",
    "    def __init__(self, **kwargs):\n",
    "        super(GELU, self).__init__()\n",
    "    \n",
    "    def call(self, x, training):\n",
    "        return tf.keras.activations.sigmoid(1.702 * x) * x\n",
    "\n",
    "class StochasticShift(tf.keras.layers.Layer):\n",
    "    def __init__(self, shift_max=0, pad='uniform', **kwargs):\n",
    "        super(StochasticShift, self).__init__()\n",
    "\n",
    "    def call(self, seq_1hot, training):\n",
    "        return seq_1hot\n",
    "\n",
    "custom_objects = {\n",
    "    'StochasticShift': StochasticShift, \n",
    "    'GELU': GELU\n",
    "}\n",
    "\n",
    "model = load_model(\"model_human.h5\", custom_objects)\n",
    "model.compile()\n",
    "\n",
    "regressor = TensorFlowRegressor(model=model)\n",
    "\n",
    "# Index 687 is CTCF signal in GM12878\n",
    "mask = np.zeros((1, 1024, 5313), dtype='float32')\n",
    "mask[:, :, 687] = 1.0\n",
    "\n",
    "mutator = Ledidi(regressor, mask=None, l=1e2)\n",
    "\n",
    "sequence = np.load(\"CTCF-seqs.npz\")['arr_0'].astype('float32')[0].reshape(1, 131072, 4)\n",
    "epi = model.predict(sequence)\n",
    "print(\"Epi shape: \", epi.shape)\n",
    "\n",
    "desired_epi = epi.copy()\n",
    "desired_epi[0, 487:537, 687] = 0.0\n",
    "\n",
    "edited_sequence = mutator.fit_transform(sequence, desired_epi)\n",
    "found_epi = model.predict(edited_sequence.astype('float32'))[0, :, 687]"
   ]
  },
  {
   "cell_type": "markdown",
   "metadata": {},
   "source": [
    "## PyTorch Regressor"
   ]
  },
  {
   "cell_type": "code",
   "execution_count": 2,
   "metadata": {},
   "outputs": [
    {
     "data": {
      "text/plain": [
       "<All keys matched successfully>"
      ]
     },
     "execution_count": 2,
     "metadata": {},
     "output_type": "execute_result"
    }
   ],
   "source": [
    "# Pytorch oracle model\n",
    "class SingleAlphabetComplexNet(nn.Module):\n",
    "    def __init__(self):\n",
    "        super(SingleAlphabetComplexNet, self).__init__()\n",
    "        self.name = \"SingleAlphabetComplexNet\"\n",
    "        \n",
    "        self.cnn_1 = nn.Conv1d(24, 50, 3) \n",
    "        self.cnn_2 = nn.Conv1d(50, 100, 3)\n",
    "        self.cnn_3 = nn.Conv1d(100, 200, 3)\n",
    "        self.cnn_4 = nn.Conv1d(200, 400, 3)\n",
    "        self.cnn_5 = nn.Conv1d(400, 800, 3)\n",
    "        self.cnn_6 = nn.Conv1d(800, 1000, 3, padding=2)\n",
    "        self.cnn_7 = nn.Conv1d(1000, 800, 3, padding=2)\n",
    "        self.cnn_8 = nn.Conv1d(800, 700, 3, padding=2)\n",
    "        self.cnn_9 = nn.Conv1d(700, 500, 1)\n",
    "        \n",
    "        self.relu = nn.ReLU()\n",
    "        self.pool1 = nn.MaxPool1d(2)         \n",
    "        self.fc1 = nn.Linear(500, 1800)\n",
    "        self.fc2 = nn.Linear(1800, 1)\n",
    "        \n",
    "    def forward(self, pair):\n",
    "        # pair input size [1, 48, 24]\n",
    "        pair = pair.permute(0, 2, 1)\n",
    "        \n",
    "        pair = self.relu(self.cnn_1(pair))\n",
    "        pair = self.relu(self.cnn_2(pair))\n",
    "        pair = self.pool1(self.relu(self.cnn_3(pair)))\n",
    "        pair = self.pool1(self.relu(self.cnn_4(pair)))\n",
    "        pair = self.pool1(self.relu(self.cnn_5(pair)))        \n",
    "        pair = self.pool1(self.relu(self.cnn_6(pair)))\n",
    "        pair = self.pool1(self.relu(self.cnn_7(pair))) \n",
    "        pair = self.pool1(self.relu(self.cnn_8(pair)))\n",
    "        pair = self.pool1(self.relu(self.cnn_9(pair))) \n",
    "\n",
    "        pair = pair.view(-1, 1).T\n",
    "        \n",
    "        pair = self.fc2(self.fc1(pair))\n",
    "        x = torch.sigmoid(pair)\n",
    "        return x\n",
    "\n",
    "model = SingleAlphabetComplexNet()\n",
    "checkpointed_model = '../model_checkpoints/binary/%s/%s.pth' % (\"SingleAlphabetComplexNet\", \"06172020\")\n",
    "checkpoint = torch.load(checkpointed_model)\n",
    "model.load_state_dict(checkpoint['model_state_dict'])"
   ]
  },
  {
   "cell_type": "code",
   "execution_count": 3,
   "metadata": {},
   "outputs": [
    {
     "data": {
      "text/plain": [
       "tensor([[0.6930]], grad_fn=<SigmoidBackward>)"
      ]
     },
     "execution_count": 3,
     "metadata": {},
     "output_type": "execute_result"
    }
   ],
   "source": [
    "random_seq = torch.FloatTensor(np.zeros((1, 48, 24)))\n",
    "model(random_seq)"
   ]
  },
  {
   "cell_type": "code",
   "execution_count": 5,
   "metadata": {},
   "outputs": [
    {
     "name": "stdout",
     "output_type": "stream",
     "text": [
      "torch.Size([1, 1])\n",
      "Desired Epi shape:  torch.Size([1, 1])\n"
     ]
    },
    {
     "ename": "TypeError",
     "evalue": "sum() received an invalid combination of arguments - got (out=NoneType, axis=int, ), but expected one of:\n * (torch.dtype dtype)\n * (tuple of names dim, bool keepdim, torch.dtype dtype)\n * (tuple of ints dim, bool keepdim, torch.dtype dtype)\n",
     "output_type": "error",
     "traceback": [
      "\u001b[0;31m---------------------------------------------------------------------------\u001b[0m",
      "\u001b[0;31mTypeError\u001b[0m                                 Traceback (most recent call last)",
      "\u001b[0;32m<ipython-input-5-a1cce31d1461>\u001b[0m in \u001b[0;36m<module>\u001b[0;34m\u001b[0m\n\u001b[1;32m     11\u001b[0m \u001b[0mprint\u001b[0m\u001b[0;34m(\u001b[0m\u001b[0;34m\"Desired Epi shape: \"\u001b[0m\u001b[0;34m,\u001b[0m \u001b[0mdesired_epi\u001b[0m\u001b[0;34m.\u001b[0m\u001b[0mshape\u001b[0m\u001b[0;34m)\u001b[0m\u001b[0;34m\u001b[0m\u001b[0;34m\u001b[0m\u001b[0m\n\u001b[1;32m     12\u001b[0m \u001b[0;34m\u001b[0m\u001b[0m\n\u001b[0;32m---> 13\u001b[0;31m \u001b[0medited_sequence\u001b[0m \u001b[0;34m=\u001b[0m \u001b[0mmutator\u001b[0m\u001b[0;34m.\u001b[0m\u001b[0mfit_transform\u001b[0m\u001b[0;34m(\u001b[0m\u001b[0msequence\u001b[0m\u001b[0;34m,\u001b[0m \u001b[0mdesired_epi\u001b[0m\u001b[0;34m)\u001b[0m\u001b[0;34m\u001b[0m\u001b[0;34m\u001b[0m\u001b[0m\n\u001b[0m\u001b[1;32m     14\u001b[0m \u001b[0;31m#found_epi = model.predict(edited_sequence.astype('float32'))[0, :, 687]\u001b[0m\u001b[0;34m\u001b[0m\u001b[0;34m\u001b[0m\u001b[0;34m\u001b[0m\u001b[0m\n",
      "\u001b[0;32m~/aptamer-pursuit/src/models/generation/ledidi.py\u001b[0m in \u001b[0;36mfit_transform\u001b[0;34m(self, seq, epi_bar)\u001b[0m\n\u001b[1;32m    293\u001b[0m \u001b[0;34m\u001b[0m\u001b[0m\n\u001b[1;32m    294\u001b[0m     \u001b[0;32mdef\u001b[0m \u001b[0mfit_transform\u001b[0m\u001b[0;34m(\u001b[0m\u001b[0mself\u001b[0m\u001b[0;34m,\u001b[0m \u001b[0mseq\u001b[0m\u001b[0;34m,\u001b[0m \u001b[0mepi_bar\u001b[0m\u001b[0;34m)\u001b[0m\u001b[0;34m:\u001b[0m\u001b[0;34m\u001b[0m\u001b[0;34m\u001b[0m\u001b[0m\n\u001b[0;32m--> 295\u001b[0;31m         \u001b[0mmissing_indices\u001b[0m \u001b[0;34m=\u001b[0m \u001b[0mnumpy\u001b[0m\u001b[0;34m.\u001b[0m\u001b[0mwhere\u001b[0m\u001b[0;34m(\u001b[0m\u001b[0mnumpy\u001b[0m\u001b[0;34m.\u001b[0m\u001b[0msum\u001b[0m\u001b[0;34m(\u001b[0m\u001b[0mseq\u001b[0m\u001b[0;34m[\u001b[0m\u001b[0;36m0\u001b[0m\u001b[0;34m]\u001b[0m\u001b[0;34m,\u001b[0m \u001b[0maxis\u001b[0m\u001b[0;34m=\u001b[0m\u001b[0;36m1\u001b[0m\u001b[0;34m)\u001b[0m\u001b[0;34m<=\u001b[0m\u001b[0;36m0\u001b[0m\u001b[0;34m)\u001b[0m\u001b[0;34m[\u001b[0m\u001b[0;36m0\u001b[0m\u001b[0;34m]\u001b[0m\u001b[0;34m\u001b[0m\u001b[0;34m\u001b[0m\u001b[0m\n\u001b[0m\u001b[1;32m    296\u001b[0m         \u001b[0mtau\u001b[0m \u001b[0;34m=\u001b[0m \u001b[0mself\u001b[0m\u001b[0;34m.\u001b[0m\u001b[0mtau\u001b[0m\u001b[0;34m\u001b[0m\u001b[0;34m\u001b[0m\u001b[0m\n\u001b[1;32m    297\u001b[0m \u001b[0;34m\u001b[0m\u001b[0m\n",
      "\u001b[0;32m<__array_function__ internals>\u001b[0m in \u001b[0;36msum\u001b[0;34m(*args, **kwargs)\u001b[0m\n",
      "\u001b[0;32m~/anaconda3/envs/aptamers/lib/python3.8/site-packages/numpy/core/fromnumeric.py\u001b[0m in \u001b[0;36msum\u001b[0;34m(a, axis, dtype, out, keepdims, initial, where)\u001b[0m\n\u001b[1;32m   2226\u001b[0m         \u001b[0;32mreturn\u001b[0m \u001b[0mres\u001b[0m\u001b[0;34m\u001b[0m\u001b[0;34m\u001b[0m\u001b[0m\n\u001b[1;32m   2227\u001b[0m \u001b[0;34m\u001b[0m\u001b[0m\n\u001b[0;32m-> 2228\u001b[0;31m     return _wrapreduction(a, np.add, 'sum', axis, dtype, out, keepdims=keepdims,\n\u001b[0m\u001b[1;32m   2229\u001b[0m                           initial=initial, where=where)\n\u001b[1;32m   2230\u001b[0m \u001b[0;34m\u001b[0m\u001b[0m\n",
      "\u001b[0;32m~/anaconda3/envs/aptamers/lib/python3.8/site-packages/numpy/core/fromnumeric.py\u001b[0m in \u001b[0;36m_wrapreduction\u001b[0;34m(obj, ufunc, method, axis, dtype, out, **kwargs)\u001b[0m\n\u001b[1;32m     86\u001b[0m                 \u001b[0;32mreturn\u001b[0m \u001b[0mreduction\u001b[0m\u001b[0;34m(\u001b[0m\u001b[0maxis\u001b[0m\u001b[0;34m=\u001b[0m\u001b[0maxis\u001b[0m\u001b[0;34m,\u001b[0m \u001b[0mdtype\u001b[0m\u001b[0;34m=\u001b[0m\u001b[0mdtype\u001b[0m\u001b[0;34m,\u001b[0m \u001b[0mout\u001b[0m\u001b[0;34m=\u001b[0m\u001b[0mout\u001b[0m\u001b[0;34m,\u001b[0m \u001b[0;34m**\u001b[0m\u001b[0mpasskwargs\u001b[0m\u001b[0;34m)\u001b[0m\u001b[0;34m\u001b[0m\u001b[0;34m\u001b[0m\u001b[0m\n\u001b[1;32m     87\u001b[0m             \u001b[0;32melse\u001b[0m\u001b[0;34m:\u001b[0m\u001b[0;34m\u001b[0m\u001b[0;34m\u001b[0m\u001b[0m\n\u001b[0;32m---> 88\u001b[0;31m                 \u001b[0;32mreturn\u001b[0m \u001b[0mreduction\u001b[0m\u001b[0;34m(\u001b[0m\u001b[0maxis\u001b[0m\u001b[0;34m=\u001b[0m\u001b[0maxis\u001b[0m\u001b[0;34m,\u001b[0m \u001b[0mout\u001b[0m\u001b[0;34m=\u001b[0m\u001b[0mout\u001b[0m\u001b[0;34m,\u001b[0m \u001b[0;34m**\u001b[0m\u001b[0mpasskwargs\u001b[0m\u001b[0;34m)\u001b[0m\u001b[0;34m\u001b[0m\u001b[0;34m\u001b[0m\u001b[0m\n\u001b[0m\u001b[1;32m     89\u001b[0m \u001b[0;34m\u001b[0m\u001b[0m\n\u001b[1;32m     90\u001b[0m     \u001b[0;32mreturn\u001b[0m \u001b[0mufunc\u001b[0m\u001b[0;34m.\u001b[0m\u001b[0mreduce\u001b[0m\u001b[0;34m(\u001b[0m\u001b[0mobj\u001b[0m\u001b[0;34m,\u001b[0m \u001b[0maxis\u001b[0m\u001b[0;34m,\u001b[0m \u001b[0mdtype\u001b[0m\u001b[0;34m,\u001b[0m \u001b[0mout\u001b[0m\u001b[0;34m,\u001b[0m \u001b[0;34m**\u001b[0m\u001b[0mpasskwargs\u001b[0m\u001b[0;34m)\u001b[0m\u001b[0;34m\u001b[0m\u001b[0;34m\u001b[0m\u001b[0m\n",
      "\u001b[0;31mTypeError\u001b[0m: sum() received an invalid combination of arguments - got (out=NoneType, axis=int, ), but expected one of:\n * (torch.dtype dtype)\n * (tuple of names dim, bool keepdim, torch.dtype dtype)\n * (tuple of ints dim, bool keepdim, torch.dtype dtype)\n"
     ]
    }
   ],
   "source": [
    "regressor = PyTorchRegressor(model=model, verbose=False)\n",
    "\n",
    "\n",
    "mutator = Ledidi(regressor, mask=None, l=1e2)\n",
    "\n",
    "sequence = random_seq\n",
    "epi = model(sequence)\n",
    "\n",
    "desired_epi = epi.clone()\n",
    "print(\"Desired Epi shape: \", desired_epi.shape)\n",
    "\n",
    "edited_sequence = mutator.fit_transform(sequence, desired_epi)\n",
    "#found_epi = model.predict(edited_sequence.astype('float32'))[0, :, 687]"
   ]
  },
  {
   "cell_type": "markdown",
   "metadata": {},
   "source": [
    "## Recover original sequence"
   ]
  },
  {
   "cell_type": "code",
   "execution_count": null,
   "metadata": {},
   "outputs": [],
   "source": [
    "# Need to reshape found_epi into the desired epi shape and then \n",
    "edited_sequence.shape"
   ]
  },
  {
   "cell_type": "code",
   "execution_count": null,
   "metadata": {},
   "outputs": [],
   "source": [
    "sequence = numpy.argmax(edited_sequence, axis=2)[0]"
   ]
  },
  {
   "cell_type": "code",
   "execution_count": null,
   "metadata": {},
   "outputs": [],
   "source": [
    "str_seq = \"\"\n",
    "for i in range(len(sequence)):\n",
    "    if sequence[i] == 0:\n",
    "        str_seq += 'A'\n",
    "    elif sequence[i] == 1:\n",
    "        str_seq += 'C'\n",
    "    elif sequence[i] == 2:\n",
    "        str_seq += 'G'\n",
    "    else:\n",
    "        str_seq += 'T'\n",
    "str_seq"
   ]
  },
  {
   "cell_type": "code",
   "execution_count": null,
   "metadata": {},
   "outputs": [],
   "source": []
  }
 ],
 "metadata": {
  "kernelspec": {
   "display_name": "aptamers",
   "language": "python",
   "name": "aptamers"
  },
  "language_info": {
   "codemirror_mode": {
    "name": "ipython",
    "version": 3
   },
   "file_extension": ".py",
   "mimetype": "text/x-python",
   "name": "python",
   "nbconvert_exporter": "python",
   "pygments_lexer": "ipython3",
   "version": "3.8.3"
  }
 },
 "nbformat": 4,
 "nbformat_minor": 4
}

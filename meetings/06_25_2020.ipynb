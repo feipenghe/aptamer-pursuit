{
 "cells": [
  {
   "cell_type": "markdown",
   "metadata": {},
   "source": [
    "## Summary\n",
    "* Binary Classification (new encodings and architectures)\n",
    "* Setting us up for Generation Experiments"
   ]
  },
  {
   "cell_type": "markdown",
   "metadata": {},
   "source": [
    "## Binary Classification"
   ]
  },
  {
   "cell_type": "markdown",
   "metadata": {},
   "source": [
    "### Overfitting with binary classification\n",
    "<img src=\"../src/models/plots/binary/SingleAlphabetComplexNet/06162020/loss.png\">\n",
    "<img src=\"../src/models/plots/binary/SingleAlphabetComplexNet/06172020/accuracy.png\">\n",
    "<img src=\"../src/models/plots/binary/SingleAlphabetComplexNet/06172020/histogram.png\">"
   ]
  },
  {
   "cell_type": "markdown",
   "metadata": {},
   "source": [
    "### New encoding strategy # 1:\n",
    "* Direct translation from char --> num, separate for aptamer and peptide\n",
    "* This could be a better baseline, it's more true to the sequence, and it results in a non-sparse encoding\n",
    "<img src=\"../src/models/plots/binary/TranslateComplexNet/06162020/loss.png\">\n",
    "<img src=\"../src/models/plots/binary/TranslateComplexNet/06162020/accuracy.png\">\n",
    "<img src=\"../src/models/plots/binary/TranslateComplexNet/06172020/histogram.png\">"
   ]
  },
  {
   "cell_type": "markdown",
   "metadata": {},
   "source": [
    "### New encoding strategy # 2\n",
    "* Concatenate the direct translations --> (1, 48) shape\n",
    "<img src=\"../src/models/plots/binary/TranslateConcatNet/06222020/loss.png\">\n",
    "<img src=\"../src/models/plots/binary/TranslateConcatNet/06222020/accuracy.png\">\n",
    "<img src=\"../src/models/plots/binary/TranslateConcatNet/06222020/histogram.png\">"
   ]
  },
  {
   "cell_type": "markdown",
   "metadata": {},
   "source": [
    "### New encoding strategy # 3\n",
    "* Stack the direct translations (2, 40) --> This does have empty space\n",
    "<img src=\"../src/models/plots/binary/TranslateStackedNet/06232020/loss.png\">\n",
    "<img src=\"../src/models/plots/binary/TranslateStackedNet/06232020/accuracy.png\">\n",
    "<img src=\"../src/models/plots/binary/TranslateStackedNet/06232020/histogram.png\">"
   ]
  },
  {
   "cell_type": "markdown",
   "metadata": {},
   "source": [
    "### Creating a differentiable model\n",
    "* Ledidi and Captum require a differentiable model\n",
    "* Use Softplus activation instead of ReLU\n",
    "<img src=\"../src/models/plots/binary/LedidiNet/06242020/loss.png\">\n",
    "<img src=\"../src/models/plots/binary/LedidiNet/06242020/accuracy.png\">\n",
    "<img src=\"../src/models/plots/binary/LedidiNet/06242020/histogram.png\">"
   ]
  },
  {
   "cell_type": "markdown",
   "metadata": {},
   "source": [
    "## Generation: Ledidi\n",
    "* Writing a PyTorch Regression wrapper (It's in tensorflow right now)\n",
    "* It works for Tensorflow models"
   ]
  },
  {
   "cell_type": "markdown",
   "metadata": {},
   "source": [
    "## Plan for the summer\n",
    "* Encoding Strategies w/ Binary Classification\n",
    "* Generating Experiments (Ledidi)\n",
    "* Captum + Other explainability work\n",
    "* Publication: what comp bio conference locations would be best?\n",
    "* Work with Kevin and Yuhao to see what they suggest"
   ]
  },
  {
   "cell_type": "code",
   "execution_count": null,
   "metadata": {},
   "outputs": [],
   "source": []
  }
 ],
 "metadata": {
  "kernelspec": {
   "display_name": "Python 3",
   "language": "python",
   "name": "python3"
  },
  "language_info": {
   "codemirror_mode": {
    "name": "ipython",
    "version": 3
   },
   "file_extension": ".py",
   "mimetype": "text/x-python",
   "name": "python",
   "nbconvert_exporter": "python",
   "pygments_lexer": "ipython3",
   "version": "3.8.3"
  }
 },
 "nbformat": 4,
 "nbformat_minor": 4
}

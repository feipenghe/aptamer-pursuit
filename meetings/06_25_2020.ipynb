{
 "cells": [
  {
   "cell_type": "markdown",
   "metadata": {},
   "source": [
    "## Summary\n",
    "* Binary Classification (new encoding, histograms, cdfs)\n",
    "* Plan for the summer\n",
    "* Thesis"
   ]
  },
  {
   "cell_type": "markdown",
   "metadata": {},
   "source": [
    "## Binary Classification"
   ]
  },
  {
   "cell_type": "markdown",
   "metadata": {},
   "source": [
    "### Overfitting with binary classification\n",
    "<img src=\"../src/models/plots/binary/SingleAlphabetComplexNet/06162020/loss.png\">\n",
    "<img src=\"../src/models/plots/binary/SingleAlphabetComplexNet/06162020/accuracy.png\">\n",
    "<img src=\"../src/models/plots/binary/SingleAlphabetComplexNet/06172020/histogram.png\">"
   ]
  },
  {
   "cell_type": "markdown",
   "metadata": {},
   "source": [
    "### New encoding strategy:\n",
    "* Direct translation from char --> num\n",
    "* This could be a better baseline, it's more true to the sequence, and it results in a non-sparse encoding\n",
    "* Relatively simple network --> 4 layers for each of apt, pep'\n",
    "* Use Conv1d layer in the proper way. It expects (batch, channels, sequence_length)\n",
    "<img src=\"../src/models/plots/binary/TranslateComplexNet/06162020/loss.png\">\n",
    "<img src=\"../src/models/plots/binary/TranslateComplexNet/06162020/accuracy.png\">\n",
    "<img src=\"../src/models/plots/binary/TranslateComplexNet/06172020/histogram.png\">"
   ]
  },
  {
   "cell_type": "markdown",
   "metadata": {},
   "source": [
    "## Plan for the summer\n",
    "* Binary Classification\n",
    "* Generating Experiments\n",
    "* Captum\n",
    "* Publication\n",
    "* Work with Kevin and Yuhao to plan this out --> Friday meeting"
   ]
  },
  {
   "cell_type": "markdown",
   "metadata": {},
   "source": [
    "## Thesis\n",
    "* Cleaning up wording\n",
    "* Adding transitions\n",
    "* More graphics + additional work (based off of the things I've worked on in the recent past)"
   ]
  },
  {
   "cell_type": "code",
   "execution_count": null,
   "metadata": {},
   "outputs": [],
   "source": []
  }
 ],
 "metadata": {
  "kernelspec": {
   "display_name": "Python 3",
   "language": "python",
   "name": "python3"
  },
  "language_info": {
   "codemirror_mode": {
    "name": "ipython",
    "version": 3
   },
   "file_extension": ".py",
   "mimetype": "text/x-python",
   "name": "python",
   "nbconvert_exporter": "python",
   "pygments_lexer": "ipython3",
   "version": "3.8.3"
  }
 },
 "nbformat": 4,
 "nbformat_minor": 4
}

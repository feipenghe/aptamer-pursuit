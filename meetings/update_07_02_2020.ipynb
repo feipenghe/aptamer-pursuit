{
 "cells": [
  {
   "cell_type": "markdown",
   "metadata": {},
   "source": [
    "## Meeting 7/02/2020\n",
    "* Binary classification, encoding strategies"
   ]
  },
  {
   "cell_type": "markdown",
   "metadata": {},
   "source": [
    "### Overfitting with binary classification\n",
    "* Single Alphabet (24 characters), one-hot encoding, trained for 56 epochs\n",
    "\n",
    "<img src=\"../src/models/plots/binary/SingleAlphabetComplexNet/06162020/loss.png\">\n",
    "<img src=\"../src/models/plots/binary/SingleAlphabetComplexNet/06172020/accuracy.png\">\n",
    "<img src=\"../src/models/plots/binary/SingleAlphabetComplexNet/06172020/histogram.png\">\n",
    "<img src=\"../src/models/plots/binary/SingleAlphabetComplexNet/06302020/val_cdf.png\">\n",
    "<img src=\"../src/models/plots/binary/SingleAlphabetComplexNet/06302020/train_cdf.png\">"
   ]
  },
  {
   "cell_type": "markdown",
   "metadata": {},
   "source": [
    "### Direct translation encoding\n",
    "* Direct translation from char --> num, separate for aptamer and peptide\n",
    "* This could be a better baseline, it's more true to the sequence, and it results in a non-sparse encoding\n",
    "<img src=\"../src/models/plots/binary/TranslateComplexNet/06162020/loss.png\">\n",
    "<img src=\"../src/models/plots/binary/TranslateComplexNet/06162020/accuracy.png\">\n",
    "<img src=\"../src/models/plots/binary/TranslateComplexNet/06172020/histogram.png\">\n",
    "<img src=\"../src/models/plots/binary/TranslateComplexNet/06302020/val_cdf.png\">\n",
    "<img src=\"../src/models/plots/binary/TranslateComplexNet/06302020/train_cdf.png\">"
   ]
  },
  {
   "cell_type": "markdown",
   "metadata": {},
   "source": [
    "### Using biological features to encode molecules\n",
    "* Encode aptamers as a translation, encode peptides based off hydrophobicity, charge, polarity etc. \n",
    "* Normalize empirical measurements to a 0-1 range. \n",
    "<img src=\"../src/models/plots/binary/BioNet/07022020/loss.png\">\n",
    "<img src=\"../src/models/plots/binary/BioNet/07022020/accuracy.png\">\n",
    "<img src=\"../src/models/plots/binary/BioNet/07022020/histogram.png\">\n",
    "<img src=\"../src/models/plots/binary/BioNet/07022020/train_cdf.png\">\n",
    "<img src=\"../src/models/plots/binary/BioNet/07022020/val_cdf.png\">"
   ]
  },
  {
   "cell_type": "markdown",
   "metadata": {},
   "source": [
    "### Encoding using BLOSUM62 Matrix\n",
    "* This is another common way of encoding peptides (other than one-hot and direct translation). Previous research has shown that this encoding strategy is useful to predict secondary structure. \n",
    "* To encode an amino acid, use its row in the BLOSUM62 matrix.\n",
    "* This seems to get a high accuracy really fast: 70% within 3 epochs. It's worth it to experiment with architectures here. \n",
    "<img src=\"../src/models/plots/binary/BlosumNet/07012020/loss.png\">\n",
    "<img src=\"../src/models/plots/binary/BlosumNet/07012020/accuracy.png\">\n",
    "<img src=\"../src/models/plots/binary/BlosumNet/07012020/histogram.png\">\n",
    "<img src=\"../src/models/plots/binary/BlosumNet/07012020/val_cdf.png\">\n",
    "<img src=\"../src/models/plots/binary/BlosumNet/07012020/train_cdf.png\">"
   ]
  },
  {
   "cell_type": "markdown",
   "metadata": {},
   "source": [
    "## Publication\n",
    "* Luis and Karin suggest MLCB (used to be a workshop at NeurIPS, now its own conference). Last year the deadline was in October. \n",
    "* Contents of publication: introduce the dataset, create benchmark encoding strategies and neural networks"
   ]
  },
  {
   "cell_type": "markdown",
   "metadata": {},
   "source": [
    "## Next steps:\n",
    "* More architecture search\n",
    "* Generation/Active Search\n",
    "* Vary loss function? BCELoss currently"
   ]
  },
  {
   "cell_type": "code",
   "execution_count": null,
   "metadata": {},
   "outputs": [],
   "source": []
  }
 ],
 "metadata": {
  "kernelspec": {
   "display_name": "Python 3",
   "language": "python",
   "name": "python3"
  },
  "language_info": {
   "codemirror_mode": {
    "name": "ipython",
    "version": 3
   },
   "file_extension": ".py",
   "mimetype": "text/x-python",
   "name": "python",
   "nbconvert_exporter": "python",
   "pygments_lexer": "ipython3",
   "version": "3.8.3"
  }
 },
 "nbformat": 4,
 "nbformat_minor": 4
}

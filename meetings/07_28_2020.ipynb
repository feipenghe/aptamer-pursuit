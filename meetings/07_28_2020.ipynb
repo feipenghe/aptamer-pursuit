{
 "cells": [
  {
   "cell_type": "markdown",
   "metadata": {},
   "source": [
    "## Peptide Distribution\n",
    "* Understanding the bias: the original peptides were ordered from NNK, the binding ones are not NNK?\n",
    "* Is this systematic? \n",
    "* There doesn't seem to be a reason to change the distribution that the negative examples are generated from"
   ]
  },
  {
   "cell_type": "markdown",
   "metadata": {},
   "source": [
    "## Complex networks\n",
    "* Resnet architecture is working\n",
    "* It trains really slowly, we're yet to see super promising results\n",
    "* Early experiments overfit in under 1 epoch"
   ]
  },
  {
   "cell_type": "markdown",
   "metadata": {},
   "source": [
    "## False Positive Rate\n",
    "* It's still too high\n",
    "* Modifying the loss function to weight false positive examples higher. "
   ]
  },
  {
   "cell_type": "code",
   "execution_count": null,
   "metadata": {},
   "outputs": [],
   "source": []
  }
 ],
 "metadata": {
  "kernelspec": {
   "display_name": "Python 3",
   "language": "python",
   "name": "python3"
  },
  "language_info": {
   "codemirror_mode": {
    "name": "ipython",
    "version": 3
   },
   "file_extension": ".py",
   "mimetype": "text/x-python",
   "name": "python",
   "nbconvert_exporter": "python",
   "pygments_lexer": "ipython3",
   "version": "3.8.3"
  }
 },
 "nbformat": 4,
 "nbformat_minor": 4
}

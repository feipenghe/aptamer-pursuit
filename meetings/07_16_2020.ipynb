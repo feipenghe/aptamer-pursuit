{
 "cells": [
  {
   "cell_type": "markdown",
   "metadata": {},
   "source": [
    "## Frank Wolfe (SGD) Algorithm\n",
    "* Uses the weights from an existing model and a target peptide to find an optimal aptamer\n",
    "* Uses one hot encoded aptamer and BLOSUM-matrix encoded peptide\n",
    "* Next step was to use one hot encoded aptamers and peptides\n",
    "* I experimented with different number of iterations and step sizes\n",
    "* It's unclear whether the resulting aptamers \"make sense\""
   ]
  },
  {
   "cell_type": "markdown",
   "metadata": {},
   "source": [
    "* Peptide:MQNLIKEG, Found aptamer:AGCTTAATGAGAGGCAGCGGCCGCAGCCCCTCATAAAGCC\n",
    " (score: 0.6), Actual Aptamer: TTAATCTATGCTTTCCTTTTAGCTGAAGTGATATTTTTCT (score: 0.9)"
   ]
  },
  {
   "cell_type": "markdown",
   "metadata": {},
   "source": [
    "* Peptide: MVSGKRGV, Found aptamer: AGCTTAATGAGAGGCAGCGGCCGCAGCCCCTCATAAAGCC\n",
    "(score: 0.908), Actual Aptamer: ATACATGCCCTTTAAACCTGTATAATCGTCTAACGTATGC (score: 0.9619)"
   ]
  },
  {
   "cell_type": "markdown",
   "metadata": {},
   "source": [
    "* Peptide: MMFKYRAP, Found aptamer: AGCTTAATGAGAGGCAGCGGCCGCAGCCCCTCATAAAGCC (score: 0.2765), Actual Aptamer: GCAAAAAGTCTACTTCTCCGTAACGGTAGGATACAGATCG (score: 0.1870)"
   ]
  },
  {
   "cell_type": "markdown",
   "metadata": {},
   "source": [
    "## Benchmarking generalizations\n",
    "* Not done with implementing some of the more complex models, but it seems like Linear networks perform just as well as the most complex convolutional networks across all encoding strategies\n",
    "* 73-74% accuracy is around the highest we can get"
   ]
  },
  {
   "cell_type": "markdown",
   "metadata": {},
   "source": [
    "## Background distribution of dataset is not exactly NNK\n",
    "* We can adjust this to create a more appropriate negative dataset"
   ]
  },
  {
   "cell_type": "markdown",
   "metadata": {},
   "source": [
    "## New datasets\n",
    "* Experimental Replicate: A (good) model trained on our existing dataset and evaluated on this dataset gets us ~74% accuracy"
   ]
  },
  {
   "cell_type": "markdown",
   "metadata": {},
   "source": [
    "## Literature Search\n",
    "* Population based optimization: https://proceedings.icml.cc/static/paper_files/icml/2020/6338-Paper.pdf\n",
    "* Looks at a population of algorithms that proposes new aptamers to try\n",
    "* They use what appears to be a one hot encoding?"
   ]
  },
  {
   "cell_type": "markdown",
   "metadata": {},
   "source": [
    "# Summary\n",
    "* SGD Algorithm\n",
    "* Benchmarking generalizations\n",
    "* New datasets\n",
    "* Existing research"
   ]
  }
 ],
 "metadata": {
  "kernelspec": {
   "display_name": "Python 3",
   "language": "python",
   "name": "python3"
  },
  "language_info": {
   "codemirror_mode": {
    "name": "ipython",
    "version": 3
   },
   "file_extension": ".py",
   "mimetype": "text/x-python",
   "name": "python",
   "nbconvert_exporter": "python",
   "pygments_lexer": "ipython3",
   "version": "3.8.3"
  }
 },
 "nbformat": 4,
 "nbformat_minor": 4
}

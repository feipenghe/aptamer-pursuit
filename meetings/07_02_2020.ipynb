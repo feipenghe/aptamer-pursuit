{
 "cells": [
  {
   "cell_type": "markdown",
   "metadata": {},
   "source": [
    "## Control experiment\n",
    "* Use a dataset that is all generated, and assign random labels (equal chance of 1 or 0)\n",
    "* There is structure to our aptamer-peptide dataset, and a difference between that dataset and a generated one"
   ]
  },
  {
   "cell_type": "markdown",
   "metadata": {},
   "source": [
    "<img src=\"../src/models/plots/binary/SingleAlphabetComplexNet/06252020/loss.png\">\n",
    "<img src=\"../src/models/plots/binary/SingleAlphabetComplexNet/06252020/accuracy.png\">\n",
    "<img src=\"../src/models/plots/binary/SingleAlphabetComplexNet/06252020/histogram.png\">"
   ]
  },
  {
   "cell_type": "markdown",
   "metadata": {},
   "source": [
    "## Encoding w/ biological features\n",
    "* Hydrophobicity: using kd hydrophobicity (based on the side chains)\n",
    "* Polarity: Ranked based off of polarity (Ability to hydrogen bond off of side chains)\n",
    "* Charge: Ability to take on an H or remove an H \n",
    "* Volume: van der Waal's volume"
   ]
  },
  {
   "cell_type": "markdown",
   "metadata": {},
   "source": [
    "### Analysis\n",
    "* It's easy to get to approximatley 65% accuracy\n",
    "* I need simpler networks here: maybe it's because there is confounding information? Maybe because it's not sparse at all?\n",
    "* It converges fairly quickly, and training for even longer doesn't increase accuracy much. \n",
    "* Is it possible that some of these are confounding variables? Maybe hydrophobicity and polarity are similar"
   ]
  },
  {
   "cell_type": "markdown",
   "metadata": {},
   "source": [
    "<img src=\"../src/models/plots/binary/BioNet/06272020/loss.png\">\n",
    "<img src=\"../src/models/plots/binary/BioNet/06272020/accuracy.png\">\n",
    "<img src=\"../src/models/plots/binary/BioNet/06272020/histogram.png\">"
   ]
  },
  {
   "cell_type": "markdown",
   "metadata": {},
   "source": [
    "## Encoding with the BLOSUM62 Matrix\n",
    "* This is another common way of encoding peptides (other than one-hot and direct translation). Previous research has shown that this encoding strategy is useful to predict secondary structure. \n",
    "* To encode an amino acid, use its row in the BLOSUM62 matrix. "
   ]
  },
  {
   "cell_type": "markdown",
   "metadata": {},
   "source": [
    "### Analysis\n",
    "* This seems to get a high accuracy really fast: 70% within 3 epochs. It's worth it to experiment with architectures here. \n",
    "* Maybe encoding based off of attributes rather than features is more likely to have an effect?"
   ]
  },
  {
   "cell_type": "markdown",
   "metadata": {},
   "source": [
    "<img src=\"../src/models/plots/binary/BlosumNet/07012020/loss.png\">\n",
    "<img src=\"../src/models/plots/binary/BlosumNet/07012020/accuracy.png\">\n",
    "<img src=\"../src/models/plots/binary/BlosumNet/07012020/histogram.png\">"
   ]
  },
  {
   "cell_type": "markdown",
   "metadata": {},
   "source": [
    "## Publication\n",
    "* Luis and Karin suggest MLCB (used to be a workshop at NeurIPS, now its own conference). Last year the deadline was in October. \n",
    "* Contents of publication: introduce the dataset, create benchmark encoding strategies and neural networks"
   ]
  },
  {
   "cell_type": "code",
   "execution_count": null,
   "metadata": {},
   "outputs": [],
   "source": []
  }
 ],
 "metadata": {
  "kernelspec": {
   "display_name": "Python 3",
   "language": "python",
   "name": "python3"
  },
  "language_info": {
   "codemirror_mode": {
    "name": "ipython",
    "version": 3
   },
   "file_extension": ".py",
   "mimetype": "text/x-python",
   "name": "python",
   "nbconvert_exporter": "python",
   "pygments_lexer": "ipython3",
   "version": "3.8.3"
  }
 },
 "nbformat": 4,
 "nbformat_minor": 4
}

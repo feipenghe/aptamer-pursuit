{
 "cells": [
  {
   "cell_type": "markdown",
   "metadata": {},
   "source": [
    "## Summary\n",
    "* Encoding strategies\n",
    "* Benchmarking models\n",
    "* Planning for publication"
   ]
  },
  {
   "cell_type": "markdown",
   "metadata": {},
   "source": [
    "## Encoding Strategies\n",
    "* BLOSUM62: Comparing original features vs. matrix decomposition features\n",
    "* Translation isn't a robust strategy: it overweights certain characters\n",
    "* Bio Features but normalized"
   ]
  },
  {
   "cell_type": "markdown",
   "metadata": {},
   "source": [
    "## Benchmarking models\n",
    "* 5 encoding strategies\n",
    "* 7 models\n",
    "* https://docs.google.com/spreadsheets/d/1pv5hhnpqKiDg_M0C6w4v-XvFiBPO09R0AQTtJ5g6Gx8/edit#gid=0\n",
    "* The best models get us about 73% accuracy without overfitting"
   ]
  },
  {
   "cell_type": "markdown",
   "metadata": {},
   "source": [
    "## Plan for publication\n",
    "* New data: 5 datasets, one of them is an experimental replicate that we can use to assess the predictive power of our models\n",
    "* https://www.overleaf.com/project/5efe6424d44691000177840c\n",
    "* Meeting with Kevin later today"
   ]
  },
  {
   "cell_type": "code",
   "execution_count": null,
   "metadata": {},
   "outputs": [],
   "source": []
  }
 ],
 "metadata": {
  "kernelspec": {
   "display_name": "Python 3",
   "language": "python",
   "name": "python3"
  },
  "language_info": {
   "codemirror_mode": {
    "name": "ipython",
    "version": 3
   },
   "file_extension": ".py",
   "mimetype": "text/x-python",
   "name": "python",
   "nbconvert_exporter": "python",
   "pygments_lexer": "ipython3",
   "version": "3.8.3"
  }
 },
 "nbformat": 4,
 "nbformat_minor": 4
}

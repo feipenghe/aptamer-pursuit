{
 "cells": [
  {
   "cell_type": "markdown",
   "metadata": {},
   "source": [
    "## Hyperparameter search\n",
    "* It seems like with BlosumNet and BlosumLinearNet that the highest accuracy we can get is 73%. There also isn't a massive difference between the accuracy/performance on train/validation sets. \n",
    "\n",
    "<img src=\"../src/models/plots/binary/BlosumLinearNet/08122020/histogram.png\">\n",
    "\n",
    "* The best model we see for ResnetSeparated doesn't do as well. We can get the train set predictions to be fairly good, but the performance on the validation set isn't as good. Not sure why this is. \n",
    "\n",
    "<img src=\"../src/models/plots/binary/ResnetSeparated/08122020/histogram.png\">\n"
   ]
  },
  {
   "cell_type": "markdown",
   "metadata": {},
   "source": [
    "## Optimizing for performance on Frank Wolfe\n",
    "* It seems like the performance while training is not an indicator of how the model performs as an oracle for Frank Wolfe. The Resnet which performs consistenly worse than the BlosumLinearNet or BlosumNet performs way better for Frank Wolfe. \n",
    "* This may be because the Resnet has learned a more complex relationship between peptide and aptamer. A more tuned model might perform even better but it's unclear \n",
    "* ResnetSeparated (75 optimal, 25 unoptimal)\n",
    "<img src=\"Resnet_FW.png\">\n",
    "\n",
    "\n",
    "\n",
    "* BlosumLinearNet (7 optimal, 93 unoptimal)\n",
    "<img src=\"BLN_FW.png\">\n",
    "\n",
    "* BlosumNet (77 optimal, 23 unoptimal)\n",
    "<img src=\"BN_FW.png\">"
   ]
  },
  {
   "cell_type": "markdown",
   "metadata": {},
   "source": [
    "## Documenting performance on validation sets\n",
    "* We want to understand how our models perform on our validation sets\n",
    "* https://docs.google.com/spreadsheets/d/1kjpRQE29d6v0mmDcOtOkt-ZBpwMJNpmh0aUJVmxHTdE/edit?pli=1#gid=0\n",
    "* We perform significantly worse on datasets that don't have peptides. A lot of information is encoded in the peptide, and that seems to influence our predictions a lot. \n",
    "* Is there a way that we can encode additional information in the aptamer?"
   ]
  },
  {
   "cell_type": "markdown",
   "metadata": {},
   "source": [
    "## Onboarding Ashley and Jessica\n",
    "* Meeting with them to give them a tutorial about the project so far\n",
    "* I'll be available to answer questions and talk even after this week"
   ]
  },
  {
   "cell_type": "markdown",
   "metadata": {},
   "source": [
    "## MLCB\n",
    "* Deadline is September 30 for an extended 4 page abstract\n",
    "* Both novel research and research that builds on existing work\n",
    "* Introduce the dataset, look at our results with using neural networks and linear networks, propose the usage with Frank Wolfe?"
   ]
  },
  {
   "cell_type": "code",
   "execution_count": null,
   "metadata": {},
   "outputs": [],
   "source": []
  }
 ],
 "metadata": {
  "kernelspec": {
   "display_name": "Python 3",
   "language": "python",
   "name": "python3"
  },
  "language_info": {
   "codemirror_mode": {
    "name": "ipython",
    "version": 3
   },
   "file_extension": ".py",
   "mimetype": "text/x-python",
   "name": "python",
   "nbconvert_exporter": "python",
   "pygments_lexer": "ipython3",
   "version": "3.8.3"
  }
 },
 "nbformat": 4,
 "nbformat_minor": 4
}

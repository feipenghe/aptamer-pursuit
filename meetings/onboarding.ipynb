{
 "cells": [
  {
   "cell_type": "markdown",
   "metadata": {},
   "source": [
    "# Onboarding\n",
    "* This file is an overview of the Aptamer-Pursuit project and contains information and references"
   ]
  },
  {
   "cell_type": "markdown",
   "metadata": {},
   "source": [
    "## The overall problem"
   ]
  },
  {
   "cell_type": "markdown",
   "metadata": {},
   "source": [
    "### SELEX\n",
    "* Simplify this process to find a binding aptamer for a target peptide\n",
    "* Given a target peptide, generate a binding aptamer\n",
    "* We can simplify this to predicting binding affinity, and then based off this prediction, generate binding aptamers"
   ]
  },
  {
   "cell_type": "markdown",
   "metadata": {},
   "source": [
    "### Predicting binding afinity\n",
    "* Using neural networks\n",
    "* Encoding the peptide and aptamers in a particular way\n",
    "* The goal is to visualize these results appropriately, and score 1 for pairs in our dataset and 0 for pairs that are generated. "
   ]
  },
  {
   "cell_type": "markdown",
   "metadata": {},
   "source": [
    "## Resources\n",
    "* Github: https://github.com/uwmisl/aptamer-pursuit\n",
    "* Drive: https://drive.google.com/drive/folders/1brYVg6AL4PkiLBMWqw786Tb_yysaWbm6?usp=sharing"
   ]
  },
  {
   "cell_type": "markdown",
   "metadata": {},
   "source": [
    "## Ongoing work\n",
    "* Encoding and architecture search\n",
    "* Explainability\n",
    "* Generating aptamer-peptide pairs (Ledidi)\n",
    "* Publication in a Comp bio venue"
   ]
  },
  {
   "cell_type": "markdown",
   "metadata": {},
   "source": [
    "## Documentation/Best Practices\n",
    "* Comments in code\n",
    "* Use branches, notify others when merging\n",
    "* Keep track of experiments in a spreadsheet\n",
    "* Don't commit large files to master (saved models etc.)"
   ]
  },
  {
   "cell_type": "code",
   "execution_count": null,
   "metadata": {},
   "outputs": [],
   "source": []
  }
 ],
 "metadata": {
  "kernelspec": {
   "display_name": "Python 3",
   "language": "python",
   "name": "python3"
  },
  "language_info": {
   "codemirror_mode": {
    "name": "ipython",
    "version": 3
   },
   "file_extension": ".py",
   "mimetype": "text/x-python",
   "name": "python",
   "nbconvert_exporter": "python",
   "pygments_lexer": "ipython3",
   "version": "3.8.3"
  }
 },
 "nbformat": 4,
 "nbformat_minor": 4
}

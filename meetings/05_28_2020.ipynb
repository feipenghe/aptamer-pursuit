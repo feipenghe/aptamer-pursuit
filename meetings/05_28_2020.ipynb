{
 "cells": [
  {
   "cell_type": "markdown",
   "metadata": {},
   "source": [
    "## Summary\n",
    "* Thesis work : 1st draft, need to keep iterating on that. \n",
    "* Figuring out a presentation for defense (and practice presentation)\n",
    "* Re-doing alignments to train set\n",
    "* Re-doing MFE calculations with a \"background\" distribution\n",
    "* Training a model on completely random data\n",
    "* Binary Classifier + Trying to overfit"
   ]
  },
  {
   "cell_type": "markdown",
   "metadata": {},
   "source": [
    "## MFE\n",
    "* The background distribution seems to be right in the middle of the binding and non-binding distributions. \n",
    "* MFE might actually explain something that we can see in the binding structure"
   ]
  },
  {
   "cell_type": "markdown",
   "metadata": {},
   "source": [
    "<img src=\"mfe-background.png\">"
   ]
  },
  {
   "cell_type": "markdown",
   "metadata": {},
   "source": [
    "## Similarity to train set\n",
    "* Increasing the bin size to 30 for dataset, 20 for generated"
   ]
  },
  {
   "cell_type": "markdown",
   "metadata": {},
   "source": [
    "<img src=\"apt-binding-bins.png\">"
   ]
  },
  {
   "cell_type": "markdown",
   "metadata": {},
   "source": [
    "<img src=\"apt-free-bins.png\">"
   ]
  },
  {
   "cell_type": "markdown",
   "metadata": {},
   "source": [
    "<img src=\"pep-binding-bins.png\">"
   ]
  },
  {
   "cell_type": "markdown",
   "metadata": {},
   "source": [
    "<img src=\"pep-free-bins.png\">"
   ]
  },
  {
   "cell_type": "markdown",
   "metadata": {},
   "source": [
    "## Random Dataset\n",
    "* We don't use any of the data from the aptamer dataset. Everything is randomly generated\n",
    "* We are learning something. This converges in less than 1 epoch, and it generates the same score for everything. "
   ]
  },
  {
   "cell_type": "markdown",
   "metadata": {},
   "source": [
    "<img src=\"scores-random.png\">"
   ]
  },
  {
   "cell_type": "markdown",
   "metadata": {},
   "source": [
    "## Binary Classifier\n",
    "* We need to get higher recall and overfit. We haven't pushed our models far enough, and that's a red flag. \n",
    "* Binary Classifier has a very similar loss function, it's a little cleaner and more straightforward. \n",
    "* New alphabet encoding: 24 characters\n",
    "* Trying to push the accuracy up to 98+%"
   ]
  },
  {
   "cell_type": "markdown",
   "metadata": {},
   "source": [
    "<img src=\"overfitting.png\">"
   ]
  },
  {
   "cell_type": "markdown",
   "metadata": {},
   "source": [
    "## Questions\n",
    "1. Motivate this problem a little more --> for the purposes of thesis\n",
    "2. What are existing methods/what other directions should I look in for a literature search?\n",
    "3. Is a defense format different than a regular research presentation?"
   ]
  },
  {
   "cell_type": "code",
   "execution_count": null,
   "metadata": {},
   "outputs": [],
   "source": []
  }
 ],
 "metadata": {
  "kernelspec": {
   "display_name": "Python 3",
   "language": "python",
   "name": "python3"
  },
  "language_info": {
   "codemirror_mode": {
    "name": "ipython",
    "version": 3
   },
   "file_extension": ".py",
   "mimetype": "text/x-python",
   "name": "python",
   "nbconvert_exporter": "python",
   "pygments_lexer": "ipython3",
   "version": "3.8.3"
  }
 },
 "nbformat": 4,
 "nbformat_minor": 4
}

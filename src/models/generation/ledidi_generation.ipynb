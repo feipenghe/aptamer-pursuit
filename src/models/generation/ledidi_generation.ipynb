{
 "cells": [
  {
   "cell_type": "code",
   "execution_count": 1,
   "metadata": {},
   "outputs": [
    {
     "ename": "ModuleNotFoundError",
     "evalue": "No module named 'ledidi'",
     "output_type": "error",
     "traceback": [
      "\u001b[0;31m---------------------------------------------------------------------------\u001b[0m",
      "\u001b[0;31mModuleNotFoundError\u001b[0m                       Traceback (most recent call last)",
      "\u001b[0;32m<ipython-input-1-cb90b933d30f>\u001b[0m in \u001b[0;36m<module>\u001b[0;34m\u001b[0m\n\u001b[1;32m      2\u001b[0m \u001b[0;32mimport\u001b[0m \u001b[0mtensorflow\u001b[0m \u001b[0;32mas\u001b[0m \u001b[0mtf\u001b[0m\u001b[0;34m\u001b[0m\u001b[0;34m\u001b[0m\u001b[0m\n\u001b[1;32m      3\u001b[0m \u001b[0;34m\u001b[0m\u001b[0m\n\u001b[0;32m----> 4\u001b[0;31m \u001b[0;32mfrom\u001b[0m \u001b[0mledidi\u001b[0m \u001b[0;32mimport\u001b[0m \u001b[0mLedidi\u001b[0m\u001b[0;34m\u001b[0m\u001b[0;34m\u001b[0m\u001b[0m\n\u001b[0m\u001b[1;32m      5\u001b[0m \u001b[0;32mfrom\u001b[0m \u001b[0mledidi\u001b[0m \u001b[0;32mimport\u001b[0m \u001b[0mTensorFlowRegressor\u001b[0m\u001b[0;34m\u001b[0m\u001b[0;34m\u001b[0m\u001b[0m\n\u001b[1;32m      6\u001b[0m \u001b[0;34m\u001b[0m\u001b[0m\n",
      "\u001b[0;31mModuleNotFoundError\u001b[0m: No module named 'ledidi'"
     ]
    }
   ],
   "source": [
    "import numpy\n",
    "import tensorflow as tf\n",
    "\n",
    "from ledidi import Ledidi\n",
    "from ledidi import TensorFlowRegressor\n",
    "\n",
    "from tensorflow.keras.models import load_model\n",
    "from tensorflow.keras.utils import CustomObjectScope"
   ]
  },
  {
   "cell_type": "code",
   "execution_count": null,
   "metadata": {},
   "outputs": [],
   "source": [
    "# These two objects are necessary for the Basenji model\n",
    "class GELU(tf.keras.layers.Layer):\n",
    "    def __init__(self, **kwargs):\n",
    "        super(GELU, self).__init__()\n",
    "    \n",
    "    def call(self, x, training):\n",
    "        return tf.keras.activations.sigmoid(1.702 * x) * x\n",
    "\n",
    "class StochasticShift(tf.keras.layers.Layer):\n",
    "    def __init__(self, shift_max=0, pad='uniform', **kwargs):\n",
    "        super(StochasticShift, self).__init__()\n",
    "\n",
    "    def call(self, seq_1hot, training):\n",
    "        return seq_1hot\n",
    "\n",
    "custom_objects = {\n",
    "    'StochasticShift': StochasticShift, \n",
    "    'GELU': GELU\n",
    "}\n",
    "\n",
    "model = load_model(\"model_human.h5\", custom_objects)\n",
    "model.compile()\n",
    "regressor = TensorFlowRegressor(model=model)\n",
    "\n",
    "# Index 687 is CTCF signal in GM12878\n",
    "mask = numpy.zeros((1, 1024, 5313), dtype='float32')\n",
    "mask[:, :, 687] = 1.0\n",
    "\n",
    "mutator = Ledidi(regressor, mask=mask, l=1e2)\n",
    "\n",
    "sequence = numpy.load(\"CTCF/CTCF-seqs.npz\")['arr_0'].astype('float32')[0].reshape(1, 131072, 4)\n",
    "epi = model.predict(sequence)\n",
    "\n",
    "desired_epi = epi.copy()\n",
    "desired_epi[0, 487:537, 687] = 0.0\n",
    "\n",
    "edited_sequence = mutator.fit_transform(sequence, desired_epi)\n",
    "found_epi = model.predict(edited_sequence.astype('float32'))[0, :, 687]"
   ]
  }
 ],
 "metadata": {
  "kernelspec": {
   "display_name": "Python 3",
   "language": "python",
   "name": "python3"
  },
  "language_info": {
   "codemirror_mode": {
    "name": "ipython",
    "version": 3
   },
   "file_extension": ".py",
   "mimetype": "text/x-python",
   "name": "python",
   "nbconvert_exporter": "python",
   "pygments_lexer": "ipython3",
   "version": "3.8.3"
  }
 },
 "nbformat": 4,
 "nbformat_minor": 4
}

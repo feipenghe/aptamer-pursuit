{
 "cells": [
  {
   "cell_type": "code",
   "execution_count": 1,
   "metadata": {},
   "outputs": [],
   "source": [
    "import os, sys\n",
    "import numpy as np\n",
    "import seaborn as sns\n",
    "import matplotlib.pyplot as plt"
   ]
  },
  {
   "cell_type": "code",
   "execution_count": 2,
   "metadata": {},
   "outputs": [],
   "source": [
    "aa = [\"A\", \"C\", \"D\", \"E\", \"F\", \"G\", \"H\",  \"I\",  \"K\",  \"L\",  \"M\",  \"N\", \"P\", \"Q\", \"R\", \"S\", \"T\", \"V\",  \"W\", \"Y\"]"
   ]
  },
  {
   "cell_type": "markdown",
   "metadata": {},
   "source": [
    "## Old Dataset (Original Aptamer-Peptide Dataset)"
   ]
  },
  {
   "cell_type": "code",
   "execution_count": 3,
   "metadata": {},
   "outputs": [],
   "source": [
    "pos1 = \"0 \t0 \t0 \t0 \t0 \t0 \t0 \t0 \t0 \t0 \t770225 \t0 \t0 \t0 \t0 \t0 \t0 \t0 \t0 \t0 \"\n",
    "pos1 = pos1.strip().split()\n",
    "pos1 = [int(x) for x in pos1]"
   ]
  },
  {
   "cell_type": "code",
   "execution_count": 4,
   "metadata": {},
   "outputs": [],
   "source": [
    "pos2 = \"61636 \t28122 \t18576 \t32583 \t18059 \t84093 \t14563 \t16009 \t27209 \t67225 \t22518 \t13856 \t34188 \t22720 \t88940 \t77500 \t33710 \t54384 \t33775 \t20559\"\n",
    "pos2 = pos2.strip().split()\n",
    "pos2 = [int(x) for x in pos2]"
   ]
  },
  {
   "cell_type": "code",
   "execution_count": 5,
   "metadata": {},
   "outputs": [],
   "source": [
    "pos3 = \"61459 \t27347 \t18087 \t30214 \t17064 \t89076 \t15204 \t16206 \t23437 \t72245 \t24017 \t14233 \t38299 \t21127 \t89977 \t63308 \t32553 \t63685 \t36756 \t15931\"\n",
    "pos3 = pos3.strip().split()\n",
    "pos3 = [int(x) for x in pos3]\n"
   ]
  },
  {
   "cell_type": "code",
   "execution_count": 6,
   "metadata": {},
   "outputs": [],
   "source": [
    "pos4 = \"59092 \t27858 \t18296 \t30689 \t17154 \t94163 \t14887 \t16276 \t24225 \t70814 \t24490 \t13709 \t29486 \t21902 \t93981 \t61558 \t31086 \t66024 \t38257 \t16278\"\n",
    "pos4 = pos4.strip().split()\n",
    "pos4 = [int(x) for x in pos4]"
   ]
  },
  {
   "cell_type": "code",
   "execution_count": 7,
   "metadata": {},
   "outputs": [],
   "source": [
    "pos5 = \"59582 \t27510 \t19281 \t31811 \t19269 \t97660 \t14169 \t16880 \t24841 \t67425 \t24697 \t14079 \t27854 \t20813 \t92050 \t58315 \t29945 \t67610 \t40249 \t16185\"\n",
    "pos5 = pos5.strip().split()\n",
    "pos5 = [int(x) for x in pos5]"
   ]
  },
  {
   "cell_type": "code",
   "execution_count": 8,
   "metadata": {},
   "outputs": [],
   "source": [
    "pos6 = \"57913 \t28478 \t18489 \t30690 \t18718 \t97917 \t13646 \t17644 \t24730 \t69787 \t25452 \t13371 \t25891 \t19272 \t94086 \t56409 \t30045 \t69443 \t42400 \t15844\"\n",
    "pos6 = pos6.strip().split()\n",
    "pos6 = [int(x) for x in pos6]"
   ]
  },
  {
   "cell_type": "code",
   "execution_count": 9,
   "metadata": {},
   "outputs": [],
   "source": [
    "pos7 = \"59896 \t27823 \t18461 \t34207 \t17453 \t119165 \t11512 \t15886 \t19885 \t67148 \t22902 \t11665 \t25140 \t16679 \t94993 \t51579 \t28069 \t70805 \t42669 \t14288\"\n",
    "pos7 = pos7.strip().split()\n",
    "pos7 = [int(x) for x in pos7]"
   ]
  },
  {
   "cell_type": "code",
   "execution_count": 10,
   "metadata": {},
   "outputs": [],
   "source": [
    "pos8 = \"49851 \t28667 \t20977 \t31569 \t19241 \t125465 \t16030 \t18226 \t18901 \t61639 \t20567 \t12953 \t22937 \t18393 \t94320 \t56427 \t27511 \t71230 \t40769 \t14552\"\n",
    "pos8 = pos8.strip().split()\n",
    "pos8 = [int(x) for x in pos8]"
   ]
  },
  {
   "cell_type": "code",
   "execution_count": 11,
   "metadata": {},
   "outputs": [],
   "source": [
    "positions = [pos1, pos2, pos3, pos4, pos5, pos6, pos7, pos8]"
   ]
  },
  {
   "cell_type": "code",
   "execution_count": 12,
   "metadata": {},
   "outputs": [],
   "source": [
    "# Divide by total count to get percentages\n",
    "percentages = []\n",
    "for lst in positions:\n",
    "    lst = [x/float(770225) for x in lst]\n",
    "    percentages.append(lst)"
   ]
  },
  {
   "cell_type": "code",
   "execution_count": 13,
   "metadata": {},
   "outputs": [],
   "source": [
    "# Associate with amino acid in dictionary\n",
    "aa_percentages_by_position = {}\n",
    "for i, a in enumerate(aa):\n",
    "    pos_perc = []\n",
    "    for j in range(8):\n",
    "        pos_perc.append(percentages[j][i])\n",
    "    aa_percentages_by_position[a] = pos_perc"
   ]
  },
  {
   "cell_type": "code",
   "execution_count": 14,
   "metadata": {},
   "outputs": [],
   "source": [
    "# NNK Percentages from the original document\n",
    "nnk_percentages = [0.0625, 0.03125, 0.03125, 0.03125, 0.03125, 0.0625, 0.03125, 0.03125, 0.03125, 0.09375, 0.03125, 0.03125, 0.0625, 0.03125, 0.09375, 0.09375, 0.0625, 0.0625, 0.03125, 0.03125]"
   ]
  },
  {
   "cell_type": "code",
   "execution_count": 15,
   "metadata": {},
   "outputs": [
    {
     "data": {
      "text/plain": [
       "0.96875"
      ]
     },
     "execution_count": 15,
     "metadata": {},
     "output_type": "execute_result"
    }
   ],
   "source": [
    "sum(nnk_percentages)"
   ]
  },
  {
   "cell_type": "code",
   "execution_count": 16,
   "metadata": {},
   "outputs": [],
   "source": [
    "# Modify the NNK percentages to sum to 1 (not removing M)\n",
    "aa_list = ['R', 'L', 'S', 'A', 'G', 'P', 'T', 'V', 'N', 'D', 'C', 'Q', 'E', 'H', 'I', 'K', 'M', 'F', 'W', 'Y']\n",
    "NNK_freq = [0.09375]*3 + [0.0625]*5 + [0.03125]*13 #freq of 21 NNK codons including the stop codon\n",
    "sum_20 = 0.0625*5 + 0.09375*3 + 0.03125*12 #sum of freq without the stop codon\n",
    "pvals = [0.09375/sum_20]*3 + [0.0625/sum_20]*5 + [0.03125/sum_20]*12 #normalize freq for 20 codons\n",
    "pvals = [0.09375/sum_20]*3 + [0.0625/sum_20]*5 + [0.03125/sum_20]*11 + \\\n",
    "        [1- sum([0.09375/sum_20]*3 + [0.0625/sum_20]*5 + [0.03125/sum_20]*11)] \n",
    "new_nnk = {}\n",
    "for i in range(len(aa_list)):\n",
    "    new_nnk[aa_list[i]] = pvals[i]"
   ]
  },
  {
   "cell_type": "code",
   "execution_count": 17,
   "metadata": {},
   "outputs": [],
   "source": [
    "# Gather stats about the dataset percentages, not including the first position\n",
    "actual_average_percentages = []\n",
    "actual_std = []\n",
    "for a in aa_percentages_by_position.keys():\n",
    "    arr = np.asarray(aa_percentages_by_position[a][1:])\n",
    "    actual_average_percentages.append(sum(aa_percentages_by_position[a][1:])/7)\n",
    "    std = np.std(arr[1:])\n",
    "    actual_std.append(std)"
   ]
  },
  {
   "cell_type": "code",
   "execution_count": 18,
   "metadata": {},
   "outputs": [
    {
     "data": {
      "text/plain": [
       "1.0000000000000002"
      ]
     },
     "execution_count": 18,
     "metadata": {},
     "output_type": "execute_result"
    }
   ],
   "source": [
    "new_nnk_bar = []\n",
    "for i in range(len(aa)):\n",
    "    new_nnk_bar.append(new_nnk[aa[i]])\n",
    "sum(new_nnk_bar)"
   ]
  },
  {
   "cell_type": "code",
   "execution_count": 19,
   "metadata": {},
   "outputs": [
    {
     "name": "stdout",
     "output_type": "stream",
     "text": [
      "[0.07593866356305902, 0.03631684619058439, 0.024513616151124667, 0.041131394815058675, 0.023547479168888497, 0.13123048459865624, 0.01854949620472682, 0.02172407877104557, 0.030274641454491498, 0.08833837978698246, 0.03053708795667314, 0.01740975503447508, 0.03779878792375141, 0.02613447832961611, 0.12025187445227044, 0.07884449349216138, 0.03949105780778344, 0.0859082921038843, 0.05098231963758271, 0.021076772557184122]\n"
     ]
    },
    {
     "data": {
      "image/png": "[encoded data removed]",
      "text/plain": [
       "<Figure size 432x288 with 1 Axes>"
      ]
     },
     "metadata": {
      "needs_background": "light"
     },
     "output_type": "display_data"
    }
   ],
   "source": [
    "plt.bar(aa, actual_average_percentages, yerr=actual_std, label=\"Original Dataset\")\n",
    "plt.legend()\n",
    "print(str(actual_average_percentages))"
   ]
  },
  {
   "cell_type": "markdown",
   "metadata": {},
   "source": [
    "# Thoughts\n",
    "* The percentages vary (maybe significantly) and error bars are high\n",
    "* There arent' really three steps in the same way as the NNK distribution"
   ]
  },
  {
   "cell_type": "markdown",
   "metadata": {},
   "source": [
    "## New experimental replicate dataset"
   ]
  },
  {
   "cell_type": "code",
   "execution_count": 21,
   "metadata": {},
   "outputs": [
    {
     "data": {
      "image/png": "[encoded data removed]",
      "text/plain": [
       "<Figure size 432x288 with 1 Axes>"
      ]
     },
     "metadata": {
      "needs_background": "light"
     },
     "output_type": "display_data"
    }
   ],
   "source": [
    "pos1 = \"0 \t0 \t0 \t0 \t0 \t0 \t0 \t0 \t0 \t0 \t21616 \t0 \t0 \t0 \t0 \t0 \t0 \t0 \t0 \t0\"\n",
    "pos2 = \"1685 \t1158 \t408 \t527 \t754 \t1831 \t310 \t335 \t318 \t1914 \t479 \t184 \t1268 \t330 \t1900 \t3922 \t975 \t1368 \t893 \t1057\"\n",
    "pos3 = \"1719 \t739 \t392 \t371 \t641 \t1988 \t255 \t335 \t271 \t2649 \t641 \t356 \t1899 \t454 \t2335 \t2443 \t852 \t1685 \t1017 \t574\"\n",
    "pos4 = \"1950 \t927 \t501 \t681 \t422 \t2335 \t419 \t352 \t437 \t2072 \t625 \t218 \t987 \t536 \t2595 \t2349 \t756 \t1833 \t1086 \t535\"\n",
    "pos5 = \"1788 \t850 \t442 \t735 \t533 \t2582 \t382 \t274 \t450 \t1951 \t526 \t298 \t984 \t430 \t2517 \t1840 \t784 \t2291 \t1464 \t495\"\n",
    "pos6 = \"1685 \t841 \t454 \t631 \t376 \t3081 \t443 \t367 \t543 \t2243 \t614 \t305 \t754 \t513 \t2737 \t1533 \t744 \t2064 \t1358 \t330\"\n",
    "pos7 = \"1751 \t578 \t392 \t1037 \t337 \t4318 \t164 \t350 \t277 \t1584 \t500 \t178 \t928 \t280 \t2956 \t1416 \t786 \t1903 \t1584 \t297\"\n",
    "pos8 = \"1338 \t542 \t527 \t767 \t358 \t6075 \t551 \t306 \t277 \t1446 \t309 \t180 \t996 \t379 \t2336 \t1795 \t580 \t1253 \t1312 \t289\"\n",
    "raw_positions = [pos1, pos2, pos3, pos4, pos5, pos6, pos7, pos8]\n",
    "str_positions = [x.strip().split() for x in raw_positions]\n",
    "int_positions = [[int(x) for x in y] for y in str_positions]\n",
    "percentages = [[x/float(21616) for x in y] for y in int_positions]\n",
    "aa_percentages_by_position = {}\n",
    "for i, a in enumerate(aa):\n",
    "    pos_perc = []\n",
    "    for j in range(8):\n",
    "        pos_perc.append(percentages[j][i])\n",
    "    aa_percentages_by_position[a] = pos_perc\n",
    "# Get stats about the dataset without the first position\n",
    "actual_average_percentages = []\n",
    "actual_std = []\n",
    "for a in aa_percentages_by_position.keys():\n",
    "    arr = np.asarray(aa_percentages_by_position[a][1:])\n",
    "    actual_average_percentages.append(sum(aa_percentages_by_position[a][1:])/7)\n",
    "    std = np.std(arr[1:])\n",
    "    actual_std.append(std)\n",
    "plt.bar(aa, actual_average_percentages, yerr=actual_std, label=\"Experimental Replicate Dataset\")\n",
    "plt.legend()\n",
    "plt.show()"
   ]
  },
  {
   "cell_type": "markdown",
   "metadata": {},
   "source": [
    "## Combining the original dataset + experimental replicate"
   ]
  },
  {
   "cell_type": "code",
   "execution_count": 22,
   "metadata": {},
   "outputs": [
    {
     "data": {
      "image/png": "[encoded data removed]",
      "text/plain": [
       "<Figure size 432x288 with 1 Axes>"
      ]
     },
     "metadata": {
      "needs_background": "light"
     },
     "output_type": "display_data"
    }
   ],
   "source": [
    "pos1 = \"0 \t0 \t0 \t0 \t0 \t0 \t0 \t0 \t0 \t0 \t791841 \t0 \t0 \t0 \t0 \t0 \t0 \t0 \t0 \t0\"\n",
    "pos2 = \"63321 \t29280 \t18984 \t33110 \t18813 \t85924 \t14873 \t16344 \t27527 \t69139 \t22997 \t14040 \t35456 \t23050 \t90840 \t81422 \t34685 \t55752 \t34668 \t21616\"\n",
    "pos3 = \"63178 \t28086 \t18479 \t30585 \t17705 \t91064 \t15459 \t16541 \t23708 \t74894 \t24658 \t14589 \t40198 \t21581 \t92312 \t65751 \t33405 \t65370 \t37773 \t16505\"\n",
    "pos4 = \"61042 \t28785 \t18797 \t31370 \t17576 \t96498 \t15306 \t16628 \t24662 \t72886 \t25115 \t13927 \t30473 \t22438 \t96576 \t63907 \t31842 \t67857 \t39343 \t16813\"\n",
    "pos5 = \"61370 \t28360 \t19723 \t32546 \t19802 \t100242 \t14551 \t17154 \t25291 \t69376 \t25223 \t14377 \t28838 \t21243 \t94567 \t60155 \t30729 \t69901 \t41713 \t16680\"\n",
    "pos6 = \"59598 \t29319 \t18943 \t31321 \t19094 \t100998 \t14089 \t18011 \t25273 \t72030 \t26066 \t13676 \t26645 \t19785 \t96823 \t57942 \t30789 \t71507 \t43758 \t16174\"\n",
    "pos7 = \"61647 \t28401 \t18853 \t35244 \t17790 \t123483 \t11676 \t16236 \t20162 \t68732 \t23402 \t11843 \t26068 \t16959 \t97949 \t52995 \t28855 \t72708 \t44253 \t14585\"\n",
    "pos8 = \"51189 \t29209 \t21504 \t32336 \t19599 \t131540 \t16581 \t18532 \t19178 \t63085 \t20876 \t13133 \t23933 \t18772 \t96656 \t58222 \t28091 \t72483 \t42081 \t14841\"\n",
    "raw_positions = [pos1, pos2, pos3, pos4, pos5, pos6, pos7, pos8]\n",
    "str_positions = [x.strip().split() for x in raw_positions]\n",
    "int_positions = [[int(x) for x in y] for y in str_positions]\n",
    "percentages = [[x/float(791841) for x in y] for y in int_positions]\n",
    "aa_percentages_by_position = {}\n",
    "for i, a in enumerate(aa):\n",
    "    pos_perc = []\n",
    "    for j in range(8):\n",
    "        pos_perc.append(percentages[j][i])\n",
    "    aa_percentages_by_position[a] = pos_perc\n",
    "# Get stats about the dataset without the first position\n",
    "actual_average_percentages = []\n",
    "actual_std = []\n",
    "for a in aa_percentages_by_position.keys():\n",
    "    arr = np.asarray(aa_percentages_by_position[a][1:])\n",
    "    actual_average_percentages.append(sum(aa_percentages_by_position[a][1:])/7)\n",
    "    std = np.std(arr[1:])\n",
    "    actual_std.append(std)\n",
    "plt.bar(aa, actual_average_percentages, yerr=actual_std, label=\"Original + Experimental Replicate Dataset\")\n",
    "plt.legend()\n",
    "plt.show()"
   ]
  },
  {
   "cell_type": "code",
   "execution_count": 23,
   "metadata": {},
   "outputs": [],
   "source": [
    "# New frequency table\n",
    "new_freqs = [0.07593866356305902, 0.03631684619058439, 0.024513616151124667, 0.041131394815058675, 0.023547479168888497, 0.13123048459865624, 0.01854949620472682, 0.02172407877104557, 0.030274641454491498, 0.08833837978698246, 0.03053708795667314, 0.01740975503447508, 0.03779878792375141, 0.02613447832961611, 0.12025187445227044, 0.07884449349216138, 0.03949105780778344, 0.0859082921038843, 0.05098231963758271, 0.021076772557184122]"
   ]
  },
  {
   "cell_type": "markdown",
   "metadata": {},
   "source": [
    "## Peptides associated with the control aptamer "
   ]
  },
  {
   "cell_type": "code",
   "execution_count": 24,
   "metadata": {},
   "outputs": [
    {
     "data": {
      "image/png": "[encoded data removed]",
      "text/plain": [
       "<Figure size 432x288 with 1 Axes>"
      ]
     },
     "metadata": {
      "needs_background": "light"
     },
     "output_type": "display_data"
    }
   ],
   "source": [
    "pos1 = \"0 \t0 \t0 \t0 \t0 \t0 \t0 \t0 \t0 \t0 \t2960 \t0 \t0 \t0 \t0 \t0 \t0 \t0 \t0 \t0 \"\n",
    "pos2 = \"250 \t123 \t70 \t88 \t84 \t341 \t47 \t57 \t81 \t279 \t86 \t45 \t152 \t72 \t332 \t313 \t106 \t204 \t156 \t74 \"\n",
    "pos3 = \"259 \t117 \t77 \t108 \t65 \t295 \t69 \t58 \t83 \t279 \t84 \t44 \t151 \t77 \t325 \t258 \t123 \t269 \t144 \t75\"\n",
    "pos4 = \"255 \t126 \t72 \t112 \t68 \t338 \t52 \t71 \t80 \t282 \t99 \t61 \t116 \t69 \t335 \t251 \t104 \t260 \t159 \t50\"\n",
    "pos5 = \"253 \t123 \t83 \t99 \t60 \t361 \t50 \t57 \t96 \t278 \t103 \t42 \t106 \t72 \t364 \t229 \t126 \t241 \t157 \t60\"\n",
    "pos6 = \"220 \t125 \t86 \t98 \t70 \t352 \t49 \t69 \t90 \t256 \t105 \t60 \t88 \t55 \t362 \t217 \t125 \t290 \t182 \t61\"\n",
    "pos7 = \"236 \t98 \t77 \t143 \t52 \t461 \t39 \t50 \t77 \t263 \t79 \t36 \t110 \t66 \t387 \t183 \t105 \t272 \t169 \t57\"\n",
    "pos8 = \"190 \t105 \t90 \t111 \t45 \t471 \t72 \t53 \t70 \t230 \t81 \t47 \t108 \t69 \t411 \t210 \t120 \t246 \t160 \t71\"\n",
    "raw_positions = [pos1, pos2, pos3, pos4, pos5, pos6, pos7, pos8]\n",
    "str_positions = [x.strip().split() for x in raw_positions]\n",
    "int_positions = [[int(x) for x in y] for y in str_positions]\n",
    "percentages = [[x/float(791841) for x in y] for y in int_positions]\n",
    "aa_percentages_by_position = {}\n",
    "for i, a in enumerate(aa):\n",
    "    pos_perc = []\n",
    "    for j in range(8):\n",
    "        pos_perc.append(percentages[j][i])\n",
    "    aa_percentages_by_position[a] = pos_perc\n",
    "# Get stats about the dataset without the first position\n",
    "actual_average_percentages = []\n",
    "actual_std = []\n",
    "for a in aa_percentages_by_position.keys():\n",
    "    arr = np.asarray(aa_percentages_by_position[a][1:])\n",
    "    actual_average_percentages.append(sum(aa_percentages_by_position[a][1:])/7)\n",
    "    std = np.std(arr[1:])\n",
    "    actual_std.append(std)\n",
    "plt.bar(aa, actual_average_percentages, yerr=actual_std, label=\"Arginine Peptides\")\n",
    "plt.legend()\n",
    "plt.show()"
   ]
  },
  {
   "cell_type": "markdown",
   "metadata": {},
   "source": [
    "## No peptides displayed (negative control)"
   ]
  },
  {
   "cell_type": "code",
   "execution_count": 26,
   "metadata": {},
   "outputs": [
    {
     "data": {
      "image/png": "[encoded data removed]",
      "text/plain": [
       "<Figure size 432x288 with 1 Axes>"
      ]
     },
     "metadata": {
      "needs_background": "light"
     },
     "output_type": "display_data"
    }
   ],
   "source": [
    "pos1 = \"0 \t0 \t0 \t0 \t0 \t0 \t0 \t0 \t0 \t0 \t3169 \t0 \t0 \t0 \t0 \t0 \t0 \t0 \t0 \t0\"\n",
    "pos2 = \"311 \t50 \t97 \t86 \t40 \t307 \t23 \t69 \t101 \t251 \t94 \t111 \t205 \t125 \t398 \t294 \t178 \t250 \t125 \t54\"\n",
    "pos3 = \"207 \t122 \t36 \t160 \t148 \t360 \t61 \t122 \t27 \t242 \t124 \t62 \t118 \t99 \t337 \t244 \t158 \t278 \t226 \t38 \"\n",
    "pos4 = \"251 \t129 \t53 \t49 \t69 \t356 \t44 \t35 \t134 \t389 \t124 \t17 \t87 \t86 \t336 \t281 \t159 \t271 \t210 \t89\"\n",
    "pos5 = \"268 \t120 \t8 \t87 \t109 \t369 \t148 \t78 \t101 \t305 \t159 \t55 \t151 \t108 \t317 \t287 \t153 \t220 \t71 \t55\"\n",
    "pos6 = \"315 \t174 \t49 \t34 \t133 \t309 \t117 \t92 \t52 \t313 \t103 \t27 \t40 \t25 \t415 \t247 \t128 \t297 \t228 \t71\"\n",
    "pos7 = \"174 \t132 \t43 \t100 \t74 \t341 \t88 \t60 \t138 \t317 \t113 \t63 \t134 \t71 \t271 \t292 \t119 \t371 \t180 \t88\"\n",
    "pos8 = \"232 \t136 \t42 \t93 \t91 \t379 \t92 \t62 \t16 \t417 \t161 \t83 \t85 \t82 \t360 \t172 \t110 \t366 \t152 \t38\"\n",
    "\n",
    "raw_positions = [pos1, pos2, pos3, pos4, pos5, pos6, pos7, pos8]\n",
    "str_positions = [x.strip().split() for x in raw_positions]\n",
    "int_positions = [[int(x) for x in y] for y in str_positions]\n",
    "percentages = [[x/float(791841) for x in y] for y in int_positions]\n",
    "aa_percentages_by_position = {}\n",
    "for i, a in enumerate(aa):\n",
    "    pos_perc = []\n",
    "    for j in range(8):\n",
    "        pos_perc.append(percentages[j][i])\n",
    "    aa_percentages_by_position[a] = pos_perc\n",
    "# Get stats about the dataset without the first position\n",
    "actual_average_percentages = []\n",
    "actual_std = []\n",
    "for a in aa_percentages_by_position.keys():\n",
    "    arr = np.asarray(aa_percentages_by_position[a][1:])\n",
    "    actual_average_percentages.append(sum(aa_percentages_by_position[a][1:])/7)\n",
    "    std = np.std(arr[1:])\n",
    "    actual_std.append(std)\n",
    "plt.bar(aa, actual_average_percentages, yerr=actual_std, label=\"Negative control peptides\")\n",
    "plt.legend()\n",
    "plt.show()"
   ]
  },
  {
   "cell_type": "code",
   "execution_count": 38,
   "metadata": {},
   "outputs": [
    {
     "data": {
      "image/png": "[encoded data removed]",
      "text/plain": [
       "<Figure size 432x288 with 1 Axes>"
      ]
     },
     "metadata": {
      "needs_background": "light"
     },
     "output_type": "display_data"
    }
   ],
   "source": [
    "## Background distribution from experiment\n",
    "pos1 = \"0 \t0 \t0 \t0 \t0 \t0 \t0 \t0 \t0 \t0 \t8504 \t0 \t0 \t0 \t0 \t0 \t0 \t0 \t0 \t0\"\n",
    "pos2 = \"696 \t296 \t199 \t378 \t178 \t887 \t193 \t164 \t276 \t742 \t274 \t155 \t377 \t323 \t1068 \t669 \t400 \t636 \t425 \t168\"\n",
    "pos3 = \"662 \t306 \t205 \t337 \t179 \t1008 \t189 \t156 \t256 \t794 \t262 \t152 \t339 \t250 \t1037 \t683 \t380 \t733 \t399 \t177\"\n",
    "pos4 = \"637 \t305 \t227 \t317 \t191 \t936 \t176 \t196 \t256 \t783 \t301 \t148 \t356 \t249 \t1023 \t695 \t362 \t704 \t447 \t195\"\n",
    "pos5 = \"654 \t279 \t211 \t352 \t209 \t971 \t198 \t190 \t256 \t751 \t234 \t150 \t342 \t271 \t1014 \t682 \t368 \t739 \t442 \t191\"\n",
    "pos6 = \"645 \t314 \t208 \t371 \t192 \t1007 \t188 \t182 \t275 \t729 \t256 \t129 \t324 \t261 \t964 \t668 \t349 \t743 \t492 \t207\"\n",
    "pos7 = \"638 \t307 \t190 \t299 \t206 \t1000 \t167 \t201 \t237 \t786 \t223 \t150 \t310 \t250 \t1044 \t638 \t384 \t765 \t524 \t185\"\n",
    "pos8 = \"633 \t312 \t233 \t352 \t226 \t1035 \t191 \t219 \t240 \t798 \t240 \t168 \t296 \t275 \t897 \t656 \t334 \t774 \t448 \t177\"\n",
    "raw_positions = [pos1, pos2, pos3, pos4, pos5, pos6, pos7, pos8]\n",
    "str_positions = [x.strip().split() for x in raw_positions]\n",
    "int_positions = [[int(x) for x in y] for y in str_positions]\n",
    "percentages = [[x/float(8504) for x in y] for y in int_positions]\n",
    "aa_percentages_by_position = {}\n",
    "for i, a in enumerate(aa):\n",
    "    pos_perc = []\n",
    "    for j in range(8):\n",
    "        pos_perc.append(percentages[j][i])\n",
    "    aa_percentages_by_position[a] = pos_perc\n",
    "# Get stats about the dataset without the first position\n",
    "actual_average_percentages = []\n",
    "actual_std = []\n",
    "for a in aa_percentages_by_position.keys():\n",
    "    arr = np.asarray(aa_percentages_by_position[a][1:])\n",
    "    actual_average_percentages.append(sum(aa_percentages_by_position[a][1:])/7)\n",
    "    std = np.std(arr[1:])\n",
    "    actual_std.append(std)\n",
    "plt.bar(aa, actual_average_percentages, yerr=actual_std, label=\"Empirical Distribution\")\n",
    "plt.legend()\n",
    "plt.show()"
   ]
  },
  {
   "cell_type": "code",
   "execution_count": 20,
   "metadata": {},
   "outputs": [
    {
     "data": {
      "text/plain": [
       "<matplotlib.legend.Legend at 0x7f860baa78e0>"
      ]
     },
     "execution_count": 20,
     "metadata": {},
     "output_type": "execute_result"
    },
    {
     "data": {
      "image/png": "[encoded data removed]",
      "text/plain": [
       "<Figure size 432x288 with 1 Axes>"
      ]
     },
     "metadata": {
      "needs_background": "light"
     },
     "output_type": "display_data"
    }
   ],
   "source": [
    "plt.bar(aa, new_nnk_bar, label='NNK Distribution')\n",
    "plt.legend()"
   ]
  },
  {
   "cell_type": "code",
   "execution_count": 35,
   "metadata": {},
   "outputs": [
    {
     "name": "stdout",
     "output_type": "stream",
     "text": [
      "[0.07668660126327106, 0.035596693992742914, 0.02474465797607849, 0.04041795457599785, 0.02319916677865878, 0.1149711060341352, 0.02187206020696143, 0.021972853111140975, 0.030170675984410696, 0.0904280338664158, 0.030069883080231154, 0.017672355866147026, 0.03937642789947588, 0.03156497782556108, 0.1183812659588765, 0.07880325225104153, 0.043290552345114905, 0.08557317564843435, 0.053369842763069476, 0.02183846257223492]\n"
     ]
    }
   ],
   "source": [
    "new_nnk = actual_average_percentages\n",
    "print(str(new_nnk))"
   ]
  },
  {
   "cell_type": "code",
   "execution_count": 37,
   "metadata": {},
   "outputs": [
    {
     "name": "stdout",
     "output_type": "stream",
     "text": [
      "Diff:  -0.012170472231013002\n",
      "Diff:  -0.003338629476613883\n",
      "Diff:  0.007513406540050543\n",
      "Diff:  -0.008159890059868821\n",
      "Diff:  0.009058897737470251\n",
      "Diff:  -0.050454977001877135\n",
      "Diff:  0.010386004309167602\n",
      "Diff:  0.010285211404988056\n",
      "Diff:  0.002087388531718335\n",
      "Diff:  0.006346159681971289\n",
      "Diff:  0.0021881814358978777\n",
      "Diff:  0.014585708649982005\n",
      "Diff:  0.02513970113278218\n",
      "Diff:  0.0006930866905679525\n",
      "Diff:  -0.02160707241048941\n",
      "Diff:  0.01797094129734557\n",
      "Diff:  0.021225576687143158\n",
      "Diff:  -0.021057046616176286\n",
      "Diff:  -0.021111778246940445\n",
      "Diff:  0.010419601943894529\n"
     ]
    }
   ],
   "source": [
    "for i in range(len(new_nnk_bar)):\n",
    "    diff = new_nnk_bar[i] - new_nnk[i]\n",
    "    print(\"Diff: \", diff)"
   ]
  },
  {
   "cell_type": "markdown",
   "metadata": {},
   "source": [
    "## Why do we have biases?\n",
    "* Molecule generation bias --> could be inaccurate\n",
    "* The baseline may not be super close to NNK. Future experiments will tell us this. "
   ]
  },
  {
   "cell_type": "code",
   "execution_count": null,
   "metadata": {},
   "outputs": [],
   "source": []
  }
 ],
 "metadata": {
  "kernelspec": {
   "display_name": "Python 3",
   "language": "python",
   "name": "python3"
  },
  "language_info": {
   "codemirror_mode": {
    "name": "ipython",
    "version": 3
   },
   "file_extension": ".py",
   "mimetype": "text/x-python",
   "name": "python",
   "nbconvert_exporter": "python",
   "pygments_lexer": "ipython3",
   "version": "3.8.3"
  }
 },
 "nbformat": 4,
 "nbformat_minor": 4
}

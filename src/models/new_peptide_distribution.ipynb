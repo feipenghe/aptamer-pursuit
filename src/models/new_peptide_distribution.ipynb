{
 "cells": [
  {
   "cell_type": "code",
   "execution_count": 41,
   "metadata": {},
   "outputs": [],
   "source": [
    "import os, sys\n",
    "import numpy as np\n",
    "import seaborn as sns\n",
    "import matplotlib.pyplot as plt"
   ]
  },
  {
   "cell_type": "code",
   "execution_count": 7,
   "metadata": {},
   "outputs": [
    {
     "data": {
      "text/plain": [
       "20"
      ]
     },
     "execution_count": 7,
     "metadata": {},
     "output_type": "execute_result"
    }
   ],
   "source": [
    "aa = [\"A\", \"C\", \"D\", \"E\", \"F\", \"G\", \"H\",  \"I\",  \"K\",  \"L\",  \"M\",  \"N\", \"P\", \"Q\", \"R\", \"S\", \"T\", \"V\",  \"W\", \"Y\"]"
   ]
  },
  {
   "cell_type": "code",
   "execution_count": 10,
   "metadata": {},
   "outputs": [
    {
     "data": {
      "text/plain": [
       "[0, 0, 0, 0, 0, 0, 0, 0, 0, 0, 770225, 0, 0, 0, 0, 0, 0, 0, 0, 0]"
      ]
     },
     "execution_count": 10,
     "metadata": {},
     "output_type": "execute_result"
    }
   ],
   "source": [
    "pos1 = \"0 \t0 \t0 \t0 \t0 \t0 \t0 \t0 \t0 \t0 \t770225 \t0 \t0 \t0 \t0 \t0 \t0 \t0 \t0 \t0 \"\n",
    "pos1 = pos1.strip().split()\n",
    "pos1 = [int(x) for x in pos1]\n",
    "pos1"
   ]
  },
  {
   "cell_type": "code",
   "execution_count": 11,
   "metadata": {},
   "outputs": [],
   "source": [
    "pos2 = \"61636 \t28122 \t18576 \t32583 \t18059 \t84093 \t14563 \t16009 \t27209 \t67225 \t22518 \t13856 \t34188 \t22720 \t88940 \t77500 \t33710 \t54384 \t33775 \t20559\"\n",
    "pos2 = pos2.strip().split()\n",
    "pos2 = [int(x) for x in pos2]"
   ]
  },
  {
   "cell_type": "code",
   "execution_count": 12,
   "metadata": {},
   "outputs": [],
   "source": [
    "pos3 = \"61459 \t27347 \t18087 \t30214 \t17064 \t89076 \t15204 \t16206 \t23437 \t72245 \t24017 \t14233 \t38299 \t21127 \t89977 \t63308 \t32553 \t63685 \t36756 \t15931\"\n",
    "pos3 = pos3.strip().split()\n",
    "pos3 = [int(x) for x in pos3]\n"
   ]
  },
  {
   "cell_type": "code",
   "execution_count": 13,
   "metadata": {},
   "outputs": [],
   "source": [
    "pos4 = \"59092 \t27858 \t18296 \t30689 \t17154 \t94163 \t14887 \t16276 \t24225 \t70814 \t24490 \t13709 \t29486 \t21902 \t93981 \t61558 \t31086 \t66024 \t38257 \t16278\"\n",
    "pos4 = pos4.strip().split()\n",
    "pos4 = [int(x) for x in pos4]"
   ]
  },
  {
   "cell_type": "code",
   "execution_count": 14,
   "metadata": {},
   "outputs": [],
   "source": [
    "pos5 = \"59582 \t27510 \t19281 \t31811 \t19269 \t97660 \t14169 \t16880 \t24841 \t67425 \t24697 \t14079 \t27854 \t20813 \t92050 \t58315 \t29945 \t67610 \t40249 \t16185\"\n",
    "pos5 = pos5.strip().split()\n",
    "pos5 = [int(x) for x in pos5]"
   ]
  },
  {
   "cell_type": "code",
   "execution_count": 15,
   "metadata": {},
   "outputs": [],
   "source": [
    "pos6 = \"57913 \t28478 \t18489 \t30690 \t18718 \t97917 \t13646 \t17644 \t24730 \t69787 \t25452 \t13371 \t25891 \t19272 \t94086 \t56409 \t30045 \t69443 \t42400 \t15844\"\n",
    "pos6 = pos6.strip().split()\n",
    "pos6 = [int(x) for x in pos6]"
   ]
  },
  {
   "cell_type": "code",
   "execution_count": 16,
   "metadata": {},
   "outputs": [],
   "source": [
    "pos7 = \"59896 \t27823 \t18461 \t34207 \t17453 \t119165 \t11512 \t15886 \t19885 \t67148 \t22902 \t11665 \t25140 \t16679 \t94993 \t51579 \t28069 \t70805 \t42669 \t14288\"\n",
    "pos7 = pos7.strip().split()\n",
    "pos7 = [int(x) for x in pos7]"
   ]
  },
  {
   "cell_type": "code",
   "execution_count": 17,
   "metadata": {},
   "outputs": [],
   "source": [
    "pos8 = \"49851 \t28667 \t20977 \t31569 \t19241 \t125465 \t16030 \t18226 \t18901 \t61639 \t20567 \t12953 \t22937 \t18393 \t94320 \t56427 \t27511 \t71230 \t40769 \t14552\"\n",
    "pos8 = pos8.strip().split()\n",
    "pos8 = [int(x) for x in pos8]"
   ]
  },
  {
   "cell_type": "code",
   "execution_count": 18,
   "metadata": {},
   "outputs": [],
   "source": [
    "positions = [pos1, pos2, pos3, pos4, pos5, pos6, pos7, pos8]"
   ]
  },
  {
   "cell_type": "code",
   "execution_count": 23,
   "metadata": {},
   "outputs": [
    {
     "data": {
      "text/plain": [
       "[[0.0,\n",
       "  0.0,\n",
       "  0.0,\n",
       "  0.0,\n",
       "  0.0,\n",
       "  0.0,\n",
       "  0.0,\n",
       "  0.0,\n",
       "  0.0,\n",
       "  0.0,\n",
       "  1.0,\n",
       "  0.0,\n",
       "  0.0,\n",
       "  0.0,\n",
       "  0.0,\n",
       "  0.0,\n",
       "  0.0,\n",
       "  0.0,\n",
       "  0.0,\n",
       "  0.0],\n",
       " [0.08002336979454056,\n",
       "  0.03651140900386251,\n",
       "  0.024117627965854132,\n",
       "  0.04230322308416372,\n",
       "  0.023446395533772597,\n",
       "  0.10917978512772242,\n",
       "  0.018907462105228992,\n",
       "  0.020784835599987016,\n",
       "  0.035326041091888735,\n",
       "  0.08727969099938329,\n",
       "  0.02923561297023597,\n",
       "  0.017989548508552694,\n",
       "  0.044387029764029994,\n",
       "  0.02949787399785777,\n",
       "  0.11547275146872667,\n",
       "  0.1006199487162842,\n",
       "  0.043766431886786326,\n",
       "  0.0706079392385342,\n",
       "  0.043850822811516116,\n",
       "  0.02669220033107209],\n",
       " [0.07979356681489175,\n",
       "  0.035505209516699665,\n",
       "  0.023482748547502354,\n",
       "  0.03922749845824272,\n",
       "  0.022154565224447403,\n",
       "  0.11564932324969976,\n",
       "  0.019739686455256582,\n",
       "  0.021040605018014216,\n",
       "  0.030428770813723263,\n",
       "  0.09379726703236067,\n",
       "  0.031181797526696746,\n",
       "  0.018479015871985457,\n",
       "  0.04972443117270927,\n",
       "  0.027429647181018535,\n",
       "  0.1168191112986465,\n",
       "  0.08219416404297446,\n",
       "  0.042264273426596125,\n",
       "  0.08268363140640722,\n",
       "  0.04772112045181603,\n",
       "  0.02068356649031127],\n",
       " [0.0767204388328086,\n",
       "  0.03616865201726768,\n",
       "  0.02375409782855659,\n",
       "  0.039844201369729625,\n",
       "  0.022271414197150185,\n",
       "  0.12225388685124476,\n",
       "  0.019328118406959006,\n",
       "  0.021131487552338603,\n",
       "  0.03145184848583206,\n",
       "  0.09193936836638644,\n",
       "  0.031795903794345805,\n",
       "  0.017798695186471484,\n",
       "  0.03828232010126911,\n",
       "  0.028435846668181376,\n",
       "  0.12201759226200136,\n",
       "  0.07992210068486481,\n",
       "  0.040359635171540786,\n",
       "  0.08572040637476062,\n",
       "  0.04966990165211464,\n",
       "  0.02113408419617644],\n",
       " [0.0773566165730793,\n",
       "  0.035716835989483595,\n",
       "  0.02503294491869259,\n",
       "  0.04130091856275764,\n",
       "  0.025017365055665552,\n",
       "  0.1267941186017073,\n",
       "  0.01839592326917459,\n",
       "  0.02191567399136616,\n",
       "  0.03225161478788666,\n",
       "  0.08753935538316726,\n",
       "  0.032064656431562207,\n",
       "  0.01827907429647181,\n",
       "  0.036163458729592,\n",
       "  0.027021974098477716,\n",
       "  0.11951053263656723,\n",
       "  0.07571164270180791,\n",
       "  0.038878249862053293,\n",
       "  0.08777954493816742,\n",
       "  0.05225615891460288,\n",
       "  0.021013340257716902],\n",
       " [0.07518971729040215,\n",
       "  0.036973611606997955,\n",
       "  0.02400467395890811,\n",
       "  0.039845499691648543,\n",
       "  0.024301989678340744,\n",
       "  0.12712778733486968,\n",
       "  0.01771690090557954,\n",
       "  0.022907591937420882,\n",
       "  0.03210750105488656,\n",
       "  0.09060599175565581,\n",
       "  0.03304488948034665,\n",
       "  0.017359862377876595,\n",
       "  0.03361485280275244,\n",
       "  0.025021260021422312,\n",
       "  0.12215391606348794,\n",
       "  0.07323704112434679,\n",
       "  0.03900808205394528,\n",
       "  0.0901593690155474,\n",
       "  0.05504884936219936,\n",
       "  0.02057061248336525],\n",
       " [0.07776428965562011,\n",
       "  0.03612321075010549,\n",
       "  0.023968320945178357,\n",
       "  0.044411697880489466,\n",
       "  0.022659612450907203,\n",
       "  0.1547145314680775,\n",
       "  0.014946281930604693,\n",
       "  0.02062514200395988,\n",
       "  0.025817131357720145,\n",
       "  0.08717972021162647,\n",
       "  0.02973416858710117,\n",
       "  0.015144925184199421,\n",
       "  0.03263981304164368,\n",
       "  0.02165471128566328,\n",
       "  0.12333149404394819,\n",
       "  0.06696614625596417,\n",
       "  0.03644259794215976,\n",
       "  0.09192768346911617,\n",
       "  0.055398097958388785,\n",
       "  0.018550423577526048],\n",
       " [0.06472264598007076,\n",
       "  0.037218994449673796,\n",
       "  0.027234898893180565,\n",
       "  0.04098672465837905,\n",
       "  0.0249810120419358,\n",
       "  0.16289395955727223,\n",
       "  0.020812100360284334,\n",
       "  0.023663215294232206,\n",
       "  0.02453958258950307,\n",
       "  0.08002726476029731,\n",
       "  0.026702586906423447,\n",
       "  0.01681716381576812,\n",
       "  0.029779609854263363,\n",
       "  0.02388003505469181,\n",
       "  0.12245772339251518,\n",
       "  0.07326041091888734,\n",
       "  0.035718134311402513,\n",
       "  0.09247947028465708,\n",
       "  0.05293128631244117,\n",
       "  0.018893180564120874]]"
      ]
     },
     "execution_count": 23,
     "metadata": {},
     "output_type": "execute_result"
    }
   ],
   "source": [
    "# Divide by total count to get percentages\n",
    "percentages = []\n",
    "for lst in positions:\n",
    "    lst = [x/float(770225) for x in lst]\n",
    "    percentages.append(lst)\n",
    "percentages"
   ]
  },
  {
   "cell_type": "code",
   "execution_count": 27,
   "metadata": {},
   "outputs": [],
   "source": [
    "# Associate with amino acid in dictionary\n",
    "aa_percentages_by_position = {}\n",
    "for i, a in enumerate(aa):\n",
    "    pos_perc = []\n",
    "    for j in range(8):\n",
    "        pos_perc.append(percentages[j][i])\n",
    "    aa_percentages_by_position[a] = pos_perc"
   ]
  },
  {
   "cell_type": "code",
   "execution_count": 28,
   "metadata": {},
   "outputs": [
    {
     "data": {
      "text/plain": [
       "[0.0,\n",
       " 0.11547275146872667,\n",
       " 0.1168191112986465,\n",
       " 0.12201759226200136,\n",
       " 0.11951053263656723,\n",
       " 0.12215391606348794,\n",
       " 0.12333149404394819,\n",
       " 0.12245772339251518]"
      ]
     },
     "execution_count": 28,
     "metadata": {},
     "output_type": "execute_result"
    }
   ],
   "source": [
    "# Evaluate the individual percentages of amino acids\n",
    "aa_percentages_by_position['R']"
   ]
  },
  {
   "cell_type": "code",
   "execution_count": 29,
   "metadata": {},
   "outputs": [
    {
     "data": {
      "text/plain": [
       "['A',\n",
       " 'C',\n",
       " 'D',\n",
       " 'E',\n",
       " 'F',\n",
       " 'G',\n",
       " 'H',\n",
       " 'I',\n",
       " 'K',\n",
       " 'L',\n",
       " 'M',\n",
       " 'N',\n",
       " 'P',\n",
       " 'Q',\n",
       " 'R',\n",
       " 'S',\n",
       " 'T',\n",
       " 'V',\n",
       " 'W',\n",
       " 'Y']"
      ]
     },
     "execution_count": 29,
     "metadata": {},
     "output_type": "execute_result"
    }
   ],
   "source": [
    "aa"
   ]
  },
  {
   "cell_type": "code",
   "execution_count": 30,
   "metadata": {},
   "outputs": [],
   "source": [
    "nnk_percentages = [0.0625, 0.03125, 0.03125, 0.03125, 0.03125, 0.0625, 0.03125, 0.03125, 0.03125, 0.09375, 0.03125, 0.03125, 0.0625, 0.03125, 0.09375, 0.09375, 0.0625, 0.0625, 0.03125, 0.03125]"
   ]
  },
  {
   "cell_type": "code",
   "execution_count": 47,
   "metadata": {},
   "outputs": [],
   "source": [
    "actual_average_percentages = []\n",
    "actual_std = []\n",
    "for a in aa_percentages_by_position.keys():\n",
    "    arr = np.asarray(aa_percentages_by_position[a])\n",
    "    actual_average_percentages.append(sum(aa_percentages_by_position[a])/8)\n",
    "    std = np.std(arr)\n",
    "    actual_std.append(std)"
   ]
  },
  {
   "cell_type": "code",
   "execution_count": 36,
   "metadata": {},
   "outputs": [
    {
     "data": {
      "text/plain": [
       "20"
      ]
     },
     "execution_count": 36,
     "metadata": {},
     "output_type": "execute_result"
    }
   ],
   "source": [
    "len(nnk_percentages)"
   ]
  },
  {
   "cell_type": "code",
   "execution_count": 35,
   "metadata": {},
   "outputs": [
    {
     "data": {
      "text/plain": [
       "20"
      ]
     },
     "execution_count": 35,
     "metadata": {},
     "output_type": "execute_result"
    }
   ],
   "source": [
    "len(actual_average_percentages)"
   ]
  },
  {
   "cell_type": "code",
   "execution_count": 45,
   "metadata": {},
   "outputs": [
    {
     "data": {
      "text/plain": [
       "<matplotlib.legend.Legend at 0x7f6180009b50>"
      ]
     },
     "execution_count": 45,
     "metadata": {},
     "output_type": "execute_result"
    },
    {
     "data": {
      "image/png": "[encoded data removed]",
      "text/plain": [
       "<Figure size 432x288 with 1 Axes>"
      ]
     },
     "metadata": {
      "needs_background": "light"
     },
     "output_type": "display_data"
    }
   ],
   "source": [
    "plt.bar(aa, nnk_percentages, label='NNK Distribution')\n",
    "plt.legend()"
   ]
  },
  {
   "cell_type": "code",
   "execution_count": 49,
   "metadata": {},
   "outputs": [
    {
     "data": {
      "text/plain": [
       "<matplotlib.legend.Legend at 0x7f617fdd6940>"
      ]
     },
     "execution_count": 49,
     "metadata": {},
     "output_type": "execute_result"
    },
    {
     "data": {
      "image/png": "[encoded data removed]",
      "text/plain": [
       "<Figure size 432x288 with 1 Axes>"
      ]
     },
     "metadata": {
      "needs_background": "light"
     },
     "output_type": "display_data"
    }
   ],
   "source": [
    "plt.bar(aa, actual_average_percentages, yerr=actual_std, label=\"Average Percentages in Dataset\")\n",
    "plt.legend()"
   ]
  },
  {
   "cell_type": "code",
   "execution_count": null,
   "metadata": {},
   "outputs": [],
   "source": []
  }
 ],
 "metadata": {
  "kernelspec": {
   "display_name": "Python 3",
   "language": "python",
   "name": "python3"
  },
  "language_info": {
   "codemirror_mode": {
    "name": "ipython",
    "version": 3
   },
   "file_extension": ".py",
   "mimetype": "text/x-python",
   "name": "python",
   "nbconvert_exporter": "python",
   "pygments_lexer": "ipython3",
   "version": "3.8.3"
  }
 },
 "nbformat": 4,
 "nbformat_minor": 4
}

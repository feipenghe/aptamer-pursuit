{
 "cells": [
  {
   "cell_type": "markdown",
   "metadata": {},
   "source": [
    "# Small Neural Network that takes as input both the aptamer features and the peptide features to predict affinity."
   ]
  },
  {
   "cell_type": "markdown",
   "metadata": {},
   "source": [
    "## Generate features for both aptamers and peptides + construct training/test sets"
   ]
  },
  {
   "cell_type": "code",
   "execution_count": 1,
   "metadata": {},
   "outputs": [],
   "source": [
    "import json\n",
    "import random\n",
    "import numpy as np\n",
    "from sklearn import linear_model, metrics\n",
    "from sklearn.svm import SVC\n",
    "from scipy import stats\n",
    "import random\n",
    "import re\n"
   ]
  },
  {
   "cell_type": "code",
   "execution_count": 2,
   "metadata": {},
   "outputs": [],
   "source": [
    "# Hardcoded values \n",
    "d = 150\n",
    "samples = 1000\n",
    "k_apt = 4\n",
    "k_pep = 4"
   ]
  },
  {
   "cell_type": "code",
   "execution_count": 3,
   "metadata": {},
   "outputs": [],
   "source": [
    "'''\n",
    "Function to classify binding affinity of a sample. \n",
    "'''\n",
    "def classify_affinity(affinity):\n",
    "    if float(affinity) <= 9:\n",
    "        return 0\n",
    "    elif float(affinity) <= 50:\n",
    "        return 1\n",
    "    elif float(affinity) <= 400:\n",
    "        return 2\n",
    "    return 3"
   ]
  },
  {
   "cell_type": "code",
   "execution_count": 4,
   "metadata": {},
   "outputs": [],
   "source": [
    "dataset_file = \"../data/mhcflurry_dataset.json\"\n",
    "'''\n",
    "Constructs a dataset that has 10,000 pairs for every class of binding affinity. \n",
    "'''\n",
    "def construct_dataset():\n",
    "    with open(dataset_file, 'r') as f:\n",
    "        mhcflurry_data = json.load(f)\n",
    "    \n",
    "    # Full dataset. The index of the list corresponds to the binding affinity class\n",
    "    full_dataset = [[], [], [], []]\n",
    "    for allele in mhcflurry_data:\n",
    "        peptides = mhcflurry_data[allele]\n",
    "        for p, b in peptides:\n",
    "            affinity_class = classify_affinity(b)\n",
    "            full_dataset[affinity_class].append((allele, p))\n",
    "    \n",
    "    subsampled_dataset = [[], [], [], []]\n",
    "    \n",
    "    for i in range(len(full_dataset)):\n",
    "        full_class = np.asarray(full_dataset[i])\n",
    "        # Sample the hardcoded number of samples pairs randomly\n",
    "        subsampled_dataset[i] = np.copy(full_class[np.random.choice(full_class.shape[0], samples, replace=False), :])\n",
    "    \n",
    "    subsampled_dataset = np.asarray(subsampled_dataset)    \n",
    "    return subsampled_dataset"
   ]
  },
  {
   "cell_type": "code",
   "execution_count": 5,
   "metadata": {},
   "outputs": [],
   "source": [
    "subsampled_dataset = construct_dataset()"
   ]
  },
  {
   "cell_type": "code",
   "execution_count": 6,
   "metadata": {},
   "outputs": [],
   "source": [
    "'''\n",
    "Extracts features from the subsampled dataset\n",
    "'''\n",
    "def extract_features(dataset):\n",
    "    # Number of features\n",
    "    aptamer_features = [[], [], [], []]\n",
    "    peptide_features = [[], [], [], []]\n",
    "    \n",
    "    for i in range(dataset.shape[0]):\n",
    "        flattened = dataset[i].flatten('F')\n",
    "        all_aptamers = flattened[:samples]\n",
    "        all_peptides = flattened[samples:]\n",
    "        \n",
    "        split = int(0.8*len(all_aptamers))\n",
    "        all_aptamers = all_aptamers[:split]\n",
    "        all_peptides = all_peptides[:split]\n",
    "        \n",
    "        # Generate the aptamer features randomly\n",
    "        for j in range(d):\n",
    "            # Find a random aptamer\n",
    "            apt = random.choice(all_aptamers)\n",
    "\n",
    "            # Find a random subsection of k elements from this sequence\n",
    "            start = random.randint(0, len(apt)-k_apt)\n",
    "            aptamer_features[i].append(apt[start:start+k_apt])\n",
    "    \n",
    "        # Generate the peptide features randomly\n",
    "        for j in range(d):\n",
    "            # Find a random aptamer\n",
    "            pep = random.choice(all_peptides)\n",
    "\n",
    "            # Find a random subsection of k elements from this sequence\n",
    "            start = random.randint(0, len(pep)-k_pep)\n",
    "            peptide_features[i].append(pep[start:start+k_pep])\n",
    "    \n",
    "    \n",
    "    return aptamer_features, peptide_features, split\n",
    "  "
   ]
  },
  {
   "cell_type": "code",
   "execution_count": 7,
   "metadata": {},
   "outputs": [],
   "source": [
    "aptamer_features, peptide_features, split = extract_features(subsampled_dataset)"
   ]
  },
  {
   "cell_type": "code",
   "execution_count": 8,
   "metadata": {},
   "outputs": [],
   "source": [
    "'''\n",
    "Generates training and testing sets. Training is the first 8000 samples, test is the last 2000 samples. \n",
    "'''\n",
    "def construct_train_test_sets(aptamer_features, peptide_features):\n",
    "    train_pairs = [[], [], [], []]\n",
    "    test_pairs = [[], [], [], []]\n",
    "    \n",
    "    for c in range(len(subsampled_dataset)):\n",
    "        train_pairs[c] = subsampled_dataset[c][:split]\n",
    "        test_pairs[c] = subsampled_dataset[c][split:]\n",
    "    \n",
    "    train_pairs = np.asarray(train_pairs)\n",
    "    test_pairs = np.asarray(test_pairs)\n",
    "    \n",
    "    train_aptamers = [[], [], [], []]\n",
    "    test_aptamers = [[], [], [], []]\n",
    "    \n",
    "    train_peptides = [[], [], [], []]\n",
    "    test_peptides = [[], [], [], []]\n",
    "    \n",
    "    # Make a 0/1 matrix for the training aptamers/peptides\n",
    "    for i in range(len(train_aptamers)):\n",
    "        pairs = train_pairs[i]\n",
    "        apt_features = aptamer_features[i]\n",
    "        pep_features = peptide_features[i]\n",
    "        \n",
    "        for j in range(len(pairs)):\n",
    "            a, p = pairs[j]\n",
    "            matrix_aptamer = []\n",
    "            matrix_peptide = []\n",
    "            \n",
    "            for k in range(len(apt_features)):\n",
    "                feat = apt_features[k]\n",
    "                if feat in a:\n",
    "                    matrix_aptamer.append(1)\n",
    "                else:\n",
    "                    matrix_aptamer.append(0)\n",
    "            train_aptamers[i].append(matrix_aptamer)\n",
    "            \n",
    "            for k in range(len(pep_features)):\n",
    "                feat = pep_features[k]\n",
    "                if feat in p:\n",
    "                    matrix_peptide.append(1)\n",
    "                else:\n",
    "                    matrix_peptide.append(0)\n",
    "            train_peptides[i].append(matrix_peptide)\n",
    "                \n",
    "    train_aptamers = np.asarray(train_aptamers)\n",
    "    train_peptides = np.asarray(train_peptides)\n",
    "    print(\"Train Aptamers Shape: \", train_aptamers.shape)\n",
    "    print(\"Train Peptides Shape: \", train_peptides.shape)\n",
    "    \n",
    "    # Make a 0/1 matrix for the testing aptamers/peptides\n",
    "    for i in range(len(test_aptamers)):\n",
    "        pairs = test_pairs[i]\n",
    "        apt_features = aptamer_features[i]\n",
    "        pep_features = peptide_features[i]\n",
    "        \n",
    "        for j in range(len(pairs)):\n",
    "            a, p = pairs[j]\n",
    "            matrix_aptamer = []\n",
    "            matrix_peptide = []\n",
    "            \n",
    "            for k in range(len(apt_features)):\n",
    "                feat = apt_features[k]\n",
    "                if feat in a:\n",
    "                    matrix_aptamer.append(1)\n",
    "                else:\n",
    "                    matrix_aptamer.append(0)\n",
    "            test_aptamers[i].append(matrix_aptamer)\n",
    "            \n",
    "            for k in range(len(pep_features)):\n",
    "                feat = pep_features[k]\n",
    "                if feat in p:\n",
    "                    matrix_peptide.append(1)\n",
    "                else:\n",
    "                    matrix_peptide.append(0)\n",
    "            test_peptides[i].append(matrix_peptide)\n",
    "                \n",
    "    test_aptamers = np.asarray(test_aptamers)\n",
    "    test_peptides = np.asarray(test_peptides)\n",
    "    print(\"Test Aptamers Shape: \", test_aptamers.shape)\n",
    "    print(\"Test Peptides Shape: \", test_peptides.shape)\n",
    "    \n",
    "    return train_aptamers, train_peptides, test_aptamers, test_peptides\n",
    "    \n",
    "    \n",
    "    "
   ]
  },
  {
   "cell_type": "code",
   "execution_count": 9,
   "metadata": {},
   "outputs": [
    {
     "name": "stdout",
     "output_type": "stream",
     "text": [
      "Train Aptamers Shape:  (4, 800, 150)\n",
      "Train Peptides Shape:  (4, 800, 150)\n",
      "Test Aptamers Shape:  (4, 200, 150)\n",
      "Test Peptides Shape:  (4, 200, 150)\n"
     ]
    }
   ],
   "source": [
    "train_aptamers, train_peptides, test_aptamers, test_peptides = construct_train_test_sets(aptamer_features, peptide_features)"
   ]
  },
  {
   "cell_type": "markdown",
   "metadata": {},
   "source": [
    "## Construct a Pytorch DataLoader"
   ]
  },
  {
   "cell_type": "code",
   "execution_count": 13,
   "metadata": {},
   "outputs": [],
   "source": [
    "import os\n",
    "import pandas as pd\n",
    "from torch.utils.data import Dataset, DataLoader\n",
    "from torchvision import transforms, utils"
   ]
  },
  {
   "cell_type": "code",
   "execution_count": 14,
   "metadata": {},
   "outputs": [],
   "source": [
    "class AptamerPeptideDataset(Dataset):\n",
    "    '''\n",
    "    @param: peptides = n*m\n",
    "    @param: aptamers = n*m\n",
    "    @param: affinities = n*1\n",
    "    '''\n",
    "    def __init__(self, peptides, aptamers, affinities):\n",
    "        self.peptides = peptides\n",
    "        self.aptamers = aptamers\n",
    "        self.affinities = affinities\n",
    "    \n",
    "    def __len__(self):\n",
    "        return peptides.shape[0]\n",
    "    \n",
    "    def __getitem__(self, idx):\n",
    "        if torch.is_tensor(idx):\n",
    "            idx = idx.tolist()\n",
    "        \n",
    "        pep = self.peptides[idx]\n",
    "        apt = self.aptamers[idx]\n",
    "        aff_class = self.affinities[idx]\n",
    "        \n",
    "        sample = {'peptide': pep, 'aptamer': apt, 'affinity': aff_class}\n",
    "        \n",
    "        return sample\n",
    "        \n",
    "        "
   ]
  },
  {
   "cell_type": "code",
   "execution_count": 22,
   "metadata": {},
   "outputs": [
    {
     "name": "stdout",
     "output_type": "stream",
     "text": [
      "Aptamers Shape:  (4000, 150)\n",
      "Peptides Shape:  (4000, 150)\n",
      "Affinities Shape:  (0,)\n"
     ]
    }
   ],
   "source": [
    "# Reshape the dataset to fit the dataset class\n",
    "all_aptamers = []\n",
    "for i in range(len(train_aptamers)):\n",
    "    all_aptamers.extend(train_aptamers[i])\n",
    "    all_aptamers.extend(test_aptamers[i])\n",
    "\n",
    "# n * m \n",
    "all_aptamers = np.array(all_aptamers)\n",
    "print(\"Aptamers Shape: \", all_aptamers.shape)\n",
    "\n",
    "all_peptides = []\n",
    "for i in range(len(train_peptides)):\n",
    "    all_peptides.extend(train_peptides[i])\n",
    "    all_peptides.extend(test_peptides[i])\n",
    "\n",
    "# n * m \n",
    "all_peptides = np.array(all_peptides)\n",
    "print(\"Peptides Shape: \", all_peptides.shape)\n",
    "\n",
    "# n * 1\n",
    "affinity_classes = np.repeat(np.array([[0, 1], [2, 3]]), 000)\n",
    "\n",
    "print(\"Affinities Shape: \", affinity_classes.shape)"
   ]
  },
  {
   "cell_type": "code",
   "execution_count": 23,
   "metadata": {},
   "outputs": [],
   "source": [
    "dataset = AptamerPeptideDataset(all_peptides, all_aptamers, affinity_classes)"
   ]
  },
  {
   "cell_type": "code",
   "execution_count": null,
   "metadata": {},
   "outputs": [],
   "source": [
    "import torch\n",
    "import torch.nn as nn\n",
    "import torch.nn.functional as F\n",
    "from torch.optim import Adam"
   ]
  },
  {
   "cell_type": "markdown",
   "metadata": {},
   "source": [
    "## Construct a small neural network"
   ]
  },
  {
   "cell_type": "code",
   "execution_count": null,
   "metadata": {},
   "outputs": [],
   "source": [
    "# Define the network\n",
    "class SmallNN(nn.Module):\n",
    "    def __init__(self):\n",
    "        super(SmallNN, self).__init__()\n",
    "        self.conv_apt = nn.Conv2d(in_channels=4, out_channels=2, kernel_size=3)\n",
    "        self.conv_pep = nn.Conv2d(in_channels=4, out_channels=2, kernel_size=3)\n",
    "        self.maxpool = nn.MaxPool2d(2, 2)\n",
    "        \n",
    "        #self.fc1 = nn.Linear()\n",
    "        #self.fc2 = nn.Linear()\n",
    "       \n",
    "    def forward(self, apt, pep):\n",
    "        apt = self.conv_apt(apt)\n",
    "        apt = self.maxpool(apt)\n",
    "        \n",
    "        pep = self.conv_pep(pep)\n",
    "        pep = self.maxpool(pep)\n",
    "        \n",
    "        \n",
    "        return apt, pep  "
   ]
  },
  {
   "cell_type": "code",
   "execution_count": null,
   "metadata": {},
   "outputs": [],
   "source": [
    "model = SmallNN()\n",
    "optimizier = Adam(model.parameters(), lr=0.001)\n",
    "loss_fn = nn.CrossEntropyLoss()"
   ]
  },
  {
   "cell_type": "code",
   "execution_count": null,
   "metadata": {},
   "outputs": [],
   "source": [
    "for epoch in range(10):\n",
    "    model.train()\n",
    "    "
   ]
  }
 ],
 "metadata": {
  "kernelspec": {
   "display_name": "Python 3",
   "language": "python",
   "name": "python3"
  },
  "language_info": {
   "codemirror_mode": {
    "name": "ipython",
    "version": 3
   },
   "file_extension": ".py",
   "mimetype": "text/x-python",
   "name": "python",
   "nbconvert_exporter": "python",
   "pygments_lexer": "ipython3",
   "version": "3.7.5"
  },
  "toc": {
   "base_numbering": 1,
   "nav_menu": {},
   "number_sections": true,
   "sideBar": true,
   "skip_h1_title": false,
   "title_cell": "Table of Contents",
   "title_sidebar": "Contents",
   "toc_cell": false,
   "toc_position": {},
   "toc_section_display": true,
   "toc_window_display": false
  }
 },
 "nbformat": 4,
 "nbformat_minor": 2
}

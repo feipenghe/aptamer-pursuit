{
 "cells": [
  {
   "cell_type": "markdown",
   "metadata": {},
   "source": [
    "# Small Neural Network that takes as input both the aptamer features and the peptide features to predict affinity."
   ]
  },
  {
   "cell_type": "markdown",
   "metadata": {},
   "source": [
    "## Generate features for both aptamers and peptides"
   ]
  },
  {
   "cell_type": "code",
   "execution_count": 1,
   "metadata": {},
   "outputs": [],
   "source": [
    "import json\n",
    "import random\n",
    "import numpy as np\n",
    "from sklearn import linear_model, metrics\n",
    "from sklearn.svm import SVC\n",
    "from scipy import stats\n",
    "import random\n",
    "import re\n"
   ]
  },
  {
   "cell_type": "code",
   "execution_count": 2,
   "metadata": {},
   "outputs": [],
   "source": [
    "'''\n",
    "Function to classify binding affinity of a sample. \n",
    "'''\n",
    "def classify_affinity(affinity):\n",
    "    if float(affinity) <= 9:\n",
    "        return 0\n",
    "    elif float(affinity) <= 50:\n",
    "        return 1\n",
    "    elif float(affinity) <= 400:\n",
    "        return 2\n",
    "    return 3"
   ]
  },
  {
   "cell_type": "code",
   "execution_count": 21,
   "metadata": {},
   "outputs": [],
   "source": [
    "dataset_file = \"../data/mhcflurry_dataset.json\"\n",
    "'''\n",
    "Constructs a dataset that has 10,000 pairs for every class of binding affinity. \n",
    "'''\n",
    "def construct_dataset():\n",
    "    with open(dataset_file, 'r') as f:\n",
    "        mhcflurry_data = json.load(f)\n",
    "    \n",
    "    # Full dataset. The index of the list corresponds to the binding affinity class\n",
    "    full_dataset = [[], [], [], []]\n",
    "    for allele in mhcflurry_data:\n",
    "        peptides = mhcflurry_data[allele]\n",
    "        for p, b in peptides:\n",
    "            affinity_class = classify_affinity(b)\n",
    "            full_dataset[affinity_class].append((allele, p))\n",
    "    \n",
    "    subsampled_dataset = [[], [], [], []]\n",
    "    \n",
    "    for i in range(len(full_dataset)):\n",
    "        full_class = np.asarray(full_dataset[i])\n",
    "        # Sample 10,000 pairs randomly\n",
    "        subsampled_dataset[i] = np.copy(full_class[np.random.choice(full_class.shape[0], 10000, replace=False), :])\n",
    "    \n",
    "    subsampled_dataset = np.asarray(subsampled_dataset)    \n",
    "    return subsampled_dataset"
   ]
  },
  {
   "cell_type": "code",
   "execution_count": 22,
   "metadata": {},
   "outputs": [],
   "source": [
    "subsampled_dataset = construct_dataset()"
   ]
  },
  {
   "cell_type": "code",
   "execution_count": 38,
   "metadata": {},
   "outputs": [],
   "source": [
    "'''\n",
    "Extracts features from the subsampled dataset\n",
    "'''\n",
    "def extract_features(dataset):\n",
    "    # Number of features\n",
    "    d = 1000\n",
    "    k_apt = 4\n",
    "    k_pep = 4\n",
    "    aptamer_features = [[], [], [], []]\n",
    "    peptide_features = [[], [], [], []]\n",
    "    \n",
    "    for i in range(dataset.shape[0]):\n",
    "        flattened = dataset[i].flatten('F')\n",
    "        all_aptamers = flattened[:10000]\n",
    "        all_peptides = flattened[10000:]\n",
    "        \n",
    "        # Generate the aptamer features randomly\n",
    "        for j in range(d):\n",
    "            # Find a random aptamer\n",
    "            apt = random.choice(all_aptamers)\n",
    "\n",
    "            # Find a random subsection of k elements from this sequence\n",
    "            start = random.randint(0, len(apt)-k_apt)\n",
    "            aptamer_features[i].append(apt[start:start+k_apt])\n",
    "    \n",
    "        # Generate the peptide features randomly\n",
    "        for j in range(d):\n",
    "            # Find a random aptamer\n",
    "            pep = random.choice(all_peptides)\n",
    "\n",
    "            # Find a random subsection of k elements from this sequence\n",
    "            start = random.randint(0, len(pep)-k_pep)\n",
    "            peptide_features[i].append(pep[start:start+k_pep])\n",
    "    \n",
    "    \n",
    "    return aptamer_features, peptide_features\n",
    "  "
   ]
  },
  {
   "cell_type": "code",
   "execution_count": 39,
   "metadata": {},
   "outputs": [],
   "source": [
    "aptamer_features, peptide_features = extract_features(subsampled_dataset)"
   ]
  },
  {
   "cell_type": "code",
   "execution_count": null,
   "metadata": {},
   "outputs": [],
   "source": []
  }
 ],
 "metadata": {
  "kernelspec": {
   "display_name": "Python 3",
   "language": "python",
   "name": "python3"
  },
  "language_info": {
   "codemirror_mode": {
    "name": "ipython",
    "version": 3
   },
   "file_extension": ".py",
   "mimetype": "text/x-python",
   "name": "python",
   "nbconvert_exporter": "python",
   "pygments_lexer": "ipython3",
   "version": "3.6.8"
  },
  "toc": {
   "base_numbering": 1,
   "nav_menu": {},
   "number_sections": true,
   "sideBar": true,
   "skip_h1_title": false,
   "title_cell": "Table of Contents",
   "title_sidebar": "Contents",
   "toc_cell": false,
   "toc_position": {},
   "toc_section_display": true,
   "toc_window_display": false
  }
 },
 "nbformat": 4,
 "nbformat_minor": 2
}

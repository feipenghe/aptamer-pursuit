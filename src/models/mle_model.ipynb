{
 "cells": [
  {
   "cell_type": "code",
   "execution_count": 1,
   "metadata": {},
   "outputs": [],
   "source": [
    "import os, sys\n",
    "import numpy as np\n",
    "import json\n",
    "import random\n",
    "import torch\n",
    "import torch.nn as nn\n",
    "import torch.nn.functional as F\n",
    "from torch.optim import SGD, Adam\n",
    "import tqdm\n",
    "import matplotlib.pyplot as plt\n",
    "import seaborn as sns\n",
    "import datetime\n",
    "import seaborn as sns"
   ]
  },
  {
   "cell_type": "markdown",
   "metadata": {},
   "source": [
    "## Preliminary"
   ]
  },
  {
   "cell_type": "code",
   "execution_count": 2,
   "metadata": {},
   "outputs": [],
   "source": [
    "NUM_ITER = 1\n",
    "k = 5000 #use for taking expectation in computing loss"
   ]
  },
  {
   "cell_type": "code",
   "execution_count": 3,
   "metadata": {},
   "outputs": [],
   "source": [
    "torch.manual_seed(12345)\n",
    "device = torch.device(\"cuda:0\" if torch.cuda.is_available() else 'cpu')\n",
    "na_list = ['A', 'C', 'G', 'T'] #nucleic acids\n",
    "aa_list = ['R', 'L', 'S', 'A', 'G', 'P', 'T', 'V', 'N', 'D', 'C', 'Q', 'E', 'H', 'I', 'K', 'M', 'F', 'W', 'Y'] #amino acids\n",
    "NNK_freq = [0.09375]*3 + [0.0625]*5 + [0.03125]*13 #freq of 21 NNK codons including the stop codon\n",
    "sum_20 = 0.0625*5 + 0.09375*3 + 0.03125*12 #sum of freq without the stop codon\n",
    "pvals = [0.09375/sum_20]*3 + [0.0625/sum_20]*5 + [0.03125/sum_20]*12 #normalize freq for 20 codons\n",
    "pvals = [0.09375/sum_20]*3 + [0.0625/sum_20]*5 + [0.03125/sum_20]*11 + \\\n",
    "        [1- sum([0.09375/sum_20]*3 + [0.0625/sum_20]*5 + [0.03125/sum_20]*11)] \n",
    "        #adjust sum to 1 due to numerical issue\n",
    "aa_dict = dict(zip(aa_list, pvals))"
   ]
  },
  {
   "cell_type": "markdown",
   "metadata": {},
   "source": [
    "## Dataset & Sampling"
   ]
  },
  {
   "cell_type": "code",
   "execution_count": 4,
   "metadata": {},
   "outputs": [],
   "source": [
    "def construct_dataset():\n",
    "    with open(aptamer_dataset_file, 'r') as f:\n",
    "        aptamer_data = json.load(f)\n",
    "    ds = []\n",
    "    for aptamer in aptamer_data:\n",
    "        peptides = aptamer_data[aptamer]\n",
    "        if aptamer == \"CTTTGTAATTGGTTCTGAGTTCCGTTGTGGGAGGAACATG\": #took out aptamer control\n",
    "            continue\n",
    "        for peptide, _ in peptides:\n",
    "            peptide = peptide.replace(\"_\", \"\") #removed stop codons\n",
    "            if \"RRRRRR\" in peptide: #took out peptide control\n",
    "                continue\n",
    "            if len(aptamer) == 40 and len(peptide) == 8: #making sure right length\n",
    "                ds.append((aptamer, peptide))\n",
    "    ds = list(set(ds)) #removed duplicates\n",
    "    return ds\n",
    "\n",
    "# Sample x from P_X (assume apatamers follow uniform)\n",
    "def get_x():\n",
    "    x_idx = np.random.randint(0, 4, 40)\n",
    "    x = \"\"\n",
    "    for i in x_idx:\n",
    "        x += na_list[i]\n",
    "    return x\n",
    "\n",
    "# Sample y from P_y (assume peptides follow NNK)\n",
    "def get_y():\n",
    "    y_idx = np.random.choice(20, 7, p=pvals)\n",
    "    y = \"M\"\n",
    "    for i in y_idx:\n",
    "        y += aa_list[i]\n",
    "    return y\n",
    "\n",
    "# S'(train/test) contains S_train/S_test with double the size of S_train/S_test\n",
    "def get_S_prime(kind=\"train\"):\n",
    "    if kind == \"train\":\n",
    "        dset = S_train\n",
    "    else:\n",
    "        dset = S_test\n",
    "    k = len(dset)\n",
    "    S_prime_dict = dict.fromkeys(dset, 0) #indicator 0 means in S\n",
    "    for _ in range(k):\n",
    "        pair = (get_x(), get_y())\n",
    "        S_prime_dict[pair] = 1 #indicator 1 means not in S\n",
    "    S_prime = [[k,int(v)] for k,v in S_prime_dict.items()] \n",
    "    np.random.shuffle(S_prime)\n",
    "    return S_prime\n",
    "\n",
    "# S new contains unseen new examples\n",
    "def get_S_new(k):\n",
    "    S_new = []\n",
    "    for i in range(k):\n",
    "        pair = (get_x(), get_y())\n",
    "        S_new.append(pair)\n",
    "    np.random.shuffle(S_new)\n",
    "    S_new_train = S_new[:int(0.8*k)]\n",
    "    S_new_test = S_new[int(0.8*k):]\n",
    "    return S_new, S_new_train, S_new_test\n",
    "    \n",
    "# Returns pmf of an aptamer\n",
    "def get_x_pmf():\n",
    "    return 0.25**40\n",
    "\n",
    "# Returns pmf of a peptide\n",
    "def get_y_pmf(y):\n",
    "    pmf = 1\n",
    "    for char in y[1:]: #skips first char \"M\"\n",
    "        pmf *= aa_dict[char]\n",
    "    return pmf    "
   ]
  },
  {
   "cell_type": "code",
   "execution_count": 5,
   "metadata": {},
   "outputs": [],
   "source": [
    "aptamer_dataset_file = \"../data/aptamer_dataset.json\"\n",
    "S = construct_dataset()\n",
    "n = len(S)\n",
    "m = int(0.8*n) #length of S_train\n",
    "S_train = S[:m]\n",
    "S_test = S[m:]\n",
    "S_prime_train = get_S_prime(\"train\") #use for sgd \n",
    "S_prime_test = get_S_prime(\"test\") #use for sgd \n",
    "S_new, S_new_train, S_new_test = get_S_new(10*n) #use for eval\n",
    "train_ds = np.hstack((S_train, S_prime_train[:len(S_prime_train)//2]))\n",
    "train_loader = torch.utils.data.DataLoader(train_ds)"
   ]
  },
  {
   "cell_type": "markdown",
   "metadata": {},
   "source": [
    "## NN Model"
   ]
  },
  {
   "cell_type": "code",
   "execution_count": 6,
   "metadata": {},
   "outputs": [],
   "source": [
    "class SimpleConvNet(nn.Module):\n",
    "    def __init__(self):\n",
    "        super(SimpleConvNet, self).__init__()\n",
    "        self.cnn_apt_1 = nn.Conv2d(1, 120, (4,4)) #similar to 4-gram\n",
    "        self.cnn_pep_1 = nn.Conv2d(1, 50, (4,20))\n",
    "        self.relu = nn.ReLU()\n",
    "        self.fc1 = nn.Linear(4690, 1)\n",
    "        \n",
    "    def forward(self, apt, pep):\n",
    "        apt = self.cnn_apt_1(apt)\n",
    "        apt = self.relu(apt)\n",
    "        pep = self.cnn_pep_1(pep)\n",
    "        pep = self.relu(pep)\n",
    "        apt = apt.view(-1, 1).T\n",
    "        pep = pep.view(-1, 1).T\n",
    "        \n",
    "        x = torch.cat((apt, pep), 1)\n",
    "        x = self.fc1(x)\n",
    "        x = torch.sigmoid(x)\n",
    "        return x\n",
    "\n",
    "def weights_init(m):\n",
    "    if isinstance(m, nn.Conv2d):\n",
    "        nn.init.xavier_uniform_(m.weight.data, gain=nn.init.calculate_gain('relu'))\n",
    "        nn.init.zeros_(m.bias.data)\n",
    "    if isinstance(m, nn.Linear):\n",
    "        nn.init.kaiming_normal_(m.weight.data, nonlinearity='sigmoid')\n",
    "        nn.init.zeros_(m.bias.data)"
   ]
  },
  {
   "cell_type": "markdown",
   "metadata": {},
   "source": [
    "## Helper methods"
   ]
  },
  {
   "cell_type": "code",
   "execution_count": 8,
   "metadata": {},
   "outputs": [],
   "source": [
    "## Takes a peptide and aptamer sequence and converts to one-hot matrix\n",
    "def one_hot(sequence, seq_type='peptide'):\n",
    "    if seq_type == 'peptide':\n",
    "        letters = aa_list\n",
    "    else:\n",
    "        letters = na_list\n",
    "    one_hot = np.zeros((len(sequence), len(letters)))\n",
    "    for i in range(len(sequence)):\n",
    "        char = sequence[i]\n",
    "        for _ in range(len(letters)):\n",
    "            idx = letters.index(char)\n",
    "            one_hot[i][idx] = 1\n",
    "    return one_hot\n",
    "\n",
    "# Convert a pair to one-hot tensor\n",
    "def convert(apt, pep): \n",
    "    apt = one_hot(apt, seq_type='aptamer') #(40, 4)\n",
    "    pep = one_hot(pep, seq_type='peptide') #(8, 20)\n",
    "    apt = torch.FloatTensor(np.reshape(apt, (1, 1, apt.shape[0], apt.shape[1]))).cuda() #(1, 1, 40, 4)\n",
    "    pep = torch.FloatTensor(np.reshape(pep, (1, 1, pep.shape[0], pep.shape[1]))).cuda() #(1, 1, 8, 20)\n",
    "    return apt, pep\n",
    "\n",
    "def update(x, y):\n",
    "    pmf = get_y_pmf(y)\n",
    "    x.requires_grad=True\n",
    "    y.requires_grad=True\n",
    "    x = x.cuda()\n",
    "    y = y.cuda()\n",
    "    out = model(x, y)\n",
    "    return pmf, out\n",
    "\n",
    "def loss_samples(k, ds='train'): # S_train/S_test\n",
    "    if ds == 'train':\n",
    "        dset = S_train\n",
    "    else:\n",
    "        dset = S_test\n",
    "    pairs = []\n",
    "    for (apt, pep) in dset[:k]:\n",
    "        x, y = convert(apt, pep)\n",
    "        pairs.append((x, y))\n",
    "    return pairs\n",
    "\n",
    "def prime_loss_samples(k, ds='train'): # S_prime_train/S_prime_test\n",
    "    if ds == \"train\":\n",
    "        dset = S_prime_train[len(S_prime_train)//2:]    \n",
    "    else:\n",
    "        dset = S_prime_test[len(S_prime_test)//2:]\n",
    "    pairs = []\n",
    "    for (apt, pep), ind in dset[:k]:\n",
    "        pmf = get_y_pmf(pep)\n",
    "        x, y = convert(apt, pep)\n",
    "        pairs.append((x, y, ind, pmf))\n",
    "    return pairs\n",
    "    \n",
    "def get_log_out(dataset='train'):\n",
    "    outs = []\n",
    "    if dataset == 'train':\n",
    "        dset = train_loss_samples\n",
    "    else:\n",
    "        dset = test_loss_samples\n",
    "    for (apt, pep) in dset:\n",
    "        _, out = update(apt, pep)\n",
    "        outs.append(torch.log(out).cpu().detach().numpy().flatten()[0])\n",
    "    return np.average(outs)\n",
    "\n",
    "def get_out_prime(ds=\"train\"):\n",
    "    outs = []\n",
    "    if ds == \"train\":\n",
    "        dset = prime_train_loss_samples\n",
    "        leng = 2*m\n",
    "    else:\n",
    "        dset = prime_test_loss_samples\n",
    "        leng = 2*(n-m)\n",
    "    for (apt, pep, ind, pmf) in dset:\n",
    "        _, out = update(apt, pep)\n",
    "        out_is = out.cpu().detach().numpy().flatten()[0] * pmf * get_x_pmf() * leng\n",
    "        outs.append(out_is * ind)\n",
    "    return np.average(outs)\n",
    "\n",
    "def plot_loss(train_loss, test_loss, i, lamb, gamma):\n",
    "    _, ax = plt.subplots()\n",
    "    ax.plot(train_loss, 'g', label='Train loss')\n",
    "    ax.plot(test_loss, 'p', label='Test loss')\n",
    "    ax.set_title('Loss after ' + str(i) + \" iterations, \" + 'lambda =%.5f' % lamb  + ' gamma =%.5f' % gamma)\n",
    "    ax.legend()\n",
    "    plt.show()\n",
    "\n",
    "def plot_recall(train_recall, test_recall, i, lamb, gamma):\n",
    "    _, ax = plt.subplots()\n",
    "    ax.plot(train_recall, 'b', label='Train recall')\n",
    "    ax.plot(test_recall, 'y', label='Test recall')\n",
    "    ax.legend()\n",
    "    ax.set_title('Recall after ' + str(i) + \" iterations, \" + 'lambda =%.5f' % lamb  + ' gamma =%.5f' % gamma)\n",
    "    plt.show()\n",
    "    \n",
    "def plot_cdf(train_cdf, test_cdf, i, lamb, gamma):\n",
    "    _, ax = plt.subplots()\n",
    "    ax.plot(train_cdf, 'b', label='Train CDF')\n",
    "    ax.plot(test_cdf, 'y', label='Test CDF')\n",
    "    ax.legend()\n",
    "    ax.set_title('CDF after ' + str(i) + \" iterations, \" + 'lambda =%.5f' % lamb  + ' gamma =%.5f' % gamma)\n",
    "    plt.show()\n",
    "    \n",
    "\n",
    "train_loss_samples = loss_samples(k, 'train')\n",
    "test_loss_samples = loss_samples(k, 'test')\n",
    "prime_train_loss_samples = prime_loss_samples(k, 'train')\n",
    "prime_test_loss_samples = prime_loss_samples(k, 'test')"
   ]
  },
  {
   "cell_type": "markdown",
   "metadata": {},
   "source": [
    "## SGD"
   ]
  },
  {
   "cell_type": "code",
   "execution_count": 9,
   "metadata": {},
   "outputs": [],
   "source": [
    "def sgd(lamb=10, #hyperparam\n",
    "        gamma=1e-3): #step size\n",
    "    \n",
    "    optim = SGD(model.parameters(), lr=gamma)\n",
    "\n",
    "    train_losses = []\n",
    "    train_recalls = []\n",
    "    train_recall_outputs = [] \n",
    "    train_cdfs = []\n",
    "\n",
    "    test_losses = []\n",
    "    test_recalls = []\n",
    "    test_recall_outputs = []\n",
    "    test_cdfs = []\n",
    "\n",
    "    new_outputs = []\n",
    "    \n",
    "    train_correct = 0\n",
    "    test_correct = 0\n",
    "    \n",
    "    for i, ele in enumerate(tqdm.tqdm(train_ds)):\n",
    "        if i == 0:\n",
    "            continue\n",
    "        model.train()\n",
    "        optim.zero_grad() #reset gradients after update\n",
    "        x, y = convert(ele[0], ele[1]) #sample x,y from S_train\n",
    "        _, out = update(x, y) #get S_train output/score\n",
    "        log_out = torch.log(out) #take log\n",
    "        # Calculate train recall\n",
    "        train_score = out.cpu().detach().numpy().flatten()[0] #get score in float\n",
    "        if train_score > 0.6:\n",
    "            train_correct += 1 #contribute to train recall\n",
    "        train_recall_outputs.append(train_score) #store the train scores\n",
    "        \n",
    "        optim.zero_grad() #reset gradients for the second branch\n",
    "        x_prime, y_prime = convert(ele[2][0], ele[2][1]) #sample x', y' from S_prime_train\n",
    "        y_pmf, out_prime = update(x_prime, y_prime) #get score'\n",
    "        out_prime = out_prime*y_pmf*get_x_pmf()*2*m #adjust for IS\n",
    "        const = ele[3] #indicator\n",
    "        blah = lamb*const*out_prime - log_out\n",
    "        blah1 = lamb*const*out_prime \n",
    "        print(\"Objective\", blah.cpu().detach().numpy().flatten()[0])\n",
    "        print(\"Objective first part\", blah1.cpu().detach().numpy().flatten()[0])\n",
    "        print(\"Objective second part\", log_out.cpu().detach().numpy().flatten()[0])\n",
    "        (lamb*const*out_prime - log_out).backward(retain_graph=True) #backprop\n",
    "        optim.step() #gradient update\n",
    "\n",
    "        model.eval()\n",
    "        x_test, y_test = convert(S_test[i%(n-m)][0], S_test[i%(n-m)][1]) #sample x,y from test set\n",
    "        test_score = model(x_test, y_test).cpu().detach().numpy().flatten()[0] #get test score in float\n",
    "        test_recall_outputs.append(test_score) #store the test scores\n",
    "        if test_score > 0.6:\n",
    "            test_correct += 1 #contribute to test recall\n",
    "            \n",
    "        #generate 10 unseen examples from S_new as compared 1 example from validate/train for cdfs\n",
    "        for x, y in S_new[10*i:10*(i+1)]:\n",
    "            x_new, y_new = convert(x, y) #generate unseen x'' and y'' from S_new\n",
    "            new_score = model(x_new, y_new).cpu().detach().numpy().flatten()[0] #get unknown score\n",
    "            new_outputs.append(new_score) #store the new unknown scores\n",
    "\n",
    "        if i % 100 == 0:\n",
    "            train_loss = lamb*get_out_prime(\"train\") - get_log_out('train') #training loss\n",
    "            print(\"train loss first part\", lamb*get_out_prime(\"train\"))\n",
    "            print(\"train loss second part\", get_log_out('train'))\n",
    "            test_loss = lamb*get_out_prime(\"test\") - get_log_out('test') #test loss\n",
    "            train_losses.append(train_loss)\n",
    "            test_losses.append(test_loss)\n",
    "            \n",
    "            train_recall = 100*train_correct/(i%m) #training recall\n",
    "            train_recalls.append(train_recall) \n",
    "            test_recall = 100*test_correct/(i%(n-m)) #test recall\n",
    "            test_recalls.append(test_recall)\n",
    "\n",
    "            train_score = np.asarray(new_outputs + train_recall_outputs) #combine train and unknown scores\n",
    "            test_score = np.asarray(new_outputs + test_recall_outputs) #combibne test and unknown scores\n",
    "            train_cdf = np.cumsum(train_score)/np.sum(train_score) #train cdf\n",
    "            test_cdf = np.cumsum(test_score)/np.sum(test_score) #test cdf\n",
    "            train_cdfs.append(train_cdf)\n",
    "            test_cdfs.append(test_cdf)\n",
    "\n",
    "\n",
    "        if i % 2000 == 0:\n",
    "            plot_recall(train_recalls, test_recalls, i, lamb, gamma)\n",
    "            plot_loss(train_losses, test_losses, i, lamb, gamma)\n",
    "            plot_cdf(train_cdf, test_cdf, i, lamb, gamma)\n",
    "            print(\"New score: \", train_score[-2001])\n",
    "            print(\"Train score: \", train_score[-1])\n",
    "            print(\"Test score: \", test_score[-1])"
   ]
  },
  {
   "cell_type": "markdown",
   "metadata": {},
   "source": [
    "## Hyperparameter tuning"
   ]
  },
  {
   "cell_type": "code",
   "execution_count": 14,
   "metadata": {},
   "outputs": [],
   "source": [
    "gammas = [1e-3]\n",
    "lambdas = [1e18]"
   ]
  },
  {
   "cell_type": "code",
   "execution_count": null,
   "metadata": {},
   "outputs": [
    {
     "name": "stderr",
     "output_type": "stream",
     "text": [
      "\n",
      "  0%|          | 0/473047 [00:00<?, ?it/s]\u001b[A\n",
      "  0%|          | 3/473047 [00:00<6:14:34, 21.05it/s]\u001b[A"
     ]
    },
    {
     "name": "stdout",
     "output_type": "stream",
     "text": [
      "Objective 1.0791565\n",
      "Objective first part 0.4185691\n",
      "Objective second part -0.66058743\n",
      "Objective 0.67177343\n",
      "Objective first part 0.0\n",
      "Objective second part -0.67177343\n",
      "Objective 0.6502945\n",
      "Objective first part 0.0\n",
      "Objective second part -0.6502945\n",
      "Objective 0.6502729\n",
      "Objective first part 0.0\n",
      "Objective second part -0.6502729\n"
     ]
    },
    {
     "name": "stderr",
     "output_type": "stream",
     "text": [
      "\n",
      "  0%|          | 5/473047 [00:00<6:48:20, 19.31it/s]\u001b[A\n",
      "  0%|          | 7/473047 [00:00<7:12:02, 18.25it/s]\u001b[A"
     ]
    },
    {
     "name": "stdout",
     "output_type": "stream",
     "text": [
      "Objective 0.6654282\n",
      "Objective first part 0.0\n",
      "Objective second part -0.6654282\n",
      "Objective 0.646505\n",
      "Objective first part 0.0\n",
      "Objective second part -0.646505\n",
      "Objective 1.0400907\n",
      "Objective first part 0.39743072\n",
      "Objective second part -0.64265996\n",
      "Objective 0.61829317\n",
      "Objective first part 0.0\n",
      "Objective second part -0.61829317\n"
     ]
    },
    {
     "name": "stderr",
     "output_type": "stream",
     "text": [
      "\n",
      "  0%|          | 9/473047 [00:00<8:27:03, 15.55it/s]\u001b[A\n",
      "  0%|          | 11/473047 [00:00<8:47:11, 14.95it/s]\u001b[A"
     ]
    },
    {
     "name": "stdout",
     "output_type": "stream",
     "text": [
      "Objective 1.0598454\n",
      "Objective first part 0.4162054\n",
      "Objective second part -0.64364004\n",
      "Objective 0.6578638\n",
      "Objective first part 0.0\n",
      "Objective second part -0.6578638\n",
      "Objective 1.0542293\n",
      "Objective first part 0.4090982\n",
      "Objective second part -0.6451311\n",
      "Objective 0.61900395\n",
      "Objective first part 0.0\n",
      "Objective second part -0.61900395\n",
      "Objective 1.0678563\n",
      "Objective first part 0.40143648\n",
      "Objective second part -0.66641986\n"
     ]
    },
    {
     "name": "stderr",
     "output_type": "stream",
     "text": [
      "\n",
      "  0%|          | 15/473047 [00:00<7:21:01, 17.88it/s]\u001b[A\n",
      "  0%|          | 18/473047 [00:00<6:43:02, 19.56it/s]\u001b[A"
     ]
    },
    {
     "name": "stdout",
     "output_type": "stream",
     "text": [
      "Objective 1.0399218\n",
      "Objective first part 0.40969926\n",
      "Objective second part -0.63022256\n",
      "Objective 0.6204043\n",
      "Objective first part 0.0\n",
      "Objective second part -0.6204043\n",
      "Objective 1.0083964\n",
      "Objective first part 0.41431645\n",
      "Objective second part -0.59408\n",
      "Objective 1.0445642\n",
      "Objective first part 0.409874\n",
      "Objective second part -0.6346902\n",
      "Objective 1.0431169\n",
      "Objective first part 0.42144665\n",
      "Objective second part -0.6216703\n"
     ]
    },
    {
     "name": "stderr",
     "output_type": "stream",
     "text": [
      "\n",
      "  0%|          | 21/473047 [00:01<6:06:43, 21.50it/s]\u001b[A\n",
      "  0%|          | 26/473047 [00:01<5:12:11, 25.25it/s]\u001b[A"
     ]
    },
    {
     "name": "stdout",
     "output_type": "stream",
     "text": [
      "Objective 0.62901896\n",
      "Objective first part 0.0\n",
      "Objective second part -0.62901896\n",
      "Objective 0.59479076\n",
      "Objective first part 0.0\n",
      "Objective second part -0.59479076\n",
      "Objective 0.5865121\n",
      "Objective first part 0.0\n",
      "Objective second part -0.5865121\n",
      "Objective 0.6227481\n",
      "Objective first part 0.0\n",
      "Objective second part -0.6227481\n",
      "Objective 1.0340939\n",
      "Objective first part 0.41634306\n",
      "Objective second part -0.61775076\n",
      "Objective 0.6220478\n",
      "Objective first part 0.0\n",
      "Objective second part -0.6220478\n",
      "Objective 1.0404363\n",
      "Objective first part 0.41996774\n",
      "Objective second part -0.62046856\n",
      "Objective 0.6278669\n",
      "Objective first part 0.0\n",
      "Objective second part -0.6278669\n",
      "Objective 0.6143997\n",
      "Objective first part 0.0\n",
      "Objective second part -0.6143997\n"
     ]
    },
    {
     "name": "stderr",
     "output_type": "stream",
     "text": [
      "\n",
      "  0%|          | 31/473047 [00:01<4:37:05, 28.45it/s]\u001b[A"
     ]
    },
    {
     "name": "stdout",
     "output_type": "stream",
     "text": [
      "Objective 1.0397879\n",
      "Objective first part 0.43525395\n",
      "Objective second part -0.6045339\n",
      "Objective 0.57774776\n",
      "Objective first part 0.0\n",
      "Objective second part -0.57774776\n",
      "Objective 1.0176528\n",
      "Objective first part 0.420988\n",
      "Objective second part -0.5966648\n",
      "Objective 1.0223219\n",
      "Objective first part 0.42480284\n",
      "Objective second part -0.59751904\n",
      "Objective 0.9798751\n",
      "Objective first part 0.43126038\n",
      "Objective second part -0.54861474\n",
      "Objective 0.6363348\n",
      "Objective first part 0.0\n",
      "Objective second part -0.6363348\n"
     ]
    },
    {
     "name": "stderr",
     "output_type": "stream",
     "text": [
      "\n",
      "  0%|          | 35/473047 [00:01<6:01:44, 21.79it/s]\u001b[A"
     ]
    },
    {
     "name": "stdout",
     "output_type": "stream",
     "text": [
      "Objective 0.63470584\n",
      "Objective first part 0.0\n",
      "Objective second part -0.63470584\n",
      "Objective 1.0078053\n",
      "Objective first part 0.43379274\n",
      "Objective second part -0.57401264\n",
      "Objective 0.6331661\n",
      "Objective first part 0.0\n",
      "Objective second part -0.6331661\n",
      "Objective 1.0275114\n",
      "Objective first part 0.4300451\n",
      "Objective second part -0.59746623\n"
     ]
    },
    {
     "name": "stderr",
     "output_type": "stream",
     "text": [
      "\n",
      "  0%|          | 38/473047 [00:01<8:55:40, 14.72it/s]\u001b[A"
     ]
    },
    {
     "name": "stdout",
     "output_type": "stream",
     "text": [
      "Objective 1.0267899\n",
      "Objective first part 0.44094253\n",
      "Objective second part -0.58584744\n",
      "Objective 0.58846277\n",
      "Objective first part 0.0\n",
      "Objective second part -0.58846277\n"
     ]
    },
    {
     "name": "stderr",
     "output_type": "stream",
     "text": [
      "\n",
      "  0%|          | 41/473047 [00:02<11:02:37, 11.90it/s]\u001b[A"
     ]
    },
    {
     "name": "stdout",
     "output_type": "stream",
     "text": [
      "Objective 1.0190588\n",
      "Objective first part 0.429441\n",
      "Objective second part -0.5896178\n",
      "Objective 1.0229019\n",
      "Objective first part 0.43275568\n",
      "Objective second part -0.5901462\n"
     ]
    },
    {
     "name": "stderr",
     "output_type": "stream",
     "text": [
      "\n",
      "  0%|          | 43/473047 [00:02<12:46:52, 10.28it/s]\u001b[A"
     ]
    },
    {
     "name": "stdout",
     "output_type": "stream",
     "text": [
      "Objective 0.59937805\n",
      "Objective first part 0.0\n",
      "Objective second part -0.59937805\n",
      "Objective 1.0383554\n",
      "Objective first part 0.42966232\n",
      "Objective second part -0.608693\n"
     ]
    },
    {
     "name": "stderr",
     "output_type": "stream",
     "text": [
      "\n",
      "  0%|          | 45/473047 [00:02<13:54:00,  9.45it/s]\u001b[A"
     ]
    },
    {
     "name": "stdout",
     "output_type": "stream",
     "text": [
      "Objective 1.046658\n",
      "Objective first part 0.44135612\n",
      "Objective second part -0.6053019\n",
      "Objective 0.98457694\n",
      "Objective first part 0.43416286\n",
      "Objective second part -0.5504141\n"
     ]
    },
    {
     "name": "stderr",
     "output_type": "stream",
     "text": [
      "\n",
      "  0%|          | 47/473047 [00:03<14:28:15,  9.08it/s]\u001b[A"
     ]
    },
    {
     "name": "stdout",
     "output_type": "stream",
     "text": [
      "Objective 0.97676164\n",
      "Objective first part 0.4348523\n",
      "Objective second part -0.54190934\n",
      "Objective 0.5471455\n",
      "Objective first part 0.0\n",
      "Objective second part -0.5471455\n"
     ]
    },
    {
     "name": "stderr",
     "output_type": "stream",
     "text": [
      "\n",
      "  0%|          | 49/473047 [00:03<15:09:49,  8.66it/s]\u001b[A"
     ]
    },
    {
     "name": "stdout",
     "output_type": "stream",
     "text": [
      "Objective 0.57657593\n",
      "Objective first part 0.0\n",
      "Objective second part -0.57657593\n",
      "Objective 0.59072083\n",
      "Objective first part 0.0\n",
      "Objective second part -0.59072083\n"
     ]
    },
    {
     "name": "stderr",
     "output_type": "stream",
     "text": [
      "\n",
      "  0%|          | 51/473047 [00:03<15:33:42,  8.44it/s]\u001b[A"
     ]
    },
    {
     "name": "stdout",
     "output_type": "stream",
     "text": [
      "Objective 0.5728155\n",
      "Objective first part 0.0\n",
      "Objective second part -0.5728155\n",
      "Objective 0.5853808\n",
      "Objective first part 0.0\n",
      "Objective second part -0.5853808\n"
     ]
    },
    {
     "name": "stderr",
     "output_type": "stream",
     "text": [
      "\n",
      "  0%|          | 52/473047 [00:03<15:32:54,  8.45it/s]\u001b[A\n",
      "  0%|          | 53/473047 [00:03<15:56:01,  8.25it/s]\u001b[A"
     ]
    },
    {
     "name": "stdout",
     "output_type": "stream",
     "text": [
      "Objective 0.5675676\n",
      "Objective first part 0.0\n",
      "Objective second part -0.5675676\n",
      "Objective 0.5700844\n",
      "Objective first part 0.0\n",
      "Objective second part -0.5700844\n"
     ]
    },
    {
     "name": "stderr",
     "output_type": "stream",
     "text": [
      "\n",
      "  0%|          | 54/473047 [00:03<16:09:25,  8.13it/s]\u001b[A\n",
      "  0%|          | 55/473047 [00:04<16:29:29,  7.97it/s]\u001b[A"
     ]
    },
    {
     "name": "stdout",
     "output_type": "stream",
     "text": [
      "Objective 1.0165553\n",
      "Objective first part 0.449181\n",
      "Objective second part -0.56737435\n",
      "Objective 1.0355505\n",
      "Objective first part 0.44853243\n",
      "Objective second part -0.5870181\n"
     ]
    },
    {
     "name": "stderr",
     "output_type": "stream",
     "text": [
      "\n",
      "  0%|          | 56/473047 [00:04<16:27:54,  7.98it/s]\u001b[A\n",
      "  0%|          | 57/473047 [00:04<16:12:38,  8.10it/s]\u001b[A"
     ]
    },
    {
     "name": "stdout",
     "output_type": "stream",
     "text": [
      "Objective 1.0127128\n",
      "Objective first part 0.4509939\n",
      "Objective second part -0.56171894\n",
      "Objective 0.5586793\n",
      "Objective first part 0.0\n",
      "Objective second part -0.5586793\n"
     ]
    },
    {
     "name": "stderr",
     "output_type": "stream",
     "text": [
      "\n",
      "  0%|          | 58/473047 [00:04<16:25:56,  8.00it/s]\u001b[A\n",
      "  0%|          | 59/473047 [00:04<16:20:01,  8.04it/s]\u001b[A"
     ]
    },
    {
     "name": "stdout",
     "output_type": "stream",
     "text": [
      "Objective 0.5692851\n",
      "Objective first part 0.0\n",
      "Objective second part -0.5692851\n",
      "Objective 1.0209405\n",
      "Objective first part 0.45337066\n",
      "Objective second part -0.5675699\n"
     ]
    },
    {
     "name": "stderr",
     "output_type": "stream",
     "text": [
      "\n",
      "  0%|          | 60/473047 [00:04<16:30:17,  7.96it/s]\u001b[A\n",
      "  0%|          | 61/473047 [00:04<16:35:23,  7.92it/s]\u001b[A"
     ]
    },
    {
     "name": "stdout",
     "output_type": "stream",
     "text": [
      "Objective 0.55685705\n",
      "Objective first part 0.0\n",
      "Objective second part -0.55685705\n",
      "Objective 1.0159832\n",
      "Objective first part 0.4351854\n",
      "Objective second part -0.5807978\n"
     ]
    },
    {
     "name": "stderr",
     "output_type": "stream",
     "text": [
      "\n",
      "  0%|          | 62/473047 [00:04<16:25:11,  8.00it/s]\u001b[A\n",
      "  0%|          | 63/473047 [00:05<16:18:49,  8.05it/s]\u001b[A"
     ]
    },
    {
     "name": "stdout",
     "output_type": "stream",
     "text": [
      "Objective 0.54947436\n",
      "Objective first part 0.0\n",
      "Objective second part -0.54947436\n",
      "Objective 0.5428875\n",
      "Objective first part 0.0\n",
      "Objective second part -0.5428875\n",
      "Objective 0.5440221\n",
      "Objective first part 0.0\n",
      "Objective second part -0.5440221\n"
     ]
    },
    {
     "name": "stderr",
     "output_type": "stream",
     "text": [
      "\n",
      "  0%|          | 65/473047 [00:05<13:59:34,  9.39it/s]\u001b[A\n",
      "  0%|          | 67/473047 [00:05<12:13:02, 10.75it/s]\u001b[A"
     ]
    },
    {
     "name": "stdout",
     "output_type": "stream",
     "text": [
      "Objective 0.9898014\n",
      "Objective first part 0.44895253\n",
      "Objective second part -0.54084885\n",
      "Objective 0.99486864\n",
      "Objective first part 0.45686188\n",
      "Objective second part -0.5380067\n",
      "Objective 0.5609709\n",
      "Objective first part 0.0\n",
      "Objective second part -0.5609709\n",
      "Objective 0.513317\n",
      "Objective first part 0.0\n",
      "Objective second part -0.513317\n"
     ]
    },
    {
     "name": "stderr",
     "output_type": "stream",
     "text": [
      "\n",
      "  0%|          | 69/473047 [00:05<10:44:22, 12.23it/s]\u001b[A\n",
      "  0%|          | 71/473047 [00:05<9:41:01, 13.57it/s] \u001b[A"
     ]
    },
    {
     "name": "stdout",
     "output_type": "stream",
     "text": [
      "Objective 1.0035415\n",
      "Objective first part 0.4507454\n",
      "Objective second part -0.552796\n",
      "Objective 0.98289794\n",
      "Objective first part 0.44221127\n",
      "Objective second part -0.54068667\n",
      "Objective 0.95923066\n",
      "Objective first part 0.4677508\n",
      "Objective second part -0.49147987\n",
      "Objective 0.5512915\n",
      "Objective first part 0.0\n",
      "Objective second part -0.5512915\n",
      "Objective 0.5453037\n",
      "Objective first part 0.0\n",
      "Objective second part -0.5453037\n"
     ]
    },
    {
     "name": "stderr",
     "output_type": "stream",
     "text": [
      "\n",
      "  0%|          | 74/473047 [00:05<8:18:57, 15.80it/s]\u001b[A\n",
      "  0%|          | 78/473047 [00:05<7:01:30, 18.70it/s]\u001b[A"
     ]
    },
    {
     "name": "stdout",
     "output_type": "stream",
     "text": [
      "Objective 0.97832346\n",
      "Objective first part 0.45369098\n",
      "Objective second part -0.5246325\n",
      "Objective 0.52580863\n",
      "Objective first part 0.0\n",
      "Objective second part -0.52580863\n",
      "Objective 0.5305376\n",
      "Objective first part 0.0\n",
      "Objective second part -0.5305376\n",
      "Objective 0.53120553\n",
      "Objective first part 0.0\n",
      "Objective second part -0.53120553\n",
      "Objective 1.0168629\n",
      "Objective first part 0.47245976\n",
      "Objective second part -0.54440314\n",
      "Objective 0.5125794\n",
      "Objective first part 0.0\n",
      "Objective second part -0.5125794\n",
      "Objective 0.53954816\n",
      "Objective first part 0.0\n",
      "Objective second part -0.53954816\n"
     ]
    },
    {
     "name": "stderr",
     "output_type": "stream",
     "text": [
      "\n",
      "  0%|          | 81/473047 [00:05<6:17:52, 20.86it/s]\u001b[A\n",
      "  0%|          | 84/473047 [00:06<6:00:34, 21.86it/s]\u001b[A"
     ]
    },
    {
     "name": "stdout",
     "output_type": "stream",
     "text": [
      "Objective 0.51308924\n",
      "Objective first part 0.0\n",
      "Objective second part -0.51308924\n",
      "Objective 1.0171766\n",
      "Objective first part 0.483666\n",
      "Objective second part -0.53351057\n",
      "Objective 1.0001569\n",
      "Objective first part 0.47508085\n",
      "Objective second part -0.5250761\n",
      "Objective 0.53249365\n",
      "Objective first part 0.0\n",
      "Objective second part -0.53249365\n",
      "Objective 0.98823714\n",
      "Objective first part 0.46842876\n",
      "Objective second part -0.5198084\n",
      "Objective 0.98930466\n"
     ]
    },
    {
     "name": "stderr",
     "output_type": "stream",
     "text": [
      "\n",
      "  0%|          | 87/473047 [00:06<5:42:55, 22.99it/s]\u001b[A\n",
      "  0%|          | 90/473047 [00:06<5:27:24, 24.08it/s]\u001b[A"
     ]
    },
    {
     "name": "stdout",
     "output_type": "stream",
     "text": [
      "Objective first part 0.47384188\n",
      "Objective second part -0.51546276\n",
      "Objective 0.51275265\n",
      "Objective first part 0.0\n",
      "Objective second part -0.51275265\n",
      "Objective 0.9908526\n",
      "Objective first part 0.47754344\n",
      "Objective second part -0.5133091\n",
      "Objective 0.47174215\n",
      "Objective first part 0.0\n",
      "Objective second part -0.47174215\n",
      "Objective 0.975952\n",
      "Objective first part 0.48326573\n",
      "Objective second part -0.49268633\n",
      "Objective 0.52379394\n",
      "Objective first part 0.0\n",
      "Objective second part -0.52379394\n"
     ]
    },
    {
     "name": "stderr",
     "output_type": "stream",
     "text": [
      "\n",
      "  0%|          | 93/473047 [00:06<5:19:08, 24.70it/s]\u001b[A\n",
      "  0%|          | 96/473047 [00:06<5:31:47, 23.76it/s]\u001b[A"
     ]
    },
    {
     "name": "stdout",
     "output_type": "stream",
     "text": [
      "Objective 0.49823648\n",
      "Objective first part 0.0\n",
      "Objective second part -0.49823648\n",
      "Objective 0.99611485\n",
      "Objective first part 0.48652798\n",
      "Objective second part -0.5095869\n",
      "Objective 0.9753837\n",
      "Objective first part 0.4899873\n",
      "Objective second part -0.4853964\n",
      "Objective 0.9772261\n",
      "Objective first part 0.48350376\n",
      "Objective second part -0.49372232\n",
      "Objective 0.9749308\n",
      "Objective first part 0.47107077\n",
      "Objective second part -0.50386006\n"
     ]
    },
    {
     "name": "stderr",
     "output_type": "stream",
     "text": [
      "\n",
      "  0%|          | 99/473047 [00:06<7:08:20, 18.40it/s]\u001b[A"
     ]
    },
    {
     "name": "stdout",
     "output_type": "stream",
     "text": [
      "Objective 0.48809227\n",
      "Objective first part 0.0\n",
      "Objective second part -0.48809227\n",
      "Objective 0.46526122\n",
      "Objective first part 0.0\n",
      "Objective second part -0.46526122\n",
      "Objective 0.5106992\n",
      "Objective first part 0.0\n",
      "Objective second part -0.5106992\n",
      "Objective 0.97555393\n",
      "Objective first part 0.48129135\n",
      "Objective second part -0.49426258\n"
     ]
    },
    {
     "name": "stderr",
     "output_type": "stream",
     "text": [
      "\n",
      "  0%|          | 99/473047 [00:23<7:08:20, 18.40it/s]\u001b[A"
     ]
    },
    {
     "name": "stdout",
     "output_type": "stream",
     "text": [
      "train loss first part 7.616734861201749e-10\n",
      "train loss second part -0.4902961\n"
     ]
    },
    {
     "name": "stderr",
     "output_type": "stream",
     "text": [
      "\n",
      "  0%|          | 101/473047 [01:24<1538:28:50, 11.71s/it]\u001b[A\n",
      "  0%|          | 102/473047 [01:24<1081:51:21,  8.23s/it]\u001b[A"
     ]
    },
    {
     "name": "stdout",
     "output_type": "stream",
     "text": [
      "Objective 0.4763312\n",
      "Objective first part 0.0\n",
      "Objective second part -0.4763312\n",
      "Objective 0.99624515\n",
      "Objective first part 0.4945552\n",
      "Objective second part -0.5016899\n"
     ]
    },
    {
     "name": "stderr",
     "output_type": "stream",
     "text": [
      "\n",
      "  0%|          | 103/473047 [01:24<762:05:36,  5.80s/it] \u001b[A\n",
      "  0%|          | 104/473047 [01:24<538:30:11,  4.10s/it]\u001b[A"
     ]
    },
    {
     "name": "stdout",
     "output_type": "stream",
     "text": [
      "Objective 0.48711216\n",
      "Objective first part 0.0\n",
      "Objective second part -0.48711216\n",
      "Objective 0.9597218\n",
      "Objective first part 0.4673386\n",
      "Objective second part -0.49238318\n"
     ]
    },
    {
     "name": "stderr",
     "output_type": "stream",
     "text": [
      "\n",
      "  0%|          | 105/473047 [01:25<381:45:02,  2.91s/it]\u001b[A\n",
      "  0%|          | 106/473047 [01:25<272:07:19,  2.07s/it]\u001b[A"
     ]
    },
    {
     "name": "stdout",
     "output_type": "stream",
     "text": [
      "Objective 0.94010776\n",
      "Objective first part 0.47237456\n",
      "Objective second part -0.4677332\n",
      "Objective 0.45877218\n",
      "Objective first part 0.0\n",
      "Objective second part -0.45877218\n"
     ]
    },
    {
     "name": "stderr",
     "output_type": "stream",
     "text": [
      "\n",
      "  0%|          | 107/473047 [01:25<195:38:23,  1.49s/it]\u001b[A\n",
      "  0%|          | 108/473047 [01:25<141:47:59,  1.08s/it]\u001b[A"
     ]
    },
    {
     "name": "stdout",
     "output_type": "stream",
     "text": [
      "Objective 0.4922353\n",
      "Objective first part 0.0\n",
      "Objective second part -0.4922353\n",
      "Objective 0.9611888\n",
      "Objective first part 0.48154137\n",
      "Objective second part -0.47964746\n"
     ]
    },
    {
     "name": "stderr",
     "output_type": "stream",
     "text": [
      "\n",
      "  0%|          | 109/473047 [01:25<104:24:49,  1.26it/s]\u001b[A\n",
      "  0%|          | 110/473047 [01:25<78:00:41,  1.68it/s] \u001b[A"
     ]
    },
    {
     "name": "stdout",
     "output_type": "stream",
     "text": [
      "Objective 0.48389667\n",
      "Objective first part 0.0\n",
      "Objective second part -0.48389667\n",
      "Objective 0.45501435\n",
      "Objective first part 0.0\n",
      "Objective second part -0.45501435\n"
     ]
    },
    {
     "name": "stderr",
     "output_type": "stream",
     "text": [
      "\n",
      "  0%|          | 111/473047 [01:25<59:33:33,  2.21it/s]\u001b[A\n",
      "  0%|          | 112/473047 [01:25<46:34:42,  2.82it/s]\u001b[A"
     ]
    },
    {
     "name": "stdout",
     "output_type": "stream",
     "text": [
      "Objective 0.9776967\n",
      "Objective first part 0.48764804\n",
      "Objective second part -0.49004868\n",
      "Objective 0.48323518\n",
      "Objective first part 0.0\n",
      "Objective second part -0.48323518\n"
     ]
    },
    {
     "name": "stderr",
     "output_type": "stream",
     "text": [
      "\n",
      "  0%|          | 113/473047 [01:26<37:45:12,  3.48it/s]\u001b[A\n",
      "  0%|          | 114/473047 [01:26<31:19:41,  4.19it/s]\u001b[A"
     ]
    },
    {
     "name": "stdout",
     "output_type": "stream",
     "text": [
      "Objective 0.48701698\n",
      "Objective first part 0.0\n",
      "Objective second part -0.48701698\n",
      "Objective 0.93029696\n",
      "Objective first part 0.4877567\n",
      "Objective second part -0.44254026\n"
     ]
    },
    {
     "name": "stderr",
     "output_type": "stream",
     "text": [
      "\n",
      "  0%|          | 115/473047 [01:26<27:08:41,  4.84it/s]\u001b[A\n",
      "  0%|          | 116/473047 [01:26<24:17:28,  5.41it/s]\u001b[A"
     ]
    },
    {
     "name": "stdout",
     "output_type": "stream",
     "text": [
      "Objective 0.45587838\n",
      "Objective first part 0.0\n",
      "Objective second part -0.45587838\n",
      "Objective 0.97168636\n",
      "Objective first part 0.49975252\n",
      "Objective second part -0.47193384\n"
     ]
    },
    {
     "name": "stderr",
     "output_type": "stream",
     "text": [
      "\n",
      "  0%|          | 117/473047 [01:26<22:08:49,  5.93it/s]\u001b[A\n",
      "  0%|          | 118/473047 [01:26<20:27:11,  6.42it/s]\u001b[A"
     ]
    },
    {
     "name": "stdout",
     "output_type": "stream",
     "text": [
      "Objective 0.48803043\n",
      "Objective first part 0.0\n",
      "Objective second part -0.48803043\n",
      "Objective 0.9158046\n",
      "Objective first part 0.4860725\n",
      "Objective second part -0.42973208\n"
     ]
    },
    {
     "name": "stderr",
     "output_type": "stream",
     "text": [
      "\n",
      "  0%|          | 119/473047 [01:26<19:28:49,  6.74it/s]\u001b[A\n",
      "  0%|          | 120/473047 [01:26<18:45:30,  7.00it/s]\u001b[A"
     ]
    },
    {
     "name": "stdout",
     "output_type": "stream",
     "text": [
      "Objective 0.46255067\n",
      "Objective first part 0.0\n",
      "Objective second part -0.46255067\n",
      "Objective 0.934914\n",
      "Objective first part 0.4859666\n",
      "Objective second part -0.44894743\n"
     ]
    },
    {
     "name": "stderr",
     "output_type": "stream",
     "text": [
      "\n",
      "  0%|          | 121/473047 [01:27<18:16:37,  7.19it/s]\u001b[A\n",
      "  0%|          | 122/473047 [01:27<17:09:46,  7.65it/s]\u001b[A"
     ]
    },
    {
     "name": "stdout",
     "output_type": "stream",
     "text": [
      "Objective 0.4625162\n",
      "Objective first part 0.0\n",
      "Objective second part -0.4625162\n",
      "Objective 0.9764011\n",
      "Objective first part 0.49226555\n",
      "Objective second part -0.48413557\n",
      "Objective 0.46256077\n",
      "Objective first part 0.0\n",
      "Objective second part -0.46256077\n"
     ]
    },
    {
     "name": "stderr",
     "output_type": "stream",
     "text": [
      "\n",
      "  0%|          | 124/473047 [01:27<14:27:04,  9.09it/s]\u001b[A\n",
      "  0%|          | 126/473047 [01:27<12:32:00, 10.48it/s]\u001b[A"
     ]
    },
    {
     "name": "stdout",
     "output_type": "stream",
     "text": [
      "Objective 0.9121434\n",
      "Objective first part 0.49622884\n",
      "Objective second part -0.41591457\n",
      "Objective 0.472009\n",
      "Objective first part 0.0\n",
      "Objective second part -0.472009\n",
      "Objective 0.9641621\n",
      "Objective first part 0.5059429\n",
      "Objective second part -0.45821926\n",
      "Objective 0.9353044\n",
      "Objective first part 0.4876555\n",
      "Objective second part -0.44764888\n"
     ]
    },
    {
     "name": "stderr",
     "output_type": "stream",
     "text": [
      "\n",
      "  0%|          | 128/473047 [01:27<10:55:04, 12.03it/s]\u001b[A\n",
      "  0%|          | 130/473047 [01:27<9:59:01, 13.16it/s] \u001b[A"
     ]
    },
    {
     "name": "stdout",
     "output_type": "stream",
     "text": [
      "Objective 0.92507577\n",
      "Objective first part 0.4944543\n",
      "Objective second part -0.43062147\n",
      "Objective 0.96239173\n",
      "Objective first part 0.50236\n",
      "Objective second part -0.46003175\n",
      "Objective 0.9377115\n",
      "Objective first part 0.49587\n",
      "Objective second part -0.44184148\n",
      "Objective 0.4629308\n",
      "Objective first part 0.0\n",
      "Objective second part -0.4629308\n",
      "Objective 0.9303746\n",
      "Objective first part 0.5069978\n",
      "Objective second part -0.42337683\n"
     ]
    },
    {
     "name": "stderr",
     "output_type": "stream",
     "text": [
      "\n",
      "  0%|          | 133/473047 [01:27<8:40:24, 15.15it/s]\u001b[A\n",
      "  0%|          | 137/473047 [01:27<7:10:27, 18.31it/s]\u001b[A"
     ]
    },
    {
     "name": "stdout",
     "output_type": "stream",
     "text": [
      "Objective 0.9301703\n",
      "Objective first part 0.50503725\n",
      "Objective second part -0.42513302\n",
      "Objective 0.46353388\n",
      "Objective first part 0.0\n",
      "Objective second part -0.46353388\n",
      "Objective 0.44097847\n",
      "Objective first part 0.0\n",
      "Objective second part -0.44097847\n",
      "Objective 0.4319912\n",
      "Objective first part 0.0\n",
      "Objective second part -0.4319912\n",
      "Objective 0.45124078\n",
      "Objective first part 0.0\n",
      "Objective second part -0.45124078\n",
      "Objective 0.9552143\n",
      "Objective first part 0.5130218\n",
      "Objective second part -0.4421925\n",
      "Objective 0.9241024\n",
      "Objective first part 0.5010263\n",
      "Objective second part -0.42307615\n"
     ]
    },
    {
     "name": "stderr",
     "output_type": "stream",
     "text": [
      "\n",
      "  0%|          | 141/473047 [01:28<6:10:47, 21.26it/s]\u001b[A\n",
      "  0%|          | 148/473047 [01:28<4:57:16, 26.51it/s]\u001b[A"
     ]
    },
    {
     "name": "stdout",
     "output_type": "stream",
     "text": [
      "Objective 0.93970513\n",
      "Objective first part 0.49536893\n",
      "Objective second part -0.44433624\n",
      "Objective 0.9467584\n",
      "Objective first part 0.5082935\n",
      "Objective second part -0.43846488\n",
      "Objective 0.42517534\n",
      "Objective first part 0.0\n",
      "Objective second part -0.42517534\n",
      "Objective 0.43258646\n",
      "Objective first part 0.0\n",
      "Objective second part -0.43258646\n",
      "Objective 0.9483434\n",
      "Objective first part 0.49892446\n",
      "Objective second part -0.44941896\n",
      "Objective 0.92954\n",
      "Objective first part 0.5122629\n",
      "Objective second part -0.4172771\n",
      "Objective 0.44919997\n",
      "Objective first part 0.0\n",
      "Objective second part -0.44919997\n",
      "Objective 0.41173488\n",
      "Objective first part 0.0\n",
      "Objective second part -0.41173488\n",
      "Objective 0.43239442\n",
      "Objective first part 0.0\n",
      "Objective second part -0.43239442\n",
      "Objective 0.38666505\n",
      "Objective first part 0.0\n",
      "Objective second part -0.38666505\n",
      "Objective 0.43134597\n",
      "Objective first part 0.0\n",
      "Objective second part -0.43134597\n"
     ]
    },
    {
     "name": "stderr",
     "output_type": "stream",
     "text": [
      "\n",
      "  0%|          | 153/473047 [01:28<4:24:24, 29.81it/s]\u001b[A\n",
      "  0%|          | 157/473047 [01:28<4:17:10, 30.65it/s]\u001b[A"
     ]
    },
    {
     "name": "stdout",
     "output_type": "stream",
     "text": [
      "Objective 0.4370997\n",
      "Objective first part 0.0\n",
      "Objective second part -0.4370997\n",
      "Objective 0.41877875\n",
      "Objective first part 0.0\n",
      "Objective second part -0.41877875\n",
      "Objective 0.92669547\n",
      "Objective first part 0.5118039\n",
      "Objective second part -0.41489157\n",
      "Objective 0.44410408\n",
      "Objective first part 0.0\n",
      "Objective second part -0.44410408\n",
      "Objective 0.8975311\n",
      "Objective first part 0.51087886\n",
      "Objective second part -0.38665223\n",
      "Objective 0.9135539\n",
      "Objective first part 0.50851244\n",
      "Objective second part -0.40504146\n",
      "Objective 0.41549382\n",
      "Objective first part 0.0\n",
      "Objective second part -0.41549382\n"
     ]
    },
    {
     "name": "stderr",
     "output_type": "stream",
     "text": [
      "\n",
      "  0%|          | 161/473047 [01:28<4:23:19, 29.93it/s]\u001b[A"
     ]
    },
    {
     "name": "stdout",
     "output_type": "stream",
     "text": [
      "Objective 0.91071314\n",
      "Objective first part 0.51234967\n",
      "Objective second part -0.39836347\n",
      "Objective 0.40607834\n",
      "Objective first part 0.0\n",
      "Objective second part -0.40607834\n",
      "Objective 0.9275958\n",
      "Objective first part 0.52388155\n",
      "Objective second part -0.40371424\n",
      "Objective 0.40324116\n",
      "Objective first part 0.0\n",
      "Objective second part -0.40324116\n",
      "Objective 0.40254733\n",
      "Objective first part 0.0\n",
      "Objective second part -0.40254733\n",
      "Objective 0.92789984\n",
      "Objective first part 0.5258605\n",
      "Objective second part -0.40203935\n"
     ]
    },
    {
     "name": "stderr",
     "output_type": "stream",
     "text": [
      "\n",
      "  0%|          | 165/473047 [01:28<4:39:26, 28.20it/s]\u001b[A"
     ]
    },
    {
     "name": "stdout",
     "output_type": "stream",
     "text": [
      "Objective 0.40630856\n",
      "Objective first part 0.0\n",
      "Objective second part -0.40630856\n",
      "Objective 0.41373122\n",
      "Objective first part 0.0\n",
      "Objective second part -0.41373122\n",
      "Objective 0.39154238\n",
      "Objective first part 0.0\n",
      "Objective second part -0.39154238\n",
      "Objective 0.388251\n",
      "Objective first part 0.0\n",
      "Objective second part -0.388251\n"
     ]
    },
    {
     "name": "stderr",
     "output_type": "stream",
     "text": [
      "\n",
      "  0%|          | 169/473047 [01:28<5:51:21, 22.43it/s]\u001b[A"
     ]
    },
    {
     "name": "stdout",
     "output_type": "stream",
     "text": [
      "Objective 0.94793785\n",
      "Objective first part 0.5292724\n",
      "Objective second part -0.4186655\n",
      "Objective 0.3868337\n",
      "Objective first part 0.0\n",
      "Objective second part -0.3868337\n",
      "Objective 0.38751096\n",
      "Objective first part 0.0\n",
      "Objective second part -0.38751096\n",
      "Objective 0.40618587\n",
      "Objective first part 0.0\n",
      "Objective second part -0.40618587\n"
     ]
    },
    {
     "name": "stderr",
     "output_type": "stream",
     "text": [
      "\n",
      "  0%|          | 172/473047 [01:29<8:47:22, 14.94it/s]\u001b[A"
     ]
    },
    {
     "name": "stdout",
     "output_type": "stream",
     "text": [
      "Objective 0.8936758\n",
      "Objective first part 0.51333696\n",
      "Objective second part -0.38033882\n",
      "Objective 0.8804345\n",
      "Objective first part 0.51106095\n",
      "Objective second part -0.36937356\n"
     ]
    },
    {
     "name": "stderr",
     "output_type": "stream",
     "text": [
      "\n",
      "  0%|          | 175/473047 [01:29<11:00:06, 11.94it/s]\u001b[A"
     ]
    },
    {
     "name": "stdout",
     "output_type": "stream",
     "text": [
      "Objective 0.9389756\n",
      "Objective first part 0.53605133\n",
      "Objective second part -0.40292424\n",
      "Objective 0.38183206\n",
      "Objective first part 0.0\n",
      "Objective second part -0.38183206\n"
     ]
    },
    {
     "name": "stderr",
     "output_type": "stream",
     "text": [
      "\n",
      "  0%|          | 177/473047 [01:29<12:18:36, 10.67it/s]\u001b[A"
     ]
    },
    {
     "name": "stdout",
     "output_type": "stream",
     "text": [
      "Objective 0.43290678\n",
      "Objective first part 0.0\n",
      "Objective second part -0.43290678\n",
      "Objective 0.39758432\n",
      "Objective first part 0.0\n",
      "Objective second part -0.39758432\n"
     ]
    },
    {
     "name": "stderr",
     "output_type": "stream",
     "text": [
      "\n",
      "  0%|          | 179/473047 [01:30<13:37:20,  9.64it/s]\u001b[A"
     ]
    },
    {
     "name": "stdout",
     "output_type": "stream",
     "text": [
      "Objective 0.40394953\n",
      "Objective first part 0.0\n",
      "Objective second part -0.40394953\n",
      "Objective 0.9222893\n",
      "Objective first part 0.5360737\n",
      "Objective second part -0.38621563\n"
     ]
    },
    {
     "name": "stderr",
     "output_type": "stream",
     "text": [
      "\n",
      "  0%|          | 181/473047 [01:30<13:51:41,  9.48it/s]\u001b[A"
     ]
    },
    {
     "name": "stdout",
     "output_type": "stream",
     "text": [
      "Objective 0.8971344\n",
      "Objective first part 0.516641\n",
      "Objective second part -0.3804934\n",
      "Objective 0.89185154\n",
      "Objective first part 0.53850126\n",
      "Objective second part -0.3533503\n"
     ]
    },
    {
     "name": "stderr",
     "output_type": "stream",
     "text": [
      "\n",
      "  0%|          | 183/473047 [01:30<14:02:23,  9.36it/s]\u001b[A"
     ]
    },
    {
     "name": "stdout",
     "output_type": "stream",
     "text": [
      "Objective 0.39238104\n",
      "Objective first part 0.0\n",
      "Objective second part -0.39238104\n",
      "Objective 0.948379\n",
      "Objective first part 0.540641\n",
      "Objective second part -0.40773797\n"
     ]
    },
    {
     "name": "stderr",
     "output_type": "stream",
     "text": [
      "\n",
      "  0%|          | 185/473047 [01:30<14:27:16,  9.09it/s]\u001b[A"
     ]
    },
    {
     "name": "stdout",
     "output_type": "stream",
     "text": [
      "Objective 0.9227475\n",
      "Objective first part 0.52059007\n",
      "Objective second part -0.4021574\n",
      "Objective 0.3808182\n",
      "Objective first part 0.0\n",
      "Objective second part -0.3808182\n"
     ]
    },
    {
     "name": "stderr",
     "output_type": "stream",
     "text": [
      "\n",
      "  0%|          | 187/473047 [01:31<14:42:15,  8.93it/s]\u001b[A"
     ]
    },
    {
     "name": "stdout",
     "output_type": "stream",
     "text": [
      "Objective 0.94750786\n",
      "Objective first part 0.5393323\n",
      "Objective second part -0.40817556\n",
      "Objective 0.36755705\n",
      "Objective first part 0.0\n",
      "Objective second part -0.36755705\n"
     ]
    },
    {
     "name": "stderr",
     "output_type": "stream",
     "text": [
      "\n",
      "  0%|          | 188/473047 [01:31<14:52:59,  8.83it/s]\u001b[A\n",
      "  0%|          | 189/473047 [01:31<14:53:15,  8.82it/s]\u001b[A"
     ]
    },
    {
     "name": "stdout",
     "output_type": "stream",
     "text": [
      "Objective 0.897682\n",
      "Objective first part 0.5359912\n",
      "Objective second part -0.36169082\n",
      "Objective 0.89154917\n",
      "Objective first part 0.5376008\n",
      "Objective second part -0.35394835\n"
     ]
    },
    {
     "name": "stderr",
     "output_type": "stream",
     "text": [
      "\n",
      "  0%|          | 190/473047 [01:31<15:10:43,  8.65it/s]\u001b[A\n",
      "  0%|          | 191/473047 [01:31<15:10:08,  8.66it/s]\u001b[A"
     ]
    },
    {
     "name": "stdout",
     "output_type": "stream",
     "text": [
      "Objective 0.3779326\n",
      "Objective first part 0.0\n",
      "Objective second part -0.3779326\n",
      "Objective 0.3763274\n",
      "Objective first part 0.0\n",
      "Objective second part -0.3763274\n"
     ]
    },
    {
     "name": "stderr",
     "output_type": "stream",
     "text": [
      "\n",
      "  0%|          | 192/473047 [01:31<14:49:51,  8.86it/s]\u001b[A\n",
      "  0%|          | 193/473047 [01:31<14:31:15,  9.05it/s]\u001b[A"
     ]
    },
    {
     "name": "stdout",
     "output_type": "stream",
     "text": [
      "Objective 0.9094449\n",
      "Objective first part 0.53798014\n",
      "Objective second part -0.37146476\n",
      "Objective 0.94123954\n",
      "Objective first part 0.54137546\n",
      "Objective second part -0.39986408\n"
     ]
    },
    {
     "name": "stderr",
     "output_type": "stream",
     "text": [
      "\n",
      "  0%|          | 194/473047 [01:31<15:03:15,  8.72it/s]\u001b[A\n",
      "  0%|          | 195/473047 [01:31<14:53:38,  8.82it/s]\u001b[A"
     ]
    },
    {
     "name": "stdout",
     "output_type": "stream",
     "text": [
      "Objective 0.8925607\n",
      "Objective first part 0.53796047\n",
      "Objective second part -0.35460022\n",
      "Objective 0.8862677\n",
      "Objective first part 0.53998226\n",
      "Objective second part -0.34628546\n"
     ]
    },
    {
     "name": "stderr",
     "output_type": "stream",
     "text": [
      "\n",
      "  0%|          | 196/473047 [01:32<15:19:02,  8.58it/s]\u001b[A\n",
      "  0%|          | 197/473047 [01:32<15:32:29,  8.45it/s]\u001b[A"
     ]
    },
    {
     "name": "stdout",
     "output_type": "stream",
     "text": [
      "Objective 0.9072946\n",
      "Objective first part 0.53855777\n",
      "Objective second part -0.3687368\n",
      "Objective 0.3686933\n",
      "Objective first part 0.0\n",
      "Objective second part -0.3686933\n"
     ]
    },
    {
     "name": "stderr",
     "output_type": "stream",
     "text": [
      "\n",
      "  0%|          | 198/473047 [01:32<15:52:55,  8.27it/s]\u001b[A\n",
      "  0%|          | 199/473047 [01:32<15:43:04,  8.36it/s]\u001b[A"
     ]
    },
    {
     "name": "stdout",
     "output_type": "stream",
     "text": [
      "Objective 0.36807927\n",
      "Objective first part 0.0\n",
      "Objective second part -0.36807927\n",
      "Objective 0.8939867\n",
      "Objective first part 0.5441763\n",
      "Objective second part -0.34981042\n",
      "Objective 0.9076705\n",
      "Objective first part 0.5377505\n",
      "Objective second part -0.36992002\n",
      "train loss first part 8.612386736683122e-10\n",
      "train loss second part -0.36603072\n"
     ]
    },
    {
     "name": "stderr",
     "output_type": "stream",
     "text": [
      "\n",
      "  0%|          | 201/473047 [02:49<1526:45:15, 11.62s/it]\u001b[A\n",
      "  0%|          | 204/473047 [02:49<1070:26:34,  8.15s/it]\u001b[A"
     ]
    },
    {
     "name": "stdout",
     "output_type": "stream",
     "text": [
      "Objective 0.36738533\n",
      "Objective first part 0.0\n",
      "Objective second part -0.36738533\n",
      "Objective 0.35643965\n",
      "Objective first part 0.0\n",
      "Objective second part -0.35643965\n",
      "Objective 0.3423259\n",
      "Objective first part 0.0\n",
      "Objective second part -0.3423259\n",
      "Objective 0.91000104\n",
      "Objective first part 0.53819597\n",
      "Objective second part -0.37180504\n",
      "Objective 0.33387807\n",
      "Objective first part 0.0\n",
      "Objective second part -0.33387807\n",
      "Objective 0.91504705\n",
      "Objective first part 0.5601009\n",
      "Objective second part -0.35494614\n"
     ]
    },
    {
     "name": "stderr",
     "output_type": "stream",
     "text": [
      "\n",
      "  0%|          | 207/473047 [02:49<750:47:37,  5.72s/it] \u001b[A\n",
      "  0%|          | 210/473047 [02:49<526:58:42,  4.01s/it]\u001b[A"
     ]
    },
    {
     "name": "stdout",
     "output_type": "stream",
     "text": [
      "Objective 0.9410794\n",
      "Objective first part 0.5449942\n",
      "Objective second part -0.39608517\n",
      "Objective 0.89428914\n",
      "Objective first part 0.5532825\n",
      "Objective second part -0.3410066\n",
      "Objective 0.8924557\n",
      "Objective first part 0.53466535\n",
      "Objective second part -0.35779035\n",
      "Objective 0.36695096\n",
      "Objective first part 0.0\n",
      "Objective second part -0.36695096\n",
      "Objective 0.35576776\n",
      "Objective first part 0.0\n",
      "Objective second part -0.35576776\n",
      "Objective 0.90750676\n",
      "Objective first part 0.5583104\n",
      "Objective second part -0.34919637\n"
     ]
    },
    {
     "name": "stderr",
     "output_type": "stream",
     "text": [
      "\n",
      "  0%|          | 213/473047 [02:49<370:14:21,  2.82s/it]\u001b[A\n",
      "  0%|          | 216/473047 [02:49<260:28:53,  1.98s/it]\u001b[A"
     ]
    },
    {
     "name": "stdout",
     "output_type": "stream",
     "text": [
      "Objective 0.3364072\n",
      "Objective first part 0.0\n",
      "Objective second part -0.3364072\n",
      "Objective 0.90333664\n",
      "Objective first part 0.559361\n",
      "Objective second part -0.3439757\n",
      "Objective 0.9330884\n",
      "Objective first part 0.56070703\n",
      "Objective second part -0.3723814\n",
      "Objective 0.9019198\n",
      "Objective first part 0.5453221\n",
      "Objective second part -0.35659766\n",
      "Objective 0.35881868\n",
      "Objective first part 0.0\n",
      "Objective second part -0.35881868\n",
      "Objective 0.89105403\n",
      "Objective first part 0.55186194\n",
      "Objective second part -0.3391921\n",
      "Objective 0.38224036\n",
      "Objective first part 0.0\n",
      "Objective second part -0.38224036\n"
     ]
    },
    {
     "name": "stderr",
     "output_type": "stream",
     "text": [
      "\n",
      "  0%|          | 220/473047 [02:50<183:35:48,  1.40s/it]\u001b[A\n",
      "  0%|          | 223/473047 [02:50<130:21:50,  1.01it/s]\u001b[A"
     ]
    },
    {
     "name": "stdout",
     "output_type": "stream",
     "text": [
      "Objective 0.347661\n",
      "Objective first part 0.0\n",
      "Objective second part -0.347661\n",
      "Objective 0.33460116\n",
      "Objective first part 0.0\n",
      "Objective second part -0.33460116\n",
      "Objective 0.91808844\n",
      "Objective first part 0.5593746\n",
      "Objective second part -0.3587139\n",
      "Objective 0.35156757\n",
      "Objective first part 0.0\n",
      "Objective second part -0.35156757\n",
      "Objective 0.8917139\n",
      "Objective first part 0.55392975\n",
      "Objective second part -0.33778417\n"
     ]
    },
    {
     "name": "stderr",
     "output_type": "stream",
     "text": [
      "\n",
      "  0%|          | 226/473047 [02:50<95:03:10,  1.38it/s] \u001b[A"
     ]
    },
    {
     "name": "stdout",
     "output_type": "stream",
     "text": [
      "Objective 0.34619763\n",
      "Objective first part 0.0\n",
      "Objective second part -0.34619763\n",
      "Objective 0.37051445\n",
      "Objective first part 0.0\n",
      "Objective second part -0.37051445\n",
      "Objective 0.3190375\n",
      "Objective first part 0.0\n",
      "Objective second part -0.3190375\n",
      "Objective 0.34010673\n",
      "Objective first part 0.0\n",
      "Objective second part -0.34010673\n"
     ]
    },
    {
     "name": "stderr",
     "output_type": "stream",
     "text": [
      "\n",
      "  0%|          | 229/473047 [02:50<71:23:42,  1.84it/s]\u001b[A"
     ]
    },
    {
     "name": "stdout",
     "output_type": "stream",
     "text": [
      "Objective 0.35771075\n",
      "Objective first part 0.0\n",
      "Objective second part -0.35771075\n",
      "Objective 0.88657254\n",
      "Objective first part 0.556788\n",
      "Objective second part -0.3297845\n"
     ]
    },
    {
     "name": "stderr",
     "output_type": "stream",
     "text": [
      "\n",
      "  0%|          | 231/473047 [02:51<54:44:15,  2.40it/s]\u001b[A"
     ]
    },
    {
     "name": "stdout",
     "output_type": "stream",
     "text": [
      "Objective 0.9095378\n",
      "Objective first part 0.5614827\n",
      "Objective second part -0.34805506\n",
      "Objective 0.3298787\n",
      "Objective first part 0.0\n",
      "Objective second part -0.3298787\n"
     ]
    },
    {
     "name": "stderr",
     "output_type": "stream",
     "text": [
      "\n",
      "  0%|          | 233/473047 [02:51<43:11:34,  3.04it/s]\u001b[A\n",
      "  0%|          | 235/473047 [02:51<33:40:43,  3.90it/s]\u001b[A"
     ]
    },
    {
     "name": "stdout",
     "output_type": "stream",
     "text": [
      "Objective 0.34244728\n",
      "Objective first part 0.0\n",
      "Objective second part -0.34244728\n",
      "Objective 0.88741964\n",
      "Objective first part 0.5624129\n",
      "Objective second part -0.32500672\n",
      "Objective 0.9077174\n",
      "Objective first part 0.56246287\n",
      "Objective second part -0.34525454\n"
     ]
    },
    {
     "name": "stderr",
     "output_type": "stream",
     "text": [
      "\n",
      "  0%|          | 237/473047 [02:51<27:04:52,  4.85it/s]\u001b[A"
     ]
    },
    {
     "name": "stdout",
     "output_type": "stream",
     "text": [
      "Objective 0.88077086\n",
      "Objective first part 0.5507005\n",
      "Objective second part -0.33007038\n",
      "Objective 0.33846664\n",
      "Objective first part 0.0\n",
      "Objective second part -0.33846664\n"
     ]
    },
    {
     "name": "stderr",
     "output_type": "stream",
     "text": [
      "\n",
      "  0%|          | 239/473047 [02:51<23:01:39,  5.70it/s]\u001b[A"
     ]
    },
    {
     "name": "stdout",
     "output_type": "stream",
     "text": [
      "Objective 0.35076267\n",
      "Objective first part 0.0\n",
      "Objective second part -0.35076267\n",
      "Objective 0.8851582\n",
      "Objective first part 0.559125\n",
      "Objective second part -0.32603317\n"
     ]
    },
    {
     "name": "stderr",
     "output_type": "stream",
     "text": [
      "\n",
      "  0%|          | 241/473047 [02:52<21:18:40,  6.16it/s]\u001b[A"
     ]
    },
    {
     "name": "stdout",
     "output_type": "stream",
     "text": [
      "Objective 0.32349482\n",
      "Objective first part 0.0\n",
      "Objective second part -0.32349482\n",
      "Objective 0.870083\n",
      "Objective first part 0.5608428\n",
      "Objective second part -0.30924013\n"
     ]
    },
    {
     "name": "stderr",
     "output_type": "stream",
     "text": [
      "\n",
      "  0%|          | 243/473047 [02:52<19:24:34,  6.77it/s]\u001b[A"
     ]
    },
    {
     "name": "stdout",
     "output_type": "stream",
     "text": [
      "Objective 0.8814448\n",
      "Objective first part 0.5757525\n",
      "Objective second part -0.30569234\n",
      "Objective 0.32396916\n",
      "Objective first part 0.0\n",
      "Objective second part -0.32396916\n"
     ]
    },
    {
     "name": "stderr",
     "output_type": "stream",
     "text": [
      "\n",
      "  0%|          | 244/473047 [02:52<18:29:08,  7.10it/s]\u001b[A\n",
      "  0%|          | 245/473047 [02:52<17:33:52,  7.48it/s]\u001b[A"
     ]
    },
    {
     "name": "stdout",
     "output_type": "stream",
     "text": [
      "Objective 0.894601\n",
      "Objective first part 0.57120764\n",
      "Objective second part -0.32339334\n",
      "Objective 0.31349552\n",
      "Objective first part 0.0\n",
      "Objective second part -0.31349552\n"
     ]
    },
    {
     "name": "stderr",
     "output_type": "stream",
     "text": [
      "\n",
      "  0%|          | 246/473047 [02:52<16:56:08,  7.75it/s]\u001b[A\n",
      "  0%|          | 247/473047 [02:52<16:54:47,  7.77it/s]\u001b[A"
     ]
    },
    {
     "name": "stdout",
     "output_type": "stream",
     "text": [
      "Objective 0.8731721\n",
      "Objective first part 0.5717235\n",
      "Objective second part -0.30144858\n",
      "Objective 0.9164194\n",
      "Objective first part 0.5798763\n",
      "Objective second part -0.33654305\n"
     ]
    },
    {
     "name": "stderr",
     "output_type": "stream",
     "text": [
      "\n",
      "  0%|          | 248/473047 [02:53<17:09:43,  7.65it/s]\u001b[A\n",
      "  0%|          | 249/473047 [02:53<16:58:02,  7.74it/s]\u001b[A"
     ]
    },
    {
     "name": "stdout",
     "output_type": "stream",
     "text": [
      "Objective 0.32236558\n",
      "Objective first part 0.0\n",
      "Objective second part -0.32236558\n",
      "Objective 0.9025129\n",
      "Objective first part 0.576154\n",
      "Objective second part -0.3263589\n"
     ]
    },
    {
     "name": "stderr",
     "output_type": "stream",
     "text": [
      "\n",
      "  0%|          | 250/473047 [02:53<16:50:44,  7.80it/s]\u001b[A\n",
      "  0%|          | 251/473047 [02:53<17:12:46,  7.63it/s]\u001b[A"
     ]
    },
    {
     "name": "stdout",
     "output_type": "stream",
     "text": [
      "Objective 0.91054595\n",
      "Objective first part 0.57593155\n",
      "Objective second part -0.33461443\n",
      "Objective 0.32494864\n",
      "Objective first part 0.0\n",
      "Objective second part -0.32494864\n"
     ]
    },
    {
     "name": "stderr",
     "output_type": "stream",
     "text": [
      "\n",
      "  0%|          | 252/473047 [02:53<17:17:26,  7.60it/s]\u001b[A\n",
      "  0%|          | 253/473047 [02:53<17:21:31,  7.57it/s]\u001b[A"
     ]
    },
    {
     "name": "stdout",
     "output_type": "stream",
     "text": [
      "Objective 0.31104335\n",
      "Objective first part 0.0\n",
      "Objective second part -0.31104335\n",
      "Objective 0.33409896\n",
      "Objective first part 0.0\n",
      "Objective second part -0.33409896\n"
     ]
    },
    {
     "name": "stderr",
     "output_type": "stream",
     "text": [
      "\n",
      "  0%|          | 254/473047 [02:53<17:16:51,  7.60it/s]\u001b[A\n",
      "  0%|          | 255/473047 [02:53<17:16:07,  7.61it/s]\u001b[A"
     ]
    },
    {
     "name": "stdout",
     "output_type": "stream",
     "text": [
      "Objective 0.3024066\n",
      "Objective first part 0.0\n",
      "Objective second part -0.3024066\n",
      "Objective 0.347481\n",
      "Objective first part 0.0\n",
      "Objective second part -0.347481\n",
      "Objective 0.9161279\n",
      "Objective first part 0.5753886\n",
      "Objective second part -0.34073934\n"
     ]
    },
    {
     "name": "stderr",
     "output_type": "stream",
     "text": [
      "\n",
      "  0%|          | 257/473047 [02:54<14:21:43,  9.14it/s]\u001b[A\n",
      "  0%|          | 259/473047 [02:54<12:31:58, 10.48it/s]\u001b[A"
     ]
    },
    {
     "name": "stdout",
     "output_type": "stream",
     "text": [
      "Objective 0.88234115\n",
      "Objective first part 0.56699026\n",
      "Objective second part -0.3153509\n",
      "Objective 0.32212707\n",
      "Objective first part 0.0\n",
      "Objective second part -0.32212707\n",
      "Objective 0.29996407\n",
      "Objective first part 0.0\n",
      "Objective second part -0.29996407\n",
      "Objective 0.868883\n",
      "Objective first part 0.5674446\n",
      "Objective second part -0.30143836\n"
     ]
    },
    {
     "name": "stderr",
     "output_type": "stream",
     "text": [
      "\n",
      "  0%|          | 261/473047 [02:54<11:12:27, 11.72it/s]\u001b[A\n",
      "  0%|          | 263/473047 [02:54<10:05:38, 13.01it/s]\u001b[A"
     ]
    },
    {
     "name": "stdout",
     "output_type": "stream",
     "text": [
      "Objective 0.3115149\n",
      "Objective first part 0.0\n",
      "Objective second part -0.3115149\n",
      "Objective 0.88426024\n",
      "Objective first part 0.5745611\n",
      "Objective second part -0.30969912\n",
      "Objective 0.8654363\n",
      "Objective first part 0.56669843\n",
      "Objective second part -0.29873788\n",
      "Objective 0.8632799\n",
      "Objective first part 0.5644508\n",
      "Objective second part -0.29882908\n"
     ]
    },
    {
     "name": "stderr",
     "output_type": "stream",
     "text": [
      "\n",
      "  0%|          | 266/473047 [02:54<8:49:12, 14.89it/s] \u001b[A\n",
      "  0%|          | 269/473047 [02:54<7:40:27, 17.11it/s]\u001b[A"
     ]
    },
    {
     "name": "stdout",
     "output_type": "stream",
     "text": [
      "Objective 0.91457343\n",
      "Objective first part 0.5761806\n",
      "Objective second part -0.33839282\n",
      "Objective 0.28729376\n",
      "Objective first part 0.0\n",
      "Objective second part -0.28729376\n",
      "Objective 0.8725057\n",
      "Objective first part 0.5825924\n",
      "Objective second part -0.2899133\n",
      "Objective 0.8627632\n",
      "Objective first part 0.5719937\n",
      "Objective second part -0.29076952\n",
      "Objective 0.85468435\n",
      "Objective first part 0.5718133\n",
      "Objective second part -0.2828711\n",
      "Objective 0.88860786\n",
      "Objective first part 0.59080166\n",
      "Objective second part -0.29780617\n"
     ]
    },
    {
     "name": "stderr",
     "output_type": "stream",
     "text": [
      "\n",
      "  0%|          | 272/473047 [02:54<6:53:36, 19.05it/s]\u001b[A\n",
      "  0%|          | 275/473047 [02:54<6:08:23, 21.39it/s]\u001b[A"
     ]
    },
    {
     "name": "stdout",
     "output_type": "stream",
     "text": [
      "Objective 0.8877014\n",
      "Objective first part 0.568481\n",
      "Objective second part -0.31922036\n",
      "Objective 0.29149815\n",
      "Objective first part 0.0\n",
      "Objective second part -0.29149815\n",
      "Objective 0.89503306\n",
      "Objective first part 0.58572197\n",
      "Objective second part -0.3093111\n",
      "Objective 0.88598347\n",
      "Objective first part 0.5951776\n",
      "Objective second part -0.29080585\n",
      "Objective 0.29490876\n",
      "Objective first part 0.0\n",
      "Objective second part -0.29490876\n",
      "Objective 0.29805917\n",
      "Objective first part 0.0\n",
      "Objective second part -0.29805917\n"
     ]
    },
    {
     "name": "stderr",
     "output_type": "stream",
     "text": [
      "\n",
      "  0%|          | 278/473047 [02:55<5:36:50, 23.39it/s]\u001b[A\n",
      "  0%|          | 282/473047 [02:55<5:17:29, 24.82it/s]\u001b[A"
     ]
    },
    {
     "name": "stdout",
     "output_type": "stream",
     "text": [
      "Objective 0.28730187\n",
      "Objective first part 0.0\n",
      "Objective second part -0.28730187\n",
      "Objective 0.30487153\n",
      "Objective first part 0.0\n",
      "Objective second part -0.30487153\n",
      "Objective 0.8698027\n",
      "Objective first part 0.57951\n",
      "Objective second part -0.29029274\n",
      "Objective 0.29668647\n",
      "Objective first part 0.0\n",
      "Objective second part -0.29668647\n",
      "Objective 0.28190413\n",
      "Objective first part 0.0\n",
      "Objective second part -0.28190413\n",
      "Objective 0.86976874\n",
      "Objective first part 0.5732798\n",
      "Objective second part -0.29648897\n"
     ]
    },
    {
     "name": "stderr",
     "output_type": "stream",
     "text": [
      "\n",
      "  0%|          | 285/473047 [02:55<6:01:50, 21.78it/s]\u001b[A"
     ]
    },
    {
     "name": "stdout",
     "output_type": "stream",
     "text": [
      "Objective 0.8516043\n",
      "Objective first part 0.58049715\n",
      "Objective second part -0.27110714\n",
      "Objective 0.868432\n",
      "Objective first part 0.5889805\n",
      "Objective second part -0.2794515\n",
      "Objective 0.89124686\n",
      "Objective first part 0.5859024\n",
      "Objective second part -0.30534446\n",
      "Objective 0.31222016\n",
      "Objective first part 0.0\n",
      "Objective second part -0.31222016\n"
     ]
    },
    {
     "name": "stderr",
     "output_type": "stream",
     "text": [
      "\n",
      "  0%|          | 288/473047 [02:55<7:18:27, 17.97it/s]\u001b[A"
     ]
    },
    {
     "name": "stdout",
     "output_type": "stream",
     "text": [
      "Objective 0.8717829\n",
      "Objective first part 0.57952553\n",
      "Objective second part -0.29225737\n",
      "Objective 0.8720964\n",
      "Objective first part 0.5821161\n",
      "Objective second part -0.2899803\n"
     ]
    },
    {
     "name": "stderr",
     "output_type": "stream",
     "text": [
      "\n"
     ]
    },
    {
     "name": "stdout",
     "output_type": "stream",
     "text": [
      "Objective 0.28108403\n",
      "Objective first part 0.0\n",
      "Objective second part -0.28108403\n",
      "Objective 0.2672029\n",
      "Objective first part 0.0\n",
      "Objective second part -0.2672029\n"
     ]
    },
    {
     "name": "stderr",
     "output_type": "stream",
     "text": [
      "  0%|          | 291/473047 [02:55<9:28:52, 13.85it/s]\u001b[A"
     ]
    },
    {
     "name": "stdout",
     "output_type": "stream",
     "text": [
      "Objective 0.8759305\n",
      "Objective first part 0.58367825\n",
      "Objective second part -0.29225224\n",
      "Objective 0.88892734\n",
      "Objective first part 0.60800475\n",
      "Objective second part -0.2809226\n"
     ]
    },
    {
     "name": "stderr",
     "output_type": "stream",
     "text": [
      "\n",
      "  0%|          | 293/473047 [02:56<11:05:43, 11.84it/s]\u001b[A"
     ]
    },
    {
     "name": "stdout",
     "output_type": "stream",
     "text": [
      "Objective 0.8640305\n",
      "Objective first part 0.5919856\n",
      "Objective second part -0.27204487\n",
      "Objective 0.8535739\n",
      "Objective first part 0.57534164\n",
      "Objective second part -0.27823225\n"
     ]
    },
    {
     "name": "stderr",
     "output_type": "stream",
     "text": [
      "\n",
      "  0%|          | 295/473047 [02:56<12:21:30, 10.63it/s]\u001b[A"
     ]
    },
    {
     "name": "stdout",
     "output_type": "stream",
     "text": [
      "Objective 0.29765013\n",
      "Objective first part 0.0\n",
      "Objective second part -0.29765013\n",
      "Objective 0.27231202\n",
      "Objective first part 0.0\n",
      "Objective second part -0.27231202\n"
     ]
    },
    {
     "name": "stderr",
     "output_type": "stream",
     "text": [
      "\n",
      "  0%|          | 297/473047 [02:56<13:02:32, 10.07it/s]\u001b[A"
     ]
    },
    {
     "name": "stdout",
     "output_type": "stream",
     "text": [
      "Objective 0.2837752\n",
      "Objective first part 0.0\n",
      "Objective second part -0.2837752\n",
      "Objective 0.85418385\n",
      "Objective first part 0.5885379\n",
      "Objective second part -0.26564598\n"
     ]
    },
    {
     "name": "stderr",
     "output_type": "stream",
     "text": [
      "\n",
      "  0%|          | 299/473047 [02:56<13:36:55,  9.64it/s]\u001b[A"
     ]
    },
    {
     "name": "stdout",
     "output_type": "stream",
     "text": [
      "Objective 0.8617859\n",
      "Objective first part 0.59124106\n",
      "Objective second part -0.2705448\n",
      "Objective 0.8732195\n",
      "Objective first part 0.5963675\n",
      "Objective second part -0.27685204\n"
     ]
    },
    {
     "name": "stderr",
     "output_type": "stream",
     "text": [
      "\n",
      "  0%|          | 299/473047 [03:13<13:36:55,  9.64it/s]\u001b[A"
     ]
    },
    {
     "name": "stdout",
     "output_type": "stream",
     "text": [
      "train loss first part 9.41460202627796e-10\n",
      "train loss second part -0.27629\n"
     ]
    },
    {
     "name": "stderr",
     "output_type": "stream",
     "text": [
      "\n",
      "  0%|          | 301/473047 [04:15<1565:46:36, 11.92s/it]\u001b[A\n",
      "  0%|          | 303/473047 [04:15<1098:16:57,  8.36s/it]\u001b[A"
     ]
    },
    {
     "name": "stdout",
     "output_type": "stream",
     "text": [
      "Objective 0.2898941\n",
      "Objective first part 0.0\n",
      "Objective second part -0.2898941\n",
      "Objective 0.25676972\n",
      "Objective first part 0.0\n",
      "Objective second part -0.25676972\n",
      "Objective 0.27939177\n",
      "Objective first part 0.0\n",
      "Objective second part -0.27939177\n",
      "Objective 0.2740024\n",
      "Objective first part 0.0\n",
      "Objective second part -0.2740024\n",
      "Objective 0.85430527\n",
      "Objective first part 0.58829224\n",
      "Objective second part -0.26601306\n"
     ]
    },
    {
     "name": "stderr",
     "output_type": "stream",
     "text": [
      "\n",
      "  0%|          | 306/473047 [04:16<770:16:46,  5.87s/it] \u001b[A\n",
      "  0%|          | 311/473047 [04:16<540:06:48,  4.11s/it]\u001b[A"
     ]
    },
    {
     "name": "stdout",
     "output_type": "stream",
     "text": [
      "Objective 0.2586871\n",
      "Objective first part 0.0\n",
      "Objective second part -0.2586871\n",
      "Objective 0.86514884\n",
      "Objective first part 0.59534436\n",
      "Objective second part -0.26980448\n",
      "Objective 0.8642733\n",
      "Objective first part 0.59126645\n",
      "Objective second part -0.27300683\n",
      "Objective 0.25872254\n",
      "Objective first part 0.0\n",
      "Objective second part -0.25872254\n",
      "Objective 0.26769972\n",
      "Objective first part 0.0\n",
      "Objective second part -0.26769972\n",
      "Objective 0.27611277\n",
      "Objective first part 0.0\n",
      "Objective second part -0.27611277\n",
      "Objective 0.89418113\n",
      "Objective first part 0.6065095\n",
      "Objective second part -0.2876716\n",
      "Objective 0.28668478\n",
      "Objective first part 0.0\n",
      "Objective second part -0.28668478\n",
      "Objective 0.88428485\n",
      "Objective first part 0.6118013\n",
      "Objective second part -0.2724835\n"
     ]
    },
    {
     "name": "stderr",
     "output_type": "stream",
     "text": [
      "\n",
      "  0%|          | 315/473047 [04:16<379:07:50,  2.89s/it]\u001b[A\n",
      "  0%|          | 319/473047 [04:16<266:42:05,  2.03s/it]\u001b[A"
     ]
    },
    {
     "name": "stdout",
     "output_type": "stream",
     "text": [
      "Objective 0.25495544\n",
      "Objective first part 0.0\n",
      "Objective second part -0.25495544\n",
      "Objective 0.2730748\n",
      "Objective first part 0.0\n",
      "Objective second part -0.2730748\n",
      "Objective 0.8702624\n",
      "Objective first part 0.60517853\n",
      "Objective second part -0.26508382\n",
      "Objective 0.87538373\n",
      "Objective first part 0.6050242\n",
      "Objective second part -0.27035952\n",
      "Objective 0.26184547\n",
      "Objective first part 0.0\n",
      "Objective second part -0.26184547\n",
      "Objective 0.25281733\n",
      "Objective first part 0.0\n",
      "Objective second part -0.25281733\n"
     ]
    },
    {
     "name": "stderr",
     "output_type": "stream",
     "text": [
      "\n",
      "  0%|          | 322/473047 [04:16<188:11:34,  1.43s/it]\u001b[A\n",
      "  0%|          | 325/473047 [04:16<133:05:09,  1.01s/it]\u001b[A"
     ]
    },
    {
     "name": "stdout",
     "output_type": "stream",
     "text": [
      "Objective 0.8758503\n",
      "Objective first part 0.6064646\n",
      "Objective second part -0.26938567\n",
      "Objective 0.26008728\n",
      "Objective first part 0.0\n",
      "Objective second part -0.26008728\n",
      "Objective 0.25500658\n",
      "Objective first part 0.0\n",
      "Objective second part -0.25500658\n",
      "Objective 0.24451824\n",
      "Objective first part 0.0\n",
      "Objective second part -0.24451824\n",
      "Objective 0.24139348\n",
      "Objective first part 0.0\n",
      "Objective second part -0.24139348\n",
      "Objective 0.25825888\n",
      "Objective first part 0.0\n",
      "Objective second part -0.25825888\n"
     ]
    },
    {
     "name": "stderr",
     "output_type": "stream",
     "text": [
      "\n",
      "  0%|          | 328/473047 [04:16<95:14:16,  1.38it/s] \u001b[A"
     ]
    },
    {
     "name": "stdout",
     "output_type": "stream",
     "text": [
      "Objective 0.2486358\n",
      "Objective first part 0.0\n",
      "Objective second part -0.2486358\n",
      "Objective 0.852594\n",
      "Objective first part 0.60900754\n",
      "Objective second part -0.24358648\n",
      "Objective 0.86301506\n",
      "Objective first part 0.59727556\n",
      "Objective second part -0.2657395\n"
     ]
    },
    {
     "name": "stderr",
     "output_type": "stream",
     "text": [
      "\n",
      "  0%|          | 331/473047 [04:17<71:35:35,  1.83it/s]\u001b[A"
     ]
    },
    {
     "name": "stdout",
     "output_type": "stream",
     "text": [
      "Objective 0.23625271\n",
      "Objective first part 0.0\n",
      "Objective second part -0.23625271\n",
      "Objective 0.85513437\n",
      "Objective first part 0.6150209\n",
      "Objective second part -0.24011348\n"
     ]
    },
    {
     "name": "stderr",
     "output_type": "stream",
     "text": [
      "\n",
      "  0%|          | 333/473047 [04:17<55:10:31,  2.38it/s]\u001b[A"
     ]
    },
    {
     "name": "stdout",
     "output_type": "stream",
     "text": [
      "Objective 0.25476277\n",
      "Objective first part 0.0\n",
      "Objective second part -0.25476277\n",
      "Objective 0.8619769\n",
      "Objective first part 0.60537124\n",
      "Objective second part -0.25660568\n"
     ]
    },
    {
     "name": "stderr",
     "output_type": "stream",
     "text": [
      "\n",
      "  0%|          | 335/473047 [04:17<43:36:43,  3.01it/s]\u001b[A"
     ]
    },
    {
     "name": "stdout",
     "output_type": "stream",
     "text": [
      "Objective 0.25178114\n",
      "Objective first part 0.0\n",
      "Objective second part -0.25178114\n",
      "Objective 0.83615327\n",
      "Objective first part 0.6043807\n",
      "Objective second part -0.23177253\n"
     ]
    },
    {
     "name": "stderr",
     "output_type": "stream",
     "text": [
      "\n",
      "  0%|          | 337/473047 [04:17<35:21:51,  3.71it/s]\u001b[A"
     ]
    },
    {
     "name": "stdout",
     "output_type": "stream",
     "text": [
      "Objective 0.86531603\n",
      "Objective first part 0.61214215\n",
      "Objective second part -0.25317392\n",
      "Objective 0.2570783\n",
      "Objective first part 0.0\n",
      "Objective second part -0.2570783\n"
     ]
    },
    {
     "name": "stderr",
     "output_type": "stream",
     "text": [
      "\n",
      "  0%|          | 339/473047 [04:18<29:35:46,  4.44it/s]\u001b[A"
     ]
    },
    {
     "name": "stdout",
     "output_type": "stream",
     "text": [
      "Objective 0.85538834\n",
      "Objective first part 0.5938361\n",
      "Objective second part -0.2615522\n",
      "Objective 0.2677386\n",
      "Objective first part 0.0\n",
      "Objective second part -0.2677386\n"
     ]
    },
    {
     "name": "stderr",
     "output_type": "stream",
     "text": [
      "\n",
      "  0%|          | 341/473047 [04:18<25:44:18,  5.10it/s]\u001b[A"
     ]
    },
    {
     "name": "stdout",
     "output_type": "stream",
     "text": [
      "Objective 0.25504357\n",
      "Objective first part 0.0\n",
      "Objective second part -0.25504357\n",
      "Objective 0.8421234\n",
      "Objective first part 0.6049406\n",
      "Objective second part -0.23718278\n"
     ]
    },
    {
     "name": "stderr",
     "output_type": "stream",
     "text": [
      "\n",
      "  0%|          | 342/473047 [04:18<23:08:36,  5.67it/s]\u001b[A\n",
      "  0%|          | 343/473047 [04:18<21:16:15,  6.17it/s]\u001b[A"
     ]
    },
    {
     "name": "stdout",
     "output_type": "stream",
     "text": [
      "Objective 0.23174801\n",
      "Objective first part 0.0\n",
      "Objective second part -0.23174801\n",
      "Objective 0.85627246\n",
      "Objective first part 0.60866165\n",
      "Objective second part -0.24761079\n"
     ]
    },
    {
     "name": "stderr",
     "output_type": "stream",
     "text": [
      "\n",
      "  0%|          | 344/473047 [04:18<19:56:44,  6.58it/s]\u001b[A\n",
      "  0%|          | 345/473047 [04:18<18:35:16,  7.06it/s]\u001b[A"
     ]
    },
    {
     "name": "stdout",
     "output_type": "stream",
     "text": [
      "Objective 0.8605789\n",
      "Objective first part 0.61329323\n",
      "Objective second part -0.24728566\n",
      "Objective 0.84773946\n",
      "Objective first part 0.61191934\n",
      "Objective second part -0.2358201\n"
     ]
    },
    {
     "name": "stderr",
     "output_type": "stream",
     "text": [
      "\n",
      "  0%|          | 346/473047 [04:19<18:06:05,  7.25it/s]\u001b[A\n",
      "  0%|          | 347/473047 [04:19<17:34:26,  7.47it/s]\u001b[A"
     ]
    },
    {
     "name": "stdout",
     "output_type": "stream",
     "text": [
      "Objective 0.22969733\n",
      "Objective first part 0.0\n",
      "Objective second part -0.22969733\n",
      "Objective 0.86542743\n",
      "Objective first part 0.617346\n",
      "Objective second part -0.24808146\n"
     ]
    },
    {
     "name": "stderr",
     "output_type": "stream",
     "text": [
      "\n",
      "  0%|          | 348/473047 [04:19<17:30:08,  7.50it/s]\u001b[A\n",
      "  0%|          | 349/473047 [04:19<17:01:59,  7.71it/s]\u001b[A"
     ]
    },
    {
     "name": "stdout",
     "output_type": "stream",
     "text": [
      "Objective 0.26175934\n",
      "Objective first part 0.0\n",
      "Objective second part -0.26175934\n",
      "Objective 0.2398226\n",
      "Objective first part 0.0\n",
      "Objective second part -0.2398226\n"
     ]
    },
    {
     "name": "stderr",
     "output_type": "stream",
     "text": [
      "\n",
      "  0%|          | 350/473047 [04:19<16:48:44,  7.81it/s]\u001b[A\n",
      "  0%|          | 351/473047 [04:19<16:26:19,  7.99it/s]\u001b[A"
     ]
    },
    {
     "name": "stdout",
     "output_type": "stream",
     "text": [
      "Objective 0.84976596\n",
      "Objective first part 0.6116492\n",
      "Objective second part -0.23811676\n",
      "Objective 0.23047993\n",
      "Objective first part 0.0\n",
      "Objective second part -0.23047993\n"
     ]
    },
    {
     "name": "stderr",
     "output_type": "stream",
     "text": [
      "\n",
      "  0%|          | 352/473047 [04:19<16:40:07,  7.88it/s]\u001b[A\n",
      "  0%|          | 353/473047 [04:19<16:28:57,  7.97it/s]\u001b[A"
     ]
    },
    {
     "name": "stdout",
     "output_type": "stream",
     "text": [
      "Objective 0.82132435\n",
      "Objective first part 0.6096799\n",
      "Objective second part -0.21164444\n",
      "Objective 0.85419506\n",
      "Objective first part 0.6188671\n",
      "Objective second part -0.23532794\n"
     ]
    },
    {
     "name": "stderr",
     "output_type": "stream",
     "text": [
      "\n",
      "  0%|          | 354/473047 [04:20<16:07:07,  8.15it/s]\u001b[A\n",
      "  0%|          | 355/473047 [04:20<16:48:23,  7.81it/s]\u001b[A"
     ]
    },
    {
     "name": "stdout",
     "output_type": "stream",
     "text": [
      "Objective 0.86515105\n",
      "Objective first part 0.61886275\n",
      "Objective second part -0.24628827\n",
      "Objective 0.85640025\n",
      "Objective first part 0.62064004\n",
      "Objective second part -0.23576018\n"
     ]
    },
    {
     "name": "stderr",
     "output_type": "stream",
     "text": [
      "\n",
      "  0%|          | 356/473047 [04:20<16:43:59,  7.85it/s]\u001b[A\n",
      "  0%|          | 357/473047 [04:20<16:52:25,  7.78it/s]\u001b[A"
     ]
    },
    {
     "name": "stdout",
     "output_type": "stream",
     "text": [
      "Objective 0.8740377\n",
      "Objective first part 0.6340833\n",
      "Objective second part -0.23995443\n",
      "Objective 0.86549604\n",
      "Objective first part 0.6242401\n",
      "Objective second part -0.24125592\n",
      "Objective 0.8405225\n",
      "Objective first part 0.6147357\n",
      "Objective second part -0.22578678\n"
     ]
    },
    {
     "name": "stderr",
     "output_type": "stream",
     "text": [
      "\n",
      "  0%|          | 360/473047 [04:20<13:30:48,  9.72it/s]\u001b[A\n",
      "  0%|          | 363/473047 [04:20<10:59:20, 11.95it/s]\u001b[A"
     ]
    },
    {
     "name": "stdout",
     "output_type": "stream",
     "text": [
      "Objective 0.24861853\n",
      "Objective first part 0.0\n",
      "Objective second part -0.24861853\n",
      "Objective 0.22500844\n",
      "Objective first part 0.0\n",
      "Objective second part -0.22500844\n",
      "Objective 0.8591294\n",
      "Objective first part 0.61995655\n",
      "Objective second part -0.23917288\n",
      "Objective 0.22458425\n",
      "Objective first part 0.0\n",
      "Objective second part -0.22458425\n",
      "Objective 0.23057307\n",
      "Objective first part 0.0\n",
      "Objective second part -0.23057307\n",
      "Objective 0.87186515\n",
      "Objective first part 0.6214075\n",
      "Objective second part -0.2504576\n"
     ]
    },
    {
     "name": "stderr",
     "output_type": "stream",
     "text": [
      "\n",
      "  0%|          | 365/473047 [04:20<9:50:58, 13.33it/s] \u001b[A\n",
      "  0%|          | 367/473047 [04:20<9:16:08, 14.17it/s]\u001b[A"
     ]
    },
    {
     "name": "stdout",
     "output_type": "stream",
     "text": [
      "Objective 0.8387642\n",
      "Objective first part 0.6150776\n",
      "Objective second part -0.2236866\n",
      "Objective 0.23311938\n",
      "Objective first part 0.0\n",
      "Objective second part -0.23311938\n",
      "Objective 0.86441743\n",
      "Objective first part 0.6237583\n",
      "Objective second part -0.2406591\n",
      "Objective 0.83673596\n",
      "Objective first part 0.6281694\n",
      "Objective second part -0.20856655\n"
     ]
    },
    {
     "name": "stderr",
     "output_type": "stream",
     "text": [
      "\n",
      "  0%|          | 369/473047 [04:21<8:41:48, 15.10it/s]\u001b[A\n",
      "  0%|          | 372/473047 [04:21<7:41:05, 17.09it/s]\u001b[A"
     ]
    },
    {
     "name": "stdout",
     "output_type": "stream",
     "text": [
      "Objective 0.22218004\n",
      "Objective first part 0.0\n",
      "Objective second part -0.22218004\n",
      "Objective 0.2255562\n",
      "Objective first part 0.0\n",
      "Objective second part -0.2255562\n",
      "Objective 0.20813394\n",
      "Objective first part 0.0\n",
      "Objective second part -0.20813394\n",
      "Objective 0.84985757\n",
      "Objective first part 0.6272307\n",
      "Objective second part -0.2226269\n",
      "Objective 0.8452153\n",
      "Objective first part 0.62379825\n",
      "Objective second part -0.22141708\n",
      "Objective 0.83234495\n",
      "Objective first part 0.62304527\n",
      "Objective second part -0.2092997\n"
     ]
    },
    {
     "name": "stderr",
     "output_type": "stream",
     "text": [
      "\n",
      "  0%|          | 375/473047 [04:21<6:50:07, 19.21it/s]\u001b[A\n",
      "  0%|          | 378/473047 [04:21<6:09:25, 21.32it/s]\u001b[A\n",
      "  0%|          | 381/473047 [04:21<5:38:21, 23.28it/s]\u001b[A"
     ]
    },
    {
     "name": "stdout",
     "output_type": "stream",
     "text": [
      "Objective 0.23064558\n",
      "Objective first part 0.0\n",
      "Objective second part -0.23064558\n",
      "Objective 0.8319499\n",
      "Objective first part 0.61764973\n",
      "Objective second part -0.21430017\n",
      "Objective 0.85332716\n",
      "Objective first part 0.6233399\n",
      "Objective second part -0.22998723\n",
      "Objective 0.8384798\n",
      "Objective first part 0.6233315\n",
      "Objective second part -0.21514833\n",
      "Objective 0.829406\n",
      "Objective first part 0.6200516\n",
      "Objective second part -0.20935437\n",
      "Objective 0.22107315\n",
      "Objective first part 0.0\n",
      "Objective second part -0.22107315\n"
     ]
    },
    {
     "name": "stderr",
     "output_type": "stream",
     "text": [
      "\n",
      "  0%|          | 384/473047 [04:21<5:21:56, 24.47it/s]\u001b[A"
     ]
    },
    {
     "name": "stdout",
     "output_type": "stream",
     "text": [
      "Objective 0.85455143\n",
      "Objective first part 0.62610364\n",
      "Objective second part -0.2284478\n",
      "Objective 0.20555513\n",
      "Objective first part 0.0\n",
      "Objective second part -0.20555513\n",
      "Objective 0.8288007\n",
      "Objective first part 0.62682945\n",
      "Objective second part -0.20197126\n",
      "Objective 0.8212094\n",
      "Objective first part 0.62053955\n",
      "Objective second part -0.20066983\n",
      "Objective 0.23263104\n",
      "Objective first part 0.0\n",
      "Objective second part -0.23263104\n",
      "Objective 0.865536\n",
      "Objective first part 0.63259596\n",
      "Objective second part -0.23294\n",
      "Objective 0.21610248\n",
      "Objective first part 0.0\n",
      "Objective second part -0.21610248\n"
     ]
    },
    {
     "name": "stderr",
     "output_type": "stream",
     "text": [
      "\n",
      "  0%|          | 388/473047 [04:21<4:57:30, 26.48it/s]\u001b[A\n",
      "  0%|          | 392/473047 [04:21<4:31:54, 28.97it/s]\u001b[A"
     ]
    },
    {
     "name": "stdout",
     "output_type": "stream",
     "text": [
      "Objective 0.83012897\n",
      "Objective first part 0.61658007\n",
      "Objective second part -0.21354888\n",
      "Objective 0.8466456\n",
      "Objective first part 0.6335759\n",
      "Objective second part -0.2130697\n",
      "Objective 0.23592807\n",
      "Objective first part 0.0\n",
      "Objective second part -0.23592807\n",
      "Objective 0.20938964\n",
      "Objective first part 0.0\n",
      "Objective second part -0.20938964\n",
      "Objective 0.2114512\n",
      "Objective first part 0.0\n",
      "Objective second part -0.2114512\n",
      "Objective 0.8443405\n",
      "Objective first part 0.6372286\n",
      "Objective second part -0.20711191\n",
      "Objective 0.83269876\n",
      "Objective first part 0.6315439\n",
      "Objective second part -0.2011549\n",
      "Objective 0.8525126\n",
      "Objective first part 0.6382743\n",
      "Objective second part -0.21423829\n"
     ]
    },
    {
     "name": "stderr",
     "output_type": "stream",
     "text": [
      "\n",
      "  0%|          | 396/473047 [04:22<6:26:59, 20.36it/s]\u001b[A"
     ]
    },
    {
     "name": "stdout",
     "output_type": "stream",
     "text": [
      "Objective 0.8441026\n",
      "Objective first part 0.6302293\n",
      "Objective second part -0.21387334\n",
      "Objective 0.8435184\n",
      "Objective first part 0.6308344\n",
      "Objective second part -0.21268395\n"
     ]
    },
    {
     "name": "stderr",
     "output_type": "stream",
     "text": [
      "\n",
      "  0%|          | 399/473047 [04:22<9:19:41, 14.07it/s]\u001b[A"
     ]
    },
    {
     "name": "stdout",
     "output_type": "stream",
     "text": [
      "Objective 0.8251701\n",
      "Objective first part 0.6223903\n",
      "Objective second part -0.20277983\n",
      "Objective 0.83883685\n",
      "Objective first part 0.6322215\n",
      "Objective second part -0.20661534\n",
      "Objective 0.22107019\n",
      "Objective first part 0.0\n",
      "Objective second part -0.22107019\n"
     ]
    },
    {
     "name": "stderr",
     "output_type": "stream",
     "text": [
      "\n",
      "  0%|          | 399/473047 [04:33<9:19:41, 14.07it/s]\u001b[A"
     ]
    },
    {
     "name": "stdout",
     "output_type": "stream",
     "text": [
      "train loss first part 1.0041116071801734e-09\n",
      "train loss second part -0.21156487\n"
     ]
    },
    {
     "name": "stderr",
     "output_type": "stream",
     "text": [
      "\n",
      "  0%|          | 401/473047 [05:41<1567:08:47, 11.94s/it]\u001b[A\n",
      "  0%|          | 403/473047 [05:41<1099:08:20,  8.37s/it]\u001b[A\n",
      "  0%|          | 405/473047 [05:41<771:23:55,  5.88s/it] \u001b[A"
     ]
    },
    {
     "name": "stdout",
     "output_type": "stream",
     "text": [
      "Objective 0.8319599\n",
      "Objective first part 0.62073183\n",
      "Objective second part -0.21122809\n",
      "Objective 0.8300545\n",
      "Objective first part 0.62532735\n",
      "Objective second part -0.2047272\n",
      "Objective 0.21091922\n",
      "Objective first part 0.0\n",
      "Objective second part -0.21091922\n",
      "Objective 0.20870842\n",
      "Objective first part 0.0\n",
      "Objective second part -0.20870842\n"
     ]
    },
    {
     "name": "stderr",
     "output_type": "stream",
     "text": [
      "\n",
      "  0%|          | 407/473047 [05:42<542:20:52,  4.13s/it]\u001b[A"
     ]
    },
    {
     "name": "stdout",
     "output_type": "stream",
     "text": [
      "Objective 0.8212122\n",
      "Objective first part 0.6268562\n",
      "Objective second part -0.194356\n",
      "Objective 0.20733057\n",
      "Objective first part 0.0\n",
      "Objective second part -0.20733057\n",
      "Objective 0.19014257\n",
      "Objective first part 0.0\n",
      "Objective second part -0.19014257\n",
      "Objective 0.83132565\n",
      "Objective first part 0.6256428\n",
      "Objective second part -0.20568287\n",
      "Objective 0.83429027\n",
      "Objective first part 0.62897754\n",
      "Objective second part -0.20531276\n"
     ]
    },
    {
     "name": "stderr",
     "output_type": "stream",
     "text": [
      "\n",
      "  0%|          | 410/473047 [05:42<381:06:36,  2.90s/it]\u001b[A\n",
      "  0%|          | 414/473047 [05:42<267:57:03,  2.04s/it]\u001b[A"
     ]
    },
    {
     "name": "stdout",
     "output_type": "stream",
     "text": [
      "Objective 0.20335482\n",
      "Objective first part 0.0\n",
      "Objective second part -0.20335482\n",
      "Objective 0.84658825\n",
      "Objective first part 0.6396238\n",
      "Objective second part -0.20696446\n",
      "Objective 0.86357725\n",
      "Objective first part 0.6484937\n",
      "Objective second part -0.21508351\n",
      "Objective 0.8849959\n",
      "Objective first part 0.646776\n",
      "Objective second part -0.23821984\n",
      "Objective 0.20038554\n",
      "Objective first part 0.0\n",
      "Objective second part -0.20038554\n",
      "Objective 0.20807801\n",
      "Objective first part 0.0\n",
      "Objective second part -0.20807801\n",
      "Objective 0.8532145\n",
      "Objective first part 0.6399593\n",
      "Objective second part -0.21325523\n",
      "Objective 0.21028227\n",
      "Objective first part 0.0\n",
      "Objective second part -0.21028227\n"
     ]
    },
    {
     "name": "stderr",
     "output_type": "stream",
     "text": [
      "\n",
      "  0%|          | 418/473047 [05:42<188:36:34,  1.44s/it]\u001b[A\n",
      "  0%|          | 421/473047 [05:42<133:23:03,  1.02s/it]\u001b[A\n"
     ]
    },
    {
     "name": "stdout",
     "output_type": "stream",
     "text": [
      "Objective 0.8431196\n",
      "Objective first part 0.63683665\n",
      "Objective second part -0.20628299\n",
      "Objective 0.18730846\n",
      "Objective first part 0.0\n",
      "Objective second part -0.18730846\n",
      "Objective 0.2055601\n",
      "Objective first part 0.0\n",
      "Objective second part -0.2055601\n",
      "Objective 0.7983813\n",
      "Objective first part 0.6192603\n",
      "Objective second part -0.179121\n",
      "Objective 0.19779152\n",
      "Objective first part 0.0\n",
      "Objective second part -0.19779152\n",
      "Objective 0.8583572\n",
      "Objective first part 0.6422724\n",
      "Objective second part -0.2160848\n"
     ]
    },
    {
     "name": "stderr",
     "output_type": "stream",
     "text": [
      "  0%|          | 424/473047 [05:42<94:44:09,  1.39it/s] \u001b[A\n",
      "  0%|          | 427/473047 [05:42<67:40:01,  1.94it/s]\u001b[A"
     ]
    },
    {
     "name": "stdout",
     "output_type": "stream",
     "text": [
      "Objective 0.19369471\n",
      "Objective first part 0.0\n",
      "Objective second part -0.19369471\n",
      "Objective 0.84234864\n",
      "Objective first part 0.6425398\n",
      "Objective second part -0.19980882\n",
      "Objective 0.19489206\n",
      "Objective first part 0.0\n",
      "Objective second part -0.19489206\n",
      "Objective 0.19357014\n",
      "Objective first part 0.0\n",
      "Objective second part -0.19357014\n",
      "Objective 0.839223\n",
      "Objective first part 0.62931037\n",
      "Objective second part -0.20991264\n"
     ]
    },
    {
     "name": "stderr",
     "output_type": "stream",
     "text": [
      "\n",
      "  0%|          | 430/473047 [05:42<49:28:07,  2.65it/s]\u001b[A"
     ]
    },
    {
     "name": "stdout",
     "output_type": "stream",
     "text": [
      "Objective 0.8478193\n",
      "Objective first part 0.6341331\n",
      "Objective second part -0.21368623\n",
      "Objective 0.82897115\n",
      "Objective first part 0.63911074\n",
      "Objective second part -0.1898604\n",
      "Objective 0.19072096\n",
      "Objective first part 0.0\n",
      "Objective second part -0.19072096\n"
     ]
    },
    {
     "name": "stderr",
     "output_type": "stream",
     "text": [
      "\n",
      "  0%|          | 433/473047 [05:43<39:10:58,  3.35it/s]\u001b[A"
     ]
    },
    {
     "name": "stdout",
     "output_type": "stream",
     "text": [
      "Objective 0.18706976\n",
      "Objective first part 0.0\n",
      "Objective second part -0.18706976\n",
      "Objective 0.22550443\n",
      "Objective first part 0.0\n",
      "Objective second part -0.22550443\n",
      "Objective 0.18025035\n",
      "Objective first part 0.0\n",
      "Objective second part -0.18025035\n",
      "Objective 0.20962939\n",
      "Objective first part 0.0\n",
      "Objective second part -0.20962939\n"
     ]
    },
    {
     "name": "stderr",
     "output_type": "stream",
     "text": [
      "\n",
      "  0%|          | 436/473047 [05:43<32:18:18,  4.06it/s]\u001b[A\n",
      "  0%|          | 438/473047 [05:43<25:55:33,  5.06it/s]\u001b[A"
     ]
    },
    {
     "name": "stdout",
     "output_type": "stream",
     "text": [
      "Objective 0.8452286\n",
      "Objective first part 0.6523698\n",
      "Objective second part -0.19285883\n",
      "Objective 0.8499149\n",
      "Objective first part 0.63969547\n",
      "Objective second part -0.21021944\n",
      "Objective 0.83644396\n",
      "Objective first part 0.64171726\n",
      "Objective second part -0.19472672\n"
     ]
    },
    {
     "name": "stderr",
     "output_type": "stream",
     "text": [
      "\n",
      "  0%|          | 440/473047 [05:43<20:44:43,  6.33it/s]\u001b[A\n"
     ]
    },
    {
     "name": "stdout",
     "output_type": "stream",
     "text": [
      "Objective 0.82763946\n",
      "Objective first part 0.65545017\n",
      "Objective second part -0.17218928\n",
      "Objective 0.20800947\n",
      "Objective first part 0.0\n",
      "Objective second part -0.20800947\n",
      "Objective 0.18583292\n",
      "Objective first part 0.0\n",
      "Objective second part -0.18583292\n"
     ]
    },
    {
     "name": "stderr",
     "output_type": "stream",
     "text": [
      "  0%|          | 442/473047 [05:44<17:30:20,  7.50it/s]\u001b[A\n",
      "  0%|          | 444/473047 [05:44<14:54:21,  8.81it/s]\u001b[A"
     ]
    },
    {
     "name": "stdout",
     "output_type": "stream",
     "text": [
      "Objective 0.19015382\n",
      "Objective first part 0.0\n",
      "Objective second part -0.19015382\n",
      "Objective 0.85858905\n",
      "Objective first part 0.6514559\n",
      "Objective second part -0.20713317\n",
      "Objective 0.82969785\n",
      "Objective first part 0.6451782\n",
      "Objective second part -0.18451962\n"
     ]
    },
    {
     "name": "stderr",
     "output_type": "stream",
     "text": [
      "\n",
      "  0%|          | 446/473047 [05:44<14:00:14,  9.37it/s]\u001b[A\n",
      "  0%|          | 448/473047 [05:44<12:44:25, 10.30it/s]\u001b[A"
     ]
    },
    {
     "name": "stdout",
     "output_type": "stream",
     "text": [
      "Objective 0.8430983\n",
      "Objective first part 0.6408063\n",
      "Objective second part -0.20229198\n",
      "Objective 0.21247722\n",
      "Objective first part 0.0\n",
      "Objective second part -0.21247722\n",
      "Objective 0.85223293\n",
      "Objective first part 0.6517346\n",
      "Objective second part -0.20049836\n",
      "Objective 0.20214446\n",
      "Objective first part 0.0\n",
      "Objective second part -0.20214446\n",
      "Objective 0.8390284\n",
      "Objective first part 0.6390695\n",
      "Objective second part -0.19995892\n"
     ]
    },
    {
     "name": "stderr",
     "output_type": "stream",
     "text": [
      "\n",
      "  0%|          | 450/473047 [05:44<13:46:49,  9.53it/s]\u001b[A"
     ]
    },
    {
     "name": "stdout",
     "output_type": "stream",
     "text": [
      "Objective 0.81461036\n",
      "Objective first part 0.64482546\n",
      "Objective second part -0.16978489\n",
      "Objective 0.8458172\n",
      "Objective first part 0.65043706\n",
      "Objective second part -0.19538014\n"
     ]
    },
    {
     "name": "stderr",
     "output_type": "stream",
     "text": [
      "\n",
      "  0%|          | 452/473047 [05:45<14:42:57,  8.92it/s]\u001b[A"
     ]
    },
    {
     "name": "stdout",
     "output_type": "stream",
     "text": [
      "Objective 0.8581162\n",
      "Objective first part 0.6536004\n",
      "Objective second part -0.20451583\n",
      "Objective 0.825159\n",
      "Objective first part 0.64708006\n",
      "Objective second part -0.17807896\n"
     ]
    },
    {
     "name": "stderr",
     "output_type": "stream",
     "text": [
      "\n",
      "  0%|          | 454/473047 [05:45<15:13:52,  8.62it/s]\u001b[A\n",
      "  0%|          | 455/473047 [05:45<15:55:02,  8.25it/s]\u001b[A"
     ]
    },
    {
     "name": "stdout",
     "output_type": "stream",
     "text": [
      "Objective 0.8112906\n",
      "Objective first part 0.6385224\n",
      "Objective second part -0.17276827\n",
      "Objective 0.85095143\n",
      "Objective first part 0.6519107\n",
      "Objective second part -0.1990407\n"
     ]
    },
    {
     "name": "stderr",
     "output_type": "stream",
     "text": [
      "\n",
      "  0%|          | 456/473047 [05:45<16:24:59,  8.00it/s]\u001b[A\n",
      "  0%|          | 457/473047 [05:45<16:29:34,  7.96it/s]\u001b[A"
     ]
    },
    {
     "name": "stdout",
     "output_type": "stream",
     "text": [
      "Objective 0.18882239\n",
      "Objective first part 0.0\n",
      "Objective second part -0.18882239\n",
      "Objective 0.1687737\n",
      "Objective first part 0.0\n",
      "Objective second part -0.1687737\n"
     ]
    },
    {
     "name": "stderr",
     "output_type": "stream",
     "text": [
      "\n",
      "  0%|          | 458/473047 [05:45<17:02:30,  7.70it/s]\u001b[A\n",
      "  0%|          | 459/473047 [05:45<16:59:13,  7.73it/s]\u001b[A"
     ]
    },
    {
     "name": "stdout",
     "output_type": "stream",
     "text": [
      "Objective 0.83113086\n",
      "Objective first part 0.6534128\n",
      "Objective second part -0.17771807\n",
      "Objective 0.8487717\n",
      "Objective first part 0.65672857\n",
      "Objective second part -0.19204316\n"
     ]
    },
    {
     "name": "stderr",
     "output_type": "stream",
     "text": [
      "\n",
      "  0%|          | 460/473047 [05:46<17:06:09,  7.68it/s]\u001b[A\n",
      "  0%|          | 461/473047 [05:46<16:57:57,  7.74it/s]\u001b[A"
     ]
    },
    {
     "name": "stdout",
     "output_type": "stream",
     "text": [
      "Objective 0.8181796\n",
      "Objective first part 0.63909805\n",
      "Objective second part -0.17908157\n",
      "Objective 0.18110639\n",
      "Objective first part 0.0\n",
      "Objective second part -0.18110639\n"
     ]
    },
    {
     "name": "stderr",
     "output_type": "stream",
     "text": [
      "\n",
      "  0%|          | 462/473047 [05:46<16:59:02,  7.73it/s]\u001b[A\n",
      "  0%|          | 463/473047 [05:46<17:17:12,  7.59it/s]\u001b[A"
     ]
    },
    {
     "name": "stdout",
     "output_type": "stream",
     "text": [
      "Objective 0.83743215\n",
      "Objective first part 0.6496097\n",
      "Objective second part -0.18782248\n",
      "Objective 0.18246342\n",
      "Objective first part 0.0\n",
      "Objective second part -0.18246342\n"
     ]
    },
    {
     "name": "stderr",
     "output_type": "stream",
     "text": [
      "\n",
      "  0%|          | 464/473047 [05:46<16:55:04,  7.76it/s]\u001b[A\n",
      "  0%|          | 465/473047 [05:46<16:57:17,  7.74it/s]\u001b[A"
     ]
    },
    {
     "name": "stdout",
     "output_type": "stream",
     "text": [
      "Objective 0.18304461\n",
      "Objective first part 0.0\n",
      "Objective second part -0.18304461\n",
      "Objective 0.18131022\n",
      "Objective first part 0.0\n",
      "Objective second part -0.18131022\n",
      "Objective 0.17028892\n",
      "Objective first part 0.0\n",
      "Objective second part -0.17028892\n"
     ]
    },
    {
     "name": "stderr",
     "output_type": "stream",
     "text": [
      "\n",
      "  0%|          | 467/473047 [05:46<14:05:03,  9.32it/s]\u001b[A\n",
      "  0%|          | 470/473047 [05:46<11:48:43, 11.11it/s]\u001b[A"
     ]
    },
    {
     "name": "stdout",
     "output_type": "stream",
     "text": [
      "Objective 0.82492447\n",
      "Objective first part 0.6582948\n",
      "Objective second part -0.16662969\n",
      "Objective 0.17256595\n",
      "Objective first part 0.0\n",
      "Objective second part -0.17256595\n",
      "Objective 0.8325189\n",
      "Objective first part 0.65575624\n",
      "Objective second part -0.17676264\n",
      "Objective 0.17088258\n",
      "Objective first part 0.0\n",
      "Objective second part -0.17088258\n",
      "Objective 0.84865165\n",
      "Objective first part 0.6617357\n",
      "Objective second part -0.1869159\n"
     ]
    },
    {
     "name": "stderr",
     "output_type": "stream",
     "text": [
      "\n",
      "  0%|          | 472/473047 [05:47<10:18:23, 12.74it/s]\u001b[A\n",
      "  0%|          | 474/473047 [05:47<9:37:08, 13.65it/s] \u001b[A"
     ]
    },
    {
     "name": "stdout",
     "output_type": "stream",
     "text": [
      "Objective 0.82185245\n",
      "Objective first part 0.65423644\n",
      "Objective second part -0.16761601\n",
      "Objective 0.83732057\n",
      "Objective first part 0.6486175\n",
      "Objective second part -0.18870303\n",
      "Objective 0.84437543\n",
      "Objective first part 0.66664577\n",
      "Objective second part -0.17772968\n",
      "Objective 0.18252623\n",
      "Objective first part 0.0\n",
      "Objective second part -0.18252623\n",
      "Objective 0.16103809\n",
      "Objective first part 0.0\n",
      "Objective second part -0.16103809\n"
     ]
    },
    {
     "name": "stderr",
     "output_type": "stream",
     "text": [
      "\n",
      "  0%|          | 477/473047 [05:47<8:19:49, 15.76it/s]\u001b[A\n",
      "  0%|          | 480/473047 [05:47<7:17:40, 18.00it/s]\u001b[A"
     ]
    },
    {
     "name": "stdout",
     "output_type": "stream",
     "text": [
      "Objective 0.19063881\n",
      "Objective first part 0.0\n",
      "Objective second part -0.19063881\n",
      "Objective 0.17056938\n",
      "Objective first part 0.0\n",
      "Objective second part -0.17056938\n",
      "Objective 0.17310031\n",
      "Objective first part 0.0\n",
      "Objective second part -0.17310031\n",
      "Objective 0.81813264\n",
      "Objective first part 0.65594804\n",
      "Objective second part -0.16218461\n",
      "Objective 0.8405708\n",
      "Objective first part 0.6595873\n",
      "Objective second part -0.18098345\n",
      "Objective 0.82057655\n",
      "Objective first part 0.6591403\n",
      "Objective second part -0.16143623\n",
      "Objective 0.8311601\n",
      "Objective first part 0.6426958\n",
      "Objective second part -0.18846436\n"
     ]
    },
    {
     "name": "stderr",
     "output_type": "stream",
     "text": [
      "\n",
      "  0%|          | 484/473047 [05:47<6:16:00, 20.95it/s]\u001b[A\n",
      "  0%|          | 488/473047 [05:47<5:35:20, 23.49it/s]\u001b[A"
     ]
    },
    {
     "name": "stdout",
     "output_type": "stream",
     "text": [
      "Objective 0.8181083\n",
      "Objective first part 0.6511303\n",
      "Objective second part -0.166978\n",
      "Objective 0.17431822\n",
      "Objective first part 0.0\n",
      "Objective second part -0.17431822\n",
      "Objective 0.82558113\n",
      "Objective first part 0.6545177\n",
      "Objective second part -0.17106341\n",
      "Objective 0.8361721\n",
      "Objective first part 0.66436243\n",
      "Objective second part -0.17180969\n",
      "Objective 0.8246019\n",
      "Objective first part 0.6531137\n",
      "Objective second part -0.1714882\n",
      "Objective 0.84864676\n",
      "Objective first part 0.6643786\n",
      "Objective second part -0.18426818\n",
      "Objective 0.17283437\n",
      "Objective first part 0.0\n",
      "Objective second part -0.17283437\n"
     ]
    },
    {
     "name": "stderr",
     "output_type": "stream",
     "text": [
      "\n",
      "  0%|          | 492/473047 [05:47<5:07:25, 25.62it/s]\u001b[A\n",
      "  0%|          | 496/473047 [05:47<4:38:46, 28.25it/s]\u001b[A"
     ]
    },
    {
     "name": "stdout",
     "output_type": "stream",
     "text": [
      "Objective 0.8118961\n",
      "Objective first part 0.64768744\n",
      "Objective second part -0.16420868\n",
      "Objective 0.8285911\n",
      "Objective first part 0.6559798\n",
      "Objective second part -0.17261128\n",
      "Objective 0.17648968\n",
      "Objective first part 0.0\n",
      "Objective second part -0.17648968\n",
      "Objective 0.8177682\n",
      "Objective first part 0.664522\n",
      "Objective second part -0.15324624\n",
      "Objective 0.8174219\n",
      "Objective first part 0.6518159\n",
      "Objective second part -0.16560599\n",
      "Objective 0.8178072\n",
      "Objective first part 0.6591322\n",
      "Objective second part -0.158675\n",
      "Objective 0.16944392\n",
      "Objective first part 0.0\n",
      "Objective second part -0.16944392\n",
      "Objective 0.17430063\n",
      "Objective first part 0.0\n",
      "Objective second part -0.17430063\n",
      "Objective 0.16749562\n",
      "Objective first part 0.0\n",
      "Objective second part -0.16749562\n",
      "Objective 0.1571668\n",
      "Objective first part 0.0\n",
      "Objective second part -0.1571668\n"
     ]
    },
    {
     "name": "stderr",
     "output_type": "stream",
     "text": [
      "\n",
      "  0%|          | 496/473047 [06:03<4:38:46, 28.25it/s]\u001b[A"
     ]
    },
    {
     "name": "stdout",
     "output_type": "stream",
     "text": [
      "train loss first part 1.0515222409736633e-09\n",
      "train loss second part -0.16546871\n"
     ]
    },
    {
     "name": "stderr",
     "output_type": "stream",
     "text": [
      "\n",
      "  0%|          | 501/473047 [07:05<616:32:22,  4.70s/it]\u001b[A\n",
      "  0%|          | 502/473047 [07:05<436:16:10,  3.32s/it]\u001b[A"
     ]
    },
    {
     "name": "stdout",
     "output_type": "stream",
     "text": [
      "Objective 0.17201638\n",
      "Objective first part 0.0\n",
      "Objective second part -0.17201638\n",
      "Objective 0.8219307\n",
      "Objective first part 0.6662248\n",
      "Objective second part -0.15570593\n"
     ]
    },
    {
     "name": "stderr",
     "output_type": "stream",
     "text": [
      "\n",
      "  0%|          | 503/473047 [07:06<310:04:13,  2.36s/it]\u001b[A\n",
      "  0%|          | 504/473047 [07:06<221:41:29,  1.69s/it]\u001b[A"
     ]
    },
    {
     "name": "stdout",
     "output_type": "stream",
     "text": [
      "Objective 0.15509252\n",
      "Objective first part 0.0\n",
      "Objective second part -0.15509252\n",
      "Objective 0.16270165\n",
      "Objective first part 0.0\n",
      "Objective second part -0.16270165\n"
     ]
    },
    {
     "name": "stderr",
     "output_type": "stream",
     "text": [
      "\n",
      "  0%|          | 505/473047 [07:06<160:04:05,  1.22s/it]\u001b[A\n",
      "  0%|          | 506/473047 [07:06<116:38:11,  1.13it/s]\u001b[A"
     ]
    },
    {
     "name": "stdout",
     "output_type": "stream",
     "text": [
      "Objective 0.16336593\n",
      "Objective first part 0.0\n",
      "Objective second part -0.16336593\n",
      "Objective 0.17347528\n",
      "Objective first part 0.0\n",
      "Objective second part -0.17347528\n"
     ]
    },
    {
     "name": "stderr",
     "output_type": "stream",
     "text": [
      "\n",
      "  0%|          | 507/473047 [07:06<86:24:23,  1.52it/s] \u001b[A\n",
      "  0%|          | 508/473047 [07:06<65:23:34,  2.01it/s]\u001b[A"
     ]
    },
    {
     "name": "stdout",
     "output_type": "stream",
     "text": [
      "Objective 0.8293833\n",
      "Objective first part 0.6630427\n",
      "Objective second part -0.1663406\n",
      "Objective 0.16499598\n",
      "Objective first part 0.0\n",
      "Objective second part -0.16499598\n"
     ]
    },
    {
     "name": "stderr",
     "output_type": "stream",
     "text": [
      "\n",
      "  0%|          | 509/473047 [07:06<50:56:11,  2.58it/s]\u001b[A\n",
      "  0%|          | 510/473047 [07:06<40:17:56,  3.26it/s]\u001b[A"
     ]
    },
    {
     "name": "stdout",
     "output_type": "stream",
     "text": [
      "Objective 0.8112543\n",
      "Objective first part 0.6623978\n",
      "Objective second part -0.14885654\n",
      "Objective 0.82904\n",
      "Objective first part 0.6596317\n",
      "Objective second part -0.16940826\n"
     ]
    },
    {
     "name": "stderr",
     "output_type": "stream",
     "text": [
      "\n",
      "  0%|          | 511/473047 [07:06<32:56:55,  3.98it/s]\u001b[A\n",
      "  0%|          | 512/473047 [07:07<27:43:14,  4.74it/s]\u001b[A"
     ]
    },
    {
     "name": "stdout",
     "output_type": "stream",
     "text": [
      "Objective 0.16124102\n",
      "Objective first part 0.0\n",
      "Objective second part -0.16124102\n",
      "Objective 0.8159802\n",
      "Objective first part 0.67417777\n",
      "Objective second part -0.14180246\n"
     ]
    },
    {
     "name": "stderr",
     "output_type": "stream",
     "text": [
      "\n",
      "  0%|          | 513/473047 [07:07<24:27:48,  5.37it/s]\u001b[A\n",
      "  0%|          | 514/473047 [07:07<21:45:58,  6.03it/s]\u001b[A"
     ]
    },
    {
     "name": "stdout",
     "output_type": "stream",
     "text": [
      "Objective 0.15889542\n",
      "Objective first part 0.0\n",
      "Objective second part -0.15889542\n",
      "Objective 0.1503724\n",
      "Objective first part 0.0\n",
      "Objective second part -0.1503724\n"
     ]
    },
    {
     "name": "stderr",
     "output_type": "stream",
     "text": [
      "\n",
      "  0%|          | 515/473047 [07:07<19:58:28,  6.57it/s]\u001b[A\n",
      "  0%|          | 516/473047 [07:07<18:26:01,  7.12it/s]\u001b[A"
     ]
    },
    {
     "name": "stdout",
     "output_type": "stream",
     "text": [
      "Objective 0.817001\n",
      "Objective first part 0.66405207\n",
      "Objective second part -0.15294893\n",
      "Objective 0.16438669\n",
      "Objective first part 0.0\n",
      "Objective second part -0.16438669\n"
     ]
    },
    {
     "name": "stderr",
     "output_type": "stream",
     "text": [
      "\n",
      "  0%|          | 517/473047 [07:07<17:49:25,  7.36it/s]\u001b[A\n",
      "  0%|          | 518/473047 [07:07<17:01:02,  7.71it/s]\u001b[A"
     ]
    },
    {
     "name": "stdout",
     "output_type": "stream",
     "text": [
      "Objective 0.1670745\n",
      "Objective first part 0.0\n",
      "Objective second part -0.1670745\n",
      "Objective 0.80830157\n",
      "Objective first part 0.6732691\n",
      "Objective second part -0.13503245\n"
     ]
    },
    {
     "name": "stderr",
     "output_type": "stream",
     "text": [
      "\n",
      "  0%|          | 519/473047 [07:07<16:42:56,  7.85it/s]\u001b[A\n",
      "  0%|          | 520/473047 [07:08<16:30:25,  7.95it/s]\u001b[A"
     ]
    },
    {
     "name": "stdout",
     "output_type": "stream",
     "text": [
      "Objective 0.14090817\n",
      "Objective first part 0.0\n",
      "Objective second part -0.14090817\n",
      "Objective 0.8300878\n",
      "Objective first part 0.665385\n",
      "Objective second part -0.16470274\n"
     ]
    },
    {
     "name": "stderr",
     "output_type": "stream",
     "text": [
      "\n",
      "  0%|          | 521/473047 [07:08<16:51:11,  7.79it/s]\u001b[A\n",
      "  0%|          | 522/473047 [07:08<16:44:06,  7.84it/s]\u001b[A"
     ]
    },
    {
     "name": "stdout",
     "output_type": "stream",
     "text": [
      "Objective 0.16184896\n",
      "Objective first part 0.0\n",
      "Objective second part -0.16184896\n",
      "Objective 0.15862674\n",
      "Objective first part 0.0\n",
      "Objective second part -0.15862674\n",
      "Objective 0.15269218\n",
      "Objective first part 0.0\n",
      "Objective second part -0.15269218\n",
      "Objective 0.7966498\n",
      "Objective first part 0.6669002\n",
      "Objective second part -0.1297496\n"
     ]
    },
    {
     "name": "stderr",
     "output_type": "stream",
     "text": [
      "\n",
      "  0%|          | 525/473047 [07:08<13:12:42,  9.93it/s]\u001b[A\n",
      "  0%|          | 529/473047 [07:08<10:27:30, 12.55it/s]\u001b[A"
     ]
    },
    {
     "name": "stdout",
     "output_type": "stream",
     "text": [
      "Objective 0.14527448\n",
      "Objective first part 0.0\n",
      "Objective second part -0.14527448\n",
      "Objective 0.14356552\n",
      "Objective first part 0.0\n",
      "Objective second part -0.14356552\n",
      "Objective 0.15139546\n",
      "Objective first part 0.0\n",
      "Objective second part -0.15139546\n",
      "Objective 0.80205196\n",
      "Objective first part 0.6687338\n",
      "Objective second part -0.1333182\n",
      "Objective 0.15409678\n",
      "Objective first part 0.0\n",
      "Objective second part -0.15409678\n",
      "Objective 0.8224983\n",
      "Objective first part 0.67035013\n",
      "Objective second part -0.15214816\n",
      "Objective 0.15265927\n"
     ]
    },
    {
     "name": "stderr",
     "output_type": "stream",
     "text": [
      "\n",
      "  0%|          | 532/473047 [07:08<8:53:00, 14.78it/s] \u001b[A"
     ]
    },
    {
     "name": "stdout",
     "output_type": "stream",
     "text": [
      "Objective first part 0.0\n",
      "Objective second part -0.15265927\n",
      "Objective 0.15537502\n",
      "Objective first part 0.0\n",
      "Objective second part -0.15537502\n",
      "Objective 0.8345278\n",
      "Objective first part 0.6711257\n",
      "Objective second part -0.16340207\n",
      "Objective 0.8124486\n",
      "Objective first part 0.6725707\n",
      "Objective second part -0.13987789\n"
     ]
    },
    {
     "name": "stderr",
     "output_type": "stream",
     "text": [
      "\n",
      "  0%|          | 535/473047 [07:08<8:31:43, 15.39it/s]\u001b[A\n",
      "  0%|          | 538/473047 [07:08<7:34:29, 17.33it/s]\u001b[A"
     ]
    },
    {
     "name": "stdout",
     "output_type": "stream",
     "text": [
      "Objective 0.15530345\n",
      "Objective first part 0.0\n",
      "Objective second part -0.15530345\n",
      "Objective 0.79754514\n",
      "Objective first part 0.66212887\n",
      "Objective second part -0.13541627\n",
      "Objective 0.15056619\n",
      "Objective first part 0.0\n",
      "Objective second part -0.15056619\n",
      "Objective 0.14248604\n",
      "Objective first part 0.0\n",
      "Objective second part -0.14248604\n",
      "Objective 0.8137295\n",
      "Objective first part 0.6670974\n",
      "Objective second part -0.14663216\n",
      "Objective 0.14618675\n",
      "Objective first part 0.0\n",
      "Objective second part -0.14618675\n"
     ]
    },
    {
     "name": "stderr",
     "output_type": "stream",
     "text": [
      "\n",
      "  0%|          | 541/473047 [07:09<6:46:11, 19.39it/s]\u001b[A\n",
      "  0%|          | 544/473047 [07:09<6:06:06, 21.51it/s]\u001b[A\n"
     ]
    },
    {
     "name": "stdout",
     "output_type": "stream",
     "text": [
      "Objective 0.15738122\n",
      "Objective first part 0.0\n",
      "Objective second part -0.15738122\n",
      "Objective 0.83141685\n",
      "Objective first part 0.68048906\n",
      "Objective second part -0.15092781\n",
      "Objective 0.8185558\n",
      "Objective first part 0.66550404\n",
      "Objective second part -0.15305173\n",
      "Objective 0.15379795\n",
      "Objective first part 0.0\n",
      "Objective second part -0.15379795\n",
      "Objective 0.16516308\n",
      "Objective first part 0.0\n",
      "Objective second part -0.16516308\n",
      "Objective 0.16259891\n",
      "Objective first part 0.0\n",
      "Objective second part -0.16259891\n"
     ]
    },
    {
     "name": "stderr",
     "output_type": "stream",
     "text": [
      "  0%|          | 547/473047 [07:09<5:37:58, 23.30it/s]\u001b[A\n",
      "  0%|          | 550/473047 [07:09<5:18:46, 24.70it/s]\u001b[A\n",
      "  0%|          | 553/473047 [07:09<5:02:26, 26.04it/s]\u001b[A"
     ]
    },
    {
     "name": "stdout",
     "output_type": "stream",
     "text": [
      "Objective 0.14598072\n",
      "Objective first part 0.0\n",
      "Objective second part -0.14598072\n",
      "Objective 0.8127315\n",
      "Objective first part 0.67719173\n",
      "Objective second part -0.13553974\n",
      "Objective 0.16238028\n",
      "Objective first part 0.0\n",
      "Objective second part -0.16238028\n",
      "Objective 0.1542618\n",
      "Objective first part 0.0\n",
      "Objective second part -0.1542618\n",
      "Objective 0.13870612\n",
      "Objective first part 0.0\n",
      "Objective second part -0.13870612\n",
      "Objective 0.14273481\n",
      "Objective first part 0.0\n",
      "Objective second part -0.14273481\n"
     ]
    },
    {
     "name": "stderr",
     "output_type": "stream",
     "text": [
      "\n",
      "  0%|          | 556/473047 [07:09<4:57:33, 26.47it/s]\u001b[A"
     ]
    },
    {
     "name": "stdout",
     "output_type": "stream",
     "text": [
      "Objective 0.14442562\n",
      "Objective first part 0.0\n",
      "Objective second part -0.14442562\n",
      "Objective 0.15293685\n",
      "Objective first part 0.0\n",
      "Objective second part -0.15293685\n",
      "Objective 0.8218118\n",
      "Objective first part 0.6762826\n",
      "Objective second part -0.14552918\n",
      "Objective 0.148041\n",
      "Objective first part 0.0\n",
      "Objective second part -0.148041\n",
      "Objective 0.83241427\n",
      "Objective first part 0.68433785\n",
      "Objective second part -0.14807639\n"
     ]
    },
    {
     "name": "stderr",
     "output_type": "stream",
     "text": [
      "\n",
      "  0%|          | 559/473047 [07:09<5:27:13, 24.07it/s]\u001b[A"
     ]
    },
    {
     "name": "stdout",
     "output_type": "stream",
     "text": [
      "Objective 0.8304353\n",
      "Objective first part 0.67696065\n",
      "Objective second part -0.15347463\n",
      "Objective 0.82439715\n",
      "Objective first part 0.6824463\n",
      "Objective second part -0.14195083\n",
      "Objective 0.82775533\n",
      "Objective first part 0.6731841\n",
      "Objective second part -0.15457126\n"
     ]
    },
    {
     "name": "stderr",
     "output_type": "stream",
     "text": [
      "\n",
      "  0%|          | 562/473047 [07:10<8:35:46, 15.27it/s]\u001b[A"
     ]
    },
    {
     "name": "stdout",
     "output_type": "stream",
     "text": [
      "Objective 0.13463922\n",
      "Objective first part 0.0\n",
      "Objective second part -0.13463922\n",
      "Objective 0.14784867\n",
      "Objective first part 0.0\n",
      "Objective second part -0.14784867\n",
      "Objective 0.8094557\n",
      "Objective first part 0.6832384\n",
      "Objective second part -0.12621729\n",
      "Objective 0.82757497\n",
      "Objective first part 0.6798651\n",
      "Objective second part -0.14770985\n"
     ]
    },
    {
     "name": "stderr",
     "output_type": "stream",
     "text": [
      "\n",
      "  0%|          | 565/473047 [07:10<10:58:02, 11.97it/s]\u001b[A"
     ]
    },
    {
     "name": "stdout",
     "output_type": "stream",
     "text": [
      "Objective 0.13071175\n",
      "Objective first part 0.0\n",
      "Objective second part -0.13071175\n",
      "Objective 0.15036215\n",
      "Objective first part 0.0\n",
      "Objective second part -0.15036215\n"
     ]
    },
    {
     "name": "stderr",
     "output_type": "stream",
     "text": [
      "\n",
      "  0%|          | 567/473047 [07:10<12:20:25, 10.64it/s]\u001b[A\n",
      "  0%|          | 569/473047 [07:10<12:17:42, 10.67it/s]\u001b[A"
     ]
    },
    {
     "name": "stdout",
     "output_type": "stream",
     "text": [
      "Objective 0.13597865\n",
      "Objective first part 0.0\n",
      "Objective second part -0.13597865\n",
      "Objective 0.812809\n",
      "Objective first part 0.67831737\n",
      "Objective second part -0.13449165\n",
      "Objective 0.81237644\n",
      "Objective first part 0.6719632\n",
      "Objective second part -0.14041322\n"
     ]
    },
    {
     "name": "stderr",
     "output_type": "stream",
     "text": [
      "\n",
      "  0%|          | 571/473047 [07:11<11:52:53, 11.05it/s]\u001b[A"
     ]
    },
    {
     "name": "stdout",
     "output_type": "stream",
     "text": [
      "Objective 0.121554814\n",
      "Objective first part 0.0\n",
      "Objective second part -0.121554814\n",
      "Objective 0.14322752\n",
      "Objective first part 0.0\n",
      "Objective second part -0.14322752\n",
      "Objective 0.8134339\n",
      "Objective first part 0.6780997\n",
      "Objective second part -0.13533416\n",
      "Objective 0.12650819\n",
      "Objective first part 0.0\n",
      "Objective second part -0.12650819\n"
     ]
    },
    {
     "name": "stderr",
     "output_type": "stream",
     "text": [
      "\n",
      "  0%|          | 574/473047 [07:11<10:24:25, 12.61it/s]\u001b[A"
     ]
    },
    {
     "name": "stdout",
     "output_type": "stream",
     "text": [
      "Objective 0.82250607\n",
      "Objective first part 0.68937486\n",
      "Objective second part -0.1331312\n",
      "Objective 0.12389403\n",
      "Objective first part 0.0\n",
      "Objective second part -0.12389403\n"
     ]
    },
    {
     "name": "stderr",
     "output_type": "stream",
     "text": [
      "\n",
      "  0%|          | 576/473047 [07:11<11:46:48, 11.14it/s]\u001b[A"
     ]
    },
    {
     "name": "stdout",
     "output_type": "stream",
     "text": [
      "Objective 0.79595006\n",
      "Objective first part 0.6759781\n",
      "Objective second part -0.11997196\n",
      "Objective 0.13721924\n",
      "Objective first part 0.0\n",
      "Objective second part -0.13721924\n"
     ]
    },
    {
     "name": "stderr",
     "output_type": "stream",
     "text": [
      "\n",
      "  0%|          | 578/473047 [07:11<13:13:28,  9.92it/s]\u001b[A"
     ]
    },
    {
     "name": "stdout",
     "output_type": "stream",
     "text": [
      "Objective 0.13088538\n",
      "Objective first part 0.0\n",
      "Objective second part -0.13088538\n",
      "Objective 0.12956958\n",
      "Objective first part 0.0\n",
      "Objective second part -0.12956958\n"
     ]
    },
    {
     "name": "stderr",
     "output_type": "stream",
     "text": [
      "\n",
      "  0%|          | 580/473047 [07:11<14:17:06,  9.19it/s]\u001b[A"
     ]
    },
    {
     "name": "stdout",
     "output_type": "stream",
     "text": [
      "Objective 0.14073236\n",
      "Objective first part 0.0\n",
      "Objective second part -0.14073236\n",
      "Objective 0.8170661\n",
      "Objective first part 0.6908085\n",
      "Objective second part -0.1262576\n"
     ]
    },
    {
     "name": "stderr",
     "output_type": "stream",
     "text": [
      "\n",
      "  0%|          | 582/473047 [07:12<15:00:41,  8.74it/s]\u001b[A\n",
      "  0%|          | 583/473047 [07:12<15:54:20,  8.25it/s]\u001b[A"
     ]
    },
    {
     "name": "stdout",
     "output_type": "stream",
     "text": [
      "Objective 0.80251896\n",
      "Objective first part 0.68096673\n",
      "Objective second part -0.12155226\n",
      "Objective 0.14225052\n",
      "Objective first part 0.0\n",
      "Objective second part -0.14225052\n"
     ]
    },
    {
     "name": "stderr",
     "output_type": "stream",
     "text": [
      "\n",
      "  0%|          | 584/473047 [07:12<15:42:04,  8.36it/s]\u001b[A\n",
      "  0%|          | 585/473047 [07:12<16:13:49,  8.09it/s]\u001b[A"
     ]
    },
    {
     "name": "stdout",
     "output_type": "stream",
     "text": [
      "Objective 0.13347949\n",
      "Objective first part 0.0\n",
      "Objective second part -0.13347949\n",
      "Objective 0.8289306\n",
      "Objective first part 0.6914384\n",
      "Objective second part -0.13749221\n"
     ]
    },
    {
     "name": "stderr",
     "output_type": "stream",
     "text": [
      "\n",
      "  0%|          | 586/473047 [07:12<16:28:54,  7.96it/s]\u001b[A\n",
      "  0%|          | 587/473047 [07:12<16:42:11,  7.86it/s]\u001b[A"
     ]
    },
    {
     "name": "stdout",
     "output_type": "stream",
     "text": [
      "Objective 0.826283\n",
      "Objective first part 0.6845308\n",
      "Objective second part -0.14175218\n",
      "Objective 0.12738292\n",
      "Objective first part 0.0\n",
      "Objective second part -0.12738292\n"
     ]
    },
    {
     "name": "stderr",
     "output_type": "stream",
     "text": [
      "\n",
      "  0%|          | 588/473047 [07:13<16:38:36,  7.89it/s]\u001b[A\n",
      "  0%|          | 589/473047 [07:13<16:39:17,  7.88it/s]\u001b[A"
     ]
    },
    {
     "name": "stdout",
     "output_type": "stream",
     "text": [
      "Objective 0.8146605\n",
      "Objective first part 0.68046975\n",
      "Objective second part -0.13419074\n",
      "Objective 0.8283244\n",
      "Objective first part 0.691204\n",
      "Objective second part -0.13712037\n"
     ]
    },
    {
     "name": "stderr",
     "output_type": "stream",
     "text": [
      "\n",
      "  0%|          | 590/473047 [07:13<16:49:22,  7.80it/s]\u001b[A\n",
      "  0%|          | 591/473047 [07:13<17:01:28,  7.71it/s]\u001b[A"
     ]
    },
    {
     "name": "stdout",
     "output_type": "stream",
     "text": [
      "Objective 0.12527865\n",
      "Objective first part 0.0\n",
      "Objective second part -0.12527865\n",
      "Objective 0.12854245\n",
      "Objective first part 0.0\n",
      "Objective second part -0.12854245\n"
     ]
    },
    {
     "name": "stderr",
     "output_type": "stream",
     "text": [
      "\n",
      "  0%|          | 592/473047 [07:13<17:02:04,  7.70it/s]\u001b[A\n",
      "  0%|          | 594/473047 [07:13<14:28:20,  9.07it/s]\u001b[A"
     ]
    },
    {
     "name": "stdout",
     "output_type": "stream",
     "text": [
      "Objective 0.811695\n",
      "Objective first part 0.68455875\n",
      "Objective second part -0.12713625\n",
      "Objective 0.12666763\n",
      "Objective first part 0.0\n",
      "Objective second part -0.12666763\n",
      "Objective 0.82918066\n",
      "Objective first part 0.69415843\n",
      "Objective second part -0.13502221\n",
      "Objective 0.13573128\n",
      "Objective first part 0.0\n",
      "Objective second part -0.13573128\n"
     ]
    },
    {
     "name": "stderr",
     "output_type": "stream",
     "text": [
      "\n",
      "  0%|          | 596/473047 [07:13<12:35:42, 10.42it/s]\u001b[A\n",
      "  0%|          | 598/473047 [07:13<11:25:19, 11.49it/s]\u001b[A"
     ]
    },
    {
     "name": "stdout",
     "output_type": "stream",
     "text": [
      "Objective 0.80573833\n",
      "Objective first part 0.68850976\n",
      "Objective second part -0.11722857\n",
      "Objective 0.815804\n",
      "Objective first part 0.6939488\n",
      "Objective second part -0.12185519\n",
      "Objective 0.12477526\n",
      "Objective first part 0.0\n",
      "Objective second part -0.12477526\n",
      "Objective 0.13345803\n",
      "Objective first part 0.0\n",
      "Objective second part -0.13345803\n"
     ]
    },
    {
     "name": "stderr",
     "output_type": "stream",
     "text": [
      "\n",
      "  0%|          | 600/473047 [07:14<10:32:13, 12.45it/s]\u001b[A"
     ]
    },
    {
     "name": "stdout",
     "output_type": "stream",
     "text": [
      "Objective 0.8128499\n",
      "Objective first part 0.6821351\n",
      "Objective second part -0.1307148\n"
     ]
    },
    {
     "name": "stderr",
     "output_type": "stream",
     "text": [
      "\n",
      "  0%|          | 600/473047 [07:33<10:32:13, 12.45it/s]\u001b[A"
     ]
    },
    {
     "name": "stdout",
     "output_type": "stream",
     "text": [
      "train loss first part 1.0916531232852002e-09\n",
      "train loss second part -0.12812082\n"
     ]
    },
    {
     "name": "stderr",
     "output_type": "stream",
     "text": [
      "\n",
      "  0%|          | 601/473047 [08:30<3029:48:47, 23.09s/it]\u001b[A\n",
      "  0%|          | 604/473047 [08:30<2122:28:10, 16.17s/it]\u001b[A"
     ]
    },
    {
     "name": "stdout",
     "output_type": "stream",
     "text": [
      "Objective 0.8246621\n",
      "Objective first part 0.6824238\n",
      "Objective second part -0.14223829\n",
      "Objective 0.8189552\n",
      "Objective first part 0.6899604\n",
      "Objective second part -0.12899478\n",
      "Objective 0.11988735\n",
      "Objective first part 0.0\n",
      "Objective second part -0.11988735\n",
      "Objective 0.12370717\n",
      "Objective first part 0.0\n",
      "Objective second part -0.12370717\n",
      "Objective 0.8148384\n",
      "Objective first part 0.6849622\n",
      "Objective second part -0.12987618\n",
      "Objective 0.81478804\n",
      "Objective first part 0.68898106\n",
      "Objective second part -0.12580697\n"
     ]
    },
    {
     "name": "stderr",
     "output_type": "stream",
     "text": [
      "\n",
      "  0%|          | 607/473047 [08:31<1487:12:11, 11.33s/it]\u001b[A\n",
      "  0%|          | 611/473047 [08:31<1042:15:16,  7.94s/it]\u001b[A"
     ]
    },
    {
     "name": "stdout",
     "output_type": "stream",
     "text": [
      "Objective 0.12331689\n",
      "Objective first part 0.0\n",
      "Objective second part -0.12331689\n",
      "Objective 0.14794458\n",
      "Objective first part 0.0\n",
      "Objective second part -0.14794458\n",
      "Objective 0.122453585\n",
      "Objective first part 0.0\n",
      "Objective second part -0.122453585\n",
      "Objective 0.14396605\n",
      "Objective first part 0.0\n",
      "Objective second part -0.14396605\n",
      "Objective 0.81139934\n",
      "Objective first part 0.685632\n",
      "Objective second part -0.12576737\n",
      "Objective 0.12333051\n",
      "Objective first part 0.0\n",
      "Objective second part -0.12333051\n",
      "Objective 0.12109379\n",
      "Objective first part 0.0\n",
      "Objective second part -0.12109379\n"
     ]
    },
    {
     "name": "stderr",
     "output_type": "stream",
     "text": [
      "\n",
      "  0%|          | 615/473047 [08:31<730:51:56,  5.57s/it] \u001b[A\n",
      "  0%|          | 619/473047 [08:31<512:42:45,  3.91s/it]\u001b[A"
     ]
    },
    {
     "name": "stdout",
     "output_type": "stream",
     "text": [
      "Objective 0.123610035\n",
      "Objective first part 0.0\n",
      "Objective second part -0.123610035\n",
      "Objective 0.82231975\n",
      "Objective first part 0.69351345\n",
      "Objective second part -0.1288063\n",
      "Objective 0.8126749\n",
      "Objective first part 0.69319624\n",
      "Objective second part -0.11947861\n",
      "Objective 0.14194149\n",
      "Objective first part 0.0\n",
      "Objective second part -0.14194149\n",
      "Objective 0.8328398\n",
      "Objective first part 0.6991582\n",
      "Objective second part -0.13368161\n",
      "Objective 0.8208961\n",
      "Objective first part 0.69138736\n",
      "Objective second part -0.12950872\n",
      "Objective 0.8315092\n",
      "Objective first part 0.6956836\n",
      "Objective second part -0.13582556\n",
      "Objective 0.82071114\n",
      "Objective first part 0.6963727\n",
      "Objective second part -0.12433846\n"
     ]
    },
    {
     "name": "stderr",
     "output_type": "stream",
     "text": [
      "\n",
      "  0%|          | 623/473047 [08:31<360:11:00,  2.74s/it]\u001b[A"
     ]
    },
    {
     "name": "stdout",
     "output_type": "stream",
     "text": [
      "Objective 0.8090067\n",
      "Objective first part 0.69184387\n",
      "Objective second part -0.11716282\n",
      "Objective 0.13240418\n",
      "Objective first part 0.0\n",
      "Objective second part -0.13240418\n",
      "Objective 0.8182404\n",
      "Objective first part 0.689442\n",
      "Objective second part -0.12879843\n",
      "Objective 0.8116338\n",
      "Objective first part 0.68728507\n",
      "Objective second part -0.12434879\n"
     ]
    },
    {
     "name": "stderr",
     "output_type": "stream",
     "text": [
      "\n",
      "  0%|          | 626/473047 [08:31<254:52:53,  1.94s/it]\u001b[A"
     ]
    },
    {
     "name": "stdout",
     "output_type": "stream",
     "text": [
      "Objective 0.12133212\n",
      "Objective first part 0.0\n",
      "Objective second part -0.12133212\n",
      "Objective 0.13817278\n",
      "Objective first part 0.0\n",
      "Objective second part -0.13817278\n"
     ]
    },
    {
     "name": "stderr",
     "output_type": "stream",
     "text": [
      "\n",
      "  0%|          | 629/473047 [08:32<183:11:09,  1.40s/it]\u001b[A"
     ]
    },
    {
     "name": "stdout",
     "output_type": "stream",
     "text": [
      "Objective 0.79917353\n",
      "Objective first part 0.68445426\n",
      "Objective second part -0.11471928\n",
      "Objective 0.81005454\n",
      "Objective first part 0.6928154\n",
      "Objective second part -0.11723909\n"
     ]
    },
    {
     "name": "stderr",
     "output_type": "stream",
     "text": [
      "\n",
      "  0%|          | 631/473047 [08:32<133:11:23,  1.01s/it]\u001b[A"
     ]
    },
    {
     "name": "stdout",
     "output_type": "stream",
     "text": [
      "Objective 0.13382109\n",
      "Objective first part 0.0\n",
      "Objective second part -0.13382109\n",
      "Objective 0.8079567\n",
      "Objective first part 0.69477946\n",
      "Objective second part -0.11317723\n"
     ]
    },
    {
     "name": "stderr",
     "output_type": "stream",
     "text": [
      "\n",
      "  0%|          | 633/473047 [08:32<98:12:41,  1.34it/s] \u001b[A"
     ]
    },
    {
     "name": "stdout",
     "output_type": "stream",
     "text": [
      "Objective 0.8155207\n",
      "Objective first part 0.69563776\n",
      "Objective second part -0.11988292\n",
      "Objective 0.10963777\n",
      "Objective first part 0.0\n",
      "Objective second part -0.10963777\n"
     ]
    },
    {
     "name": "stderr",
     "output_type": "stream",
     "text": [
      "\n",
      "  0%|          | 635/473047 [08:32<73:36:55,  1.78it/s]\u001b[A"
     ]
    },
    {
     "name": "stdout",
     "output_type": "stream",
     "text": [
      "Objective 0.11782319\n",
      "Objective first part 0.0\n",
      "Objective second part -0.11782319\n",
      "Objective 0.8076572\n",
      "Objective first part 0.69157535\n",
      "Objective second part -0.11608181\n"
     ]
    },
    {
     "name": "stderr",
     "output_type": "stream",
     "text": [
      "\n",
      "  0%|          | 637/473047 [08:33<56:22:34,  2.33it/s]\u001b[A"
     ]
    },
    {
     "name": "stdout",
     "output_type": "stream",
     "text": [
      "Objective 0.80235803\n",
      "Objective first part 0.68969613\n",
      "Objective second part -0.112661876\n",
      "Objective 0.82151526\n",
      "Objective first part 0.6969003\n",
      "Objective second part -0.12461497\n"
     ]
    },
    {
     "name": "stderr",
     "output_type": "stream",
     "text": [
      "\n",
      "  0%|          | 639/473047 [08:33<44:27:54,  2.95it/s]\u001b[A"
     ]
    },
    {
     "name": "stdout",
     "output_type": "stream",
     "text": [
      "Objective 0.7993697\n",
      "Objective first part 0.6893622\n",
      "Objective second part -0.110007435\n",
      "Objective 0.12078248\n",
      "Objective first part 0.0\n",
      "Objective second part -0.12078248\n"
     ]
    },
    {
     "name": "stderr",
     "output_type": "stream",
     "text": [
      "\n",
      "  0%|          | 640/473047 [08:33<35:49:38,  3.66it/s]\u001b[A\n",
      "  0%|          | 641/473047 [08:33<29:41:26,  4.42it/s]\u001b[A"
     ]
    },
    {
     "name": "stdout",
     "output_type": "stream",
     "text": [
      "Objective 0.8037846\n",
      "Objective first part 0.6914002\n",
      "Objective second part -0.11238446\n",
      "Objective 0.8155378\n",
      "Objective first part 0.69619673\n",
      "Objective second part -0.11934106\n"
     ]
    },
    {
     "name": "stderr",
     "output_type": "stream",
     "text": [
      "\n",
      "  0%|          | 642/473047 [08:33<25:31:32,  5.14it/s]\u001b[A\n",
      "  0%|          | 643/473047 [08:33<22:35:43,  5.81it/s]\u001b[A"
     ]
    },
    {
     "name": "stdout",
     "output_type": "stream",
     "text": [
      "Objective 0.80946285\n",
      "Objective first part 0.6929962\n",
      "Objective second part -0.116466664\n",
      "Objective 0.11515096\n",
      "Objective first part 0.0\n",
      "Objective second part -0.11515096\n"
     ]
    },
    {
     "name": "stderr",
     "output_type": "stream",
     "text": [
      "\n",
      "  0%|          | 644/473047 [08:33<20:26:39,  6.42it/s]\u001b[A\n",
      "  0%|          | 645/473047 [08:34<19:01:28,  6.90it/s]\u001b[A"
     ]
    },
    {
     "name": "stdout",
     "output_type": "stream",
     "text": [
      "Objective 0.8075191\n",
      "Objective first part 0.6948548\n",
      "Objective second part -0.11266428\n",
      "Objective 0.80318785\n",
      "Objective first part 0.6986163\n",
      "Objective second part -0.10457149\n"
     ]
    },
    {
     "name": "stderr",
     "output_type": "stream",
     "text": [
      "\n",
      "  0%|          | 646/473047 [08:34<18:13:27,  7.20it/s]\u001b[A\n",
      "  0%|          | 647/473047 [08:34<17:54:47,  7.33it/s]\u001b[A"
     ]
    },
    {
     "name": "stdout",
     "output_type": "stream",
     "text": [
      "Objective 0.11961552\n",
      "Objective first part 0.0\n",
      "Objective second part -0.11961552\n",
      "Objective 0.11252113\n",
      "Objective first part 0.0\n",
      "Objective second part -0.11252113\n"
     ]
    },
    {
     "name": "stderr",
     "output_type": "stream",
     "text": [
      "\n",
      "  0%|          | 648/473047 [08:34<17:22:42,  7.55it/s]\u001b[A\n",
      "  0%|          | 649/473047 [08:34<16:50:35,  7.79it/s]\u001b[A"
     ]
    },
    {
     "name": "stdout",
     "output_type": "stream",
     "text": [
      "Objective 0.7957107\n",
      "Objective first part 0.6899956\n",
      "Objective second part -0.10571512\n",
      "Objective 0.80418414\n",
      "Objective first part 0.6895277\n",
      "Objective second part -0.11465644\n",
      "Objective"
     ]
    },
    {
     "name": "stderr",
     "output_type": "stream",
     "text": [
      "\n",
      "  0%|          | 651/473047 [08:34<15:30:14,  8.46it/s]\u001b[A"
     ]
    },
    {
     "name": "stdout",
     "output_type": "stream",
     "text": [
      " 0.10453873\n",
      "Objective first part 0.0\n",
      "Objective second part -0.10453873\n",
      "Objective 0.8099821\n",
      "Objective first part 0.69789016\n",
      "Objective second part -0.11209198\n"
     ]
    },
    {
     "name": "stderr",
     "output_type": "stream",
     "text": [
      "\n",
      "  0%|          | 652/473047 [08:34<16:44:03,  7.84it/s]\u001b[A\n",
      "  0%|          | 653/473047 [08:35<16:48:56,  7.80it/s]\u001b[A"
     ]
    },
    {
     "name": "stdout",
     "output_type": "stream",
     "text": [
      "Objective 0.12509821\n",
      "Objective first part 0.0\n",
      "Objective second part -0.12509821\n",
      "Objective 0.79731935\n",
      "Objective first part 0.68448794\n",
      "Objective second part -0.11283141\n"
     ]
    },
    {
     "name": "stderr",
     "output_type": "stream",
     "text": [
      "\n",
      "  0%|          | 654/473047 [08:35<16:49:06,  7.80it/s]\u001b[A\n",
      "  0%|          | 655/473047 [08:35<16:32:17,  7.93it/s]\u001b[A"
     ]
    },
    {
     "name": "stdout",
     "output_type": "stream",
     "text": [
      "Objective 0.12071381\n",
      "Objective first part 0.0\n",
      "Objective second part -0.12071381\n",
      "Objective 0.114827916\n",
      "Objective first part 0.0\n",
      "Objective second part -0.114827916\n",
      "Objective 0.10764156\n",
      "Objective first part 0.0\n",
      "Objective second part -0.10764156\n"
     ]
    },
    {
     "name": "stderr",
     "output_type": "stream",
     "text": [
      "\n",
      "  0%|          | 657/473047 [08:35<13:58:51,  9.39it/s]\u001b[A\n",
      "  0%|          | 659/473047 [08:35<12:12:58, 10.74it/s]\u001b[A"
     ]
    },
    {
     "name": "stdout",
     "output_type": "stream",
     "text": [
      "Objective 0.8150846\n",
      "Objective first part 0.6981611\n",
      "Objective second part -0.11692348\n",
      "Objective 0.12116584\n",
      "Objective first part 0.0\n",
      "Objective second part -0.12116584\n",
      "Objective 0.8161279\n",
      "Objective first part 0.69037867\n",
      "Objective second part -0.12574925\n",
      "Objective 0.121909454\n",
      "Objective first part 0.0\n",
      "Objective second part -0.121909454\n"
     ]
    },
    {
     "name": "stderr",
     "output_type": "stream",
     "text": [
      "\n",
      "  0%|          | 661/473047 [08:35<11:03:18, 11.87it/s]\u001b[A\n",
      "  0%|          | 663/473047 [08:35<10:02:14, 13.07it/s]\u001b[A"
     ]
    },
    {
     "name": "stdout",
     "output_type": "stream",
     "text": [
      "Objective 0.8081183\n",
      "Objective first part 0.697198\n",
      "Objective second part -0.110920325\n",
      "Objective 0.8081462\n",
      "Objective first part 0.6946437\n",
      "Objective second part -0.11350248\n",
      "Objective 0.81273985\n",
      "Objective first part 0.6986786\n",
      "Objective second part -0.11406122\n",
      "Objective 0.122578695\n",
      "Objective first part 0.0\n",
      "Objective second part -0.122578695\n",
      "Objective 0.12208333\n",
      "Objective first part 0.0\n",
      "Objective second part -0.12208333\n"
     ]
    },
    {
     "name": "stderr",
     "output_type": "stream",
     "text": [
      "\n",
      "  0%|          | 666/473047 [08:35<8:31:22, 15.40it/s] \u001b[A\n",
      "  0%|          | 669/473047 [08:36<7:30:54, 17.46it/s]\u001b[A"
     ]
    },
    {
     "name": "stdout",
     "output_type": "stream",
     "text": [
      "Objective 0.8060231\n",
      "Objective first part 0.69131756\n",
      "Objective second part -0.11470558\n",
      "Objective 0.7999738\n",
      "Objective first part 0.6942666\n",
      "Objective second part -0.10570717\n",
      "Objective 0.7972838\n",
      "Objective first part 0.6854618\n",
      "Objective second part -0.11182199\n",
      "Objective 0.80757093\n",
      "Objective first part 0.69269633\n",
      "Objective second part -0.11487459\n",
      "Objective 0.11157539\n",
      "Objective first part 0.0\n",
      "Objective second part -0.11157539\n",
      "Objective 0.10357308\n",
      "Objective first part 0.0\n",
      "Objective second part -0.10357308\n"
     ]
    },
    {
     "name": "stderr",
     "output_type": "stream",
     "text": [
      "\n",
      "  0%|          | 672/473047 [08:36<6:40:29, 19.66it/s]\u001b[A\n",
      "  0%|          | 675/473047 [08:36<6:00:19, 21.85it/s]\u001b[A\n",
      "  0%|          | 678/473047 [08:36<5:31:36, 23.74it/s]\u001b[A"
     ]
    },
    {
     "name": "stdout",
     "output_type": "stream",
     "text": [
      "Objective 0.10718558\n",
      "Objective first part 0.0\n",
      "Objective second part -0.10718558\n",
      "Objective 0.11160944\n",
      "Objective first part 0.0\n",
      "Objective second part -0.11160944\n",
      "Objective 0.11875634\n",
      "Objective first part 0.0\n",
      "Objective second part -0.11875634\n",
      "Objective 0.1082169\n",
      "Objective first part 0.0\n",
      "Objective second part -0.1082169\n",
      "Objective 0.7903807\n",
      "Objective first part 0.6898774\n",
      "Objective second part -0.10050332\n",
      "Objective 0.80675507\n",
      "Objective first part 0.69837713\n",
      "Objective second part -0.1083779\n"
     ]
    },
    {
     "name": "stderr",
     "output_type": "stream",
     "text": [
      "\n",
      "  0%|          | 681/473047 [08:36<5:49:14, 22.54it/s]\u001b[A"
     ]
    },
    {
     "name": "stdout",
     "output_type": "stream",
     "text": [
      "Objective 0.11136596\n",
      "Objective first part 0.0\n",
      "Objective second part -0.11136596\n",
      "Objective 0.81451005\n",
      "Objective first part 0.69246334\n",
      "Objective second part -0.122046694\n",
      "Objective 0.8114106\n",
      "Objective first part 0.6991668\n",
      "Objective second part -0.11224381\n",
      "Objective 0.118068054\n",
      "Objective first part 0.0\n",
      "Objective second part -0.118068054\n",
      "Objective 0.10398601\n",
      "Objective first part 0.0\n",
      "Objective second part -0.10398601\n",
      "Objective 0.8043685\n",
      "Objective first part 0.69858867\n",
      "Objective second part -0.10577985\n"
     ]
    },
    {
     "name": "stderr",
     "output_type": "stream",
     "text": [
      "\n",
      "  0%|          | 684/473047 [08:36<8:29:37, 15.45it/s]\u001b[A"
     ]
    },
    {
     "name": "stdout",
     "output_type": "stream",
     "text": [
      "Objective 0.8088381\n",
      "Objective first part 0.6901649\n",
      "Objective second part -0.118673176\n",
      "Objective 0.807899\n",
      "Objective first part 0.7044757\n",
      "Objective second part -0.10342328\n"
     ]
    },
    {
     "name": "stderr",
     "output_type": "stream",
     "text": [
      "\n",
      "  0%|          | 686/473047 [08:37<10:30:56, 12.48it/s]\u001b[A"
     ]
    },
    {
     "name": "stdout",
     "output_type": "stream",
     "text": [
      "Objective 0.80118185\n",
      "Objective first part 0.7045678\n",
      "Objective second part -0.09661404\n",
      "Objective 0.8167083\n",
      "Objective first part 0.7114655\n",
      "Objective second part -0.10524286\n"
     ]
    },
    {
     "name": "stderr",
     "output_type": "stream",
     "text": [
      "\n",
      "  0%|          | 688/473047 [08:37<11:55:02, 11.01it/s]\u001b[A\n",
      "  0%|          | 690/473047 [08:37<12:13:14, 10.74it/s]\u001b[A"
     ]
    },
    {
     "name": "stdout",
     "output_type": "stream",
     "text": [
      "Objective 0.80609655\n",
      "Objective first part 0.7018792\n",
      "Objective second part -0.10421738\n",
      "Objective 0.11583148\n",
      "Objective first part 0.0\n",
      "Objective second part -0.11583148\n"
     ]
    },
    {
     "name": "stderr",
     "output_type": "stream",
     "text": [
      "\n",
      "  0%|          | 692/473047 [08:37<12:15:42, 10.70it/s]\u001b[A"
     ]
    },
    {
     "name": "stdout",
     "output_type": "stream",
     "text": [
      "Objective 0.7940018\n",
      "Objective first part 0.70336765\n",
      "Objective second part -0.090634175\n",
      "Objective 0.8091199\n",
      "Objective first part 0.7010681\n",
      "Objective second part -0.1080518\n",
      "Objective 0.10883696\n",
      "Objective first part 0.0\n",
      "Objective second part -0.10883696\n"
     ]
    },
    {
     "name": "stderr",
     "output_type": "stream",
     "text": [
      "\n",
      "  0%|          | 694/473047 [08:37<11:57:04, 10.98it/s]\u001b[A"
     ]
    },
    {
     "name": "stdout",
     "output_type": "stream",
     "text": [
      "Objective 0.7949052\n",
      "Objective first part 0.69617337\n",
      "Objective second part -0.09873181\n",
      "Objective 0.10041738\n",
      "Objective first part 0.0\n",
      "Objective second part -0.10041738\n"
     ]
    },
    {
     "name": "stderr",
     "output_type": "stream",
     "text": [
      "\n",
      "  0%|          | 696/473047 [08:38<12:52:58, 10.18it/s]\u001b[A"
     ]
    },
    {
     "name": "stdout",
     "output_type": "stream",
     "text": [
      "Objective 0.7998384\n",
      "Objective first part 0.6923941\n",
      "Objective second part -0.10744437\n",
      "Objective 0.11226928\n",
      "Objective first part 0.0\n",
      "Objective second part -0.11226928\n"
     ]
    },
    {
     "name": "stderr",
     "output_type": "stream",
     "text": [
      "\n",
      "  0%|          | 698/473047 [08:38<13:51:28,  9.47it/s]\u001b[A"
     ]
    },
    {
     "name": "stdout",
     "output_type": "stream",
     "text": [
      "Objective 0.8076455\n",
      "Objective first part 0.6990101\n",
      "Objective second part -0.10863541\n",
      "Objective 0.10838807\n",
      "Objective first part 0.0\n",
      "Objective second part -0.10838807\n"
     ]
    },
    {
     "name": "stderr",
     "output_type": "stream",
     "text": [
      "\n",
      "  0%|          | 700/473047 [08:38<14:44:59,  8.90it/s]\u001b[A"
     ]
    },
    {
     "name": "stdout",
     "output_type": "stream",
     "text": [
      "Objective 0.10393403\n",
      "Objective first part 0.0\n",
      "Objective second part -0.10393403\n",
      "Objective 0.79607755\n",
      "Objective first part 0.69601744\n",
      "Objective second part -0.10006013\n",
      "train loss first part 1.117363479836522e-09\n",
      "train loss second part -0.104980186\n"
     ]
    },
    {
     "name": "stderr",
     "output_type": "stream",
     "text": [
      "\n",
      "  0%|          | 701/473047 [09:57<3098:48:28, 23.62s/it]\u001b[A\n",
      "  0%|          | 702/473047 [09:57<2173:53:29, 16.57s/it]\u001b[A"
     ]
    },
    {
     "name": "stdout",
     "output_type": "stream",
     "text": [
      "Objective 0.102457836\n",
      "Objective first part 0.0\n",
      "Objective second part -0.102457836\n",
      "Objective 0.81379664\n",
      "Objective first part 0.69891304\n",
      "Objective second part -0.11488361\n"
     ]
    },
    {
     "name": "stderr",
     "output_type": "stream",
     "text": [
      "\n",
      "  0%|          | 703/473047 [09:57<1526:27:10, 11.63s/it]\u001b[A\n",
      "  0%|          | 704/473047 [09:57<1073:10:22,  8.18s/it]\u001b[A"
     ]
    },
    {
     "name": "stdout",
     "output_type": "stream",
     "text": [
      "Objective 0.11598609\n",
      "Objective first part 0.0\n",
      "Objective second part -0.11598609\n",
      "Objective 0.10173343\n",
      "Objective first part 0.0\n",
      "Objective second part -0.10173343\n"
     ]
    },
    {
     "name": "stderr",
     "output_type": "stream",
     "text": [
      "\n",
      "  0%|          | 705/473047 [09:57<755:45:47,  5.76s/it] \u001b[A\n",
      "  0%|          | 706/473047 [09:57<533:51:29,  4.07s/it]\u001b[A"
     ]
    },
    {
     "name": "stdout",
     "output_type": "stream",
     "text": [
      "Objective 0.79077464\n",
      "Objective first part 0.6957711\n",
      "Objective second part -0.095003545\n",
      "Objective 0.12501784\n",
      "Objective first part 0.0\n",
      "Objective second part -0.12501784\n"
     ]
    },
    {
     "name": "stderr",
     "output_type": "stream",
     "text": [
      "\n",
      "  0%|          | 707/473047 [09:57<378:19:47,  2.88s/it]\u001b[A\n",
      "  0%|          | 708/473047 [09:57<269:34:47,  2.05s/it]\u001b[A"
     ]
    },
    {
     "name": "stdout",
     "output_type": "stream",
     "text": [
      "Objective 0.10623745\n",
      "Objective first part 0.0\n",
      "Objective second part -0.10623745\n",
      "Objective 0.7949585\n",
      "Objective first part 0.7032929\n",
      "Objective second part -0.09166554\n"
     ]
    },
    {
     "name": "stderr",
     "output_type": "stream",
     "text": [
      "\n",
      "  0%|          | 709/473047 [09:58<193:46:40,  1.48s/it]\u001b[A\n",
      "  0%|          | 710/473047 [09:58<142:39:31,  1.09s/it]\u001b[A"
     ]
    },
    {
     "name": "stdout",
     "output_type": "stream",
     "text": [
      "Objective 0.8088582\n",
      "Objective first part 0.70641714\n",
      "Objective second part -0.102441065\n",
      "Objective 0.10508395\n",
      "Objective first part 0.0\n",
      "Objective second part -0.10508395\n"
     ]
    },
    {
     "name": "stderr",
     "output_type": "stream",
     "text": [
      "\n",
      "  0%|          | 711/473047 [09:58<108:04:29,  1.21it/s]\u001b[A\n",
      "  0%|          | 712/473047 [09:58<81:57:05,  1.60it/s] \u001b[A"
     ]
    },
    {
     "name": "stdout",
     "output_type": "stream",
     "text": [
      "Objective 0.09532497\n",
      "Objective first part 0.0\n",
      "Objective second part -0.09532497\n",
      "Objective 0.805688\n",
      "Objective first part 0.7091323\n",
      "Objective second part -0.09655568\n"
     ]
    },
    {
     "name": "stderr",
     "output_type": "stream",
     "text": [
      "\n",
      "  0%|          | 713/473047 [09:58<61:57:34,  2.12it/s]\u001b[A\n",
      "  0%|          | 714/473047 [09:58<48:22:27,  2.71it/s]\u001b[A"
     ]
    },
    {
     "name": "stdout",
     "output_type": "stream",
     "text": [
      "Objective 0.09170696\n",
      "Objective first part 0.0\n",
      "Objective second part -0.09170696\n",
      "Objective 0.79787374\n",
      "Objective first part 0.7039965\n",
      "Objective second part -0.09387727\n"
     ]
    },
    {
     "name": "stderr",
     "output_type": "stream",
     "text": [
      "\n",
      "  0%|          | 715/473047 [09:58<38:34:37,  3.40it/s]\u001b[A\n",
      "  0%|          | 716/473047 [09:59<31:40:57,  4.14it/s]\u001b[A"
     ]
    },
    {
     "name": "stdout",
     "output_type": "stream",
     "text": [
      "Objective 0.80462635\n",
      "Objective first part 0.7121347\n",
      "Objective second part -0.09249161\n",
      "Objective 0.10087444\n",
      "Objective first part 0.0\n",
      "Objective second part -0.10087444\n"
     ]
    },
    {
     "name": "stderr",
     "output_type": "stream",
     "text": [
      "\n",
      "  0%|          | 717/473047 [09:59<26:49:25,  4.89it/s]\u001b[A\n",
      "  0%|          | 718/473047 [09:59<23:45:43,  5.52it/s]\u001b[A"
     ]
    },
    {
     "name": "stdout",
     "output_type": "stream",
     "text": [
      "Objective 0.82357466\n",
      "Objective first part 0.71546435\n",
      "Objective second part -0.1081103\n",
      "Objective 0.8016561\n",
      "Objective first part 0.7082565\n",
      "Objective second part -0.09339964\n"
     ]
    },
    {
     "name": "stderr",
     "output_type": "stream",
     "text": [
      "\n",
      "  0%|          | 719/473047 [09:59<21:30:17,  6.10it/s]\u001b[A\n",
      "  0%|          | 720/473047 [09:59<20:12:36,  6.49it/s]\u001b[A"
     ]
    },
    {
     "name": "stdout",
     "output_type": "stream",
     "text": [
      "Objective 0.10102873\n",
      "Objective first part 0.0\n",
      "Objective second part -0.10102873\n",
      "Objective 0.8113288\n",
      "Objective first part 0.7009704\n",
      "Objective second part -0.11035841\n"
     ]
    },
    {
     "name": "stderr",
     "output_type": "stream",
     "text": [
      "\n",
      "  0%|          | 721/473047 [09:59<19:07:35,  6.86it/s]\u001b[A\n",
      "  0%|          | 722/473047 [09:59<18:25:37,  7.12it/s]\u001b[A"
     ]
    },
    {
     "name": "stdout",
     "output_type": "stream",
     "text": [
      "Objective 0.09411123\n",
      "Objective first part 0.0\n",
      "Objective second part -0.09411123\n",
      "Objective 0.10812146\n",
      "Objective first part 0.0\n",
      "Objective second part -0.10812146\n"
     ]
    },
    {
     "name": "stderr",
     "output_type": "stream",
     "text": [
      "\n",
      "  0%|          | 723/473047 [09:59<17:52:02,  7.34it/s]\u001b[A\n",
      "  0%|          | 724/473047 [10:00<17:26:37,  7.52it/s]\u001b[A"
     ]
    },
    {
     "name": "stdout",
     "output_type": "stream",
     "text": [
      "Objective 0.09857524\n",
      "Objective first part 0.0\n",
      "Objective second part -0.09857524\n",
      "Objective 0.092574716\n",
      "Objective first part 0.0\n",
      "Objective second part -0.092574716\n"
     ]
    },
    {
     "name": "stderr",
     "output_type": "stream",
     "text": [
      "\n",
      "  0%|          | 725/473047 [10:00<17:16:45,  7.59it/s]\u001b[A\n",
      "  0%|          | 726/473047 [10:00<17:10:46,  7.64it/s]\u001b[A"
     ]
    },
    {
     "name": "stdout",
     "output_type": "stream",
     "text": [
      "Objective 0.8083185\n",
      "Objective first part 0.701236\n",
      "Objective second part -0.10708248\n",
      "Objective 0.80452204\n",
      "Objective first part 0.7098136\n",
      "Objective second part -0.09470844\n"
     ]
    },
    {
     "name": "stderr",
     "output_type": "stream",
     "text": [
      "\n",
      "  0%|          | 727/473047 [10:00<17:04:26,  7.68it/s]\u001b[A\n",
      "  0%|          | 728/473047 [10:00<16:48:46,  7.80it/s]\u001b[A"
     ]
    },
    {
     "name": "stdout",
     "output_type": "stream",
     "text": [
      "Objective 0.80758274\n",
      "Objective first part 0.7068514\n",
      "Objective second part -0.10073131\n",
      "Objective 0.113352925\n",
      "Objective first part 0.0\n",
      "Objective second part -0.113352925\n"
     ]
    },
    {
     "name": "stderr",
     "output_type": "stream",
     "text": [
      "\n",
      "  0%|          | 729/473047 [10:00<16:01:27,  8.19it/s]\u001b[A\n",
      "  0%|          | 731/473047 [10:00<13:21:47,  9.82it/s]\u001b[A"
     ]
    },
    {
     "name": "stdout",
     "output_type": "stream",
     "text": [
      "Objective 0.8018275\n",
      "Objective first part 0.7097592\n",
      "Objective second part -0.0920683\n",
      "Objective 0.8066032\n",
      "Objective first part 0.7125447\n",
      "Objective second part -0.094058506\n",
      "Objective 0.7941111\n",
      "Objective first part 0.69141173\n",
      "Objective second part -0.10269936\n",
      "Objective 0.81014854\n",
      "Objective first part 0.7132142\n",
      "Objective second part -0.09693433\n"
     ]
    },
    {
     "name": "stderr",
     "output_type": "stream",
     "text": [
      "\n",
      "  0%|          | 733/473047 [10:00<11:35:47, 11.31it/s]\u001b[A\n",
      "  0%|          | 735/473047 [10:01<10:31:28, 12.47it/s]\u001b[A"
     ]
    },
    {
     "name": "stdout",
     "output_type": "stream",
     "text": [
      "Objective 0.11172054\n",
      "Objective first part 0.0\n",
      "Objective second part -0.11172054\n",
      "Objective 0.09942205\n",
      "Objective first part 0.0\n",
      "Objective second part -0.09942205\n",
      "Objective 0.09704565\n",
      "Objective first part 0.0\n",
      "Objective second part -0.09704565\n",
      "Objective 0.09971611\n",
      "Objective first part 0.0\n",
      "Objective second part -0.09971611\n"
     ]
    },
    {
     "name": "stderr",
     "output_type": "stream",
     "text": [
      "\n",
      "  0%|          | 737/473047 [10:01<9:23:00, 13.98it/s] \u001b[A\n",
      "  0%|          | 739/473047 [10:01<8:32:21, 15.36it/s]\u001b[A\n",
      "  0%|          | 742/473047 [10:01<7:25:20, 17.68it/s]\u001b[A"
     ]
    },
    {
     "name": "stdout",
     "output_type": "stream",
     "text": [
      "Objective 0.09374908\n",
      "Objective first part 0.0\n",
      "Objective second part -0.09374908\n",
      "Objective 0.8038775\n",
      "Objective first part 0.7018629\n",
      "Objective second part -0.10201458\n",
      "Objective 0.82371485\n",
      "Objective first part 0.7107973\n",
      "Objective second part -0.11291756\n",
      "Objective 0.101546705\n",
      "Objective first part 0.0\n",
      "Objective second part -0.101546705\n",
      "Objective 0.0959258\n",
      "Objective first part 0.0\n",
      "Objective second part -0.0959258\n",
      "Objective 0.8051021\n"
     ]
    },
    {
     "name": "stderr",
     "output_type": "stream",
     "text": [
      "\n",
      "  0%|          | 746/473047 [10:01<6:30:43, 20.15it/s]\u001b[A"
     ]
    },
    {
     "name": "stdout",
     "output_type": "stream",
     "text": [
      "Objective first part 0.7149603\n",
      "Objective second part -0.090141855\n",
      "Objective 0.80430865\n",
      "Objective first part 0.7120936\n",
      "Objective second part -0.09221509\n",
      "Objective 0.087282665\n",
      "Objective first part 0.0\n",
      "Objective second part -0.087282665\n",
      "Objective 0.8077791\n",
      "Objective first part 0.7077985\n",
      "Objective second part -0.09998062\n",
      "Objective 0.81788623\n",
      "Objective first part 0.7142214\n",
      "Objective second part -0.10366484\n",
      "Objective 0.7929416\n",
      "Objective first part 0.7005179\n",
      "Objective second part -0.092423685\n"
     ]
    },
    {
     "name": "stderr",
     "output_type": "stream",
     "text": [
      "\n",
      "  0%|          | 749/473047 [10:01<5:54:17, 22.22it/s]\u001b[A\n",
      "  0%|          | 752/473047 [10:01<5:32:19, 23.69it/s]\u001b[A"
     ]
    },
    {
     "name": "stdout",
     "output_type": "stream",
     "text": [
      "Objective 0.8061735\n",
      "Objective first part 0.71034586\n",
      "Objective second part -0.095827654\n",
      "Objective 0.099607654\n",
      "Objective first part 0.0\n",
      "Objective second part -0.099607654\n",
      "Objective 0.8102069\n",
      "Objective first part 0.71104586\n",
      "Objective second part -0.099161044\n",
      "Objective 0.09910504\n",
      "Objective first part 0.0\n",
      "Objective second part -0.09910504\n",
      "Objective 0.0871645\n",
      "Objective first part 0.0\n",
      "Objective second part -0.0871645\n",
      "Objective 0.8142194\n",
      "Objective first part 0.7111114\n",
      "Objective second part -0.103107974\n"
     ]
    },
    {
     "name": "stderr",
     "output_type": "stream",
     "text": [
      "\n",
      "  0%|          | 755/473047 [10:01<5:25:59, 24.15it/s]\u001b[A\n",
      "  0%|          | 759/473047 [10:01<4:56:01, 26.59it/s]\u001b[A"
     ]
    },
    {
     "name": "stdout",
     "output_type": "stream",
     "text": [
      "Objective 0.098907284\n",
      "Objective first part 0.0\n",
      "Objective second part -0.098907284\n",
      "Objective 0.8206903\n",
      "Objective first part 0.7097425\n",
      "Objective second part -0.110947765\n",
      "Objective 0.09175642\n",
      "Objective first part 0.0\n",
      "Objective second part -0.09175642\n",
      "Objective 0.08401587\n",
      "Objective first part 0.0\n",
      "Objective second part -0.08401587\n",
      "Objective 0.8121373\n",
      "Objective first part 0.7199368\n",
      "Objective second part -0.09220052\n",
      "Objective 0.8153753\n",
      "Objective first part 0.7180046\n",
      "Objective second part -0.09737075\n",
      "Objective 0.09208954\n",
      "Objective first part 0.0\n",
      "Objective second part -0.09208954\n",
      "Objective 0.09627685\n",
      "Objective first part 0.0\n",
      "Objective second part -0.09627685\n"
     ]
    },
    {
     "name": "stderr",
     "output_type": "stream",
     "text": [
      "\n",
      "  0%|          | 762/473047 [10:02<7:15:51, 18.06it/s]\u001b[A"
     ]
    },
    {
     "name": "stdout",
     "output_type": "stream",
     "text": [
      "Objective 0.08626205\n",
      "Objective first part 0.0\n",
      "Objective second part -0.08626205\n",
      "Objective 0.098577015\n",
      "Objective first part 0.0\n",
      "Objective second part -0.098577015\n"
     ]
    },
    {
     "name": "stderr",
     "output_type": "stream",
     "text": [
      "\n",
      "  0%|          | 765/473047 [10:02<9:42:38, 13.51it/s]\u001b[A"
     ]
    },
    {
     "name": "stdout",
     "output_type": "stream",
     "text": [
      "Objective 0.8069669\n",
      "Objective first part 0.7147102\n",
      "Objective second part -0.092256725\n",
      "Objective 0.09424057\n",
      "Objective first part 0.0\n",
      "Objective second part -0.09424057\n"
     ]
    },
    {
     "name": "stderr",
     "output_type": "stream",
     "text": [
      "\n",
      "  0%|          | 767/473047 [10:02<11:22:34, 11.53it/s]\u001b[A"
     ]
    },
    {
     "name": "stdout",
     "output_type": "stream",
     "text": [
      "Objective 0.80808854\n",
      "Objective first part 0.704229\n",
      "Objective second part -0.103859566\n",
      "Objective 0.8073769\n",
      "Objective first part 0.71370417\n",
      "Objective second part -0.09367276\n"
     ]
    },
    {
     "name": "stderr",
     "output_type": "stream",
     "text": [
      "\n",
      "  0%|          | 769/473047 [10:03<12:40:22, 10.35it/s]\u001b[A"
     ]
    },
    {
     "name": "stdout",
     "output_type": "stream",
     "text": [
      "Objective 0.8029563\n",
      "Objective first part 0.71145415\n",
      "Objective second part -0.09150211\n",
      "Objective 0.80366117\n",
      "Objective first part 0.7095853\n",
      "Objective second part -0.09407586\n"
     ]
    },
    {
     "name": "stderr",
     "output_type": "stream",
     "text": [
      "\n",
      "  0%|          | 771/473047 [10:03<13:27:40,  9.75it/s]\u001b[A"
     ]
    },
    {
     "name": "stdout",
     "output_type": "stream",
     "text": [
      "Objective 0.8060786\n",
      "Objective first part 0.7128173\n",
      "Objective second part -0.09326131\n",
      "Objective 0.78938735\n",
      "Objective first part 0.7028024\n",
      "Objective second part -0.086584896\n"
     ]
    },
    {
     "name": "stderr",
     "output_type": "stream",
     "text": [
      "\n",
      "  0%|          | 773/473047 [10:03<13:50:39,  9.48it/s]\u001b[A"
     ]
    },
    {
     "name": "stdout",
     "output_type": "stream",
     "text": [
      "Objective 0.089207254\n",
      "Objective first part 0.0\n",
      "Objective second part -0.089207254\n",
      "Objective 0.8101761\n",
      "Objective first part 0.71090204\n",
      "Objective second part -0.09927406\n"
     ]
    },
    {
     "name": "stderr",
     "output_type": "stream",
     "text": [
      "\n",
      "  0%|          | 775/473047 [10:03<14:21:39,  9.13it/s]\u001b[A"
     ]
    },
    {
     "name": "stdout",
     "output_type": "stream",
     "text": [
      "Objective 0.08263513\n",
      "Objective first part 0.0\n",
      "Objective second part -0.08263513\n",
      "Objective 0.09237073\n",
      "Objective first part 0.0\n",
      "Objective second part -0.09237073\n"
     ]
    },
    {
     "name": "stderr",
     "output_type": "stream",
     "text": [
      "\n",
      "  0%|          | 777/473047 [10:03<14:40:27,  8.94it/s]\u001b[A"
     ]
    },
    {
     "name": "stdout",
     "output_type": "stream",
     "text": [
      "Objective 0.08456239\n",
      "Objective first part 0.0\n",
      "Objective second part -0.08456239\n",
      "Objective 0.09884609\n",
      "Objective first part 0.0\n",
      "Objective second part -0.09884609\n"
     ]
    },
    {
     "name": "stderr",
     "output_type": "stream",
     "text": [
      "\n",
      "  0%|          | 778/473047 [10:04<14:58:22,  8.76it/s]\u001b[A\n",
      "  0%|          | 779/473047 [10:04<15:31:59,  8.45it/s]\u001b[A"
     ]
    },
    {
     "name": "stdout",
     "output_type": "stream",
     "text": [
      "Objective 0.8063735\n",
      "Objective first part 0.7139807\n",
      "Objective second part -0.092392825\n",
      "Objective 0.096312225\n",
      "Objective first part 0.0\n",
      "Objective second part -0.096312225\n"
     ]
    },
    {
     "name": "stderr",
     "output_type": "stream",
     "text": [
      "\n",
      "  0%|          | 780/473047 [10:04<15:59:48,  8.20it/s]\u001b[A\n",
      "  0%|          | 781/473047 [10:04<15:44:00,  8.34it/s]\u001b[A"
     ]
    },
    {
     "name": "stdout",
     "output_type": "stream",
     "text": [
      "Objective 0.08601725\n",
      "Objective first part 0.0\n",
      "Objective second part -0.08601725\n",
      "Objective 0.08645374\n",
      "Objective first part 0.0\n",
      "Objective second part -0.08645374\n"
     ]
    },
    {
     "name": "stderr",
     "output_type": "stream",
     "text": [
      "\n",
      "  0%|          | 782/473047 [10:04<16:09:26,  8.12it/s]\u001b[A\n",
      "  0%|          | 783/473047 [10:04<16:01:49,  8.18it/s]\u001b[A"
     ]
    },
    {
     "name": "stdout",
     "output_type": "stream",
     "text": [
      "Objective 0.78855217\n",
      "Objective first part 0.7073701\n",
      "Objective second part -0.08118207\n",
      "Objective 0.08760272\n",
      "Objective first part 0.0\n",
      "Objective second part -0.08760272\n"
     ]
    },
    {
     "name": "stderr",
     "output_type": "stream",
     "text": [
      "\n",
      "  0%|          | 784/473047 [10:04<16:06:36,  8.14it/s]\u001b[A\n",
      "  0%|          | 785/473047 [10:04<15:59:33,  8.20it/s]\u001b[A"
     ]
    },
    {
     "name": "stdout",
     "output_type": "stream",
     "text": [
      "Objective 0.7916921\n",
      "Objective first part 0.7065221\n",
      "Objective second part -0.08516997\n",
      "Objective 0.79905134\n",
      "Objective first part 0.71394193\n",
      "Objective second part -0.08510941\n"
     ]
    },
    {
     "name": "stderr",
     "output_type": "stream",
     "text": [
      "\n",
      "  0%|          | 786/473047 [10:05<16:02:08,  8.18it/s]\u001b[A\n",
      "  0%|          | 787/473047 [10:05<15:57:00,  8.22it/s]\u001b[A"
     ]
    },
    {
     "name": "stdout",
     "output_type": "stream",
     "text": [
      "Objective 0.09850749\n",
      "Objective first part 0.0\n",
      "Objective second part -0.09850749\n",
      "Objective 0.8170543\n",
      "Objective first part 0.7183828\n",
      "Objective second part -0.09867148\n"
     ]
    },
    {
     "name": "stderr",
     "output_type": "stream",
     "text": [
      "\n",
      "  0%|          | 788/473047 [10:05<16:15:38,  8.07it/s]\u001b[A\n",
      "  0%|          | 789/473047 [10:05<16:18:26,  8.04it/s]\u001b[A"
     ]
    },
    {
     "name": "stdout",
     "output_type": "stream",
     "text": [
      "Objective 0.807099\n",
      "Objective first part 0.7150932\n",
      "Objective second part -0.09200582\n",
      "Objective 0.08831898\n",
      "Objective first part 0.0\n",
      "Objective second part -0.08831898\n"
     ]
    },
    {
     "name": "stderr",
     "output_type": "stream",
     "text": [
      "\n",
      "  0%|          | 790/473047 [10:05<15:56:01,  8.23it/s]\u001b[A\n",
      "  0%|          | 791/473047 [10:05<15:51:37,  8.27it/s]\u001b[A"
     ]
    },
    {
     "name": "stdout",
     "output_type": "stream",
     "text": [
      "Objective 0.8088864\n",
      "Objective first part 0.7175848\n",
      "Objective second part -0.09130161\n",
      "Objective 0.81415826\n",
      "Objective first part 0.7160874\n",
      "Objective second part -0.09807084\n",
      "Objective 0.09103207\n",
      "Objective first part 0.0\n",
      "Objective second part -0.09103207\n"
     ]
    },
    {
     "name": "stderr",
     "output_type": "stream",
     "text": [
      "\n",
      "  0%|          | 793/473047 [10:05<13:30:11,  9.71it/s]\u001b[A\n",
      "  0%|          | 795/473047 [10:05<11:29:00, 11.42it/s]\u001b[A\n",
      "  0%|          | 797/473047 [10:05<10:01:12, 13.09it/s]\u001b[A"
     ]
    },
    {
     "name": "stdout",
     "output_type": "stream",
     "text": [
      "Objective 0.8043562\n",
      "Objective first part 0.718457\n",
      "Objective second part -0.085899234\n",
      "Objective 0.09911787\n",
      "Objective first part 0.0\n",
      "Objective second part -0.09911787\n",
      "Objective 0.08295007\n",
      "Objective first part 0.0\n",
      "Objective second part -0.08295007\n",
      "Objective 0.089108475\n",
      "Objective first part 0.0\n",
      "Objective second part -0.089108475\n"
     ]
    },
    {
     "name": "stderr",
     "output_type": "stream",
     "text": [
      "\n",
      "  0%|          | 799/473047 [10:06<9:15:59, 14.16it/s] \u001b[A"
     ]
    },
    {
     "name": "stdout",
     "output_type": "stream",
     "text": [
      "Objective 0.08241866\n",
      "Objective first part 0.0\n",
      "Objective second part -0.08241866\n",
      "Objective 0.8016426\n",
      "Objective first part 0.71909785\n",
      "Objective second part -0.08254475\n",
      "Objective 0.083454415\n",
      "Objective first part 0.0\n",
      "Objective second part -0.083454415\n",
      "Objective 0.08346886\n",
      "Objective first part 0.0\n",
      "Objective second part -0.08346886\n"
     ]
    },
    {
     "name": "stderr",
     "output_type": "stream",
     "text": [
      "\n",
      "  0%|          | 799/473047 [10:23<9:15:59, 14.16it/s]\u001b[A"
     ]
    },
    {
     "name": "stdout",
     "output_type": "stream",
     "text": [
      "train loss first part 1.139049050199167e-09\n",
      "train loss second part -0.08589892\n"
     ]
    },
    {
     "name": "stderr",
     "output_type": "stream",
     "text": [
      "\n",
      "  0%|          | 801/473047 [11:23<1530:54:45, 11.67s/it]\u001b[A\n",
      "  0%|          | 803/473047 [11:23<1073:40:27,  8.18s/it]\u001b[A"
     ]
    },
    {
     "name": "stdout",
     "output_type": "stream",
     "text": [
      "Objective 0.79976743\n",
      "Objective first part 0.71655375\n",
      "Objective second part -0.08321367\n",
      "Objective 0.8038197\n",
      "Objective first part 0.7143921\n",
      "Objective second part -0.08942761\n",
      "Objective 0.7952169\n",
      "Objective first part 0.7114102\n",
      "Objective second part -0.083806686\n"
     ]
    },
    {
     "name": "stderr",
     "output_type": "stream",
     "text": [
      "\n",
      "  0%|          | 804/473047 [11:23<756:17:40,  5.77s/it] \u001b[A\n",
      "  0%|          | 805/473047 [11:23<534:21:22,  4.07s/it]\u001b[A"
     ]
    },
    {
     "name": "stdout",
     "output_type": "stream",
     "text": [
      "Objective 0.08288531\n",
      "Objective first part 0.0\n",
      "Objective second part -0.08288531\n",
      "Objective 0.082026765\n",
      "Objective first part 0.0\n",
      "Objective second part -0.082026765\n"
     ]
    },
    {
     "name": "stderr",
     "output_type": "stream",
     "text": [
      "\n",
      "  0%|          | 806/473047 [11:24<379:02:55,  2.89s/it]\u001b[A\n",
      "  0%|          | 807/473047 [11:24<270:31:03,  2.06s/it]\u001b[A"
     ]
    },
    {
     "name": "stdout",
     "output_type": "stream",
     "text": [
      "Objective 0.08406242\n",
      "Objective first part 0.0\n",
      "Objective second part -0.08406242\n",
      "Objective 0.081075154\n",
      "Objective first part 0.0\n",
      "Objective second part -0.081075154\n"
     ]
    },
    {
     "name": "stderr",
     "output_type": "stream",
     "text": [
      "\n",
      "  0%|          | 808/473047 [11:24<194:19:46,  1.48s/it]\u001b[A\n",
      "  0%|          | 809/473047 [11:24<140:46:36,  1.07s/it]\u001b[A"
     ]
    },
    {
     "name": "stdout",
     "output_type": "stream",
     "text": [
      "Objective 0.078934945\n",
      "Objective first part 0.0\n",
      "Objective second part -0.078934945\n",
      "Objective 0.078835554\n",
      "Objective first part 0.0\n",
      "Objective second part -0.078835554\n"
     ]
    },
    {
     "name": "stderr",
     "output_type": "stream",
     "text": [
      "\n",
      "  0%|          | 810/473047 [11:24<103:56:34,  1.26it/s]\u001b[A\n",
      "  0%|          | 811/473047 [11:24<77:31:26,  1.69it/s] \u001b[A"
     ]
    },
    {
     "name": "stdout",
     "output_type": "stream",
     "text": [
      "Objective 0.08588065\n",
      "Objective first part 0.0\n",
      "Objective second part -0.08588065\n",
      "Objective 0.07385782\n",
      "Objective first part 0.0\n",
      "Objective second part -0.07385782\n"
     ]
    },
    {
     "name": "stderr",
     "output_type": "stream",
     "text": [
      "\n",
      "  0%|          | 812/473047 [11:24<59:18:40,  2.21it/s]\u001b[A\n",
      "  0%|          | 813/473047 [11:24<46:13:48,  2.84it/s]\u001b[A"
     ]
    },
    {
     "name": "stdout",
     "output_type": "stream",
     "text": [
      "Objective 0.81549287\n",
      "Objective first part 0.72547644\n",
      "Objective second part -0.090016425\n",
      "Objective 0.8151479\n",
      "Objective first part 0.7213356\n",
      "Objective second part -0.09381226\n"
     ]
    },
    {
     "name": "stderr",
     "output_type": "stream",
     "text": [
      "\n",
      "  0%|          | 814/473047 [11:25<37:23:24,  3.51it/s]\u001b[A\n",
      "  0%|          | 815/473047 [11:25<31:12:36,  4.20it/s]\u001b[A"
     ]
    },
    {
     "name": "stdout",
     "output_type": "stream",
     "text": [
      "Objective 0.083369866\n",
      "Objective first part 0.0\n",
      "Objective second part -0.083369866\n",
      "Objective 0.08763584\n",
      "Objective first part 0.0\n",
      "Objective second part -0.08763584\n"
     ]
    },
    {
     "name": "stderr",
     "output_type": "stream",
     "text": [
      "\n",
      "  0%|          | 816/473047 [11:25<26:50:54,  4.89it/s]\u001b[A\n",
      "  0%|          | 817/473047 [11:25<23:40:45,  5.54it/s]\u001b[A"
     ]
    },
    {
     "name": "stdout",
     "output_type": "stream",
     "text": [
      "Objective 0.08653004\n",
      "Objective first part 0.0\n",
      "Objective second part -0.08653004\n",
      "Objective 0.07867775\n",
      "Objective first part 0.0\n",
      "Objective second part -0.07867775\n"
     ]
    },
    {
     "name": "stderr",
     "output_type": "stream",
     "text": [
      "\n",
      "  0%|          | 818/473047 [11:25<21:41:06,  6.05it/s]\u001b[A\n",
      "  0%|          | 819/473047 [11:25<20:02:17,  6.55it/s]\u001b[A"
     ]
    },
    {
     "name": "stdout",
     "output_type": "stream",
     "text": [
      "Objective 0.07498046\n",
      "Objective first part 0.0\n",
      "Objective second part -0.07498046\n",
      "Objective 0.07828609\n",
      "Objective first part 0.0\n",
      "Objective second part -0.07828609\n"
     ]
    },
    {
     "name": "stderr",
     "output_type": "stream",
     "text": [
      "\n",
      "  0%|          | 820/473047 [11:25<18:43:11,  7.01it/s]\u001b[A\n",
      "  0%|          | 821/473047 [11:25<18:12:32,  7.20it/s]\u001b[A"
     ]
    },
    {
     "name": "stdout",
     "output_type": "stream",
     "text": [
      "Objective 0.79536444\n",
      "Objective first part 0.7177527\n",
      "Objective second part -0.07761176\n",
      "Objective 0.0911445\n",
      "Objective first part 0.0\n",
      "Objective second part -0.0911445\n"
     ]
    },
    {
     "name": "stderr",
     "output_type": "stream",
     "text": [
      "\n",
      "  0%|          | 822/473047 [11:26<17:49:41,  7.36it/s]\u001b[A\n",
      "  0%|          | 823/473047 [11:26<17:32:30,  7.48it/s]\u001b[A"
     ]
    },
    {
     "name": "stdout",
     "output_type": "stream",
     "text": [
      "Objective 0.08921729\n",
      "Objective first part 0.0\n",
      "Objective second part -0.08921729\n",
      "Objective 0.08356327\n",
      "Objective first part 0.0\n",
      "Objective second part -0.08356327\n"
     ]
    },
    {
     "name": "stderr",
     "output_type": "stream",
     "text": [
      "\n",
      "  0%|          | 824/473047 [11:26<17:21:59,  7.55it/s]\u001b[A\n",
      "  0%|          | 825/473047 [11:26<16:47:38,  7.81it/s]\u001b[A"
     ]
    },
    {
     "name": "stdout",
     "output_type": "stream",
     "text": [
      "Objective 0.084088415\n",
      "Objective first part 0.0\n",
      "Objective second part -0.084088415\n",
      "Objective 0.07917569\n",
      "Objective first part 0.0\n",
      "Objective second part -0.07917569\n"
     ]
    },
    {
     "name": "stderr",
     "output_type": "stream",
     "text": [
      "\n",
      "  0%|          | 826/473047 [11:26<16:52:08,  7.78it/s]\u001b[A\n",
      "  0%|          | 827/473047 [11:26<16:51:17,  7.78it/s]\u001b[A"
     ]
    },
    {
     "name": "stdout",
     "output_type": "stream",
     "text": [
      "Objective 0.7947646\n",
      "Objective first part 0.7175691\n",
      "Objective second part -0.077195466\n",
      "Objective 0.7992286\n",
      "Objective first part 0.72316796\n",
      "Objective second part -0.07606063\n"
     ]
    },
    {
     "name": "stderr",
     "output_type": "stream",
     "text": [
      "\n",
      "  0%|          | 828/473047 [11:26<16:53:17,  7.77it/s]\u001b[A\n",
      "  0%|          | 829/473047 [11:26<16:54:11,  7.76it/s]\u001b[A"
     ]
    },
    {
     "name": "stdout",
     "output_type": "stream",
     "text": [
      "Objective 0.08060502\n",
      "Objective first part 0.0\n",
      "Objective second part -0.08060502\n",
      "Objective 0.80155104\n",
      "Objective first part 0.7219765\n",
      "Objective second part -0.07957454\n"
     ]
    },
    {
     "name": "stderr",
     "output_type": "stream",
     "text": [
      "\n",
      "  0%|          | 830/473047 [11:27<16:45:31,  7.83it/s]\u001b[A\n",
      "  0%|          | 831/473047 [11:27<17:04:25,  7.68it/s]\u001b[A"
     ]
    },
    {
     "name": "stdout",
     "output_type": "stream",
     "text": [
      "Objective 0.8012062\n",
      "Objective first part 0.7263145\n",
      "Objective second part -0.07489168\n",
      "Objective 0.81141424\n",
      "Objective first part 0.7203138\n",
      "Objective second part -0.09110043\n"
     ]
    },
    {
     "name": "stderr",
     "output_type": "stream",
     "text": [
      "\n",
      "  0%|          | 832/473047 [11:27<16:46:18,  7.82it/s]\u001b[A\n",
      "  0%|          | 835/473047 [11:27<13:20:44,  9.83it/s]\u001b[A"
     ]
    },
    {
     "name": "stdout",
     "output_type": "stream",
     "text": [
      "Objective 0.7969301\n",
      "Objective first part 0.7225357\n",
      "Objective second part -0.07439432\n",
      "Objective 0.795128\n",
      "Objective first part 0.7198916\n",
      "Objective second part -0.07523638\n",
      "Objective 0.8072073\n",
      "Objective first part 0.72985506\n",
      "Objective second part -0.0773522\n",
      "Objective 0.08052879\n",
      "Objective first part 0.0\n",
      "Objective second part -0.08052879\n",
      "Objective 0.08520969\n",
      "Objective first part 0.0\n",
      "Objective second part -0.08520969\n",
      "Objective 0.083102\n",
      "Objective first part 0.0\n",
      "Objective second part -0.083102\n"
     ]
    },
    {
     "name": "stderr",
     "output_type": "stream",
     "text": [
      "\n",
      "  0%|          | 838/473047 [11:27<10:47:04, 12.16it/s]\u001b[A\n",
      "  0%|          | 841/473047 [11:27<9:34:26, 13.70it/s] \u001b[A"
     ]
    },
    {
     "name": "stdout",
     "output_type": "stream",
     "text": [
      "Objective 0.078956746\n",
      "Objective first part 0.0\n",
      "Objective second part -0.078956746\n",
      "Objective 0.0748514\n",
      "Objective first part 0.0\n",
      "Objective second part -0.0748514\n",
      "Objective 0.7975211\n",
      "Objective first part 0.72590446\n",
      "Objective second part -0.071616635\n",
      "Objective 0.8009415\n",
      "Objective first part 0.72094136\n",
      "Objective second part -0.08000015\n"
     ]
    },
    {
     "name": "stderr",
     "output_type": "stream",
     "text": [
      "\n",
      "  0%|          | 843/473047 [11:27<9:01:04, 14.55it/s]\u001b[A\n",
      "  0%|          | 846/473047 [11:27<8:01:35, 16.34it/s]\u001b[A"
     ]
    },
    {
     "name": "stdout",
     "output_type": "stream",
     "text": [
      "Objective 0.08233374\n",
      "Objective first part 0.0\n",
      "Objective second part -0.08233374\n",
      "Objective 0.7952814\n",
      "Objective first part 0.721866\n",
      "Objective second part -0.073415376\n",
      "Objective 0.8052905\n",
      "Objective first part 0.7256181\n",
      "Objective second part -0.07967239\n",
      "Objective 0.7886682\n",
      "Objective first part 0.714669\n",
      "Objective second part -0.073999204\n",
      "Objective 0.799735\n",
      "Objective first part 0.7224584\n",
      "Objective second part -0.0772766\n"
     ]
    },
    {
     "name": "stderr",
     "output_type": "stream",
     "text": [
      "\n",
      "  0%|          | 849/473047 [11:28<7:06:33, 18.45it/s]\u001b[A\n",
      "  0%|          | 852/473047 [11:28<6:23:44, 20.51it/s]\u001b[A"
     ]
    },
    {
     "name": "stdout",
     "output_type": "stream",
     "text": [
      "Objective 0.7981432\n",
      "Objective first part 0.726983\n",
      "Objective second part -0.071160205\n",
      "Objective 0.80986965\n",
      "Objective first part 0.72623926\n",
      "Objective second part -0.083630405\n",
      "Objective 0.08142265\n",
      "Objective first part 0.0\n",
      "Objective second part -0.08142265\n",
      "Objective 0.81220233\n",
      "Objective first part 0.72661275\n",
      "Objective second part -0.085589595\n",
      "Objective 0.08333553\n",
      "Objective first part 0.0\n",
      "Objective second part -0.08333553\n",
      "Objective 0.7907955\n",
      "Objective first part 0.7195226\n",
      "Objective second part -0.07127292\n"
     ]
    },
    {
     "name": "stderr",
     "output_type": "stream",
     "text": [
      "\n",
      "  0%|          | 855/473047 [11:28<5:51:09, 22.41it/s]\u001b[A\n",
      "  0%|          | 858/473047 [11:28<5:24:30, 24.25it/s]\u001b[A"
     ]
    },
    {
     "name": "stdout",
     "output_type": "stream",
     "text": [
      "Objective 0.08074749\n",
      "Objective first part 0.0\n",
      "Objective second part -0.08074749\n",
      "Objective 0.076583065\n",
      "Objective first part 0.0\n",
      "Objective second part -0.076583065\n",
      "Objective 0.79423153\n",
      "Objective first part 0.7238742\n",
      "Objective second part -0.070357315\n",
      "Objective 0.80255216\n",
      "Objective first part 0.7238121\n",
      "Objective second part -0.078740045\n",
      "Objective 0.08074633\n",
      "Objective first part 0.0\n",
      "Objective second part -0.08074633\n",
      "Objective 0.8030862\n",
      "Objective first part 0.721885\n",
      "Objective second part -0.08120121\n"
     ]
    },
    {
     "name": "stderr",
     "output_type": "stream",
     "text": [
      "\n",
      "  0%|          | 861/473047 [11:28<5:09:37, 25.42it/s]\u001b[A\n",
      "  0%|          | 864/473047 [11:28<5:02:00, 26.06it/s]\u001b[A"
     ]
    },
    {
     "name": "stdout",
     "output_type": "stream",
     "text": [
      "Objective 0.80357796\n",
      "Objective first part 0.7201832\n",
      "Objective second part -0.08339474\n",
      "Objective 0.081270255\n",
      "Objective first part 0.0\n",
      "Objective second part -0.081270255\n",
      "Objective 0.08238002\n",
      "Objective first part 0.0\n",
      "Objective second part -0.08238002\n",
      "Objective 0.079186715\n",
      "Objective first part 0.0\n",
      "Objective second part -0.079186715\n",
      "Objective 0.07778737\n",
      "Objective first part 0.0\n",
      "Objective second part -0.07778737\n",
      "Objective 0.08601628\n",
      "Objective first part 0.0\n",
      "Objective second part -0.08601628\n"
     ]
    },
    {
     "name": "stderr",
     "output_type": "stream",
     "text": [
      "\n",
      "  0%|          | 867/473047 [11:28<6:20:30, 20.68it/s]\u001b[A"
     ]
    },
    {
     "name": "stdout",
     "output_type": "stream",
     "text": [
      "Objective 0.802394\n",
      "Objective first part 0.7240489\n",
      "Objective second part -0.07834507\n",
      "Objective 0.070255324\n",
      "Objective first part 0.0\n",
      "Objective second part -0.070255324\n",
      "Objective 0.7914175\n",
      "Objective first part 0.7190836\n",
      "Objective second part -0.072333895\n",
      "Objective 0.7976643\n",
      "Objective first part 0.7202217\n",
      "Objective second part -0.07744256\n",
      "Objective 0.07313818\n",
      "Objective first part 0.0\n",
      "Objective second part -0.07313818\n"
     ]
    },
    {
     "name": "stderr",
     "output_type": "stream",
     "text": [
      "\n",
      "  0%|          | 870/473047 [11:29<9:19:20, 14.07it/s]\u001b[A"
     ]
    },
    {
     "name": "stdout",
     "output_type": "stream",
     "text": [
      "Objective 0.06982905\n",
      "Objective first part 0.0\n",
      "Objective second part -0.06982905\n",
      "Objective 0.07321289\n",
      "Objective first part 0.0\n",
      "Objective second part -0.07321289\n"
     ]
    },
    {
     "name": "stderr",
     "output_type": "stream",
     "text": [
      "\n",
      "  0%|          | 872/473047 [11:29<11:33:42, 11.34it/s]\u001b[A"
     ]
    },
    {
     "name": "stdout",
     "output_type": "stream",
     "text": [
      "Objective 0.79506224\n",
      "Objective first part 0.7221978\n",
      "Objective second part -0.07286446\n",
      "Objective 0.8072232\n",
      "Objective first part 0.7231932\n",
      "Objective second part -0.08403\n"
     ]
    },
    {
     "name": "stderr",
     "output_type": "stream",
     "text": [
      "\n",
      "  0%|          | 874/473047 [11:29<12:51:37, 10.20it/s]\u001b[A"
     ]
    },
    {
     "name": "stdout",
     "output_type": "stream",
     "text": [
      "Objective 0.07127932\n",
      "Objective first part 0.0\n",
      "Objective second part -0.07127932\n",
      "Objective 0.0781896\n",
      "Objective first part 0.0\n",
      "Objective second part -0.0781896\n"
     ]
    },
    {
     "name": "stderr",
     "output_type": "stream",
     "text": [
      "\n",
      "  0%|          | 876/473047 [11:29<13:45:21,  9.53it/s]\u001b[A\n"
     ]
    },
    {
     "name": "stdout",
     "output_type": "stream",
     "text": [
      "Objective 0.073247455\n",
      "Objective first part 0.0\n",
      "Objective second part -0.073247455\n",
      "Objective 0.08400939\n",
      "Objective first part 0.0\n",
      "Objective second part -0.08400939\n"
     ]
    },
    {
     "name": "stderr",
     "output_type": "stream",
     "text": [
      "  0%|          | 878/473047 [11:30<13:56:56,  9.40it/s]\u001b[A\n",
      "  0%|          | 880/473047 [11:30<13:28:02,  9.74it/s]\u001b[A"
     ]
    },
    {
     "name": "stdout",
     "output_type": "stream",
     "text": [
      "Objective 0.8019579\n",
      "Objective first part 0.729029\n",
      "Objective second part -0.07292889\n",
      "Objective 0.074061655\n",
      "Objective first part 0.0\n",
      "Objective second part -0.074061655\n",
      "Objective 0.07633844\n",
      "Objective first part 0.0\n",
      "Objective second part -0.07633844\n"
     ]
    },
    {
     "name": "stderr",
     "output_type": "stream",
     "text": [
      "\n",
      "  0%|          | 882/473047 [11:30<13:27:36,  9.74it/s]\u001b[A"
     ]
    },
    {
     "name": "stdout",
     "output_type": "stream",
     "text": [
      "Objective 0.07255165\n",
      "Objective first part 0.0\n",
      "Objective second part -0.07255165\n",
      "Objective 0.8012958\n",
      "Objective first part 0.7251089\n",
      "Objective second part -0.07618689\n"
     ]
    },
    {
     "name": "stderr",
     "output_type": "stream",
     "text": [
      "\n",
      "  0%|          | 884/473047 [11:30<13:45:30,  9.53it/s]\u001b[A"
     ]
    },
    {
     "name": "stdout",
     "output_type": "stream",
     "text": [
      "Objective 0.0707819\n",
      "Objective first part 0.0\n",
      "Objective second part -0.0707819\n",
      "Objective 0.07774955\n",
      "Objective first part 0.0\n",
      "Objective second part -0.07774955\n"
     ]
    },
    {
     "name": "stderr",
     "output_type": "stream",
     "text": [
      "\n",
      "  0%|          | 886/473047 [11:31<14:13:08,  9.22it/s]\u001b[A"
     ]
    },
    {
     "name": "stdout",
     "output_type": "stream",
     "text": [
      "Objective 0.7867868\n",
      "Objective first part 0.7182706\n",
      "Objective second part -0.06851619\n",
      "Objective 0.7937256\n",
      "Objective first part 0.7240382\n",
      "Objective second part -0.06968742\n"
     ]
    },
    {
     "name": "stderr",
     "output_type": "stream",
     "text": [
      "\n",
      "  0%|          | 887/473047 [11:31<14:19:35,  9.15it/s]\u001b[A\n",
      "  0%|          | 888/473047 [11:31<14:26:03,  9.09it/s]\u001b[A"
     ]
    },
    {
     "name": "stdout",
     "output_type": "stream",
     "text": [
      "Objective 0.7998105\n",
      "Objective first part 0.72327065\n",
      "Objective second part -0.07653989\n",
      "Objective 0.07774962\n",
      "Objective first part 0.0\n",
      "Objective second part -0.07774962\n"
     ]
    },
    {
     "name": "stderr",
     "output_type": "stream",
     "text": [
      "\n",
      "  0%|          | 889/473047 [11:31<14:28:50,  9.06it/s]\u001b[A\n",
      "  0%|          | 890/473047 [11:31<14:55:49,  8.78it/s]\u001b[A"
     ]
    },
    {
     "name": "stdout",
     "output_type": "stream",
     "text": [
      "Objective 0.07242617\n",
      "Objective first part 0.0\n",
      "Objective second part -0.07242617\n",
      "Objective 0.06774916\n",
      "Objective first part 0.0\n",
      "Objective second part -0.06774916\n"
     ]
    },
    {
     "name": "stderr",
     "output_type": "stream",
     "text": [
      "\n",
      "  0%|          | 891/473047 [11:31<15:01:18,  8.73it/s]\u001b[A\n",
      "  0%|          | 892/473047 [11:31<15:33:53,  8.43it/s]\u001b[A"
     ]
    },
    {
     "name": "stdout",
     "output_type": "stream",
     "text": [
      "Objective 0.79622734\n",
      "Objective first part 0.72880083\n",
      "Objective second part -0.06742647\n",
      "Objective 0.7970487\n",
      "Objective first part 0.7266379\n",
      "Objective second part -0.07041078\n"
     ]
    },
    {
     "name": "stderr",
     "output_type": "stream",
     "text": [
      "\n",
      "  0%|          | 893/473047 [11:31<16:00:54,  8.19it/s]\u001b[A\n",
      "  0%|          | 894/473047 [11:31<15:55:39,  8.23it/s]\u001b[A"
     ]
    },
    {
     "name": "stdout",
     "output_type": "stream",
     "text": [
      "Objective 0.07091748\n",
      "Objective first part 0.0\n",
      "Objective second part -0.07091748\n",
      "Objective 0.79388577\n",
      "Objective first part 0.7292221\n",
      "Objective second part -0.06466365\n"
     ]
    },
    {
     "name": "stderr",
     "output_type": "stream",
     "text": [
      "\n",
      "  0%|          | 895/473047 [11:32<15:49:36,  8.29it/s]\u001b[A\n",
      "  0%|          | 896/473047 [11:32<16:03:58,  8.16it/s]\u001b[A"
     ]
    },
    {
     "name": "stdout",
     "output_type": "stream",
     "text": [
      "Objective 0.07303007\n",
      "Objective first part 0.0\n",
      "Objective second part -0.07303007\n",
      "Objective 0.07900241\n",
      "Objective first part 0.0\n",
      "Objective second part -0.07900241\n"
     ]
    },
    {
     "name": "stderr",
     "output_type": "stream",
     "text": [
      "\n",
      "  0%|          | 897/473047 [11:32<16:22:00,  8.01it/s]\u001b[A\n",
      "  0%|          | 899/473047 [11:32<14:06:04,  9.30it/s]\u001b[A"
     ]
    },
    {
     "name": "stdout",
     "output_type": "stream",
     "text": [
      "Objective 0.07493279\n",
      "Objective first part 0.0\n",
      "Objective second part -0.07493279\n",
      "Objective 0.08241918\n",
      "Objective first part 0.0\n",
      "Objective second part -0.08241918\n",
      "Objective 0.80260146\n",
      "Objective first part 0.7270329\n",
      "Objective second part -0.07556854\n",
      "Objective 0.06837813\n",
      "Objective first part 0.0\n",
      "Objective second part -0.06837813\n"
     ]
    },
    {
     "name": "stderr",
     "output_type": "stream",
     "text": [
      "\n",
      "  0%|          | 899/473047 [11:43<14:06:04,  9.30it/s]\u001b[A"
     ]
    },
    {
     "name": "stdout",
     "output_type": "stream",
     "text": [
      "train loss first part 1.1564002479069536e-09\n",
      "train loss second part -0.070981115\n"
     ]
    },
    {
     "name": "stderr",
     "output_type": "stream",
     "text": [
      "\n",
      "  0%|          | 901/473047 [12:46<1459:44:01, 11.13s/it]\u001b[A\n",
      "  0%|          | 905/473047 [12:46<1023:05:40,  7.80s/it]\u001b[A"
     ]
    },
    {
     "name": "stdout",
     "output_type": "stream",
     "text": [
      "Objective 0.7939717\n",
      "Objective first part 0.7217101\n",
      "Objective second part -0.072261624\n",
      "Objective 0.80200803\n",
      "Objective first part 0.721891\n",
      "Objective second part -0.080117024\n",
      "Objective 0.07572129\n",
      "Objective first part 0.0\n",
      "Objective second part -0.07572129\n",
      "Objective 0.7937626\n",
      "Objective first part 0.7236519\n",
      "Objective second part -0.07011076\n",
      "Objective 0.79812104\n",
      "Objective first part 0.7262689\n",
      "Objective second part -0.07185216\n",
      "Objective 0.07502518\n",
      "Objective first part 0.0\n",
      "Objective second part -0.07502518\n",
      "Objective 0.07231147\n",
      "Objective first part 0.0\n",
      "Objective second part -0.07231147\n"
     ]
    },
    {
     "name": "stderr",
     "output_type": "stream",
     "text": [
      "\n",
      "  0%|          | 908/473047 [12:46<717:35:24,  5.47s/it] \u001b[A\n",
      "  0%|          | 910/473047 [12:46<504:30:17,  3.85s/it]\u001b[A"
     ]
    },
    {
     "name": "stdout",
     "output_type": "stream",
     "text": [
      "Objective 0.8041742\n",
      "Objective first part 0.72253066\n",
      "Objective second part -0.08164355\n",
      "Objective 0.06896681\n",
      "Objective first part 0.0\n",
      "Objective second part -0.06896681\n",
      "Objective 0.072210945\n",
      "Objective first part 0.0\n",
      "Objective second part -0.072210945\n"
     ]
    },
    {
     "name": "stderr",
     "output_type": "stream",
     "text": [
      "\n",
      "  0%|          | 912/473047 [12:46<357:09:55,  2.72s/it]\u001b[A"
     ]
    },
    {
     "name": "stdout",
     "output_type": "stream",
     "text": [
      "Objective 0.8004147\n",
      "Objective first part 0.7321339\n",
      "Objective second part -0.06828074\n",
      "Objective 0.07747231\n",
      "Objective first part 0.0\n",
      "Objective second part -0.07747231\n"
     ]
    },
    {
     "name": "stderr",
     "output_type": "stream",
     "text": [
      "\n",
      "  0%|          | 914/473047 [12:46<253:43:00,  1.93s/it]\u001b[A"
     ]
    },
    {
     "name": "stdout",
     "output_type": "stream",
     "text": [
      "Objective 0.070101745\n",
      "Objective first part 0.0\n",
      "Objective second part -0.070101745\n",
      "Objective 0.796631\n",
      "Objective first part 0.7324165\n",
      "Objective second part -0.06421445\n"
     ]
    },
    {
     "name": "stderr",
     "output_type": "stream",
     "text": [
      "\n",
      "  0%|          | 916/473047 [12:47<182:13:04,  1.39s/it]\u001b[A"
     ]
    },
    {
     "name": "stdout",
     "output_type": "stream",
     "text": [
      "Objective 0.7946924\n",
      "Objective first part 0.724298\n",
      "Objective second part -0.07039441\n",
      "Objective 0.06571401\n",
      "Objective first part 0.0\n",
      "Objective second part -0.06571401\n"
     ]
    },
    {
     "name": "stderr",
     "output_type": "stream",
     "text": [
      "\n",
      "  0%|          | 918/473047 [12:47<130:49:03,  1.00it/s]\u001b[A"
     ]
    },
    {
     "name": "stdout",
     "output_type": "stream",
     "text": [
      "Objective 0.065655455\n",
      "Objective first part 0.0\n",
      "Objective second part -0.065655455\n",
      "Objective 0.80300665\n",
      "Objective first part 0.7315032\n",
      "Objective second part -0.07150343\n"
     ]
    },
    {
     "name": "stderr",
     "output_type": "stream",
     "text": [
      "\n",
      "  0%|          | 920/473047 [12:47<96:07:32,  1.36it/s] \u001b[A"
     ]
    },
    {
     "name": "stdout",
     "output_type": "stream",
     "text": [
      "Objective 0.06938755\n",
      "Objective first part 0.0\n",
      "Objective second part -0.06938755\n",
      "Objective 0.7934626\n",
      "Objective first part 0.73341525\n",
      "Objective second part -0.060047343\n"
     ]
    },
    {
     "name": "stderr",
     "output_type": "stream",
     "text": [
      "\n",
      "  0%|          | 922/473047 [12:47<72:09:34,  1.82it/s]\u001b[A"
     ]
    },
    {
     "name": "stdout",
     "output_type": "stream",
     "text": [
      "Objective 0.06878565\n",
      "Objective first part 0.0\n",
      "Objective second part -0.06878565\n",
      "Objective 0.07400421\n",
      "Objective first part 0.0\n",
      "Objective second part -0.07400421\n"
     ]
    },
    {
     "name": "stderr",
     "output_type": "stream",
     "text": [
      "\n",
      "  0%|          | 923/473047 [12:47<55:13:02,  2.38it/s]\u001b[A\n",
      "  0%|          | 924/473047 [12:48<43:42:53,  3.00it/s]\u001b[A"
     ]
    },
    {
     "name": "stdout",
     "output_type": "stream",
     "text": [
      "Objective 0.07490041\n",
      "Objective first part 0.0\n",
      "Objective second part -0.07490041\n",
      "Objective 0.80383927\n",
      "Objective first part 0.729444\n",
      "Objective second part -0.074395224\n"
     ]
    },
    {
     "name": "stderr",
     "output_type": "stream",
     "text": [
      "\n",
      "  0%|          | 925/473047 [12:48<35:29:54,  3.69it/s]\u001b[A\n",
      "  0%|          | 926/473047 [12:48<29:43:54,  4.41it/s]\u001b[A"
     ]
    },
    {
     "name": "stdout",
     "output_type": "stream",
     "text": [
      "Objective 0.7949082\n",
      "Objective first part 0.72522235\n",
      "Objective second part -0.069685884\n",
      "Objective 0.07533606\n",
      "Objective first part 0.0\n",
      "Objective second part -0.07533606\n"
     ]
    },
    {
     "name": "stderr",
     "output_type": "stream",
     "text": [
      "\n",
      "  0%|          | 927/473047 [12:48<25:29:40,  5.14it/s]\u001b[A\n",
      "  0%|          | 928/473047 [12:48<22:42:30,  5.78it/s]\u001b[A"
     ]
    },
    {
     "name": "stdout",
     "output_type": "stream",
     "text": [
      "Objective 0.7941032\n",
      "Objective first part 0.72848785\n",
      "Objective second part -0.065615356\n",
      "Objective 0.06913893\n",
      "Objective first part 0.0\n",
      "Objective second part -0.06913893\n"
     ]
    },
    {
     "name": "stderr",
     "output_type": "stream",
     "text": [
      "\n",
      "  0%|          | 929/473047 [12:48<20:36:56,  6.36it/s]\u001b[A\n",
      "  0%|          | 930/473047 [12:48<19:30:25,  6.72it/s]\u001b[A"
     ]
    },
    {
     "name": "stdout",
     "output_type": "stream",
     "text": [
      "Objective 0.7950451\n",
      "Objective first part 0.72935873\n",
      "Objective second part -0.06568632\n",
      "Objective 0.80039525\n",
      "Objective first part 0.7306589\n",
      "Objective second part -0.06973637\n"
     ]
    },
    {
     "name": "stderr",
     "output_type": "stream",
     "text": [
      "\n",
      "  0%|          | 931/473047 [12:48<18:18:40,  7.16it/s]\u001b[A\n",
      "  0%|          | 932/473047 [12:49<17:36:45,  7.45it/s]\u001b[A"
     ]
    },
    {
     "name": "stdout",
     "output_type": "stream",
     "text": [
      "Objective 0.06566379\n",
      "Objective first part 0.0\n",
      "Objective second part -0.06566379\n",
      "Objective 0.07655804\n",
      "Objective first part 0.0\n",
      "Objective second part -0.07655804\n"
     ]
    },
    {
     "name": "stderr",
     "output_type": "stream",
     "text": [
      "\n",
      "  0%|          | 933/473047 [12:49<17:24:59,  7.53it/s]\u001b[A\n",
      "  0%|          | 934/473047 [12:49<17:08:26,  7.65it/s]\u001b[A"
     ]
    },
    {
     "name": "stdout",
     "output_type": "stream",
     "text": [
      "Objective 0.80805963\n",
      "Objective first part 0.7304324\n",
      "Objective second part -0.07762722\n",
      "Objective 0.80070764\n",
      "Objective first part 0.72742563\n",
      "Objective second part -0.073282026\n"
     ]
    },
    {
     "name": "stderr",
     "output_type": "stream",
     "text": [
      "\n",
      "  0%|          | 935/473047 [12:49<17:12:20,  7.62it/s]\u001b[A\n",
      "  0%|          | 936/473047 [12:49<17:09:43,  7.64it/s]\u001b[A"
     ]
    },
    {
     "name": "stdout",
     "output_type": "stream",
     "text": [
      "Objective 0.78946036\n",
      "Objective first part 0.72723764\n",
      "Objective second part -0.062222693\n",
      "Objective 0.8036692\n",
      "Objective first part 0.73146516\n",
      "Objective second part -0.07220402\n"
     ]
    },
    {
     "name": "stderr",
     "output_type": "stream",
     "text": [
      "\n",
      "  0%|          | 937/473047 [12:49<17:05:21,  7.67it/s]\u001b[A\n",
      "  0%|          | 938/473047 [12:49<17:16:08,  7.59it/s]\u001b[A"
     ]
    },
    {
     "name": "stdout",
     "output_type": "stream",
     "text": [
      "Objective 0.058056407\n",
      "Objective first part 0.0\n",
      "Objective second part -0.058056407\n",
      "Objective 0.7979867\n",
      "Objective first part 0.7277514\n",
      "Objective second part -0.07023531\n"
     ]
    },
    {
     "name": "stderr",
     "output_type": "stream",
     "text": [
      "\n",
      "  0%|          | 939/473047 [12:49<17:01:33,  7.70it/s]\u001b[A\n",
      "  0%|          | 940/473047 [12:50<16:53:01,  7.77it/s]\u001b[A"
     ]
    },
    {
     "name": "stdout",
     "output_type": "stream",
     "text": [
      "Objective 0.06908317\n",
      "Objective first part 0.0\n",
      "Objective second part -0.06908317\n",
      "Objective 0.7966802\n",
      "Objective first part 0.7321375\n",
      "Objective second part -0.06454272\n"
     ]
    },
    {
     "name": "stderr",
     "output_type": "stream",
     "text": [
      "\n",
      "  0%|          | 941/473047 [12:50<16:53:19,  7.76it/s]\u001b[A\n",
      "  0%|          | 942/473047 [12:50<15:55:30,  8.23it/s]\u001b[A\n",
      "  0%|          | 944/473047 [12:50<13:21:12,  9.82it/s]\u001b[A"
     ]
    },
    {
     "name": "stdout",
     "output_type": "stream",
     "text": [
      "Objective 0.79853123\n",
      "Objective first part 0.72959334\n",
      "Objective second part -0.06893788\n",
      "Objective 0.8032405\n",
      "Objective first part 0.7306425\n",
      "Objective second part -0.07259799\n",
      "Objective 0.057815325\n",
      "Objective first part 0.0\n",
      "Objective second part -0.057815325\n"
     ]
    },
    {
     "name": "stderr",
     "output_type": "stream",
     "text": [
      "\n",
      "  0%|          | 946/473047 [12:50<11:46:54, 11.13it/s]\u001b[A"
     ]
    },
    {
     "name": "stdout",
     "output_type": "stream",
     "text": [
      "Objective 0.7999315\n",
      "Objective first part 0.7346964\n",
      "Objective second part -0.06523514\n",
      "Objective 0.064769976\n",
      "Objective first part 0.0\n",
      "Objective second part -0.064769976\n",
      "Objective 0.06537683\n",
      "Objective first part 0.0\n",
      "Objective second part -0.06537683\n",
      "Objective 0.07572033\n",
      "Objective first part 0.0\n",
      "Objective second part -0.07572033\n"
     ]
    },
    {
     "name": "stderr",
     "output_type": "stream",
     "text": [
      "\n",
      "  0%|          | 948/473047 [12:50<10:40:34, 12.28it/s]\u001b[A\n",
      "  0%|          | 950/473047 [12:50<10:01:13, 13.09it/s]\u001b[A"
     ]
    },
    {
     "name": "stdout",
     "output_type": "stream",
     "text": [
      "Objective 0.796669\n",
      "Objective first part 0.72864765\n",
      "Objective second part -0.06802136\n",
      "Objective 0.07199416\n",
      "Objective first part 0.0\n",
      "Objective second part -0.07199416\n",
      "Objective 0.076186374\n",
      "Objective first part 0.0\n",
      "Objective second part -0.076186374\n",
      "Objective 0.80041444\n",
      "Objective first part 0.73449737\n",
      "Objective second part -0.06591708\n",
      "Objective 0.7899444\n",
      "Objective first part 0.7273579\n",
      "Objective second part -0.06258648\n"
     ]
    },
    {
     "name": "stderr",
     "output_type": "stream",
     "text": [
      "\n",
      "  0%|          | 953/473047 [12:50<8:29:46, 15.43it/s] \u001b[A\n",
      "  0%|          | 956/473047 [12:51<7:16:21, 18.03it/s]\u001b[A\n",
      "  0%|          | 962/473047 [12:51<5:46:09, 22.73it/s]\u001b[A"
     ]
    },
    {
     "name": "stdout",
     "output_type": "stream",
     "text": [
      "Objective 0.7949927\n",
      "Objective first part 0.7318005\n",
      "Objective second part -0.0631922\n",
      "Objective 0.8051305\n",
      "Objective first part 0.7342241\n",
      "Objective second part -0.07090641\n",
      "Objective 0.07480727\n",
      "Objective first part 0.0\n",
      "Objective second part -0.07480727\n",
      "Objective 0.7943566\n",
      "Objective first part 0.7310615\n",
      "Objective second part -0.06329507\n",
      "Objective 0.7924084\n",
      "Objective first part 0.7285444\n",
      "Objective second part -0.06386399\n",
      "Objective 0.80119735\n",
      "Objective first part 0.7290728\n",
      "Objective second part -0.07212452\n",
      "Objective 0.066892035\n",
      "Objective first part 0.0\n",
      "Objective second part -0.066892035\n",
      "Objective 0.06414264\n",
      "Objective first part 0.0\n",
      "Objective second part -0.06414264\n",
      "Objective 0.78189266\n",
      "Objective first part 0.7302411\n",
      "Objective second part -0.051651563\n"
     ]
    },
    {
     "name": "stderr",
     "output_type": "stream",
     "text": [
      "\n",
      "  0%|          | 968/473047 [12:51<4:45:37, 27.55it/s]\u001b[A"
     ]
    },
    {
     "name": "stdout",
     "output_type": "stream",
     "text": [
      "Objective 0.79283476\n",
      "Objective first part 0.73116505\n",
      "Objective second part -0.061669726\n",
      "Objective 0.06501916\n",
      "Objective first part 0.0\n",
      "Objective second part -0.06501916\n",
      "Objective 0.06686094\n",
      "Objective first part 0.0\n",
      "Objective second part -0.06686094\n",
      "Objective 0.7950661\n",
      "Objective first part 0.7336765\n",
      "Objective second part -0.061389618\n",
      "Objective 0.06282186\n",
      "Objective first part 0.0\n",
      "Objective second part -0.06282186\n",
      "Objective 0.80235744\n",
      "Objective first part 0.73447996\n",
      "Objective second part -0.0678775\n",
      "Objective 0.79812753\n",
      "Objective first part 0.7341801\n",
      "Objective second part -0.06394742\n",
      "Objective 0.063289985\n",
      "Objective first part 0.0\n",
      "Objective second part -0.063289985\n",
      "Objective 0.7942123\n",
      "Objective first part 0.7319199\n",
      "Objective second part -0.06229241\n",
      "Objective 0.06842881\n",
      "Objective first part 0.0\n",
      "Objective second part -0.06842881\n"
     ]
    },
    {
     "name": "stderr",
     "output_type": "stream",
     "text": [
      "\n",
      "  0%|          | 972/473047 [12:51<4:23:56, 29.81it/s]\u001b[A\n",
      "  0%|          | 976/473047 [12:51<4:29:34, 29.19it/s]\u001b[A"
     ]
    },
    {
     "name": "stdout",
     "output_type": "stream",
     "text": [
      "Objective 0.05672604\n",
      "Objective first part 0.0\n",
      "Objective second part -0.05672604\n",
      "Objective 0.7939268\n",
      "Objective first part 0.7309228\n",
      "Objective second part -0.063003965\n",
      "Objective 0.7956587\n",
      "Objective first part 0.7373228\n",
      "Objective second part -0.0583359\n",
      "Objective 0.066705324\n",
      "Objective first part 0.0\n",
      "Objective second part -0.066705324\n",
      "Objective 0.061993733\n",
      "Objective first part 0.0\n",
      "Objective second part -0.061993733\n",
      "Objective 0.063961394\n",
      "Objective first part 0.0\n",
      "Objective second part -0.063961394\n"
     ]
    },
    {
     "name": "stderr",
     "output_type": "stream",
     "text": [
      "\n",
      "  0%|          | 980/473047 [12:51<4:26:49, 29.49it/s]\u001b[A"
     ]
    },
    {
     "name": "stdout",
     "output_type": "stream",
     "text": [
      "Objective 0.06363122\n",
      "Objective first part 0.0\n",
      "Objective second part -0.06363122\n",
      "Objective 0.06552065\n",
      "Objective first part 0.0\n",
      "Objective second part -0.06552065\n",
      "Objective 0.7866392\n",
      "Objective first part 0.7263404\n",
      "Objective second part -0.060298774\n",
      "Objective 0.8062806\n",
      "Objective first part 0.7346745\n",
      "Objective second part -0.07160607\n",
      "Objective 0.06839651\n",
      "Objective first part 0.0\n",
      "Objective second part -0.06839651\n"
     ]
    },
    {
     "name": "stderr",
     "output_type": "stream",
     "text": [
      "\n",
      "  0%|          | 984/473047 [12:51<6:30:22, 20.15it/s]\u001b[A"
     ]
    },
    {
     "name": "stdout",
     "output_type": "stream",
     "text": [
      "Objective 0.8008823\n",
      "Objective first part 0.7362369\n",
      "Objective second part -0.0646454\n",
      "Objective 0.06801683\n",
      "Objective first part 0.0\n",
      "Objective second part -0.06801683\n",
      "Objective 0.07041788\n",
      "Objective first part 0.0\n",
      "Objective second part -0.07041788\n",
      "Objective 0.06912277\n",
      "Objective first part 0.0\n",
      "Objective second part -0.06912277\n"
     ]
    },
    {
     "name": "stderr",
     "output_type": "stream",
     "text": [
      "\n",
      "  0%|          | 987/473047 [12:52<9:37:02, 13.63it/s]\u001b[A"
     ]
    },
    {
     "name": "stdout",
     "output_type": "stream",
     "text": [
      "Objective 0.06510383\n",
      "Objective first part 0.0\n",
      "Objective second part -0.06510383\n",
      "Objective 0.05977484\n",
      "Objective first part 0.0\n",
      "Objective second part -0.05977484\n"
     ]
    },
    {
     "name": "stderr",
     "output_type": "stream",
     "text": [
      "\n",
      "  0%|          | 990/473047 [12:52<11:46:56, 11.13it/s]\u001b[A"
     ]
    },
    {
     "name": "stdout",
     "output_type": "stream",
     "text": [
      "Objective 0.80392855\n",
      "Objective first part 0.7376665\n",
      "Objective second part -0.06626209\n",
      "Objective 0.7949971\n",
      "Objective first part 0.73638964\n",
      "Objective second part -0.05860744\n"
     ]
    },
    {
     "name": "stderr",
     "output_type": "stream",
     "text": [
      "\n",
      "  0%|          | 992/473047 [12:52<13:18:10,  9.86it/s]\u001b[A"
     ]
    },
    {
     "name": "stdout",
     "output_type": "stream",
     "text": [
      "Objective 0.8005956\n",
      "Objective first part 0.73864496\n",
      "Objective second part -0.061950613\n",
      "Objective 0.7976614\n",
      "Objective first part 0.73480844\n",
      "Objective second part -0.06285296\n"
     ]
    },
    {
     "name": "stderr",
     "output_type": "stream",
     "text": [
      "\n",
      "  0%|          | 994/473047 [12:53<14:14:27,  9.21it/s]\u001b[A"
     ]
    },
    {
     "name": "stdout",
     "output_type": "stream",
     "text": [
      "Objective 0.06236644\n",
      "Objective first part 0.0\n",
      "Objective second part -0.06236644\n",
      "Objective 0.05910048\n",
      "Objective first part 0.0\n",
      "Objective second part -0.05910048\n"
     ]
    },
    {
     "name": "stderr",
     "output_type": "stream",
     "text": [
      "\n",
      "  0%|          | 996/473047 [12:53<15:01:14,  8.73it/s]\u001b[A"
     ]
    },
    {
     "name": "stdout",
     "output_type": "stream",
     "text": [
      "Objective 0.79157317\n",
      "Objective first part 0.72777605\n",
      "Objective second part -0.063797094\n",
      "Objective 0.058190268\n",
      "Objective first part 0.0\n",
      "Objective second part -0.058190268\n"
     ]
    },
    {
     "name": "stderr",
     "output_type": "stream",
     "text": [
      "\n",
      "  0%|          | 998/473047 [12:53<15:28:42,  8.47it/s]\u001b[A"
     ]
    },
    {
     "name": "stdout",
     "output_type": "stream",
     "text": [
      "Objective 0.7904422\n",
      "Objective first part 0.7340359\n",
      "Objective second part -0.05640632\n",
      "Objective 0.7978135\n",
      "Objective first part 0.7379506\n",
      "Objective second part -0.05986286\n"
     ]
    },
    {
     "name": "stderr",
     "output_type": "stream",
     "text": [
      "\n",
      "  0%|          | 1000/473047 [12:53<15:46:25,  8.31it/s]\u001b[A"
     ]
    },
    {
     "name": "stdout",
     "output_type": "stream",
     "text": [
      "Objective 0.06572687\n",
      "Objective first part 0.0\n",
      "Objective second part -0.06572687\n",
      "Objective 0.7986177\n",
      "Objective first part 0.7347924\n",
      "Objective second part -0.0638253\n",
      "train loss first part 1.168726954977771e-09\n",
      "train loss second part -0.06053914\n"
     ]
    },
    {
     "name": "stderr",
     "output_type": "stream",
     "text": [
      "\n",
      "  0%|          | 1001/473047 [14:13<3133:53:24, 23.90s/it]\u001b[A\n",
      "  0%|          | 1002/473047 [14:13<2198:40:56, 16.77s/it]\u001b[A"
     ]
    },
    {
     "name": "stdout",
     "output_type": "stream",
     "text": [
      "Objective 0.7928775\n",
      "Objective first part 0.7345991\n",
      "Objective second part -0.0582784\n",
      "Objective 0.06725796\n",
      "Objective first part 0.0\n",
      "Objective second part -0.06725796\n"
     ]
    },
    {
     "name": "stderr",
     "output_type": "stream",
     "text": [
      "\n",
      "  0%|          | 1003/473047 [14:13<1543:50:25, 11.77s/it]\u001b[A\n",
      "  0%|          | 1004/473047 [14:13<1085:45:35,  8.28s/it]\u001b[A"
     ]
    },
    {
     "name": "stdout",
     "output_type": "stream",
     "text": [
      "Objective 0.06705277\n",
      "Objective first part 0.0\n",
      "Objective second part -0.06705277\n",
      "Objective 0.7866992\n",
      "Objective first part 0.73249507\n",
      "Objective second part -0.054204114\n"
     ]
    },
    {
     "name": "stderr",
     "output_type": "stream",
     "text": [
      "\n",
      "  0%|          | 1005/473047 [14:13<764:43:13,  5.83s/it] \u001b[A\n",
      "  0%|          | 1006/473047 [14:13<539:50:44,  4.12s/it]\u001b[A"
     ]
    },
    {
     "name": "stdout",
     "output_type": "stream",
     "text": [
      "Objective 0.7959931\n",
      "Objective first part 0.7333467\n",
      "Objective second part -0.06264638\n",
      "Objective 0.7930102\n",
      "Objective first part 0.7390978\n",
      "Objective second part -0.053912375\n"
     ]
    },
    {
     "name": "stderr",
     "output_type": "stream",
     "text": [
      "\n",
      "  0%|          | 1007/473047 [14:14<382:26:24,  2.92s/it]\u001b[A\n",
      "  0%|          | 1009/473047 [14:14<271:54:15,  2.07s/it]\u001b[A"
     ]
    },
    {
     "name": "stdout",
     "output_type": "stream",
     "text": [
      "Objective 0.05566749\n",
      "Objective first part 0.0\n",
      "Objective second part -0.05566749\n",
      "Objective 0.055552047\n",
      "Objective first part 0.0\n",
      "Objective second part -0.055552047\n"
     ]
    },
    {
     "name": "stderr",
     "output_type": "stream",
     "text": [
      "\n",
      "  0%|          | 1010/473047 [14:14<195:39:11,  1.49s/it]\u001b[A"
     ]
    },
    {
     "name": "stdout",
     "output_type": "stream",
     "text": [
      "Objective 0.79801404\n",
      "Objective first part 0.73483473\n",
      "Objective second part -0.063179314\n",
      "Objective 0.06492808\n",
      "Objective first part 0.0\n",
      "Objective second part -0.06492808\n"
     ]
    },
    {
     "name": "stderr",
     "output_type": "stream",
     "text": [
      "\n",
      "  0%|          | 1011/473047 [14:14<142:41:26,  1.09s/it]\u001b[A\n",
      "  0%|          | 1012/473047 [14:14<104:53:18,  1.25it/s]\u001b[A"
     ]
    },
    {
     "name": "stdout",
     "output_type": "stream",
     "text": [
      "Objective 0.8001659\n",
      "Objective first part 0.74039656\n",
      "Objective second part -0.059769332\n",
      "Objective 0.79889697\n",
      "Objective first part 0.7373589\n",
      "Objective second part -0.061538063\n"
     ]
    },
    {
     "name": "stderr",
     "output_type": "stream",
     "text": [
      "\n",
      "  0%|          | 1013/473047 [14:14<78:52:16,  1.66it/s] \u001b[A\n",
      "  0%|          | 1014/473047 [14:14<59:56:24,  2.19it/s]\u001b[A"
     ]
    },
    {
     "name": "stdout",
     "output_type": "stream",
     "text": [
      "Objective 0.8054917\n",
      "Objective first part 0.7373431\n",
      "Objective second part -0.06814858\n",
      "Objective 0.05407695\n",
      "Objective first part 0.0\n",
      "Objective second part -0.05407695\n"
     ]
    },
    {
     "name": "stderr",
     "output_type": "stream",
     "text": [
      "\n",
      "  0%|          | 1015/473047 [14:15<46:51:15,  2.80it/s]\u001b[A\n",
      "  0%|          | 1016/473047 [14:15<37:37:00,  3.49it/s]\u001b[A"
     ]
    },
    {
     "name": "stdout",
     "output_type": "stream",
     "text": [
      "Objective 0.05316778\n",
      "Objective first part 0.0\n",
      "Objective second part -0.05316778\n",
      "Objective 0.7958732\n",
      "Objective first part 0.7323127\n",
      "Objective second part -0.06356053\n"
     ]
    },
    {
     "name": "stderr",
     "output_type": "stream",
     "text": [
      "\n",
      "  0%|          | 1017/473047 [14:15<31:00:04,  4.23it/s]\u001b[A\n",
      "  0%|          | 1018/473047 [14:15<26:29:58,  4.95it/s]\u001b[A"
     ]
    },
    {
     "name": "stdout",
     "output_type": "stream",
     "text": [
      "Objective 0.80026466\n",
      "Objective first part 0.73640335\n",
      "Objective second part -0.063861325\n",
      "Objective 0.054858744\n",
      "Objective first part 0.0\n",
      "Objective second part -0.054858744\n"
     ]
    },
    {
     "name": "stderr",
     "output_type": "stream",
     "text": [
      "\n",
      "  0%|          | 1019/473047 [14:15<23:45:38,  5.52it/s]\u001b[A\n",
      "  0%|          | 1020/473047 [14:15<21:28:14,  6.11it/s]\u001b[A"
     ]
    },
    {
     "name": "stdout",
     "output_type": "stream",
     "text": [
      "Objective 0.7940885\n",
      "Objective first part 0.7399618\n",
      "Objective second part -0.054126654\n",
      "Objective 0.062868826\n",
      "Objective first part 0.0\n",
      "Objective second part -0.062868826\n"
     ]
    },
    {
     "name": "stderr",
     "output_type": "stream",
     "text": [
      "\n",
      "  0%|          | 1021/473047 [14:15<20:01:26,  6.55it/s]\u001b[A\n",
      "  0%|          | 1022/473047 [14:15<18:52:57,  6.94it/s]\u001b[A"
     ]
    },
    {
     "name": "stdout",
     "output_type": "stream",
     "text": [
      "Objective 0.7894036\n",
      "Objective first part 0.7375624\n",
      "Objective second part -0.051841192\n",
      "Objective 0.79189396\n",
      "Objective first part 0.736454\n",
      "Objective second part -0.05543996\n"
     ]
    },
    {
     "name": "stderr",
     "output_type": "stream",
     "text": [
      "\n",
      "  0%|          | 1023/473047 [14:16<17:57:26,  7.30it/s]\u001b[A\n",
      "  0%|          | 1024/473047 [14:16<17:31:14,  7.48it/s]\u001b[A"
     ]
    },
    {
     "name": "stdout",
     "output_type": "stream",
     "text": [
      "Objective 0.79078895\n",
      "Objective first part 0.7298827\n",
      "Objective second part -0.060906224\n",
      "Objective 0.7904258\n",
      "Objective first part 0.73518825\n",
      "Objective second part -0.055237554\n"
     ]
    },
    {
     "name": "stderr",
     "output_type": "stream",
     "text": [
      "\n",
      "  0%|          | 1025/473047 [14:16<16:47:16,  7.81it/s]\u001b[A\n",
      "  0%|          | 1026/473047 [14:16<16:30:10,  7.95it/s]\u001b[A"
     ]
    },
    {
     "name": "stdout",
     "output_type": "stream",
     "text": [
      "Objective 0.7960951\n",
      "Objective first part 0.7406068\n",
      "Objective second part -0.055488285\n",
      "Objective 0.050826054\n",
      "Objective first part 0.0\n",
      "Objective second part -0.050826054\n"
     ]
    },
    {
     "name": "stderr",
     "output_type": "stream",
     "text": [
      "\n",
      "  0%|          | 1027/473047 [14:16<16:19:28,  8.03it/s]\u001b[A\n",
      "  0%|          | 1028/473047 [14:16<16:05:13,  8.15it/s]\u001b[A"
     ]
    },
    {
     "name": "stdout",
     "output_type": "stream",
     "text": [
      "Objective 0.79752904\n",
      "Objective first part 0.7366649\n",
      "Objective second part -0.06086416\n",
      "Objective 0.062291965\n",
      "Objective first part 0.0\n",
      "Objective second part -0.062291965\n"
     ]
    },
    {
     "name": "stderr",
     "output_type": "stream",
     "text": [
      "\n",
      "  0%|          | 1029/473047 [14:16<15:58:47,  8.21it/s]\u001b[A\n",
      "  0%|          | 1031/473047 [14:16<13:41:18,  9.58it/s]\u001b[A"
     ]
    },
    {
     "name": "stdout",
     "output_type": "stream",
     "text": [
      "Objective 0.798903\n",
      "Objective first part 0.73640466\n",
      "Objective second part -0.062498342\n",
      "Objective 0.060454972\n",
      "Objective first part 0.0\n",
      "Objective second part -0.060454972\n",
      "Objective 0.7906174\n",
      "Objective first part 0.73556626\n",
      "Objective second part -0.05505112\n",
      "Objective 0.7967271\n",
      "Objective first part 0.7303801\n",
      "Objective second part -0.06634699\n"
     ]
    },
    {
     "name": "stderr",
     "output_type": "stream",
     "text": [
      "\n",
      "  0%|          | 1033/473047 [14:17<11:45:13, 11.16it/s]\u001b[A\n",
      "  0%|          | 1035/473047 [14:17<10:13:46, 12.82it/s]\u001b[A"
     ]
    },
    {
     "name": "stdout",
     "output_type": "stream",
     "text": [
      "Objective 0.053962637\n",
      "Objective first part 0.0\n",
      "Objective second part -0.053962637\n",
      "Objective 0.7923685\n",
      "Objective first part 0.7376779\n",
      "Objective second part -0.054690577\n",
      "Objective 0.78029597\n",
      "Objective first part 0.726591\n",
      "Objective second part -0.053704992\n",
      "Objective 0.0590989\n",
      "Objective first part 0.0\n",
      "Objective second part -0.0590989\n",
      "Objective 0.7888907\n",
      "Objective first part 0.7359501\n",
      "Objective second part -0.05294063\n"
     ]
    },
    {
     "name": "stderr",
     "output_type": "stream",
     "text": [
      "\n",
      "  0%|          | 1038/473047 [14:17<8:57:52, 14.63it/s] \u001b[A\n",
      "  0%|          | 1040/473047 [14:17<8:17:45, 15.80it/s]\u001b[A\n",
      "  0%|          | 1043/473047 [14:17<7:07:44, 18.39it/s]\u001b[A"
     ]
    },
    {
     "name": "stdout",
     "output_type": "stream",
     "text": [
      "Objective 0.05447724\n",
      "Objective first part 0.0\n",
      "Objective second part -0.05447724\n",
      "Objective 0.7906428\n",
      "Objective first part 0.73465055\n",
      "Objective second part -0.055992268\n",
      "Objective 0.06074413\n",
      "Objective first part 0.0\n",
      "Objective second part -0.06074413\n",
      "Objective 0.79713523\n",
      "Objective first part 0.7383684\n",
      "Objective second part -0.05876685\n",
      "Objective 0.058677346\n",
      "Objective first part 0.0\n",
      "Objective second part -0.058677346\n",
      "Objective 0.7973915\n"
     ]
    },
    {
     "name": "stderr",
     "output_type": "stream",
     "text": [
      "\n",
      "  0%|          | 1047/473047 [14:17<6:02:48, 21.68it/s]\u001b[A"
     ]
    },
    {
     "name": "stdout",
     "output_type": "stream",
     "text": [
      "Objective first part 0.7328623\n",
      "Objective second part -0.06452917\n",
      "Objective 0.06200794\n",
      "Objective first part 0.0\n",
      "Objective second part -0.06200794\n",
      "Objective 0.80126446\n",
      "Objective first part 0.74295723\n",
      "Objective second part -0.05830721\n",
      "Objective 0.06474193\n",
      "Objective first part 0.0\n",
      "Objective second part -0.06474193\n",
      "Objective 0.05948046\n",
      "Objective first part 0.0\n",
      "Objective second part -0.05948046\n",
      "Objective 0.060942966\n",
      "Objective first part 0.0\n",
      "Objective second part -0.060942966\n",
      "Objective 0.7977635\n",
      "Objective first part 0.73899883\n",
      "Objective second part -0.0587647\n",
      "Objective 0.7962364\n",
      "Objective first part 0.737045\n",
      "Objective second part -0.059191413\n"
     ]
    },
    {
     "name": "stderr",
     "output_type": "stream",
     "text": [
      "\n",
      "  0%|          | 1051/473047 [14:17<5:16:54, 24.82it/s]\u001b[A\n",
      "  0%|          | 1055/473047 [14:17<4:49:11, 27.20it/s]\u001b[A"
     ]
    },
    {
     "name": "stdout",
     "output_type": "stream",
     "text": [
      "Objective 0.8004282\n",
      "Objective first part 0.73955286\n",
      "Objective second part -0.06087537\n",
      "Objective 0.051564638\n",
      "Objective first part 0.0\n",
      "Objective second part -0.051564638\n",
      "Objective 0.058488123\n",
      "Objective first part 0.0\n",
      "Objective second part -0.058488123\n",
      "Objective 0.053023778\n",
      "Objective first part 0.0\n",
      "Objective second part -0.053023778\n",
      "Objective 0.79215163\n",
      "Objective first part 0.7383479\n",
      "Objective second part -0.053803742\n",
      "Objective 0.79915124\n",
      "Objective first part 0.7409888\n",
      "Objective second part -0.05816247\n",
      "Objective 0.8013436\n",
      "Objective first part 0.74318284\n",
      "Objective second part -0.058160763\n",
      "Objective 0.05765449\n",
      "Objective first part 0.0\n",
      "Objective second part -0.05765449\n"
     ]
    },
    {
     "name": "stderr",
     "output_type": "stream",
     "text": [
      "\n",
      "  0%|          | 1059/473047 [14:17<4:25:46, 29.60it/s]\u001b[A\n",
      "  0%|          | 1063/473047 [14:18<4:07:37, 31.77it/s]\u001b[A"
     ]
    },
    {
     "name": "stdout",
     "output_type": "stream",
     "text": [
      "Objective 0.79346406\n",
      "Objective first part 0.7373491\n",
      "Objective second part -0.056114946\n",
      "Objective 0.05613411\n",
      "Objective first part 0.0\n",
      "Objective second part -0.05613411\n",
      "Objective 0.79961324\n",
      "Objective first part 0.73991895\n",
      "Objective second part -0.05969429\n",
      "Objective 0.05315376\n",
      "Objective first part 0.0\n",
      "Objective second part -0.05315376\n",
      "Objective 0.7957327\n",
      "Objective first part 0.7388737\n",
      "Objective second part -0.056858964\n",
      "Objective 0.06229945\n",
      "Objective first part 0.0\n",
      "Objective second part -0.06229945\n",
      "Objective 0.79647577\n",
      "Objective first part 0.737812\n",
      "Objective second part -0.058663756\n",
      "Objective 0.8051432\n",
      "Objective first part 0.7396621\n",
      "Objective second part -0.06548107\n"
     ]
    },
    {
     "name": "stderr",
     "output_type": "stream",
     "text": [
      "\n",
      "  0%|          | 1067/473047 [14:18<6:44:32, 19.45it/s]\u001b[A"
     ]
    },
    {
     "name": "stdout",
     "output_type": "stream",
     "text": [
      "Objective 0.06237291\n",
      "Objective first part 0.0\n",
      "Objective second part -0.06237291\n",
      "Objective 0.7953688\n",
      "Objective first part 0.737681\n",
      "Objective second part -0.05768783\n"
     ]
    },
    {
     "name": "stderr",
     "output_type": "stream",
     "text": [
      "\n",
      "  0%|          | 1070/473047 [14:18<9:43:01, 13.49it/s]\u001b[A"
     ]
    },
    {
     "name": "stdout",
     "output_type": "stream",
     "text": [
      "Objective 0.793777\n",
      "Objective first part 0.7367685\n",
      "Objective second part -0.0570085\n",
      "Objective 0.053783737\n",
      "Objective first part 0.0\n",
      "Objective second part -0.053783737\n",
      "Objective 0.7882471\n",
      "Objective first part 0.7379801\n",
      "Objective second part -0.050267003\n",
      "Objective 0.7986633\n",
      "Objective first part 0.73932153\n",
      "Objective second part -0.059341807\n"
     ]
    },
    {
     "name": "stderr",
     "output_type": "stream",
     "text": [
      "\n",
      "  0%|          | 1073/473047 [14:19<12:36:15, 10.40it/s]\u001b[A"
     ]
    },
    {
     "name": "stdout",
     "output_type": "stream",
     "text": [
      "Objective 0.803949\n",
      "Objective first part 0.7413208\n",
      "Objective second part -0.06262823\n",
      "Objective 0.79132086\n",
      "Objective first part 0.73664147\n",
      "Objective second part -0.054679368\n"
     ]
    },
    {
     "name": "stderr",
     "output_type": "stream",
     "text": [
      "\n",
      "  0%|          | 1075/473047 [14:19<13:47:33,  9.51it/s]\u001b[A"
     ]
    },
    {
     "name": "stdout",
     "output_type": "stream",
     "text": [
      "Objective 0.058246054\n",
      "Objective first part 0.0\n",
      "Objective second part -0.058246054\n",
      "Objective 0.061429106\n",
      "Objective first part 0.0\n",
      "Objective second part -0.061429106\n"
     ]
    },
    {
     "name": "stderr",
     "output_type": "stream",
     "text": [
      "\n",
      "  0%|          | 1077/473047 [14:19<14:50:48,  8.83it/s]\u001b[A"
     ]
    },
    {
     "name": "stdout",
     "output_type": "stream",
     "text": [
      "Objective 0.79446876\n",
      "Objective first part 0.7393908\n",
      "Objective second part -0.05507795\n",
      "Objective 0.050765537\n",
      "Objective first part 0.0\n",
      "Objective second part -0.050765537\n"
     ]
    },
    {
     "name": "stderr",
     "output_type": "stream",
     "text": [
      "\n",
      "  0%|          | 1079/473047 [14:20<15:22:20,  8.53it/s]\u001b[A"
     ]
    },
    {
     "name": "stdout",
     "output_type": "stream",
     "text": [
      "Objective 0.7915798\n",
      "Objective first part 0.7380005\n",
      "Objective second part -0.05357928\n",
      "Objective 0.7898886\n",
      "Objective first part 0.7323935\n",
      "Objective second part -0.057495132\n"
     ]
    },
    {
     "name": "stderr",
     "output_type": "stream",
     "text": [
      "\n",
      "  0%|          | 1081/473047 [14:20<15:43:29,  8.34it/s]\u001b[A"
     ]
    },
    {
     "name": "stdout",
     "output_type": "stream",
     "text": [
      "Objective 0.7933098\n",
      "Objective first part 0.74025905\n",
      "Objective second part -0.05305074\n",
      "Objective 0.049729377\n",
      "Objective first part 0.0\n",
      "Objective second part -0.049729377\n"
     ]
    },
    {
     "name": "stderr",
     "output_type": "stream",
     "text": [
      "\n",
      "  0%|          | 1083/473047 [14:20<15:54:50,  8.24it/s]\u001b[A\n",
      "  0%|          | 1084/473047 [14:20<16:13:33,  8.08it/s]\u001b[A"
     ]
    },
    {
     "name": "stdout",
     "output_type": "stream",
     "text": [
      "Objective 0.051619176\n",
      "Objective first part 0.0\n",
      "Objective second part -0.051619176\n",
      "Objective 0.78833973\n",
      "Objective first part 0.7397096\n",
      "Objective second part -0.048630144\n"
     ]
    },
    {
     "name": "stderr",
     "output_type": "stream",
     "text": [
      "\n",
      "  0%|          | 1085/473047 [14:20<16:25:00,  7.99it/s]\u001b[A\n",
      "  0%|          | 1086/473047 [14:20<16:31:44,  7.93it/s]\u001b[A"
     ]
    },
    {
     "name": "stdout",
     "output_type": "stream",
     "text": [
      "Objective 0.7944758\n",
      "Objective first part 0.7369673\n",
      "Objective second part -0.057508454\n",
      "Objective 0.7971215\n",
      "Objective first part 0.74283695\n",
      "Objective second part -0.054284595\n"
     ]
    },
    {
     "name": "stderr",
     "output_type": "stream",
     "text": [
      "\n",
      "  0%|          | 1087/473047 [14:21<16:31:09,  7.94it/s]\u001b[A\n",
      "  0%|          | 1088/473047 [14:21<16:19:38,  8.03it/s]\u001b[A"
     ]
    },
    {
     "name": "stdout",
     "output_type": "stream",
     "text": [
      "Objective 0.79737616\n",
      "Objective first part 0.74275863\n",
      "Objective second part -0.05461755\n",
      "Objective 0.7951608\n",
      "Objective first part 0.7422738\n",
      "Objective second part -0.05288696\n"
     ]
    },
    {
     "name": "stderr",
     "output_type": "stream",
     "text": [
      "\n",
      "  0%|          | 1089/473047 [14:21<16:14:09,  8.07it/s]\u001b[A\n",
      "  0%|          | 1090/473047 [14:21<16:12:34,  8.09it/s]\u001b[A"
     ]
    },
    {
     "name": "stdout",
     "output_type": "stream",
     "text": [
      "Objective 0.055490993\n",
      "Objective first part 0.0\n",
      "Objective second part -0.055490993\n",
      "Objective 0.7915865\n",
      "Objective first part 0.7400689\n",
      "Objective second part -0.05151763\n"
     ]
    },
    {
     "name": "stderr",
     "output_type": "stream",
     "text": [
      "\n",
      "  0%|          | 1091/473047 [14:21<15:58:40,  8.21it/s]\u001b[A\n",
      "  0%|          | 1092/473047 [14:21<15:43:28,  8.34it/s]\u001b[A"
     ]
    },
    {
     "name": "stdout",
     "output_type": "stream",
     "text": [
      "Objective 0.7888177\n",
      "Objective first part 0.7381815\n",
      "Objective second part -0.05063624\n",
      "Objective 0.8016054\n",
      "Objective first part 0.74381787\n",
      "Objective second part -0.057787538\n"
     ]
    },
    {
     "name": "stderr",
     "output_type": "stream",
     "text": [
      "\n",
      "  0%|          | 1093/473047 [14:21<15:46:39,  8.31it/s]\u001b[A\n",
      "  0%|          | 1094/473047 [14:21<15:05:27,  8.69it/s]\u001b[A"
     ]
    },
    {
     "name": "stdout",
     "output_type": "stream",
     "text": [
      "Objective 0.79609567\n",
      "Objective first part 0.74500716\n",
      "Objective second part -0.051088538\n",
      "Objective 0.05811244\n",
      "Objective first part 0.0\n",
      "Objective second part -0.05811244\n",
      "Objective 0.053352665\n",
      "Objective first part 0.0\n",
      "Objective second part -0.053352665\n",
      "Objective 0.058036257\n",
      "Objective first part 0.0\n",
      "Objective second part -0.058036257\n"
     ]
    },
    {
     "name": "stderr",
     "output_type": "stream",
     "text": [
      "\n",
      "  0%|          | 1097/473047 [14:22<12:32:35, 10.45it/s]\u001b[A\n",
      "  0%|          | 1099/473047 [14:22<10:50:50, 12.09it/s]\u001b[A"
     ]
    },
    {
     "name": "stdout",
     "output_type": "stream",
     "text": [
      "Objective 0.058152996\n",
      "Objective first part 0.0\n",
      "Objective second part -0.058152996\n",
      "Objective 0.797145\n",
      "Objective first part 0.74310684\n",
      "Objective second part -0.054038193\n",
      "Objective 0.7906663\n",
      "Objective first part 0.73663294\n",
      "Objective second part -0.05403335\n",
      "Objective 0.05740126\n",
      "Objective first part 0.0\n",
      "Objective second part -0.05740126\n"
     ]
    },
    {
     "name": "stderr",
     "output_type": "stream",
     "text": [
      "\n",
      "  0%|          | 1099/473047 [14:33<10:50:50, 12.09it/s]\u001b[A"
     ]
    },
    {
     "name": "stdout",
     "output_type": "stream",
     "text": [
      "train loss first part 1.1775648044015284e-09\n",
      "train loss second part -0.053124305\n"
     ]
    },
    {
     "name": "stderr",
     "output_type": "stream",
     "text": [
      "\n",
      "  0%|          | 1101/473047 [15:38<1505:36:03, 11.48s/it]\u001b[A\n",
      "  0%|          | 1106/473047 [15:38<1054:49:50,  8.05s/it]\u001b[A"
     ]
    },
    {
     "name": "stdout",
     "output_type": "stream",
     "text": [
      "Objective 0.7940219\n",
      "Objective first part 0.7440431\n",
      "Objective second part -0.04997879\n",
      "Objective 0.051093057\n",
      "Objective first part 0.0\n",
      "Objective second part -0.051093057\n",
      "Objective 0.78724104\n",
      "Objective first part 0.7335434\n",
      "Objective second part -0.053697634\n",
      "Objective 0.7797297\n",
      "Objective first part 0.73388696\n",
      "Objective second part -0.045842756\n",
      "Objective 0.7980617\n",
      "Objective first part 0.7446927\n",
      "Objective second part -0.053369075\n",
      "Objective 0.7941911\n",
      "Objective first part 0.7430613\n",
      "Objective second part -0.051129814\n",
      "Objective 0.056576792\n",
      "Objective first part 0.0\n",
      "Objective second part -0.056576792\n",
      "Objective 0.053398814\n",
      "Objective first part 0.0\n",
      "Objective second part -0.053398814\n",
      "Objective 0.04995166\n",
      "Objective first part 0.0\n",
      "Objective second part -0.04995166\n"
     ]
    },
    {
     "name": "stderr",
     "output_type": "stream",
     "text": [
      "\n",
      "  0%|          | 1110/473047 [15:38<739:29:10,  5.64s/it] \u001b[A\n",
      "  0%|          | 1114/473047 [15:38<518:38:39,  3.96s/it]\u001b[A"
     ]
    },
    {
     "name": "stdout",
     "output_type": "stream",
     "text": [
      "Objective 0.049943388\n",
      "Objective first part 0.0\n",
      "Objective second part -0.049943388\n",
      "Objective 0.7951369\n",
      "Objective first part 0.7461645\n",
      "Objective second part -0.048972424\n",
      "Objective 0.055511788\n",
      "Objective first part 0.0\n",
      "Objective second part -0.055511788\n",
      "Objective 0.05350998\n",
      "Objective first part 0.0\n",
      "Objective second part -0.05350998\n",
      "Objective 0.04690713\n",
      "Objective first part 0.0\n",
      "Objective second part -0.04690713\n",
      "Objective 0.79851395\n",
      "Objective first part 0.7442183\n",
      "Objective second part -0.054295674\n",
      "Objective 0.053381585\n",
      "Objective first part 0.0\n",
      "Objective second part -0.053381585\n",
      "Objective 0.79307646\n",
      "Objective first part 0.741186\n",
      "Objective second part -0.05189041\n"
     ]
    },
    {
     "name": "stderr",
     "output_type": "stream",
     "text": [
      "\n",
      "  0%|          | 1118/473047 [15:38<364:06:38,  2.78s/it]\u001b[A\n",
      "  0%|          | 1122/473047 [15:38<255:53:14,  1.95s/it]\u001b[A\n",
      "  0%|          | 1126/473047 [15:38<180:06:39,  1.37s/it]\u001b[A"
     ]
    },
    {
     "name": "stdout",
     "output_type": "stream",
     "text": [
      "Objective 0.054138042\n",
      "Objective first part 0.0\n",
      "Objective second part -0.054138042\n",
      "Objective 0.047107294\n",
      "Objective first part 0.0\n",
      "Objective second part -0.047107294\n",
      "Objective 0.7969841\n",
      "Objective first part 0.74668795\n",
      "Objective second part -0.050296146\n",
      "Objective 0.7924644\n",
      "Objective first part 0.73714584\n",
      "Objective second part -0.05531856\n",
      "Objective 0.7925292\n",
      "Objective first part 0.74050754\n",
      "Objective second part -0.05202169\n",
      "Objective 0.05047831\n",
      "Objective first part 0.0\n",
      "Objective second part -0.05047831\n",
      "Objective 0.7905403\n",
      "Objective first part 0.74259037\n",
      "Objective second part -0.047949936\n",
      "Objective 0.8031551\n",
      "Objective first part 0.7396919\n",
      "Objective second part -0.063463226\n"
     ]
    },
    {
     "name": "stderr",
     "output_type": "stream",
     "text": [
      "\n",
      "  0%|          | 1130/473047 [15:39<127:31:27,  1.03it/s]\u001b[A"
     ]
    },
    {
     "name": "stdout",
     "output_type": "stream",
     "text": [
      "Objective 0.05384406\n",
      "Objective first part 0.0\n",
      "Objective second part -0.05384406\n",
      "Objective 0.051819474\n",
      "Objective first part 0.0\n",
      "Objective second part -0.051819474\n",
      "Objective 0.79359704\n",
      "Objective first part 0.7454737\n",
      "Objective second part -0.048123352\n",
      "Objective 0.7901732\n",
      "Objective first part 0.74045557\n",
      "Objective second part -0.049717598\n",
      "Objective 0.049513403\n",
      "Objective first part 0.0\n",
      "Objective second part -0.049513403\n",
      "Objective 0.78666043\n",
      "Objective first part 0.7376054\n",
      "Objective second part -0.049055055\n"
     ]
    },
    {
     "name": "stderr",
     "output_type": "stream",
     "text": [
      "\n",
      "  0%|          | 1134/473047 [15:39<92:35:14,  1.42it/s] \u001b[A"
     ]
    },
    {
     "name": "stdout",
     "output_type": "stream",
     "text": [
      "Objective 0.054179825\n",
      "Objective first part 0.0\n",
      "Objective second part -0.054179825\n",
      "Objective 0.053028617\n",
      "Objective first part 0.0\n",
      "Objective second part -0.053028617\n",
      "Objective 0.050316896\n",
      "Objective first part 0.0\n",
      "Objective second part -0.050316896\n",
      "Objective 0.04758994\n",
      "Objective first part 0.0\n",
      "Objective second part -0.04758994\n"
     ]
    },
    {
     "name": "stderr",
     "output_type": "stream",
     "text": [
      "\n",
      "  0%|          | 1137/473047 [15:39<69:32:08,  1.89it/s]\u001b[A"
     ]
    },
    {
     "name": "stdout",
     "output_type": "stream",
     "text": [
      "Objective 0.05191207\n",
      "Objective first part 0.0\n",
      "Objective second part -0.05191207\n",
      "Objective 0.79037786\n",
      "Objective first part 0.7384122\n",
      "Objective second part -0.051965684\n",
      "Objective 0.78839016\n",
      "Objective first part 0.7419377\n",
      "Objective second part -0.04645247\n",
      "Objective 0.7914467\n",
      "Objective first part 0.74480397\n",
      "Objective second part -0.04664274\n"
     ]
    },
    {
     "name": "stderr",
     "output_type": "stream",
     "text": [
      "\n",
      "  0%|          | 1140/473047 [15:40<53:23:03,  2.46it/s]\u001b[A\n",
      "  0%|          | 1142/473047 [15:40<41:29:27,  3.16it/s]\u001b[A"
     ]
    },
    {
     "name": "stdout",
     "output_type": "stream",
     "text": [
      "Objective 0.049975283\n",
      "Objective first part 0.0\n",
      "Objective second part -0.049975283\n",
      "Objective 0.049404934\n",
      "Objective first part 0.0\n",
      "Objective second part -0.049404934\n",
      "Objective 0.79672176\n",
      "Objective first part 0.7412125\n",
      "Objective second part -0.055509266\n",
      "Objective 0.7981533\n",
      "Objective first part 0.746031\n",
      "Objective second part -0.05212228\n"
     ]
    },
    {
     "name": "stderr",
     "output_type": "stream",
     "text": [
      "\n",
      "  0%|          | 1144/473047 [15:40<33:45:57,  3.88it/s]\u001b[A"
     ]
    },
    {
     "name": "stdout",
     "output_type": "stream",
     "text": [
      "Objective 0.050642636\n",
      "Objective first part 0.0\n",
      "Objective second part -0.050642636\n",
      "Objective 0.79680675\n",
      "Objective first part 0.74361366\n",
      "Objective second part -0.05319311\n"
     ]
    },
    {
     "name": "stderr",
     "output_type": "stream",
     "text": [
      "\n",
      "  0%|          | 1146/473047 [15:40<28:35:56,  4.58it/s]\u001b[A"
     ]
    },
    {
     "name": "stdout",
     "output_type": "stream",
     "text": [
      "Objective 0.05107041\n",
      "Objective first part 0.0\n",
      "Objective second part -0.05107041\n",
      "Objective 0.053527966\n",
      "Objective first part 0.0\n",
      "Objective second part -0.053527966\n"
     ]
    },
    {
     "name": "stderr",
     "output_type": "stream",
     "text": [
      "\n",
      "  0%|          | 1148/473047 [15:41<24:41:02,  5.31it/s]\u001b[A"
     ]
    },
    {
     "name": "stdout",
     "output_type": "stream",
     "text": [
      "Objective 0.79055285\n",
      "Objective first part 0.73992467\n",
      "Objective second part -0.050628215\n",
      "Objective 0.048711684\n",
      "Objective first part 0.0\n",
      "Objective second part -0.048711684\n"
     ]
    },
    {
     "name": "stderr",
     "output_type": "stream",
     "text": [
      "\n",
      "  0%|          | 1150/473047 [15:41<22:12:58,  5.90it/s]\u001b[A\n",
      "  0%|          | 1151/473047 [15:41<20:20:27,  6.44it/s]\u001b[A"
     ]
    },
    {
     "name": "stdout",
     "output_type": "stream",
     "text": [
      "Objective 0.78706324\n",
      "Objective first part 0.73832786\n",
      "Objective second part -0.048735403\n",
      "Objective 0.05040346\n",
      "Objective first part 0.0\n",
      "Objective second part -0.05040346\n"
     ]
    },
    {
     "name": "stderr",
     "output_type": "stream",
     "text": [
      "\n",
      "  0%|          | 1152/473047 [15:41<18:50:56,  6.95it/s]\u001b[A\n",
      "  0%|          | 1154/473047 [15:41<17:13:07,  7.61it/s]\u001b[A"
     ]
    },
    {
     "name": "stdout",
     "output_type": "stream",
     "text": [
      "Objective 0.7952498\n",
      "Objective first part 0.74762875\n",
      "Objective second part -0.04762107\n",
      "Objective 0.04799346\n",
      "Objective first part 0.0\n",
      "Objective second part -0.04799346\n"
     ]
    },
    {
     "name": "stderr",
     "output_type": "stream",
     "text": [
      "\n",
      "  0%|          | 1155/473047 [15:41<16:20:07,  8.02it/s]\u001b[A"
     ]
    },
    {
     "name": "stdout",
     "output_type": "stream",
     "text": [
      "Objective 0.046814993\n",
      "Objective first part 0.0\n",
      "Objective second part -0.046814993\n",
      "Objective 0.0451665\n",
      "Objective first part 0.0\n",
      "Objective second part -0.0451665\n",
      "Objective 0.05570505\n",
      "Objective first part 0.0\n",
      "Objective second part -0.05570505\n"
     ]
    },
    {
     "name": "stderr",
     "output_type": "stream",
     "text": [
      "\n",
      "  0%|          | 1157/473047 [15:42<15:17:23,  8.57it/s]\u001b[A\n",
      "  0%|          | 1159/473047 [15:42<14:36:11,  8.98it/s]\u001b[A"
     ]
    },
    {
     "name": "stdout",
     "output_type": "stream",
     "text": [
      "Objective 0.054775003\n",
      "Objective first part 0.0\n",
      "Objective second part -0.054775003\n",
      "Objective 0.04873972\n",
      "Objective first part 0.0\n",
      "Objective second part -0.04873972\n",
      "Objective 0.78826624\n",
      "Objective first part 0.73917586\n",
      "Objective second part -0.049090363\n"
     ]
    },
    {
     "name": "stderr",
     "output_type": "stream",
     "text": [
      "\n",
      "  0%|          | 1160/473047 [15:42<15:10:22,  8.64it/s]\u001b[A\n",
      "  0%|          | 1161/473047 [15:42<15:31:02,  8.45it/s]\u001b[A"
     ]
    },
    {
     "name": "stdout",
     "output_type": "stream",
     "text": [
      "Objective 0.7959003\n",
      "Objective first part 0.7437503\n",
      "Objective second part -0.052150037\n",
      "Objective 0.048517827\n",
      "Objective first part 0.0\n",
      "Objective second part -0.048517827\n"
     ]
    },
    {
     "name": "stderr",
     "output_type": "stream",
     "text": [
      "\n",
      "  0%|          | 1162/473047 [15:42<16:00:21,  8.19it/s]\u001b[A\n",
      "  0%|          | 1164/473047 [15:42<13:50:04,  9.47it/s]\u001b[A"
     ]
    },
    {
     "name": "stdout",
     "output_type": "stream",
     "text": [
      "Objective 0.041804425\n",
      "Objective first part 0.0\n",
      "Objective second part -0.041804425\n",
      "Objective 0.8001753\n",
      "Objective first part 0.75012845\n",
      "Objective second part -0.050046843\n",
      "Objective 0.78933847\n",
      "Objective first part 0.73950946\n",
      "Objective second part -0.049828984\n",
      "Objective 0.78850305\n",
      "Objective first part 0.7431503\n",
      "Objective second part -0.04535278\n"
     ]
    },
    {
     "name": "stderr",
     "output_type": "stream",
     "text": [
      "\n",
      "  0%|          | 1166/473047 [15:42<11:52:30, 11.04it/s]\u001b[A\n",
      "  0%|          | 1168/473047 [15:43<10:30:13, 12.48it/s]\u001b[A"
     ]
    },
    {
     "name": "stdout",
     "output_type": "stream",
     "text": [
      "Objective 0.048580147\n",
      "Objective first part 0.0\n",
      "Objective second part -0.048580147\n",
      "Objective 0.047020137\n",
      "Objective first part 0.0\n",
      "Objective second part -0.047020137\n",
      "Objective 0.7896984\n",
      "Objective first part 0.74409664\n",
      "Objective second part -0.045601793\n",
      "Objective 0.050540376\n",
      "Objective first part 0.0\n",
      "Objective second part -0.050540376\n"
     ]
    },
    {
     "name": "stderr",
     "output_type": "stream",
     "text": [
      "\n",
      "  0%|          | 1170/473047 [15:43<9:36:56, 13.63it/s] \u001b[A\n",
      "  0%|          | 1173/473047 [15:43<8:19:15, 15.75it/s]\u001b[A"
     ]
    },
    {
     "name": "stdout",
     "output_type": "stream",
     "text": [
      "Objective 0.7927532\n",
      "Objective first part 0.748207\n",
      "Objective second part -0.044546224\n",
      "Objective 0.052022945\n",
      "Objective first part 0.0\n",
      "Objective second part -0.052022945\n",
      "Objective 0.79166085\n",
      "Objective first part 0.7417372\n",
      "Objective second part -0.04992365\n",
      "Objective 0.0519935\n",
      "Objective first part 0.0\n",
      "Objective second part -0.0519935\n",
      "Objective 0.78865516\n",
      "Objective first part 0.7432288\n",
      "Objective second part -0.04542638\n",
      "Objective 0.045960262\n",
      "Objective first part 0.0\n",
      "Objective second part -0.045960262\n"
     ]
    },
    {
     "name": "stderr",
     "output_type": "stream",
     "text": [
      "\n",
      "  0%|          | 1176/473047 [15:43<7:12:48, 18.17it/s]\u001b[A\n",
      "  0%|          | 1180/473047 [15:43<6:08:51, 21.32it/s]\u001b[A"
     ]
    },
    {
     "name": "stdout",
     "output_type": "stream",
     "text": [
      "Objective 0.79380625\n",
      "Objective first part 0.7455951\n",
      "Objective second part -0.04821117\n",
      "Objective 0.0431358\n",
      "Objective first part 0.0\n",
      "Objective second part -0.0431358\n",
      "Objective 0.043342993\n",
      "Objective first part 0.0\n",
      "Objective second part -0.043342993\n",
      "Objective 0.042690195\n",
      "Objective first part 0.0\n",
      "Objective second part -0.042690195\n",
      "Objective 0.056003675\n",
      "Objective first part 0.0\n",
      "Objective second part -0.056003675\n",
      "Objective 0.7938963\n",
      "Objective first part 0.74310535\n",
      "Objective second part -0.050790936\n",
      "Objective 0.050950922\n",
      "Objective first part 0.0\n",
      "Objective second part -0.050950922\n",
      "Objective 0.04888129\n",
      "Objective first part 0.0\n",
      "Objective second part -0.04888129\n"
     ]
    },
    {
     "name": "stderr",
     "output_type": "stream",
     "text": [
      "\n",
      "  0%|          | 1184/473047 [15:43<5:21:32, 24.46it/s]\u001b[A\n",
      "  0%|          | 1188/473047 [15:43<4:49:17, 27.19it/s]\u001b[A"
     ]
    },
    {
     "name": "stdout",
     "output_type": "stream",
     "text": [
      "Objective 0.7916428\n",
      "Objective first part 0.7415951\n",
      "Objective second part -0.050047718\n",
      "Objective 0.79016703\n",
      "Objective first part 0.74261385\n",
      "Objective second part -0.047553185\n",
      "Objective 0.048189215\n",
      "Objective first part 0.0\n",
      "Objective second part -0.048189215\n",
      "Objective 0.051741008\n",
      "Objective first part 0.0\n",
      "Objective second part -0.051741008\n",
      "Objective 0.7900269\n",
      "Objective first part 0.7462451\n",
      "Objective second part -0.04378179\n",
      "Objective 0.78607357\n",
      "Objective first part 0.7446161\n",
      "Objective second part -0.041457444\n",
      "Objective 0.7951343\n",
      "Objective first part 0.7497308\n",
      "Objective second part -0.045403488\n",
      "Objective 0.79268736\n",
      "Objective first part 0.743471\n",
      "Objective second part -0.04921633\n"
     ]
    },
    {
     "name": "stderr",
     "output_type": "stream",
     "text": [
      "\n",
      "  0%|          | 1193/473047 [15:43<4:34:23, 28.66it/s]\u001b[A"
     ]
    },
    {
     "name": "stdout",
     "output_type": "stream",
     "text": [
      "Objective 0.0536782\n",
      "Objective first part 0.0\n",
      "Objective second part -0.0536782\n",
      "Objective 0.7982283\n",
      "Objective first part 0.74829024\n",
      "Objective second part -0.049938064\n",
      "Objective 0.79415107\n",
      "Objective first part 0.7425906\n",
      "Objective second part -0.051560435\n",
      "Objective 0.04810753\n",
      "Objective first part 0.0\n",
      "Objective second part -0.04810753\n",
      "Objective 0.7959213\n",
      "Objective first part 0.7459793\n",
      "Objective second part -0.04994201\n"
     ]
    },
    {
     "name": "stderr",
     "output_type": "stream",
     "text": [
      "\n",
      "  0%|          | 1197/473047 [15:44<6:59:09, 18.76it/s]\u001b[A"
     ]
    },
    {
     "name": "stdout",
     "output_type": "stream",
     "text": [
      "Objective 0.050704964\n",
      "Objective first part 0.0\n",
      "Objective second part -0.050704964\n",
      "Objective 0.04362083\n",
      "Objective first part 0.0\n",
      "Objective second part -0.04362083\n"
     ]
    },
    {
     "name": "stderr",
     "output_type": "stream",
     "text": [
      "\n",
      "  0%|          | 1200/473047 [15:44<9:48:08, 13.37it/s]\u001b[A"
     ]
    },
    {
     "name": "stdout",
     "output_type": "stream",
     "text": [
      "Objective 0.051295128\n",
      "Objective first part 0.0\n",
      "Objective second part -0.051295128\n",
      "Objective 0.04711148\n",
      "Objective first part 0.0\n",
      "Objective second part -0.04711148\n"
     ]
    },
    {
     "name": "stderr",
     "output_type": "stream",
     "text": [
      "\n",
      "  0%|          | 1200/473047 [16:03<9:48:08, 13.37it/s]\u001b[A"
     ]
    },
    {
     "name": "stdout",
     "output_type": "stream",
     "text": [
      "train loss first part 1.185987400855529e-09\n",
      "train loss second part -0.046124745\n"
     ]
    },
    {
     "name": "stderr",
     "output_type": "stream",
     "text": [
      "\n",
      "  0%|          | 1201/473047 [17:01<3047:27:16, 23.25s/it]\u001b[A\n",
      "  0%|          | 1202/473047 [17:02<2138:14:18, 16.31s/it]\u001b[A"
     ]
    },
    {
     "name": "stdout",
     "output_type": "stream",
     "text": [
      "Objective 0.79151845\n",
      "Objective first part 0.7491541\n",
      "Objective second part -0.04236436\n",
      "Objective 0.042892255\n",
      "Objective first part 0.0\n",
      "Objective second part -0.042892255\n"
     ]
    },
    {
     "name": "stderr",
     "output_type": "stream",
     "text": [
      "\n",
      "  0%|          | 1203/473047 [17:02<1501:52:18, 11.46s/it]\u001b[A\n",
      "  0%|          | 1204/473047 [17:02<1056:42:17,  8.06s/it]\u001b[A"
     ]
    },
    {
     "name": "stdout",
     "output_type": "stream",
     "text": [
      "Objective 0.04490762\n",
      "Objective first part 0.0\n",
      "Objective second part -0.04490762\n",
      "Objective 0.046755344\n",
      "Objective first part 0.0\n",
      "Objective second part -0.046755344\n"
     ]
    },
    {
     "name": "stderr",
     "output_type": "stream",
     "text": [
      "\n",
      "  0%|          | 1205/473047 [17:02<744:34:29,  5.68s/it] \u001b[A\n",
      "  0%|          | 1206/473047 [17:02<526:16:02,  4.02s/it]\u001b[A"
     ]
    },
    {
     "name": "stdout",
     "output_type": "stream",
     "text": [
      "Objective 0.04740749\n",
      "Objective first part 0.0\n",
      "Objective second part -0.04740749\n",
      "Objective 0.79303885\n",
      "Objective first part 0.74593097\n",
      "Objective second part -0.047107857\n"
     ]
    },
    {
     "name": "stderr",
     "output_type": "stream",
     "text": [
      "\n",
      "  0%|          | 1207/473047 [17:02<373:25:44,  2.85s/it]\u001b[A\n",
      "  0%|          | 1208/473047 [17:02<266:32:58,  2.03s/it]\u001b[A"
     ]
    },
    {
     "name": "stdout",
     "output_type": "stream",
     "text": [
      "Objective 0.7934483\n",
      "Objective first part 0.7501027\n",
      "Objective second part -0.043345604\n",
      "Objective 0.041784722\n",
      "Objective first part 0.0\n",
      "Objective second part -0.041784722\n"
     ]
    },
    {
     "name": "stderr",
     "output_type": "stream",
     "text": [
      "\n",
      "  0%|          | 1209/473047 [17:02<191:39:16,  1.46s/it]\u001b[A\n",
      "  0%|          | 1210/473047 [17:03<139:17:49,  1.06s/it]\u001b[A"
     ]
    },
    {
     "name": "stdout",
     "output_type": "stream",
     "text": [
      "Objective 0.049676318\n",
      "Objective first part 0.0\n",
      "Objective second part -0.049676318\n",
      "Objective 0.05074685\n",
      "Objective first part 0.0\n",
      "Objective second part -0.05074685\n"
     ]
    },
    {
     "name": "stderr",
     "output_type": "stream",
     "text": [
      "\n",
      "  0%|          | 1212/473047 [17:03<100:27:32,  1.30it/s]\u001b[A\n",
      "  0%|          | 1214/473047 [17:03<72:51:17,  1.80it/s] \u001b[A"
     ]
    },
    {
     "name": "stdout",
     "output_type": "stream",
     "text": [
      "Objective 0.79419595\n",
      "Objective first part 0.749718\n",
      "Objective second part -0.044477925\n",
      "Objective 0.04587583\n",
      "Objective first part 0.0\n",
      "Objective second part -0.04587583\n",
      "Objective 0.043402374\n",
      "Objective first part 0.0\n",
      "Objective second part -0.043402374\n",
      "Objective 0.7890493\n",
      "Objective first part 0.7454032\n",
      "Objective second part -0.04364617\n"
     ]
    },
    {
     "name": "stderr",
     "output_type": "stream",
     "text": [
      "\n",
      "  0%|          | 1216/473047 [17:03<53:05:48,  2.47it/s]\u001b[A\n",
      "  0%|          | 1218/473047 [17:03<39:20:41,  3.33it/s]\u001b[A"
     ]
    },
    {
     "name": "stdout",
     "output_type": "stream",
     "text": [
      "Objective 0.047591627\n",
      "Objective first part 0.0\n",
      "Objective second part -0.047591627\n",
      "Objective 0.78946453\n",
      "Objective first part 0.74509877\n",
      "Objective second part -0.044365764\n",
      "Objective 0.044216357\n",
      "Objective first part 0.0\n",
      "Objective second part -0.044216357\n",
      "Objective 0.7833135\n",
      "Objective first part 0.7420005\n",
      "Objective second part -0.041313007\n"
     ]
    },
    {
     "name": "stderr",
     "output_type": "stream",
     "text": [
      "\n",
      "  0%|          | 1220/473047 [17:03<29:44:15,  4.41it/s]\u001b[A\n",
      "  0%|          | 1223/473047 [17:03<22:25:30,  5.84it/s]\u001b[A"
     ]
    },
    {
     "name": "stdout",
     "output_type": "stream",
     "text": [
      "Objective 0.7900492\n",
      "Objective first part 0.74806464\n",
      "Objective second part -0.041984547\n",
      "Objective 0.042241365\n",
      "Objective first part 0.0\n",
      "Objective second part -0.042241365\n",
      "Objective 0.7879983\n",
      "Objective first part 0.74082005\n",
      "Objective second part -0.047178272\n",
      "Objective 0.044381466\n",
      "Objective first part 0.0\n",
      "Objective second part -0.044381466\n",
      "Objective 0.7858509\n",
      "Objective first part 0.74284744\n",
      "Objective second part -0.04300344\n"
     ]
    },
    {
     "name": "stderr",
     "output_type": "stream",
     "text": [
      "\n",
      "  0%|          | 1226/473047 [17:03<17:06:41,  7.66it/s]\u001b[A\n",
      "  0%|          | 1229/473047 [17:04<13:21:54,  9.81it/s]\u001b[A"
     ]
    },
    {
     "name": "stdout",
     "output_type": "stream",
     "text": [
      "Objective 0.78901935\n",
      "Objective first part 0.74237037\n",
      "Objective second part -0.046648987\n",
      "Objective 0.037742782\n",
      "Objective first part 0.0\n",
      "Objective second part -0.037742782\n",
      "Objective 0.7898584\n",
      "Objective first part 0.74765784\n",
      "Objective second part -0.04220058\n",
      "Objective 0.7944351\n",
      "Objective first part 0.7440879\n",
      "Objective second part -0.05034723\n",
      "Objective 0.046433676\n",
      "Objective first part 0.0\n",
      "Objective second part -0.046433676\n",
      "Objective 0.04834847\n",
      "Objective first part 0.0\n",
      "Objective second part -0.04834847\n"
     ]
    },
    {
     "name": "stderr",
     "output_type": "stream",
     "text": [
      "\n",
      "  0%|          | 1234/473047 [17:04<10:12:32, 12.84it/s]\u001b[A\n",
      "  0%|          | 1240/473047 [17:04<7:53:34, 16.60it/s] \u001b[A"
     ]
    },
    {
     "name": "stdout",
     "output_type": "stream",
     "text": [
      "Objective 0.79331034\n",
      "Objective first part 0.7482046\n",
      "Objective second part -0.045105763\n",
      "Objective 0.04950407\n",
      "Objective first part 0.0\n",
      "Objective second part -0.04950407\n",
      "Objective 0.046142448\n",
      "Objective first part 0.0\n",
      "Objective second part -0.046142448\n",
      "Objective 0.042365167\n",
      "Objective first part 0.0\n",
      "Objective second part -0.042365167\n",
      "Objective 0.79342604\n",
      "Objective first part 0.749604\n",
      "Objective second part -0.04382208\n",
      "Objective 0.7961265\n",
      "Objective first part 0.7464013\n",
      "Objective second part -0.04972518\n",
      "Objective 0.039922144\n",
      "Objective first part 0.0\n",
      "Objective second part -0.039922144\n",
      "Objective 0.04442963\n",
      "Objective first part 0.0\n",
      "Objective second part -0.04442963\n",
      "Objective 0.042958453\n",
      "Objective first part 0.0\n",
      "Objective second part -0.042958453\n",
      "Objective 0.048614815\n",
      "Objective first part 0.0\n",
      "Objective second part -0.048614815\n",
      "Objective 0.7865829\n",
      "Objective first part 0.7455647\n",
      "Objective second part -0.041018173\n"
     ]
    },
    {
     "name": "stderr",
     "output_type": "stream",
     "text": [
      "\n",
      "  0%|          | 1244/473047 [17:04<6:30:37, 20.13it/s]\u001b[A"
     ]
    },
    {
     "name": "stdout",
     "output_type": "stream",
     "text": [
      "Objective 0.78698874\n",
      "Objective first part 0.7469715\n",
      "Objective second part -0.040017243\n",
      "Objective 0.039954897\n",
      "Objective first part 0.0\n",
      "Objective second part -0.039954897\n",
      "Objective 0.7914766\n",
      "Objective first part 0.74605536\n",
      "Objective second part -0.045421265\n",
      "Objective 0.044170693\n",
      "Objective first part 0.0\n",
      "Objective second part -0.044170693\n",
      "Objective 0.04756275\n",
      "Objective first part 0.0\n",
      "Objective second part -0.04756275\n",
      "Objective 0.04766333\n",
      "Objective first part 0.0\n",
      "Objective second part -0.04766333\n",
      "Objective 0.7878374\n",
      "Objective first part 0.7474124\n",
      "Objective second part -0.04042498\n"
     ]
    },
    {
     "name": "stderr",
     "output_type": "stream",
     "text": [
      "\n",
      "  0%|          | 1248/473047 [17:04<5:58:58, 21.90it/s]\u001b[A\n",
      "  0%|          | 1252/473047 [17:04<5:55:37, 22.11it/s]\u001b[A"
     ]
    },
    {
     "name": "stdout",
     "output_type": "stream",
     "text": [
      "Objective 0.04303418\n",
      "Objective first part 0.0\n",
      "Objective second part -0.04303418\n",
      "Objective 0.79015845\n",
      "Objective first part 0.74821275\n",
      "Objective second part -0.0419457\n",
      "Objective 0.785452\n",
      "Objective first part 0.74474084\n",
      "Objective second part -0.040711194\n",
      "Objective 0.04022416\n",
      "Objective first part 0.0\n",
      "Objective second part -0.04022416\n",
      "Objective 0.038869265\n",
      "Objective first part 0.0\n",
      "Objective second part -0.038869265\n",
      "Objective 0.044525597\n",
      "Objective first part 0.0\n",
      "Objective second part -0.044525597\n",
      "Objective 0.041905917\n",
      "Objective first part 0.0\n",
      "Objective second part -0.041905917\n"
     ]
    },
    {
     "name": "stderr",
     "output_type": "stream",
     "text": [
      "\n",
      "  0%|          | 1256/473047 [17:05<8:14:11, 15.91it/s]\u001b[A"
     ]
    },
    {
     "name": "stdout",
     "output_type": "stream",
     "text": [
      "Objective 0.78473157\n",
      "Objective first part 0.7468161\n",
      "Objective second part -0.03791549\n",
      "Objective 0.042222776\n",
      "Objective first part 0.0\n",
      "Objective second part -0.042222776\n",
      "Objective 0.7879481\n",
      "Objective first part 0.74420184\n",
      "Objective second part -0.043746233\n",
      "Objective 0.040936265\n",
      "Objective first part 0.0\n",
      "Objective second part -0.040936265\n"
     ]
    },
    {
     "name": "stderr",
     "output_type": "stream",
     "text": [
      "\n",
      "  0%|          | 1259/473047 [17:05<10:39:10, 12.30it/s]\u001b[A"
     ]
    },
    {
     "name": "stdout",
     "output_type": "stream",
     "text": [
      "Objective 0.7895558\n",
      "Objective first part 0.7516451\n",
      "Objective second part -0.037910722\n",
      "Objective 0.79029036\n",
      "Objective first part 0.7510101\n",
      "Objective second part -0.039280254\n"
     ]
    },
    {
     "name": "stderr",
     "output_type": "stream",
     "text": [
      "\n",
      "  0%|          | 1261/473047 [17:05<12:18:11, 10.65it/s]\u001b[A"
     ]
    },
    {
     "name": "stdout",
     "output_type": "stream",
     "text": [
      "Objective 0.03901502\n",
      "Objective first part 0.0\n",
      "Objective second part -0.03901502\n",
      "Objective 0.047902912\n",
      "Objective first part 0.0\n",
      "Objective second part -0.047902912\n"
     ]
    },
    {
     "name": "stderr",
     "output_type": "stream",
     "text": [
      "\n",
      "  0%|          | 1263/473047 [17:05<13:30:39,  9.70it/s]\u001b[A"
     ]
    },
    {
     "name": "stdout",
     "output_type": "stream",
     "text": [
      "Objective 0.7877321\n",
      "Objective first part 0.7472959\n",
      "Objective second part -0.040436212\n",
      "Objective 0.048595853\n",
      "Objective first part 0.0\n",
      "Objective second part -0.048595853\n"
     ]
    },
    {
     "name": "stderr",
     "output_type": "stream",
     "text": [
      "\n",
      "  0%|          | 1265/473047 [17:06<14:25:15,  9.09it/s]\u001b[A"
     ]
    },
    {
     "name": "stdout",
     "output_type": "stream",
     "text": [
      "Objective 0.7942004\n",
      "Objective first part 0.75236166\n",
      "Objective second part -0.04183879\n",
      "Objective 0.047014702\n",
      "Objective first part 0.0\n",
      "Objective second part -0.047014702\n"
     ]
    },
    {
     "name": "stderr",
     "output_type": "stream",
     "text": [
      "\n",
      "  0%|          | 1267/473047 [17:06<15:04:53,  8.69it/s]\u001b[A"
     ]
    },
    {
     "name": "stdout",
     "output_type": "stream",
     "text": [
      "Objective 0.04248979\n",
      "Objective first part 0.0\n",
      "Objective second part -0.04248979\n",
      "Objective 0.7870516\n",
      "Objective first part 0.746945\n",
      "Objective second part -0.040106583\n"
     ]
    },
    {
     "name": "stderr",
     "output_type": "stream",
     "text": [
      "\n",
      "  0%|          | 1269/473047 [17:06<15:35:34,  8.40it/s]\u001b[A\n",
      "  0%|          | 1270/473047 [17:06<15:48:59,  8.29it/s]\u001b[A"
     ]
    },
    {
     "name": "stdout",
     "output_type": "stream",
     "text": [
      "Objective 0.786992\n",
      "Objective first part 0.74749213\n",
      "Objective second part -0.039499853\n",
      "Objective 0.044292428\n",
      "Objective first part 0.0\n",
      "Objective second part -0.044292428\n"
     ]
    },
    {
     "name": "stderr",
     "output_type": "stream",
     "text": [
      "\n",
      "  0%|          | 1271/473047 [17:06<16:11:23,  8.09it/s]\u001b[A\n",
      "  0%|          | 1272/473047 [17:07<16:29:54,  7.94it/s]\u001b[A"
     ]
    },
    {
     "name": "stdout",
     "output_type": "stream",
     "text": [
      "Objective 0.78819925\n",
      "Objective first part 0.7484797\n",
      "Objective second part -0.039719503\n",
      "Objective 0.7898272\n",
      "Objective first part 0.75072694\n",
      "Objective second part -0.039100304\n"
     ]
    },
    {
     "name": "stderr",
     "output_type": "stream",
     "text": [
      "\n",
      "  0%|          | 1273/473047 [17:07<16:40:22,  7.86it/s]\u001b[A\n",
      "  0%|          | 1274/473047 [17:07<16:44:42,  7.83it/s]\u001b[A"
     ]
    },
    {
     "name": "stdout",
     "output_type": "stream",
     "text": [
      "Objective 0.79157627\n",
      "Objective first part 0.7491678\n",
      "Objective second part -0.042408448\n",
      "Objective 0.7839384\n",
      "Objective first part 0.7484844\n",
      "Objective second part -0.035454027\n"
     ]
    },
    {
     "name": "stderr",
     "output_type": "stream",
     "text": [
      "\n",
      "  0%|          | 1275/473047 [17:07<16:46:15,  7.81it/s]\u001b[A\n",
      "  0%|          | 1276/473047 [17:07<16:51:48,  7.77it/s]\u001b[A"
     ]
    },
    {
     "name": "stdout",
     "output_type": "stream",
     "text": [
      "Objective 0.04768052\n",
      "Objective first part 0.0\n",
      "Objective second part -0.04768052\n",
      "Objective 0.043090805\n",
      "Objective first part 0.0\n",
      "Objective second part -0.043090805\n"
     ]
    },
    {
     "name": "stderr",
     "output_type": "stream",
     "text": [
      "\n",
      "  0%|          | 1277/473047 [17:07<16:48:13,  7.80it/s]\u001b[A\n",
      "  0%|          | 1278/473047 [17:07<16:42:58,  7.84it/s]\u001b[A"
     ]
    },
    {
     "name": "stdout",
     "output_type": "stream",
     "text": [
      "Objective 0.78407437\n",
      "Objective first part 0.7425684\n",
      "Objective second part -0.041505966\n",
      "Objective 0.78486764\n",
      "Objective first part 0.7449775\n",
      "Objective second part -0.039890196\n"
     ]
    },
    {
     "name": "stderr",
     "output_type": "stream",
     "text": [
      "\n",
      "  0%|          | 1279/473047 [17:08<16:39:27,  7.87it/s]\u001b[A\n",
      "  0%|          | 1280/473047 [17:08<16:46:56,  7.81it/s]\u001b[A"
     ]
    },
    {
     "name": "stdout",
     "output_type": "stream",
     "text": [
      "Objective 0.79026985\n",
      "Objective first part 0.749511\n",
      "Objective second part -0.040758874\n",
      "Objective 0.7872067\n",
      "Objective first part 0.7464906\n",
      "Objective second part -0.0407161\n"
     ]
    },
    {
     "name": "stderr",
     "output_type": "stream",
     "text": [
      "\n",
      "  0%|          | 1281/473047 [17:08<16:49:53,  7.79it/s]\u001b[A\n",
      "  0%|          | 1282/473047 [17:08<15:43:08,  8.34it/s]\u001b[A"
     ]
    },
    {
     "name": "stdout",
     "output_type": "stream",
     "text": [
      "Objective 0.043572888\n",
      "Objective first part 0.0\n",
      "Objective second part -0.043572888\n",
      "Objective 0.04537411\n",
      "Objective first part 0.0\n",
      "Objective second part -0.04537411\n",
      "Objective 0.7993886\n",
      "Objective first part 0.7509661\n",
      "Objective second part -0.04842254\n"
     ]
    },
    {
     "name": "stderr",
     "output_type": "stream",
     "text": [
      "\n",
      "  0%|          | 1284/473047 [17:08<13:51:04,  9.46it/s]\u001b[A\n",
      "  0%|          | 1287/473047 [17:08<11:21:32, 11.54it/s]\u001b[A"
     ]
    },
    {
     "name": "stdout",
     "output_type": "stream",
     "text": [
      "Objective 0.03943419\n",
      "Objective first part 0.0\n",
      "Objective second part -0.03943419\n",
      "Objective 0.79277253\n",
      "Objective first part 0.74997646\n",
      "Objective second part -0.04279607\n",
      "Objective 0.78950083\n",
      "Objective first part 0.75074184\n",
      "Objective second part -0.03875897\n",
      "Objective 0.036227632\n",
      "Objective first part 0.0\n",
      "Objective second part -0.036227632\n",
      "Objective 0.0433189\n",
      "Objective first part 0.0\n",
      "Objective second part -0.0433189\n",
      "Objective 0.039374486\n",
      "Objective first part 0.0\n",
      "Objective second part -0.039374486\n"
     ]
    },
    {
     "name": "stderr",
     "output_type": "stream",
     "text": [
      "\n",
      "  0%|          | 1290/473047 [17:08<9:16:43, 14.12it/s] \u001b[A\n",
      "  0%|          | 1293/473047 [17:08<8:15:39, 15.86it/s]\u001b[A"
     ]
    },
    {
     "name": "stdout",
     "output_type": "stream",
     "text": [
      "Objective 0.78478986\n",
      "Objective first part 0.74669707\n",
      "Objective second part -0.03809281\n",
      "Objective 0.7931333\n",
      "Objective first part 0.74886066\n",
      "Objective second part -0.044272676\n",
      "Objective 0.04302721\n",
      "Objective first part 0.0\n",
      "Objective second part -0.04302721\n",
      "Objective 0.78972965\n",
      "Objective first part 0.7511538\n",
      "Objective second part -0.03857583\n",
      "Objective 0.79604554\n",
      "Objective first part 0.7472227\n",
      "Objective second part -0.04882283\n"
     ]
    },
    {
     "name": "stderr",
     "output_type": "stream",
     "text": [
      "\n",
      "  0%|          | 1296/473047 [17:09<7:44:21, 16.93it/s]\u001b[A\n",
      "  0%|          | 1299/473047 [17:09<7:04:16, 18.53it/s]\u001b[A"
     ]
    },
    {
     "name": "stdout",
     "output_type": "stream",
     "text": [
      "Objective 0.039306536\n",
      "Objective first part 0.0\n",
      "Objective second part -0.039306536\n",
      "Objective 0.78409475\n",
      "Objective first part 0.74668425\n",
      "Objective second part -0.03741051\n",
      "Objective 0.7892513\n",
      "Objective first part 0.7506131\n",
      "Objective second part -0.038638216\n",
      "Objective 0.7929949\n",
      "Objective first part 0.75493103\n",
      "Objective second part -0.038063895\n",
      "Objective 0.7932899\n",
      "Objective first part 0.7516544\n",
      "Objective second part -0.041635517\n",
      "Objective 0.7901367\n",
      "Objective first part 0.75161475\n",
      "Objective second part -0.038521938\n"
     ]
    },
    {
     "name": "stderr",
     "output_type": "stream",
     "text": [
      "\n",
      "  0%|          | 1299/473047 [17:23<7:04:16, 18.53it/s]\u001b[A"
     ]
    },
    {
     "name": "stdout",
     "output_type": "stream",
     "text": [
      "train loss first part 1.192276799603596e-09\n",
      "train loss second part -0.04093601\n"
     ]
    },
    {
     "name": "stderr",
     "output_type": "stream",
     "text": [
      "\n",
      "  0%|          | 1301/473047 [18:28<1566:19:38, 11.95s/it]\u001b[A\n",
      "  0%|          | 1303/473047 [18:28<1098:44:50,  8.38s/it]\u001b[A"
     ]
    },
    {
     "name": "stdout",
     "output_type": "stream",
     "text": [
      "Objective 0.78969985\n",
      "Objective first part 0.75058305\n",
      "Objective second part -0.039116792\n",
      "Objective 0.789497\n",
      "Objective first part 0.7482733\n",
      "Objective second part -0.041223682\n",
      "Objective 0.040538687\n",
      "Objective first part 0.0\n",
      "Objective second part -0.040538687\n",
      "Objective 0.03678779\n",
      "Objective first part 0.0\n",
      "Objective second part -0.03678779\n",
      "Objective 0.7853782\n",
      "Objective first part 0.75057775\n",
      "Objective second part -0.034800492\n"
     ]
    },
    {
     "name": "stderr",
     "output_type": "stream",
     "text": [
      "\n",
      "  0%|          | 1306/473047 [18:28<770:31:05,  5.88s/it] \u001b[A\n",
      "  0%|          | 1308/473047 [18:28<541:27:45,  4.13s/it]\u001b[A\n",
      "  0%|          | 1312/473047 [18:29<380:04:20,  2.90s/it]\u001b[A"
     ]
    },
    {
     "name": "stdout",
     "output_type": "stream",
     "text": [
      "Objective 0.789257\n",
      "Objective first part 0.7472339\n",
      "Objective second part -0.04202309\n",
      "Objective 0.79464054\n",
      "Objective first part 0.7519708\n",
      "Objective second part -0.04266973\n",
      "Objective 0.7869212\n",
      "Objective first part 0.75212103\n",
      "Objective second part -0.034800187\n",
      "Objective 0.7948448\n",
      "Objective first part 0.7519086\n",
      "Objective second part -0.04293618\n",
      "Objective 0.0379743\n",
      "Objective first part 0.0\n",
      "Objective second part -0.0379743\n",
      "Objective 0.7907165\n",
      "Objective first part 0.74844027\n",
      "Objective second part -0.04227625\n",
      "Objective 0.7913337\n",
      "Objective first part 0.7509879\n",
      "Objective second part -0.040345788\n"
     ]
    },
    {
     "name": "stderr",
     "output_type": "stream",
     "text": [
      "\n",
      "  0%|          | 1317/473047 [18:29<267:01:16,  2.04s/it]\u001b[A"
     ]
    },
    {
     "name": "stdout",
     "output_type": "stream",
     "text": [
      "Objective 0.03980212\n",
      "Objective first part 0.0\n",
      "Objective second part -0.03980212\n",
      "Objective 0.79710543\n",
      "Objective first part 0.7542373\n",
      "Objective second part -0.042868115\n",
      "Objective 0.79564303\n",
      "Objective first part 0.7539935\n",
      "Objective second part -0.041649498\n",
      "Objective 0.04296611\n",
      "Objective first part 0.0\n",
      "Objective second part -0.04296611\n",
      "Objective 0.7895691\n",
      "Objective first part 0.7496835\n",
      "Objective second part -0.039885607\n",
      "Objective 0.7943711\n",
      "Objective first part 0.7544693\n",
      "Objective second part -0.03990186\n",
      "Objective 0.78904164\n",
      "Objective first part 0.75159705\n",
      "Objective second part -0.037444603\n"
     ]
    },
    {
     "name": "stderr",
     "output_type": "stream",
     "text": [
      "\n",
      "  0%|          | 1320/473047 [18:29<188:17:50,  1.44s/it]\u001b[A\n",
      "  0%|          | 1324/473047 [18:29<133:05:51,  1.02s/it]\u001b[A"
     ]
    },
    {
     "name": "stdout",
     "output_type": "stream",
     "text": [
      "Objective 0.04059486\n",
      "Objective first part 0.0\n",
      "Objective second part -0.04059486\n",
      "Objective 0.796292\n",
      "Objective first part 0.7520839\n",
      "Objective second part -0.044208135\n",
      "Objective 0.041501056\n",
      "Objective first part 0.0\n",
      "Objective second part -0.041501056\n",
      "Objective 0.041178465\n",
      "Objective first part 0.0\n",
      "Objective second part -0.041178465\n",
      "Objective 0.7906095\n",
      "Objective first part 0.74853176\n",
      "Objective second part -0.04207773\n",
      "Objective 0.041275054\n",
      "Objective first part 0.0\n",
      "Objective second part -0.041275054\n",
      "Objective 0.7860689\n",
      "Objective first part 0.74782336\n",
      "Objective second part -0.038245574\n"
     ]
    },
    {
     "name": "stderr",
     "output_type": "stream",
     "text": [
      "\n",
      "  0%|          | 1327/473047 [18:29<94:29:15,  1.39it/s] \u001b[A\n",
      "  0%|          | 1330/473047 [18:29<67:27:44,  1.94it/s]\u001b[A"
     ]
    },
    {
     "name": "stdout",
     "output_type": "stream",
     "text": [
      "Objective 0.042744003\n",
      "Objective first part 0.0\n",
      "Objective second part -0.042744003\n",
      "Objective 0.043224983\n",
      "Objective first part 0.0\n",
      "Objective second part -0.043224983\n",
      "Objective 0.78978074\n",
      "Objective first part 0.7499709\n",
      "Objective second part -0.039809808\n",
      "Objective 0.7933523\n",
      "Objective first part 0.7510124\n",
      "Objective second part -0.04233992\n",
      "Objective 0.79042554\n",
      "Objective first part 0.75165474\n",
      "Objective second part -0.038770802\n",
      "Objective 0.039146297\n"
     ]
    },
    {
     "name": "stderr",
     "output_type": "stream",
     "text": [
      "\n",
      "  0%|          | 1333/473047 [18:29<49:17:11,  2.66it/s]\u001b[A"
     ]
    },
    {
     "name": "stdout",
     "output_type": "stream",
     "text": [
      "Objective first part 0.0\n",
      "Objective second part -0.039146297\n",
      "Objective 0.04058996\n",
      "Objective first part 0.0\n",
      "Objective second part -0.04058996\n",
      "Objective 0.79560214\n",
      "Objective first part 0.7520243\n",
      "Objective second part -0.04357787\n"
     ]
    },
    {
     "name": "stderr",
     "output_type": "stream",
     "text": [
      "\n",
      "  0%|          | 1336/473047 [18:30<39:09:53,  3.35it/s]\u001b[A"
     ]
    },
    {
     "name": "stdout",
     "output_type": "stream",
     "text": [
      "Objective 0.79370576\n",
      "Objective first part 0.75205255\n",
      "Objective second part -0.041653227\n",
      "Objective 0.80069387\n",
      "Objective first part 0.75551116\n",
      "Objective second part -0.045182712\n",
      "Objective 0.038086306\n",
      "Objective first part 0.0\n",
      "Objective second part -0.038086306\n",
      "Objective 0.7886675\n",
      "Objective first part 0.75081855\n",
      "Objective second part -0.037848942\n"
     ]
    },
    {
     "name": "stderr",
     "output_type": "stream",
     "text": [
      "\n",
      "  0%|          | 1339/473047 [18:30<32:21:30,  4.05it/s]\u001b[A"
     ]
    },
    {
     "name": "stdout",
     "output_type": "stream",
     "text": [
      "Objective 0.043627053\n",
      "Objective first part 0.0\n",
      "Objective second part -0.043627053\n",
      "Objective 0.038358416\n",
      "Objective first part 0.0\n",
      "Objective second part -0.038358416\n"
     ]
    },
    {
     "name": "stderr",
     "output_type": "stream",
     "text": [
      "\n",
      "  0%|          | 1341/473047 [18:30<27:34:32,  4.75it/s]\u001b[A"
     ]
    },
    {
     "name": "stdout",
     "output_type": "stream",
     "text": [
      "Objective 0.78959477\n",
      "Objective first part 0.75262314\n",
      "Objective second part -0.03697165\n",
      "Objective 0.79124534\n",
      "Objective first part 0.7528401\n",
      "Objective second part -0.03840524\n"
     ]
    },
    {
     "name": "stderr",
     "output_type": "stream",
     "text": [
      "\n",
      "  0%|          | 1343/473047 [18:30<24:18:22,  5.39it/s]\u001b[A"
     ]
    },
    {
     "name": "stdout",
     "output_type": "stream",
     "text": [
      "Objective 0.04000763\n",
      "Objective first part 0.0\n",
      "Objective second part -0.04000763\n",
      "Objective 0.7936125\n",
      "Objective first part 0.7516918\n",
      "Objective second part -0.04192065\n"
     ]
    },
    {
     "name": "stderr",
     "output_type": "stream",
     "text": [
      "\n",
      "  0%|          | 1345/473047 [18:31<21:56:06,  5.97it/s]\u001b[A"
     ]
    },
    {
     "name": "stdout",
     "output_type": "stream",
     "text": [
      "Objective 0.7907331\n",
      "Objective first part 0.75304145\n",
      "Objective second part -0.037691657\n",
      "Objective 0.7941553\n",
      "Objective first part 0.7550341\n",
      "Objective second part -0.039121192\n"
     ]
    },
    {
     "name": "stderr",
     "output_type": "stream",
     "text": [
      "\n",
      "  0%|          | 1347/473047 [18:31<20:19:45,  6.45it/s]\u001b[A"
     ]
    },
    {
     "name": "stdout",
     "output_type": "stream",
     "text": [
      "Objective 0.04034368\n",
      "Objective first part 0.0\n",
      "Objective second part -0.04034368\n",
      "Objective 0.034706134\n",
      "Objective first part 0.0\n",
      "Objective second part -0.034706134\n"
     ]
    },
    {
     "name": "stderr",
     "output_type": "stream",
     "text": [
      "\n",
      "  0%|          | 1349/473047 [18:31<19:13:26,  6.82it/s]\u001b[A\n",
      "  0%|          | 1350/473047 [18:31<18:34:01,  7.06it/s]\u001b[A"
     ]
    },
    {
     "name": "stdout",
     "output_type": "stream",
     "text": [
      "Objective 0.03503362\n",
      "Objective first part 0.0\n",
      "Objective second part -0.03503362\n",
      "Objective 0.04348523\n",
      "Objective first part 0.0\n",
      "Objective second part -0.04348523\n"
     ]
    },
    {
     "name": "stderr",
     "output_type": "stream",
     "text": [
      "\n",
      "  0%|          | 1351/473047 [18:32<18:23:41,  7.12it/s]\u001b[A\n",
      "  0%|          | 1352/473047 [18:32<18:02:52,  7.26it/s]\u001b[A"
     ]
    },
    {
     "name": "stdout",
     "output_type": "stream",
     "text": [
      "Objective 0.033872478\n",
      "Objective first part 0.0\n",
      "Objective second part -0.033872478\n",
      "Objective 0.039894104\n",
      "Objective first part 0.0\n",
      "Objective second part -0.039894104\n"
     ]
    },
    {
     "name": "stderr",
     "output_type": "stream",
     "text": [
      "\n",
      "  0%|          | 1353/473047 [18:32<17:12:50,  7.61it/s]\u001b[A\n",
      "  0%|          | 1354/473047 [18:32<16:52:31,  7.76it/s]\u001b[A"
     ]
    },
    {
     "name": "stdout",
     "output_type": "stream",
     "text": [
      "Objective 0.793069\n",
      "Objective first part 0.75169307\n",
      "Objective second part -0.041375935\n",
      "Objective 0.03924833\n",
      "Objective first part 0.0\n",
      "Objective second part -0.03924833\n"
     ]
    },
    {
     "name": "stderr",
     "output_type": "stream",
     "text": [
      "\n",
      "  0%|          | 1355/473047 [18:32<16:43:42,  7.83it/s]\u001b[A\n",
      "  0%|          | 1356/473047 [18:32<17:06:18,  7.66it/s]\u001b[A"
     ]
    },
    {
     "name": "stdout",
     "output_type": "stream",
     "text": [
      "Objective 0.040997867\n",
      "Objective first part 0.0\n",
      "Objective second part -0.040997867\n",
      "Objective 0.038033247\n",
      "Objective first part 0.0\n",
      "Objective second part -0.038033247\n"
     ]
    },
    {
     "name": "stderr",
     "output_type": "stream",
     "text": [
      "\n",
      "  0%|          | 1357/473047 [18:32<16:12:32,  8.08it/s]\u001b[A\n",
      "  0%|          | 1358/473047 [18:32<16:11:38,  8.09it/s]\u001b[A"
     ]
    },
    {
     "name": "stdout",
     "output_type": "stream",
     "text": [
      "Objective 0.78788483\n",
      "Objective first part 0.75383204\n",
      "Objective second part -0.03405278\n",
      "Objective 0.034199443\n",
      "Objective first part 0.0\n",
      "Objective second part -0.034199443\n"
     ]
    },
    {
     "name": "stderr",
     "output_type": "stream",
     "text": [
      "\n",
      "  0%|          | 1359/473047 [18:33<19:02:42,  6.88it/s]\u001b[A\n",
      "  0%|          | 1360/473047 [18:33<18:22:50,  7.13it/s]\u001b[A"
     ]
    },
    {
     "name": "stdout",
     "output_type": "stream",
     "text": [
      "Objective 0.037182085\n",
      "Objective first part 0.0\n",
      "Objective second part -0.037182085\n",
      "Objective 0.037526906\n",
      "Objective first part 0.0\n",
      "Objective second part -0.037526906\n"
     ]
    },
    {
     "name": "stderr",
     "output_type": "stream",
     "text": [
      "\n",
      "  0%|          | 1361/473047 [18:33<18:00:08,  7.28it/s]\u001b[A\n",
      "  0%|          | 1363/473047 [18:33<15:08:15,  8.66it/s]\u001b[A"
     ]
    },
    {
     "name": "stdout",
     "output_type": "stream",
     "text": [
      "Objective 0.037049647\n",
      "Objective first part 0.0\n",
      "Objective second part -0.037049647\n",
      "Objective 0.78830326\n",
      "Objective first part 0.75267416\n",
      "Objective second part -0.03562912\n",
      "Objective 0.79143965\n",
      "Objective first part 0.75392914\n",
      "Objective second part -0.037510507\n",
      "Objective 0.035095476\n",
      "Objective first part 0.0\n",
      "Objective second part -0.035095476\n"
     ]
    },
    {
     "name": "stderr",
     "output_type": "stream",
     "text": [
      "\n",
      "  0%|          | 1365/473047 [18:33<13:06:26, 10.00it/s]\u001b[A\n",
      "  0%|          | 1367/473047 [18:33<11:36:34, 11.29it/s]\u001b[A"
     ]
    },
    {
     "name": "stdout",
     "output_type": "stream",
     "text": [
      "Objective 0.041215297\n",
      "Objective first part 0.0\n",
      "Objective second part -0.041215297\n",
      "Objective 0.7920879\n",
      "Objective first part 0.7522908\n",
      "Objective second part -0.039797157\n",
      "Objective 0.78655696\n",
      "Objective first part 0.74996924\n",
      "Objective second part -0.036587704\n",
      "Objective 0.7957903\n",
      "Objective first part 0.7527238\n",
      "Objective second part -0.043066476\n"
     ]
    },
    {
     "name": "stderr",
     "output_type": "stream",
     "text": [
      "\n",
      "  0%|          | 1369/473047 [18:33<10:37:36, 12.33it/s]\u001b[A\n",
      "  0%|          | 1372/473047 [18:33<9:12:02, 14.24it/s] \u001b[A"
     ]
    },
    {
     "name": "stdout",
     "output_type": "stream",
     "text": [
      "Objective 0.78429997\n",
      "Objective first part 0.74930316\n",
      "Objective second part -0.03499683\n",
      "Objective 0.79645616\n",
      "Objective first part 0.7560843\n",
      "Objective second part -0.040371854\n",
      "Objective 0.7860692\n",
      "Objective first part 0.74816555\n",
      "Objective second part -0.037903666\n",
      "Objective 0.7958008\n",
      "Objective first part 0.75165033\n",
      "Objective second part -0.044150446\n",
      "Objective 0.035807766\n",
      "Objective first part 0.0\n",
      "Objective second part -0.035807766\n",
      "Objective 0.036163915\n",
      "Objective first part 0.0\n",
      "Objective second part -0.036163915\n"
     ]
    },
    {
     "name": "stderr",
     "output_type": "stream",
     "text": [
      "\n",
      "  0%|          | 1375/473047 [18:34<7:53:10, 16.61it/s]\u001b[A\n",
      "  0%|          | 1378/473047 [18:34<6:52:03, 19.08it/s]\u001b[A\n",
      "  0%|          | 1381/473047 [18:34<6:07:26, 21.39it/s]\u001b[A"
     ]
    },
    {
     "name": "stdout",
     "output_type": "stream",
     "text": [
      "Objective 0.032778457\n",
      "Objective first part 0.0\n",
      "Objective second part -0.032778457\n",
      "Objective 0.03506745\n",
      "Objective first part 0.0\n",
      "Objective second part -0.03506745\n",
      "Objective 0.79230016\n",
      "Objective first part 0.7514166\n",
      "Objective second part -0.04088355\n",
      "Objective 0.7904346\n",
      "Objective first part 0.75289965\n",
      "Objective second part -0.037534952\n",
      "Objective 0.7879726\n",
      "Objective first part 0.7497911\n",
      "Objective second part -0.038181543\n",
      "Objective 0.7938432\n",
      "Objective first part 0.7539656\n",
      "Objective second part -0.039877605\n"
     ]
    },
    {
     "name": "stderr",
     "output_type": "stream",
     "text": [
      "\n",
      "  0%|          | 1384/473047 [18:34<5:39:09, 23.18it/s]\u001b[A\n"
     ]
    },
    {
     "name": "stdout",
     "output_type": "stream",
     "text": [
      "Objective 0.03375145\n",
      "Objective first part 0.0\n",
      "Objective second part -0.03375145\n",
      "Objective 0.79681516\n",
      "Objective first part 0.7562058\n",
      "Objective second part -0.040609386\n",
      "Objective 0.791344\n",
      "Objective first part 0.7553867\n",
      "Objective second part -0.035957277\n",
      "Objective 0.7906801\n",
      "Objective first part 0.75227326\n",
      "Objective second part -0.03840685\n",
      "Objective 0.03119406\n",
      "Objective first part 0.0\n",
      "Objective second part -0.03119406\n",
      "Objective 0.78791106\n",
      "Objective first part 0.75028455\n",
      "Objective second part -0.037626483\n"
     ]
    },
    {
     "name": "stderr",
     "output_type": "stream",
     "text": [
      "  0%|          | 1387/473047 [18:34<5:20:10, 24.55it/s]\u001b[A\n",
      "  0%|          | 1390/473047 [18:34<5:43:13, 22.90it/s]\u001b[A"
     ]
    },
    {
     "name": "stdout",
     "output_type": "stream",
     "text": [
      "Objective 0.7864433\n",
      "Objective first part 0.74912214\n",
      "Objective second part -0.037321165\n",
      "Objective 0.7883778\n",
      "Objective first part 0.75345427\n",
      "Objective second part -0.03492356\n",
      "Objective 0.035176102\n",
      "Objective first part 0.0\n",
      "Objective second part -0.035176102\n",
      "Objective 0.78260016\n",
      "Objective first part 0.7502697\n",
      "Objective second part -0.032330424\n"
     ]
    },
    {
     "name": "stderr",
     "output_type": "stream",
     "text": [
      "\n",
      "  0%|          | 1393/473047 [18:34<7:20:07, 17.86it/s]\u001b[A"
     ]
    },
    {
     "name": "stdout",
     "output_type": "stream",
     "text": [
      "Objective 0.0375563\n",
      "Objective first part 0.0\n",
      "Objective second part -0.0375563\n",
      "Objective 0.037069935\n",
      "Objective first part 0.0\n",
      "Objective second part -0.037069935\n",
      "Objective 0.7880184\n",
      "Objective first part 0.75086516\n",
      "Objective second part -0.03715326\n"
     ]
    },
    {
     "name": "stderr",
     "output_type": "stream",
     "text": [
      "\n",
      "  0%|          | 1396/473047 [18:35<7:49:42, 16.74it/s]\u001b[A"
     ]
    },
    {
     "name": "stdout",
     "output_type": "stream",
     "text": [
      "Objective 0.7884994\n",
      "Objective first part 0.75231785\n",
      "Objective second part -0.036181588\n",
      "Objective 0.034804445\n",
      "Objective first part 0.0\n",
      "Objective second part -0.034804445\n",
      "Objective 0.792263\n",
      "Objective first part 0.7553667\n",
      "Objective second part -0.036896262\n",
      "Objective 0.040256366\n",
      "Objective first part 0.0\n",
      "Objective second part -0.040256366\n"
     ]
    },
    {
     "name": "stderr",
     "output_type": "stream",
     "text": [
      "\n",
      "  0%|          | 1398/473047 [18:35<7:59:15, 16.40it/s]\u001b[A"
     ]
    },
    {
     "name": "stdout",
     "output_type": "stream",
     "text": [
      "Objective 0.789695\n",
      "Objective first part 0.7519544\n",
      "Objective second part -0.037740678\n",
      "Objective 0.7874132\n",
      "Objective first part 0.7570733\n",
      "Objective second part -0.030339913\n"
     ]
    },
    {
     "name": "stderr",
     "output_type": "stream",
     "text": [
      "\n",
      "  0%|          | 1400/473047 [18:35<10:01:55, 13.06it/s]\u001b[A"
     ]
    },
    {
     "name": "stdout",
     "output_type": "stream",
     "text": [
      "Objective 0.039653767\n",
      "Objective first part 0.0\n",
      "Objective second part -0.039653767\n"
     ]
    },
    {
     "name": "stderr",
     "output_type": "stream",
     "text": [
      "\n",
      "  0%|          | 1400/473047 [18:53<10:01:55, 13.06it/s]\u001b[A"
     ]
    },
    {
     "name": "stdout",
     "output_type": "stream",
     "text": [
      "train loss first part 1.1972257895750234e-09\n",
      "train loss second part -0.03688334\n"
     ]
    },
    {
     "name": "stderr",
     "output_type": "stream",
     "text": [
      "\n",
      "  0%|          | 1401/473047 [19:55<3141:42:31, 23.98s/it]\u001b[A\n",
      "  0%|          | 1403/473047 [19:55<2201:30:31, 16.80s/it]\u001b[A"
     ]
    },
    {
     "name": "stdout",
     "output_type": "stream",
     "text": [
      "Objective 0.036286592\n",
      "Objective first part 0.0\n",
      "Objective second part -0.036286592\n",
      "Objective 0.78632617\n",
      "Objective first part 0.7516386\n",
      "Objective second part -0.03468756\n",
      "Objective 0.79758143\n",
      "Objective first part 0.75672513\n",
      "Objective second part -0.04085629\n"
     ]
    },
    {
     "name": "stderr",
     "output_type": "stream",
     "text": [
      "\n",
      "  0%|          | 1404/473047 [19:55<1545:21:34, 11.80s/it]\u001b[A\n",
      "  0%|          | 1405/473047 [19:55<1086:44:02,  8.29s/it]\u001b[A"
     ]
    },
    {
     "name": "stdout",
     "output_type": "stream",
     "text": [
      "Objective 0.7922646\n",
      "Objective first part 0.75397325\n",
      "Objective second part -0.038291343\n",
      "Objective 0.035034545\n",
      "Objective first part 0.0\n",
      "Objective second part -0.035034545\n",
      "Objective 0.79314667\n",
      "Objective first part 0.7544341\n",
      "Objective second part -0.03871256\n",
      "Objective 0.03273929\n",
      "Objective first part 0.0\n",
      "Objective second part -0.03273929\n"
     ]
    },
    {
     "name": "stderr",
     "output_type": "stream",
     "text": [
      "\n",
      "  0%|          | 1408/473047 [19:55<762:19:42,  5.82s/it] \u001b[A\n",
      "  0%|          | 1412/473047 [19:55<534:42:52,  4.08s/it]\u001b[A"
     ]
    },
    {
     "name": "stdout",
     "output_type": "stream",
     "text": [
      "Objective 0.79539233\n",
      "Objective first part 0.7552715\n",
      "Objective second part -0.04012085\n",
      "Objective 0.78712225\n",
      "Objective first part 0.7539509\n",
      "Objective second part -0.03317136\n",
      "Objective 0.7888667\n",
      "Objective first part 0.75386596\n",
      "Objective second part -0.03500072\n",
      "Objective 0.79233205\n",
      "Objective first part 0.7533324\n",
      "Objective second part -0.03899965\n",
      "Objective 0.7867589\n",
      "Objective first part 0.75000405\n",
      "Objective second part -0.03675483\n",
      "Objective 0.7867001\n",
      "Objective first part 0.7545501\n",
      "Objective second part -0.03215\n",
      "Objective 0.039679874\n",
      "Objective first part 0.0\n",
      "Objective second part -0.039679874\n"
     ]
    },
    {
     "name": "stderr",
     "output_type": "stream",
     "text": [
      "\n",
      "  0%|          | 1415/473047 [19:55<375:45:00,  2.87s/it]\u001b[A\n",
      "  0%|          | 1418/473047 [19:56<264:27:38,  2.02s/it]\u001b[A"
     ]
    },
    {
     "name": "stdout",
     "output_type": "stream",
     "text": [
      "Objective 0.03630866\n",
      "Objective first part 0.0\n",
      "Objective second part -0.03630866\n",
      "Objective 0.033041116\n",
      "Objective first part 0.0\n",
      "Objective second part -0.033041116\n",
      "Objective 0.03582296\n",
      "Objective first part 0.0\n",
      "Objective second part -0.03582296\n",
      "Objective 0.034123518\n",
      "Objective first part 0.0\n",
      "Objective second part -0.034123518\n",
      "Objective 0.7889223\n",
      "Objective first part 0.75348026\n",
      "Objective second part -0.035442047\n",
      "Objective 0.79031837\n",
      "Objective first part 0.75107944\n",
      "Objective second part -0.039238904\n"
     ]
    },
    {
     "name": "stderr",
     "output_type": "stream",
     "text": [
      "\n",
      "  0%|          | 1421/473047 [19:56<186:34:45,  1.42s/it]\u001b[A\n",
      "  0%|          | 1424/473047 [19:56<132:00:16,  1.01s/it]\u001b[A"
     ]
    },
    {
     "name": "stdout",
     "output_type": "stream",
     "text": [
      "Objective 0.0364253\n",
      "Objective first part 0.0\n",
      "Objective second part -0.0364253\n",
      "Objective 0.78983665\n",
      "Objective first part 0.7546634\n",
      "Objective second part -0.035173263\n",
      "Objective 0.78255016\n",
      "Objective first part 0.75045633\n",
      "Objective second part -0.032093804\n",
      "Objective 0.035159126\n",
      "Objective first part 0.0\n",
      "Objective second part -0.035159126\n",
      "Objective 0.7827705\n",
      "Objective first part 0.7487662\n",
      "Objective second part -0.034004312\n"
     ]
    },
    {
     "name": "stderr",
     "output_type": "stream",
     "text": [
      "\n",
      "  0%|          | 1427/473047 [19:56<94:15:36,  1.39it/s] \u001b[A"
     ]
    },
    {
     "name": "stdout",
     "output_type": "stream",
     "text": [
      "Objective 0.037512362\n",
      "Objective first part 0.0\n",
      "Objective second part -0.037512362\n",
      "Objective 0.7914484\n",
      "Objective first part 0.7514784\n",
      "Objective second part -0.039970033\n",
      "Objective 0.785349\n",
      "Objective first part 0.7517435\n",
      "Objective second part -0.033605535\n"
     ]
    },
    {
     "name": "stderr",
     "output_type": "stream",
     "text": [
      "\n",
      "  0%|          | 1430/473047 [19:56<70:52:46,  1.85it/s]\u001b[A"
     ]
    },
    {
     "name": "stdout",
     "output_type": "stream",
     "text": [
      "Objective 0.78698814\n",
      "Objective first part 0.7534739\n",
      "Objective second part -0.033514246\n",
      "Objective 0.03512517\n",
      "Objective first part 0.0\n",
      "Objective second part -0.03512517\n"
     ]
    },
    {
     "name": "stderr",
     "output_type": "stream",
     "text": [
      "\n",
      "  0%|          | 1432/473047 [19:57<54:37:59,  2.40it/s]\u001b[A"
     ]
    },
    {
     "name": "stdout",
     "output_type": "stream",
     "text": [
      "Objective 0.7880172\n",
      "Objective first part 0.7497627\n",
      "Objective second part -0.038254492\n",
      "Objective 0.039128195\n",
      "Objective first part 0.0\n",
      "Objective second part -0.039128195\n"
     ]
    },
    {
     "name": "stderr",
     "output_type": "stream",
     "text": [
      "\n",
      "  0%|          | 1434/473047 [19:57<43:12:28,  3.03it/s]\u001b[A"
     ]
    },
    {
     "name": "stdout",
     "output_type": "stream",
     "text": [
      "Objective 0.7945236\n",
      "Objective first part 0.75439644\n",
      "Objective second part -0.04012718\n",
      "Objective 0.7927398\n",
      "Objective first part 0.75520176\n",
      "Objective second part -0.037538044\n"
     ]
    },
    {
     "name": "stderr",
     "output_type": "stream",
     "text": [
      "\n",
      "  0%|          | 1436/473047 [19:57<35:15:51,  3.71it/s]\u001b[A"
     ]
    },
    {
     "name": "stdout",
     "output_type": "stream",
     "text": [
      "Objective 0.030187\n",
      "Objective first part 0.0\n",
      "Objective second part -0.030187\n",
      "Objective 0.79246366\n",
      "Objective first part 0.7542018\n",
      "Objective second part -0.03826186\n"
     ]
    },
    {
     "name": "stderr",
     "output_type": "stream",
     "text": [
      "\n",
      "  0%|          | 1438/473047 [19:57<29:51:25,  4.39it/s]\u001b[A"
     ]
    },
    {
     "name": "stdout",
     "output_type": "stream",
     "text": [
      "Objective 0.78893626\n",
      "Objective first part 0.75625086\n",
      "Objective second part -0.0326854\n",
      "Objective 0.7885946\n",
      "Objective first part 0.75325733\n",
      "Objective second part -0.035337254\n"
     ]
    },
    {
     "name": "stderr",
     "output_type": "stream",
     "text": [
      "\n",
      "  0%|          | 1440/473047 [19:58<25:47:07,  5.08it/s]\u001b[A"
     ]
    },
    {
     "name": "stdout",
     "output_type": "stream",
     "text": [
      "Objective 0.7837056\n",
      "Objective first part 0.751487\n",
      "Objective second part -0.03221857\n",
      "Objective 0.033043705\n",
      "Objective first part 0.0\n",
      "Objective second part -0.033043705\n"
     ]
    },
    {
     "name": "stderr",
     "output_type": "stream",
     "text": [
      "\n",
      "  0%|          | 1441/473047 [19:58<23:17:19,  5.63it/s]\u001b[A\n",
      "  0%|          | 1442/473047 [19:58<21:28:21,  6.10it/s]\u001b[A"
     ]
    },
    {
     "name": "stdout",
     "output_type": "stream",
     "text": [
      "Objective 0.03535368\n",
      "Objective first part 0.0\n",
      "Objective second part -0.03535368\n",
      "Objective 0.78604645\n",
      "Objective first part 0.7521484\n",
      "Objective second part -0.033898067\n"
     ]
    },
    {
     "name": "stderr",
     "output_type": "stream",
     "text": [
      "\n",
      "  0%|          | 1443/473047 [19:58<20:16:13,  6.46it/s]\u001b[A\n",
      "  0%|          | 1444/473047 [19:58<19:27:33,  6.73it/s]\u001b[A"
     ]
    },
    {
     "name": "stdout",
     "output_type": "stream",
     "text": [
      "Objective 0.034845795\n",
      "Objective first part 0.0\n",
      "Objective second part -0.034845795\n",
      "Objective 0.7896351\n",
      "Objective first part 0.7549284\n",
      "Objective second part -0.03470669\n"
     ]
    },
    {
     "name": "stderr",
     "output_type": "stream",
     "text": [
      "\n",
      "  0%|          | 1445/473047 [19:58<17:52:12,  7.33it/s]\u001b[A\n",
      "  0%|          | 1446/473047 [19:58<17:08:14,  7.64it/s]\u001b[A"
     ]
    },
    {
     "name": "stdout",
     "output_type": "stream",
     "text": [
      "Objective 0.79182523\n",
      "Objective first part 0.751797\n",
      "Objective second part -0.040028226\n",
      "Objective 0.034479935\n",
      "Objective first part 0.0\n",
      "Objective second part -0.034479935\n",
      "Objective 0.7934212\n",
      "Objective first part 0.75565237\n",
      "Objective second part -0.03776884\n"
     ]
    },
    {
     "name": "stderr",
     "output_type": "stream",
     "text": [
      "\n",
      "  0%|          | 1448/473047 [19:59<17:01:06,  7.70it/s]\u001b[A\n",
      "  0%|          | 1449/473047 [19:59<16:48:49,  7.79it/s]\u001b[A"
     ]
    },
    {
     "name": "stdout",
     "output_type": "stream",
     "text": [
      "Objective 0.7966636\n",
      "Objective first part 0.7591852\n",
      "Objective second part -0.03747839\n",
      "Objective 0.03819814\n",
      "Objective first part 0.0\n",
      "Objective second part -0.03819814\n"
     ]
    },
    {
     "name": "stderr",
     "output_type": "stream",
     "text": [
      "\n",
      "  0%|          | 1450/473047 [19:59<16:44:14,  7.83it/s]\u001b[A\n",
      "  0%|          | 1451/473047 [19:59<16:45:29,  7.82it/s]\u001b[A"
     ]
    },
    {
     "name": "stdout",
     "output_type": "stream",
     "text": [
      "Objective 0.033609353\n",
      "Objective first part 0.0\n",
      "Objective second part -0.033609353\n",
      "Objective 0.78901464\n",
      "Objective first part 0.7537201\n",
      "Objective second part -0.035294525\n"
     ]
    },
    {
     "name": "stderr",
     "output_type": "stream",
     "text": [
      "\n",
      "  0%|          | 1452/473047 [19:59<16:41:20,  7.85it/s]\u001b[A\n",
      "  0%|          | 1453/473047 [19:59<16:40:44,  7.85it/s]\u001b[A"
     ]
    },
    {
     "name": "stdout",
     "output_type": "stream",
     "text": [
      "Objective 0.79290855\n",
      "Objective first part 0.75596327\n",
      "Objective second part -0.036945306\n",
      "Objective 0.78587526\n",
      "Objective first part 0.75336957\n",
      "Objective second part -0.03250571\n"
     ]
    },
    {
     "name": "stderr",
     "output_type": "stream",
     "text": [
      "\n",
      "  0%|          | 1454/473047 [19:59<16:48:34,  7.79it/s]\u001b[A\n",
      "  0%|          | 1455/473047 [19:59<16:40:27,  7.86it/s]\u001b[A"
     ]
    },
    {
     "name": "stdout",
     "output_type": "stream",
     "text": [
      "Objective 0.03479142\n",
      "Objective first part 0.0\n",
      "Objective second part -0.03479142\n",
      "Objective 0.039343424\n",
      "Objective first part 0.0\n",
      "Objective second part -0.039343424\n"
     ]
    },
    {
     "name": "stderr",
     "output_type": "stream",
     "text": [
      "\n",
      "  0%|          | 1456/473047 [20:00<16:20:38,  8.02it/s]\u001b[A\n",
      "  0%|          | 1458/473047 [20:00<13:49:45,  9.47it/s]\u001b[A"
     ]
    },
    {
     "name": "stdout",
     "output_type": "stream",
     "text": [
      "Objective 0.031204944\n",
      "Objective first part 0.0\n",
      "Objective second part -0.031204944\n",
      "Objective 0.037259478\n",
      "Objective first part 0.0\n",
      "Objective second part -0.037259478\n",
      "Objective 0.035732336\n",
      "Objective first part 0.0\n",
      "Objective second part -0.035732336\n",
      "Objective 0.79053384\n",
      "Objective first part 0.753962\n",
      "Objective second part -0.036571875\n"
     ]
    },
    {
     "name": "stderr",
     "output_type": "stream",
     "text": [
      "\n",
      "  0%|          | 1460/473047 [20:00<12:06:15, 10.82it/s]\u001b[A\n",
      "  0%|          | 1462/473047 [20:00<11:06:45, 11.79it/s]\u001b[A"
     ]
    },
    {
     "name": "stdout",
     "output_type": "stream",
     "text": [
      "Objective 0.7905768\n",
      "Objective first part 0.7551038\n",
      "Objective second part -0.035472985\n",
      "Objective 0.03883729\n",
      "Objective first part 0.0\n",
      "Objective second part -0.03883729\n",
      "Objective 0.03490906\n",
      "Objective first part 0.0\n",
      "Objective second part -0.03490906\n",
      "Objective 0.03562776\n",
      "Objective first part 0.0\n",
      "Objective second part -0.03562776\n"
     ]
    },
    {
     "name": "stderr",
     "output_type": "stream",
     "text": [
      "\n",
      "  0%|          | 1464/473047 [20:00<9:57:32, 13.15it/s] \u001b[A\n",
      "  0%|          | 1467/473047 [20:00<8:31:45, 15.36it/s]\u001b[A"
     ]
    },
    {
     "name": "stdout",
     "output_type": "stream",
     "text": [
      "Objective 0.037300497\n",
      "Objective first part 0.0\n",
      "Objective second part -0.037300497\n",
      "Objective 0.79314625\n",
      "Objective first part 0.7586539\n",
      "Objective second part -0.034492396\n",
      "Objective 0.78661823\n",
      "Objective first part 0.75540346\n",
      "Objective second part -0.031214783\n",
      "Objective 0.7952307\n",
      "Objective first part 0.76121384\n",
      "Objective second part -0.03401683\n",
      "Objective 0.79277885\n",
      "Objective first part 0.7551709\n",
      "Objective second part -0.03760798\n",
      "Objective 0.78742087\n",
      "Objective first part 0.7557228\n",
      "Objective second part -0.031698063\n"
     ]
    },
    {
     "name": "stderr",
     "output_type": "stream",
     "text": [
      "\n",
      "  0%|          | 1470/473047 [20:00<7:19:24, 17.89it/s]\u001b[A\n",
      "  0%|          | 1473/473047 [20:00<6:27:11, 20.30it/s]\u001b[A"
     ]
    },
    {
     "name": "stdout",
     "output_type": "stream",
     "text": [
      "Objective 0.78821355\n",
      "Objective first part 0.7543612\n",
      "Objective second part -0.033852316\n",
      "Objective 0.7915391\n",
      "Objective first part 0.75614077\n",
      "Objective second part -0.035398323\n",
      "Objective 0.037489407\n",
      "Objective first part 0.0\n",
      "Objective second part -0.037489407\n",
      "Objective 0.7861153\n",
      "Objective first part 0.7540796\n",
      "Objective second part -0.032035705\n",
      "Objective 0.7907779\n",
      "Objective first part 0.75485456\n",
      "Objective second part -0.035923358\n",
      "Objective 0.032382015\n",
      "Objective first part 0.0\n",
      "Objective second part -0.032382015\n",
      "Objective 0.032414585\n",
      "Objective first part 0.0\n",
      "Objective second part -0.032414585\n"
     ]
    },
    {
     "name": "stderr",
     "output_type": "stream",
     "text": [
      "\n",
      "  0%|          | 1477/473047 [20:01<5:48:58, 22.52it/s]\u001b[A\n",
      "  0%|          | 1480/473047 [20:01<5:26:00, 24.11it/s]\u001b[A"
     ]
    },
    {
     "name": "stdout",
     "output_type": "stream",
     "text": [
      "Objective 0.7908951\n",
      "Objective first part 0.7562088\n",
      "Objective second part -0.034686327\n",
      "Objective 0.034478698\n",
      "Objective first part 0.0\n",
      "Objective second part -0.034478698\n",
      "Objective 0.79512656\n",
      "Objective first part 0.7569244\n",
      "Objective second part -0.038202163\n",
      "Objective 0.78383476\n",
      "Objective first part 0.7542514\n",
      "Objective second part -0.029583313\n",
      "Objective 0.79478645\n",
      "Objective first part 0.75856453\n",
      "Objective second part -0.036221948\n"
     ]
    },
    {
     "name": "stderr",
     "output_type": "stream",
     "text": [
      "\n",
      "  0%|          | 1483/473047 [20:01<5:49:15, 22.50it/s]\u001b[A"
     ]
    },
    {
     "name": "stdout",
     "output_type": "stream",
     "text": [
      "Objective 0.789475\n",
      "Objective first part 0.75603205\n",
      "Objective second part -0.033442996\n",
      "Objective 0.7874071\n",
      "Objective first part 0.75458443\n",
      "Objective second part -0.03282268\n",
      "Objective 0.030139823\n",
      "Objective first part 0.0\n",
      "Objective second part -0.030139823\n"
     ]
    },
    {
     "name": "stderr",
     "output_type": "stream",
     "text": [
      "\n",
      "  0%|          | 1486/473047 [20:01<8:05:25, 16.19it/s]\u001b[A"
     ]
    },
    {
     "name": "stdout",
     "output_type": "stream",
     "text": [
      "Objective 0.78587615\n",
      "Objective first part 0.7540187\n",
      "Objective second part -0.031857423\n",
      "Objective 0.0381673\n",
      "Objective first part 0.0\n",
      "Objective second part -0.0381673\n"
     ]
    },
    {
     "name": "stderr",
     "output_type": "stream",
     "text": [
      "\n",
      "  0%|          | 1489/473047 [20:01<9:24:41, 13.92it/s]\u001b[A"
     ]
    },
    {
     "name": "stdout",
     "output_type": "stream",
     "text": [
      "Objective 0.029393744\n",
      "Objective first part 0.0\n",
      "Objective second part -0.029393744\n",
      "Objective 0.7879503\n",
      "Objective first part 0.7576284\n",
      "Objective second part -0.030321913\n",
      "Objective 0.7899826\n",
      "Objective first part 0.75439364\n",
      "Objective second part -0.035588972\n"
     ]
    },
    {
     "name": "stderr",
     "output_type": "stream",
     "text": [
      "\n",
      "  0%|          | 1491/473047 [20:02<11:38:40, 11.25it/s]\u001b[A"
     ]
    },
    {
     "name": "stdout",
     "output_type": "stream",
     "text": [
      "Objective 0.033419702\n",
      "Objective first part 0.0\n",
      "Objective second part -0.033419702\n",
      "Objective 0.7910279\n",
      "Objective first part 0.7555547\n",
      "Objective second part -0.03547323\n"
     ]
    },
    {
     "name": "stderr",
     "output_type": "stream",
     "text": [
      "\n",
      "  0%|          | 1493/473047 [20:02<13:09:54,  9.95it/s]\u001b[A"
     ]
    },
    {
     "name": "stdout",
     "output_type": "stream",
     "text": [
      "Objective 0.7893049\n",
      "Objective first part 0.75669694\n",
      "Objective second part -0.03260799\n",
      "Objective 0.033594005\n",
      "Objective first part 0.0\n",
      "Objective second part -0.033594005\n"
     ]
    },
    {
     "name": "stderr",
     "output_type": "stream",
     "text": [
      "\n",
      "  0%|          | 1495/473047 [20:02<14:11:53,  9.23it/s]\u001b[A"
     ]
    },
    {
     "name": "stdout",
     "output_type": "stream",
     "text": [
      "Objective 0.800088\n",
      "Objective first part 0.761449\n",
      "Objective second part -0.03863902\n",
      "Objective 0.03562498\n",
      "Objective first part 0.0\n",
      "Objective second part -0.03562498\n"
     ]
    },
    {
     "name": "stderr",
     "output_type": "stream",
     "text": [
      "\n",
      "  0%|          | 1497/473047 [20:02<15:01:04,  8.72it/s]\u001b[A"
     ]
    },
    {
     "name": "stdout",
     "output_type": "stream",
     "text": [
      "Objective 0.78800726\n",
      "Objective first part 0.755197\n",
      "Objective second part -0.0328103\n",
      "Objective 0.78677005\n",
      "Objective first part 0.7549656\n",
      "Objective second part -0.031804442\n"
     ]
    },
    {
     "name": "stderr",
     "output_type": "stream",
     "text": [
      "\n",
      "  0%|          | 1499/473047 [20:03<15:38:43,  8.37it/s]\u001b[A"
     ]
    },
    {
     "name": "stdout",
     "output_type": "stream",
     "text": [
      "Objective 0.7868677\n",
      "Objective first part 0.755828\n",
      "Objective second part -0.031039663\n",
      "Objective 0.035334844\n",
      "Objective first part 0.0\n",
      "Objective second part -0.035334844\n"
     ]
    },
    {
     "name": "stderr",
     "output_type": "stream",
     "text": [
      "\n",
      "  0%|          | 1500/473047 [20:03<16:06:21,  8.13it/s]\u001b[A"
     ]
    },
    {
     "name": "stdout",
     "output_type": "stream",
     "text": [
      "Objective 0.7879073\n",
      "Objective first part 0.75619805\n",
      "Objective second part -0.03170926\n",
      "train loss first part 1.2012033626308376e-09\n",
      "train loss second part -0.033640727\n"
     ]
    },
    {
     "name": "stderr",
     "output_type": "stream",
     "text": [
      "\n",
      "  0%|          | 1501/473047 [21:25<3261:04:37, 24.90s/it]\u001b[A\n",
      "  0%|          | 1502/473047 [21:26<2286:43:58, 17.46s/it]\u001b[A"
     ]
    },
    {
     "name": "stdout",
     "output_type": "stream",
     "text": [
      "Objective 0.029757932\n",
      "Objective first part 0.0\n",
      "Objective second part -0.029757932\n",
      "Objective 0.79147935\n",
      "Objective first part 0.7568809\n",
      "Objective second part -0.03459846\n",
      "Objective 0.02736594\n",
      "Objective first part 0.0\n",
      "Objective second part -0.02736594\n"
     ]
    },
    {
     "name": "stderr",
     "output_type": "stream",
     "text": [
      "\n",
      "  0%|          | 1504/473047 [21:26<1603:54:55, 12.25s/it]\u001b[A\n",
      "  0%|          | 1507/473047 [21:26<1124:12:34,  8.58s/it]\u001b[A"
     ]
    },
    {
     "name": "stdout",
     "output_type": "stream",
     "text": [
      "Objective 0.7857984\n",
      "Objective first part 0.75723577\n",
      "Objective second part -0.0285626\n",
      "Objective 0.7870499\n",
      "Objective first part 0.75428396\n",
      "Objective second part -0.032765895\n",
      "Objective 0.7864858\n",
      "Objective first part 0.75397754\n",
      "Objective second part -0.032508235\n",
      "Objective 0.033939626\n",
      "Objective first part 0.0\n",
      "Objective second part -0.033939626\n",
      "Objective 0.7905865\n",
      "Objective first part 0.756146\n",
      "Objective second part -0.03444045\n"
     ]
    },
    {
     "name": "stderr",
     "output_type": "stream",
     "text": [
      "\n",
      "  0%|          | 1510/473047 [21:26<788:49:35,  6.02s/it] \u001b[A\n",
      "  0%|          | 1512/473047 [21:26<554:34:19,  4.23s/it]\u001b[A"
     ]
    },
    {
     "name": "stdout",
     "output_type": "stream",
     "text": [
      "Objective 0.78434587\n",
      "Objective first part 0.75113636\n",
      "Objective second part -0.033209503\n",
      "Objective 0.7868119\n",
      "Objective first part 0.75747603\n",
      "Objective second part -0.029335862\n",
      "Objective 0.031490993\n",
      "Objective first part 0.0\n",
      "Objective second part -0.031490993\n",
      "Objective 0.7842573\n",
      "Objective first part 0.7531027\n",
      "Objective second part -0.031154582\n"
     ]
    },
    {
     "name": "stderr",
     "output_type": "stream",
     "text": [
      "\n",
      "  0%|          | 1514/473047 [21:26<390:40:31,  2.98s/it]\u001b[A\n",
      "  0%|          | 1516/473047 [21:26<275:33:57,  2.10s/it]\u001b[A"
     ]
    },
    {
     "name": "stdout",
     "output_type": "stream",
     "text": [
      "Objective 0.78794855\n",
      "Objective first part 0.75298893\n",
      "Objective second part -0.034959607\n",
      "Objective 0.039241076\n",
      "Objective first part 0.0\n",
      "Objective second part -0.039241076\n",
      "Objective 0.032328453\n",
      "Objective first part 0.0\n",
      "Objective second part -0.032328453\n",
      "Objective 0.03267025\n",
      "Objective first part 0.0\n",
      "Objective second part -0.03267025\n"
     ]
    },
    {
     "name": "stderr",
     "output_type": "stream",
     "text": [
      "\n",
      "  0%|          | 1519/473047 [21:26<194:22:29,  1.48s/it]\u001b[A\n",
      "  0%|          | 1522/473047 [21:27<137:25:22,  1.05s/it]\u001b[A"
     ]
    },
    {
     "name": "stdout",
     "output_type": "stream",
     "text": [
      "Objective 0.028642518\n",
      "Objective first part 0.0\n",
      "Objective second part -0.028642518\n",
      "Objective 0.7878081\n",
      "Objective first part 0.75387794\n",
      "Objective second part -0.03393019\n",
      "Objective 0.03429912\n",
      "Objective first part 0.0\n",
      "Objective second part -0.03429912\n",
      "Objective 0.78516924\n",
      "Objective first part 0.75257605\n",
      "Objective second part -0.03259321\n",
      "Objective 0.03135297\n",
      "Objective first part 0.0\n",
      "Objective second part -0.03135297\n",
      "Objective 0.79146314\n",
      "Objective first part 0.7568663\n",
      "Objective second part -0.034596853\n"
     ]
    },
    {
     "name": "stderr",
     "output_type": "stream",
     "text": [
      "\n",
      "  0%|          | 1525/473047 [21:27<97:32:10,  1.34it/s] \u001b[A\n",
      "  0%|          | 1528/473047 [21:27<69:36:29,  1.88it/s]\u001b[A"
     ]
    },
    {
     "name": "stdout",
     "output_type": "stream",
     "text": [
      "Objective 0.03079302\n",
      "Objective first part 0.0\n",
      "Objective second part -0.03079302\n",
      "Objective 0.031923022\n",
      "Objective first part 0.0\n",
      "Objective second part -0.031923022\n",
      "Objective 0.7884926\n",
      "Objective first part 0.754702\n",
      "Objective second part -0.03379066\n",
      "Objective 0.793105\n",
      "Objective first part 0.7545309\n",
      "Objective second part -0.038574096\n",
      "Objective 0.034566436\n",
      "Objective first part 0.0\n",
      "Objective second part -0.034566436\n",
      "Objective 0.031869546\n",
      "Objective first part 0.0\n",
      "Objective second part -0.031869546\n"
     ]
    },
    {
     "name": "stderr",
     "output_type": "stream",
     "text": [
      "\n",
      "  0%|          | 1532/473047 [21:27<50:02:40,  2.62it/s]\u001b[A"
     ]
    },
    {
     "name": "stdout",
     "output_type": "stream",
     "text": [
      "Objective 0.7967154\n",
      "Objective first part 0.75907505\n",
      "Objective second part -0.037640344\n",
      "Objective 0.031943575\n",
      "Objective first part 0.0\n",
      "Objective second part -0.031943575\n",
      "Objective 0.7909776\n",
      "Objective first part 0.75704765\n",
      "Objective second part -0.033929944\n",
      "Objective 0.79060745\n",
      "Objective first part 0.75795126\n",
      "Objective second part -0.032656208\n",
      "Objective 0.7883385\n",
      "Objective first part 0.7566503\n",
      "Objective second part -0.031688157\n"
     ]
    },
    {
     "name": "stderr",
     "output_type": "stream",
     "text": [
      "\n",
      "  0%|          | 1535/473047 [21:27<38:26:49,  3.41it/s]\u001b[A"
     ]
    },
    {
     "name": "stdout",
     "output_type": "stream",
     "text": [
      "Objective 0.7903003\n",
      "Objective first part 0.7575361\n",
      "Objective second part -0.03276417\n",
      "Objective 0.03201601\n",
      "Objective first part 0.0\n",
      "Objective second part -0.03201601\n",
      "Objective 0.03559694\n",
      "Objective first part 0.0\n",
      "Objective second part -0.03559694\n",
      "Objective 0.7899704\n",
      "Objective first part 0.7571611\n",
      "Objective second part -0.032809317\n"
     ]
    },
    {
     "name": "stderr",
     "output_type": "stream",
     "text": [
      "\n",
      "  0%|          | 1538/473047 [21:28<31:57:10,  4.10it/s]\u001b[A"
     ]
    },
    {
     "name": "stdout",
     "output_type": "stream",
     "text": [
      "Objective 0.78845537\n",
      "Objective first part 0.7547503\n",
      "Objective second part -0.033705026\n",
      "Objective 0.7930577\n",
      "Objective first part 0.7587872\n",
      "Objective second part -0.034270436\n"
     ]
    },
    {
     "name": "stderr",
     "output_type": "stream",
     "text": [
      "\n",
      "  0%|          | 1540/473047 [21:28<27:24:54,  4.78it/s]\u001b[A"
     ]
    },
    {
     "name": "stdout",
     "output_type": "stream",
     "text": [
      "Objective 0.03365719\n",
      "Objective first part 0.0\n",
      "Objective second part -0.03365719\n",
      "Objective 0.786485\n",
      "Objective first part 0.75261396\n",
      "Objective second part -0.03387106\n"
     ]
    },
    {
     "name": "stderr",
     "output_type": "stream",
     "text": [
      "\n",
      "  0%|          | 1542/473047 [21:28<24:08:58,  5.42it/s]\u001b[A"
     ]
    },
    {
     "name": "stdout",
     "output_type": "stream",
     "text": [
      "Objective 0.78912735\n",
      "Objective first part 0.7593338\n",
      "Objective second part -0.029793547\n",
      "Objective 0.03684159\n",
      "Objective first part 0.0\n",
      "Objective second part -0.03684159\n"
     ]
    },
    {
     "name": "stderr",
     "output_type": "stream",
     "text": [
      "\n",
      "  0%|          | 1544/473047 [21:28<21:54:09,  5.98it/s]\u001b[A\n",
      "  0%|          | 1546/473047 [21:29<19:36:47,  6.68it/s]\u001b[A"
     ]
    },
    {
     "name": "stdout",
     "output_type": "stream",
     "text": [
      "Objective 0.034290235\n",
      "Objective first part 0.0\n",
      "Objective second part -0.034290235\n",
      "Objective 0.02928676\n",
      "Objective first part 0.0\n",
      "Objective second part -0.02928676\n"
     ]
    },
    {
     "name": "stderr",
     "output_type": "stream",
     "text": [
      "\n",
      "  0%|          | 1548/473047 [21:29<17:22:46,  7.54it/s]\u001b[A"
     ]
    },
    {
     "name": "stdout",
     "output_type": "stream",
     "text": [
      "Objective 0.7923268\n",
      "Objective first part 0.7601358\n",
      "Objective second part -0.032190993\n",
      "Objective 0.029194945\n",
      "Objective first part 0.0\n",
      "Objective second part -0.029194945\n",
      "Objective 0.029227842\n",
      "Objective first part 0.0\n",
      "Objective second part -0.029227842\n"
     ]
    },
    {
     "name": "stderr",
     "output_type": "stream",
     "text": [
      "\n",
      "  0%|          | 1550/473047 [21:29<16:01:35,  8.17it/s]\u001b[A"
     ]
    },
    {
     "name": "stdout",
     "output_type": "stream",
     "text": [
      "Objective 0.7895972\n",
      "Objective first part 0.7571828\n",
      "Objective second part -0.032414462\n",
      "Objective 0.03369208\n",
      "Objective first part 0.0\n",
      "Objective second part -0.03369208\n"
     ]
    },
    {
     "name": "stderr",
     "output_type": "stream",
     "text": [
      "\n",
      "  0%|          | 1552/473047 [21:29<15:47:34,  8.29it/s]\u001b[A"
     ]
    },
    {
     "name": "stdout",
     "output_type": "stream",
     "text": [
      "Objective 0.030676544\n",
      "Objective first part 0.0\n",
      "Objective second part -0.030676544\n",
      "Objective 0.7914332\n",
      "Objective first part 0.7587604\n",
      "Objective second part -0.032672837\n"
     ]
    },
    {
     "name": "stderr",
     "output_type": "stream",
     "text": [
      "\n",
      "  0%|          | 1553/473047 [21:29<15:46:56,  8.30it/s]\u001b[A\n",
      "  0%|          | 1554/473047 [21:29<15:51:29,  8.26it/s]\u001b[A"
     ]
    },
    {
     "name": "stdout",
     "output_type": "stream",
     "text": [
      "Objective 0.7801551\n",
      "Objective first part 0.75487703\n",
      "Objective second part -0.025278108\n",
      "Objective 0.030704387\n",
      "Objective first part 0.0\n",
      "Objective second part -0.030704387\n"
     ]
    },
    {
     "name": "stderr",
     "output_type": "stream",
     "text": [
      "\n",
      "  0%|          | 1555/473047 [21:30<15:37:42,  8.38it/s]\u001b[A\n",
      "  0%|          | 1556/473047 [21:30<15:50:07,  8.27it/s]\u001b[A"
     ]
    },
    {
     "name": "stdout",
     "output_type": "stream",
     "text": [
      "Objective 0.788\n",
      "Objective first part 0.7575555\n",
      "Objective second part -0.030444492\n",
      "Objective 0.031702615\n",
      "Objective first part 0.0\n",
      "Objective second part -0.031702615\n"
     ]
    },
    {
     "name": "stderr",
     "output_type": "stream",
     "text": [
      "\n",
      "  0%|          | 1557/473047 [21:30<16:10:46,  8.09it/s]\u001b[A\n",
      "  0%|          | 1558/473047 [21:30<16:37:10,  7.88it/s]\u001b[A"
     ]
    },
    {
     "name": "stdout",
     "output_type": "stream",
     "text": [
      "Objective 0.79301167\n",
      "Objective first part 0.759862\n",
      "Objective second part -0.033149675\n",
      "Objective 0.029127808\n",
      "Objective first part 0.0\n",
      "Objective second part -0.029127808\n"
     ]
    },
    {
     "name": "stderr",
     "output_type": "stream",
     "text": [
      "\n",
      "  0%|          | 1559/473047 [21:30<16:24:28,  7.98it/s]\u001b[A\n",
      "  0%|          | 1560/473047 [21:30<16:34:33,  7.90it/s]\u001b[A"
     ]
    },
    {
     "name": "stdout",
     "output_type": "stream",
     "text": [
      "Objective 0.031726487\n",
      "Objective first part 0.0\n",
      "Objective second part -0.031726487\n",
      "Objective 0.03319071\n",
      "Objective first part 0.0\n",
      "Objective second part -0.03319071\n"
     ]
    },
    {
     "name": "stderr",
     "output_type": "stream",
     "text": [
      "\n",
      "  0%|          | 1561/473047 [21:30<16:43:58,  7.83it/s]\u001b[A\n",
      "  0%|          | 1562/473047 [21:30<16:51:28,  7.77it/s]\u001b[A"
     ]
    },
    {
     "name": "stdout",
     "output_type": "stream",
     "text": [
      "Objective 0.79492867\n",
      "Objective first part 0.7591872\n",
      "Objective second part -0.03574142\n",
      "Objective 0.7899186\n",
      "Objective first part 0.7597834\n",
      "Objective second part -0.030135214\n"
     ]
    },
    {
     "name": "stderr",
     "output_type": "stream",
     "text": [
      "\n",
      "  0%|          | 1563/473047 [21:31<16:59:32,  7.71it/s]\u001b[A\n",
      "  0%|          | 1564/473047 [21:31<16:49:55,  7.78it/s]\u001b[A"
     ]
    },
    {
     "name": "stdout",
     "output_type": "stream",
     "text": [
      "Objective 0.79229766\n",
      "Objective first part 0.75673616\n",
      "Objective second part -0.035561487\n",
      "Objective 0.028948328\n",
      "Objective first part 0.0\n",
      "Objective second part -0.028948328\n",
      "Objective 0.03040621\n",
      "Objective first part 0.0\n",
      "Objective second part -0.03040621\n"
     ]
    },
    {
     "name": "stderr",
     "output_type": "stream",
     "text": [
      "\n",
      "  0%|          | 1566/473047 [21:31<14:16:13,  9.18it/s]\u001b[A\n",
      "  0%|          | 1568/473047 [21:31<12:29:02, 10.49it/s]\u001b[A"
     ]
    },
    {
     "name": "stdout",
     "output_type": "stream",
     "text": [
      "Objective 0.78550434\n",
      "Objective first part 0.75858724\n",
      "Objective second part -0.026917078\n",
      "Objective 0.026975984\n",
      "Objective first part 0.0\n",
      "Objective second part -0.026975984\n",
      "Objective 0.79720956\n",
      "Objective first part 0.761444\n",
      "Objective second part -0.03576557\n",
      "Objective 0.7907147\n",
      "Objective first part 0.75390047\n",
      "Objective second part -0.036814194\n"
     ]
    },
    {
     "name": "stderr",
     "output_type": "stream",
     "text": [
      "\n",
      "  0%|          | 1570/473047 [21:31<10:53:37, 12.02it/s]\u001b[A\n",
      "  0%|          | 1572/473047 [21:31<10:01:49, 13.06it/s]\u001b[A"
     ]
    },
    {
     "name": "stdout",
     "output_type": "stream",
     "text": [
      "Objective 0.032126363\n",
      "Objective first part 0.0\n",
      "Objective second part -0.032126363\n",
      "Objective 0.03083027\n",
      "Objective first part 0.0\n",
      "Objective second part -0.03083027\n",
      "Objective 0.78308916\n",
      "Objective first part 0.753574\n",
      "Objective second part -0.029515166\n",
      "Objective 0.033319432\n",
      "Objective first part 0.0\n",
      "Objective second part -0.033319432\n"
     ]
    },
    {
     "name": "stderr",
     "output_type": "stream",
     "text": [
      "\n",
      "  0%|          | 1575/473047 [21:31<8:45:31, 14.95it/s] \u001b[A\n",
      "  0%|          | 1578/473047 [21:31<7:34:36, 17.28it/s]\u001b[A"
     ]
    },
    {
     "name": "stdout",
     "output_type": "stream",
     "text": [
      "Objective 0.7845017\n",
      "Objective first part 0.75757796\n",
      "Objective second part -0.02692369\n",
      "Objective 0.031360783\n",
      "Objective first part 0.0\n",
      "Objective second part -0.031360783\n",
      "Objective 0.78632045\n",
      "Objective first part 0.7547667\n",
      "Objective second part -0.031553738\n",
      "Objective 0.79291993\n",
      "Objective first part 0.76023966\n",
      "Objective second part -0.032680288\n",
      "Objective 0.78260005\n",
      "Objective first part 0.7561924\n",
      "Objective second part -0.026407644\n",
      "Objective 0.7851272\n",
      "Objective first part 0.75600266\n",
      "Objective second part -0.029124556\n"
     ]
    },
    {
     "name": "stderr",
     "output_type": "stream",
     "text": [
      "\n",
      "  0%|          | 1581/473047 [21:32<6:46:35, 19.33it/s]\u001b[A\n",
      "  0%|          | 1585/473047 [21:32<6:04:28, 21.56it/s]\u001b[A"
     ]
    },
    {
     "name": "stdout",
     "output_type": "stream",
     "text": [
      "Objective 0.7883303\n",
      "Objective first part 0.75761336\n",
      "Objective second part -0.030716985\n",
      "Objective 0.031306047\n",
      "Objective first part 0.0\n",
      "Objective second part -0.031306047\n",
      "Objective 0.031911388\n",
      "Objective first part 0.0\n",
      "Objective second part -0.031911388\n",
      "Objective 0.7944831\n",
      "Objective first part 0.76194245\n",
      "Objective second part -0.032540686\n",
      "Objective 0.027291697\n",
      "Objective first part 0.0\n",
      "Objective second part -0.027291697\n",
      "Objective 0.79106855\n",
      "Objective first part 0.75870025\n",
      "Objective second part -0.032368287\n"
     ]
    },
    {
     "name": "stderr",
     "output_type": "stream",
     "text": [
      "\n",
      "  0%|          | 1588/473047 [21:32<5:36:58, 23.32it/s]\u001b[A\n",
      "  0%|          | 1594/473047 [21:32<4:40:51, 27.98it/s]\u001b[A"
     ]
    },
    {
     "name": "stdout",
     "output_type": "stream",
     "text": [
      "Objective 0.029535733\n",
      "Objective first part 0.0\n",
      "Objective second part -0.029535733\n",
      "Objective 0.02788622\n",
      "Objective first part 0.0\n",
      "Objective second part -0.02788622\n",
      "Objective 0.7914467\n",
      "Objective first part 0.75827426\n",
      "Objective second part -0.03317241\n",
      "Objective 0.030085213\n",
      "Objective first part 0.0\n",
      "Objective second part -0.030085213\n",
      "Objective 0.028561067\n",
      "Objective first part 0.0\n",
      "Objective second part -0.028561067\n",
      "Objective 0.79232025\n",
      "Objective first part 0.75963223\n",
      "Objective second part -0.032688048\n",
      "Objective 0.02623679\n",
      "Objective first part 0.0\n",
      "Objective second part -0.02623679\n",
      "Objective 0.02903969\n",
      "Objective first part 0.0\n",
      "Objective second part -0.02903969\n",
      "Objective 0.036635987\n",
      "Objective first part 0.0\n",
      "Objective second part -0.036635987\n",
      "Objective 0.029893402\n"
     ]
    },
    {
     "name": "stderr",
     "output_type": "stream",
     "text": [
      "\n",
      "  0%|          | 1599/473047 [21:32<4:06:45, 31.84it/s]\u001b[A"
     ]
    },
    {
     "name": "stdout",
     "output_type": "stream",
     "text": [
      "Objective first part 0.0\n",
      "Objective second part -0.029893402\n",
      "Objective 0.029318614\n",
      "Objective first part 0.0\n",
      "Objective second part -0.029318614\n",
      "Objective 0.025243571\n",
      "Objective first part 0.0\n",
      "Objective second part -0.025243571\n",
      "Objective 0.7867317\n",
      "Objective first part 0.75672585\n",
      "Objective second part -0.030005855\n",
      "Objective 0.79256773\n",
      "Objective first part 0.75903976\n",
      "Objective second part -0.03352799\n",
      "Objective 0.7853385\n",
      "Objective first part 0.7570911\n",
      "Objective second part -0.028247405\n"
     ]
    },
    {
     "name": "stderr",
     "output_type": "stream",
     "text": [
      "\n",
      "  0%|          | 1599/473047 [21:43<4:06:45, 31.84it/s]\u001b[A"
     ]
    },
    {
     "name": "stdout",
     "output_type": "stream",
     "text": [
      "train loss first part 1.2050583997702695e-09\n",
      "train loss second part -0.030513776\n"
     ]
    },
    {
     "name": "stderr",
     "output_type": "stream",
     "text": [
      "\n",
      "  0%|          | 1601/473047 [22:52<1580:31:05, 12.07s/it]\u001b[A\n",
      "  0%|          | 1602/473047 [22:52<1111:09:09,  8.48s/it]\u001b[A"
     ]
    },
    {
     "name": "stdout",
     "output_type": "stream",
     "text": [
      "Objective 0.029605782\n",
      "Objective first part 0.0\n",
      "Objective second part -0.029605782\n",
      "Objective 0.02745385\n",
      "Objective first part 0.0\n",
      "Objective second part -0.02745385\n"
     ]
    },
    {
     "name": "stderr",
     "output_type": "stream",
     "text": [
      "\n",
      "  0%|          | 1603/473047 [22:53<782:28:35,  5.98s/it] \u001b[A\n",
      "  0%|          | 1604/473047 [22:53<552:32:51,  4.22s/it]\u001b[A"
     ]
    },
    {
     "name": "stdout",
     "output_type": "stream",
     "text": [
      "Objective 0.027310746\n",
      "Objective first part 0.0\n",
      "Objective second part -0.027310746\n",
      "Objective 0.026628539\n",
      "Objective first part 0.0\n",
      "Objective second part -0.026628539\n"
     ]
    },
    {
     "name": "stderr",
     "output_type": "stream",
     "text": [
      "\n",
      "  0%|          | 1605/473047 [22:53<390:49:04,  2.98s/it]\u001b[A\n",
      "  0%|          | 1608/473047 [22:53<275:19:07,  2.10s/it]\u001b[A"
     ]
    },
    {
     "name": "stdout",
     "output_type": "stream",
     "text": [
      "Objective 0.78465974\n",
      "Objective first part 0.75818217\n",
      "Objective second part -0.026477598\n",
      "Objective 0.028339807\n",
      "Objective first part 0.0\n",
      "Objective second part -0.028339807\n",
      "Objective 0.78466713\n",
      "Objective first part 0.757805\n",
      "Objective second part -0.026862156\n",
      "Objective 0.78685683\n",
      "Objective first part 0.7596104\n",
      "Objective second part -0.02724643\n",
      "Objective 0.027273014\n",
      "Objective first part 0.0\n",
      "Objective second part -0.027273014\n"
     ]
    },
    {
     "name": "stderr",
     "output_type": "stream",
     "text": [
      "\n",
      "  0%|          | 1611/473047 [22:53<194:27:59,  1.48s/it]\u001b[A\n",
      "  0%|          | 1614/473047 [22:53<137:59:30,  1.05s/it]\u001b[A"
     ]
    },
    {
     "name": "stdout",
     "output_type": "stream",
     "text": [
      "Objective 0.78661007\n",
      "Objective first part 0.7603965\n",
      "Objective second part -0.0262136\n",
      "Objective 0.7882878\n",
      "Objective first part 0.75887\n",
      "Objective second part -0.029417807\n",
      "Objective 0.027632449\n",
      "Objective first part 0.0\n",
      "Objective second part -0.027632449\n",
      "Objective 0.029684372\n",
      "Objective first part 0.0\n",
      "Objective second part -0.029684372\n",
      "Objective 0.78519297\n",
      "Objective first part 0.7580769\n",
      "Objective second part -0.027116036\n"
     ]
    },
    {
     "name": "stderr",
     "output_type": "stream",
     "text": [
      "\n",
      "  0%|          | 1618/473047 [22:53<97:46:17,  1.34it/s] \u001b[A\n",
      "  0%|          | 1623/473047 [22:53<69:23:31,  1.89it/s]\u001b[A"
     ]
    },
    {
     "name": "stdout",
     "output_type": "stream",
     "text": [
      "Objective 0.033473197\n",
      "Objective first part 0.0\n",
      "Objective second part -0.033473197\n",
      "Objective 0.030663699\n",
      "Objective first part 0.0\n",
      "Objective second part -0.030663699\n",
      "Objective 0.78553736\n",
      "Objective first part 0.7584739\n",
      "Objective second part -0.02706349\n",
      "Objective 0.030997485\n",
      "Objective first part 0.0\n",
      "Objective second part -0.030997485\n",
      "Objective 0.029629972\n",
      "Objective first part 0.0\n",
      "Objective second part -0.029629972\n",
      "Objective 0.7877756\n",
      "Objective first part 0.75909656\n",
      "Objective second part -0.028679015\n",
      "Objective 0.032021977\n",
      "Objective first part 0.0\n",
      "Objective second part -0.032021977\n",
      "Objective 0.7903101\n",
      "Objective first part 0.7589567\n",
      "Objective second part -0.031353403\n",
      "Objective 0.7898081\n",
      "Objective first part 0.75806934\n",
      "Objective second part -0.031738732\n"
     ]
    },
    {
     "name": "stderr",
     "output_type": "stream",
     "text": [
      "\n",
      "  0%|          | 1627/473047 [22:54<49:33:32,  2.64it/s]\u001b[A\n",
      "  0%|          | 1632/473047 [22:54<35:38:39,  3.67it/s]\u001b[A"
     ]
    },
    {
     "name": "stdout",
     "output_type": "stream",
     "text": [
      "Objective 0.7874041\n",
      "Objective first part 0.75663215\n",
      "Objective second part -0.030771997\n",
      "Objective 0.028672881\n",
      "Objective first part 0.0\n",
      "Objective second part -0.028672881\n",
      "Objective 0.79160535\n",
      "Objective first part 0.7595777\n",
      "Objective second part -0.03202764\n",
      "Objective 0.79333496\n",
      "Objective first part 0.7577975\n",
      "Objective second part -0.035537463\n",
      "Objective 0.029286515\n",
      "Objective first part 0.0\n",
      "Objective second part -0.029286515\n",
      "Objective 0.7873026\n",
      "Objective first part 0.75964004\n",
      "Objective second part -0.027662596\n",
      "Objective 0.7833038\n",
      "Objective first part 0.7551651\n",
      "Objective second part -0.028138705\n",
      "Objective 0.7851071\n",
      "Objective first part 0.75768733\n",
      "Objective second part -0.027419725\n",
      "Objective 0.79247195\n",
      "Objective first part 0.7606085\n",
      "Objective second part -0.031863455\n"
     ]
    },
    {
     "name": "stderr",
     "output_type": "stream",
     "text": [
      "\n",
      "  0%|          | 1637/473047 [22:54<25:53:37,  5.06it/s]\u001b[A"
     ]
    },
    {
     "name": "stdout",
     "output_type": "stream",
     "text": [
      "Objective 0.024859453\n",
      "Objective first part 0.0\n",
      "Objective second part -0.024859453\n",
      "Objective 0.79342335\n",
      "Objective first part 0.7597692\n",
      "Objective second part -0.03365417\n",
      "Objective 0.79183847\n",
      "Objective first part 0.758122\n",
      "Objective second part -0.033716433\n",
      "Objective 0.78234833\n",
      "Objective first part 0.7580815\n",
      "Objective second part -0.024266848\n",
      "Objective 0.7942285\n",
      "Objective first part 0.758837\n",
      "Objective second part -0.035391532\n",
      "Objective 0.7891567\n",
      "Objective first part 0.7591295\n",
      "Objective second part -0.030027168\n",
      "Objective 0.78992116\n",
      "Objective first part 0.76104605\n",
      "Objective second part -0.028875135\n",
      "Objective 0.02891575\n",
      "Objective first part 0.0\n",
      "Objective second part -0.02891575\n"
     ]
    },
    {
     "name": "stderr",
     "output_type": "stream",
     "text": [
      "\n",
      "  0%|          | 1641/473047 [22:54<19:40:29,  6.66it/s]\u001b[A"
     ]
    },
    {
     "name": "stdout",
     "output_type": "stream",
     "text": [
      "Objective 0.028631048\n",
      "Objective first part 0.0\n",
      "Objective second part -0.028631048\n",
      "Objective 0.030343417\n",
      "Objective first part 0.0\n",
      "Objective second part -0.030343417\n",
      "Objective 0.7927126\n",
      "Objective first part 0.76157075\n",
      "Objective second part -0.031141853\n"
     ]
    },
    {
     "name": "stderr",
     "output_type": "stream",
     "text": [
      "\n",
      "  0%|          | 1645/473047 [22:54<17:15:28,  7.59it/s]\u001b[A"
     ]
    },
    {
     "name": "stdout",
     "output_type": "stream",
     "text": [
      "Objective 0.78773296\n",
      "Objective first part 0.75722456\n",
      "Objective second part -0.030508399\n",
      "Objective 0.7920096\n",
      "Objective first part 0.76041234\n",
      "Objective second part -0.03159723\n",
      "Objective 0.03270375\n",
      "Objective first part 0.0\n",
      "Objective second part -0.03270375\n",
      "Objective 0.784905\n",
      "Objective first part 0.75906783\n",
      "Objective second part -0.025837181\n"
     ]
    },
    {
     "name": "stderr",
     "output_type": "stream",
     "text": [
      "\n",
      "  0%|          | 1648/473047 [22:55<16:48:37,  7.79it/s]\u001b[A"
     ]
    },
    {
     "name": "stdout",
     "output_type": "stream",
     "text": [
      "Objective 0.7875678\n",
      "Objective first part 0.7593586\n",
      "Objective second part -0.02820921\n",
      "Objective 0.7916582\n",
      "Objective first part 0.75878674\n",
      "Objective second part -0.032871466\n"
     ]
    },
    {
     "name": "stderr",
     "output_type": "stream",
     "text": [
      "\n",
      "  0%|          | 1651/473047 [22:55<16:13:42,  8.07it/s]\u001b[A"
     ]
    },
    {
     "name": "stdout",
     "output_type": "stream",
     "text": [
      "Objective 0.7872575\n",
      "Objective first part 0.7595237\n",
      "Objective second part -0.027733801\n",
      "Objective 0.7842234\n",
      "Objective first part 0.7565791\n",
      "Objective second part -0.027644275\n"
     ]
    },
    {
     "name": "stderr",
     "output_type": "stream",
     "text": [
      "\n",
      "  0%|          | 1653/473047 [22:55<15:46:32,  8.30it/s]\u001b[A"
     ]
    },
    {
     "name": "stdout",
     "output_type": "stream",
     "text": [
      "Objective 0.7925096\n",
      "Objective first part 0.75965405\n",
      "Objective second part -0.032855574\n",
      "Objective 0.028776549\n",
      "Objective first part 0.0\n",
      "Objective second part -0.028776549\n"
     ]
    },
    {
     "name": "stderr",
     "output_type": "stream",
     "text": [
      "\n",
      "  0%|          | 1655/473047 [22:55<15:37:38,  8.38it/s]\u001b[A"
     ]
    },
    {
     "name": "stdout",
     "output_type": "stream",
     "text": [
      "Objective 0.028081201\n",
      "Objective first part 0.0\n",
      "Objective second part -0.028081201\n",
      "Objective 0.7879181\n",
      "Objective first part 0.75852287\n",
      "Objective second part -0.029395217\n"
     ]
    },
    {
     "name": "stderr",
     "output_type": "stream",
     "text": [
      "\n",
      "  0%|          | 1657/473047 [22:56<15:36:02,  8.39it/s]\u001b[A"
     ]
    },
    {
     "name": "stdout",
     "output_type": "stream",
     "text": [
      "Objective 0.78763515\n",
      "Objective first part 0.7619391\n",
      "Objective second part -0.025696024\n",
      "Objective 0.03251279\n",
      "Objective first part 0.0\n",
      "Objective second part -0.03251279\n"
     ]
    },
    {
     "name": "stderr",
     "output_type": "stream",
     "text": [
      "\n",
      "  0%|          | 1659/473047 [22:56<15:32:17,  8.43it/s]\u001b[A"
     ]
    },
    {
     "name": "stdout",
     "output_type": "stream",
     "text": [
      "Objective 0.7859054\n",
      "Objective first part 0.7576882\n",
      "Objective second part -0.02821718\n",
      "Objective 0.028669078\n",
      "Objective first part 0.0\n",
      "Objective second part -0.028669078\n"
     ]
    },
    {
     "name": "stderr",
     "output_type": "stream",
     "text": [
      "\n",
      "  0%|          | 1661/473047 [22:56<15:23:45,  8.50it/s]\u001b[A"
     ]
    },
    {
     "name": "stdout",
     "output_type": "stream",
     "text": [
      "Objective 0.7874837\n",
      "Objective first part 0.7585669\n",
      "Objective second part -0.028916793\n",
      "Objective 0.790372\n",
      "Objective first part 0.7573723\n",
      "Objective second part -0.032999717\n"
     ]
    },
    {
     "name": "stderr",
     "output_type": "stream",
     "text": [
      "\n",
      "  0%|          | 1663/473047 [22:56<15:35:16,  8.40it/s]\u001b[A"
     ]
    },
    {
     "name": "stdout",
     "output_type": "stream",
     "text": [
      "Objective 0.02692614\n",
      "Objective first part 0.0\n",
      "Objective second part -0.02692614\n",
      "Objective 0.79012525\n",
      "Objective first part 0.7571515\n",
      "Objective second part -0.03297378\n"
     ]
    },
    {
     "name": "stderr",
     "output_type": "stream",
     "text": [
      "\n",
      "  0%|          | 1664/473047 [22:56<15:24:49,  8.50it/s]\u001b[A\n",
      "  0%|          | 1665/473047 [22:57<15:31:33,  8.43it/s]\u001b[A"
     ]
    },
    {
     "name": "stdout",
     "output_type": "stream",
     "text": [
      "Objective 0.030212125\n",
      "Objective first part 0.0\n",
      "Objective second part -0.030212125\n",
      "Objective 0.78413117\n",
      "Objective first part 0.75648445\n",
      "Objective second part -0.027646726\n"
     ]
    },
    {
     "name": "stderr",
     "output_type": "stream",
     "text": [
      "\n",
      "  0%|          | 1666/473047 [22:57<15:31:07,  8.44it/s]\u001b[A\n",
      "  0%|          | 1667/473047 [22:57<15:43:25,  8.33it/s]\u001b[A"
     ]
    },
    {
     "name": "stdout",
     "output_type": "stream",
     "text": [
      "Objective 0.78720313\n",
      "Objective first part 0.75807804\n",
      "Objective second part -0.02912511\n",
      "Objective 0.7925252\n",
      "Objective first part 0.76191986\n",
      "Objective second part -0.030605312\n"
     ]
    },
    {
     "name": "stderr",
     "output_type": "stream",
     "text": [
      "\n",
      "  0%|          | 1668/473047 [22:57<15:36:10,  8.39it/s]\u001b[A\n",
      "  0%|          | 1669/473047 [22:57<15:33:57,  8.41it/s]\u001b[A"
     ]
    },
    {
     "name": "stdout",
     "output_type": "stream",
     "text": [
      "Objective 0.029873319\n",
      "Objective first part 0.0\n",
      "Objective second part -0.029873319\n",
      "Objective 0.7887764\n",
      "Objective first part 0.7583787\n",
      "Objective second part -0.030397732\n"
     ]
    },
    {
     "name": "stderr",
     "output_type": "stream",
     "text": [
      "\n",
      "  0%|          | 1670/473047 [22:57<16:05:26,  8.14it/s]\u001b[A\n",
      "  0%|          | 1671/473047 [22:57<15:55:11,  8.22it/s]\u001b[A"
     ]
    },
    {
     "name": "stdout",
     "output_type": "stream",
     "text": [
      "Objective 0.78661305\n",
      "Objective first part 0.7592899\n",
      "Objective second part -0.02732312\n",
      "Objective 0.78746474\n",
      "Objective first part 0.75985175\n",
      "Objective second part -0.027612964\n"
     ]
    },
    {
     "name": "stderr",
     "output_type": "stream",
     "text": [
      "\n",
      "  0%|          | 1672/473047 [22:57<15:48:22,  8.28it/s]\u001b[A\n",
      "  0%|          | 1673/473047 [22:58<15:05:46,  8.67it/s]\u001b[A\n",
      "  0%|          | 1675/473047 [22:58<12:49:09, 10.21it/s]\u001b[A"
     ]
    },
    {
     "name": "stdout",
     "output_type": "stream",
     "text": [
      "Objective 0.78798795\n",
      "Objective first part 0.7591462\n",
      "Objective second part -0.02884176\n",
      "Objective 0.029872276\n",
      "Objective first part 0.0\n",
      "Objective second part -0.029872276\n",
      "Objective 0.79112136\n",
      "Objective first part 0.7608028\n",
      "Objective second part -0.030318534\n"
     ]
    },
    {
     "name": "stderr",
     "output_type": "stream",
     "text": [
      "\n",
      "  0%|          | 1677/473047 [22:58<10:57:11, 11.95it/s]\u001b[A\n"
     ]
    },
    {
     "name": "stdout",
     "output_type": "stream",
     "text": [
      "Objective 0.028922683\n",
      "Objective first part 0.0\n",
      "Objective second part -0.028922683\n",
      "Objective 0.78478926\n",
      "Objective first part 0.7606396\n",
      "Objective second part -0.024149666\n",
      "Objective 0.7826094\n",
      "Objective first part 0.7565491\n",
      "Objective second part -0.026060274\n",
      "Objective 0.78842956\n",
      "Objective first part 0.75777256\n",
      "Objective second part -0.030656999\n"
     ]
    },
    {
     "name": "stderr",
     "output_type": "stream",
     "text": [
      "  0%|          | 1679/473047 [22:58<9:48:30, 13.35it/s] \u001b[A\n",
      "  0%|          | 1681/473047 [22:58<9:16:54, 14.11it/s]\u001b[A"
     ]
    },
    {
     "name": "stdout",
     "output_type": "stream",
     "text": [
      "Objective 0.7789575\n",
      "Objective first part 0.7543433\n",
      "Objective second part -0.024614207\n",
      "Objective 0.027876595\n",
      "Objective first part 0.0\n",
      "Objective second part -0.027876595\n",
      "Objective 0.7909642\n",
      "Objective first part 0.7601218\n",
      "Objective second part -0.03084238\n",
      "Objective 0.02811737\n",
      "Objective first part 0.0\n",
      "Objective second part -0.02811737\n"
     ]
    },
    {
     "name": "stderr",
     "output_type": "stream",
     "text": [
      "\n",
      "  0%|          | 1684/473047 [22:58<8:12:40, 15.95it/s]\u001b[A\n",
      "  0%|          | 1687/473047 [22:58<7:17:05, 17.97it/s]\u001b[A"
     ]
    },
    {
     "name": "stdout",
     "output_type": "stream",
     "text": [
      "Objective 0.79411286\n",
      "Objective first part 0.7629024\n",
      "Objective second part -0.031210478\n",
      "Objective 0.02696037\n",
      "Objective first part 0.0\n",
      "Objective second part -0.02696037\n",
      "Objective 0.78953177\n",
      "Objective first part 0.75921035\n",
      "Objective second part -0.030321421\n",
      "Objective 0.7897538\n",
      "Objective first part 0.7598506\n",
      "Objective second part -0.029903166\n",
      "Objective 0.02794273\n",
      "Objective first part 0.0\n",
      "Objective second part -0.02794273\n",
      "Objective 0.029091543\n",
      "Objective first part 0.0\n",
      "Objective second part -0.029091543\n"
     ]
    },
    {
     "name": "stderr",
     "output_type": "stream",
     "text": [
      "\n",
      "  0%|          | 1691/473047 [22:58<6:22:36, 20.53it/s]\u001b[A\n",
      "  0%|          | 1694/473047 [22:58<5:48:40, 22.53it/s]\u001b[A"
     ]
    },
    {
     "name": "stdout",
     "output_type": "stream",
     "text": [
      "Objective 0.028588912\n",
      "Objective first part 0.0\n",
      "Objective second part -0.028588912\n",
      "Objective 0.026251903\n",
      "Objective first part 0.0\n",
      "Objective second part -0.026251903\n",
      "Objective 0.78518164\n",
      "Objective first part 0.75805354\n",
      "Objective second part -0.0271281\n",
      "Objective 0.027453052\n",
      "Objective first part 0.0\n",
      "Objective second part -0.027453052\n",
      "Objective 0.027138697\n",
      "Objective first part 0.0\n",
      "Objective second part -0.027138697\n",
      "Objective 0.026208704\n",
      "Objective first part 0.0\n",
      "Objective second part -0.026208704\n",
      "Objective 0.7941361\n",
      "Objective first part 0.76383364\n",
      "Objective second part -0.030302437\n"
     ]
    },
    {
     "name": "stderr",
     "output_type": "stream",
     "text": [
      "\n",
      "  0%|          | 1698/473047 [22:59<5:13:22, 25.07it/s]\u001b[A"
     ]
    },
    {
     "name": "stdout",
     "output_type": "stream",
     "text": [
      "Objective 0.029757809\n",
      "Objective first part 0.0\n",
      "Objective second part -0.029757809\n",
      "Objective 0.7871744\n",
      "Objective first part 0.7592789\n",
      "Objective second part -0.027895534\n",
      "Objective 0.029503318\n",
      "Objective first part 0.0\n",
      "Objective second part -0.029503318\n",
      "Objective 0.78626\n",
      "Objective first part 0.7593116\n",
      "Objective second part -0.026948366\n",
      "Objective 0.781459\n",
      "Objective first part 0.7563431\n",
      "Objective second part -0.025115822\n"
     ]
    },
    {
     "name": "stderr",
     "output_type": "stream",
     "text": [
      "\n",
      "  0%|          | 1698/473047 [23:13<5:13:22, 25.07it/s]\u001b[A"
     ]
    },
    {
     "name": "stdout",
     "output_type": "stream",
     "text": [
      "train loss first part 1.2079973326155212e-09\n",
      "train loss second part -0.028138038\n"
     ]
    },
    {
     "name": "stderr",
     "output_type": "stream",
     "text": [
      "\n",
      "  0%|          | 1701/473047 [24:18<1038:30:47,  7.93s/it]\u001b[A\n",
      "  0%|          | 1702/473047 [24:18<731:56:55,  5.59s/it] \u001b[A"
     ]
    },
    {
     "name": "stdout",
     "output_type": "stream",
     "text": [
      "Objective 0.026281765\n",
      "Objective first part 0.0\n",
      "Objective second part -0.026281765\n",
      "Objective 0.78902066\n",
      "Objective first part 0.7629986\n",
      "Objective second part -0.026022099\n"
     ]
    },
    {
     "name": "stderr",
     "output_type": "stream",
     "text": [
      "\n",
      "  0%|          | 1703/473047 [24:18<517:26:33,  3.95s/it]\u001b[A\n",
      "  0%|          | 1704/473047 [24:18<367:17:50,  2.81s/it]\u001b[A"
     ]
    },
    {
     "name": "stdout",
     "output_type": "stream",
     "text": [
      "Objective 0.78630227\n",
      "Objective first part 0.7579624\n",
      "Objective second part -0.028339868\n",
      "Objective 0.7874546\n",
      "Objective first part 0.7596689\n",
      "Objective second part -0.027785707\n"
     ]
    },
    {
     "name": "stderr",
     "output_type": "stream",
     "text": [
      "\n",
      "  0%|          | 1706/473047 [24:18<260:04:40,  1.99s/it]\u001b[A\n",
      "  0%|          | 1708/473047 [24:18<184:06:19,  1.41s/it]\u001b[A"
     ]
    },
    {
     "name": "stdout",
     "output_type": "stream",
     "text": [
      "Objective 0.032713298\n",
      "Objective first part 0.0\n",
      "Objective second part -0.032713298\n",
      "Objective 0.7863197\n",
      "Objective first part 0.76057833\n",
      "Objective second part -0.02574134\n",
      "Objective 0.03032314\n",
      "Objective first part 0.0\n",
      "Objective second part -0.03032314\n",
      "Objective 0.78250533\n",
      "Objective first part 0.7594752\n",
      "Objective second part -0.023030179\n"
     ]
    },
    {
     "name": "stderr",
     "output_type": "stream",
     "text": [
      "\n",
      "  0%|          | 1710/473047 [24:18<131:03:42,  1.00s/it]\u001b[A\n",
      "  0%|          | 1712/473047 [24:18<93:49:13,  1.40it/s] \u001b[A"
     ]
    },
    {
     "name": "stdout",
     "output_type": "stream",
     "text": [
      "Objective 0.79260653\n",
      "Objective first part 0.76260006\n",
      "Objective second part -0.03000647\n",
      "Objective 0.028898386\n",
      "Objective first part 0.0\n",
      "Objective second part -0.028898386\n",
      "Objective 0.79141176\n",
      "Objective first part 0.7597628\n",
      "Objective second part -0.031648904\n",
      "Objective 0.78825754\n",
      "Objective first part 0.75800794\n",
      "Objective second part -0.030249601\n"
     ]
    },
    {
     "name": "stderr",
     "output_type": "stream",
     "text": [
      "\n",
      "  0%|          | 1714/473047 [24:19<67:41:58,  1.93it/s]\u001b[A\n",
      "  0%|          | 1717/473047 [24:19<49:09:12,  2.66it/s]\u001b[A"
     ]
    },
    {
     "name": "stdout",
     "output_type": "stream",
     "text": [
      "Objective 0.7927084\n",
      "Objective first part 0.7614486\n",
      "Objective second part -0.031259798\n",
      "Objective 0.78465295\n",
      "Objective first part 0.7585809\n",
      "Objective second part -0.026072022\n",
      "Objective 0.029332854\n",
      "Objective first part 0.0\n",
      "Objective second part -0.029332854\n",
      "Objective 0.028337723\n",
      "Objective first part 0.0\n",
      "Objective second part -0.028337723\n",
      "Objective 0.026793338\n",
      "Objective first part 0.0\n",
      "Objective second part -0.026793338\n"
     ]
    },
    {
     "name": "stderr",
     "output_type": "stream",
     "text": [
      "\n",
      "  0%|          | 1720/473047 [24:19<35:53:20,  3.65it/s]\u001b[A\n"
     ]
    },
    {
     "name": "stdout",
     "output_type": "stream",
     "text": [
      "Objective 0.79142326\n",
      "Objective first part 0.763408\n",
      "Objective second part -0.028015243\n",
      "Objective 0.78909004\n",
      "Objective first part 0.75937724\n",
      "Objective second part -0.029712802\n",
      "Objective 0.7887525\n",
      "Objective first part 0.75960064\n",
      "Objective second part -0.029151864\n",
      "Objective 0.789232\n",
      "Objective first part 0.75972205\n",
      "Objective second part -0.029509949\n",
      "Objective 0.785168\n",
      "Objective first part 0.75910085\n",
      "Objective second part -0.026067127\n"
     ]
    },
    {
     "name": "stderr",
     "output_type": "stream",
     "text": [
      "  0%|          | 1723/473047 [24:19<26:51:31,  4.87it/s]\u001b[A\n",
      "  0%|          | 1726/473047 [24:19<20:08:07,  6.50it/s]\u001b[A\n"
     ]
    },
    {
     "name": "stdout",
     "output_type": "stream",
     "text": [
      "Objective 0.78919613\n",
      "Objective first part 0.7600754\n",
      "Objective second part -0.02912075\n",
      "Objective 0.791187\n",
      "Objective first part 0.76023906\n",
      "Objective second part -0.030947933\n",
      "Objective 0.784834\n",
      "Objective first part 0.7629604\n",
      "Objective second part -0.021873683\n",
      "Objective 0.027604384\n",
      "Objective first part 0.0\n",
      "Objective second part -0.027604384\n",
      "Objective 0.7857977\n",
      "Objective first part 0.761228\n",
      "Objective second part -0.024569673\n",
      "Objective 0.7875535\n",
      "Objective first part 0.76007783\n",
      "Objective second part -0.027475659\n"
     ]
    },
    {
     "name": "stderr",
     "output_type": "stream",
     "text": [
      "  0%|          | 1729/473047 [24:19<15:29:19,  8.45it/s]\u001b[A\n",
      "  0%|          | 1733/473047 [24:19<11:52:00, 11.03it/s]\u001b[A"
     ]
    },
    {
     "name": "stdout",
     "output_type": "stream",
     "text": [
      "Objective 0.78548723\n",
      "Objective first part 0.75988674\n",
      "Objective second part -0.025600502\n",
      "Objective 0.031073233\n",
      "Objective first part 0.0\n",
      "Objective second part -0.031073233\n",
      "Objective 0.7845954\n",
      "Objective first part 0.7587074\n",
      "Objective second part -0.02588795\n",
      "Objective 0.027372433\n",
      "Objective first part 0.0\n",
      "Objective second part -0.027372433\n",
      "Objective 0.7888816\n",
      "Objective first part 0.7611231\n",
      "Objective second part -0.027758498\n",
      "Objective 0.023599774\n",
      "Objective first part 0.0\n",
      "Objective second part -0.023599774\n",
      "Objective 0.030269628\n",
      "Objective first part 0.0\n",
      "Objective second part -0.030269628\n",
      "Objective 0.027003722\n",
      "Objective first part 0.0\n",
      "Objective second part -0.027003722\n",
      "Objective 0.7898307\n",
      "Objective first part 0.76216996\n",
      "Objective second part -0.027660757\n",
      "Objective 0.029464766\n",
      "Objective first part 0.0\n",
      "Objective second part -0.029464766\n"
     ]
    },
    {
     "name": "stderr",
     "output_type": "stream",
     "text": [
      "\n",
      "  0%|          | 1739/473047 [24:19<9:04:39, 14.42it/s] \u001b[A\n",
      "  0%|          | 1744/473047 [24:20<7:17:43, 17.95it/s]\u001b[A"
     ]
    },
    {
     "name": "stdout",
     "output_type": "stream",
     "text": [
      "Objective 0.7891578\n",
      "Objective first part 0.7597788\n",
      "Objective second part -0.029379012\n",
      "Objective 0.7853734\n",
      "Objective first part 0.75987643\n",
      "Objective second part -0.02549698\n",
      "Objective 0.7873104\n",
      "Objective first part 0.7634992\n",
      "Objective second part -0.023811197\n",
      "Objective 0.028858202\n",
      "Objective first part 0.0\n",
      "Objective second part -0.028858202\n",
      "Objective 0.026276074\n",
      "Objective first part 0.0\n",
      "Objective second part -0.026276074\n",
      "Objective 0.7918214\n",
      "Objective first part 0.76192373\n",
      "Objective second part -0.029897701\n",
      "Objective 0.78772414\n",
      "Objective first part 0.7624506\n",
      "Objective second part -0.025273586\n"
     ]
    },
    {
     "name": "stderr",
     "output_type": "stream",
     "text": [
      "\n",
      "  0%|          | 1748/473047 [24:20<7:50:29, 16.70it/s]\u001b[A"
     ]
    },
    {
     "name": "stdout",
     "output_type": "stream",
     "text": [
      "Objective 0.7896337\n",
      "Objective first part 0.76164055\n",
      "Objective second part -0.027993115\n",
      "Objective 0.02887636\n",
      "Objective first part 0.0\n",
      "Objective second part -0.02887636\n",
      "Objective 0.7860974\n",
      "Objective first part 0.75918525\n",
      "Objective second part -0.026912179\n",
      "Objective 0.023913994\n",
      "Objective first part 0.0\n",
      "Objective second part -0.023913994\n",
      "Objective 0.028317427\n",
      "Objective first part 0.0\n",
      "Objective second part -0.028317427\n"
     ]
    },
    {
     "name": "stderr",
     "output_type": "stream",
     "text": [
      "\n",
      "  0%|          | 1752/473047 [24:20<10:32:28, 12.42it/s]\u001b[A"
     ]
    },
    {
     "name": "stdout",
     "output_type": "stream",
     "text": [
      "Objective 0.79083216\n",
      "Objective first part 0.76219463\n",
      "Objective second part -0.02863755\n",
      "Objective 0.029142475\n",
      "Objective first part 0.0\n",
      "Objective second part -0.029142475\n",
      "Objective 0.7924272\n",
      "Objective first part 0.76195747\n",
      "Objective second part -0.030469686\n",
      "Objective 0.7931673\n",
      "Objective first part 0.7636985\n",
      "Objective second part -0.029468756\n"
     ]
    },
    {
     "name": "stderr",
     "output_type": "stream",
     "text": [
      "\n",
      "  0%|          | 1755/473047 [24:21<12:19:27, 10.62it/s]\u001b[A"
     ]
    },
    {
     "name": "stdout",
     "output_type": "stream",
     "text": [
      "Objective 0.78404146\n",
      "Objective first part 0.7575349\n",
      "Objective second part -0.026506549\n",
      "Objective 0.025854003\n",
      "Objective first part 0.0\n",
      "Objective second part -0.025854003\n"
     ]
    },
    {
     "name": "stderr",
     "output_type": "stream",
     "text": [
      "\n",
      "  0%|          | 1757/473047 [24:21<13:32:59,  9.66it/s]\u001b[A"
     ]
    },
    {
     "name": "stdout",
     "output_type": "stream",
     "text": [
      "Objective 0.027765667\n",
      "Objective first part 0.0\n",
      "Objective second part -0.027765667\n",
      "Objective 0.7905361\n",
      "Objective first part 0.7602827\n",
      "Objective second part -0.03025341\n"
     ]
    },
    {
     "name": "stderr",
     "output_type": "stream",
     "text": [
      "\n",
      "  0%|          | 1759/473047 [24:21<14:23:28,  9.10it/s]\u001b[A"
     ]
    },
    {
     "name": "stdout",
     "output_type": "stream",
     "text": [
      "Objective 0.78571194\n",
      "Objective first part 0.7592916\n",
      "Objective second part -0.026420373\n",
      "Objective 0.7909755\n",
      "Objective first part 0.7623374\n",
      "Objective second part -0.028638102\n"
     ]
    },
    {
     "name": "stderr",
     "output_type": "stream",
     "text": [
      "\n",
      "  0%|          | 1761/473047 [24:21<14:59:49,  8.73it/s]\u001b[A"
     ]
    },
    {
     "name": "stdout",
     "output_type": "stream",
     "text": [
      "Objective 0.78900355\n",
      "Objective first part 0.76090115\n",
      "Objective second part -0.028102413\n",
      "Objective 0.79267967\n",
      "Objective first part 0.7640331\n",
      "Objective second part -0.028646568\n"
     ]
    },
    {
     "name": "stderr",
     "output_type": "stream",
     "text": [
      "\n",
      "  0%|          | 1763/473047 [24:22<15:25:51,  8.48it/s]\u001b[A"
     ]
    },
    {
     "name": "stdout",
     "output_type": "stream",
     "text": [
      "Objective 0.02777253\n",
      "Objective first part 0.0\n",
      "Objective second part -0.02777253\n",
      "Objective 0.025199559\n",
      "Objective first part 0.0\n",
      "Objective second part -0.025199559\n"
     ]
    },
    {
     "name": "stderr",
     "output_type": "stream",
     "text": [
      "\n",
      "  0%|          | 1765/473047 [24:22<15:42:48,  8.33it/s]\u001b[A\n",
      "  0%|          | 1766/473047 [24:22<16:01:47,  8.17it/s]\u001b[A"
     ]
    },
    {
     "name": "stdout",
     "output_type": "stream",
     "text": [
      "Objective 0.026437938\n",
      "Objective first part 0.0\n",
      "Objective second part -0.026437938\n",
      "Objective 0.78622526\n",
      "Objective first part 0.7605176\n",
      "Objective second part -0.025707643\n"
     ]
    },
    {
     "name": "stderr",
     "output_type": "stream",
     "text": [
      "\n",
      "  0%|          | 1767/473047 [24:22<16:15:36,  8.05it/s]\u001b[A\n",
      "  0%|          | 1768/473047 [24:22<16:24:14,  7.98it/s]\u001b[A"
     ]
    },
    {
     "name": "stdout",
     "output_type": "stream",
     "text": [
      "Objective 0.0282574\n",
      "Objective first part 0.0\n",
      "Objective second part -0.0282574\n",
      "Objective 0.02657259\n",
      "Objective first part 0.0\n",
      "Objective second part -0.02657259\n"
     ]
    },
    {
     "name": "stderr",
     "output_type": "stream",
     "text": [
      "\n",
      "  0%|          | 1769/473047 [24:22<16:31:04,  7.93it/s]\u001b[A\n",
      "  0%|          | 1770/473047 [24:23<16:35:35,  7.89it/s]\u001b[A"
     ]
    },
    {
     "name": "stdout",
     "output_type": "stream",
     "text": [
      "Objective 0.7861229\n",
      "Objective first part 0.7602568\n",
      "Objective second part -0.025866114\n",
      "Objective 0.78714865\n",
      "Objective first part 0.76184076\n",
      "Objective second part -0.02530788\n"
     ]
    },
    {
     "name": "stderr",
     "output_type": "stream",
     "text": [
      "\n",
      "  0%|          | 1771/473047 [24:23<16:38:09,  7.87it/s]\u001b[A\n",
      "  0%|          | 1772/473047 [24:23<16:40:33,  7.85it/s]\u001b[A"
     ]
    },
    {
     "name": "stdout",
     "output_type": "stream",
     "text": [
      "Objective 0.03058368\n",
      "Objective first part 0.0\n",
      "Objective second part -0.03058368\n",
      "Objective 0.7888118\n",
      "Objective first part 0.7610702\n",
      "Objective second part -0.027741585\n"
     ]
    },
    {
     "name": "stderr",
     "output_type": "stream",
     "text": [
      "\n",
      "  0%|          | 1773/473047 [24:23<16:41:43,  7.84it/s]\u001b[A\n",
      "  0%|          | 1774/473047 [24:23<16:43:14,  7.83it/s]\u001b[A"
     ]
    },
    {
     "name": "stdout",
     "output_type": "stream",
     "text": [
      "Objective 0.78859717\n",
      "Objective first part 0.7602684\n",
      "Objective second part -0.02832877\n",
      "Objective 0.7887502\n",
      "Objective first part 0.7625919\n",
      "Objective second part -0.026158286\n"
     ]
    },
    {
     "name": "stderr",
     "output_type": "stream",
     "text": [
      "\n",
      "  0%|          | 1775/473047 [24:23<16:32:44,  7.91it/s]\u001b[A\n",
      "  0%|          | 1776/473047 [24:23<15:54:30,  8.23it/s]\u001b[A\n",
      "  0%|          | 1778/473047 [24:23<13:13:05,  9.90it/s]\u001b[A"
     ]
    },
    {
     "name": "stdout",
     "output_type": "stream",
     "text": [
      "Objective 0.7914533\n",
      "Objective first part 0.7609348\n",
      "Objective second part -0.030518478\n",
      "Objective 0.026600564\n",
      "Objective first part 0.0\n",
      "Objective second part -0.026600564\n",
      "Objective 0.78572917\n",
      "Objective first part 0.7600517\n",
      "Objective second part -0.025677431\n"
     ]
    },
    {
     "name": "stderr",
     "output_type": "stream",
     "text": [
      "\n",
      "  0%|          | 1780/473047 [24:24<11:39:05, 11.24it/s]\u001b[A"
     ]
    },
    {
     "name": "stdout",
     "output_type": "stream",
     "text": [
      "Objective 0.029152662\n",
      "Objective first part 0.0\n",
      "Objective second part -0.029152662\n",
      "Objective 0.0321753\n",
      "Objective first part 0.0\n",
      "Objective second part -0.0321753\n",
      "Objective 0.7904382\n",
      "Objective first part 0.76326525\n",
      "Objective second part -0.027172932\n",
      "Objective 0.027782459\n",
      "Objective first part 0.0\n",
      "Objective second part -0.027782459\n"
     ]
    },
    {
     "name": "stderr",
     "output_type": "stream",
     "text": [
      "\n",
      "  0%|          | 1782/473047 [24:24<10:17:16, 12.72it/s]\u001b[A\n",
      "  0%|          | 1785/473047 [24:24<8:57:39, 14.61it/s] \u001b[A"
     ]
    },
    {
     "name": "stdout",
     "output_type": "stream",
     "text": [
      "Objective 0.025179632\n",
      "Objective first part 0.0\n",
      "Objective second part -0.025179632\n",
      "Objective 0.78735864\n",
      "Objective first part 0.7602966\n",
      "Objective second part -0.027062083\n",
      "Objective 0.026008029\n",
      "Objective first part 0.0\n",
      "Objective second part -0.026008029\n",
      "Objective 0.7879865\n",
      "Objective first part 0.7592577\n",
      "Objective second part -0.028728822\n",
      "Objective 0.028602466\n",
      "Objective first part 0.0\n",
      "Objective second part -0.028602466\n"
     ]
    },
    {
     "name": "stderr",
     "output_type": "stream",
     "text": [
      "\n",
      "  0%|          | 1788/473047 [24:24<7:54:36, 16.55it/s]\u001b[A\n",
      "  0%|          | 1792/473047 [24:24<6:44:31, 19.42it/s]\u001b[A"
     ]
    },
    {
     "name": "stdout",
     "output_type": "stream",
     "text": [
      "Objective 0.028024683\n",
      "Objective first part 0.0\n",
      "Objective second part -0.028024683\n",
      "Objective 0.027822357\n",
      "Objective first part 0.0\n",
      "Objective second part -0.027822357\n",
      "Objective 0.025393285\n",
      "Objective first part 0.0\n",
      "Objective second part -0.025393285\n",
      "Objective 0.023800027\n",
      "Objective first part 0.0\n",
      "Objective second part -0.023800027\n",
      "Objective 0.02824906\n",
      "Objective first part 0.0\n",
      "Objective second part -0.02824906\n",
      "Objective 0.78678006\n",
      "Objective first part 0.7633675\n",
      "Objective second part -0.023412557\n",
      "Objective 0.028368382\n",
      "Objective first part 0.0\n",
      "Objective second part -0.028368382\n"
     ]
    },
    {
     "name": "stderr",
     "output_type": "stream",
     "text": [
      "\n",
      "  0%|          | 1796/473047 [24:24<5:50:52, 22.38it/s]\u001b[A\n",
      "  0%|          | 1800/473047 [24:24<5:18:03, 24.69it/s]\u001b[A"
     ]
    },
    {
     "name": "stdout",
     "output_type": "stream",
     "text": [
      "Objective 0.7894006\n",
      "Objective first part 0.7636129\n",
      "Objective second part -0.02578764\n",
      "Objective 0.025273342\n",
      "Objective first part 0.0\n",
      "Objective second part -0.025273342\n",
      "Objective 0.78813314\n",
      "Objective first part 0.7604382\n",
      "Objective second part -0.02769495\n",
      "Objective 0.7874759\n",
      "Objective first part 0.76140594\n",
      "Objective second part -0.026069941\n",
      "Objective 0.023082267\n",
      "Objective first part 0.0\n",
      "Objective second part -0.023082267\n",
      "Objective 0.024318637\n",
      "Objective first part 0.0\n",
      "Objective second part -0.024318637\n",
      "Objective 0.030030055\n",
      "Objective first part 0.0\n",
      "Objective second part -0.030030055\n"
     ]
    },
    {
     "name": "stderr",
     "output_type": "stream",
     "text": [
      "\n",
      "  0%|          | 1800/473047 [24:43<5:18:03, 24.69it/s]\u001b[A"
     ]
    },
    {
     "name": "stdout",
     "output_type": "stream",
     "text": [
      "train loss first part 1.2108466298974082e-09\n",
      "train loss second part -0.025851334\n"
     ]
    },
    {
     "name": "stderr",
     "output_type": "stream",
     "text": [
      "\n",
      "  0%|          | 1801/473047 [25:45<3161:50:26, 24.15s/it]\u001b[A\n",
      "  0%|          | 1803/473047 [25:45<2216:11:45, 16.93s/it]\u001b[A"
     ]
    },
    {
     "name": "stdout",
     "output_type": "stream",
     "text": [
      "Objective 0.79191786\n",
      "Objective first part 0.7622465\n",
      "Objective second part -0.029671356\n",
      "Objective 0.028641967\n",
      "Objective first part 0.0\n",
      "Objective second part -0.028641967\n",
      "Objective 0.028245198\n",
      "Objective first part 0.0\n",
      "Objective second part -0.028245198\n",
      "Objective 0.028035225\n",
      "Objective first part 0.0\n",
      "Objective second part -0.028035225\n"
     ]
    },
    {
     "name": "stderr",
     "output_type": "stream",
     "text": [
      "\n",
      "  0%|          | 1805/473047 [25:45<1553:32:47, 11.87s/it]\u001b[A\n",
      "  0%|          | 1807/473047 [25:45<1089:34:12,  8.32s/it]\u001b[A"
     ]
    },
    {
     "name": "stdout",
     "output_type": "stream",
     "text": [
      "Objective 0.02440402\n",
      "Objective first part 0.0\n",
      "Objective second part -0.02440402\n",
      "Objective 0.027653404\n",
      "Objective first part 0.0\n",
      "Objective second part -0.027653404\n",
      "Objective 0.790513\n",
      "Objective first part 0.7617583\n",
      "Objective second part -0.028754648\n",
      "Objective 0.028431421\n",
      "Objective first part 0.0\n",
      "Objective second part -0.028431421\n"
     ]
    },
    {
     "name": "stderr",
     "output_type": "stream",
     "text": [
      "\n",
      "  0%|          | 1809/473047 [25:45<765:18:18,  5.85s/it] \u001b[A\n",
      "  0%|          | 1811/473047 [25:45<538:04:34,  4.11s/it]\u001b[A"
     ]
    },
    {
     "name": "stdout",
     "output_type": "stream",
     "text": [
      "Objective 0.7907094\n",
      "Objective first part 0.7619516\n",
      "Objective second part -0.028757777\n",
      "Objective 0.7883663\n",
      "Objective first part 0.76378506\n",
      "Objective second part -0.02458128\n",
      "Objective 0.7921235\n",
      "Objective first part 0.7632458\n",
      "Objective second part -0.02887765\n",
      "Objective 0.7887673\n",
      "Objective first part 0.7641533\n",
      "Objective second part -0.024613963\n",
      "Objective 0.025374822\n",
      "Objective first part 0.0\n",
      "Objective second part -0.025374822\n"
     ]
    },
    {
     "name": "stderr",
     "output_type": "stream",
     "text": [
      "\n",
      "  0%|          | 1814/473047 [25:45<378:06:04,  2.89s/it]\u001b[A\n",
      "  0%|          | 1817/473047 [25:46<266:03:09,  2.03s/it]\u001b[A\n",
      "  0%|          | 1820/473047 [25:46<187:34:13,  1.43s/it]"
     ]
    },
    {
     "name": "stdout",
     "output_type": "stream",
     "text": [
      "Objective 0.78704727\n",
      "Objective first part 0.76298743\n",
      "Objective second part -0.024059847\n",
      "Objective 0.026298838\n",
      "Objective first part 0.0\n",
      "Objective second part -0.026298838\n",
      "Objective 0.023374483\n",
      "Objective first part 0.0\n",
      "Objective second part -0.023374483\n",
      "Objective 0.023459174\n",
      "Objective first part 0.0\n",
      "Objective second part -0.023459174\n",
      "Objective 0.7879806\n",
      "Objective first part 0.76425403\n",
      "Objective second part -0.023726597\n",
      "Objective 0.78790295\n",
      "Objective first part 0.7606333\n",
      "Objective second part -0.027269645\n"
     ]
    },
    {
     "name": "stderr",
     "output_type": "stream",
     "text": [
      "\u001b[A\n",
      "  0%|          | 1823/473047 [25:46<132:39:54,  1.01s/it]\u001b[A\n",
      "  0%|          | 1826/473047 [25:46<94:13:00,  1.39it/s] "
     ]
    },
    {
     "name": "stdout",
     "output_type": "stream",
     "text": [
      "Objective 0.78885\n",
      "Objective first part 0.7644398\n",
      "Objective second part -0.024410188\n",
      "Objective 0.7846167\n",
      "Objective first part 0.76094615\n",
      "Objective second part -0.023670569\n",
      "Objective 0.024720937\n",
      "Objective first part 0.0\n",
      "Objective second part -0.024720937\n",
      "Objective 0.78161603\n",
      "Objective first part 0.75941366\n",
      "Objective second part -0.022202354\n",
      "Objective 0.7880063\n",
      "Objective first part 0.761099\n",
      "Objective second part -0.026907342\n",
      "Objective 0.02765898\n",
      "Objective first part 0.0\n",
      "Objective second part -0.02765898\n"
     ]
    },
    {
     "name": "stderr",
     "output_type": "stream",
     "text": [
      "\u001b[A\n",
      "  0%|          | 1829/473047 [25:46<67:16:23,  1.95it/s]\u001b[A"
     ]
    },
    {
     "name": "stdout",
     "output_type": "stream",
     "text": [
      "Objective 0.7841225\n",
      "Objective first part 0.75973815\n",
      "Objective second part -0.024384351\n",
      "Objective 0.78913844\n",
      "Objective first part 0.7619464\n",
      "Objective second part -0.027192041\n",
      "Objective 0.020876994\n",
      "Objective first part 0.0\n",
      "Objective second part -0.020876994\n",
      "Objective 0.031877052\n",
      "Objective first part 0.0\n",
      "Objective second part -0.031877052\n",
      "Objective 0.021728452\n",
      "Objective first part 0.0\n",
      "Objective second part -0.021728452\n"
     ]
    },
    {
     "name": "stderr",
     "output_type": "stream",
     "text": [
      "\n",
      "  0%|          | 1832/473047 [25:46<48:56:08,  2.67it/s]\u001b[A"
     ]
    },
    {
     "name": "stdout",
     "output_type": "stream",
     "text": [
      "Objective 0.021181777\n",
      "Objective first part 0.0\n",
      "Objective second part -0.021181777\n",
      "Objective 0.7852369\n",
      "Objective first part 0.7598486\n",
      "Objective second part -0.025388272\n",
      "Objective 0.024383863\n",
      "Objective first part 0.0\n",
      "Objective second part -0.024383863\n"
     ]
    },
    {
     "name": "stderr",
     "output_type": "stream",
     "text": [
      "\n",
      "  0%|          | 1835/473047 [25:46<38:24:41,  3.41it/s]\u001b[A"
     ]
    },
    {
     "name": "stdout",
     "output_type": "stream",
     "text": [
      "Objective 0.021075912\n",
      "Objective first part 0.0\n",
      "Objective second part -0.021075912\n",
      "Objective 0.78735447\n",
      "Objective first part 0.76331234\n",
      "Objective second part -0.02404214\n"
     ]
    },
    {
     "name": "stderr",
     "output_type": "stream",
     "text": [
      "\n",
      "  0%|          | 1838/473047 [25:47<31:23:52,  4.17it/s]\u001b[A"
     ]
    },
    {
     "name": "stdout",
     "output_type": "stream",
     "text": [
      "Objective 0.02539457\n",
      "Objective first part 0.0\n",
      "Objective second part -0.02539457\n",
      "Objective 0.028012484\n",
      "Objective first part 0.0\n",
      "Objective second part -0.028012484\n"
     ]
    },
    {
     "name": "stderr",
     "output_type": "stream",
     "text": [
      "\n",
      "  0%|          | 1840/473047 [25:47<26:01:52,  5.03it/s]\u001b[A"
     ]
    },
    {
     "name": "stdout",
     "output_type": "stream",
     "text": [
      "Objective 0.7861994\n",
      "Objective first part 0.7635537\n",
      "Objective second part -0.02264569\n",
      "Objective 0.78617764\n",
      "Objective first part 0.76107264\n",
      "Objective second part -0.025105001\n",
      "Objective 0.7929081\n",
      "Objective first part 0.7660935\n",
      "Objective second part -0.026814582\n",
      "Objective 0.78746647\n",
      "Objective first part 0.76417166\n",
      "Objective second part -0.0232948\n"
     ]
    },
    {
     "name": "stderr",
     "output_type": "stream",
     "text": [
      "\n",
      "  0%|          | 1842/473047 [25:47<24:24:20,  5.36it/s]\u001b[A"
     ]
    },
    {
     "name": "stdout",
     "output_type": "stream",
     "text": [
      "Objective 0.028455276\n",
      "Objective first part 0.0\n",
      "Objective second part -0.028455276\n",
      "Objective 0.78779685\n",
      "Objective first part 0.76380116\n",
      "Objective second part -0.023995679\n"
     ]
    },
    {
     "name": "stderr",
     "output_type": "stream",
     "text": [
      "\n",
      "  0%|          | 1844/473047 [25:48<22:02:37,  5.94it/s]\u001b[A"
     ]
    },
    {
     "name": "stdout",
     "output_type": "stream",
     "text": [
      "Objective 0.025209889\n",
      "Objective first part 0.0\n",
      "Objective second part -0.025209889\n",
      "Objective 0.7930386\n",
      "Objective first part 0.7650615\n",
      "Objective second part -0.027977116\n"
     ]
    },
    {
     "name": "stderr",
     "output_type": "stream",
     "text": [
      "\n",
      "  0%|          | 1846/473047 [25:48<20:34:31,  6.36it/s]\u001b[A\n",
      "  0%|          | 1847/473047 [25:48<19:22:57,  6.75it/s]\u001b[A"
     ]
    },
    {
     "name": "stdout",
     "output_type": "stream",
     "text": [
      "Objective 0.7884439\n",
      "Objective first part 0.76300883\n",
      "Objective second part -0.025435105\n",
      "Objective 0.027197983\n",
      "Objective first part 0.0\n",
      "Objective second part -0.027197983\n"
     ]
    },
    {
     "name": "stderr",
     "output_type": "stream",
     "text": [
      "\n",
      "  0%|          | 1848/473047 [25:48<18:34:44,  7.04it/s]\u001b[A\n",
      "  0%|          | 1849/473047 [25:48<18:02:59,  7.25it/s]\u001b[A"
     ]
    },
    {
     "name": "stdout",
     "output_type": "stream",
     "text": [
      "Objective 0.024651168\n",
      "Objective first part 0.0\n",
      "Objective second part -0.024651168\n",
      "Objective 0.78631955\n",
      "Objective first part 0.7595733\n",
      "Objective second part -0.026746258\n"
     ]
    },
    {
     "name": "stderr",
     "output_type": "stream",
     "text": [
      "\n",
      "  0%|          | 1850/473047 [25:48<17:41:40,  7.40it/s]\u001b[A\n",
      "  0%|          | 1851/473047 [25:48<17:23:38,  7.52it/s]\u001b[A"
     ]
    },
    {
     "name": "stdout",
     "output_type": "stream",
     "text": [
      "Objective 0.7821828\n",
      "Objective first part 0.75665087\n",
      "Objective second part -0.025531955\n",
      "Objective 0.025919024\n",
      "Objective first part 0.0\n",
      "Objective second part -0.025919024\n"
     ]
    },
    {
     "name": "stderr",
     "output_type": "stream",
     "text": [
      "\n",
      "  0%|          | 1852/473047 [25:49<17:16:20,  7.58it/s]\u001b[A\n",
      "  0%|          | 1853/473047 [25:49<17:04:22,  7.67it/s]\u001b[A"
     ]
    },
    {
     "name": "stdout",
     "output_type": "stream",
     "text": [
      "Objective 0.028345019\n",
      "Objective first part 0.0\n",
      "Objective second part -0.028345019\n",
      "Objective 0.023704808\n",
      "Objective first part 0.0\n",
      "Objective second part -0.023704808\n"
     ]
    },
    {
     "name": "stderr",
     "output_type": "stream",
     "text": [
      "\n",
      "  0%|          | 1854/473047 [25:49<16:59:46,  7.70it/s]\u001b[A\n",
      "  0%|          | 1855/473047 [25:49<16:54:56,  7.74it/s]\u001b[A"
     ]
    },
    {
     "name": "stdout",
     "output_type": "stream",
     "text": [
      "Objective 0.78816354\n",
      "Objective first part 0.76106954\n",
      "Objective second part -0.02709399\n",
      "Objective 0.023611307\n",
      "Objective first part 0.0\n",
      "Objective second part -0.023611307\n"
     ]
    },
    {
     "name": "stderr",
     "output_type": "stream",
     "text": [
      "\n",
      "  0%|          | 1856/473047 [25:49<16:51:14,  7.77it/s]\u001b[A\n",
      "  0%|          | 1857/473047 [25:49<17:14:37,  7.59it/s]\u001b[A"
     ]
    },
    {
     "name": "stdout",
     "output_type": "stream",
     "text": [
      "Objective 0.7904662\n",
      "Objective first part 0.7609081\n",
      "Objective second part -0.02955808\n",
      "Objective 0.7862928\n",
      "Objective first part 0.762858\n",
      "Objective second part -0.023434827\n"
     ]
    },
    {
     "name": "stderr",
     "output_type": "stream",
     "text": [
      "\n",
      "  0%|          | 1858/473047 [25:49<17:04:50,  7.66it/s]\u001b[A\n",
      "  0%|          | 1859/473047 [25:49<17:03:47,  7.67it/s]\u001b[A"
     ]
    },
    {
     "name": "stdout",
     "output_type": "stream",
     "text": [
      "Objective 0.023717014\n",
      "Objective first part 0.0\n",
      "Objective second part -0.023717014\n",
      "Objective 0.7861454\n",
      "Objective first part 0.76240313\n",
      "Objective second part -0.023742285\n"
     ]
    },
    {
     "name": "stderr",
     "output_type": "stream",
     "text": [
      "\n",
      "  0%|          | 1860/473047 [25:50<16:55:58,  7.73it/s]\u001b[A\n",
      "  0%|          | 1861/473047 [25:50<16:34:02,  7.90it/s]\u001b[A"
     ]
    },
    {
     "name": "stdout",
     "output_type": "stream",
     "text": [
      "Objective 0.02417983\n",
      "Objective first part 0.0\n",
      "Objective second part -0.02417983\n",
      "Objective 0.78920174\n",
      "Objective first part 0.7631562\n",
      "Objective second part -0.026045531\n",
      "Objective 0.790184\n",
      "Objective first part 0.762835\n",
      "Objective second part -0.027348971\n"
     ]
    },
    {
     "name": "stderr",
     "output_type": "stream",
     "text": [
      "\n",
      "  0%|          | 1863/473047 [25:50<13:44:59,  9.52it/s]\u001b[A\n",
      "  0%|          | 1865/473047 [25:50<12:03:45, 10.85it/s]\u001b[A"
     ]
    },
    {
     "name": "stdout",
     "output_type": "stream",
     "text": [
      "Objective 0.024442988\n",
      "Objective first part 0.0\n",
      "Objective second part -0.024442988\n",
      "Objective 0.78774893\n",
      "Objective first part 0.7626223\n",
      "Objective second part -0.02512664\n",
      "Objective 0.7902396\n",
      "Objective first part 0.7623398\n",
      "Objective second part -0.027899824\n",
      "Objective 0.022709649\n",
      "Objective first part 0.0\n",
      "Objective second part -0.022709649\n"
     ]
    },
    {
     "name": "stderr",
     "output_type": "stream",
     "text": [
      "\n",
      "  0%|          | 1867/473047 [25:50<10:58:04, 11.93it/s]\u001b[A\n",
      "  0%|          | 1869/473047 [25:50<10:01:49, 13.05it/s]\u001b[A"
     ]
    },
    {
     "name": "stdout",
     "output_type": "stream",
     "text": [
      "Objective 0.79009205\n",
      "Objective first part 0.7648766\n",
      "Objective second part -0.025215453\n",
      "Objective 0.022751965\n",
      "Objective first part 0.0\n",
      "Objective second part -0.022751965\n",
      "Objective 0.78686583\n",
      "Objective first part 0.7608591\n",
      "Objective second part -0.026006745\n",
      "Objective 0.79042655\n",
      "Objective first part 0.76432353\n",
      "Objective second part -0.026103038\n",
      "Objective 0.022436097\n",
      "Objective first part 0.0\n",
      "Objective second part -0.022436097\n"
     ]
    },
    {
     "name": "stderr",
     "output_type": "stream",
     "text": [
      "\n",
      "  0%|          | 1872/473047 [25:50<8:41:22, 15.06it/s] \u001b[A\n",
      "  0%|          | 1875/473047 [25:50<7:37:27, 17.17it/s]\u001b[A"
     ]
    },
    {
     "name": "stdout",
     "output_type": "stream",
     "text": [
      "Objective 0.7889673\n",
      "Objective first part 0.76212347\n",
      "Objective second part -0.026843848\n",
      "Objective 0.7896977\n",
      "Objective first part 0.7623837\n",
      "Objective second part -0.027313992\n",
      "Objective 0.7855139\n",
      "Objective first part 0.7616775\n",
      "Objective second part -0.023836346\n",
      "Objective 0.021301294\n",
      "Objective first part 0.0\n",
      "Objective second part -0.021301294\n",
      "Objective 0.7893\n",
      "Objective first part 0.7644224\n",
      "Objective second part -0.0248776\n",
      "Objective 0.025343092\n",
      "Objective first part 0.0\n",
      "Objective second part -0.025343092\n"
     ]
    },
    {
     "name": "stderr",
     "output_type": "stream",
     "text": [
      "\n",
      "  0%|          | 1878/473047 [25:51<6:50:28, 19.13it/s]\u001b[A\n",
      "  0%|          | 1882/473047 [25:51<5:57:46, 21.95it/s]\u001b[A"
     ]
    },
    {
     "name": "stdout",
     "output_type": "stream",
     "text": [
      "Objective 0.7840873\n",
      "Objective first part 0.7622295\n",
      "Objective second part -0.021857781\n",
      "Objective 0.78909963\n",
      "Objective first part 0.76342595\n",
      "Objective second part -0.025673702\n",
      "Objective 0.78914696\n",
      "Objective first part 0.76341575\n",
      "Objective second part -0.02573119\n",
      "Objective 0.025543084\n",
      "Objective first part 0.0\n",
      "Objective second part -0.025543084\n",
      "Objective 0.789644\n",
      "Objective first part 0.76518613\n",
      "Objective second part -0.02445789\n",
      "Objective 0.7872418\n",
      "Objective first part 0.763604\n",
      "Objective second part -0.023637855\n",
      "Objective 0.7886823\n",
      "Objective first part 0.7663303\n",
      "Objective second part -0.02235198\n"
     ]
    },
    {
     "name": "stderr",
     "output_type": "stream",
     "text": [
      "\n",
      "  0%|          | 1886/473047 [25:51<5:27:49, 23.95it/s]\u001b[A\n",
      "  0%|          | 1889/473047 [25:51<5:13:19, 25.06it/s]\u001b[A"
     ]
    },
    {
     "name": "stdout",
     "output_type": "stream",
     "text": [
      "Objective 0.7925711\n",
      "Objective first part 0.7654459\n",
      "Objective second part -0.027125223\n",
      "Objective 0.7845601\n",
      "Objective first part 0.76163346\n",
      "Objective second part -0.022926616\n",
      "Objective 0.022838738\n",
      "Objective first part 0.0\n",
      "Objective second part -0.022838738\n",
      "Objective 0.78663594\n",
      "Objective first part 0.7599789\n",
      "Objective second part -0.026657064\n",
      "Objective 0.78790843\n",
      "Objective first part 0.76427805\n",
      "Objective second part -0.02363041\n",
      "Objective 0.02153306\n",
      "Objective first part 0.0\n",
      "Objective second part -0.02153306\n"
     ]
    },
    {
     "name": "stderr",
     "output_type": "stream",
     "text": [
      "\n",
      "  0%|          | 1892/473047 [25:51<5:42:17, 22.94it/s]\u001b[A"
     ]
    },
    {
     "name": "stdout",
     "output_type": "stream",
     "text": [
      "Objective 0.023881517\n",
      "Objective first part 0.0\n",
      "Objective second part -0.023881517\n",
      "Objective 0.78286487\n",
      "Objective first part 0.7610585\n",
      "Objective second part -0.021806365\n",
      "Objective 0.025664406\n",
      "Objective first part 0.0\n",
      "Objective second part -0.025664406\n"
     ]
    },
    {
     "name": "stderr",
     "output_type": "stream",
     "text": [
      "\n",
      "  0%|          | 1895/473047 [25:51<7:55:22, 16.52it/s]\u001b[A"
     ]
    },
    {
     "name": "stdout",
     "output_type": "stream",
     "text": [
      "Objective 0.7870185\n",
      "Objective first part 0.76434237\n",
      "Objective second part -0.022676114\n",
      "Objective 0.026218556\n",
      "Objective first part 0.0\n",
      "Objective second part -0.026218556\n",
      "Objective 0.78562474\n",
      "Objective first part 0.76286125\n",
      "Objective second part -0.022763489\n",
      "Objective 0.7862939\n",
      "Objective first part 0.76139086\n",
      "Objective second part -0.024903083\n"
     ]
    },
    {
     "name": "stderr",
     "output_type": "stream",
     "text": [
      "\n",
      "  0%|          | 1898/473047 [25:52<10:36:04, 12.35it/s]\u001b[A"
     ]
    },
    {
     "name": "stdout",
     "output_type": "stream",
     "text": [
      "Objective 0.023142472\n",
      "Objective first part 0.0\n",
      "Objective second part -0.023142472\n",
      "Objective 0.788954\n",
      "Objective first part 0.7635263\n",
      "Objective second part -0.025427707\n"
     ]
    },
    {
     "name": "stderr",
     "output_type": "stream",
     "text": [
      "\n",
      "  0%|          | 1900/473047 [25:52<12:20:52, 10.60it/s]\u001b[A"
     ]
    },
    {
     "name": "stdout",
     "output_type": "stream",
     "text": [
      "Objective 0.78377485\n",
      "Objective first part 0.7628728\n",
      "Objective second part -0.02090201\n"
     ]
    },
    {
     "name": "stderr",
     "output_type": "stream",
     "text": [
      "\n",
      "  0%|          | 1900/473047 [26:03<12:20:52, 10.60it/s]\u001b[A"
     ]
    },
    {
     "name": "stdout",
     "output_type": "stream",
     "text": [
      "train loss first part 1.2132317527556371e-09\n",
      "train loss second part -0.023941895\n"
     ]
    },
    {
     "name": "stderr",
     "output_type": "stream",
     "text": [
      "\n",
      "  0%|          | 1901/473047 [27:10<3074:38:01, 23.49s/it]\u001b[A\n",
      "  0%|          | 1904/473047 [27:10<2153:52:09, 16.46s/it]\u001b[A"
     ]
    },
    {
     "name": "stdout",
     "output_type": "stream",
     "text": [
      "Objective 0.7852016\n",
      "Objective first part 0.76215875\n",
      "Objective second part -0.023042865\n",
      "Objective 0.78862834\n",
      "Objective first part 0.7650863\n",
      "Objective second part -0.023542043\n",
      "Objective 0.025192102\n",
      "Objective first part 0.0\n",
      "Objective second part -0.025192102\n",
      "Objective 0.78987664\n",
      "Objective first part 0.7651629\n",
      "Objective second part -0.024713729\n",
      "Objective 0.787805\n",
      "Objective first part 0.7625598\n",
      "Objective second part -0.025245221\n"
     ]
    },
    {
     "name": "stderr",
     "output_type": "stream",
     "text": [
      "\n",
      "  0%|          | 1907/473047 [27:10<1509:22:15, 11.53s/it]\u001b[A\n",
      "  0%|          | 1910/473047 [27:10<1057:53:25,  8.08s/it]\u001b[A"
     ]
    },
    {
     "name": "stdout",
     "output_type": "stream",
     "text": [
      "Objective 0.79041696\n",
      "Objective first part 0.76315576\n",
      "Objective second part -0.027261192\n",
      "Objective 0.78651744\n",
      "Objective first part 0.7635372\n",
      "Objective second part -0.022980226\n",
      "Objective 0.023561876\n",
      "Objective first part 0.0\n",
      "Objective second part -0.023561876\n",
      "Objective 0.78775114\n",
      "Objective first part 0.7648854\n",
      "Objective second part -0.022865692\n",
      "Objective 0.023428177\n",
      "Objective first part 0.0\n",
      "Objective second part -0.023428177\n",
      "Objective 0.024932964\n",
      "Objective first part 0.0\n",
      "Objective second part -0.024932964\n"
     ]
    },
    {
     "name": "stderr",
     "output_type": "stream",
     "text": [
      "\n",
      "  0%|          | 1913/473047 [27:11<741:54:12,  5.67s/it] \u001b[A\n",
      "  0%|          | 1916/473047 [27:11<520:47:34,  3.98s/it]\u001b[A"
     ]
    },
    {
     "name": "stdout",
     "output_type": "stream",
     "text": [
      "Objective 0.02580825\n",
      "Objective first part 0.0\n",
      "Objective second part -0.02580825\n",
      "Objective 0.7858622\n",
      "Objective first part 0.7632232\n",
      "Objective second part -0.022639044\n",
      "Objective 0.023891652\n",
      "Objective first part 0.0\n",
      "Objective second part -0.023891652\n",
      "Objective 0.7880167\n",
      "Objective first part 0.76421154\n",
      "Objective second part -0.023805154\n",
      "Objective 0.7890354\n",
      "Objective first part 0.7640284\n",
      "Objective second part -0.025007032\n",
      "Objective 0.02626041\n",
      "Objective first part 0.0\n",
      "Objective second part -0.02626041\n"
     ]
    },
    {
     "name": "stderr",
     "output_type": "stream",
     "text": [
      "\n",
      "  0%|          | 1919/473047 [27:11<365:55:56,  2.80s/it]\u001b[A\n",
      "  0%|          | 1922/473047 [27:11<257:33:05,  1.97s/it]\u001b[A"
     ]
    },
    {
     "name": "stdout",
     "output_type": "stream",
     "text": [
      "Objective 0.019037245\n",
      "Objective first part 0.0\n",
      "Objective second part -0.019037245\n",
      "Objective 0.7865086\n",
      "Objective first part 0.76187444\n",
      "Objective second part -0.024634184\n",
      "Objective 0.02339114\n",
      "Objective first part 0.0\n",
      "Objective second part -0.02339114\n",
      "Objective 0.02391656\n",
      "Objective first part 0.0\n",
      "Objective second part -0.02391656\n",
      "Objective 0.7885656\n",
      "Objective first part 0.76443875\n",
      "Objective second part -0.024126828\n",
      "Objective 0.026111728\n",
      "Objective first part 0.0\n",
      "Objective second part -0.026111728\n"
     ]
    },
    {
     "name": "stderr",
     "output_type": "stream",
     "text": [
      "\n",
      "  0%|          | 1925/473047 [27:11<181:41:36,  1.39s/it]\u001b[A"
     ]
    },
    {
     "name": "stdout",
     "output_type": "stream",
     "text": [
      "Objective 0.7851532\n",
      "Objective first part 0.762879\n",
      "Objective second part -0.022274207\n",
      "Objective 0.78317654\n",
      "Objective first part 0.7615579\n",
      "Objective second part -0.021618692\n",
      "Objective 0.78558916\n",
      "Objective first part 0.7629123\n",
      "Objective second part -0.022676906\n",
      "Objective 0.023518182\n",
      "Objective first part 0.0\n",
      "Objective second part -0.023518182\n"
     ]
    },
    {
     "name": "stderr",
     "output_type": "stream",
     "text": [
      "\n",
      "  0%|          | 1928/473047 [27:11<130:02:12,  1.01it/s]\u001b[A"
     ]
    },
    {
     "name": "stdout",
     "output_type": "stream",
     "text": [
      "Objective 0.7853086\n",
      "Objective first part 0.7615879\n",
      "Objective second part -0.023720676\n",
      "Objective 0.023802346\n",
      "Objective first part 0.0\n",
      "Objective second part -0.023802346\n"
     ]
    },
    {
     "name": "stderr",
     "output_type": "stream",
     "text": [
      "\n",
      "  0%|          | 1931/473047 [27:12<95:54:19,  1.36it/s] \u001b[A"
     ]
    },
    {
     "name": "stdout",
     "output_type": "stream",
     "text": [
      "Objective 0.022795746\n",
      "Objective first part 0.0\n",
      "Objective second part -0.022795746\n",
      "Objective 0.7878623\n",
      "Objective first part 0.76535004\n",
      "Objective second part -0.022512235\n"
     ]
    },
    {
     "name": "stderr",
     "output_type": "stream",
     "text": [
      "\n",
      "  0%|          | 1933/473047 [27:12<71:56:07,  1.82it/s]\u001b[A"
     ]
    },
    {
     "name": "stdout",
     "output_type": "stream",
     "text": [
      "Objective 0.78898704\n",
      "Objective first part 0.7646122\n",
      "Objective second part -0.024374824\n",
      "Objective 0.7854241\n",
      "Objective first part 0.7659547\n",
      "Objective second part -0.019469455\n"
     ]
    },
    {
     "name": "stderr",
     "output_type": "stream",
     "text": [
      "\n",
      "  0%|          | 1935/473047 [27:12<55:01:35,  2.38it/s]\u001b[A"
     ]
    },
    {
     "name": "stdout",
     "output_type": "stream",
     "text": [
      "Objective 0.7839072\n",
      "Objective first part 0.76271945\n",
      "Objective second part -0.021187745\n",
      "Objective 0.7827743\n",
      "Objective first part 0.7608201\n",
      "Objective second part -0.021954225\n"
     ]
    },
    {
     "name": "stderr",
     "output_type": "stream",
     "text": [
      "\n",
      "  0%|          | 1937/473047 [27:12<42:52:58,  3.05it/s]\u001b[A"
     ]
    },
    {
     "name": "stdout",
     "output_type": "stream",
     "text": [
      "Objective 0.019698123\n",
      "Objective first part 0.0\n",
      "Objective second part -0.019698123\n",
      "Objective 0.78966147\n",
      "Objective first part 0.7626068\n",
      "Objective second part -0.027054673\n"
     ]
    },
    {
     "name": "stderr",
     "output_type": "stream",
     "text": [
      "\n",
      "  0%|          | 1939/473047 [27:13<34:42:03,  3.77it/s]\u001b[A"
     ]
    },
    {
     "name": "stdout",
     "output_type": "stream",
     "text": [
      "Objective 0.78842807\n",
      "Objective first part 0.7653126\n",
      "Objective second part -0.02311545\n",
      "Objective 0.7893201\n",
      "Objective first part 0.7644711\n",
      "Objective second part -0.024849003\n"
     ]
    },
    {
     "name": "stderr",
     "output_type": "stream",
     "text": [
      "\n",
      "  0%|          | 1941/473047 [27:13<28:55:32,  4.52it/s]\u001b[A"
     ]
    },
    {
     "name": "stdout",
     "output_type": "stream",
     "text": [
      "Objective 0.7830624\n",
      "Objective first part 0.7625698\n",
      "Objective second part -0.020492602\n",
      "Objective 0.78208363\n",
      "Objective first part 0.7635371\n",
      "Objective second part -0.018546503\n"
     ]
    },
    {
     "name": "stderr",
     "output_type": "stream",
     "text": [
      "\n",
      "  0%|          | 1943/473047 [27:13<24:55:23,  5.25it/s]\u001b[A"
     ]
    },
    {
     "name": "stdout",
     "output_type": "stream",
     "text": [
      "Objective 0.7886568\n",
      "Objective first part 0.76491886\n",
      "Objective second part -0.023737889\n",
      "Objective 0.7897922\n",
      "Objective first part 0.7646235\n",
      "Objective second part -0.02516863\n"
     ]
    },
    {
     "name": "stderr",
     "output_type": "stream",
     "text": [
      "\n",
      "  0%|          | 1944/473047 [27:13<22:02:24,  5.94it/s]\u001b[A\n",
      "  0%|          | 1945/473047 [27:13<20:29:45,  6.38it/s]\u001b[A"
     ]
    },
    {
     "name": "stdout",
     "output_type": "stream",
     "text": [
      "Objective 0.023636574\n",
      "Objective first part 0.0\n",
      "Objective second part -0.023636574\n",
      "Objective 0.021045962\n",
      "Objective first part 0.0\n",
      "Objective second part -0.021045962\n"
     ]
    },
    {
     "name": "stderr",
     "output_type": "stream",
     "text": [
      "\n",
      "  0%|          | 1946/473047 [27:13<19:42:33,  6.64it/s]\u001b[A\n",
      "  0%|          | 1947/473047 [27:14<18:28:43,  7.08it/s]\u001b[A"
     ]
    },
    {
     "name": "stdout",
     "output_type": "stream",
     "text": [
      "Objective 0.7893775\n",
      "Objective first part 0.76455945\n",
      "Objective second part -0.024818085\n",
      "Objective 0.025653215\n",
      "Objective first part 0.0\n",
      "Objective second part -0.025653215\n"
     ]
    },
    {
     "name": "stderr",
     "output_type": "stream",
     "text": [
      "\n",
      "  0%|          | 1948/473047 [27:14<17:14:00,  7.59it/s]\u001b[A\n",
      "  0%|          | 1949/473047 [27:14<16:15:27,  8.05it/s]\u001b[A"
     ]
    },
    {
     "name": "stdout",
     "output_type": "stream",
     "text": [
      "Objective 0.78522456\n",
      "Objective first part 0.76307416\n",
      "Objective second part -0.022150371\n",
      "Objective 0.02000431\n",
      "Objective first part 0.0\n",
      "Objective second part -0.02000431\n"
     ]
    },
    {
     "name": "stderr",
     "output_type": "stream",
     "text": [
      "\n",
      "  0%|          | 1950/473047 [27:14<16:01:00,  8.17it/s]\u001b[A\n",
      "  0%|          | 1951/473047 [27:14<16:16:16,  8.04it/s]\u001b[A"
     ]
    },
    {
     "name": "stdout",
     "output_type": "stream",
     "text": [
      "Objective 0.021620275\n",
      "Objective first part 0.0\n",
      "Objective second part -0.021620275\n",
      "Objective 0.7858217\n",
      "Objective first part 0.7642473\n",
      "Objective second part -0.021574352\n"
     ]
    },
    {
     "name": "stderr",
     "output_type": "stream",
     "text": [
      "\n",
      "  0%|          | 1952/473047 [27:14<16:27:58,  7.95it/s]\u001b[A\n",
      "  0%|          | 1953/473047 [27:14<16:15:27,  8.05it/s]\u001b[A"
     ]
    },
    {
     "name": "stdout",
     "output_type": "stream",
     "text": [
      "Objective 0.02260417\n",
      "Objective first part 0.0\n",
      "Objective second part -0.02260417\n",
      "Objective 0.788965\n",
      "Objective first part 0.76103365\n",
      "Objective second part -0.027931329\n"
     ]
    },
    {
     "name": "stderr",
     "output_type": "stream",
     "text": [
      "\n",
      "  0%|          | 1954/473047 [27:14<16:26:27,  7.96it/s]\u001b[A\n",
      "  0%|          | 1955/473047 [27:14<16:36:08,  7.88it/s]\u001b[A"
     ]
    },
    {
     "name": "stdout",
     "output_type": "stream",
     "text": [
      "Objective 0.025591575\n",
      "Objective first part 0.0\n",
      "Objective second part -0.025591575\n",
      "Objective 0.023471378\n",
      "Objective first part 0.0\n",
      "Objective second part -0.023471378\n"
     ]
    },
    {
     "name": "stderr",
     "output_type": "stream",
     "text": [
      "\n",
      "  0%|          | 1956/473047 [27:15<16:40:39,  7.85it/s]\u001b[A\n",
      "  0%|          | 1957/473047 [27:15<16:43:18,  7.83it/s]\u001b[A"
     ]
    },
    {
     "name": "stdout",
     "output_type": "stream",
     "text": [
      "Objective 0.7902951\n",
      "Objective first part 0.76636636\n",
      "Objective second part -0.023928769\n",
      "Objective 0.7923248\n",
      "Objective first part 0.7649802\n",
      "Objective second part -0.02734456\n",
      "Objective 0.79144984\n",
      "Objective first part 0.76458615\n",
      "Objective second part -0.026863685\n"
     ]
    },
    {
     "name": "stderr",
     "output_type": "stream",
     "text": [
      "\n",
      "  0%|          | 1959/473047 [27:15<14:25:17,  9.07it/s]\u001b[A\n",
      "  0%|          | 1961/473047 [27:15<12:38:29, 10.35it/s]\u001b[A"
     ]
    },
    {
     "name": "stdout",
     "output_type": "stream",
     "text": [
      "Objective 0.020501608\n",
      "Objective first part 0.0\n",
      "Objective second part -0.020501608\n",
      "Objective 0.02262752\n",
      "Objective first part 0.0\n",
      "Objective second part -0.02262752\n",
      "Objective 0.78495514\n",
      "Objective first part 0.7628339\n",
      "Objective second part -0.022121241\n",
      "Objective 0.78305244\n"
     ]
    },
    {
     "name": "stderr",
     "output_type": "stream",
     "text": [
      "\n",
      "  0%|          | 1963/473047 [27:15<11:32:10, 11.34it/s]\u001b[A\n",
      "  0%|          | 1965/473047 [27:15<10:39:06, 12.28it/s]\u001b[A"
     ]
    },
    {
     "name": "stdout",
     "output_type": "stream",
     "text": [
      "Objective first part 0.7616361\n",
      "Objective second part -0.02141638\n",
      "Objective 0.020923251\n",
      "Objective first part 0.0\n",
      "Objective second part -0.020923251\n",
      "Objective 0.022628313\n",
      "Objective first part 0.0\n",
      "Objective second part -0.022628313\n",
      "Objective 0.024792483\n",
      "Objective first part 0.0\n",
      "Objective second part -0.024792483\n"
     ]
    },
    {
     "name": "stderr",
     "output_type": "stream",
     "text": [
      "\n",
      "  0%|          | 1968/473047 [27:15<8:55:14, 14.67it/s] \u001b[A\n",
      "  0%|          | 1971/473047 [27:16<7:40:49, 17.04it/s]\u001b[A"
     ]
    },
    {
     "name": "stdout",
     "output_type": "stream",
     "text": [
      "Objective 0.020781264\n",
      "Objective first part 0.0\n",
      "Objective second part -0.020781264\n",
      "Objective 0.022762697\n",
      "Objective first part 0.0\n",
      "Objective second part -0.022762697\n",
      "Objective 0.7858157\n",
      "Objective first part 0.76412123\n",
      "Objective second part -0.021694463\n",
      "Objective 0.023900136\n",
      "Objective first part 0.0\n",
      "Objective second part -0.023900136\n",
      "Objective 0.7859426\n",
      "Objective first part 0.7612669\n",
      "Objective second part -0.024675727\n",
      "Objective 0.78857803\n",
      "Objective first part 0.76650053\n",
      "Objective second part -0.02207749\n"
     ]
    },
    {
     "name": "stderr",
     "output_type": "stream",
     "text": [
      "\n",
      "  0%|          | 1974/473047 [27:16<6:43:58, 19.43it/s]\u001b[A\n",
      "  0%|          | 1977/473047 [27:16<6:08:07, 21.33it/s]\u001b[A"
     ]
    },
    {
     "name": "stdout",
     "output_type": "stream",
     "text": [
      "Objective 0.024805743\n",
      "Objective first part 0.0\n",
      "Objective second part -0.024805743\n",
      "Objective 0.78353906\n",
      "Objective first part 0.76416\n",
      "Objective second part -0.019379085\n",
      "Objective 0.022138122\n",
      "Objective first part 0.0\n",
      "Objective second part -0.022138122\n",
      "Objective 0.78456086\n",
      "Objective first part 0.7634364\n",
      "Objective second part -0.021124491\n",
      "Objective 0.78267866\n",
      "Objective first part 0.76249033\n",
      "Objective second part -0.020188333\n",
      "Objective 0.7866838\n",
      "Objective first part 0.7648404\n",
      "Objective second part -0.021843344\n"
     ]
    },
    {
     "name": "stderr",
     "output_type": "stream",
     "text": [
      "\n",
      "  0%|          | 1980/473047 [27:16<5:40:20, 23.07it/s]\u001b[A"
     ]
    },
    {
     "name": "stdout",
     "output_type": "stream",
     "text": [
      "Objective 0.023627542\n",
      "Objective first part 0.0\n",
      "Objective second part -0.023627542\n",
      "Objective 0.7863035\n",
      "Objective first part 0.7668774\n",
      "Objective second part -0.019426122\n",
      "Objective 0.78427017\n",
      "Objective first part 0.76214033\n",
      "Objective second part -0.022129834\n",
      "Objective 0.021648293\n",
      "Objective first part 0.0\n",
      "Objective second part -0.021648293\n",
      "Objective 0.7842915\n",
      "Objective first part 0.76367885\n",
      "Objective second part -0.020612646\n"
     ]
    },
    {
     "name": "stderr",
     "output_type": "stream",
     "text": [
      "\n",
      "  0%|          | 1983/473047 [27:16<5:58:50, 21.88it/s]\u001b[A\n",
      "  0%|          | 1986/473047 [27:16<6:50:08, 19.14it/s]\u001b[A"
     ]
    },
    {
     "name": "stdout",
     "output_type": "stream",
     "text": [
      "Objective 0.022211373\n",
      "Objective first part 0.0\n",
      "Objective second part -0.022211373\n",
      "Objective 0.022008453\n",
      "Objective first part 0.0\n",
      "Objective second part -0.022008453\n",
      "Objective 0.026382552\n",
      "Objective first part 0.0\n",
      "Objective second part -0.026382552\n",
      "Objective 0.78499913\n",
      "Objective first part 0.763687\n",
      "Objective second part -0.021312132\n",
      "Objective 0.78517276\n",
      "Objective first part 0.76483643\n",
      "Objective second part -0.02033632\n"
     ]
    },
    {
     "name": "stderr",
     "output_type": "stream",
     "text": [
      "\n",
      "  0%|          | 1989/473047 [27:17<9:20:14, 14.01it/s]\u001b[A"
     ]
    },
    {
     "name": "stdout",
     "output_type": "stream",
     "text": [
      "Objective 0.7828563\n",
      "Objective first part 0.76188797\n",
      "Objective second part -0.020968292\n",
      "Objective 0.78518844\n",
      "Objective first part 0.7637925\n",
      "Objective second part -0.021395918\n"
     ]
    },
    {
     "name": "stderr",
     "output_type": "stream",
     "text": [
      "\n",
      "  0%|          | 1991/473047 [27:17<10:49:51, 12.08it/s]\u001b[A"
     ]
    },
    {
     "name": "stdout",
     "output_type": "stream",
     "text": [
      "Objective 0.7865178\n",
      "Objective first part 0.764522\n",
      "Objective second part -0.02199578\n",
      "Objective 0.022221977\n",
      "Objective first part 0.0\n",
      "Objective second part -0.022221977\n",
      "Objective 0.7832955\n",
      "Objective first part 0.7619621\n",
      "Objective second part -0.021333382\n"
     ]
    },
    {
     "name": "stderr",
     "output_type": "stream",
     "text": [
      "\n",
      "  0%|          | 1993/473047 [27:17<11:30:08, 11.38it/s]\u001b[A"
     ]
    },
    {
     "name": "stdout",
     "output_type": "stream",
     "text": [
      "Objective 0.021875875\n",
      "Objective first part 0.0\n",
      "Objective second part -0.021875875\n",
      "Objective 0.019683532\n",
      "Objective first part 0.0\n",
      "Objective second part -0.019683532\n"
     ]
    },
    {
     "name": "stderr",
     "output_type": "stream",
     "text": [
      "\n",
      "  0%|          | 1995/473047 [27:17<12:26:33, 10.52it/s]\u001b[A"
     ]
    },
    {
     "name": "stdout",
     "output_type": "stream",
     "text": [
      "Objective 0.022405436\n",
      "Objective first part 0.0\n",
      "Objective second part -0.022405436\n",
      "Objective 0.78685015\n",
      "Objective first part 0.76521003\n",
      "Objective second part -0.021640131\n"
     ]
    },
    {
     "name": "stderr",
     "output_type": "stream",
     "text": [
      "\n",
      "  0%|          | 1997/473047 [27:17<13:40:04,  9.57it/s]\u001b[A"
     ]
    },
    {
     "name": "stdout",
     "output_type": "stream",
     "text": [
      "Objective 0.02303951\n",
      "Objective first part 0.0\n",
      "Objective second part -0.02303951\n",
      "Objective 0.78786206\n",
      "Objective first part 0.7649791\n",
      "Objective second part -0.022882951\n"
     ]
    },
    {
     "name": "stderr",
     "output_type": "stream",
     "text": [
      "\n",
      "  0%|          | 1999/473047 [27:18<14:25:08,  9.07it/s]\u001b[A"
     ]
    },
    {
     "name": "stdout",
     "output_type": "stream",
     "text": [
      "Objective 0.7873752\n",
      "Objective first part 0.7660059\n",
      "Objective second part -0.021369308\n",
      "Objective 0.022010341\n",
      "Objective first part 0.0\n",
      "Objective second part -0.022010341\n"
     ]
    },
    {
     "name": "stderr",
     "output_type": "stream",
     "text": [
      "\n",
      "  0%|          | 1999/473047 [27:33<14:25:08,  9.07it/s]\u001b[A"
     ]
    },
    {
     "name": "stdout",
     "output_type": "stream",
     "text": [
      "train loss first part 1.2152934046099856e-09\n",
      "train loss second part -0.022291295\n"
     ]
    },
    {
     "data": {
      "image/png": "[encoded data removed]",
      "text/plain": [
       "<Figure size 432x288 with 1 Axes>"
      ]
     },
     "metadata": {
      "needs_background": "light"
     },
     "output_type": "display_data"
    },
    {
     "data": {
      "image/png": "[encoded data removed]",
      "text/plain": [
       "<Figure size 432x288 with 1 Axes>"
      ]
     },
     "metadata": {
      "needs_background": "light"
     },
     "output_type": "display_data"
    },
    {
     "data": {
      "image/png": "[encoded data removed]",
      "text/plain": [
       "<Figure size 432x288 with 1 Axes>"
      ]
     },
     "metadata": {
      "needs_background": "light"
     },
     "output_type": "display_data"
    },
    {
     "name": "stderr",
     "output_type": "stream",
     "text": [
      "\n",
      "  0%|          | 2001/473047 [28:39<1609:45:10, 12.30s/it]\u001b[A\n",
      "  0%|          | 2002/473047 [28:39<1131:25:18,  8.65s/it]\u001b[A"
     ]
    },
    {
     "name": "stdout",
     "output_type": "stream",
     "text": [
      "New score:  0.9796435\n",
      "Train score:  0.9782301\n",
      "Test score:  0.9778235\n",
      "Objective 0.021191033\n",
      "Objective first part 0.0\n",
      "Objective second part -0.021191033\n",
      "Objective 0.7847007\n",
      "Objective first part 0.7636287\n",
      "Objective second part -0.021071956\n"
     ]
    },
    {
     "name": "stderr",
     "output_type": "stream",
     "text": [
      "\n",
      "  0%|          | 2003/473047 [28:39<796:37:31,  6.09s/it] \u001b[A\n",
      "  0%|          | 2004/473047 [28:40<562:33:32,  4.30s/it]\u001b[A"
     ]
    },
    {
     "name": "stdout",
     "output_type": "stream",
     "text": [
      "Objective 0.02260222\n",
      "Objective first part 0.0\n",
      "Objective second part -0.02260222\n",
      "Objective 0.79190725\n",
      "Objective first part 0.7633585\n",
      "Objective second part -0.028548801\n"
     ]
    },
    {
     "name": "stderr",
     "output_type": "stream",
     "text": [
      "\n",
      "  0%|          | 2005/473047 [28:40<398:34:48,  3.05s/it]\u001b[A\n",
      "  0%|          | 2006/473047 [28:40<283:31:54,  2.17s/it]\u001b[A"
     ]
    },
    {
     "name": "stdout",
     "output_type": "stream",
     "text": [
      "Objective 0.023659887\n",
      "Objective first part 0.0\n",
      "Objective second part -0.023659887\n",
      "Objective 0.022993034\n",
      "Objective first part 0.0\n",
      "Objective second part -0.022993034\n"
     ]
    },
    {
     "name": "stderr",
     "output_type": "stream",
     "text": [
      "\n",
      "  0%|          | 2008/473047 [28:40<201:38:24,  1.54s/it]\u001b[A\n",
      "  0%|          | 2010/473047 [28:40<143:33:41,  1.10s/it]\u001b[A"
     ]
    },
    {
     "name": "stdout",
     "output_type": "stream",
     "text": [
      "Objective 0.78635556\n",
      "Objective first part 0.7636326\n",
      "Objective second part -0.02272294\n",
      "Objective 0.021726443\n",
      "Objective first part 0.0\n",
      "Objective second part -0.021726443\n",
      "Objective 0.7830097\n",
      "Objective first part 0.762847\n",
      "Objective second part -0.02016273\n",
      "Objective 0.7864013\n",
      "Objective first part 0.7650687\n",
      "Objective second part -0.02133259\n"
     ]
    },
    {
     "name": "stderr",
     "output_type": "stream",
     "text": [
      "\n",
      "  0%|          | 2012/473047 [28:40<102:49:13,  1.27it/s]\u001b[A\n",
      "  0%|          | 2014/473047 [28:40<74:22:37,  1.76it/s] \u001b[A"
     ]
    },
    {
     "name": "stdout",
     "output_type": "stream",
     "text": [
      "Objective 0.7853531\n",
      "Objective first part 0.765722\n",
      "Objective second part -0.019631132\n",
      "Objective 0.7881313\n",
      "Objective first part 0.76677656\n",
      "Objective second part -0.021354755\n",
      "Objective 0.019063368\n",
      "Objective first part 0.0\n",
      "Objective second part -0.019063368\n",
      "Objective 0.025698347\n",
      "Objective first part 0.0\n",
      "Objective second part -0.025698347\n"
     ]
    },
    {
     "name": "stderr",
     "output_type": "stream",
     "text": [
      "\n",
      "  0%|          | 2017/473047 [28:40<53:45:20,  2.43it/s]\u001b[A\n",
      "  0%|          | 2020/473047 [28:41<39:03:02,  3.35it/s]\u001b[A"
     ]
    },
    {
     "name": "stdout",
     "output_type": "stream",
     "text": [
      "Objective 0.78775406\n",
      "Objective first part 0.76492834\n",
      "Objective second part -0.022825688\n",
      "Objective 0.78499115\n",
      "Objective first part 0.7632328\n",
      "Objective second part -0.021758301\n",
      "Objective 0.78762937\n",
      "Objective first part 0.7651073\n",
      "Objective second part -0.02252211\n",
      "Objective 0.020532697\n",
      "Objective first part 0.0\n",
      "Objective second part -0.020532697\n",
      "Objective 0.019562751\n",
      "Objective first part 0.0\n",
      "Objective second part -0.019562751\n",
      "Objective 0.78346574\n",
      "Objective first part 0.76226795\n",
      "Objective second part -0.02119779\n"
     ]
    },
    {
     "name": "stderr",
     "output_type": "stream",
     "text": [
      "\n",
      "  0%|          | 2023/473047 [28:41<28:41:23,  4.56it/s]\u001b[A\n",
      "  0%|          | 2028/473047 [28:41<20:55:49,  6.25it/s]\u001b[A"
     ]
    },
    {
     "name": "stdout",
     "output_type": "stream",
     "text": [
      "Objective 0.78897864\n",
      "Objective first part 0.76578045\n",
      "Objective second part -0.023198167\n",
      "Objective 0.7871517\n",
      "Objective first part 0.76251894\n",
      "Objective second part -0.024632778\n",
      "Objective 0.023917964\n",
      "Objective first part 0.0\n",
      "Objective second part -0.023917964\n",
      "Objective 0.78548604\n",
      "Objective first part 0.7643907\n",
      "Objective second part -0.021095332\n",
      "Objective 0.022844104\n",
      "Objective first part 0.0\n",
      "Objective second part -0.022844104\n",
      "Objective 0.7849364\n",
      "Objective first part 0.7634761\n",
      "Objective second part -0.021460345\n",
      "Objective 0.79112107\n",
      "Objective first part 0.7636119\n",
      "Objective second part -0.027509172\n",
      "Objective 0.02209766\n",
      "Objective first part 0.0\n",
      "Objective second part -0.02209766\n",
      "Objective 0.02046188\n",
      "Objective first part 0.0\n",
      "Objective second part -0.02046188\n"
     ]
    },
    {
     "name": "stderr",
     "output_type": "stream",
     "text": [
      "\n",
      "  0%|          | 2034/473047 [28:41<15:21:36,  8.52it/s]\u001b[A\n"
     ]
    },
    {
     "name": "stdout",
     "output_type": "stream",
     "text": [
      "Objective 0.7870606\n",
      "Objective first part 0.76572186\n",
      "Objective second part -0.02133874\n",
      "Objective 0.020178176\n",
      "Objective first part 0.0\n",
      "Objective second part -0.020178176\n",
      "Objective 0.021778708\n",
      "Objective first part 0.0\n",
      "Objective second part -0.021778708\n",
      "Objective 0.7922598\n",
      "Objective first part 0.7672443\n",
      "Objective second part -0.025015527\n",
      "Objective 0.78343713\n",
      "Objective first part 0.7624643\n",
      "Objective second part -0.020972857\n",
      "Objective 0.024216713\n",
      "Objective first part 0.0\n",
      "Objective second part -0.024216713\n",
      "Objective 0.78345174\n",
      "Objective first part 0.76502424\n",
      "Objective second part -0.018427499\n",
      "Objective 0.026568858\n",
      "Objective first part 0.0\n",
      "Objective second part -0.026568858\n"
     ]
    },
    {
     "name": "stderr",
     "output_type": "stream",
     "text": [
      "  0%|          | 2038/473047 [28:41<12:02:20, 10.87it/s]\u001b[A\n",
      "  0%|          | 2042/473047 [28:41<9:54:23, 13.21it/s] \u001b[A"
     ]
    },
    {
     "name": "stdout",
     "output_type": "stream",
     "text": [
      "Objective 0.02241013\n",
      "Objective first part 0.0\n",
      "Objective second part -0.02241013\n",
      "Objective 0.79026294\n",
      "Objective first part 0.76881075\n",
      "Objective second part -0.021452185\n",
      "Objective 0.7825142\n",
      "Objective first part 0.7623061\n",
      "Objective second part -0.020208102\n",
      "Objective 0.7901851\n",
      "Objective first part 0.76741135\n",
      "Objective second part -0.022773733\n",
      "Objective 0.023899587\n",
      "Objective first part 0.0\n",
      "Objective second part -0.023899587\n",
      "Objective 0.78804576\n",
      "Objective first part 0.7641854\n",
      "Objective second part -0.023860335\n",
      "Objective 0.7881244\n",
      "Objective first part 0.7652405\n",
      "Objective second part -0.022883866\n",
      "Objective 0.7885072\n",
      "Objective first part 0.7637042\n",
      "Objective second part -0.024803054\n"
     ]
    },
    {
     "name": "stderr",
     "output_type": "stream",
     "text": [
      "\n",
      "  0%|          | 2046/473047 [28:41<10:03:47, 13.00it/s]\u001b[A"
     ]
    },
    {
     "name": "stdout",
     "output_type": "stream",
     "text": [
      "Objective 0.78666943\n",
      "Objective first part 0.76698333\n",
      "Objective second part -0.019686086\n",
      "Objective 0.78743684\n",
      "Objective first part 0.7656184\n",
      "Objective second part -0.021818487\n"
     ]
    },
    {
     "name": "stderr",
     "output_type": "stream",
     "text": [
      "\n",
      "  0%|          | 2049/473047 [28:42<11:55:26, 10.97it/s]\u001b[A"
     ]
    },
    {
     "name": "stdout",
     "output_type": "stream",
     "text": [
      "Objective 0.7884519\n",
      "Objective first part 0.76565325\n",
      "Objective second part -0.022798674\n",
      "Objective 0.018705726\n",
      "Objective first part 0.0\n",
      "Objective second part -0.018705726\n",
      "Objective 0.78757685\n",
      "Objective first part 0.7648388\n",
      "Objective second part -0.022738062\n",
      "Objective 0.7813011\n",
      "Objective first part 0.7634881\n",
      "Objective second part -0.017812967\n"
     ]
    },
    {
     "name": "stderr",
     "output_type": "stream",
     "text": [
      "\n",
      "  0%|          | 2052/473047 [28:42<13:09:04,  9.95it/s]\u001b[A"
     ]
    },
    {
     "name": "stdout",
     "output_type": "stream",
     "text": [
      "Objective 0.022344604\n",
      "Objective first part 0.0\n",
      "Objective second part -0.022344604\n",
      "Objective 0.02245292\n",
      "Objective first part 0.0\n",
      "Objective second part -0.02245292\n"
     ]
    },
    {
     "name": "stderr",
     "output_type": "stream",
     "text": [
      "\n",
      "  0%|          | 2054/473047 [28:42<13:49:52,  9.46it/s]\u001b[A"
     ]
    },
    {
     "name": "stdout",
     "output_type": "stream",
     "text": [
      "Objective 0.0197991\n",
      "Objective first part 0.0\n",
      "Objective second part -0.0197991\n",
      "Objective 0.78729934\n",
      "Objective first part 0.7659162\n",
      "Objective second part -0.02138313\n"
     ]
    },
    {
     "name": "stderr",
     "output_type": "stream",
     "text": [
      "\n",
      "  0%|          | 2056/473047 [28:43<14:24:00,  9.09it/s]\u001b[A"
     ]
    },
    {
     "name": "stdout",
     "output_type": "stream",
     "text": [
      "Objective 0.020266004\n",
      "Objective first part 0.0\n",
      "Objective second part -0.020266004\n",
      "Objective 0.7866558\n",
      "Objective first part 0.763481\n",
      "Objective second part -0.023174742\n"
     ]
    },
    {
     "name": "stderr",
     "output_type": "stream",
     "text": [
      "\n",
      "  0%|          | 2058/473047 [28:43<16:33:31,  7.90it/s]\u001b[A"
     ]
    },
    {
     "name": "stdout",
     "output_type": "stream",
     "text": [
      "Objective 0.019341104\n",
      "Objective first part 0.0\n",
      "Objective second part -0.019341104\n",
      "Objective 0.023709934\n",
      "Objective first part 0.0\n",
      "Objective second part -0.023709934\n"
     ]
    },
    {
     "name": "stderr",
     "output_type": "stream",
     "text": [
      "\n",
      "  0%|          | 2060/473047 [28:43<16:30:32,  7.92it/s]\u001b[A\n",
      "  0%|          | 2061/473047 [28:43<16:37:07,  7.87it/s]\u001b[A"
     ]
    },
    {
     "name": "stdout",
     "output_type": "stream",
     "text": [
      "Objective 0.026072938\n",
      "Objective first part 0.0\n",
      "Objective second part -0.026072938\n",
      "Objective 0.022653006\n",
      "Objective first part 0.0\n",
      "Objective second part -0.022653006\n"
     ]
    },
    {
     "name": "stderr",
     "output_type": "stream",
     "text": [
      "\n",
      "  0%|          | 2062/473047 [28:44<16:45:23,  7.81it/s]\u001b[A\n",
      "  0%|          | 2063/473047 [28:44<16:48:12,  7.79it/s]\u001b[A"
     ]
    },
    {
     "name": "stdout",
     "output_type": "stream",
     "text": [
      "Objective 0.023528311\n",
      "Objective first part 0.0\n",
      "Objective second part -0.023528311\n",
      "Objective 0.7904453\n",
      "Objective first part 0.76744485\n",
      "Objective second part -0.023000475\n"
     ]
    },
    {
     "name": "stderr",
     "output_type": "stream",
     "text": [
      "\n",
      "  0%|          | 2064/473047 [28:44<16:46:22,  7.80it/s]\u001b[A\n",
      "  0%|          | 2065/473047 [28:44<16:45:54,  7.80it/s]\u001b[A"
     ]
    },
    {
     "name": "stdout",
     "output_type": "stream",
     "text": [
      "Objective 0.021370586\n",
      "Objective first part 0.0\n",
      "Objective second part -0.021370586\n",
      "Objective 0.021117369\n",
      "Objective first part 0.0\n",
      "Objective second part -0.021117369\n"
     ]
    },
    {
     "name": "stderr",
     "output_type": "stream",
     "text": [
      "\n",
      "  0%|          | 2066/473047 [28:44<16:52:29,  7.75it/s]\u001b[A\n",
      "  0%|          | 2067/473047 [28:44<16:48:25,  7.78it/s]\u001b[A"
     ]
    },
    {
     "name": "stdout",
     "output_type": "stream",
     "text": [
      "Objective 0.78692895\n",
      "Objective first part 0.76526535\n",
      "Objective second part -0.021663582\n",
      "Objective 0.017962847\n",
      "Objective first part 0.0\n",
      "Objective second part -0.017962847\n"
     ]
    },
    {
     "name": "stderr",
     "output_type": "stream",
     "text": [
      "\n",
      "  0%|          | 2068/473047 [28:44<16:49:23,  7.78it/s]\u001b[A\n",
      "  0%|          | 2069/473047 [28:44<16:50:11,  7.77it/s]\u001b[A"
     ]
    },
    {
     "name": "stdout",
     "output_type": "stream",
     "text": [
      "Objective 0.019082626\n",
      "Objective first part 0.0\n",
      "Objective second part -0.019082626\n",
      "Objective 0.018117666\n",
      "Objective first part 0.0\n",
      "Objective second part -0.018117666\n",
      "Objective 0.022327477\n",
      "Objective first part 0.0\n",
      "Objective second part -0.022327477\n"
     ]
    },
    {
     "name": "stderr",
     "output_type": "stream",
     "text": [
      "\n",
      "  0%|          | 2071/473047 [28:45<14:56:43,  8.75it/s]\u001b[A\n",
      "  0%|          | 2072/473047 [28:45<15:27:16,  8.47it/s]\u001b[A"
     ]
    },
    {
     "name": "stdout",
     "output_type": "stream",
     "text": [
      "Objective 0.023332689\n",
      "Objective first part 0.0\n",
      "Objective second part -0.023332689\n",
      "Objective 0.024172807\n",
      "Objective first part 0.0\n",
      "Objective second part -0.024172807\n"
     ]
    },
    {
     "name": "stderr",
     "output_type": "stream",
     "text": [
      "\n",
      "  0%|          | 2073/473047 [28:45<15:07:08,  8.65it/s]\u001b[A\n",
      "  0%|          | 2075/473047 [28:45<13:03:00, 10.02it/s]\u001b[A"
     ]
    },
    {
     "name": "stdout",
     "output_type": "stream",
     "text": [
      "Objective 0.018893884\n",
      "Objective first part 0.0\n",
      "Objective second part -0.018893884\n",
      "Objective 0.02342598\n",
      "Objective first part 0.0\n",
      "Objective second part -0.02342598\n",
      "Objective 0.018654713\n",
      "Objective first part 0.0\n",
      "Objective second part -0.018654713\n"
     ]
    },
    {
     "name": "stderr",
     "output_type": "stream",
     "text": [
      "\n",
      "  0%|          | 2077/473047 [28:45<12:07:34, 10.79it/s]\u001b[A\n",
      "  0%|          | 2079/473047 [28:45<10:48:57, 12.10it/s]\u001b[A"
     ]
    },
    {
     "name": "stdout",
     "output_type": "stream",
     "text": [
      "Objective 0.019247342\n",
      "Objective first part 0.0\n",
      "Objective second part -0.019247342\n",
      "Objective 0.7840284\n",
      "Objective first part 0.76563555\n",
      "Objective second part -0.018392833\n",
      "Objective 0.020780595\n",
      "Objective first part 0.0\n",
      "Objective second part -0.020780595\n",
      "Objective 0.02002614\n",
      "Objective first part 0.0\n",
      "Objective second part -0.02002614\n"
     ]
    },
    {
     "name": "stderr",
     "output_type": "stream",
     "text": [
      "\n",
      "  0%|          | 2081/473047 [28:45<9:37:50, 13.58it/s] \u001b[A\n",
      "  0%|          | 2083/473047 [28:45<9:09:21, 14.29it/s]\u001b[A"
     ]
    },
    {
     "name": "stdout",
     "output_type": "stream",
     "text": [
      "Objective 0.7886099\n",
      "Objective first part 0.7663923\n",
      "Objective second part -0.02221765\n",
      "Objective 0.021981765\n",
      "Objective first part 0.0\n",
      "Objective second part -0.021981765\n",
      "Objective 0.7874017\n",
      "Objective first part 0.7663548\n",
      "Objective second part -0.021046875\n",
      "Objective 0.7849321\n",
      "Objective first part 0.7651607\n",
      "Objective second part -0.019771377\n"
     ]
    },
    {
     "name": "stderr",
     "output_type": "stream",
     "text": [
      "\n",
      "  0%|          | 2085/473047 [28:46<8:58:08, 14.59it/s]\u001b[A\n",
      "  0%|          | 2088/473047 [28:46<7:49:11, 16.73it/s]\u001b[A"
     ]
    },
    {
     "name": "stdout",
     "output_type": "stream",
     "text": [
      "Objective 0.017977169\n",
      "Objective first part 0.0\n",
      "Objective second part -0.017977169\n",
      "Objective 0.02125228\n",
      "Objective first part 0.0\n",
      "Objective second part -0.02125228\n",
      "Objective 0.018407706\n",
      "Objective first part 0.0\n",
      "Objective second part -0.018407706\n",
      "Objective 0.017552154\n",
      "Objective first part 0.0\n",
      "Objective second part -0.017552154\n",
      "Objective 0.021129483\n",
      "Objective first part 0.0\n",
      "Objective second part -0.021129483\n"
     ]
    },
    {
     "name": "stderr",
     "output_type": "stream",
     "text": [
      "\n",
      "  0%|          | 2092/473047 [28:46<6:38:24, 19.70it/s]\u001b[A"
     ]
    },
    {
     "name": "stdout",
     "output_type": "stream",
     "text": [
      "Objective 0.018053515\n",
      "Objective first part 0.0\n",
      "Objective second part -0.018053515\n",
      "Objective 0.785845\n",
      "Objective first part 0.76517755\n",
      "Objective second part -0.020667408\n",
      "Objective 0.020175016\n",
      "Objective first part 0.0\n",
      "Objective second part -0.020175016\n",
      "Objective 0.78486294\n",
      "Objective first part 0.7652398\n",
      "Objective second part -0.01962317\n",
      "Objective 0.7861303\n",
      "Objective first part 0.76592815\n",
      "Objective second part -0.020202141\n",
      "Objective 0.78585386\n",
      "Objective first part 0.7670088\n",
      "Objective second part -0.018845111\n",
      "Objective 0.7841871\n",
      "Objective first part 0.76412636\n",
      "Objective second part -0.020060742\n"
     ]
    },
    {
     "name": "stderr",
     "output_type": "stream",
     "text": [
      "\n",
      "  0%|          | 2096/473047 [28:46<5:56:55, 21.99it/s]\u001b[A\n",
      "  0%|          | 2099/473047 [28:46<5:29:58, 23.79it/s]\u001b[A"
     ]
    },
    {
     "name": "stdout",
     "output_type": "stream",
     "text": [
      "Objective 0.7894306\n",
      "Objective first part 0.766857\n",
      "Objective second part -0.022573564\n",
      "Objective 0.018770345\n",
      "Objective first part 0.0\n",
      "Objective second part -0.018770345\n",
      "Objective 0.01978846\n",
      "Objective first part 0.0\n",
      "Objective second part -0.01978846\n",
      "Objective 0.78497225\n",
      "Objective first part 0.7654706\n",
      "Objective second part -0.019501606\n",
      "Objective 0.020453364\n",
      "Objective first part 0.0\n",
      "Objective second part -0.020453364\n"
     ]
    },
    {
     "name": "stderr",
     "output_type": "stream",
     "text": [
      "\n",
      "  0%|          | 2099/473047 [29:04<5:29:58, 23.79it/s]\u001b[A"
     ]
    },
    {
     "name": "stdout",
     "output_type": "stream",
     "text": [
      "train loss first part 1.217397885648614e-09\n",
      "train loss second part -0.02061472\n"
     ]
    },
    {
     "name": "stderr",
     "output_type": "stream",
     "text": [
      "\n",
      "  0%|          | 2101/473047 [30:07<1592:16:39, 12.17s/it]\u001b[A\n",
      "  0%|          | 2104/473047 [30:07<1116:05:49,  8.53s/it]\u001b[A"
     ]
    },
    {
     "name": "stdout",
     "output_type": "stream",
     "text": [
      "Objective 0.7854797\n",
      "Objective first part 0.76624084\n",
      "Objective second part -0.019238895\n",
      "Objective 0.78673744\n",
      "Objective first part 0.7671344\n",
      "Objective second part -0.01960299\n",
      "Objective 0.7909795\n",
      "Objective first part 0.7678445\n",
      "Objective second part -0.02313503\n",
      "Objective 0.019032264\n",
      "Objective first part 0.0\n",
      "Objective second part -0.019032264\n",
      "Objective 0.019967642\n",
      "Objective first part 0.0\n",
      "Objective second part -0.019967642\n",
      "Objective 0.020955328\n",
      "Objective first part 0.0\n",
      "Objective second part -0.020955328\n",
      "Objective 0.7856536\n",
      "Objective first part 0.76350296\n",
      "Objective second part -0.022150615\n"
     ]
    },
    {
     "name": "stderr",
     "output_type": "stream",
     "text": [
      "\n",
      "  0%|          | 2109/473047 [30:07<782:12:08,  5.98s/it] \u001b[A\n",
      "  0%|          | 2114/473047 [30:07<548:23:21,  4.19s/it]\u001b[A"
     ]
    },
    {
     "name": "stdout",
     "output_type": "stream",
     "text": [
      "Objective 0.021244913\n",
      "Objective first part 0.0\n",
      "Objective second part -0.021244913\n",
      "Objective 0.7832698\n",
      "Objective first part 0.7647642\n",
      "Objective second part -0.01850564\n",
      "Objective 0.78548825\n",
      "Objective first part 0.76529837\n",
      "Objective second part -0.020189855\n",
      "Objective 0.7837559\n",
      "Objective first part 0.76470315\n",
      "Objective second part -0.019052736\n",
      "Objective 0.7884749\n",
      "Objective first part 0.7665637\n",
      "Objective second part -0.021911211\n",
      "Objective 0.7838315\n",
      "Objective first part 0.7641625\n",
      "Objective second part -0.019669004\n",
      "Objective 0.7869823\n",
      "Objective first part 0.76608104\n",
      "Objective second part -0.02090128\n",
      "Objective 0.7842115\n",
      "Objective first part 0.76714677\n",
      "Objective second part -0.017064748\n"
     ]
    },
    {
     "name": "stderr",
     "output_type": "stream",
     "text": [
      "\n",
      "  0%|          | 2117/473047 [30:07<385:14:58,  2.95s/it]\u001b[A\n",
      "  0%|          | 2120/473047 [30:08<271:03:17,  2.07s/it]\u001b[A"
     ]
    },
    {
     "name": "stdout",
     "output_type": "stream",
     "text": [
      "Objective 0.7840698\n",
      "Objective first part 0.76457083\n",
      "Objective second part -0.019498931\n",
      "Objective 0.017432662\n",
      "Objective first part 0.0\n",
      "Objective second part -0.017432662\n",
      "Objective 0.784209\n",
      "Objective first part 0.76501197\n",
      "Objective second part -0.01919703\n",
      "Objective 0.022109542\n",
      "Objective first part 0.0\n",
      "Objective second part -0.022109542\n",
      "Objective 0.78615373\n",
      "Objective first part 0.767079\n",
      "Objective second part -0.019074729\n",
      "Objective 0.7875476\n",
      "Objective first part 0.76639676\n",
      "Objective second part -0.021150852\n"
     ]
    },
    {
     "name": "stderr",
     "output_type": "stream",
     "text": [
      "\n",
      "  0%|          | 2123/473047 [30:08<191:08:24,  1.46s/it]\u001b[A\n",
      "  0%|          | 2126/473047 [30:08<135:07:17,  1.03s/it]\u001b[A"
     ]
    },
    {
     "name": "stdout",
     "output_type": "stream",
     "text": [
      "Objective 0.7866277\n",
      "Objective first part 0.7665979\n",
      "Objective second part -0.020029789\n",
      "Objective 0.7848811\n",
      "Objective first part 0.7644907\n",
      "Objective second part -0.020390399\n",
      "Objective 0.78558636\n",
      "Objective first part 0.76552165\n",
      "Objective second part -0.020064695\n",
      "Objective 0.01859763\n",
      "Objective first part 0.0\n",
      "Objective second part -0.01859763\n",
      "Objective 0.01900754\n",
      "Objective first part 0.0\n",
      "Objective second part -0.01900754\n",
      "Objective 0.021466862\n",
      "Objective first part 0.0\n",
      "Objective second part -0.021466862\n",
      "Objective 0.78566\n",
      "Objective first part 0.7659765\n",
      "Objective second part -0.019683532\n"
     ]
    },
    {
     "name": "stderr",
     "output_type": "stream",
     "text": [
      "\n",
      "  0%|          | 2130/473047 [30:08<95:49:21,  1.37it/s] \u001b[A\n",
      "  0%|          | 2133/473047 [30:08<68:50:25,  1.90it/s]\u001b[A"
     ]
    },
    {
     "name": "stdout",
     "output_type": "stream",
     "text": [
      "Objective 0.7878259\n",
      "Objective first part 0.7664109\n",
      "Objective second part -0.021414978\n",
      "Objective 0.78392255\n",
      "Objective first part 0.76520836\n",
      "Objective second part -0.018714167\n",
      "Objective 0.022599414\n",
      "Objective first part 0.0\n",
      "Objective second part -0.022599414\n",
      "Objective 0.7829817\n",
      "Objective first part 0.7648327\n",
      "Objective second part -0.018149046\n",
      "Objective 0.7825332\n",
      "Objective first part 0.76202273\n",
      "Objective second part -0.02051049\n",
      "Objective 0.022872766\n",
      "Objective first part 0.0\n",
      "Objective second part -0.022872766\n",
      "Objective 0.78499883\n",
      "Objective first part 0.7654883\n",
      "Objective second part -0.01951048\n"
     ]
    },
    {
     "name": "stderr",
     "output_type": "stream",
     "text": [
      "\n",
      "  0%|          | 2136/473047 [30:08<52:21:40,  2.50it/s]\u001b[A"
     ]
    },
    {
     "name": "stdout",
     "output_type": "stream",
     "text": [
      "Objective 0.022086386\n",
      "Objective first part 0.0\n",
      "Objective second part -0.022086386\n",
      "Objective 0.022106983\n",
      "Objective first part 0.0\n",
      "Objective second part -0.022106983\n"
     ]
    },
    {
     "name": "stderr",
     "output_type": "stream",
     "text": [
      "\n",
      "  0%|          | 2139/473047 [30:09<41:23:57,  3.16it/s]\u001b[A"
     ]
    },
    {
     "name": "stdout",
     "output_type": "stream",
     "text": [
      "Objective 0.7852451\n",
      "Objective first part 0.76734275\n",
      "Objective second part -0.017902346\n",
      "Objective 0.78614557\n",
      "Objective first part 0.7658806\n",
      "Objective second part -0.02026497\n"
     ]
    },
    {
     "name": "stderr",
     "output_type": "stream",
     "text": [
      "\n",
      "  0%|          | 2141/473047 [30:09<33:38:10,  3.89it/s]\u001b[A"
     ]
    },
    {
     "name": "stdout",
     "output_type": "stream",
     "text": [
      "Objective 0.017740158\n",
      "Objective first part 0.0\n",
      "Objective second part -0.017740158\n",
      "Objective 0.01727637\n",
      "Objective first part 0.0\n",
      "Objective second part -0.01727637\n"
     ]
    },
    {
     "name": "stderr",
     "output_type": "stream",
     "text": [
      "\n",
      "  0%|          | 2143/473047 [30:09<27:53:29,  4.69it/s]\u001b[A"
     ]
    },
    {
     "name": "stdout",
     "output_type": "stream",
     "text": [
      "Objective 0.78586304\n",
      "Objective first part 0.76480335\n",
      "Objective second part -0.02105972\n",
      "Objective 0.7873892\n",
      "Objective first part 0.7676635\n",
      "Objective second part -0.019725721\n"
     ]
    },
    {
     "name": "stderr",
     "output_type": "stream",
     "text": [
      "\n",
      "  0%|          | 2145/473047 [30:09<24:07:45,  5.42it/s]\u001b[A"
     ]
    },
    {
     "name": "stdout",
     "output_type": "stream",
     "text": [
      "Objective 0.7876249\n",
      "Objective first part 0.7652394\n",
      "Objective second part -0.022385504\n",
      "Objective 0.7878236\n",
      "Objective first part 0.7658244\n",
      "Objective second part -0.021999251\n"
     ]
    },
    {
     "name": "stderr",
     "output_type": "stream",
     "text": [
      "\n",
      "  0%|          | 2147/473047 [30:10<21:17:57,  6.14it/s]\u001b[A"
     ]
    },
    {
     "name": "stdout",
     "output_type": "stream",
     "text": [
      "Objective 0.018703174\n",
      "Objective first part 0.0\n",
      "Objective second part -0.018703174\n",
      "Objective 0.78325176\n",
      "Objective first part 0.76566327\n",
      "Objective second part -0.01758849\n"
     ]
    },
    {
     "name": "stderr",
     "output_type": "stream",
     "text": [
      "\n",
      "  0%|          | 2149/473047 [30:10<19:25:26,  6.73it/s]\u001b[A"
     ]
    },
    {
     "name": "stdout",
     "output_type": "stream",
     "text": [
      "Objective 0.78281903\n",
      "Objective first part 0.7658525\n",
      "Objective second part -0.016966533\n",
      "Objective 0.019954205\n",
      "Objective first part 0.0\n",
      "Objective second part -0.019954205\n"
     ]
    },
    {
     "name": "stderr",
     "output_type": "stream",
     "text": [
      "\n",
      "  0%|          | 2151/473047 [30:10<18:20:46,  7.13it/s]\u001b[A"
     ]
    },
    {
     "name": "stdout",
     "output_type": "stream",
     "text": [
      "Objective 0.021056797\n",
      "Objective first part 0.0\n",
      "Objective second part -0.021056797\n",
      "Objective 0.78462577\n",
      "Objective first part 0.76436114\n",
      "Objective second part -0.020264605\n"
     ]
    },
    {
     "name": "stderr",
     "output_type": "stream",
     "text": [
      "\n",
      "  0%|          | 2152/473047 [30:10<18:05:28,  7.23it/s]\u001b[A\n",
      "  0%|          | 2153/473047 [30:10<17:25:44,  7.50it/s]\u001b[A"
     ]
    },
    {
     "name": "stdout",
     "output_type": "stream",
     "text": [
      "Objective 0.789598\n",
      "Objective first part 0.76849055\n",
      "Objective second part -0.021107445\n",
      "Objective 0.021599445\n",
      "Objective first part 0.0\n",
      "Objective second part -0.021599445\n"
     ]
    },
    {
     "name": "stderr",
     "output_type": "stream",
     "text": [
      "\n",
      "  0%|          | 2154/473047 [30:10<16:40:06,  7.85it/s]\u001b[A\n",
      "  0%|          | 2155/473047 [30:11<16:24:28,  7.97it/s]\u001b[A"
     ]
    },
    {
     "name": "stdout",
     "output_type": "stream",
     "text": [
      "Objective 0.7872878\n",
      "Objective first part 0.76815486\n",
      "Objective second part -0.01913293\n",
      "Objective 0.78567225\n",
      "Objective first part 0.766039\n",
      "Objective second part -0.019633261\n"
     ]
    },
    {
     "name": "stderr",
     "output_type": "stream",
     "text": [
      "\n",
      "  0%|          | 2156/473047 [30:11<16:25:43,  7.96it/s]\u001b[A\n",
      "  0%|          | 2157/473047 [30:11<16:03:57,  8.14it/s]\u001b[A"
     ]
    },
    {
     "name": "stdout",
     "output_type": "stream",
     "text": [
      "Objective 0.017733242\n",
      "Objective first part 0.0\n",
      "Objective second part -0.017733242\n",
      "Objective 0.017235499\n",
      "Objective first part 0.0\n",
      "Objective second part -0.017235499\n"
     ]
    },
    {
     "name": "stderr",
     "output_type": "stream",
     "text": [
      "\n",
      "  0%|          | 2158/473047 [30:11<15:51:13,  8.25it/s]\u001b[A\n",
      "  0%|          | 2159/473047 [30:11<16:12:19,  8.07it/s]\u001b[A"
     ]
    },
    {
     "name": "stdout",
     "output_type": "stream",
     "text": [
      "Objective 0.025066864\n",
      "Objective first part 0.0\n",
      "Objective second part -0.025066864\n",
      "Objective 0.7874402\n",
      "Objective first part 0.76779175\n",
      "Objective second part -0.019648457\n"
     ]
    },
    {
     "name": "stderr",
     "output_type": "stream",
     "text": [
      "\n",
      "  0%|          | 2160/473047 [30:11<16:22:28,  7.99it/s]\u001b[A\n",
      "  0%|          | 2161/473047 [30:11<16:29:44,  7.93it/s]\u001b[A"
     ]
    },
    {
     "name": "stdout",
     "output_type": "stream",
     "text": [
      "Objective 0.018207194\n",
      "Objective first part 0.0\n",
      "Objective second part -0.018207194\n",
      "Objective 0.01993876\n",
      "Objective first part 0.0\n",
      "Objective second part -0.01993876\n"
     ]
    },
    {
     "name": "stderr",
     "output_type": "stream",
     "text": [
      "\n",
      "  0%|          | 2162/473047 [30:11<16:32:24,  7.91it/s]\u001b[A\n",
      "  0%|          | 2163/473047 [30:12<16:40:23,  7.84it/s]\u001b[A"
     ]
    },
    {
     "name": "stdout",
     "output_type": "stream",
     "text": [
      "Objective 0.78584945\n",
      "Objective first part 0.7684051\n",
      "Objective second part -0.017444368\n",
      "Objective 0.7856432\n",
      "Objective first part 0.7678508\n",
      "Objective second part -0.017792398\n"
     ]
    },
    {
     "name": "stderr",
     "output_type": "stream",
     "text": [
      "\n",
      "  0%|          | 2164/473047 [30:12<16:39:00,  7.86it/s]\u001b[A\n",
      "  0%|          | 2166/473047 [30:12<13:54:13,  9.41it/s]\u001b[A"
     ]
    },
    {
     "name": "stdout",
     "output_type": "stream",
     "text": [
      "Objective 0.01979594\n",
      "Objective first part 0.0\n",
      "Objective second part -0.01979594\n",
      "Objective 0.01936061\n",
      "Objective first part 0.0\n",
      "Objective second part -0.01936061\n",
      "Objective 0.78871053\n",
      "Objective first part 0.7674651\n",
      "Objective second part -0.0212454\n",
      "Objective 0.7910851\n",
      "Objective first part 0.76630384\n",
      "Objective second part -0.024781302\n"
     ]
    },
    {
     "name": "stderr",
     "output_type": "stream",
     "text": [
      "\n",
      "  0%|          | 2168/473047 [30:12<12:10:22, 10.75it/s]\u001b[A\n",
      "  0%|          | 2170/473047 [30:12<10:58:51, 11.91it/s]\u001b[A"
     ]
    },
    {
     "name": "stdout",
     "output_type": "stream",
     "text": [
      "Objective 0.02188343\n",
      "Objective first part 0.0\n",
      "Objective second part -0.02188343\n",
      "Objective 0.021678505\n",
      "Objective first part 0.0\n",
      "Objective second part -0.021678505\n",
      "Objective 0.78529626\n",
      "Objective first part 0.7671729\n",
      "Objective second part -0.018123372\n",
      "Objective 0.017600441\n",
      "Objective first part 0.0\n",
      "Objective second part -0.017600441\n"
     ]
    },
    {
     "name": "stderr",
     "output_type": "stream",
     "text": [
      "\n",
      "  0%|          | 2172/473047 [30:12<10:10:32, 12.85it/s]\u001b[A\n",
      "  0%|          | 2175/473047 [30:12<8:54:02, 14.70it/s] \u001b[A"
     ]
    },
    {
     "name": "stdout",
     "output_type": "stream",
     "text": [
      "Objective 0.7808552\n",
      "Objective first part 0.7624277\n",
      "Objective second part -0.018427499\n",
      "Objective 0.7828102\n",
      "Objective first part 0.7639622\n",
      "Objective second part -0.018848026\n",
      "Objective 0.7855266\n",
      "Objective first part 0.7653986\n",
      "Objective second part -0.02012794\n",
      "Objective 0.78663874\n",
      "Objective first part 0.76656365\n",
      "Objective second part -0.020075094\n",
      "Objective 0.023488281\n",
      "Objective first part 0.0\n",
      "Objective second part -0.023488281\n",
      "Objective 0.01865192\n"
     ]
    },
    {
     "name": "stderr",
     "output_type": "stream",
     "text": [
      "\n",
      "  0%|          | 2178/473047 [30:12<7:41:02, 17.02it/s]\u001b[A\n",
      "  0%|          | 2181/473047 [30:13<6:45:33, 19.35it/s]\u001b[A"
     ]
    },
    {
     "name": "stdout",
     "output_type": "stream",
     "text": [
      "Objective first part 0.0\n",
      "Objective second part -0.01865192\n",
      "Objective 0.78511155\n",
      "Objective first part 0.7664725\n",
      "Objective second part -0.018639047\n",
      "Objective 0.7858815\n",
      "Objective first part 0.76725405\n",
      "Objective second part -0.018627448\n",
      "Objective 0.018897954\n",
      "Objective first part 0.0\n",
      "Objective second part -0.018897954\n",
      "Objective 0.020371845\n",
      "Objective first part 0.0\n",
      "Objective second part -0.020371845\n",
      "Objective 0.7891423\n",
      "Objective first part 0.7681349\n",
      "Objective second part -0.021007432\n"
     ]
    },
    {
     "name": "stderr",
     "output_type": "stream",
     "text": [
      "\n",
      "  0%|          | 2184/473047 [30:13<6:05:35, 21.47it/s]\u001b[A\n",
      "  0%|          | 2187/473047 [30:13<5:36:50, 23.30it/s]\u001b[A"
     ]
    },
    {
     "name": "stdout",
     "output_type": "stream",
     "text": [
      "Objective 0.7810428\n",
      "Objective first part 0.76383686\n",
      "Objective second part -0.017205967\n",
      "Objective 0.78669846\n",
      "Objective first part 0.76733094\n",
      "Objective second part -0.019367538\n",
      "Objective 0.78382957\n",
      "Objective first part 0.7658758\n",
      "Objective second part -0.017953744\n",
      "Objective 0.020668626\n",
      "Objective first part 0.0\n",
      "Objective second part -0.020668626\n",
      "Objective 0.019404609\n",
      "Objective first part 0.0\n",
      "Objective second part -0.019404609\n",
      "Objective 0.021931134\n",
      "Objective first part 0.0\n",
      "Objective second part -0.021931134\n"
     ]
    },
    {
     "name": "stderr",
     "output_type": "stream",
     "text": [
      "\n",
      "  0%|          | 2190/473047 [30:13<5:24:10, 24.21it/s]\u001b[A"
     ]
    },
    {
     "name": "stdout",
     "output_type": "stream",
     "text": [
      "Objective 0.019147573\n",
      "Objective first part 0.0\n",
      "Objective second part -0.019147573\n",
      "Objective 0.7834015\n",
      "Objective first part 0.7647269\n",
      "Objective second part -0.018674633\n",
      "Objective 0.7866222\n",
      "Objective first part 0.7674371\n",
      "Objective second part -0.019185122\n",
      "Objective 0.025507987\n",
      "Objective first part 0.0\n",
      "Objective second part -0.025507987\n"
     ]
    },
    {
     "name": "stderr",
     "output_type": "stream",
     "text": [
      "\n",
      "  0%|          | 2193/473047 [30:13<5:59:08, 21.85it/s]\u001b[A"
     ]
    },
    {
     "name": "stdout",
     "output_type": "stream",
     "text": [
      "Objective 0.0190692\n",
      "Objective first part 0.0\n",
      "Objective second part -0.0190692\n",
      "Objective 0.78576386\n",
      "Objective first part 0.766637\n",
      "Objective second part -0.019126855\n",
      "Objective 0.78482944\n",
      "Objective first part 0.76652807\n",
      "Objective second part -0.018301345\n"
     ]
    },
    {
     "name": "stderr",
     "output_type": "stream",
     "text": [
      "\n",
      "  0%|          | 2196/473047 [30:13<7:14:38, 18.05it/s]\u001b[A"
     ]
    },
    {
     "name": "stdout",
     "output_type": "stream",
     "text": [
      "Objective 0.7825919\n",
      "Objective first part 0.76324344\n",
      "Objective second part -0.019348456\n",
      "Objective 0.018053818\n",
      "Objective first part 0.0\n",
      "Objective second part -0.018053818\n",
      "Objective 0.78159076\n",
      "Objective first part 0.76461685\n",
      "Objective second part -0.016973928\n"
     ]
    },
    {
     "name": "stderr",
     "output_type": "stream",
     "text": [
      "\n",
      "  0%|          | 2199/473047 [30:14<8:30:39, 15.37it/s]\u001b[A"
     ]
    },
    {
     "name": "stdout",
     "output_type": "stream",
     "text": [
      "Objective 0.018577836\n",
      "Objective first part 0.0\n",
      "Objective second part -0.018577836\n",
      "Objective 0.78342104\n",
      "Objective first part 0.76623684\n",
      "Objective second part -0.017184198\n"
     ]
    },
    {
     "name": "stderr",
     "output_type": "stream",
     "text": [
      "\n",
      "  0%|          | 2199/473047 [30:34<8:30:39, 15.37it/s]\u001b[A"
     ]
    },
    {
     "name": "stdout",
     "output_type": "stream",
     "text": [
      "train loss first part 1.2189179414059941e-09\n",
      "train loss second part -0.01940385\n"
     ]
    },
    {
     "name": "stderr",
     "output_type": "stream",
     "text": [
      "\n",
      "  0%|          | 2201/473047 [31:35<1611:46:23, 12.32s/it]\u001b[A\n",
      "  0%|          | 2202/473047 [31:36<1133:11:23,  8.66s/it]\u001b[A"
     ]
    },
    {
     "name": "stdout",
     "output_type": "stream",
     "text": [
      "Objective 0.7857739\n",
      "Objective first part 0.7674502\n",
      "Objective second part -0.018323684\n",
      "Objective 0.78971326\n",
      "Objective first part 0.7675255\n",
      "Objective second part -0.022187788\n"
     ]
    },
    {
     "name": "stderr",
     "output_type": "stream",
     "text": [
      "\n",
      "  0%|          | 2203/473047 [31:36<798:16:09,  6.10s/it] \u001b[A\n",
      "  0%|          | 2204/473047 [31:36<563:50:00,  4.31s/it]\u001b[A"
     ]
    },
    {
     "name": "stdout",
     "output_type": "stream",
     "text": [
      "Objective 0.020652499\n",
      "Objective first part 0.0\n",
      "Objective second part -0.020652499\n",
      "Objective 0.016673638\n",
      "Objective first part 0.0\n",
      "Objective second part -0.016673638\n"
     ]
    },
    {
     "name": "stderr",
     "output_type": "stream",
     "text": [
      "\n",
      "  0%|          | 2205/473047 [31:36<399:48:54,  3.06s/it]\u001b[A\n",
      "  0%|          | 2206/473047 [31:36<284:49:18,  2.18s/it]\u001b[A"
     ]
    },
    {
     "name": "stdout",
     "output_type": "stream",
     "text": [
      "Objective 0.02304268\n",
      "Objective first part 0.0\n",
      "Objective second part -0.02304268\n",
      "Objective 0.016421666\n",
      "Objective first part 0.0\n",
      "Objective second part -0.016421666\n"
     ]
    },
    {
     "name": "stderr",
     "output_type": "stream",
     "text": [
      "\n",
      "  0%|          | 2207/473047 [31:36<204:25:10,  1.56s/it]\u001b[A\n",
      "  0%|          | 2208/473047 [31:36<147:52:45,  1.13s/it]\u001b[A"
     ]
    },
    {
     "name": "stdout",
     "output_type": "stream",
     "text": [
      "Objective 0.78520876\n",
      "Objective first part 0.76827115\n",
      "Objective second part -0.016937615\n",
      "Objective 0.78525937\n",
      "Objective first part 0.76568866\n",
      "Objective second part -0.019570714\n"
     ]
    },
    {
     "name": "stderr",
     "output_type": "stream",
     "text": [
      "\n",
      "  0%|          | 2209/473047 [31:36<108:32:33,  1.20it/s]\u001b[A\n",
      "  0%|          | 2210/473047 [31:37<81:02:23,  1.61it/s] \u001b[A"
     ]
    },
    {
     "name": "stdout",
     "output_type": "stream",
     "text": [
      "Objective 0.021213863\n",
      "Objective first part 0.0\n",
      "Objective second part -0.021213863\n",
      "Objective 0.7863549\n",
      "Objective first part 0.7679066\n",
      "Objective second part -0.018448323\n"
     ]
    },
    {
     "name": "stderr",
     "output_type": "stream",
     "text": [
      "\n",
      "  0%|          | 2211/473047 [31:37<61:41:07,  2.12it/s]\u001b[A\n",
      "  0%|          | 2212/473047 [31:37<48:00:12,  2.72it/s]\u001b[A"
     ]
    },
    {
     "name": "stdout",
     "output_type": "stream",
     "text": [
      "Objective 0.01706584\n",
      "Objective first part 0.0\n",
      "Objective second part -0.01706584\n",
      "Objective 0.78642815\n",
      "Objective first part 0.7658881\n",
      "Objective second part -0.020540059\n"
     ]
    },
    {
     "name": "stderr",
     "output_type": "stream",
     "text": [
      "\n",
      "  0%|          | 2213/473047 [31:37<38:51:32,  3.37it/s]\u001b[A\n",
      "  0%|          | 2214/473047 [31:37<32:13:27,  4.06it/s]\u001b[A"
     ]
    },
    {
     "name": "stdout",
     "output_type": "stream",
     "text": [
      "Objective 0.7847578\n",
      "Objective first part 0.76756996\n",
      "Objective second part -0.017187836\n",
      "Objective 0.78142476\n",
      "Objective first part 0.7633624\n",
      "Objective second part -0.018062375\n"
     ]
    },
    {
     "name": "stderr",
     "output_type": "stream",
     "text": [
      "\n",
      "  0%|          | 2215/473047 [31:37<27:38:50,  4.73it/s]\u001b[A\n",
      "  0%|          | 2216/473047 [31:37<24:22:58,  5.36it/s]\u001b[A"
     ]
    },
    {
     "name": "stdout",
     "output_type": "stream",
     "text": [
      "Objective 0.7861161\n",
      "Objective first part 0.7668459\n",
      "Objective second part -0.019270249\n",
      "Objective 0.78312373\n",
      "Objective first part 0.7666802\n",
      "Objective second part -0.01644354\n"
     ]
    },
    {
     "name": "stderr",
     "output_type": "stream",
     "text": [
      "\n",
      "  0%|          | 2217/473047 [31:37<22:05:21,  5.92it/s]\u001b[A\n",
      "  0%|          | 2218/473047 [31:38<20:28:53,  6.39it/s]\u001b[A"
     ]
    },
    {
     "name": "stdout",
     "output_type": "stream",
     "text": [
      "Objective 0.7855559\n",
      "Objective first part 0.7664646\n",
      "Objective second part -0.019091314\n",
      "Objective 0.7854042\n",
      "Objective first part 0.7681928\n",
      "Objective second part -0.017211365\n"
     ]
    },
    {
     "name": "stderr",
     "output_type": "stream",
     "text": [
      "\n",
      "  0%|          | 2219/473047 [31:38<19:42:20,  6.64it/s]\u001b[A\n",
      "  0%|          | 2221/473047 [31:38<17:13:17,  7.59it/s]\u001b[A"
     ]
    },
    {
     "name": "stdout",
     "output_type": "stream",
     "text": [
      "Objective 0.7870774\n",
      "Objective first part 0.7663479\n",
      "Objective second part -0.020729536\n",
      "Objective 0.019509083\n",
      "Objective first part 0.0\n",
      "Objective second part -0.019509083\n",
      "Objective 0.018310087\n",
      "Objective first part 0.0\n",
      "Objective second part -0.018310087\n"
     ]
    },
    {
     "name": "stderr",
     "output_type": "stream",
     "text": [
      "\n",
      "  0%|          | 2223/473047 [31:38<16:08:25,  8.10it/s]\u001b[A"
     ]
    },
    {
     "name": "stdout",
     "output_type": "stream",
     "text": [
      "Objective 0.021555107\n",
      "Objective first part 0.0\n",
      "Objective second part -0.021555107\n",
      "Objective 0.7877963\n",
      "Objective first part 0.76835597\n",
      "Objective second part -0.019440344\n",
      "Objective 0.019096904\n",
      "Objective first part 0.0\n",
      "Objective second part -0.019096904\n"
     ]
    },
    {
     "name": "stderr",
     "output_type": "stream",
     "text": [
      "\n",
      "  0%|          | 2226/473047 [31:38<13:12:10,  9.91it/s]\u001b[A\n",
      "  0%|          | 2228/473047 [31:38<11:37:59, 11.24it/s]\u001b[A"
     ]
    },
    {
     "name": "stdout",
     "output_type": "stream",
     "text": [
      "Objective 0.78770536\n",
      "Objective first part 0.7683246\n",
      "Objective second part -0.019380724\n",
      "Objective 0.020540971\n",
      "Objective first part 0.0\n",
      "Objective second part -0.020540971\n",
      "Objective 0.78607494\n",
      "Objective first part 0.7669242\n",
      "Objective second part -0.019150732\n",
      "Objective 0.78549325\n",
      "Objective first part 0.76814294\n",
      "Objective second part -0.0173503\n"
     ]
    },
    {
     "name": "stderr",
     "output_type": "stream",
     "text": [
      "\n",
      "  0%|          | 2230/473047 [31:38<10:24:24, 12.57it/s]\u001b[A\n",
      "  0%|          | 2232/473047 [31:39<10:03:45, 13.00it/s]\u001b[A"
     ]
    },
    {
     "name": "stdout",
     "output_type": "stream",
     "text": [
      "Objective 0.7850749\n",
      "Objective first part 0.7649703\n",
      "Objective second part -0.020104589\n",
      "Objective 0.78614527\n",
      "Objective first part 0.7681129\n",
      "Objective second part -0.018032394\n",
      "Objective 0.78825724\n",
      "Objective first part 0.7681293\n",
      "Objective second part -0.02012794\n",
      "Objective 0.018473702\n",
      "Objective first part 0.0\n",
      "Objective second part -0.018473702\n"
     ]
    },
    {
     "name": "stderr",
     "output_type": "stream",
     "text": [
      "\n",
      "  0%|          | 2235/473047 [31:39<8:28:49, 15.42it/s] \u001b[A\n",
      "  0%|          | 2238/473047 [31:39<7:18:28, 17.90it/s]\u001b[A"
     ]
    },
    {
     "name": "stdout",
     "output_type": "stream",
     "text": [
      "Objective 0.7843815\n",
      "Objective first part 0.76613426\n",
      "Objective second part -0.018247258\n",
      "Objective 0.78534573\n",
      "Objective first part 0.76825905\n",
      "Objective second part -0.017086698\n",
      "Objective 0.7887617\n",
      "Objective first part 0.7678173\n",
      "Objective second part -0.020944372\n",
      "Objective 0.01873111\n",
      "Objective first part 0.0\n",
      "Objective second part -0.01873111\n",
      "Objective 0.020382613\n",
      "Objective first part 0.0\n",
      "Objective second part -0.020382613\n",
      "Objective 0.79015094\n",
      "Objective first part 0.766942\n",
      "Objective second part -0.023208903\n"
     ]
    },
    {
     "name": "stderr",
     "output_type": "stream",
     "text": [
      "\n",
      "  0%|          | 2241/473047 [31:39<6:29:49, 20.13it/s]\u001b[A\n",
      "  0%|          | 2244/473047 [31:39<5:56:22, 22.02it/s]\u001b[A"
     ]
    },
    {
     "name": "stdout",
     "output_type": "stream",
     "text": [
      "Objective 0.78453976\n",
      "Objective first part 0.765346\n",
      "Objective second part -0.01919375\n",
      "Objective 0.019938273\n",
      "Objective first part 0.0\n",
      "Objective second part -0.019938273\n",
      "Objective 0.019684808\n",
      "Objective first part 0.0\n",
      "Objective second part -0.019684808\n",
      "Objective 0.017614273\n",
      "Objective first part 0.0\n",
      "Objective second part -0.017614273\n",
      "Objective 0.017486583\n",
      "Objective first part 0.0\n",
      "Objective second part -0.017486583\n",
      "Objective 0.78618807\n",
      "Objective first part 0.76555675\n",
      "Objective second part -0.020631324\n"
     ]
    },
    {
     "name": "stderr",
     "output_type": "stream",
     "text": [
      "\n",
      "  0%|          | 2247/473047 [31:39<5:32:55, 23.57it/s]\u001b[A"
     ]
    },
    {
     "name": "stdout",
     "output_type": "stream",
     "text": [
      "Objective 0.7839702\n",
      "Objective first part 0.7677233\n",
      "Objective second part -0.016246874\n",
      "Objective 0.017138842\n",
      "Objective first part 0.0\n",
      "Objective second part -0.017138842\n",
      "Objective 0.787057\n",
      "Objective first part 0.7651768\n",
      "Objective second part -0.0218802\n",
      "Objective 0.7850998\n",
      "Objective first part 0.7673255\n",
      "Objective second part -0.017774256\n",
      "Objective 0.018639654\n",
      "Objective first part 0.0\n",
      "Objective second part -0.018639654\n"
     ]
    },
    {
     "name": "stderr",
     "output_type": "stream",
     "text": [
      "\n",
      "  0%|          | 2250/473047 [31:39<5:55:59, 22.04it/s]\u001b[A"
     ]
    },
    {
     "name": "stdout",
     "output_type": "stream",
     "text": [
      "Objective 0.01838931\n",
      "Objective first part 0.0\n",
      "Objective second part -0.01838931\n",
      "Objective 0.7844945\n",
      "Objective first part 0.7659864\n",
      "Objective second part -0.018508129\n"
     ]
    },
    {
     "name": "stderr",
     "output_type": "stream",
     "text": [
      "\n",
      "  0%|          | 2253/473047 [31:40<8:46:24, 14.91it/s]\u001b[A"
     ]
    },
    {
     "name": "stdout",
     "output_type": "stream",
     "text": [
      "Objective 0.786162\n",
      "Objective first part 0.76866406\n",
      "Objective second part -0.017497927\n",
      "Objective 0.78613436\n",
      "Objective first part 0.7647648\n",
      "Objective second part -0.021369552\n"
     ]
    },
    {
     "name": "stderr",
     "output_type": "stream",
     "text": [
      "\n",
      "  0%|          | 2255/473047 [31:40<11:11:47, 11.68it/s]\u001b[A"
     ]
    },
    {
     "name": "stdout",
     "output_type": "stream",
     "text": [
      "Objective 0.78481823\n",
      "Objective first part 0.76696247\n",
      "Objective second part -0.017855743\n",
      "Objective 0.024907054\n",
      "Objective first part 0.0\n",
      "Objective second part -0.024907054\n"
     ]
    },
    {
     "name": "stderr",
     "output_type": "stream",
     "text": [
      "\n",
      "  0%|          | 2257/473047 [31:40<12:55:27, 10.12it/s]\u001b[A"
     ]
    },
    {
     "name": "stdout",
     "output_type": "stream",
     "text": [
      "Objective 0.01938741\n",
      "Objective first part 0.0\n",
      "Objective second part -0.01938741\n",
      "Objective 0.7857569\n",
      "Objective first part 0.76617473\n",
      "Objective second part -0.019582141\n"
     ]
    },
    {
     "name": "stderr",
     "output_type": "stream",
     "text": [
      "\n",
      "  0%|          | 2259/473047 [31:40<14:02:11,  9.32it/s]\u001b[A"
     ]
    },
    {
     "name": "stdout",
     "output_type": "stream",
     "text": [
      "Objective 0.017219186\n",
      "Objective first part 0.0\n",
      "Objective second part -0.017219186\n",
      "Objective 0.7867042\n",
      "Objective first part 0.7681092\n",
      "Objective second part -0.01859496\n"
     ]
    },
    {
     "name": "stderr",
     "output_type": "stream",
     "text": [
      "\n",
      "  0%|          | 2261/473047 [31:41<15:03:57,  8.68it/s]\u001b[A"
     ]
    },
    {
     "name": "stdout",
     "output_type": "stream",
     "text": [
      "Objective 0.7860443\n",
      "Objective first part 0.76446855\n",
      "Objective second part -0.021575753\n",
      "Objective 0.7873365\n",
      "Objective first part 0.7689575\n",
      "Objective second part -0.018379051\n"
     ]
    },
    {
     "name": "stderr",
     "output_type": "stream",
     "text": [
      "\n",
      "  0%|          | 2263/473047 [31:41<14:58:25,  8.73it/s]\u001b[A"
     ]
    },
    {
     "name": "stdout",
     "output_type": "stream",
     "text": [
      "Objective 0.02021473\n",
      "Objective first part 0.0\n",
      "Objective second part -0.02021473\n",
      "Objective 0.7881399\n",
      "Objective first part 0.7675251\n",
      "Objective second part -0.020614775\n",
      "Objective 0.783279\n",
      "Objective first part 0.7671677\n",
      "Objective second part -0.016111303\n"
     ]
    },
    {
     "name": "stderr",
     "output_type": "stream",
     "text": [
      "\n",
      "  0%|          | 2265/473047 [31:41<13:01:00, 10.05it/s]\u001b[A"
     ]
    },
    {
     "name": "stdout",
     "output_type": "stream",
     "text": [
      "Objective 0.78025025\n",
      "Objective first part 0.7642778\n",
      "Objective second part -0.01597242\n",
      "Objective 0.017535776\n",
      "Objective first part 0.0\n",
      "Objective second part -0.017535776\n"
     ]
    },
    {
     "name": "stderr",
     "output_type": "stream",
     "text": [
      "\n",
      "  0%|          | 2267/473047 [31:41<13:25:08,  9.75it/s]\u001b[A"
     ]
    },
    {
     "name": "stdout",
     "output_type": "stream",
     "text": [
      "Objective 0.7866708\n",
      "Objective first part 0.7687124\n",
      "Objective second part -0.017958418\n",
      "Objective 0.78155416\n",
      "Objective first part 0.7662262\n",
      "Objective second part -0.015327981\n"
     ]
    },
    {
     "name": "stderr",
     "output_type": "stream",
     "text": [
      "\n",
      "  0%|          | 2269/473047 [31:42<14:24:33,  9.08it/s]\u001b[A\n",
      "  0%|          | 2270/473047 [31:42<15:06:14,  8.66it/s]\u001b[A"
     ]
    },
    {
     "name": "stdout",
     "output_type": "stream",
     "text": [
      "Objective 0.7852584\n",
      "Objective first part 0.7680174\n",
      "Objective second part -0.017241018\n",
      "Objective 0.7846169\n",
      "Objective first part 0.76824194\n",
      "Objective second part -0.016374951\n"
     ]
    },
    {
     "name": "stderr",
     "output_type": "stream",
     "text": [
      "\n",
      "  0%|          | 2271/473047 [31:42<15:58:38,  8.18it/s]\u001b[A\n",
      "  0%|          | 2272/473047 [31:42<16:08:59,  8.10it/s]\u001b[A"
     ]
    },
    {
     "name": "stdout",
     "output_type": "stream",
     "text": [
      "Objective 0.78329515\n",
      "Objective first part 0.7641601\n",
      "Objective second part -0.019135058\n",
      "Objective 0.017206937\n",
      "Objective first part 0.0\n",
      "Objective second part -0.017206937\n"
     ]
    },
    {
     "name": "stderr",
     "output_type": "stream",
     "text": [
      "\n",
      "  0%|          | 2273/473047 [31:42<16:28:05,  7.94it/s]\u001b[A\n",
      "  0%|          | 2274/473047 [31:42<16:29:01,  7.93it/s]\u001b[A"
     ]
    },
    {
     "name": "stdout",
     "output_type": "stream",
     "text": [
      "Objective 0.78539276\n",
      "Objective first part 0.7672112\n",
      "Objective second part -0.01818158\n",
      "Objective 0.01806638\n",
      "Objective first part 0.0\n",
      "Objective second part -0.01806638\n"
     ]
    },
    {
     "name": "stderr",
     "output_type": "stream",
     "text": [
      "\n",
      "  0%|          | 2275/473047 [31:42<16:36:45,  7.87it/s]\u001b[A\n",
      "  0%|          | 2276/473047 [31:42<16:40:38,  7.84it/s]\u001b[A"
     ]
    },
    {
     "name": "stdout",
     "output_type": "stream",
     "text": [
      "Objective 0.017917335\n",
      "Objective first part 0.0\n",
      "Objective second part -0.017917335\n",
      "Objective 0.01842762\n",
      "Objective first part 0.0\n",
      "Objective second part -0.01842762\n"
     ]
    },
    {
     "name": "stderr",
     "output_type": "stream",
     "text": [
      "\n",
      "  0%|          | 2277/473047 [31:43<16:25:53,  7.96it/s]\u001b[A\n",
      "  0%|          | 2278/473047 [31:43<16:34:17,  7.89it/s]\u001b[A"
     ]
    },
    {
     "name": "stdout",
     "output_type": "stream",
     "text": [
      "Objective 0.018722123\n",
      "Objective first part 0.0\n",
      "Objective second part -0.018722123\n",
      "Objective 0.018053273\n",
      "Objective first part 0.0\n",
      "Objective second part -0.018053273\n"
     ]
    },
    {
     "name": "stderr",
     "output_type": "stream",
     "text": [
      "\n",
      "  0%|          | 2279/473047 [31:43<16:51:08,  7.76it/s]\u001b[A\n",
      "  0%|          | 2280/473047 [31:43<16:43:16,  7.82it/s]\u001b[A"
     ]
    },
    {
     "name": "stdout",
     "output_type": "stream",
     "text": [
      "Objective 0.7888079\n",
      "Objective first part 0.7669885\n",
      "Objective second part -0.021819402\n",
      "Objective 0.7844089\n",
      "Objective first part 0.76619995\n",
      "Objective second part -0.018208954\n"
     ]
    },
    {
     "name": "stderr",
     "output_type": "stream",
     "text": [
      "\n",
      "  0%|          | 2282/473047 [31:43<14:45:47,  8.86it/s]\u001b[A\n",
      "  0%|          | 2284/473047 [31:43<12:41:53, 10.30it/s]\u001b[A"
     ]
    },
    {
     "name": "stdout",
     "output_type": "stream",
     "text": [
      "Objective 0.79069036\n",
      "Objective first part 0.7691546\n",
      "Objective second part -0.02153574\n",
      "Objective 0.7890325\n",
      "Objective first part 0.7682174\n",
      "Objective second part -0.02081516\n",
      "Objective 0.019977432\n",
      "Objective first part 0.0\n",
      "Objective second part -0.019977432\n",
      "Objective 0.021557055\n",
      "Objective first part 0.0\n",
      "Objective second part -0.021557055\n"
     ]
    },
    {
     "name": "stderr",
     "output_type": "stream",
     "text": [
      "\n",
      "  0%|          | 2286/473047 [31:43<11:31:23, 11.35it/s]\u001b[A\n",
      "  0%|          | 2288/473047 [31:43<10:40:24, 12.25it/s]\u001b[A"
     ]
    },
    {
     "name": "stdout",
     "output_type": "stream",
     "text": [
      "Objective 0.7869089\n",
      "Objective first part 0.766682\n",
      "Objective second part -0.020226896\n",
      "Objective 0.016533645\n",
      "Objective first part 0.0\n",
      "Objective second part -0.016533645\n",
      "Objective 0.017833717\n",
      "Objective first part 0.0\n",
      "Objective second part -0.017833717\n"
     ]
    },
    {
     "name": "stderr",
     "output_type": "stream",
     "text": [
      "\n",
      "  0%|          | 2290/473047 [31:44<9:38:17, 13.57it/s] \u001b[A"
     ]
    },
    {
     "name": "stdout",
     "output_type": "stream",
     "text": [
      "Objective 0.016702002\n",
      "Objective first part 0.0\n",
      "Objective second part -0.016702002\n",
      "Objective 0.020464009\n",
      "Objective first part 0.0\n",
      "Objective second part -0.020464009\n",
      "Objective 0.7863472\n",
      "Objective first part 0.76713854\n",
      "Objective second part -0.019208698\n",
      "Objective 0.018661758\n",
      "Objective first part 0.0\n",
      "Objective second part -0.018661758\n",
      "Objective 0.78521454\n",
      "Objective first part 0.76876014\n",
      "Objective second part -0.016454386\n"
     ]
    },
    {
     "name": "stderr",
     "output_type": "stream",
     "text": [
      "\n",
      "  0%|          | 2293/473047 [31:44<8:12:47, 15.92it/s]\u001b[A\n",
      "  0%|          | 2296/473047 [31:44<7:20:09, 17.83it/s]\u001b[A"
     ]
    },
    {
     "name": "stdout",
     "output_type": "stream",
     "text": [
      "Objective 0.78790694\n",
      "Objective first part 0.76817435\n",
      "Objective second part -0.01973259\n",
      "Objective 0.018774657\n",
      "Objective first part 0.0\n",
      "Objective second part -0.018774657\n",
      "Objective 0.7887695\n",
      "Objective first part 0.7688639\n",
      "Objective second part -0.01990556\n",
      "Objective 0.78691757\n",
      "Objective first part 0.7674044\n",
      "Objective second part -0.019513214\n",
      "Objective 0.78828907\n",
      "Objective first part 0.7683195\n",
      "Objective second part -0.019969588\n"
     ]
    },
    {
     "name": "stderr",
     "output_type": "stream",
     "text": [
      "\n",
      "  0%|          | 2299/473047 [31:44<6:58:58, 18.73it/s]\u001b[A"
     ]
    },
    {
     "name": "stdout",
     "output_type": "stream",
     "text": [
      "Objective 0.017188381\n",
      "Objective first part 0.0\n",
      "Objective second part -0.017188381\n",
      "Objective 0.019285075\n",
      "Objective first part 0.0\n",
      "Objective second part -0.019285075\n",
      "Objective 0.019070597\n",
      "Objective first part 0.0\n",
      "Objective second part -0.019070597\n"
     ]
    }
   ],
   "source": [
    "for g in range(len(gammas)):\n",
    "    for l in range(len(lambdas)):\n",
    "        model = SimpleConvNet()\n",
    "        model.apply(weights_init)\n",
    "        model.cuda()\n",
    "        sgd(gamma=gammas[g], lamb=lambdas[l])"
   ]
  },
  {
   "cell_type": "code",
   "execution_count": null,
   "metadata": {},
   "outputs": [],
   "source": []
  }
 ],
 "metadata": {
  "kernelspec": {
   "display_name": "Python 3",
   "language": "python",
   "name": "python3"
  },
  "language_info": {
   "codemirror_mode": {
    "name": "ipython",
    "version": 3
   },
   "file_extension": ".py",
   "mimetype": "text/x-python",
   "name": "python",
   "nbconvert_exporter": "python",
   "pygments_lexer": "ipython3",
   "version": "3.7.4"
  },
  "toc": {
   "base_numbering": 1,
   "nav_menu": {},
   "number_sections": true,
   "sideBar": true,
   "skip_h1_title": false,
   "title_cell": "Table of Contents",
   "title_sidebar": "Contents",
   "toc_cell": false,
   "toc_position": {},
   "toc_section_display": true,
   "toc_window_display": false
  }
 },
 "nbformat": 4,
 "nbformat_minor": 2
}

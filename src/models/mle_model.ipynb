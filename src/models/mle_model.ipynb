{
 "cells": [
  {
   "cell_type": "code",
   "execution_count": 1,
   "metadata": {},
   "outputs": [],
   "source": [
    "import os, sys\n",
    "import numpy as np\n",
    "import json\n",
    "import random\n",
    "import torch\n",
    "import torch.nn as nn\n",
    "import torch.nn.functional as F\n",
    "import tqdm\n",
    "import matplotlib.pyplot as plt\n",
    "import seaborn as sns"
   ]
  },
  {
   "cell_type": "code",
   "execution_count": 2,
   "metadata": {},
   "outputs": [],
   "source": [
    "random.seed(42)\n",
    "device = torch.device(\"cuda:0\" if torch.cuda.is_available() else 'cpu')"
   ]
  },
  {
   "cell_type": "markdown",
   "metadata": {},
   "source": [
    "## Preliminary"
   ]
  },
  {
   "cell_type": "code",
   "execution_count": 3,
   "metadata": {},
   "outputs": [],
   "source": [
    "na_list = ['A', 'C', 'G', 'T'] #nucleic acids\n",
    "aa_list = ['R', 'L', 'S', 'A', 'G', 'P', 'T', 'V', 'N', 'D', 'C', 'Q', 'E', 'H', 'I', 'K', 'M', 'F', 'W', 'Y'] #amino acids\n",
    "NNK_freq = [0.09375]*3 + [0.0625]*5 + [0.03125]*13 #freq of 21 NNK codons including the stop codon\n",
    "sum_20 = 0.0625*5 + 0.09375*3 + 0.03125*12 #sum of freq without the stop codon\n",
    "pvals = [0.09375/sum_20]*3 + [0.0625/sum_20]*5 + [0.03125/sum_20]*12 #normalize freq for 20 codons\n",
    "pvals = [0.09375/sum_20]*3 + [0.0625/sum_20]*5 + [0.03125/sum_20]*11 + \\\n",
    "        [1- sum([0.09375/sum_20]*3 + [0.0625/sum_20]*5 + [0.03125/sum_20]*11)] \n",
    "        #adjust sum to 1 due to numerical issue\n",
    "aa_dict = dict(zip(aa_list, pvals))"
   ]
  },
  {
   "cell_type": "markdown",
   "metadata": {},
   "source": [
    "## Dataset"
   ]
  },
  {
   "cell_type": "code",
   "execution_count": 4,
   "metadata": {},
   "outputs": [],
   "source": [
    "aptamer_dataset_file = \"../data/aptamer_dataset.json\"\n",
    "\n",
    "def construct_dataset():\n",
    "    with open(aptamer_dataset_file, 'r') as f:\n",
    "        aptamer_data = json.load(f)\n",
    "    full_dataset = []\n",
    "    aptamers = []\n",
    "    peptides = []\n",
    "    for aptamer in aptamer_data:\n",
    "        peptides = aptamer_data[aptamer]\n",
    "        if aptamer == \"CTTTGTAATTGGTTCTGAGTTCCGTTGTGGGAGGAACATG\": #took out aptamer control\n",
    "            continue\n",
    "        for peptide, _ in peptides:\n",
    "            peptide = peptide.replace(\"_\", \"\") #removed stop codons\n",
    "            if \"RRRRRR\" in peptide: #took out peptide control\n",
    "                continue\n",
    "            if len(aptamer) == 40 and len(peptide) == 8: #making sure right length\n",
    "                full_dataset.append((aptamer, peptide))\n",
    "    full_dataset = list(set(full_dataset)) #removed duplicates\n",
    "    for pair in full_dataset:\n",
    "        aptamers.append(pair[0])\n",
    "        peptides.append(pair[1])\n",
    "    return full_dataset, aptamers, peptides "
   ]
  },
  {
   "cell_type": "code",
   "execution_count": 5,
   "metadata": {},
   "outputs": [],
   "source": [
    "class TrainDataset(torch.utils.data.Dataset):\n",
    "    def __init__(self, training_set):\n",
    "        super(TrainDataset, self).__init__() \n",
    "        self.training_set = training_set\n",
    "        \n",
    "    def __len__(self):\n",
    "        return len(self.training_set)\n",
    "\n",
    "    def __getitem__(self, idx):\n",
    "        aptamer, peptide = self.training_set[idx]\n",
    "        return aptamer, peptide\n",
    "    \n",
    "class TestDataset(torch.utils.data.Dataset):\n",
    "    def __init__(self, test_set):\n",
    "        super(TestDataset, self).__init__() \n",
    "        self.test_set = test_set\n",
    "        \n",
    "    def __len__(self):\n",
    "        return len(self.test_set)\n",
    "\n",
    "    def __getitem__(self, idx):\n",
    "        aptamer, peptide = self.test_set[idx]\n",
    "        return aptamer, peptide"
   ]
  },
  {
   "cell_type": "code",
   "execution_count": 6,
   "metadata": {},
   "outputs": [],
   "source": [
    "full_dataset, aptamers, peptides = construct_dataset()\n",
    "n = len(full_dataset)\n",
    "training_set = full_dataset[:int(0.8*n)]\n",
    "test_set = full_dataset[int(0.8*n):]\n",
    "train_dataset = TrainDataset(training_set)\n",
    "test_dataset = TestDataset(test_set)\n",
    "train_loader = torch.utils.data.DataLoader(train_dataset)\n",
    "test_loader = torch.utils.data.DataLoader(test_dataset)"
   ]
  },
  {
   "cell_type": "markdown",
   "metadata": {},
   "source": [
    "## One-hot encoding"
   ]
  },
  {
   "cell_type": "code",
   "execution_count": 7,
   "metadata": {},
   "outputs": [],
   "source": [
    "## Takes a peptide and aptamer sequence and converts to one-hot matrix\n",
    "def one_hot(sequence_list, seq_type='peptide'):\n",
    "    if seq_type == 'peptide':\n",
    "        letters = aa_list\n",
    "    else:\n",
    "        letters = na_list\n",
    "    \n",
    "    one_hot = np.zeros((len(sequence_list), len(sequence_list[0]), len(letters)))\n",
    "    \n",
    "    for j in range(len(sequence_list)):\n",
    "        sequence = sequence_list[j]\n",
    "        for i in range(len(sequence)):\n",
    "            element = sequence[i]\n",
    "            idx = letters.index(element)\n",
    "            one_hot[j][i][idx] = 1\n",
    "    return one_hot"
   ]
  },
  {
   "cell_type": "markdown",
   "metadata": {},
   "source": [
    "## NN Models"
   ]
  },
  {
   "cell_type": "code",
   "execution_count": 8,
   "metadata": {},
   "outputs": [],
   "source": [
    "class ConvNet(nn.Module):\n",
    "    def __init__(self):\n",
    "        super(ConvNet, self).__init__()\n",
    "        self.cnn_apt_1 = nn.Conv2d(40, 20, 1)\n",
    "        self.cnn_apt_2 = nn.Conv2d(20, 10, 1)\n",
    "        self.cnn_apt_3 = nn.Conv2d(10, 1, 1)\n",
    "        self.fc_apt_1 = nn.Linear(160, 1)\n",
    "        \n",
    "        self.cnn_pep_1 = nn.Conv2d(8, 4, 1)\n",
    "        self.cnn_pep_2 = nn.Conv2d(4, 3, 1)\n",
    "        self.fc_pep_1 = nn.Linear(64, 1)\n",
    "        \n",
    "        self.pool = nn.MaxPool2d(1, 1)\n",
    "        self.relu = nn.ReLU()\n",
    "                \n",
    "        self.sequential_pep = nn.Sequential(self.cnn_pep_1,\n",
    "                                            self.relu, \n",
    "                                            self.pool, \n",
    "                                            self.cnn_pep_2)\n",
    "        \n",
    "        self.sequential_apt = nn.Sequential(self.cnn_apt_1, \n",
    "                                            self.relu, \n",
    "                                            self.pool, \n",
    "                                            self.cnn_apt_2, \n",
    "                                            self.relu, \n",
    "                                            self.pool, \n",
    "                                            self.cnn_apt_3)\n",
    "        \n",
    "        self.fc1 = nn.Linear(64, 1)\n",
    "        \n",
    "    def forward(self, apt, pep):\n",
    "        apt = self.sequential_apt(apt).cuda()\n",
    "        pep = self.sequential_pep(pep).cuda()\n",
    "        \n",
    "        apt = apt.view(-1, 1).T\n",
    "        pep = pep.view(-1, 1).T\n",
    "        \n",
    "        x = torch.cat((apt, pep), 1)\n",
    "        x = self.fc1(x)\n",
    "        x = torch.sigmoid(x)\n",
    "        return x"
   ]
  },
  {
   "cell_type": "code",
   "execution_count": 9,
   "metadata": {},
   "outputs": [],
   "source": [
    "def weights_init(m):\n",
    "    if isinstance(m, nn.Conv2d):\n",
    "        nn.init.xavier_uniform_(m.weight.data)\n",
    "        nn.init.zeros_(m.bias.data)\n",
    "    if isinstance(m, nn.Linear):\n",
    "        nn.init.kaiming_uniform_(m.weight.data, nonlinearity='relu')\n",
    "        nn.init.zeros_(m.bias.data)"
   ]
  },
  {
   "cell_type": "markdown",
   "metadata": {},
   "source": [
    "## Sampling"
   ]
  },
  {
   "cell_type": "code",
   "execution_count": 10,
   "metadata": {},
   "outputs": [],
   "source": [
    "# Sample x from P_X (assume peptides follow NNK)\n",
    "def get_x():\n",
    "    x_idx = np.random.choice(20, 7, p=pvals)\n",
    "    x = \"M\"\n",
    "    for i in x_idx:\n",
    "        x += aa_list[i]\n",
    "    return x\n",
    "\n",
    "# Sample y from P_Y (assume apatamers follow uniform)\n",
    "def get_y():\n",
    "    y_idx = np.random.randint(0, 4, 40)\n",
    "    y = \"\"\n",
    "    for i in y_idx:\n",
    "        y += na_list[i]\n",
    "    return y\n",
    "\n",
    "# Generate uniformly from S without replacement\n",
    "def get_xy(k):\n",
    "    samples = [full_dataset[i] for i in np.random.choice(len(full_dataset), k, replace=False)]\n",
    "    return samples\n",
    "\n",
    "# S' contains S with double the size of S (domain for Importance Sampling)\n",
    "def get_S_prime(k):\n",
    "    S_prime = full_dataset[:]\n",
    "    for _ in range(k):\n",
    "        S_prime.append((get_y(), get_x()))\n",
    "    return list(set(S_prime))\n",
    "\n",
    "# Sample from S' without replacement\n",
    "def get_xy_prime(k):\n",
    "    samples = [S_prime[i] for i in np.random.choice(len(S_prime), k, replace=False)]\n",
    "    return samples\n",
    "\n",
    "# Returns pmf of a peptide\n",
    "def get_x_pmf(x):\n",
    "    pmf = 1\n",
    "    for char in x[1:]: #skips first char \"M\"\n",
    "        pmf *= aa_dict[char]\n",
    "    return pmf\n",
    "\n",
    "# Returns pmf of an aptamer\n",
    "def get_y_pmf():\n",
    "    return 0.25**40\n",
    "\n",
    "S_prime = get_S_prime(n)"
   ]
  },
  {
   "cell_type": "markdown",
   "metadata": {},
   "source": [
    "## SGD"
   ]
  },
  {
   "cell_type": "code",
   "execution_count": 22,
   "metadata": {},
   "outputs": [],
   "source": [
    "def update(type=\"original\"):\n",
    "    if type == \"original\":\n",
    "        xy = get_xy(1)[0]\n",
    "    else:\n",
    "        xy = get_xy_prime(1)[0]\n",
    "    x = one_hot(xy[0], seq_type='aptamer') \n",
    "    y = one_hot(xy[1], seq_type='peptide') \n",
    "    #x = torch.FloatTensor(np.reshape(x, (1, x.shape[0], x.shape[1], x.shape[2]))) #(1, 40, 1, 4) original\n",
    "    x = torch.FloatTensor(np.reshape(x, (1, x.shape[0], x.shape[2], x.shape[1]))) # (1, 40, 4, 1)\n",
    "    #y = torch.FloatTensor(np.reshape(y, (1, y.shape[0], y.shape[1], y.shape[2]))) #(1, 8, 1, 20) original\n",
    "    y = torch.FloatTensor(np.reshape(y, (1, y.shape[0], y.shape[2], y.shape[1]))) #(1, 8, 20, 1)\n",
    "    x.requires_grad=True\n",
    "    y.requires_grad=True\n",
    "    x = x.cuda()\n",
    "    y = y.cuda()\n",
    "    print(x.shape)\n",
    "    print(y.shape)\n",
    "    \n",
    "    out = model(x, y)\n",
    "    return xy, out"
   ]
  },
  {
   "cell_type": "code",
   "execution_count": 12,
   "metadata": {},
   "outputs": [],
   "source": [
    "def sgd(t=1000, #num of iter\n",
    "        lamb=1e-5, #hyperparam\n",
    "        gamma=1e-4): #step size\n",
    "    \n",
    "    model.train()\n",
    "    for a, _ in enumerate(tqdm.tqdm(range(t))):\n",
    "        xy, out = update()\n",
    "        out.retain_grad()\n",
    "        log_out = torch.log(out)\n",
    "        log_out.retain_grad()\n",
    "        model.zero_grad()\n",
    "        log_out.backward()\n",
    "        \n",
    "        xy_prime, out_prime = update(\"prime\")\n",
    "        out_prime = out_prime * get_x_pmf(xy_prime[0]) * get_y_pmf() * 2 * n\n",
    "        out_prime.retain_grad()\n",
    "        model.zero_grad()\n",
    "        out_prime.backward()\n",
    "        \n",
    "        const = 0 if xy_prime in full_dataset else 1 #indicator\n",
    "        g = log_out.grad - lamb*const*out_prime.grad\n",
    "        g = g.item()\n",
    "        \n",
    "        #Update the weights according to SGD\n",
    "        for param in model.parameters():\n",
    "            param.data += gamma * g"
   ]
  },
  {
   "cell_type": "markdown",
   "metadata": {},
   "source": [
    "## Recall & evaluate"
   ]
  },
  {
   "cell_type": "code",
   "execution_count": 13,
   "metadata": {},
   "outputs": [],
   "source": [
    "# Eval on test set of size k (split from our dataset)\n",
    "def recall_eval(k):\n",
    "    correct = 0\n",
    "    count = 0\n",
    "    binding_outputs = []\n",
    "    model.eval()\n",
    "    for _, (aptamer, peptide) in enumerate(tqdm.tqdm(test_loader)):\n",
    "        if count > k:\n",
    "            break\n",
    "        pep = one_hot(peptide, seq_type='peptide')\n",
    "        apt = one_hot(aptamer, seq_type='aptamer')\n",
    "        #pep = torch.FloatTensor(np.reshape(pep, (1, pep.shape[1], pep.shape[2], pep.shape[0]))).cuda()\n",
    "        pep = torch.FloatTensor(np.reshape(pep, (1, pep.shape[2], pep.shape[1], pep.shape[0]))).cuda()\n",
    "        #apt = torch.FloatTensor(np.reshape(apt, (1, apt.shape[1], apt.shape[2], apt.shape[0]))).cuda()\n",
    "        apt = torch.FloatTensor(np.reshape(apt, (1, apt.shape[2], apt.shape[1], apt.shape[0]))).cuda()\n",
    "        output = model(apt, pep).cpu().detach().numpy().flatten()[0]\n",
    "        binding_outputs.append('%.2f'% output)\n",
    "        if output > 0.5:\n",
    "            correct += 1\n",
    "        count += 1\n",
    "    recall = 100*correct/count #recall rate of k samples\n",
    "    return recall, binding_outputs #list of k outputs"
   ]
  },
  {
   "cell_type": "code",
   "execution_count": 14,
   "metadata": {},
   "outputs": [],
   "source": [
    "def convert(apt, pep): \n",
    "    apt = one_hot(apt, seq_type='aptamer') #(40, 1, 4)\n",
    "    pep = one_hot(pep, seq_type='peptide') #(8, 1, 20)\n",
    "    #apt = torch.FloatTensor(np.reshape(apt, (1, apt.shape[0], apt.shape[2], apt.shape[1]))).cuda() #(1, 40, 4, 1)\n",
    "    apt = torch.FloatTensor(np.reshape(apt, (1, apt.shape[1], apt.shape[0], apt.shape[2]))).cuda() #(1, 1, 40, 4)\n",
    "    #pep = torch.FloatTensor(np.reshape(pep, (1, pep.shape[0], pep.shape[2], pep.shape[1]))).cuda() #(1, 8, 20, 1)\n",
    "    pep = torch.FloatTensor(np.reshape(pep, (1, pep.shape[1], pep.shape[0], pep.shape[2]))).cuda() #(1, 1, 8, 20)\n",
    "    return apt, pep\n",
    "\n",
    "# Eval on m new unseen pairs(not in our dataset)\n",
    "def evaluate(m):\n",
    "    model.eval()\n",
    "    outputs = []\n",
    "    for _ in range(m):\n",
    "        x, y = get_x(), get_y()\n",
    "        apt, pep = convert(y, x)\n",
    "        output = model(apt, pep).cpu().detach().numpy().flatten()[0]\n",
    "        outputs.append('%.2f'% output)\n",
    "    return outputs #list of m outputs"
   ]
  },
  {
   "cell_type": "markdown",
   "metadata": {},
   "source": [
    "## Hyperparameter tuning"
   ]
  },
  {
   "cell_type": "code",
   "execution_count": 15,
   "metadata": {},
   "outputs": [
    {
     "name": "stderr",
     "output_type": "stream",
     "text": [
      "  0%|          | 0/1000 [00:00<?, ?it/s]"
     ]
    },
    {
     "name": "stdout",
     "output_type": "stream",
     "text": [
      "Training...\n"
     ]
    },
    {
     "name": "stderr",
     "output_type": "stream",
     "text": [
      "\n"
     ]
    },
    {
     "ename": "RuntimeError",
     "evalue": "Given groups=1, weight of size 20 40 1 1, expected input[1, 1, 40, 4] to have 40 channels, but got 1 channels instead",
     "output_type": "error",
     "traceback": [
      "\u001b[0;31m---------------------------------------------------------------------------\u001b[0m",
      "\u001b[0;31mRuntimeError\u001b[0m                              Traceback (most recent call last)",
      "\u001b[0;32m<ipython-input-15-277e60d63f8f>\u001b[0m in \u001b[0;36m<module>\u001b[0;34m\u001b[0m\n\u001b[1;32m     14\u001b[0m         \u001b[0mmodel\u001b[0m\u001b[0;34m.\u001b[0m\u001b[0mcuda\u001b[0m\u001b[0;34m(\u001b[0m\u001b[0;34m)\u001b[0m\u001b[0;34m\u001b[0m\u001b[0;34m\u001b[0m\u001b[0m\n\u001b[1;32m     15\u001b[0m         \u001b[0mprint\u001b[0m\u001b[0;34m(\u001b[0m\u001b[0;34m\"Training...\"\u001b[0m\u001b[0;34m)\u001b[0m\u001b[0;34m\u001b[0m\u001b[0;34m\u001b[0m\u001b[0m\n\u001b[0;32m---> 16\u001b[0;31m         \u001b[0msgd\u001b[0m\u001b[0;34m(\u001b[0m\u001b[0mt\u001b[0m\u001b[0;34m=\u001b[0m\u001b[0;36m1000\u001b[0m\u001b[0;34m,\u001b[0m \u001b[0mgamma\u001b[0m\u001b[0;34m=\u001b[0m\u001b[0mgammas\u001b[0m\u001b[0;34m[\u001b[0m\u001b[0mg\u001b[0m\u001b[0;34m]\u001b[0m\u001b[0;34m,\u001b[0m \u001b[0mlamb\u001b[0m\u001b[0;34m=\u001b[0m\u001b[0mlambdas\u001b[0m\u001b[0;34m[\u001b[0m\u001b[0ml\u001b[0m\u001b[0;34m]\u001b[0m\u001b[0;34m)\u001b[0m\u001b[0;34m\u001b[0m\u001b[0;34m\u001b[0m\u001b[0m\n\u001b[0m\u001b[1;32m     17\u001b[0m         \u001b[0mprint\u001b[0m\u001b[0;34m(\u001b[0m\u001b[0;34m\"Evaluating...\"\u001b[0m\u001b[0;34m)\u001b[0m\u001b[0;34m\u001b[0m\u001b[0;34m\u001b[0m\u001b[0m\n\u001b[1;32m     18\u001b[0m         \u001b[0;31m# use for AUC\u001b[0m\u001b[0;34m\u001b[0m\u001b[0;34m\u001b[0m\u001b[0;34m\u001b[0m\u001b[0m\n",
      "\u001b[0;32m<ipython-input-12-ae2dadb8f854>\u001b[0m in \u001b[0;36msgd\u001b[0;34m(t, lamb, gamma)\u001b[0m\n\u001b[1;32m      5\u001b[0m     \u001b[0mmodel\u001b[0m\u001b[0;34m.\u001b[0m\u001b[0mtrain\u001b[0m\u001b[0;34m(\u001b[0m\u001b[0;34m)\u001b[0m\u001b[0;34m\u001b[0m\u001b[0;34m\u001b[0m\u001b[0m\n\u001b[1;32m      6\u001b[0m     \u001b[0;32mfor\u001b[0m \u001b[0ma\u001b[0m\u001b[0;34m,\u001b[0m \u001b[0m_\u001b[0m \u001b[0;32min\u001b[0m \u001b[0menumerate\u001b[0m\u001b[0;34m(\u001b[0m\u001b[0mtqdm\u001b[0m\u001b[0;34m.\u001b[0m\u001b[0mtqdm\u001b[0m\u001b[0;34m(\u001b[0m\u001b[0mrange\u001b[0m\u001b[0;34m(\u001b[0m\u001b[0mt\u001b[0m\u001b[0;34m)\u001b[0m\u001b[0;34m)\u001b[0m\u001b[0;34m)\u001b[0m\u001b[0;34m:\u001b[0m\u001b[0;34m\u001b[0m\u001b[0;34m\u001b[0m\u001b[0m\n\u001b[0;32m----> 7\u001b[0;31m         \u001b[0mxy\u001b[0m\u001b[0;34m,\u001b[0m \u001b[0mout\u001b[0m \u001b[0;34m=\u001b[0m \u001b[0mupdate\u001b[0m\u001b[0;34m(\u001b[0m\u001b[0;34m)\u001b[0m\u001b[0;34m\u001b[0m\u001b[0;34m\u001b[0m\u001b[0m\n\u001b[0m\u001b[1;32m      8\u001b[0m         \u001b[0mout\u001b[0m\u001b[0;34m.\u001b[0m\u001b[0mretain_grad\u001b[0m\u001b[0;34m(\u001b[0m\u001b[0;34m)\u001b[0m\u001b[0;34m\u001b[0m\u001b[0;34m\u001b[0m\u001b[0m\n\u001b[1;32m      9\u001b[0m         \u001b[0mlog_out\u001b[0m \u001b[0;34m=\u001b[0m \u001b[0mtorch\u001b[0m\u001b[0;34m.\u001b[0m\u001b[0mlog\u001b[0m\u001b[0;34m(\u001b[0m\u001b[0mout\u001b[0m\u001b[0;34m)\u001b[0m\u001b[0;34m\u001b[0m\u001b[0;34m\u001b[0m\u001b[0m\n",
      "\u001b[0;32m<ipython-input-11-02995399293e>\u001b[0m in \u001b[0;36mupdate\u001b[0;34m(type)\u001b[0m\n\u001b[1;32m     14\u001b[0m     \u001b[0mx\u001b[0m \u001b[0;34m=\u001b[0m \u001b[0mx\u001b[0m\u001b[0;34m.\u001b[0m\u001b[0mcuda\u001b[0m\u001b[0;34m(\u001b[0m\u001b[0;34m)\u001b[0m\u001b[0;34m\u001b[0m\u001b[0;34m\u001b[0m\u001b[0m\n\u001b[1;32m     15\u001b[0m     \u001b[0my\u001b[0m \u001b[0;34m=\u001b[0m \u001b[0my\u001b[0m\u001b[0;34m.\u001b[0m\u001b[0mcuda\u001b[0m\u001b[0;34m(\u001b[0m\u001b[0;34m)\u001b[0m\u001b[0;34m\u001b[0m\u001b[0;34m\u001b[0m\u001b[0m\n\u001b[0;32m---> 16\u001b[0;31m     \u001b[0mout\u001b[0m \u001b[0;34m=\u001b[0m \u001b[0mmodel\u001b[0m\u001b[0;34m(\u001b[0m\u001b[0mx\u001b[0m\u001b[0;34m,\u001b[0m \u001b[0my\u001b[0m\u001b[0;34m)\u001b[0m\u001b[0;34m\u001b[0m\u001b[0;34m\u001b[0m\u001b[0m\n\u001b[0m\u001b[1;32m     17\u001b[0m     \u001b[0;32mreturn\u001b[0m \u001b[0mxy\u001b[0m\u001b[0;34m,\u001b[0m \u001b[0mout\u001b[0m\u001b[0;34m\u001b[0m\u001b[0;34m\u001b[0m\u001b[0m\n",
      "\u001b[0;32m~/anaconda3/lib/python3.7/site-packages/torch/nn/modules/module.py\u001b[0m in \u001b[0;36m__call__\u001b[0;34m(self, *input, **kwargs)\u001b[0m\n\u001b[1;32m    530\u001b[0m             \u001b[0mresult\u001b[0m \u001b[0;34m=\u001b[0m \u001b[0mself\u001b[0m\u001b[0;34m.\u001b[0m\u001b[0m_slow_forward\u001b[0m\u001b[0;34m(\u001b[0m\u001b[0;34m*\u001b[0m\u001b[0minput\u001b[0m\u001b[0;34m,\u001b[0m \u001b[0;34m**\u001b[0m\u001b[0mkwargs\u001b[0m\u001b[0;34m)\u001b[0m\u001b[0;34m\u001b[0m\u001b[0;34m\u001b[0m\u001b[0m\n\u001b[1;32m    531\u001b[0m         \u001b[0;32melse\u001b[0m\u001b[0;34m:\u001b[0m\u001b[0;34m\u001b[0m\u001b[0;34m\u001b[0m\u001b[0m\n\u001b[0;32m--> 532\u001b[0;31m             \u001b[0mresult\u001b[0m \u001b[0;34m=\u001b[0m \u001b[0mself\u001b[0m\u001b[0;34m.\u001b[0m\u001b[0mforward\u001b[0m\u001b[0;34m(\u001b[0m\u001b[0;34m*\u001b[0m\u001b[0minput\u001b[0m\u001b[0;34m,\u001b[0m \u001b[0;34m**\u001b[0m\u001b[0mkwargs\u001b[0m\u001b[0;34m)\u001b[0m\u001b[0;34m\u001b[0m\u001b[0;34m\u001b[0m\u001b[0m\n\u001b[0m\u001b[1;32m    533\u001b[0m         \u001b[0;32mfor\u001b[0m \u001b[0mhook\u001b[0m \u001b[0;32min\u001b[0m \u001b[0mself\u001b[0m\u001b[0;34m.\u001b[0m\u001b[0m_forward_hooks\u001b[0m\u001b[0;34m.\u001b[0m\u001b[0mvalues\u001b[0m\u001b[0;34m(\u001b[0m\u001b[0;34m)\u001b[0m\u001b[0;34m:\u001b[0m\u001b[0;34m\u001b[0m\u001b[0;34m\u001b[0m\u001b[0m\n\u001b[1;32m    534\u001b[0m             \u001b[0mhook_result\u001b[0m \u001b[0;34m=\u001b[0m \u001b[0mhook\u001b[0m\u001b[0;34m(\u001b[0m\u001b[0mself\u001b[0m\u001b[0;34m,\u001b[0m \u001b[0minput\u001b[0m\u001b[0;34m,\u001b[0m \u001b[0mresult\u001b[0m\u001b[0;34m)\u001b[0m\u001b[0;34m\u001b[0m\u001b[0;34m\u001b[0m\u001b[0m\n",
      "\u001b[0;32m<ipython-input-8-7fd612a5d8ff>\u001b[0m in \u001b[0;36mforward\u001b[0;34m(self, apt, pep)\u001b[0m\n\u001b[1;32m     30\u001b[0m \u001b[0;34m\u001b[0m\u001b[0m\n\u001b[1;32m     31\u001b[0m     \u001b[0;32mdef\u001b[0m \u001b[0mforward\u001b[0m\u001b[0;34m(\u001b[0m\u001b[0mself\u001b[0m\u001b[0;34m,\u001b[0m \u001b[0mapt\u001b[0m\u001b[0;34m,\u001b[0m \u001b[0mpep\u001b[0m\u001b[0;34m)\u001b[0m\u001b[0;34m:\u001b[0m\u001b[0;34m\u001b[0m\u001b[0;34m\u001b[0m\u001b[0m\n\u001b[0;32m---> 32\u001b[0;31m         \u001b[0mapt\u001b[0m \u001b[0;34m=\u001b[0m \u001b[0mself\u001b[0m\u001b[0;34m.\u001b[0m\u001b[0msequential_apt\u001b[0m\u001b[0;34m(\u001b[0m\u001b[0mapt\u001b[0m\u001b[0;34m)\u001b[0m\u001b[0;34m.\u001b[0m\u001b[0mcuda\u001b[0m\u001b[0;34m(\u001b[0m\u001b[0;34m)\u001b[0m\u001b[0;34m\u001b[0m\u001b[0;34m\u001b[0m\u001b[0m\n\u001b[0m\u001b[1;32m     33\u001b[0m         \u001b[0mpep\u001b[0m \u001b[0;34m=\u001b[0m \u001b[0mself\u001b[0m\u001b[0;34m.\u001b[0m\u001b[0msequential_pep\u001b[0m\u001b[0;34m(\u001b[0m\u001b[0mpep\u001b[0m\u001b[0;34m)\u001b[0m\u001b[0;34m.\u001b[0m\u001b[0mcuda\u001b[0m\u001b[0;34m(\u001b[0m\u001b[0;34m)\u001b[0m\u001b[0;34m\u001b[0m\u001b[0;34m\u001b[0m\u001b[0m\n\u001b[1;32m     34\u001b[0m \u001b[0;34m\u001b[0m\u001b[0m\n",
      "\u001b[0;32m~/anaconda3/lib/python3.7/site-packages/torch/nn/modules/module.py\u001b[0m in \u001b[0;36m__call__\u001b[0;34m(self, *input, **kwargs)\u001b[0m\n\u001b[1;32m    530\u001b[0m             \u001b[0mresult\u001b[0m \u001b[0;34m=\u001b[0m \u001b[0mself\u001b[0m\u001b[0;34m.\u001b[0m\u001b[0m_slow_forward\u001b[0m\u001b[0;34m(\u001b[0m\u001b[0;34m*\u001b[0m\u001b[0minput\u001b[0m\u001b[0;34m,\u001b[0m \u001b[0;34m**\u001b[0m\u001b[0mkwargs\u001b[0m\u001b[0;34m)\u001b[0m\u001b[0;34m\u001b[0m\u001b[0;34m\u001b[0m\u001b[0m\n\u001b[1;32m    531\u001b[0m         \u001b[0;32melse\u001b[0m\u001b[0;34m:\u001b[0m\u001b[0;34m\u001b[0m\u001b[0;34m\u001b[0m\u001b[0m\n\u001b[0;32m--> 532\u001b[0;31m             \u001b[0mresult\u001b[0m \u001b[0;34m=\u001b[0m \u001b[0mself\u001b[0m\u001b[0;34m.\u001b[0m\u001b[0mforward\u001b[0m\u001b[0;34m(\u001b[0m\u001b[0;34m*\u001b[0m\u001b[0minput\u001b[0m\u001b[0;34m,\u001b[0m \u001b[0;34m**\u001b[0m\u001b[0mkwargs\u001b[0m\u001b[0;34m)\u001b[0m\u001b[0;34m\u001b[0m\u001b[0;34m\u001b[0m\u001b[0m\n\u001b[0m\u001b[1;32m    533\u001b[0m         \u001b[0;32mfor\u001b[0m \u001b[0mhook\u001b[0m \u001b[0;32min\u001b[0m \u001b[0mself\u001b[0m\u001b[0;34m.\u001b[0m\u001b[0m_forward_hooks\u001b[0m\u001b[0;34m.\u001b[0m\u001b[0mvalues\u001b[0m\u001b[0;34m(\u001b[0m\u001b[0;34m)\u001b[0m\u001b[0;34m:\u001b[0m\u001b[0;34m\u001b[0m\u001b[0;34m\u001b[0m\u001b[0m\n\u001b[1;32m    534\u001b[0m             \u001b[0mhook_result\u001b[0m \u001b[0;34m=\u001b[0m \u001b[0mhook\u001b[0m\u001b[0;34m(\u001b[0m\u001b[0mself\u001b[0m\u001b[0;34m,\u001b[0m \u001b[0minput\u001b[0m\u001b[0;34m,\u001b[0m \u001b[0mresult\u001b[0m\u001b[0;34m)\u001b[0m\u001b[0;34m\u001b[0m\u001b[0;34m\u001b[0m\u001b[0m\n",
      "\u001b[0;32m~/anaconda3/lib/python3.7/site-packages/torch/nn/modules/container.py\u001b[0m in \u001b[0;36mforward\u001b[0;34m(self, input)\u001b[0m\n\u001b[1;32m     98\u001b[0m     \u001b[0;32mdef\u001b[0m \u001b[0mforward\u001b[0m\u001b[0;34m(\u001b[0m\u001b[0mself\u001b[0m\u001b[0;34m,\u001b[0m \u001b[0minput\u001b[0m\u001b[0;34m)\u001b[0m\u001b[0;34m:\u001b[0m\u001b[0;34m\u001b[0m\u001b[0;34m\u001b[0m\u001b[0m\n\u001b[1;32m     99\u001b[0m         \u001b[0;32mfor\u001b[0m \u001b[0mmodule\u001b[0m \u001b[0;32min\u001b[0m \u001b[0mself\u001b[0m\u001b[0;34m:\u001b[0m\u001b[0;34m\u001b[0m\u001b[0;34m\u001b[0m\u001b[0m\n\u001b[0;32m--> 100\u001b[0;31m             \u001b[0minput\u001b[0m \u001b[0;34m=\u001b[0m \u001b[0mmodule\u001b[0m\u001b[0;34m(\u001b[0m\u001b[0minput\u001b[0m\u001b[0;34m)\u001b[0m\u001b[0;34m\u001b[0m\u001b[0;34m\u001b[0m\u001b[0m\n\u001b[0m\u001b[1;32m    101\u001b[0m         \u001b[0;32mreturn\u001b[0m \u001b[0minput\u001b[0m\u001b[0;34m\u001b[0m\u001b[0;34m\u001b[0m\u001b[0m\n\u001b[1;32m    102\u001b[0m \u001b[0;34m\u001b[0m\u001b[0m\n",
      "\u001b[0;32m~/anaconda3/lib/python3.7/site-packages/torch/nn/modules/module.py\u001b[0m in \u001b[0;36m__call__\u001b[0;34m(self, *input, **kwargs)\u001b[0m\n\u001b[1;32m    530\u001b[0m             \u001b[0mresult\u001b[0m \u001b[0;34m=\u001b[0m \u001b[0mself\u001b[0m\u001b[0;34m.\u001b[0m\u001b[0m_slow_forward\u001b[0m\u001b[0;34m(\u001b[0m\u001b[0;34m*\u001b[0m\u001b[0minput\u001b[0m\u001b[0;34m,\u001b[0m \u001b[0;34m**\u001b[0m\u001b[0mkwargs\u001b[0m\u001b[0;34m)\u001b[0m\u001b[0;34m\u001b[0m\u001b[0;34m\u001b[0m\u001b[0m\n\u001b[1;32m    531\u001b[0m         \u001b[0;32melse\u001b[0m\u001b[0;34m:\u001b[0m\u001b[0;34m\u001b[0m\u001b[0;34m\u001b[0m\u001b[0m\n\u001b[0;32m--> 532\u001b[0;31m             \u001b[0mresult\u001b[0m \u001b[0;34m=\u001b[0m \u001b[0mself\u001b[0m\u001b[0;34m.\u001b[0m\u001b[0mforward\u001b[0m\u001b[0;34m(\u001b[0m\u001b[0;34m*\u001b[0m\u001b[0minput\u001b[0m\u001b[0;34m,\u001b[0m \u001b[0;34m**\u001b[0m\u001b[0mkwargs\u001b[0m\u001b[0;34m)\u001b[0m\u001b[0;34m\u001b[0m\u001b[0;34m\u001b[0m\u001b[0m\n\u001b[0m\u001b[1;32m    533\u001b[0m         \u001b[0;32mfor\u001b[0m \u001b[0mhook\u001b[0m \u001b[0;32min\u001b[0m \u001b[0mself\u001b[0m\u001b[0;34m.\u001b[0m\u001b[0m_forward_hooks\u001b[0m\u001b[0;34m.\u001b[0m\u001b[0mvalues\u001b[0m\u001b[0;34m(\u001b[0m\u001b[0;34m)\u001b[0m\u001b[0;34m:\u001b[0m\u001b[0;34m\u001b[0m\u001b[0;34m\u001b[0m\u001b[0m\n\u001b[1;32m    534\u001b[0m             \u001b[0mhook_result\u001b[0m \u001b[0;34m=\u001b[0m \u001b[0mhook\u001b[0m\u001b[0;34m(\u001b[0m\u001b[0mself\u001b[0m\u001b[0;34m,\u001b[0m \u001b[0minput\u001b[0m\u001b[0;34m,\u001b[0m \u001b[0mresult\u001b[0m\u001b[0;34m)\u001b[0m\u001b[0;34m\u001b[0m\u001b[0;34m\u001b[0m\u001b[0m\n",
      "\u001b[0;32m~/anaconda3/lib/python3.7/site-packages/torch/nn/modules/conv.py\u001b[0m in \u001b[0;36mforward\u001b[0;34m(self, input)\u001b[0m\n\u001b[1;32m    343\u001b[0m \u001b[0;34m\u001b[0m\u001b[0m\n\u001b[1;32m    344\u001b[0m     \u001b[0;32mdef\u001b[0m \u001b[0mforward\u001b[0m\u001b[0;34m(\u001b[0m\u001b[0mself\u001b[0m\u001b[0;34m,\u001b[0m \u001b[0minput\u001b[0m\u001b[0;34m)\u001b[0m\u001b[0;34m:\u001b[0m\u001b[0;34m\u001b[0m\u001b[0;34m\u001b[0m\u001b[0m\n\u001b[0;32m--> 345\u001b[0;31m         \u001b[0;32mreturn\u001b[0m \u001b[0mself\u001b[0m\u001b[0;34m.\u001b[0m\u001b[0mconv2d_forward\u001b[0m\u001b[0;34m(\u001b[0m\u001b[0minput\u001b[0m\u001b[0;34m,\u001b[0m \u001b[0mself\u001b[0m\u001b[0;34m.\u001b[0m\u001b[0mweight\u001b[0m\u001b[0;34m)\u001b[0m\u001b[0;34m\u001b[0m\u001b[0;34m\u001b[0m\u001b[0m\n\u001b[0m\u001b[1;32m    346\u001b[0m \u001b[0;34m\u001b[0m\u001b[0m\n\u001b[1;32m    347\u001b[0m \u001b[0;32mclass\u001b[0m \u001b[0mConv3d\u001b[0m\u001b[0;34m(\u001b[0m\u001b[0m_ConvNd\u001b[0m\u001b[0;34m)\u001b[0m\u001b[0;34m:\u001b[0m\u001b[0;34m\u001b[0m\u001b[0;34m\u001b[0m\u001b[0m\n",
      "\u001b[0;32m~/anaconda3/lib/python3.7/site-packages/torch/nn/modules/conv.py\u001b[0m in \u001b[0;36mconv2d_forward\u001b[0;34m(self, input, weight)\u001b[0m\n\u001b[1;32m    340\u001b[0m                             _pair(0), self.dilation, self.groups)\n\u001b[1;32m    341\u001b[0m         return F.conv2d(input, weight, self.bias, self.stride,\n\u001b[0;32m--> 342\u001b[0;31m                         self.padding, self.dilation, self.groups)\n\u001b[0m\u001b[1;32m    343\u001b[0m \u001b[0;34m\u001b[0m\u001b[0m\n\u001b[1;32m    344\u001b[0m     \u001b[0;32mdef\u001b[0m \u001b[0mforward\u001b[0m\u001b[0;34m(\u001b[0m\u001b[0mself\u001b[0m\u001b[0;34m,\u001b[0m \u001b[0minput\u001b[0m\u001b[0;34m)\u001b[0m\u001b[0;34m:\u001b[0m\u001b[0;34m\u001b[0m\u001b[0;34m\u001b[0m\u001b[0m\n",
      "\u001b[0;31mRuntimeError\u001b[0m: Given groups=1, weight of size 20 40 1 1, expected input[1, 1, 40, 4] to have 40 channels, but got 1 channels instead"
     ]
    }
   ],
   "source": [
    "gammas = [1e-1, 1e-2, 1e-3, 1e-4, 1e-5]\n",
    "lambdas = [1e-1, 1e-2, 1e-3, 1e-4, 1e-5]\n",
    "recalls = []\n",
    "scores = []\n",
    "\n",
    "m = int(1e7) # number of unknown samples\n",
    "k = int(1e5) # number of binding samples (test set size is 118262, k is just some limit we set)\n",
    "\n",
    "M = np.zeros((len(gammas), len(lambdas)))\n",
    "for g in range(len(gammas)):\n",
    "    for l in range(len(lambdas)):\n",
    "        model = ConvNet()\n",
    "        model.apply(weights_init)\n",
    "        model.cuda()\n",
    "        print(\"Training...\")\n",
    "        sgd(t=1000, gamma=gammas[g], lamb=lambdas[l])\n",
    "        print(\"Evaluating...\")\n",
    "        # use for AUC\n",
    "        recall, binding_outputs = recall_eval(k)\n",
    "        unknown_outputs = evaluate(m)\n",
    "        scores.append((unknown_outputs, binding_outputs))\n",
    "        # use for heatmap\n",
    "        M[g][l] += recall\n",
    "        recalls.append(recall)\n",
    "        print(\"Recall with gamma: \"+ str(gammas[g]) + \" , lambda: \" + str(lambdas[l]) + \" recall: \", '%.2f'% recall)"
   ]
  },
  {
   "cell_type": "markdown",
   "metadata": {},
   "source": [
    "## Table and plots"
   ]
  },
  {
   "cell_type": "code",
   "execution_count": null,
   "metadata": {},
   "outputs": [],
   "source": [
    "# Table of recalls with different params\n",
    "idx = sorted(range(len(recalls)), key=lambda k: recalls[k])\n",
    "for i in idx:\n",
    "    g = gammas[i//len(gammas)]\n",
    "    l = lambdas[i%len(lambdas)]\n",
    "    print(\"Gamma: \", \"%.5f\" % g, \"Lambda: \", \"%.5f\" % l, \"Recall: \", \"%.2f\" % recalls[i])"
   ]
  },
  {
   "cell_type": "code",
   "execution_count": null,
   "metadata": {},
   "outputs": [],
   "source": [
    "# Heatmap of recalls\n",
    "mat = sns.heatmap(M, vmin=0, vmax=100)\n",
    "plt.show()"
   ]
  },
  {
   "cell_type": "code",
   "execution_count": null,
   "metadata": {},
   "outputs": [],
   "source": [
    "# AUC (one config for now)\n",
    "unknown, binding = scores[0]\n",
    "total = unknown + binding\n",
    "plt.hist(total, 50, histtype='step', density=True, cumulative=True)\n",
    "plt.show()"
   ]
  },
  {
   "cell_type": "markdown",
   "metadata": {},
   "source": [
    "## Test other NN models"
   ]
  },
  {
   "cell_type": "code",
   "execution_count": 28,
   "metadata": {},
   "outputs": [],
   "source": [
    "class SimpleConvNet(nn.Module):\n",
    "    def __init__(self):\n",
    "        super(SimpleConvNet, self).__init__()\n",
    "        self.cnn_apt_1 = nn.Conv2d(40, 10, (3,1))\n",
    "        self.cnn_pep_1 = nn.Conv2d(8, 4, (2,1))\n",
    "        self.pool = nn.MaxPool2d(1, 1)\n",
    "        self.relu = nn.ReLU()\n",
    "                \n",
    "        self.sequential_pep = nn.Sequential(self.cnn_pep_1,\n",
    "                                            self.relu, \n",
    "                                            self.pool)\n",
    "        \n",
    "        self.sequential_apt = nn.Sequential(self.cnn_apt_1, \n",
    "                                            self.relu, \n",
    "                                            self.pool)\n",
    "        \n",
    "        self.fc1 = nn.Linear(96, 1)\n",
    "        \n",
    "    def forward(self, apt, pep):\n",
    "        print(apt.shape)\n",
    "        print(pep.shape)\n",
    "        apt = self.sequential_apt(apt).cuda()\n",
    "        pep = self.sequential_pep(pep).cuda()\n",
    "        \n",
    "        apt = apt.view(-1, 1).T\n",
    "        pep = pep.view(-1, 1).T\n",
    "        \n",
    "        x = torch.cat((apt, pep), 1)\n",
    "        x = self.fc1(x)\n",
    "        x = torch.sigmoid(x)\n",
    "        return x"
   ]
  },
  {
   "cell_type": "code",
   "execution_count": 29,
   "metadata": {},
   "outputs": [
    {
     "name": "stderr",
     "output_type": "stream",
     "text": [
      "\r",
      "  0%|          | 0/1000 [00:00<?, ?it/s]"
     ]
    },
    {
     "name": "stdout",
     "output_type": "stream",
     "text": [
      "Training...\n",
      "torch.Size([1, 40, 4, 1])\n",
      "torch.Size([1, 8, 20, 1])\n",
      "torch.Size([1, 40, 4, 1])\n",
      "torch.Size([1, 8, 20, 1])\n",
      "torch.Size([1, 40, 4, 1])\n",
      "torch.Size([1, 8, 20, 1])\n",
      "torch.Size([1, 40, 4, 1])\n",
      "torch.Size([1, 8, 20, 1])\n"
     ]
    },
    {
     "name": "stderr",
     "output_type": "stream",
     "text": [
      "  0%|          | 2/1000 [00:00<03:37,  4.59it/s]"
     ]
    },
    {
     "name": "stdout",
     "output_type": "stream",
     "text": [
      "torch.Size([1, 40, 4, 1])\n",
      "torch.Size([1, 8, 20, 1])\n",
      "torch.Size([1, 40, 4, 1])\n",
      "torch.Size([1, 8, 20, 1])\n",
      "torch.Size([1, 40, 4, 1])\n",
      "torch.Size([1, 8, 20, 1])\n",
      "torch.Size([1, 40, 4, 1])\n",
      "torch.Size([1, 8, 20, 1])\n",
      "torch.Size([1, 40, 4, 1])\n",
      "torch.Size([1, 8, 20, 1])\n",
      "torch.Size([1, 40, 4, 1])\n",
      "torch.Size([1, 8, 20, 1])\n",
      "torch.Size([1, 40, 4, 1])\n",
      "torch.Size([1, 8, 20, 1])\n",
      "torch.Size([1, 40, 4, 1])\n",
      "torch.Size([1, 8, 20, 1])\n"
     ]
    },
    {
     "name": "stderr",
     "output_type": "stream",
     "text": [
      "  0%|          | 4/1000 [00:00<03:01,  5.48it/s]"
     ]
    },
    {
     "name": "stdout",
     "output_type": "stream",
     "text": [
      "torch.Size([1, 40, 4, 1])\n",
      "torch.Size([1, 8, 20, 1])\n",
      "torch.Size([1, 40, 4, 1])\n",
      "torch.Size([1, 8, 20, 1])\n",
      "torch.Size([1, 40, 4, 1])\n",
      "torch.Size([1, 8, 20, 1])\n",
      "torch.Size([1, 40, 4, 1])\n",
      "torch.Size([1, 8, 20, 1])\n",
      "torch.Size([1, 40, 4, 1])\n",
      "torch.Size([1, 8, 20, 1])\n",
      "torch.Size([1, 40, 4, 1])\n",
      "torch.Size([1, 8, 20, 1])\n",
      "torch.Size([1, 40, 4, 1])\n",
      "torch.Size([1, 8, 20, 1])\n",
      "torch.Size([1, 40, 4, 1])\n",
      "torch.Size([1, 8, 20, 1])\n"
     ]
    },
    {
     "name": "stderr",
     "output_type": "stream",
     "text": [
      "  1%|          | 6/1000 [00:00<02:36,  6.35it/s]"
     ]
    },
    {
     "name": "stdout",
     "output_type": "stream",
     "text": [
      "torch.Size([1, 40, 4, 1])\n",
      "torch.Size([1, 8, 20, 1])\n",
      "torch.Size([1, 40, 4, 1])\n",
      "torch.Size([1, 8, 20, 1])\n",
      "torch.Size([1, 40, 4, 1])\n",
      "torch.Size([1, 8, 20, 1])\n",
      "torch.Size([1, 40, 4, 1])\n",
      "torch.Size([1, 8, 20, 1])\n",
      "torch.Size([1, 40, 4, 1])\n",
      "torch.Size([1, 8, 20, 1])\n",
      "torch.Size([1, 40, 4, 1])\n",
      "torch.Size([1, 8, 20, 1])\n",
      "torch.Size([1, 40, 4, 1])\n",
      "torch.Size([1, 8, 20, 1])\n",
      "torch.Size([1, 40, 4, 1])\n",
      "torch.Size([1, 8, 20, 1])\n"
     ]
    },
    {
     "name": "stderr",
     "output_type": "stream",
     "text": [
      "  1%|          | 8/1000 [00:01<02:25,  6.81it/s]"
     ]
    },
    {
     "name": "stdout",
     "output_type": "stream",
     "text": [
      "torch.Size([1, 40, 4, 1])\n",
      "torch.Size([1, 8, 20, 1])\n",
      "torch.Size([1, 40, 4, 1])\n",
      "torch.Size([1, 8, 20, 1])\n",
      "torch.Size([1, 40, 4, 1])\n",
      "torch.Size([1, 8, 20, 1])\n",
      "torch.Size([1, 40, 4, 1])\n",
      "torch.Size([1, 8, 20, 1])\n",
      "torch.Size([1, 40, 4, 1])\n",
      "torch.Size([1, 8, 20, 1])\n",
      "torch.Size([1, 40, 4, 1])\n",
      "torch.Size([1, 8, 20, 1])\n",
      "torch.Size([1, 40, 4, 1])\n",
      "torch.Size([1, 8, 20, 1])\n",
      "torch.Size([1, 40, 4, 1])\n",
      "torch.Size([1, 8, 20, 1])\n"
     ]
    },
    {
     "name": "stderr",
     "output_type": "stream",
     "text": [
      "  1%|          | 10/1000 [00:01<02:36,  6.34it/s]"
     ]
    },
    {
     "name": "stdout",
     "output_type": "stream",
     "text": [
      "torch.Size([1, 40, 4, 1])\n",
      "torch.Size([1, 8, 20, 1])\n",
      "torch.Size([1, 40, 4, 1])\n",
      "torch.Size([1, 8, 20, 1])\n",
      "torch.Size([1, 40, 4, 1])\n",
      "torch.Size([1, 8, 20, 1])\n",
      "torch.Size([1, 40, 4, 1])\n",
      "torch.Size([1, 8, 20, 1])\n",
      "torch.Size([1, 40, 4, 1])\n",
      "torch.Size([1, 8, 20, 1])\n",
      "torch.Size([1, 40, 4, 1])\n",
      "torch.Size([1, 8, 20, 1])\n",
      "torch.Size([1, 40, 4, 1])\n",
      "torch.Size([1, 8, 20, 1])\n",
      "torch.Size([1, 40, 4, 1])\n",
      "torch.Size([1, 8, 20, 1])\n"
     ]
    },
    {
     "name": "stderr",
     "output_type": "stream",
     "text": [
      "  1%|          | 12/1000 [00:01<02:36,  6.31it/s]"
     ]
    },
    {
     "name": "stdout",
     "output_type": "stream",
     "text": [
      "torch.Size([1, 40, 4, 1])\n",
      "torch.Size([1, 8, 20, 1])\n",
      "torch.Size([1, 40, 4, 1])\n",
      "torch.Size([1, 8, 20, 1])\n",
      "torch.Size([1, 40, 4, 1])\n",
      "torch.Size([1, 8, 20, 1])\n",
      "torch.Size([1, 40, 4, 1])\n",
      "torch.Size([1, 8, 20, 1])\n",
      "torch.Size([1, 40, 4, 1])\n",
      "torch.Size([1, 8, 20, 1])\n",
      "torch.Size([1, 40, 4, 1])\n",
      "torch.Size([1, 8, 20, 1])\n",
      "torch.Size([1, 40, 4, 1])\n",
      "torch.Size([1, 8, 20, 1])\n",
      "torch.Size([1, 40, 4, 1])\n",
      "torch.Size([1, 8, 20, 1])\n",
      "torch.Size([1, 40, 4, 1])\n",
      "torch.Size([1, 8, 20, 1])\n",
      "torch.Size([1, 40, 4, 1])\n",
      "torch.Size([1, 8, 20, 1])\n"
     ]
    },
    {
     "name": "stderr",
     "output_type": "stream",
     "text": [
      "\r",
      "  1%|▏         | 14/1000 [00:02<02:20,  7.00it/s]"
     ]
    },
    {
     "name": "stdout",
     "output_type": "stream",
     "text": [
      "torch.Size([1, 40, 4, 1])\n",
      "torch.Size([1, 8, 20, 1])\n",
      "torch.Size([1, 40, 4, 1])\n",
      "torch.Size([1, 8, 20, 1])\n",
      "torch.Size([1, 40, 4, 1])\n",
      "torch.Size([1, 8, 20, 1])\n",
      "torch.Size([1, 40, 4, 1])\n",
      "torch.Size([1, 8, 20, 1])\n",
      "torch.Size([1, 40, 4, 1])\n",
      "torch.Size([1, 8, 20, 1])\n",
      "torch.Size([1, 40, 4, 1])\n",
      "torch.Size([1, 8, 20, 1])\n"
     ]
    },
    {
     "name": "stderr",
     "output_type": "stream",
     "text": [
      "  2%|▏         | 16/1000 [00:02<02:31,  6.50it/s]"
     ]
    },
    {
     "name": "stdout",
     "output_type": "stream",
     "text": [
      "torch.Size([1, 40, 4, 1])\n",
      "torch.Size([1, 8, 20, 1])\n",
      "torch.Size([1, 40, 4, 1])\n",
      "torch.Size([1, 8, 20, 1])\n",
      "torch.Size([1, 40, 4, 1])\n",
      "torch.Size([1, 8, 20, 1])\n",
      "torch.Size([1, 40, 4, 1])\n",
      "torch.Size([1, 8, 20, 1])\n",
      "torch.Size([1, 40, 4, 1])\n",
      "torch.Size([1, 8, 20, 1])\n",
      "torch.Size([1, 40, 4, 1])\n",
      "torch.Size([1, 8, 20, 1])\n",
      "torch.Size([1, 40, 4, 1])\n",
      "torch.Size([1, 8, 20, 1])\n",
      "torch.Size([1, 40, 4, 1])\n",
      "torch.Size([1, 8, 20, 1])\n"
     ]
    },
    {
     "name": "stderr",
     "output_type": "stream",
     "text": [
      "  2%|▏         | 18/1000 [00:02<02:24,  6.81it/s]"
     ]
    },
    {
     "name": "stdout",
     "output_type": "stream",
     "text": [
      "torch.Size([1, 40, 4, 1])\n",
      "torch.Size([1, 8, 20, 1])\n",
      "torch.Size([1, 40, 4, 1])\n",
      "torch.Size([1, 8, 20, 1])\n",
      "torch.Size([1, 40, 4, 1])\n",
      "torch.Size([1, 8, 20, 1])\n",
      "torch.Size([1, 40, 4, 1])\n",
      "torch.Size([1, 8, 20, 1])\n",
      "torch.Size([1, 40, 4, 1])\n",
      "torch.Size([1, 8, 20, 1])\n",
      "torch.Size([1, 40, 4, 1])\n",
      "torch.Size([1, 8, 20, 1])\n",
      "torch.Size([1, 40, 4, 1])\n",
      "torch.Size([1, 8, 20, 1])\n",
      "torch.Size([1, 40, 4, 1])\n",
      "torch.Size([1, 8, 20, 1])\n"
     ]
    },
    {
     "name": "stderr",
     "output_type": "stream",
     "text": [
      "  2%|▏         | 20/1000 [00:03<02:32,  6.41it/s]"
     ]
    },
    {
     "name": "stdout",
     "output_type": "stream",
     "text": [
      "torch.Size([1, 40, 4, 1])\n",
      "torch.Size([1, 8, 20, 1])\n",
      "torch.Size([1, 40, 4, 1])\n",
      "torch.Size([1, 8, 20, 1])\n",
      "torch.Size([1, 40, 4, 1])\n",
      "torch.Size([1, 8, 20, 1])\n",
      "torch.Size([1, 40, 4, 1])\n",
      "torch.Size([1, 8, 20, 1])\n",
      "torch.Size([1, 40, 4, 1])\n",
      "torch.Size([1, 8, 20, 1])\n",
      "torch.Size([1, 40, 4, 1])\n",
      "torch.Size([1, 8, 20, 1])\n",
      "torch.Size([1, 40, 4, 1])\n",
      "torch.Size([1, 8, 20, 1])\n",
      "torch.Size([1, 40, 4, 1])\n",
      "torch.Size([1, 8, 20, 1])\n"
     ]
    },
    {
     "name": "stderr",
     "output_type": "stream",
     "text": [
      "  2%|▏         | 22/1000 [00:03<02:19,  7.02it/s]"
     ]
    },
    {
     "name": "stdout",
     "output_type": "stream",
     "text": [
      "torch.Size([1, 40, 4, 1])\n",
      "torch.Size([1, 8, 20, 1])\n",
      "torch.Size([1, 40, 4, 1])\n",
      "torch.Size([1, 8, 20, 1])\n",
      "torch.Size([1, 40, 4, 1])\n",
      "torch.Size([1, 8, 20, 1])\n",
      "torch.Size([1, 40, 4, 1])\n",
      "torch.Size([1, 8, 20, 1])\n",
      "torch.Size([1, 40, 4, 1])\n",
      "torch.Size([1, 8, 20, 1])\n",
      "torch.Size([1, 40, 4, 1])\n",
      "torch.Size([1, 8, 20, 1])\n",
      "torch.Size([1, 40, 4, 1])\n",
      "torch.Size([1, 8, 20, 1])\n",
      "torch.Size([1, 40, 4, 1])\n",
      "torch.Size([1, 8, 20, 1])\n"
     ]
    },
    {
     "name": "stderr",
     "output_type": "stream",
     "text": [
      "  2%|▏         | 24/1000 [00:03<02:30,  6.50it/s]"
     ]
    },
    {
     "name": "stdout",
     "output_type": "stream",
     "text": [
      "torch.Size([1, 40, 4, 1])\n",
      "torch.Size([1, 8, 20, 1])\n",
      "torch.Size([1, 40, 4, 1])\n",
      "torch.Size([1, 8, 20, 1])\n",
      "torch.Size([1, 40, 4, 1])\n",
      "torch.Size([1, 8, 20, 1])\n",
      "torch.Size([1, 40, 4, 1])\n",
      "torch.Size([1, 8, 20, 1])\n",
      "torch.Size([1, 40, 4, 1])\n",
      "torch.Size([1, 8, 20, 1])\n",
      "torch.Size([1, 40, 4, 1])\n",
      "torch.Size([1, 8, 20, 1])\n",
      "torch.Size([1, 40, 4, 1])\n",
      "torch.Size([1, 8, 20, 1])\n",
      "torch.Size([1, 40, 4, 1])\n",
      "torch.Size([1, 8, 20, 1])\n"
     ]
    },
    {
     "name": "stderr",
     "output_type": "stream",
     "text": [
      "\r",
      "  2%|▎         | 25/1000 [00:03<02:18,  7.01it/s]"
     ]
    },
    {
     "name": "stdout",
     "output_type": "stream",
     "text": [
      "torch.Size([1, 40, 4, 1])\n",
      "torch.Size([1, 8, 20, 1])\n",
      "torch.Size([1, 40, 4, 1])\n",
      "torch.Size([1, 8, 20, 1])\n",
      "torch.Size([1, 40, 4, 1])\n",
      "torch.Size([1, 8, 20, 1])\n",
      "torch.Size([1, 40, 4, 1])\n",
      "torch.Size([1, 8, 20, 1])\n",
      "torch.Size([1, 40, 4, 1])\n",
      "torch.Size([1, 8, 20, 1])\n",
      "torch.Size([1, 40, 4, 1])\n",
      "torch.Size([1, 8, 20, 1])\n",
      "torch.Size([1, 40, 4, 1])\n",
      "torch.Size([1, 8, 20, 1])\n",
      "torch.Size([1, 40, 4, 1])\n",
      "torch.Size([1, 8, 20, 1])\n"
     ]
    },
    {
     "name": "stderr",
     "output_type": "stream",
     "text": [
      "  3%|▎         | 28/1000 [00:04<02:15,  7.20it/s]"
     ]
    },
    {
     "name": "stdout",
     "output_type": "stream",
     "text": [
      "torch.Size([1, 40, 4, 1])\n",
      "torch.Size([1, 8, 20, 1])\n",
      "torch.Size([1, 40, 4, 1])\n",
      "torch.Size([1, 8, 20, 1])\n",
      "torch.Size([1, 40, 4, 1])\n",
      "torch.Size([1, 8, 20, 1])\n",
      "torch.Size([1, 40, 4, 1])\n",
      "torch.Size([1, 8, 20, 1])\n",
      "torch.Size([1, 40, 4, 1])\n",
      "torch.Size([1, 8, 20, 1])\n",
      "torch.Size([1, 40, 4, 1])\n",
      "torch.Size([1, 8, 20, 1])\n",
      "torch.Size([1, 40, 4, 1])\n",
      "torch.Size([1, 8, 20, 1])\n",
      "torch.Size([1, 40, 4, 1])\n",
      "torch.Size([1, 8, 20, 1])\n"
     ]
    },
    {
     "name": "stderr",
     "output_type": "stream",
     "text": [
      "  3%|▎         | 31/1000 [00:04<02:08,  7.54it/s]"
     ]
    },
    {
     "name": "stdout",
     "output_type": "stream",
     "text": [
      "torch.Size([1, 40, 4, 1])\n",
      "torch.Size([1, 8, 20, 1])\n",
      "torch.Size([1, 40, 4, 1])\n",
      "torch.Size([1, 8, 20, 1])\n",
      "torch.Size([1, 40, 4, 1])\n",
      "torch.Size([1, 8, 20, 1])\n",
      "torch.Size([1, 40, 4, 1])\n",
      "torch.Size([1, 8, 20, 1])\n",
      "torch.Size([1, 40, 4, 1])\n",
      "torch.Size([1, 8, 20, 1])\n",
      "torch.Size([1, 40, 4, 1])\n",
      "torch.Size([1, 8, 20, 1])\n",
      "torch.Size([1, 40, 4, 1])\n",
      "torch.Size([1, 8, 20, 1])\n",
      "torch.Size([1, 40, 4, 1])\n",
      "torch.Size([1, 8, 20, 1])\n",
      "torch.Size([1, 40, 4, 1])\n",
      "torch.Size([1, 8, 20, 1])\n",
      "torch.Size([1, 40, 4, 1])\n",
      "torch.Size([1, 8, 20, 1])\n"
     ]
    },
    {
     "name": "stderr",
     "output_type": "stream",
     "text": [
      "\r",
      "  3%|▎         | 32/1000 [00:04<02:14,  7.21it/s]"
     ]
    },
    {
     "name": "stdout",
     "output_type": "stream",
     "text": [
      "torch.Size([1, 40, 4, 1])\n",
      "torch.Size([1, 8, 20, 1])\n",
      "torch.Size([1, 40, 4, 1])\n",
      "torch.Size([1, 8, 20, 1])\n",
      "torch.Size([1, 40, 4, 1])\n",
      "torch.Size([1, 8, 20, 1])\n",
      "torch.Size([1, 40, 4, 1])\n",
      "torch.Size([1, 8, 20, 1])\n",
      "torch.Size([1, 40, 4, 1])\n",
      "torch.Size([1, 8, 20, 1])\n",
      "torch.Size([1, 40, 4, 1])\n",
      "torch.Size([1, 8, 20, 1])\n"
     ]
    },
    {
     "name": "stderr",
     "output_type": "stream",
     "text": [
      "\r",
      "  3%|▎         | 34/1000 [00:04<01:57,  8.19it/s]"
     ]
    },
    {
     "name": "stdout",
     "output_type": "stream",
     "text": [
      "torch.Size([1, 40, 4, 1])\n",
      "torch.Size([1, 8, 20, 1])\n",
      "torch.Size([1, 40, 4, 1])\n",
      "torch.Size([1, 8, 20, 1])\n",
      "torch.Size([1, 40, 4, 1])\n",
      "torch.Size([1, 8, 20, 1])\n",
      "torch.Size([1, 40, 4, 1])\n",
      "torch.Size([1, 8, 20, 1])\n",
      "torch.Size([1, 40, 4, 1])\n",
      "torch.Size([1, 8, 20, 1])\n",
      "torch.Size([1, 40, 4, 1])\n",
      "torch.Size([1, 8, 20, 1])\n",
      "torch.Size([1, 40, 4, 1])\n",
      "torch.Size([1, 8, 20, 1])\n",
      "torch.Size([1, 40, 4, 1])\n",
      "torch.Size([1, 8, 20, 1])\n",
      "torch.Size([1, 40, 4, 1])\n",
      "torch.Size([1, 8, 20, 1])\n",
      "torch.Size([1, 40, 4, 1])\n",
      "torch.Size([1, 8, 20, 1])\n",
      "torch.Size([1, 40, 4, 1])\n",
      "torch.Size([1, 8, 20, 1])\n",
      "torch.Size([1, 40, 4, 1])\n",
      "torch.Size([1, 8, 20, 1])\n"
     ]
    },
    {
     "name": "stderr",
     "output_type": "stream",
     "text": [
      "  4%|▎         | 37/1000 [00:05<02:02,  7.84it/s]"
     ]
    },
    {
     "name": "stdout",
     "output_type": "stream",
     "text": [
      "torch.Size([1, 40, 4, 1])\n",
      "torch.Size([1, 8, 20, 1])\n",
      "torch.Size([1, 40, 4, 1])\n",
      "torch.Size([1, 8, 20, 1])\n",
      "torch.Size([1, 40, 4, 1])\n",
      "torch.Size([1, 8, 20, 1])\n",
      "torch.Size([1, 40, 4, 1])\n",
      "torch.Size([1, 8, 20, 1])\n",
      "torch.Size([1, 40, 4, 1])\n",
      "torch.Size([1, 8, 20, 1])\n",
      "torch.Size([1, 40, 4, 1])\n",
      "torch.Size([1, 8, 20, 1])\n",
      "torch.Size([1, 40, 4, 1])\n",
      "torch.Size([1, 8, 20, 1])\n",
      "torch.Size([1, 40, 4, 1])\n",
      "torch.Size([1, 8, 20, 1])\n"
     ]
    },
    {
     "name": "stderr",
     "output_type": "stream",
     "text": [
      "  4%|▍         | 39/1000 [00:05<02:18,  6.94it/s]"
     ]
    },
    {
     "name": "stdout",
     "output_type": "stream",
     "text": [
      "torch.Size([1, 40, 4, 1])\n",
      "torch.Size([1, 8, 20, 1])\n",
      "torch.Size([1, 40, 4, 1])\n",
      "torch.Size([1, 8, 20, 1])\n",
      "torch.Size([1, 40, 4, 1])\n",
      "torch.Size([1, 8, 20, 1])\n",
      "torch.Size([1, 40, 4, 1])\n",
      "torch.Size([1, 8, 20, 1])\n",
      "torch.Size([1, 40, 4, 1])\n",
      "torch.Size([1, 8, 20, 1])\n",
      "torch.Size([1, 40, 4, 1])\n",
      "torch.Size([1, 8, 20, 1])\n",
      "torch.Size([1, 40, 4, 1])\n",
      "torch.Size([1, 8, 20, 1])\n",
      "torch.Size([1, 40, 4, 1])\n",
      "torch.Size([1, 8, 20, 1])\n"
     ]
    },
    {
     "name": "stderr",
     "output_type": "stream",
     "text": [
      "\r",
      "  4%|▍         | 40/1000 [00:05<02:24,  6.66it/s]"
     ]
    },
    {
     "name": "stdout",
     "output_type": "stream",
     "text": [
      "torch.Size([1, 40, 4, 1])\n",
      "torch.Size([1, 8, 20, 1])\n",
      "torch.Size([1, 40, 4, 1])\n",
      "torch.Size([1, 8, 20, 1])\n",
      "torch.Size([1, 40, 4, 1])\n",
      "torch.Size([1, 8, 20, 1])\n",
      "torch.Size([1, 40, 4, 1])\n",
      "torch.Size([1, 8, 20, 1])\n",
      "torch.Size([1, 40, 4, 1])\n",
      "torch.Size([1, 8, 20, 1])\n",
      "torch.Size([1, 40, 4, 1])\n",
      "torch.Size([1, 8, 20, 1])\n",
      "torch.Size([1, 40, 4, 1])\n",
      "torch.Size([1, 8, 20, 1])\n",
      "torch.Size([1, 40, 4, 1])\n",
      "torch.Size([1, 8, 20, 1])\n"
     ]
    },
    {
     "name": "stderr",
     "output_type": "stream",
     "text": [
      "  4%|▍         | 43/1000 [00:06<02:22,  6.73it/s]"
     ]
    },
    {
     "name": "stdout",
     "output_type": "stream",
     "text": [
      "torch.Size([1, 40, 4, 1])\n",
      "torch.Size([1, 8, 20, 1])\n",
      "torch.Size([1, 40, 4, 1])\n",
      "torch.Size([1, 8, 20, 1])\n",
      "torch.Size([1, 40, 4, 1])\n",
      "torch.Size([1, 8, 20, 1])\n",
      "torch.Size([1, 40, 4, 1])\n",
      "torch.Size([1, 8, 20, 1])\n",
      "torch.Size([1, 40, 4, 1])\n",
      "torch.Size([1, 8, 20, 1])\n",
      "torch.Size([1, 40, 4, 1])\n",
      "torch.Size([1, 8, 20, 1])\n",
      "torch.Size([1, 40, 4, 1])\n",
      "torch.Size([1, 8, 20, 1])\n",
      "torch.Size([1, 40, 4, 1])\n",
      "torch.Size([1, 8, 20, 1])\n"
     ]
    },
    {
     "name": "stderr",
     "output_type": "stream",
     "text": [
      "  4%|▍         | 45/1000 [00:06<02:24,  6.63it/s]"
     ]
    },
    {
     "name": "stdout",
     "output_type": "stream",
     "text": [
      "torch.Size([1, 40, 4, 1])\n",
      "torch.Size([1, 8, 20, 1])\n",
      "torch.Size([1, 40, 4, 1])\n",
      "torch.Size([1, 8, 20, 1])\n",
      "torch.Size([1, 40, 4, 1])\n",
      "torch.Size([1, 8, 20, 1])\n",
      "torch.Size([1, 40, 4, 1])\n",
      "torch.Size([1, 8, 20, 1])\n",
      "torch.Size([1, 40, 4, 1])\n",
      "torch.Size([1, 8, 20, 1])\n",
      "torch.Size([1, 40, 4, 1])\n",
      "torch.Size([1, 8, 20, 1])\n"
     ]
    },
    {
     "name": "stderr",
     "output_type": "stream",
     "text": [
      "\r",
      "  5%|▍         | 47/1000 [00:06<02:01,  7.82it/s]"
     ]
    },
    {
     "name": "stdout",
     "output_type": "stream",
     "text": [
      "torch.Size([1, 40, 4, 1])\n",
      "torch.Size([1, 8, 20, 1])\n",
      "torch.Size([1, 40, 4, 1])\n",
      "torch.Size([1, 8, 20, 1])\n",
      "torch.Size([1, 40, 4, 1])\n",
      "torch.Size([1, 8, 20, 1])\n",
      "torch.Size([1, 40, 4, 1])\n",
      "torch.Size([1, 8, 20, 1])\n",
      "torch.Size([1, 40, 4, 1])\n",
      "torch.Size([1, 8, 20, 1])\n",
      "torch.Size([1, 40, 4, 1])\n",
      "torch.Size([1, 8, 20, 1])\n",
      "torch.Size([1, 40, 4, 1])\n",
      "torch.Size([1, 8, 20, 1])\n",
      "torch.Size([1, 40, 4, 1])\n",
      "torch.Size([1, 8, 20, 1])\n",
      "torch.Size([1, 40, 4, 1])\n",
      "torch.Size([1, 8, 20, 1])\n",
      "torch.Size([1, 40, 4, 1])\n",
      "torch.Size([1, 8, 20, 1])\n"
     ]
    },
    {
     "name": "stderr",
     "output_type": "stream",
     "text": [
      "  5%|▌         | 50/1000 [00:06<01:55,  8.25it/s]"
     ]
    },
    {
     "name": "stdout",
     "output_type": "stream",
     "text": [
      "torch.Size([1, 40, 4, 1])\n",
      "torch.Size([1, 8, 20, 1])\n",
      "torch.Size([1, 40, 4, 1])\n",
      "torch.Size([1, 8, 20, 1])\n",
      "torch.Size([1, 40, 4, 1])\n",
      "torch.Size([1, 8, 20, 1])\n",
      "torch.Size([1, 40, 4, 1])\n",
      "torch.Size([1, 8, 20, 1])\n",
      "torch.Size([1, 40, 4, 1])\n",
      "torch.Size([1, 8, 20, 1])\n",
      "torch.Size([1, 40, 4, 1])\n",
      "torch.Size([1, 8, 20, 1])\n",
      "torch.Size([1, 40, 4, 1])\n",
      "torch.Size([1, 8, 20, 1])\n",
      "torch.Size([1, 40, 4, 1])\n",
      "torch.Size([1, 8, 20, 1])\n",
      "torch.Size([1, 40, 4, 1])\n",
      "torch.Size([1, 8, 20, 1])\n",
      "torch.Size([1, 40, 4, 1])\n",
      "torch.Size([1, 8, 20, 1])\n",
      "torch.Size([1, 40, 4, 1])\n",
      "torch.Size([1, 8, 20, 1])\n",
      "torch.Size([1, 40, 4, 1])\n",
      "torch.Size([1, 8, 20, 1])\n"
     ]
    },
    {
     "name": "stderr",
     "output_type": "stream",
     "text": [
      "\r",
      "  5%|▌         | 51/1000 [00:07<02:08,  7.41it/s]"
     ]
    },
    {
     "name": "stdout",
     "output_type": "stream",
     "text": [
      "torch.Size([1, 40, 4, 1])\n",
      "torch.Size([1, 8, 20, 1])\n",
      "torch.Size([1, 40, 4, 1])\n",
      "torch.Size([1, 8, 20, 1])\n",
      "torch.Size([1, 40, 4, 1])\n",
      "torch.Size([1, 8, 20, 1])\n",
      "torch.Size([1, 40, 4, 1])\n",
      "torch.Size([1, 8, 20, 1])\n",
      "torch.Size([1, 40, 4, 1])\n",
      "torch.Size([1, 8, 20, 1])\n",
      "torch.Size([1, 40, 4, 1])\n",
      "torch.Size([1, 8, 20, 1])\n",
      "torch.Size([1, 40, 4, 1])\n",
      "torch.Size([1, 8, 20, 1])\n",
      "torch.Size([1, 40, 4, 1])\n",
      "torch.Size([1, 8, 20, 1])\n"
     ]
    },
    {
     "name": "stderr",
     "output_type": "stream",
     "text": [
      "  5%|▌         | 54/1000 [00:07<02:11,  7.19it/s]"
     ]
    },
    {
     "name": "stdout",
     "output_type": "stream",
     "text": [
      "torch.Size([1, 40, 4, 1])\n",
      "torch.Size([1, 8, 20, 1])\n",
      "torch.Size([1, 40, 4, 1])\n",
      "torch.Size([1, 8, 20, 1])\n",
      "torch.Size([1, 40, 4, 1])\n",
      "torch.Size([1, 8, 20, 1])\n",
      "torch.Size([1, 40, 4, 1])\n",
      "torch.Size([1, 8, 20, 1])\n",
      "torch.Size([1, 40, 4, 1])\n",
      "torch.Size([1, 8, 20, 1])\n",
      "torch.Size([1, 40, 4, 1])\n",
      "torch.Size([1, 8, 20, 1])\n",
      "torch.Size([1, 40, 4, 1])\n",
      "torch.Size([1, 8, 20, 1])\n",
      "torch.Size([1, 40, 4, 1])\n",
      "torch.Size([1, 8, 20, 1])\n"
     ]
    },
    {
     "name": "stderr",
     "output_type": "stream",
     "text": [
      "  6%|▌         | 56/1000 [00:07<02:23,  6.59it/s]"
     ]
    },
    {
     "name": "stdout",
     "output_type": "stream",
     "text": [
      "torch.Size([1, 40, 4, 1])\n",
      "torch.Size([1, 8, 20, 1])\n",
      "torch.Size([1, 40, 4, 1])\n",
      "torch.Size([1, 8, 20, 1])\n",
      "torch.Size([1, 40, 4, 1])\n",
      "torch.Size([1, 8, 20, 1])\n",
      "torch.Size([1, 40, 4, 1])\n",
      "torch.Size([1, 8, 20, 1])\n",
      "torch.Size([1, 40, 4, 1])\n",
      "torch.Size([1, 8, 20, 1])\n",
      "torch.Size([1, 40, 4, 1])\n",
      "torch.Size([1, 8, 20, 1])\n",
      "torch.Size([1, 40, 4, 1])\n",
      "torch.Size([1, 8, 20, 1])\n",
      "torch.Size([1, 40, 4, 1])\n",
      "torch.Size([1, 8, 20, 1])\n"
     ]
    },
    {
     "name": "stderr",
     "output_type": "stream",
     "text": [
      "  6%|▌         | 58/1000 [00:08<02:14,  7.03it/s]"
     ]
    },
    {
     "name": "stdout",
     "output_type": "stream",
     "text": [
      "torch.Size([1, 40, 4, 1])\n",
      "torch.Size([1, 8, 20, 1])\n",
      "torch.Size([1, 40, 4, 1])\n",
      "torch.Size([1, 8, 20, 1])\n",
      "torch.Size([1, 40, 4, 1])\n",
      "torch.Size([1, 8, 20, 1])\n",
      "torch.Size([1, 40, 4, 1])\n",
      "torch.Size([1, 8, 20, 1])\n",
      "torch.Size([1, 40, 4, 1])\n",
      "torch.Size([1, 8, 20, 1])\n",
      "torch.Size([1, 40, 4, 1])\n",
      "torch.Size([1, 8, 20, 1])\n",
      "torch.Size([1, 40, 4, 1])\n",
      "torch.Size([1, 8, 20, 1])\n",
      "torch.Size([1, 40, 4, 1])\n",
      "torch.Size([1, 8, 20, 1])\n"
     ]
    },
    {
     "name": "stderr",
     "output_type": "stream",
     "text": [
      "  6%|▌         | 60/1000 [00:08<02:25,  6.48it/s]"
     ]
    },
    {
     "name": "stdout",
     "output_type": "stream",
     "text": [
      "torch.Size([1, 40, 4, 1])\n",
      "torch.Size([1, 8, 20, 1])\n",
      "torch.Size([1, 40, 4, 1])\n",
      "torch.Size([1, 8, 20, 1])\n",
      "torch.Size([1, 40, 4, 1])\n",
      "torch.Size([1, 8, 20, 1])\n",
      "torch.Size([1, 40, 4, 1])\n",
      "torch.Size([1, 8, 20, 1])\n",
      "torch.Size([1, 40, 4, 1])\n",
      "torch.Size([1, 8, 20, 1])\n",
      "torch.Size([1, 40, 4, 1])\n",
      "torch.Size([1, 8, 20, 1])\n",
      "torch.Size([1, 40, 4, 1])\n",
      "torch.Size([1, 8, 20, 1])\n",
      "torch.Size([1, 40, 4, 1])\n",
      "torch.Size([1, 8, 20, 1])\n"
     ]
    },
    {
     "name": "stderr",
     "output_type": "stream",
     "text": [
      "\r",
      "  6%|▌         | 62/1000 [00:08<02:06,  7.42it/s]"
     ]
    },
    {
     "name": "stdout",
     "output_type": "stream",
     "text": [
      "torch.Size([1, 40, 4, 1])\n",
      "torch.Size([1, 8, 20, 1])\n",
      "torch.Size([1, 40, 4, 1])\n",
      "torch.Size([1, 8, 20, 1])\n",
      "torch.Size([1, 40, 4, 1])\n",
      "torch.Size([1, 8, 20, 1])\n",
      "torch.Size([1, 40, 4, 1])\n",
      "torch.Size([1, 8, 20, 1])\n",
      "torch.Size([1, 40, 4, 1])\n",
      "torch.Size([1, 8, 20, 1])\n",
      "torch.Size([1, 40, 4, 1])\n",
      "torch.Size([1, 8, 20, 1])\n",
      "torch.Size([1, 40, 4, 1])\n",
      "torch.Size([1, 8, 20, 1])\n",
      "torch.Size([1, 40, 4, 1])\n",
      "torch.Size([1, 8, 20, 1])\n",
      "torch.Size([1, 40, 4, 1])\n",
      "torch.Size([1, 8, 20, 1])\n",
      "torch.Size([1, 40, 4, 1])\n",
      "torch.Size([1, 8, 20, 1])\n",
      "torch.Size([1, 40, 4, 1])\n",
      "torch.Size([1, 8, 20, 1])\n",
      "torch.Size([1, 40, 4, 1])\n",
      "torch.Size([1, 8, 20, 1])\n"
     ]
    },
    {
     "name": "stderr",
     "output_type": "stream",
     "text": [
      "  6%|▋         | 65/1000 [00:08<02:08,  7.28it/s]"
     ]
    },
    {
     "name": "stdout",
     "output_type": "stream",
     "text": [
      "torch.Size([1, 40, 4, 1])\n",
      "torch.Size([1, 8, 20, 1])\n",
      "torch.Size([1, 40, 4, 1])\n",
      "torch.Size([1, 8, 20, 1])\n",
      "torch.Size([1, 40, 4, 1])\n",
      "torch.Size([1, 8, 20, 1])\n",
      "torch.Size([1, 40, 4, 1])\n",
      "torch.Size([1, 8, 20, 1])\n",
      "torch.Size([1, 40, 4, 1])\n",
      "torch.Size([1, 8, 20, 1])\n",
      "torch.Size([1, 40, 4, 1])\n",
      "torch.Size([1, 8, 20, 1])\n",
      "torch.Size([1, 40, 4, 1])\n",
      "torch.Size([1, 8, 20, 1])\n",
      "torch.Size([1, 40, 4, 1])\n",
      "torch.Size([1, 8, 20, 1])\n"
     ]
    },
    {
     "name": "stderr",
     "output_type": "stream",
     "text": [
      "  7%|▋         | 67/1000 [00:09<02:10,  7.16it/s]"
     ]
    },
    {
     "name": "stdout",
     "output_type": "stream",
     "text": [
      "torch.Size([1, 40, 4, 1])\n",
      "torch.Size([1, 8, 20, 1])\n",
      "torch.Size([1, 40, 4, 1])\n",
      "torch.Size([1, 8, 20, 1])\n",
      "torch.Size([1, 40, 4, 1])\n",
      "torch.Size([1, 8, 20, 1])\n",
      "torch.Size([1, 40, 4, 1])\n",
      "torch.Size([1, 8, 20, 1])\n",
      "torch.Size([1, 40, 4, 1])\n",
      "torch.Size([1, 8, 20, 1])\n",
      "torch.Size([1, 40, 4, 1])\n",
      "torch.Size([1, 8, 20, 1])\n",
      "torch.Size([1, 40, 4, 1])\n",
      "torch.Size([1, 8, 20, 1])\n",
      "torch.Size([1, 40, 4, 1])\n",
      "torch.Size([1, 8, 20, 1])\n"
     ]
    },
    {
     "name": "stderr",
     "output_type": "stream",
     "text": [
      "\r",
      "  7%|▋         | 69/1000 [00:09<02:07,  7.30it/s]"
     ]
    },
    {
     "name": "stdout",
     "output_type": "stream",
     "text": [
      "torch.Size([1, 40, 4, 1])\n",
      "torch.Size([1, 8, 20, 1])\n",
      "torch.Size([1, 40, 4, 1])\n",
      "torch.Size([1, 8, 20, 1])\n",
      "torch.Size([1, 40, 4, 1])\n",
      "torch.Size([1, 8, 20, 1])\n",
      "torch.Size([1, 40, 4, 1])\n",
      "torch.Size([1, 8, 20, 1])\n",
      "torch.Size([1, 40, 4, 1])\n",
      "torch.Size([1, 8, 20, 1])\n",
      "torch.Size([1, 40, 4, 1])\n",
      "torch.Size([1, 8, 20, 1])\n",
      "torch.Size([1, 40, 4, 1])\n",
      "torch.Size([1, 8, 20, 1])\n",
      "torch.Size([1, 40, 4, 1])\n",
      "torch.Size([1, 8, 20, 1])\n"
     ]
    },
    {
     "name": "stderr",
     "output_type": "stream",
     "text": [
      "\r",
      "  7%|▋         | 71/1000 [00:09<01:58,  7.83it/s]"
     ]
    },
    {
     "name": "stdout",
     "output_type": "stream",
     "text": [
      "torch.Size([1, 40, 4, 1])\n",
      "torch.Size([1, 8, 20, 1])\n",
      "torch.Size([1, 40, 4, 1])\n",
      "torch.Size([1, 8, 20, 1])\n",
      "torch.Size([1, 40, 4, 1])\n",
      "torch.Size([1, 8, 20, 1])\n",
      "torch.Size([1, 40, 4, 1])\n",
      "torch.Size([1, 8, 20, 1])\n",
      "torch.Size([1, 40, 4, 1])\n",
      "torch.Size([1, 8, 20, 1])\n",
      "torch.Size([1, 40, 4, 1])\n",
      "torch.Size([1, 8, 20, 1])\n",
      "torch.Size([1, 40, 4, 1])\n",
      "torch.Size([1, 8, 20, 1])\n",
      "torch.Size([1, 40, 4, 1])\n",
      "torch.Size([1, 8, 20, 1])\n"
     ]
    },
    {
     "name": "stderr",
     "output_type": "stream",
     "text": [
      "  7%|▋         | 73/1000 [00:09<02:15,  6.84it/s]"
     ]
    },
    {
     "name": "stdout",
     "output_type": "stream",
     "text": [
      "torch.Size([1, 40, 4, 1])\n",
      "torch.Size([1, 8, 20, 1])\n",
      "torch.Size([1, 40, 4, 1])\n",
      "torch.Size([1, 8, 20, 1])\n",
      "torch.Size([1, 40, 4, 1])\n",
      "torch.Size([1, 8, 20, 1])\n",
      "torch.Size([1, 40, 4, 1])\n",
      "torch.Size([1, 8, 20, 1])\n",
      "torch.Size([1, 40, 4, 1])\n",
      "torch.Size([1, 8, 20, 1])\n",
      "torch.Size([1, 40, 4, 1])\n",
      "torch.Size([1, 8, 20, 1])\n",
      "torch.Size([1, 40, 4, 1])\n",
      "torch.Size([1, 8, 20, 1])\n",
      "torch.Size([1, 40, 4, 1])\n",
      "torch.Size([1, 8, 20, 1])\n"
     ]
    },
    {
     "name": "stderr",
     "output_type": "stream",
     "text": [
      "\r",
      "  7%|▋         | 74/1000 [00:10<02:20,  6.59it/s]"
     ]
    },
    {
     "name": "stdout",
     "output_type": "stream",
     "text": [
      "torch.Size([1, 40, 4, 1])\n",
      "torch.Size([1, 8, 20, 1])\n",
      "torch.Size([1, 40, 4, 1])\n",
      "torch.Size([1, 8, 20, 1])\n",
      "torch.Size([1, 40, 4, 1])\n",
      "torch.Size([1, 8, 20, 1])\n",
      "torch.Size([1, 40, 4, 1])\n",
      "torch.Size([1, 8, 20, 1])\n",
      "torch.Size([1, 40, 4, 1])\n",
      "torch.Size([1, 8, 20, 1])\n",
      "torch.Size([1, 40, 4, 1])\n",
      "torch.Size([1, 8, 20, 1])\n",
      "torch.Size([1, 40, 4, 1])\n",
      "torch.Size([1, 8, 20, 1])\n",
      "torch.Size([1, 40, 4, 1])\n",
      "torch.Size([1, 8, 20, 1])\n"
     ]
    },
    {
     "name": "stderr",
     "output_type": "stream",
     "text": [
      "  8%|▊         | 77/1000 [00:10<02:17,  6.72it/s]"
     ]
    },
    {
     "name": "stdout",
     "output_type": "stream",
     "text": [
      "torch.Size([1, 40, 4, 1])\n",
      "torch.Size([1, 8, 20, 1])\n",
      "torch.Size([1, 40, 4, 1])\n",
      "torch.Size([1, 8, 20, 1])\n",
      "torch.Size([1, 40, 4, 1])\n",
      "torch.Size([1, 8, 20, 1])\n",
      "torch.Size([1, 40, 4, 1])\n",
      "torch.Size([1, 8, 20, 1])\n",
      "torch.Size([1, 40, 4, 1])\n",
      "torch.Size([1, 8, 20, 1])\n",
      "torch.Size([1, 40, 4, 1])\n",
      "torch.Size([1, 8, 20, 1])\n",
      "torch.Size([1, 40, 4, 1])\n",
      "torch.Size([1, 8, 20, 1])\n",
      "torch.Size([1, 40, 4, 1])\n",
      "torch.Size([1, 8, 20, 1])\n"
     ]
    },
    {
     "name": "stderr",
     "output_type": "stream",
     "text": [
      "  8%|▊         | 79/1000 [00:10<02:12,  6.98it/s]"
     ]
    },
    {
     "name": "stdout",
     "output_type": "stream",
     "text": [
      "torch.Size([1, 40, 4, 1])\n",
      "torch.Size([1, 8, 20, 1])\n",
      "torch.Size([1, 40, 4, 1])\n",
      "torch.Size([1, 8, 20, 1])\n",
      "torch.Size([1, 40, 4, 1])\n",
      "torch.Size([1, 8, 20, 1])\n",
      "torch.Size([1, 40, 4, 1])\n",
      "torch.Size([1, 8, 20, 1])\n",
      "torch.Size([1, 40, 4, 1])\n",
      "torch.Size([1, 8, 20, 1])\n",
      "torch.Size([1, 40, 4, 1])\n",
      "torch.Size([1, 8, 20, 1])\n",
      "torch.Size([1, 40, 4, 1])\n",
      "torch.Size([1, 8, 20, 1])\n",
      "torch.Size([1, 40, 4, 1])\n",
      "torch.Size([1, 8, 20, 1])\n"
     ]
    },
    {
     "name": "stderr",
     "output_type": "stream",
     "text": [
      "  8%|▊         | 81/1000 [00:11<02:21,  6.50it/s]"
     ]
    },
    {
     "name": "stdout",
     "output_type": "stream",
     "text": [
      "torch.Size([1, 40, 4, 1])\n",
      "torch.Size([1, 8, 20, 1])\n",
      "torch.Size([1, 40, 4, 1])\n",
      "torch.Size([1, 8, 20, 1])\n",
      "torch.Size([1, 40, 4, 1])\n",
      "torch.Size([1, 8, 20, 1])\n",
      "torch.Size([1, 40, 4, 1])\n",
      "torch.Size([1, 8, 20, 1])\n",
      "torch.Size([1, 40, 4, 1])\n",
      "torch.Size([1, 8, 20, 1])\n",
      "torch.Size([1, 40, 4, 1])\n",
      "torch.Size([1, 8, 20, 1])\n",
      "torch.Size([1, 40, 4, 1])\n",
      "torch.Size([1, 8, 20, 1])\n",
      "torch.Size([1, 40, 4, 1])\n",
      "torch.Size([1, 8, 20, 1])\n"
     ]
    },
    {
     "name": "stderr",
     "output_type": "stream",
     "text": [
      "\r",
      "  8%|▊         | 83/1000 [00:11<02:07,  7.17it/s]"
     ]
    },
    {
     "name": "stdout",
     "output_type": "stream",
     "text": [
      "torch.Size([1, 40, 4, 1])\n",
      "torch.Size([1, 8, 20, 1])\n",
      "torch.Size([1, 40, 4, 1])\n",
      "torch.Size([1, 8, 20, 1])\n",
      "torch.Size([1, 40, 4, 1])\n",
      "torch.Size([1, 8, 20, 1])\n",
      "torch.Size([1, 40, 4, 1])\n",
      "torch.Size([1, 8, 20, 1])\n",
      "torch.Size([1, 40, 4, 1])\n",
      "torch.Size([1, 8, 20, 1])\n",
      "torch.Size([1, 40, 4, 1])\n",
      "torch.Size([1, 8, 20, 1])\n",
      "torch.Size([1, 40, 4, 1])\n",
      "torch.Size([1, 8, 20, 1])\n",
      "torch.Size([1, 40, 4, 1])\n",
      "torch.Size([1, 8, 20, 1])\n"
     ]
    },
    {
     "name": "stderr",
     "output_type": "stream",
     "text": [
      "  9%|▊         | 86/1000 [00:11<01:56,  7.81it/s]"
     ]
    },
    {
     "name": "stdout",
     "output_type": "stream",
     "text": [
      "torch.Size([1, 40, 4, 1])\n",
      "torch.Size([1, 8, 20, 1])\n",
      "torch.Size([1, 40, 4, 1])\n",
      "torch.Size([1, 8, 20, 1])\n",
      "torch.Size([1, 40, 4, 1])\n",
      "torch.Size([1, 8, 20, 1])\n",
      "torch.Size([1, 40, 4, 1])\n",
      "torch.Size([1, 8, 20, 1])\n",
      "torch.Size([1, 40, 4, 1])\n",
      "torch.Size([1, 8, 20, 1])\n",
      "torch.Size([1, 40, 4, 1])\n",
      "torch.Size([1, 8, 20, 1])\n",
      "torch.Size([1, 40, 4, 1])\n",
      "torch.Size([1, 8, 20, 1])\n",
      "torch.Size([1, 40, 4, 1])\n",
      "torch.Size([1, 8, 20, 1])\n",
      "torch.Size([1, 40, 4, 1])\n",
      "torch.Size([1, 8, 20, 1])\n",
      "torch.Size([1, 40, 4, 1])\n",
      "torch.Size([1, 8, 20, 1])\n",
      "torch.Size([1, 40, 4, 1])\n",
      "torch.Size([1, 8, 20, 1])\n",
      "torch.Size([1, 40, 4, 1])\n",
      "torch.Size([1, 8, 20, 1])\n"
     ]
    },
    {
     "name": "stderr",
     "output_type": "stream",
     "text": [
      "\r",
      "  9%|▊         | 87/1000 [00:11<02:07,  7.19it/s]"
     ]
    },
    {
     "name": "stdout",
     "output_type": "stream",
     "text": [
      "torch.Size([1, 40, 4, 1])\n",
      "torch.Size([1, 8, 20, 1])\n",
      "torch.Size([1, 40, 4, 1])\n",
      "torch.Size([1, 8, 20, 1])\n",
      "torch.Size([1, 40, 4, 1])\n",
      "torch.Size([1, 8, 20, 1])\n",
      "torch.Size([1, 40, 4, 1])\n",
      "torch.Size([1, 8, 20, 1])\n",
      "torch.Size([1, 40, 4, 1])\n",
      "torch.Size([1, 8, 20, 1])\n",
      "torch.Size([1, 40, 4, 1])\n",
      "torch.Size([1, 8, 20, 1])\n",
      "torch.Size([1, 40, 4, 1])\n",
      "torch.Size([1, 8, 20, 1])\n",
      "torch.Size([1, 40, 4, 1])\n",
      "torch.Size([1, 8, 20, 1])\n"
     ]
    },
    {
     "name": "stderr",
     "output_type": "stream",
     "text": [
      "  9%|▉         | 90/1000 [00:12<02:08,  7.10it/s]"
     ]
    },
    {
     "name": "stdout",
     "output_type": "stream",
     "text": [
      "torch.Size([1, 40, 4, 1])\n",
      "torch.Size([1, 8, 20, 1])\n",
      "torch.Size([1, 40, 4, 1])\n",
      "torch.Size([1, 8, 20, 1])\n",
      "torch.Size([1, 40, 4, 1])\n",
      "torch.Size([1, 8, 20, 1])\n",
      "torch.Size([1, 40, 4, 1])\n",
      "torch.Size([1, 8, 20, 1])\n",
      "torch.Size([1, 40, 4, 1])\n",
      "torch.Size([1, 8, 20, 1])\n",
      "torch.Size([1, 40, 4, 1])\n",
      "torch.Size([1, 8, 20, 1])\n",
      "torch.Size([1, 40, 4, 1])\n",
      "torch.Size([1, 8, 20, 1])\n",
      "torch.Size([1, 40, 4, 1])\n",
      "torch.Size([1, 8, 20, 1])\n"
     ]
    },
    {
     "name": "stderr",
     "output_type": "stream",
     "text": [
      "\r",
      "  9%|▉         | 92/1000 [00:12<02:02,  7.43it/s]"
     ]
    },
    {
     "name": "stdout",
     "output_type": "stream",
     "text": [
      "torch.Size([1, 40, 4, 1])\n",
      "torch.Size([1, 8, 20, 1])\n",
      "torch.Size([1, 40, 4, 1])\n",
      "torch.Size([1, 8, 20, 1])\n",
      "torch.Size([1, 40, 4, 1])\n",
      "torch.Size([1, 8, 20, 1])\n",
      "torch.Size([1, 40, 4, 1])\n",
      "torch.Size([1, 8, 20, 1])\n",
      "torch.Size([1, 40, 4, 1])\n",
      "torch.Size([1, 8, 20, 1])\n",
      "torch.Size([1, 40, 4, 1])\n",
      "torch.Size([1, 8, 20, 1])\n",
      "torch.Size([1, 40, 4, 1])\n",
      "torch.Size([1, 8, 20, 1])\n",
      "torch.Size([1, 40, 4, 1])\n",
      "torch.Size([1, 8, 20, 1])\n"
     ]
    },
    {
     "name": "stderr",
     "output_type": "stream",
     "text": [
      " 10%|▉         | 95/1000 [00:12<01:48,  8.34it/s]"
     ]
    },
    {
     "name": "stdout",
     "output_type": "stream",
     "text": [
      "torch.Size([1, 40, 4, 1])\n",
      "torch.Size([1, 8, 20, 1])\n",
      "torch.Size([1, 40, 4, 1])\n",
      "torch.Size([1, 8, 20, 1])\n",
      "torch.Size([1, 40, 4, 1])\n",
      "torch.Size([1, 8, 20, 1])\n",
      "torch.Size([1, 40, 4, 1])\n",
      "torch.Size([1, 8, 20, 1])\n",
      "torch.Size([1, 40, 4, 1])\n",
      "torch.Size([1, 8, 20, 1])\n",
      "torch.Size([1, 40, 4, 1])\n",
      "torch.Size([1, 8, 20, 1])\n",
      "torch.Size([1, 40, 4, 1])\n",
      "torch.Size([1, 8, 20, 1])\n",
      "torch.Size([1, 40, 4, 1])\n",
      "torch.Size([1, 8, 20, 1])\n",
      "torch.Size([1, 40, 4, 1])\n",
      "torch.Size([1, 8, 20, 1])\n",
      "torch.Size([1, 40, 4, 1])\n",
      "torch.Size([1, 8, 20, 1])\n"
     ]
    },
    {
     "name": "stderr",
     "output_type": "stream",
     "text": [
      "\r",
      " 10%|▉         | 96/1000 [00:12<02:00,  7.51it/s]"
     ]
    },
    {
     "name": "stdout",
     "output_type": "stream",
     "text": [
      "torch.Size([1, 40, 4, 1])\n",
      "torch.Size([1, 8, 20, 1])\n",
      "torch.Size([1, 40, 4, 1])\n",
      "torch.Size([1, 8, 20, 1])\n",
      "torch.Size([1, 40, 4, 1])\n",
      "torch.Size([1, 8, 20, 1])\n",
      "torch.Size([1, 40, 4, 1])\n",
      "torch.Size([1, 8, 20, 1])\n",
      "torch.Size([1, 40, 4, 1])\n",
      "torch.Size([1, 8, 20, 1])\n",
      "torch.Size([1, 40, 4, 1])\n",
      "torch.Size([1, 8, 20, 1])\n"
     ]
    },
    {
     "name": "stderr",
     "output_type": "stream",
     "text": [
      " 10%|▉         | 98/1000 [00:13<02:05,  7.21it/s]"
     ]
    },
    {
     "name": "stdout",
     "output_type": "stream",
     "text": [
      "torch.Size([1, 40, 4, 1])\n",
      "torch.Size([1, 8, 20, 1])\n",
      "torch.Size([1, 40, 4, 1])\n",
      "torch.Size([1, 8, 20, 1])\n",
      "torch.Size([1, 40, 4, 1])\n",
      "torch.Size([1, 8, 20, 1])\n",
      "torch.Size([1, 40, 4, 1])\n",
      "torch.Size([1, 8, 20, 1])\n",
      "torch.Size([1, 40, 4, 1])\n",
      "torch.Size([1, 8, 20, 1])\n",
      "torch.Size([1, 40, 4, 1])\n",
      "torch.Size([1, 8, 20, 1])\n",
      "torch.Size([1, 40, 4, 1])\n",
      "torch.Size([1, 8, 20, 1])\n",
      "torch.Size([1, 40, 4, 1])\n",
      "torch.Size([1, 8, 20, 1])\n"
     ]
    },
    {
     "name": "stderr",
     "output_type": "stream",
     "text": [
      " 10%|█         | 100/1000 [00:13<02:12,  6.81it/s]"
     ]
    },
    {
     "name": "stdout",
     "output_type": "stream",
     "text": [
      "torch.Size([1, 40, 4, 1])\n",
      "torch.Size([1, 8, 20, 1])\n",
      "torch.Size([1, 40, 4, 1])\n",
      "torch.Size([1, 8, 20, 1])\n",
      "torch.Size([1, 40, 4, 1])\n",
      "torch.Size([1, 8, 20, 1])\n",
      "torch.Size([1, 40, 4, 1])\n",
      "torch.Size([1, 8, 20, 1])\n",
      "torch.Size([1, 40, 4, 1])\n",
      "torch.Size([1, 8, 20, 1])\n",
      "torch.Size([1, 40, 4, 1])\n",
      "torch.Size([1, 8, 20, 1])\n",
      "torch.Size([1, 40, 4, 1])\n",
      "torch.Size([1, 8, 20, 1])\n",
      "torch.Size([1, 40, 4, 1])\n",
      "torch.Size([1, 8, 20, 1])\n"
     ]
    },
    {
     "name": "stderr",
     "output_type": "stream",
     "text": [
      " 10%|█         | 102/1000 [00:13<02:14,  6.66it/s]"
     ]
    },
    {
     "name": "stdout",
     "output_type": "stream",
     "text": [
      "torch.Size([1, 40, 4, 1])\n",
      "torch.Size([1, 8, 20, 1])\n",
      "torch.Size([1, 40, 4, 1])\n",
      "torch.Size([1, 8, 20, 1])\n",
      "torch.Size([1, 40, 4, 1])\n",
      "torch.Size([1, 8, 20, 1])\n",
      "torch.Size([1, 40, 4, 1])\n",
      "torch.Size([1, 8, 20, 1])\n",
      "torch.Size([1, 40, 4, 1])\n",
      "torch.Size([1, 8, 20, 1])\n",
      "torch.Size([1, 40, 4, 1])\n",
      "torch.Size([1, 8, 20, 1])\n",
      "torch.Size([1, 40, 4, 1])\n",
      "torch.Size([1, 8, 20, 1])\n",
      "torch.Size([1, 40, 4, 1])\n",
      "torch.Size([1, 8, 20, 1])\n"
     ]
    },
    {
     "name": "stderr",
     "output_type": "stream",
     "text": [
      "\r",
      " 10%|█         | 104/1000 [00:14<02:05,  7.16it/s]"
     ]
    },
    {
     "name": "stdout",
     "output_type": "stream",
     "text": [
      "torch.Size([1, 40, 4, 1])\n",
      "torch.Size([1, 8, 20, 1])\n",
      "torch.Size([1, 40, 4, 1])\n",
      "torch.Size([1, 8, 20, 1])\n",
      "torch.Size([1, 40, 4, 1])\n",
      "torch.Size([1, 8, 20, 1])\n",
      "torch.Size([1, 40, 4, 1])\n",
      "torch.Size([1, 8, 20, 1])\n",
      "torch.Size([1, 40, 4, 1])\n",
      "torch.Size([1, 8, 20, 1])\n",
      "torch.Size([1, 40, 4, 1])\n",
      "torch.Size([1, 8, 20, 1])\n",
      "torch.Size([1, 40, 4, 1])\n",
      "torch.Size([1, 8, 20, 1])\n",
      "torch.Size([1, 40, 4, 1])\n",
      "torch.Size([1, 8, 20, 1])\n"
     ]
    },
    {
     "name": "stderr",
     "output_type": "stream",
     "text": [
      " 11%|█         | 106/1000 [00:14<02:11,  6.81it/s]"
     ]
    },
    {
     "name": "stdout",
     "output_type": "stream",
     "text": [
      "torch.Size([1, 40, 4, 1])\n",
      "torch.Size([1, 8, 20, 1])\n",
      "torch.Size([1, 40, 4, 1])\n",
      "torch.Size([1, 8, 20, 1])\n",
      "torch.Size([1, 40, 4, 1])\n",
      "torch.Size([1, 8, 20, 1])\n",
      "torch.Size([1, 40, 4, 1])\n",
      "torch.Size([1, 8, 20, 1])\n",
      "torch.Size([1, 40, 4, 1])\n",
      "torch.Size([1, 8, 20, 1])\n",
      "torch.Size([1, 40, 4, 1])\n",
      "torch.Size([1, 8, 20, 1])\n",
      "torch.Size([1, 40, 4, 1])\n",
      "torch.Size([1, 8, 20, 1])\n",
      "torch.Size([1, 40, 4, 1])\n",
      "torch.Size([1, 8, 20, 1])\n"
     ]
    },
    {
     "name": "stderr",
     "output_type": "stream",
     "text": [
      " 11%|█         | 108/1000 [00:14<02:08,  6.97it/s]"
     ]
    },
    {
     "name": "stdout",
     "output_type": "stream",
     "text": [
      "torch.Size([1, 40, 4, 1])\n",
      "torch.Size([1, 8, 20, 1])\n",
      "torch.Size([1, 40, 4, 1])\n",
      "torch.Size([1, 8, 20, 1])\n",
      "torch.Size([1, 40, 4, 1])\n",
      "torch.Size([1, 8, 20, 1])\n",
      "torch.Size([1, 40, 4, 1])\n",
      "torch.Size([1, 8, 20, 1])\n",
      "torch.Size([1, 40, 4, 1])\n",
      "torch.Size([1, 8, 20, 1])\n",
      "torch.Size([1, 40, 4, 1])\n",
      "torch.Size([1, 8, 20, 1])\n",
      "torch.Size([1, 40, 4, 1])\n",
      "torch.Size([1, 8, 20, 1])\n",
      "torch.Size([1, 40, 4, 1])\n",
      "torch.Size([1, 8, 20, 1])\n"
     ]
    },
    {
     "name": "stderr",
     "output_type": "stream",
     "text": [
      " 11%|█         | 110/1000 [00:15<02:19,  6.37it/s]"
     ]
    },
    {
     "name": "stdout",
     "output_type": "stream",
     "text": [
      "torch.Size([1, 40, 4, 1])\n",
      "torch.Size([1, 8, 20, 1])\n",
      "torch.Size([1, 40, 4, 1])\n",
      "torch.Size([1, 8, 20, 1])\n",
      "torch.Size([1, 40, 4, 1])\n",
      "torch.Size([1, 8, 20, 1])\n",
      "torch.Size([1, 40, 4, 1])\n",
      "torch.Size([1, 8, 20, 1])\n",
      "torch.Size([1, 40, 4, 1])\n",
      "torch.Size([1, 8, 20, 1])\n",
      "torch.Size([1, 40, 4, 1])\n",
      "torch.Size([1, 8, 20, 1])\n",
      "torch.Size([1, 40, 4, 1])\n",
      "torch.Size([1, 8, 20, 1])\n",
      "torch.Size([1, 40, 4, 1])\n",
      "torch.Size([1, 8, 20, 1])\n"
     ]
    },
    {
     "name": "stderr",
     "output_type": "stream",
     "text": [
      " 11%|█         | 112/1000 [00:15<02:25,  6.12it/s]"
     ]
    },
    {
     "name": "stdout",
     "output_type": "stream",
     "text": [
      "torch.Size([1, 40, 4, 1])\n",
      "torch.Size([1, 8, 20, 1])\n",
      "torch.Size([1, 40, 4, 1])\n",
      "torch.Size([1, 8, 20, 1])\n",
      "torch.Size([1, 40, 4, 1])\n",
      "torch.Size([1, 8, 20, 1])\n",
      "torch.Size([1, 40, 4, 1])\n",
      "torch.Size([1, 8, 20, 1])\n",
      "torch.Size([1, 40, 4, 1])\n",
      "torch.Size([1, 8, 20, 1])\n",
      "torch.Size([1, 40, 4, 1])\n",
      "torch.Size([1, 8, 20, 1])\n",
      "torch.Size([1, 40, 4, 1])\n",
      "torch.Size([1, 8, 20, 1])\n",
      "torch.Size([1, 40, 4, 1])\n",
      "torch.Size([1, 8, 20, 1])\n"
     ]
    },
    {
     "name": "stderr",
     "output_type": "stream",
     "text": [
      " 11%|█▏        | 114/1000 [00:15<02:27,  6.02it/s]"
     ]
    },
    {
     "name": "stdout",
     "output_type": "stream",
     "text": [
      "torch.Size([1, 40, 4, 1])\n",
      "torch.Size([1, 8, 20, 1])\n",
      "torch.Size([1, 40, 4, 1])\n",
      "torch.Size([1, 8, 20, 1])\n",
      "torch.Size([1, 40, 4, 1])\n",
      "torch.Size([1, 8, 20, 1])\n",
      "torch.Size([1, 40, 4, 1])\n",
      "torch.Size([1, 8, 20, 1])\n",
      "torch.Size([1, 40, 4, 1])\n",
      "torch.Size([1, 8, 20, 1])\n",
      "torch.Size([1, 40, 4, 1])\n",
      "torch.Size([1, 8, 20, 1])\n"
     ]
    },
    {
     "name": "stderr",
     "output_type": "stream",
     "text": [
      "\r",
      " 12%|█▏        | 115/1000 [00:15<02:19,  6.34it/s]"
     ]
    },
    {
     "name": "stdout",
     "output_type": "stream",
     "text": [
      "torch.Size([1, 40, 4, 1])\n",
      "torch.Size([1, 8, 20, 1])\n",
      "torch.Size([1, 40, 4, 1])\n",
      "torch.Size([1, 8, 20, 1])\n",
      "torch.Size([1, 40, 4, 1])\n",
      "torch.Size([1, 8, 20, 1])\n",
      "torch.Size([1, 40, 4, 1])\n",
      "torch.Size([1, 8, 20, 1])\n",
      "torch.Size([1, 40, 4, 1])\n",
      "torch.Size([1, 8, 20, 1])\n",
      "torch.Size([1, 40, 4, 1])\n",
      "torch.Size([1, 8, 20, 1])\n"
     ]
    },
    {
     "name": "stderr",
     "output_type": "stream",
     "text": [
      " 12%|█▏        | 117/1000 [00:16<02:13,  6.61it/s]"
     ]
    },
    {
     "name": "stdout",
     "output_type": "stream",
     "text": [
      "torch.Size([1, 40, 4, 1])\n",
      "torch.Size([1, 8, 20, 1])\n",
      "torch.Size([1, 40, 4, 1])\n",
      "torch.Size([1, 8, 20, 1])\n",
      "torch.Size([1, 40, 4, 1])\n",
      "torch.Size([1, 8, 20, 1])\n",
      "torch.Size([1, 40, 4, 1])\n",
      "torch.Size([1, 8, 20, 1])\n",
      "torch.Size([1, 40, 4, 1])\n",
      "torch.Size([1, 8, 20, 1])\n",
      "torch.Size([1, 40, 4, 1])\n",
      "torch.Size([1, 8, 20, 1])\n",
      "torch.Size([1, 40, 4, 1])\n",
      "torch.Size([1, 8, 20, 1])\n",
      "torch.Size([1, 40, 4, 1])\n",
      "torch.Size([1, 8, 20, 1])\n"
     ]
    },
    {
     "name": "stderr",
     "output_type": "stream",
     "text": [
      " 12%|█▏        | 119/1000 [00:16<02:19,  6.30it/s]"
     ]
    },
    {
     "name": "stdout",
     "output_type": "stream",
     "text": [
      "torch.Size([1, 40, 4, 1])\n",
      "torch.Size([1, 8, 20, 1])\n",
      "torch.Size([1, 40, 4, 1])\n",
      "torch.Size([1, 8, 20, 1])\n",
      "torch.Size([1, 40, 4, 1])\n",
      "torch.Size([1, 8, 20, 1])\n",
      "torch.Size([1, 40, 4, 1])\n",
      "torch.Size([1, 8, 20, 1])\n",
      "torch.Size([1, 40, 4, 1])\n",
      "torch.Size([1, 8, 20, 1])\n",
      "torch.Size([1, 40, 4, 1])\n",
      "torch.Size([1, 8, 20, 1])\n",
      "torch.Size([1, 40, 4, 1])\n",
      "torch.Size([1, 8, 20, 1])\n",
      "torch.Size([1, 40, 4, 1])\n",
      "torch.Size([1, 8, 20, 1])\n"
     ]
    },
    {
     "name": "stderr",
     "output_type": "stream",
     "text": [
      " 12%|█▏        | 122/1000 [00:16<02:04,  7.07it/s]"
     ]
    },
    {
     "name": "stdout",
     "output_type": "stream",
     "text": [
      "torch.Size([1, 40, 4, 1])\n",
      "torch.Size([1, 8, 20, 1])\n",
      "torch.Size([1, 40, 4, 1])\n",
      "torch.Size([1, 8, 20, 1])\n",
      "torch.Size([1, 40, 4, 1])\n",
      "torch.Size([1, 8, 20, 1])\n",
      "torch.Size([1, 40, 4, 1])\n",
      "torch.Size([1, 8, 20, 1])\n",
      "torch.Size([1, 40, 4, 1])\n",
      "torch.Size([1, 8, 20, 1])\n",
      "torch.Size([1, 40, 4, 1])\n",
      "torch.Size([1, 8, 20, 1])\n",
      "torch.Size([1, 40, 4, 1])\n",
      "torch.Size([1, 8, 20, 1])\n",
      "torch.Size([1, 40, 4, 1])\n",
      "torch.Size([1, 8, 20, 1])\n"
     ]
    },
    {
     "name": "stderr",
     "output_type": "stream",
     "text": [
      "\r",
      " 12%|█▏        | 123/1000 [00:16<01:53,  7.75it/s]"
     ]
    },
    {
     "name": "stdout",
     "output_type": "stream",
     "text": [
      "torch.Size([1, 40, 4, 1])\n",
      "torch.Size([1, 8, 20, 1])\n",
      "torch.Size([1, 40, 4, 1])\n",
      "torch.Size([1, 8, 20, 1])\n",
      "torch.Size([1, 40, 4, 1])\n",
      "torch.Size([1, 8, 20, 1])\n",
      "torch.Size([1, 40, 4, 1])\n",
      "torch.Size([1, 8, 20, 1])\n",
      "torch.Size([1, 40, 4, 1])\n",
      "torch.Size([1, 8, 20, 1])\n",
      "torch.Size([1, 40, 4, 1])\n",
      "torch.Size([1, 8, 20, 1])\n",
      "torch.Size([1, 40, 4, 1])\n",
      "torch.Size([1, 8, 20, 1])\n",
      "torch.Size([1, 40, 4, 1])\n",
      "torch.Size([1, 8, 20, 1])\n",
      "torch.Size([1, 40, 4, 1])\n",
      "torch.Size([1, 8, 20, 1])\n",
      "torch.Size([1, 40, 4, 1])\n",
      "torch.Size([1, 8, 20, 1])\n",
      "torch.Size([1, 40, 4, 1])\n",
      "torch.Size([1, 8, 20, 1])\n",
      "torch.Size([1, 40, 4, 1])\n",
      "torch.Size([1, 8, 20, 1])\n"
     ]
    },
    {
     "name": "stderr",
     "output_type": "stream",
     "text": [
      " 13%|█▎        | 126/1000 [00:17<02:00,  7.26it/s]"
     ]
    },
    {
     "name": "stdout",
     "output_type": "stream",
     "text": [
      "torch.Size([1, 40, 4, 1])\n",
      "torch.Size([1, 8, 20, 1])\n",
      "torch.Size([1, 40, 4, 1])\n",
      "torch.Size([1, 8, 20, 1])\n",
      "torch.Size([1, 40, 4, 1])\n",
      "torch.Size([1, 8, 20, 1])\n",
      "torch.Size([1, 40, 4, 1])\n",
      "torch.Size([1, 8, 20, 1])\n",
      "torch.Size([1, 40, 4, 1])\n",
      "torch.Size([1, 8, 20, 1])\n",
      "torch.Size([1, 40, 4, 1])\n",
      "torch.Size([1, 8, 20, 1])\n",
      "torch.Size([1, 40, 4, 1])\n",
      "torch.Size([1, 8, 20, 1])\n",
      "torch.Size([1, 40, 4, 1])\n",
      "torch.Size([1, 8, 20, 1])\n"
     ]
    },
    {
     "name": "stderr",
     "output_type": "stream",
     "text": [
      " 13%|█▎        | 128/1000 [00:17<01:59,  7.28it/s]"
     ]
    },
    {
     "name": "stdout",
     "output_type": "stream",
     "text": [
      "torch.Size([1, 40, 4, 1])\n",
      "torch.Size([1, 8, 20, 1])\n",
      "torch.Size([1, 40, 4, 1])\n",
      "torch.Size([1, 8, 20, 1])\n",
      "torch.Size([1, 40, 4, 1])\n",
      "torch.Size([1, 8, 20, 1])\n",
      "torch.Size([1, 40, 4, 1])\n",
      "torch.Size([1, 8, 20, 1])\n",
      "torch.Size([1, 40, 4, 1])\n",
      "torch.Size([1, 8, 20, 1])\n",
      "torch.Size([1, 40, 4, 1])\n",
      "torch.Size([1, 8, 20, 1])\n",
      "torch.Size([1, 40, 4, 1])\n",
      "torch.Size([1, 8, 20, 1])\n",
      "torch.Size([1, 40, 4, 1])\n",
      "torch.Size([1, 8, 20, 1])\n"
     ]
    },
    {
     "name": "stderr",
     "output_type": "stream",
     "text": [
      " 13%|█▎        | 131/1000 [00:17<01:50,  7.88it/s]"
     ]
    },
    {
     "name": "stdout",
     "output_type": "stream",
     "text": [
      "torch.Size([1, 40, 4, 1])\n",
      "torch.Size([1, 8, 20, 1])\n",
      "torch.Size([1, 40, 4, 1])\n",
      "torch.Size([1, 8, 20, 1])\n",
      "torch.Size([1, 40, 4, 1])\n",
      "torch.Size([1, 8, 20, 1])\n",
      "torch.Size([1, 40, 4, 1])\n",
      "torch.Size([1, 8, 20, 1])\n",
      "torch.Size([1, 40, 4, 1])\n",
      "torch.Size([1, 8, 20, 1])\n",
      "torch.Size([1, 40, 4, 1])\n",
      "torch.Size([1, 8, 20, 1])\n",
      "torch.Size([1, 40, 4, 1])\n",
      "torch.Size([1, 8, 20, 1])\n",
      "torch.Size([1, 40, 4, 1])\n",
      "torch.Size([1, 8, 20, 1])\n",
      "torch.Size([1, 40, 4, 1])\n",
      "torch.Size([1, 8, 20, 1])\n",
      "torch.Size([1, 40, 4, 1])\n",
      "torch.Size([1, 8, 20, 1])\n",
      "torch.Size([1, 40, 4, 1])\n",
      "torch.Size([1, 8, 20, 1])\n",
      "torch.Size([1, 40, 4, 1])\n",
      "torch.Size([1, 8, 20, 1])\n"
     ]
    },
    {
     "name": "stderr",
     "output_type": "stream",
     "text": [
      " 13%|█▎        | 134/1000 [00:18<01:43,  8.37it/s]"
     ]
    },
    {
     "name": "stdout",
     "output_type": "stream",
     "text": [
      "torch.Size([1, 40, 4, 1])\n",
      "torch.Size([1, 8, 20, 1])\n",
      "torch.Size([1, 40, 4, 1])\n",
      "torch.Size([1, 8, 20, 1])\n",
      "torch.Size([1, 40, 4, 1])\n",
      "torch.Size([1, 8, 20, 1])\n",
      "torch.Size([1, 40, 4, 1])\n",
      "torch.Size([1, 8, 20, 1])\n",
      "torch.Size([1, 40, 4, 1])\n",
      "torch.Size([1, 8, 20, 1])\n",
      "torch.Size([1, 40, 4, 1])\n",
      "torch.Size([1, 8, 20, 1])\n",
      "torch.Size([1, 40, 4, 1])\n",
      "torch.Size([1, 8, 20, 1])\n",
      "torch.Size([1, 40, 4, 1])\n",
      "torch.Size([1, 8, 20, 1])\n",
      "torch.Size([1, 40, 4, 1])\n",
      "torch.Size([1, 8, 20, 1])\n",
      "torch.Size([1, 40, 4, 1])\n",
      "torch.Size([1, 8, 20, 1])\n",
      "torch.Size([1, 40, 4, 1])\n",
      "torch.Size([1, 8, 20, 1])\n",
      "torch.Size([1, 40, 4, 1])\n",
      "torch.Size([1, 8, 20, 1])\n"
     ]
    },
    {
     "name": "stderr",
     "output_type": "stream",
     "text": [
      " 14%|█▎        | 136/1000 [00:18<02:03,  6.99it/s]"
     ]
    },
    {
     "name": "stdout",
     "output_type": "stream",
     "text": [
      "torch.Size([1, 40, 4, 1])\n",
      "torch.Size([1, 8, 20, 1])\n",
      "torch.Size([1, 40, 4, 1])\n",
      "torch.Size([1, 8, 20, 1])\n",
      "torch.Size([1, 40, 4, 1])\n",
      "torch.Size([1, 8, 20, 1])\n",
      "torch.Size([1, 40, 4, 1])\n",
      "torch.Size([1, 8, 20, 1])\n",
      "torch.Size([1, 40, 4, 1])\n",
      "torch.Size([1, 8, 20, 1])\n",
      "torch.Size([1, 40, 4, 1])\n",
      "torch.Size([1, 8, 20, 1])\n"
     ]
    },
    {
     "name": "stderr",
     "output_type": "stream",
     "text": [
      "\r",
      " 14%|█▎        | 137/1000 [00:18<01:52,  7.67it/s]"
     ]
    },
    {
     "name": "stdout",
     "output_type": "stream",
     "text": [
      "torch.Size([1, 40, 4, 1])\n",
      "torch.Size([1, 8, 20, 1])\n",
      "torch.Size([1, 40, 4, 1])\n",
      "torch.Size([1, 8, 20, 1])\n",
      "torch.Size([1, 40, 4, 1])\n",
      "torch.Size([1, 8, 20, 1])\n",
      "torch.Size([1, 40, 4, 1])\n",
      "torch.Size([1, 8, 20, 1])\n",
      "torch.Size([1, 40, 4, 1])\n",
      "torch.Size([1, 8, 20, 1])\n",
      "torch.Size([1, 40, 4, 1])\n",
      "torch.Size([1, 8, 20, 1])\n"
     ]
    },
    {
     "name": "stderr",
     "output_type": "stream",
     "text": [
      " 14%|█▍        | 139/1000 [00:18<02:08,  6.69it/s]"
     ]
    },
    {
     "name": "stdout",
     "output_type": "stream",
     "text": [
      "torch.Size([1, 40, 4, 1])\n",
      "torch.Size([1, 8, 20, 1])\n",
      "torch.Size([1, 40, 4, 1])\n",
      "torch.Size([1, 8, 20, 1])\n",
      "torch.Size([1, 40, 4, 1])\n",
      "torch.Size([1, 8, 20, 1])\n",
      "torch.Size([1, 40, 4, 1])\n",
      "torch.Size([1, 8, 20, 1])\n",
      "torch.Size([1, 40, 4, 1])\n",
      "torch.Size([1, 8, 20, 1])\n",
      "torch.Size([1, 40, 4, 1])\n",
      "torch.Size([1, 8, 20, 1])\n",
      "torch.Size([1, 40, 4, 1])\n",
      "torch.Size([1, 8, 20, 1])\n",
      "torch.Size([1, 40, 4, 1])\n",
      "torch.Size([1, 8, 20, 1])\n"
     ]
    },
    {
     "name": "stderr",
     "output_type": "stream",
     "text": [
      "\r",
      " 14%|█▍        | 140/1000 [00:19<02:12,  6.48it/s]"
     ]
    },
    {
     "name": "stdout",
     "output_type": "stream",
     "text": [
      "torch.Size([1, 40, 4, 1])\n",
      "torch.Size([1, 8, 20, 1])\n",
      "torch.Size([1, 40, 4, 1])\n",
      "torch.Size([1, 8, 20, 1])\n",
      "torch.Size([1, 40, 4, 1])\n",
      "torch.Size([1, 8, 20, 1])\n",
      "torch.Size([1, 40, 4, 1])\n",
      "torch.Size([1, 8, 20, 1])\n",
      "torch.Size([1, 40, 4, 1])\n",
      "torch.Size([1, 8, 20, 1])\n",
      "torch.Size([1, 40, 4, 1])\n",
      "torch.Size([1, 8, 20, 1])\n",
      "torch.Size([1, 40, 4, 1])\n",
      "torch.Size([1, 8, 20, 1])\n",
      "torch.Size([1, 40, 4, 1])\n",
      "torch.Size([1, 8, 20, 1])\n"
     ]
    },
    {
     "name": "stderr",
     "output_type": "stream",
     "text": [
      " 14%|█▍        | 143/1000 [00:19<02:07,  6.74it/s]"
     ]
    },
    {
     "name": "stdout",
     "output_type": "stream",
     "text": [
      "torch.Size([1, 40, 4, 1])\n",
      "torch.Size([1, 8, 20, 1])\n",
      "torch.Size([1, 40, 4, 1])\n",
      "torch.Size([1, 8, 20, 1])\n",
      "torch.Size([1, 40, 4, 1])\n",
      "torch.Size([1, 8, 20, 1])\n",
      "torch.Size([1, 40, 4, 1])\n",
      "torch.Size([1, 8, 20, 1])\n",
      "torch.Size([1, 40, 4, 1])\n",
      "torch.Size([1, 8, 20, 1])\n",
      "torch.Size([1, 40, 4, 1])\n",
      "torch.Size([1, 8, 20, 1])\n",
      "torch.Size([1, 40, 4, 1])\n",
      "torch.Size([1, 8, 20, 1])\n",
      "torch.Size([1, 40, 4, 1])\n",
      "torch.Size([1, 8, 20, 1])\n"
     ]
    },
    {
     "name": "stderr",
     "output_type": "stream",
     "text": [
      " 14%|█▍        | 145/1000 [00:19<01:58,  7.19it/s]"
     ]
    },
    {
     "name": "stdout",
     "output_type": "stream",
     "text": [
      "torch.Size([1, 40, 4, 1])\n",
      "torch.Size([1, 8, 20, 1])\n",
      "torch.Size([1, 40, 4, 1])\n",
      "torch.Size([1, 8, 20, 1])\n",
      "torch.Size([1, 40, 4, 1])\n",
      "torch.Size([1, 8, 20, 1])\n",
      "torch.Size([1, 40, 4, 1])\n",
      "torch.Size([1, 8, 20, 1])\n",
      "torch.Size([1, 40, 4, 1])\n",
      "torch.Size([1, 8, 20, 1])\n",
      "torch.Size([1, 40, 4, 1])\n",
      "torch.Size([1, 8, 20, 1])\n",
      "torch.Size([1, 40, 4, 1])\n",
      "torch.Size([1, 8, 20, 1])\n",
      "torch.Size([1, 40, 4, 1])\n",
      "torch.Size([1, 8, 20, 1])\n"
     ]
    },
    {
     "name": "stderr",
     "output_type": "stream",
     "text": [
      " 15%|█▍        | 147/1000 [00:20<01:59,  7.11it/s]"
     ]
    },
    {
     "name": "stdout",
     "output_type": "stream",
     "text": [
      "torch.Size([1, 40, 4, 1])\n",
      "torch.Size([1, 8, 20, 1])\n",
      "torch.Size([1, 40, 4, 1])\n",
      "torch.Size([1, 8, 20, 1])\n",
      "torch.Size([1, 40, 4, 1])\n",
      "torch.Size([1, 8, 20, 1])\n",
      "torch.Size([1, 40, 4, 1])\n",
      "torch.Size([1, 8, 20, 1])\n",
      "torch.Size([1, 40, 4, 1])\n",
      "torch.Size([1, 8, 20, 1])\n",
      "torch.Size([1, 40, 4, 1])\n",
      "torch.Size([1, 8, 20, 1])\n",
      "torch.Size([1, 40, 4, 1])\n",
      "torch.Size([1, 8, 20, 1])\n",
      "torch.Size([1, 40, 4, 1])\n",
      "torch.Size([1, 8, 20, 1])\n"
     ]
    },
    {
     "name": "stderr",
     "output_type": "stream",
     "text": [
      " 15%|█▌        | 150/1000 [00:20<01:52,  7.57it/s]"
     ]
    },
    {
     "name": "stdout",
     "output_type": "stream",
     "text": [
      "torch.Size([1, 40, 4, 1])\n",
      "torch.Size([1, 8, 20, 1])\n",
      "torch.Size([1, 40, 4, 1])\n",
      "torch.Size([1, 8, 20, 1])\n",
      "torch.Size([1, 40, 4, 1])\n",
      "torch.Size([1, 8, 20, 1])\n",
      "torch.Size([1, 40, 4, 1])\n",
      "torch.Size([1, 8, 20, 1])\n",
      "torch.Size([1, 40, 4, 1])\n",
      "torch.Size([1, 8, 20, 1])\n",
      "torch.Size([1, 40, 4, 1])\n",
      "torch.Size([1, 8, 20, 1])\n",
      "torch.Size([1, 40, 4, 1])\n",
      "torch.Size([1, 8, 20, 1])\n",
      "torch.Size([1, 40, 4, 1])\n",
      "torch.Size([1, 8, 20, 1])\n",
      "torch.Size([1, 40, 4, 1])\n",
      "torch.Size([1, 8, 20, 1])\n",
      "torch.Size([1, 40, 4, 1])\n",
      "torch.Size([1, 8, 20, 1])\n"
     ]
    },
    {
     "name": "stderr",
     "output_type": "stream",
     "text": [
      "\r",
      " 15%|█▌        | 151/1000 [00:20<01:59,  7.08it/s]"
     ]
    },
    {
     "name": "stdout",
     "output_type": "stream",
     "text": [
      "torch.Size([1, 40, 4, 1])\n",
      "torch.Size([1, 8, 20, 1])\n",
      "torch.Size([1, 40, 4, 1])\n",
      "torch.Size([1, 8, 20, 1])\n",
      "torch.Size([1, 40, 4, 1])\n",
      "torch.Size([1, 8, 20, 1])\n",
      "torch.Size([1, 40, 4, 1])\n",
      "torch.Size([1, 8, 20, 1])\n",
      "torch.Size([1, 40, 4, 1])\n",
      "torch.Size([1, 8, 20, 1])\n",
      "torch.Size([1, 40, 4, 1])\n",
      "torch.Size([1, 8, 20, 1])\n"
     ]
    },
    {
     "name": "stderr",
     "output_type": "stream",
     "text": [
      "\r",
      " 15%|█▌        | 153/1000 [00:20<01:47,  7.89it/s]"
     ]
    },
    {
     "name": "stdout",
     "output_type": "stream",
     "text": [
      "torch.Size([1, 40, 4, 1])\n",
      "torch.Size([1, 8, 20, 1])\n",
      "torch.Size([1, 40, 4, 1])\n",
      "torch.Size([1, 8, 20, 1])\n",
      "torch.Size([1, 40, 4, 1])\n",
      "torch.Size([1, 8, 20, 1])\n",
      "torch.Size([1, 40, 4, 1])\n",
      "torch.Size([1, 8, 20, 1])\n",
      "torch.Size([1, 40, 4, 1])\n",
      "torch.Size([1, 8, 20, 1])\n",
      "torch.Size([1, 40, 4, 1])\n",
      "torch.Size([1, 8, 20, 1])\n",
      "torch.Size([1, 40, 4, 1])\n",
      "torch.Size([1, 8, 20, 1])\n",
      "torch.Size([1, 40, 4, 1])\n",
      "torch.Size([1, 8, 20, 1])\n"
     ]
    },
    {
     "name": "stderr",
     "output_type": "stream",
     "text": [
      " 16%|█▌        | 155/1000 [00:21<01:55,  7.33it/s]"
     ]
    },
    {
     "name": "stdout",
     "output_type": "stream",
     "text": [
      "torch.Size([1, 40, 4, 1])\n",
      "torch.Size([1, 8, 20, 1])\n",
      "torch.Size([1, 40, 4, 1])\n",
      "torch.Size([1, 8, 20, 1])\n",
      "torch.Size([1, 40, 4, 1])\n",
      "torch.Size([1, 8, 20, 1])\n",
      "torch.Size([1, 40, 4, 1])\n",
      "torch.Size([1, 8, 20, 1])\n",
      "torch.Size([1, 40, 4, 1])\n",
      "torch.Size([1, 8, 20, 1])\n",
      "torch.Size([1, 40, 4, 1])\n",
      "torch.Size([1, 8, 20, 1])\n",
      "torch.Size([1, 40, 4, 1])\n",
      "torch.Size([1, 8, 20, 1])\n",
      "torch.Size([1, 40, 4, 1])\n",
      "torch.Size([1, 8, 20, 1])\n"
     ]
    },
    {
     "name": "stderr",
     "output_type": "stream",
     "text": [
      "\r",
      " 16%|█▌        | 157/1000 [00:21<01:50,  7.66it/s]"
     ]
    },
    {
     "name": "stdout",
     "output_type": "stream",
     "text": [
      "torch.Size([1, 40, 4, 1])\n",
      "torch.Size([1, 8, 20, 1])\n",
      "torch.Size([1, 40, 4, 1])\n",
      "torch.Size([1, 8, 20, 1])\n",
      "torch.Size([1, 40, 4, 1])\n",
      "torch.Size([1, 8, 20, 1])\n",
      "torch.Size([1, 40, 4, 1])\n",
      "torch.Size([1, 8, 20, 1])\n",
      "torch.Size([1, 40, 4, 1])\n",
      "torch.Size([1, 8, 20, 1])\n",
      "torch.Size([1, 40, 4, 1])\n",
      "torch.Size([1, 8, 20, 1])\n",
      "torch.Size([1, 40, 4, 1])\n",
      "torch.Size([1, 8, 20, 1])\n",
      "torch.Size([1, 40, 4, 1])\n",
      "torch.Size([1, 8, 20, 1])\n"
     ]
    },
    {
     "name": "stderr",
     "output_type": "stream",
     "text": [
      " 16%|█▌        | 159/1000 [00:21<02:04,  6.77it/s]"
     ]
    },
    {
     "name": "stdout",
     "output_type": "stream",
     "text": [
      "torch.Size([1, 40, 4, 1])\n",
      "torch.Size([1, 8, 20, 1])\n",
      "torch.Size([1, 40, 4, 1])\n",
      "torch.Size([1, 8, 20, 1])\n",
      "torch.Size([1, 40, 4, 1])\n",
      "torch.Size([1, 8, 20, 1])\n",
      "torch.Size([1, 40, 4, 1])\n",
      "torch.Size([1, 8, 20, 1])\n",
      "torch.Size([1, 40, 4, 1])\n",
      "torch.Size([1, 8, 20, 1])\n",
      "torch.Size([1, 40, 4, 1])\n",
      "torch.Size([1, 8, 20, 1])\n",
      "torch.Size([1, 40, 4, 1])\n",
      "torch.Size([1, 8, 20, 1])\n",
      "torch.Size([1, 40, 4, 1])\n",
      "torch.Size([1, 8, 20, 1])\n"
     ]
    },
    {
     "name": "stderr",
     "output_type": "stream",
     "text": [
      "\r",
      " 16%|█▌        | 160/1000 [00:21<02:09,  6.49it/s]"
     ]
    },
    {
     "name": "stdout",
     "output_type": "stream",
     "text": [
      "torch.Size([1, 40, 4, 1])\n",
      "torch.Size([1, 8, 20, 1])\n",
      "torch.Size([1, 40, 4, 1])\n",
      "torch.Size([1, 8, 20, 1])\n",
      "torch.Size([1, 40, 4, 1])\n",
      "torch.Size([1, 8, 20, 1])\n",
      "torch.Size([1, 40, 4, 1])\n",
      "torch.Size([1, 8, 20, 1])\n",
      "torch.Size([1, 40, 4, 1])\n",
      "torch.Size([1, 8, 20, 1])\n",
      "torch.Size([1, 40, 4, 1])\n",
      "torch.Size([1, 8, 20, 1])\n",
      "torch.Size([1, 40, 4, 1])\n",
      "torch.Size([1, 8, 20, 1])\n",
      "torch.Size([1, 40, 4, 1])\n",
      "torch.Size([1, 8, 20, 1])\n"
     ]
    },
    {
     "name": "stderr",
     "output_type": "stream",
     "text": [
      " 16%|█▋        | 164/1000 [00:22<01:46,  7.86it/s]"
     ]
    },
    {
     "name": "stdout",
     "output_type": "stream",
     "text": [
      "torch.Size([1, 40, 4, 1])\n",
      "torch.Size([1, 8, 20, 1])\n",
      "torch.Size([1, 40, 4, 1])\n",
      "torch.Size([1, 8, 20, 1])\n",
      "torch.Size([1, 40, 4, 1])\n",
      "torch.Size([1, 8, 20, 1])\n",
      "torch.Size([1, 40, 4, 1])\n",
      "torch.Size([1, 8, 20, 1])\n",
      "torch.Size([1, 40, 4, 1])\n",
      "torch.Size([1, 8, 20, 1])\n",
      "torch.Size([1, 40, 4, 1])\n",
      "torch.Size([1, 8, 20, 1])\n",
      "torch.Size([1, 40, 4, 1])\n",
      "torch.Size([1, 8, 20, 1])\n",
      "torch.Size([1, 40, 4, 1])\n",
      "torch.Size([1, 8, 20, 1])\n",
      "torch.Size([1, 40, 4, 1])\n",
      "torch.Size([1, 8, 20, 1])\n",
      "torch.Size([1, 40, 4, 1])\n",
      "torch.Size([1, 8, 20, 1])\n",
      "torch.Size([1, 40, 4, 1])\n",
      "torch.Size([1, 8, 20, 1])\n",
      "torch.Size([1, 40, 4, 1])\n",
      "torch.Size([1, 8, 20, 1])\n"
     ]
    },
    {
     "name": "stderr",
     "output_type": "stream",
     "text": [
      "\r",
      " 16%|█▋        | 165/1000 [00:22<01:55,  7.22it/s]"
     ]
    },
    {
     "name": "stdout",
     "output_type": "stream",
     "text": [
      "torch.Size([1, 40, 4, 1])\n",
      "torch.Size([1, 8, 20, 1])\n",
      "torch.Size([1, 40, 4, 1])\n",
      "torch.Size([1, 8, 20, 1])\n",
      "torch.Size([1, 40, 4, 1])\n",
      "torch.Size([1, 8, 20, 1])\n",
      "torch.Size([1, 40, 4, 1])\n",
      "torch.Size([1, 8, 20, 1])\n",
      "torch.Size([1, 40, 4, 1])\n",
      "torch.Size([1, 8, 20, 1])\n",
      "torch.Size([1, 40, 4, 1])\n",
      "torch.Size([1, 8, 20, 1])\n",
      "torch.Size([1, 40, 4, 1])\n",
      "torch.Size([1, 8, 20, 1])\n",
      "torch.Size([1, 40, 4, 1])\n",
      "torch.Size([1, 8, 20, 1])\n"
     ]
    },
    {
     "name": "stderr",
     "output_type": "stream",
     "text": [
      "\r",
      " 17%|█▋        | 167/1000 [00:22<01:50,  7.52it/s]"
     ]
    },
    {
     "name": "stdout",
     "output_type": "stream",
     "text": [
      "torch.Size([1, 40, 4, 1])\n",
      "torch.Size([1, 8, 20, 1])\n",
      "torch.Size([1, 40, 4, 1])\n",
      "torch.Size([1, 8, 20, 1])\n",
      "torch.Size([1, 40, 4, 1])\n",
      "torch.Size([1, 8, 20, 1])\n",
      "torch.Size([1, 40, 4, 1])\n",
      "torch.Size([1, 8, 20, 1])\n",
      "torch.Size([1, 40, 4, 1])\n",
      "torch.Size([1, 8, 20, 1])\n",
      "torch.Size([1, 40, 4, 1])\n",
      "torch.Size([1, 8, 20, 1])\n",
      "torch.Size([1, 40, 4, 1])\n",
      "torch.Size([1, 8, 20, 1])\n",
      "torch.Size([1, 40, 4, 1])\n",
      "torch.Size([1, 8, 20, 1])\n"
     ]
    },
    {
     "name": "stderr",
     "output_type": "stream",
     "text": [
      " 17%|█▋        | 170/1000 [00:22<01:48,  7.66it/s]"
     ]
    },
    {
     "name": "stdout",
     "output_type": "stream",
     "text": [
      "torch.Size([1, 40, 4, 1])\n",
      "torch.Size([1, 8, 20, 1])\n",
      "torch.Size([1, 40, 4, 1])\n",
      "torch.Size([1, 8, 20, 1])\n",
      "torch.Size([1, 40, 4, 1])\n",
      "torch.Size([1, 8, 20, 1])\n",
      "torch.Size([1, 40, 4, 1])\n",
      "torch.Size([1, 8, 20, 1])\n",
      "torch.Size([1, 40, 4, 1])\n",
      "torch.Size([1, 8, 20, 1])\n",
      "torch.Size([1, 40, 4, 1])\n",
      "torch.Size([1, 8, 20, 1])\n",
      "torch.Size([1, 40, 4, 1])\n",
      "torch.Size([1, 8, 20, 1])\n",
      "torch.Size([1, 40, 4, 1])\n",
      "torch.Size([1, 8, 20, 1])\n"
     ]
    },
    {
     "name": "stderr",
     "output_type": "stream",
     "text": [
      " 17%|█▋        | 172/1000 [00:23<01:57,  7.07it/s]"
     ]
    },
    {
     "name": "stdout",
     "output_type": "stream",
     "text": [
      "torch.Size([1, 40, 4, 1])\n",
      "torch.Size([1, 8, 20, 1])\n",
      "torch.Size([1, 40, 4, 1])\n",
      "torch.Size([1, 8, 20, 1])\n",
      "torch.Size([1, 40, 4, 1])\n",
      "torch.Size([1, 8, 20, 1])\n",
      "torch.Size([1, 40, 4, 1])\n",
      "torch.Size([1, 8, 20, 1])\n",
      "torch.Size([1, 40, 4, 1])\n",
      "torch.Size([1, 8, 20, 1])\n",
      "torch.Size([1, 40, 4, 1])\n",
      "torch.Size([1, 8, 20, 1])\n",
      "torch.Size([1, 40, 4, 1])\n",
      "torch.Size([1, 8, 20, 1])\n",
      "torch.Size([1, 40, 4, 1])\n",
      "torch.Size([1, 8, 20, 1])\n"
     ]
    },
    {
     "name": "stderr",
     "output_type": "stream",
     "text": [
      " 17%|█▋        | 174/1000 [00:23<02:06,  6.55it/s]"
     ]
    },
    {
     "name": "stdout",
     "output_type": "stream",
     "text": [
      "torch.Size([1, 40, 4, 1])\n",
      "torch.Size([1, 8, 20, 1])\n",
      "torch.Size([1, 40, 4, 1])\n",
      "torch.Size([1, 8, 20, 1])\n",
      "torch.Size([1, 40, 4, 1])\n",
      "torch.Size([1, 8, 20, 1])\n",
      "torch.Size([1, 40, 4, 1])\n",
      "torch.Size([1, 8, 20, 1])\n",
      "torch.Size([1, 40, 4, 1])\n",
      "torch.Size([1, 8, 20, 1])\n",
      "torch.Size([1, 40, 4, 1])\n",
      "torch.Size([1, 8, 20, 1])\n",
      "torch.Size([1, 40, 4, 1])\n",
      "torch.Size([1, 8, 20, 1])\n",
      "torch.Size([1, 40, 4, 1])\n",
      "torch.Size([1, 8, 20, 1])\n"
     ]
    },
    {
     "name": "stderr",
     "output_type": "stream",
     "text": [
      " 18%|█▊        | 176/1000 [00:23<02:10,  6.31it/s]"
     ]
    },
    {
     "name": "stdout",
     "output_type": "stream",
     "text": [
      "torch.Size([1, 40, 4, 1])\n",
      "torch.Size([1, 8, 20, 1])\n",
      "torch.Size([1, 40, 4, 1])\n",
      "torch.Size([1, 8, 20, 1])\n",
      "torch.Size([1, 40, 4, 1])\n",
      "torch.Size([1, 8, 20, 1])\n",
      "torch.Size([1, 40, 4, 1])\n",
      "torch.Size([1, 8, 20, 1])\n",
      "torch.Size([1, 40, 4, 1])\n",
      "torch.Size([1, 8, 20, 1])\n",
      "torch.Size([1, 40, 4, 1])\n",
      "torch.Size([1, 8, 20, 1])\n",
      "torch.Size([1, 40, 4, 1])\n",
      "torch.Size([1, 8, 20, 1])\n",
      "torch.Size([1, 40, 4, 1])\n",
      "torch.Size([1, 8, 20, 1])\n"
     ]
    },
    {
     "name": "stderr",
     "output_type": "stream",
     "text": [
      " 18%|█▊        | 178/1000 [00:24<01:59,  6.87it/s]"
     ]
    },
    {
     "name": "stdout",
     "output_type": "stream",
     "text": [
      "torch.Size([1, 40, 4, 1])\n",
      "torch.Size([1, 8, 20, 1])\n",
      "torch.Size([1, 40, 4, 1])\n",
      "torch.Size([1, 8, 20, 1])\n",
      "torch.Size([1, 40, 4, 1])\n",
      "torch.Size([1, 8, 20, 1])\n",
      "torch.Size([1, 40, 4, 1])\n",
      "torch.Size([1, 8, 20, 1])\n",
      "torch.Size([1, 40, 4, 1])\n",
      "torch.Size([1, 8, 20, 1])\n",
      "torch.Size([1, 40, 4, 1])\n",
      "torch.Size([1, 8, 20, 1])\n",
      "torch.Size([1, 40, 4, 1])\n",
      "torch.Size([1, 8, 20, 1])\n",
      "torch.Size([1, 40, 4, 1])\n",
      "torch.Size([1, 8, 20, 1])\n"
     ]
    },
    {
     "name": "stderr",
     "output_type": "stream",
     "text": [
      " 18%|█▊        | 180/1000 [00:24<02:07,  6.44it/s]"
     ]
    },
    {
     "name": "stdout",
     "output_type": "stream",
     "text": [
      "torch.Size([1, 40, 4, 1])\n",
      "torch.Size([1, 8, 20, 1])\n",
      "torch.Size([1, 40, 4, 1])\n",
      "torch.Size([1, 8, 20, 1])\n",
      "torch.Size([1, 40, 4, 1])\n",
      "torch.Size([1, 8, 20, 1])\n",
      "torch.Size([1, 40, 4, 1])\n",
      "torch.Size([1, 8, 20, 1])\n",
      "torch.Size([1, 40, 4, 1])\n",
      "torch.Size([1, 8, 20, 1])\n",
      "torch.Size([1, 40, 4, 1])\n",
      "torch.Size([1, 8, 20, 1])\n",
      "torch.Size([1, 40, 4, 1])\n",
      "torch.Size([1, 8, 20, 1])\n",
      "torch.Size([1, 40, 4, 1])\n",
      "torch.Size([1, 8, 20, 1])\n"
     ]
    },
    {
     "name": "stderr",
     "output_type": "stream",
     "text": [
      " 18%|█▊        | 183/1000 [00:24<01:50,  7.42it/s]"
     ]
    },
    {
     "name": "stdout",
     "output_type": "stream",
     "text": [
      "torch.Size([1, 40, 4, 1])\n",
      "torch.Size([1, 8, 20, 1])\n",
      "torch.Size([1, 40, 4, 1])\n",
      "torch.Size([1, 8, 20, 1])\n",
      "torch.Size([1, 40, 4, 1])\n",
      "torch.Size([1, 8, 20, 1])\n",
      "torch.Size([1, 40, 4, 1])\n",
      "torch.Size([1, 8, 20, 1])\n",
      "torch.Size([1, 40, 4, 1])\n",
      "torch.Size([1, 8, 20, 1])\n",
      "torch.Size([1, 40, 4, 1])\n",
      "torch.Size([1, 8, 20, 1])\n",
      "torch.Size([1, 40, 4, 1])\n",
      "torch.Size([1, 8, 20, 1])\n",
      "torch.Size([1, 40, 4, 1])\n",
      "torch.Size([1, 8, 20, 1])\n",
      "torch.Size([1, 40, 4, 1])\n",
      "torch.Size([1, 8, 20, 1])\n",
      "torch.Size([1, 40, 4, 1])\n",
      "torch.Size([1, 8, 20, 1])\n",
      "torch.Size([1, 40, 4, 1])\n",
      "torch.Size([1, 8, 20, 1])\n",
      "torch.Size([1, 40, 4, 1])\n",
      "torch.Size([1, 8, 20, 1])\n"
     ]
    },
    {
     "name": "stderr",
     "output_type": "stream",
     "text": [
      "\r",
      " 18%|█▊        | 184/1000 [00:24<01:44,  7.82it/s]"
     ]
    },
    {
     "name": "stdout",
     "output_type": "stream",
     "text": [
      "torch.Size([1, 40, 4, 1])\n",
      "torch.Size([1, 8, 20, 1])\n",
      "torch.Size([1, 40, 4, 1])\n",
      "torch.Size([1, 8, 20, 1])\n",
      "torch.Size([1, 40, 4, 1])\n",
      "torch.Size([1, 8, 20, 1])\n",
      "torch.Size([1, 40, 4, 1])\n",
      "torch.Size([1, 8, 20, 1])\n"
     ]
    },
    {
     "ename": "KeyboardInterrupt",
     "evalue": "",
     "output_type": "error",
     "traceback": [
      "\u001b[0;31m---------------------------------------------------------------------------\u001b[0m",
      "\u001b[0;31mKeyboardInterrupt\u001b[0m                         Traceback (most recent call last)",
      "\u001b[0;32m<ipython-input-29-de3830ac1605>\u001b[0m in \u001b[0;36m<module>\u001b[0;34m\u001b[0m\n\u001b[1;32m      3\u001b[0m \u001b[0mmodel\u001b[0m\u001b[0;34m.\u001b[0m\u001b[0mcuda\u001b[0m\u001b[0;34m(\u001b[0m\u001b[0;34m)\u001b[0m\u001b[0;34m\u001b[0m\u001b[0;34m\u001b[0m\u001b[0m\n\u001b[1;32m      4\u001b[0m \u001b[0mprint\u001b[0m\u001b[0;34m(\u001b[0m\u001b[0;34m\"Training...\"\u001b[0m\u001b[0;34m)\u001b[0m\u001b[0;34m\u001b[0m\u001b[0;34m\u001b[0m\u001b[0m\n\u001b[0;32m----> 5\u001b[0;31m \u001b[0msgd\u001b[0m\u001b[0;34m(\u001b[0m\u001b[0mt\u001b[0m\u001b[0;34m=\u001b[0m\u001b[0;36m1000\u001b[0m\u001b[0;34m,\u001b[0m \u001b[0mgamma\u001b[0m\u001b[0;34m=\u001b[0m\u001b[0;36m0.01\u001b[0m\u001b[0;34m,\u001b[0m \u001b[0mlamb\u001b[0m\u001b[0;34m=\u001b[0m\u001b[0;36m0.01\u001b[0m\u001b[0;34m)\u001b[0m\u001b[0;34m\u001b[0m\u001b[0;34m\u001b[0m\u001b[0m\n\u001b[0m\u001b[1;32m      6\u001b[0m \u001b[0mprint\u001b[0m\u001b[0;34m(\u001b[0m\u001b[0;34m\"Evaluating...\"\u001b[0m\u001b[0;34m)\u001b[0m\u001b[0;34m\u001b[0m\u001b[0;34m\u001b[0m\u001b[0m\n\u001b[1;32m      7\u001b[0m \u001b[0;31m# use for AUC\u001b[0m\u001b[0;34m\u001b[0m\u001b[0;34m\u001b[0m\u001b[0;34m\u001b[0m\u001b[0m\n",
      "\u001b[0;32m<ipython-input-12-ae2dadb8f854>\u001b[0m in \u001b[0;36msgd\u001b[0;34m(t, lamb, gamma)\u001b[0m\n\u001b[1;32m     18\u001b[0m         \u001b[0mout_prime\u001b[0m\u001b[0;34m.\u001b[0m\u001b[0mbackward\u001b[0m\u001b[0;34m(\u001b[0m\u001b[0;34m)\u001b[0m\u001b[0;34m\u001b[0m\u001b[0;34m\u001b[0m\u001b[0m\n\u001b[1;32m     19\u001b[0m \u001b[0;34m\u001b[0m\u001b[0m\n\u001b[0;32m---> 20\u001b[0;31m         \u001b[0mconst\u001b[0m \u001b[0;34m=\u001b[0m \u001b[0;36m0\u001b[0m \u001b[0;32mif\u001b[0m \u001b[0mxy_prime\u001b[0m \u001b[0;32min\u001b[0m \u001b[0mfull_dataset\u001b[0m \u001b[0;32melse\u001b[0m \u001b[0;36m1\u001b[0m \u001b[0;31m#indicator\u001b[0m\u001b[0;34m\u001b[0m\u001b[0;34m\u001b[0m\u001b[0m\n\u001b[0m\u001b[1;32m     21\u001b[0m         \u001b[0mg\u001b[0m \u001b[0;34m=\u001b[0m \u001b[0mlog_out\u001b[0m\u001b[0;34m.\u001b[0m\u001b[0mgrad\u001b[0m \u001b[0;34m-\u001b[0m \u001b[0mlamb\u001b[0m\u001b[0;34m*\u001b[0m\u001b[0mconst\u001b[0m\u001b[0;34m*\u001b[0m\u001b[0mout_prime\u001b[0m\u001b[0;34m.\u001b[0m\u001b[0mgrad\u001b[0m\u001b[0;34m\u001b[0m\u001b[0;34m\u001b[0m\u001b[0m\n\u001b[1;32m     22\u001b[0m         \u001b[0mg\u001b[0m \u001b[0;34m=\u001b[0m \u001b[0mg\u001b[0m\u001b[0;34m.\u001b[0m\u001b[0mitem\u001b[0m\u001b[0;34m(\u001b[0m\u001b[0;34m)\u001b[0m\u001b[0;34m\u001b[0m\u001b[0;34m\u001b[0m\u001b[0m\n",
      "\u001b[0;31mKeyboardInterrupt\u001b[0m: "
     ]
    }
   ],
   "source": [
    "model = SimpleConvNet()\n",
    "model.apply(weights_init)\n",
    "model.cuda()\n",
    "print(\"Training...\")\n",
    "sgd(t=1000, gamma=0.01, lamb=0.01)\n",
    "print(\"Evaluating...\")\n",
    "# use for AUC\n",
    "recall, binding_outputs = recall_eval(50)\n",
    "unknown_outputs = evaluate(500)\n",
    "# use for heatmap\n",
    "print(\"Recall with gamma: \"+ str(0.01) + \" , lambda: \" + str(0.01) + \" recall: \", '%.2f'% recall)"
   ]
  },
  {
   "cell_type": "code",
   "execution_count": null,
   "metadata": {},
   "outputs": [],
   "source": []
  }
 ],
 "metadata": {
  "kernelspec": {
   "display_name": "walnutree",
   "language": "python",
   "name": "walnutree"
  },
  "language_info": {
   "codemirror_mode": {
    "name": "ipython",
    "version": 3
   },
   "file_extension": ".py",
   "mimetype": "text/x-python",
   "name": "python",
   "nbconvert_exporter": "python",
   "pygments_lexer": "ipython3",
   "version": "3.7.4"
  },
  "toc": {
   "base_numbering": 1,
   "nav_menu": {},
   "number_sections": true,
   "sideBar": true,
   "skip_h1_title": false,
   "title_cell": "Table of Contents",
   "title_sidebar": "Contents",
   "toc_cell": false,
   "toc_position": {},
   "toc_section_display": true,
   "toc_window_display": false
  }
 },
 "nbformat": 4,
 "nbformat_minor": 2
}

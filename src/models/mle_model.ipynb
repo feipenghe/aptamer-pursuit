{
 "cells": [
  {
   "cell_type": "code",
   "execution_count": 1,
   "metadata": {},
   "outputs": [],
   "source": [
    "import os, sys\n",
    "import numpy as np\n",
    "import json\n",
    "import random\n",
    "import torch\n",
    "import torch.nn as nn\n",
    "import torch.nn.functional as F\n",
    "from torch.optim import SGD, Adam\n",
    "import tqdm\n",
    "import matplotlib.pyplot as plt\n",
    "import seaborn as sns"
   ]
  },
  {
   "cell_type": "markdown",
   "metadata": {},
   "source": [
    "## Preliminary"
   ]
  },
  {
   "cell_type": "code",
   "execution_count": 2,
   "metadata": {},
   "outputs": [],
   "source": [
    "torch.manual_seed(12345)\n",
    "device = torch.device(\"cuda:0\" if torch.cuda.is_available() else 'cpu')\n",
    "\n",
    "na_list = ['A', 'C', 'G', 'T'] #nucleic acids\n",
    "aa_list = ['R', 'L', 'S', 'A', 'G', 'P', 'T', 'V', 'N', 'D', 'C', 'Q', 'E', 'H', 'I', 'K', 'M', 'F', 'W', 'Y'] #amino acids\n",
    "NNK_freq = [0.09375]*3 + [0.0625]*5 + [0.03125]*13 #freq of 21 NNK codons including the stop codon\n",
    "sum_20 = 0.0625*5 + 0.09375*3 + 0.03125*12 #sum of freq without the stop codon\n",
    "pvals = [0.09375/sum_20]*3 + [0.0625/sum_20]*5 + [0.03125/sum_20]*12 #normalize freq for 20 codons\n",
    "pvals = [0.09375/sum_20]*3 + [0.0625/sum_20]*5 + [0.03125/sum_20]*11 + \\\n",
    "        [1- sum([0.09375/sum_20]*3 + [0.0625/sum_20]*5 + [0.03125/sum_20]*11)] \n",
    "        #adjust sum to 1 due to numerical issue\n",
    "aa_dict = dict(zip(aa_list, pvals))"
   ]
  },
  {
   "cell_type": "markdown",
   "metadata": {},
   "source": [
    "## Dataset"
   ]
  },
  {
   "cell_type": "code",
   "execution_count": 3,
   "metadata": {},
   "outputs": [],
   "source": [
    "def construct_dataset():\n",
    "    with open(aptamer_dataset_file, 'r') as f:\n",
    "        aptamer_data = json.load(f)\n",
    "    full_dataset = []\n",
    "    for aptamer in aptamer_data:\n",
    "        peptides = aptamer_data[aptamer]\n",
    "        if aptamer == \"CTTTGTAATTGGTTCTGAGTTCCGTTGTGGGAGGAACATG\": #took out aptamer control\n",
    "            continue\n",
    "        for peptide, _ in peptides:\n",
    "            peptide = peptide.replace(\"_\", \"\") #removed stop codons\n",
    "            if \"RRRRRR\" in peptide: #took out peptide control\n",
    "                continue\n",
    "            if len(aptamer) == 40 and len(peptide) == 8: #making sure right length\n",
    "                full_dataset.append((aptamer, peptide))\n",
    "    full_dataset = list(set(full_dataset)) #removed duplicates\n",
    "    return full_dataset\n",
    "\n",
    "class TrainDataset(torch.utils.data.Dataset):\n",
    "    def __init__(self, training_set):\n",
    "        super(TrainDataset, self).__init__() \n",
    "        self.training_set = training_set\n",
    "        \n",
    "    def __len__(self):\n",
    "        return len(self.training_set)\n",
    "\n",
    "    def __getitem__(self, idx):\n",
    "        aptamer, peptide = self.training_set[idx]\n",
    "        return aptamer, peptide\n",
    "    \n",
    "\n",
    "aptamer_dataset_file = \"../data/aptamer_dataset.json\"\n",
    "full_dataset = construct_dataset()\n",
    "n = len(full_dataset)\n",
    "training_set = full_dataset[:int(0.8*n)]\n",
    "test_set = full_dataset[int(0.8*n):]\n",
    "train_dataset = TrainDataset(training_set)\n",
    "train_loader = torch.utils.data.DataLoader(train_dataset)"
   ]
  },
  {
   "cell_type": "markdown",
   "metadata": {},
   "source": [
    "## NN Model"
   ]
  },
  {
   "cell_type": "code",
   "execution_count": 4,
   "metadata": {},
   "outputs": [],
   "source": [
    "class SimpleConvNet(nn.Module):\n",
    "    def __init__(self):\n",
    "        super(SimpleConvNet, self).__init__()\n",
    "        self.cnn_apt_1 = nn.Conv2d(1, 200, (4,4)) #similar to 4-gram\n",
    "        self.cnn_pep_1 = nn.Conv2d(1, 100, (4,20))\n",
    "        self.relu = nn.ReLU()\n",
    "        self.fc1 = nn.Linear(7900, 1)\n",
    "        \n",
    "    def forward(self, apt, pep):\n",
    "        apt = self.cnn_apt_1(apt)\n",
    "        apt = self.relu(apt)\n",
    "        pep = self.cnn_pep_1(pep)\n",
    "        pep = self.relu(pep)\n",
    "        apt = apt.view(-1, 1).T\n",
    "        pep = pep.view(-1, 1).T\n",
    "        \n",
    "        x = torch.cat((apt, pep), 1)\n",
    "        x = self.fc1(x)\n",
    "        x = torch.sigmoid(x)\n",
    "        return x\n",
    "\n",
    "def weights_init(m):\n",
    "    if isinstance(m, nn.Conv2d):\n",
    "        nn.init.xavier_uniform_(m.weight.data)\n",
    "        nn.init.zeros_(m.bias.data)\n",
    "    if isinstance(m, nn.Linear):\n",
    "        nn.init.kaiming_uniform_(m.weight.data, nonlinearity='relu')\n",
    "        nn.init.zeros_(m.bias.data)"
   ]
  },
  {
   "cell_type": "markdown",
   "metadata": {},
   "source": [
    "## Sampling methods"
   ]
  },
  {
   "cell_type": "code",
   "execution_count": 5,
   "metadata": {},
   "outputs": [],
   "source": [
    "# Sample x from P_X (assume apatamers follow uniform)\n",
    "def get_x():\n",
    "    x_idx = np.random.randint(0, 4, 40)\n",
    "    x = \"\"\n",
    "    for i in x_idx:\n",
    "        x += na_list[i]\n",
    "    return x\n",
    "\n",
    "# Sample y from P_y (assume peptides follow NNK)\n",
    "def get_y():\n",
    "    y_idx = np.random.choice(20, 7, p=pvals)\n",
    "    y = \"M\"\n",
    "    for i in y_idx:\n",
    "        y += aa_list[i]\n",
    "    return y\n",
    "\n",
    "# S' contains S with double the size of S (domain for Importance Sampling)\n",
    "def get_S_prime(k):\n",
    "    S_prime_dict = dict.fromkeys(full_dataset, 0) #indicator 0 means in the original dataset\n",
    "    S_new = []\n",
    "    for _ in range(k):\n",
    "        pair = (get_x(), get_y())\n",
    "        S_prime_dict[pair] = 1 #indicator 1 means not in the original dataset\n",
    "        S_new.append(pair)\n",
    "    S_prime = [[k,int(v)] for k,v in S_prime_dict.items()]\n",
    "    random.shuffle(S_prime)\n",
    "    return S_prime, S_new\n",
    "\n",
    "# Returns pmf of an aptamer\n",
    "def get_x_pmf():\n",
    "    return 0.25**40\n",
    "\n",
    "# Returns pmf of a peptide\n",
    "def get_y_pmf(y):\n",
    "    pmf = 1\n",
    "    for char in y[1:]: #skips first char \"M\"\n",
    "        pmf *= aa_dict[char]\n",
    "    return pmf\n",
    "\n",
    "S_prime, S_new = get_S_prime(n) #use for sgd and eval"
   ]
  },
  {
   "cell_type": "markdown",
   "metadata": {},
   "source": [
    "## Helper methods"
   ]
  },
  {
   "cell_type": "code",
   "execution_count": 6,
   "metadata": {},
   "outputs": [],
   "source": [
    "## Takes a peptide and aptamer sequence and converts to one-hot matrix\n",
    "def one_hot(sequence, seq_type='peptide'):\n",
    "    if seq_type == 'peptide':\n",
    "        letters = aa_list\n",
    "    else:\n",
    "        letters = na_list\n",
    "    one_hot = np.zeros((len(sequence), len(letters)))\n",
    "    for i in range(len(sequence)):\n",
    "        char = sequence[i]\n",
    "        for _ in range(len(letters)):\n",
    "            idx = letters.index(char)\n",
    "            one_hot[i][idx] = 1\n",
    "    return one_hot\n",
    "\n",
    "# Convert a pair to one-hot tensor\n",
    "def convert(apt, pep): \n",
    "    apt = one_hot(apt, seq_type='aptamer') #(40, 4)\n",
    "    pep = one_hot(pep, seq_type='peptide') #(8, 20)\n",
    "    apt = torch.FloatTensor(np.reshape(apt, (1, 1, apt.shape[0], apt.shape[1]))).cuda() #(1, 1, 40, 4)\n",
    "    pep = torch.FloatTensor(np.reshape(pep, (1, 1, pep.shape[0], pep.shape[1]))).cuda() #(1, 1, 8, 20)\n",
    "    return apt, pep\n",
    "\n",
    "def update(x, y):\n",
    "    pmf = get_y_pmf(y)\n",
    "    x.requires_grad=True\n",
    "    y.requires_grad=True\n",
    "    x = x.cuda()\n",
    "    y = y.cuda()\n",
    "    out = model(x, y)\n",
    "    return pmf, out\n",
    "\n",
    "def get_log_out(k):\n",
    "    outs = []\n",
    "    for (apt, pep) in training_set[:k]:\n",
    "        x, y = convert(apt, pep)\n",
    "        _, out = update(x, y)\n",
    "        outs.append(torch.log(out).cpu().detach().numpy().flatten()[0])\n",
    "    return np.average(outs)\n",
    "\n",
    "def get_log_out_test(k):\n",
    "    outs = []\n",
    "    for (apt, pep) in test_set[:k]:\n",
    "        x, y = convert(apt, pep)\n",
    "        _, out = update(x, y)\n",
    "        outs.append(torch.log(out).cpu().detach().numpy().flatten()[0])\n",
    "    return np.average(outs)\n",
    "\n",
    "def get_out_prime(k):\n",
    "    outs = []\n",
    "    for (apt, pep) in S_new[:k]:\n",
    "        x, y = convert(apt, pep)\n",
    "        _, out = update(x, y)\n",
    "        outs.append(out.cpu().detach().numpy().flatten()[0])\n",
    "    return np.average(outs)\n",
    "\n",
    "# AUC Plot\n",
    "def cdf(scores1, scores2, i): # i is the index\n",
    "    _, ax = plt.subplots()\n",
    "    ax.hist(scores1, 100, histtype='step', density=True, cumulative=True, color='red', label='train cdf')\n",
    "    ax.hist(scores2, 100, histtype='step', density=True, cumulative=True, color='black', label='test cdf')\n",
    "    ax.legend()\n",
    "    plt.show()"
   ]
  },
  {
   "cell_type": "markdown",
   "metadata": {},
   "source": [
    "## SGD"
   ]
  },
  {
   "cell_type": "code",
   "execution_count": 7,
   "metadata": {},
   "outputs": [],
   "source": [
    "def sgd(t=1, #num of iter over the training set\n",
    "        lamb=1e-1, #hyperparam\n",
    "        gamma=1e-2): #step size\n",
    "    train_correct = 0\n",
    "    test_correct = 0\n",
    "    optim = SGD(model.parameters(), lr=gamma)\n",
    "    for _ in range(t):\n",
    "        for i, (apt, pep) in enumerate(tqdm.tqdm(train_loader)):\n",
    "            if i == 0:\n",
    "                continue\n",
    "            model.train()\n",
    "            \n",
    "            optim.zero_grad() #reset gradients after update\n",
    "            \n",
    "            x, y = convert(apt[0], pep[0]) #sample x,y from training set\n",
    "            _, out = update(x, y) #get train score\n",
    "            log_out = torch.log(out) #take log\n",
    "            \n",
    "            train_score = out.cpu().detach().numpy().flatten()[0] #get score in float\n",
    "            if train_score > 0.75:\n",
    "                train_correct += 1 #contribute to train recall\n",
    "            train_recall_outputs.append(train_score) #store the train scores\n",
    "            \n",
    "            optim.zero_grad() #reset gradients for the second branch\n",
    "            \n",
    "            x_prime, y_prime = convert(S_prime[i][0][0], S_prime[i][0][1]) #sample x', y' from S'\n",
    "            y_pmf, out_prime = update(x_prime, y_prime) #get score'\n",
    "            out_prime = out_prime*y_pmf*get_x_pmf()*2*n #adjust for IS\n",
    "            \n",
    "            const = S_prime[i][1] #indicator\n",
    "            (lamb*const*out_prime - log_out).backward(retain_graph=True) #backprop\n",
    "            optim.step() #gradient update\n",
    "                \n",
    "            if i < int(0.2*n): #check if idx out of range\n",
    "                model.eval()\n",
    "                x_test, y_test = convert(test_set[i][0], test_set[i][1]) #sample x,y from test set\n",
    "                test_score = model(x_test, y_test).cpu().detach().numpy().flatten()[0] #get test score in float\n",
    "                test_recall_outputs.append(test_score) #store the test scores\n",
    "                if test_score > 0.75:\n",
    "                    test_correct += 1 #contribute to test recall\n",
    "            for x, y in S_new[-(10*i+1):9-10*i]:\n",
    "                x_eval, y_eval = convert(x, y) #generate unseen x'' and y''\n",
    "                score_eval = model(x_eval, y_eval).cpu().detach().numpy().flatten()[0] #get unknown score\n",
    "                eval_unknown_outputs.append(score_eval) #store the unknown scores\n",
    "\n",
    "            if i % 50 == 0:\n",
    "                train_loss = lamb*get_out_prime(1000) - get_log_out(1000) #training loss\n",
    "                test_loss = lamb*get_out_prime(1000) - get_log_out_test(1000) #test loss\n",
    "                train_losses.append(train_loss)\n",
    "                test_losses.append(test_loss)\n",
    "                train_recall = 100*train_correct/i #training recall\n",
    "                train_recalls.append(train_recall) \n",
    "                test_recall = 100*test_correct/i #test recall\n",
    "                test_recalls.append(test_recall)\n",
    "                \n",
    "                train_score = np.asarray(eval_unknown_outputs + train_recall_outputs) #combine train and unknown scores\n",
    "                test_score = np.asarray(eval_unknown_outputs + test_recall_outputs) #combibne test and unknown scores\n",
    "                train_cdf = np.sum(np.cumsum(train_score), dtype=float)/(np.sum(train_score)*len(train_score)) #train cdf\n",
    "                test_cdf = np.sum(np.cumsum(test_score), dtype=float)/(np.sum(test_score)*len(test_score)) #test cdf\n",
    "                train_cdfs.append(train_cdf)\n",
    "                test_cdfs.append(test_cdf)\n",
    "            if i % 1000 == 0:\n",
    "                _, ax = plt.subplots()\n",
    "                T = [i for i in range(51, i, 1000//50)]\n",
    "                ax.plot(train_losses, 'g', label='Train loss')\n",
    "                ax.plot(test_losses, 'p', label='Test loss')\n",
    "                ax.plot(train_recalls, 'b', label='Train recall')\n",
    "                ax.plot(test_recalls, 'y', label='Test recall')\n",
    "                ax.legend()\n",
    "                g = gammas[j//len(lambdas)]\n",
    "                l = lambdas[j%len(lambdas)]\n",
    "                ax.set_title('lambda =%.5f' % l  + ' gamma =%.5f' % g)\n",
    "                plt.show()\n",
    "                cdf(train_score, test_score, j)"
   ]
  },
  {
   "cell_type": "markdown",
   "metadata": {},
   "source": [
    "## Hyperparameter tuning"
   ]
  },
  {
   "cell_type": "code",
   "execution_count": 8,
   "metadata": {},
   "outputs": [],
   "source": [
    "gammas = [1e-2, 1e-1, 1e-3]\n",
    "lambdas = [1e-1, 1e-3, 10, 100, 1e-5]\n",
    "j = 0"
   ]
  },
  {
   "cell_type": "code",
   "execution_count": null,
   "metadata": {
    "scrolled": false
   },
   "outputs": [
    {
     "name": "stderr",
     "output_type": "stream",
     "text": [
      "  0%|          | 998/473047 [01:05<4:14:11, 30.95it/s] "
     ]
    },
    {
     "data": {
      "image/png": "[encoded data removed]",
      "text/plain": [
       "<Figure size 432x288 with 1 Axes>"
      ]
     },
     "metadata": {
      "needs_background": "light"
     },
     "output_type": "display_data"
    },
    {
     "name": "stdout",
     "output_type": "stream",
     "text": [
      "Train recalls:  [96.25, 96.47058823529412, 96.66666666666667, 96.84210526315789, 97.0]\n",
      "Test recalls:  [96.125, 96.3529411764706, 96.55555555555556, 96.73684210526316, 96.9]\n",
      "Train losses:  [0.10137931767385454, 0.10127493513282389, 0.10118321063928307, 0.10110488536302001, 0.10103334856685252]\n",
      "Test losses:  [0.10138429384678603, 0.10127950792666525, 0.10118742941413075, 0.10110879633575678, 0.10103698445018382]\n",
      "Train cdfs:  [0.4901486516303134, 0.49064844458806334, 0.49109935019716416, 0.4915086586889089, 0.49188208640697906]\n",
      "Test cdfs:  [0.49012922081450727, 0.4906300962314032, 0.4910819881382918, 0.49149227258959716, 0.4918664428983111]\n",
      "Train scores (from unknown): [0.49871472 0.50345    0.5077601  0.49980035 0.5035994 ]\n",
      "Train scores (from train): [0.9988715  0.9989039  0.99892586 0.99887174 0.9989785 ]\n",
      "Test scores (from unknown): [0.49871472 0.50345    0.5077601  0.49980035 0.5035994 ]\n",
      "Test scores (from test): [0.9988877  0.9988194  0.9988538  0.99870443 0.9989943 ]\n"
     ]
    },
    {
     "data": {
      "image/png": "[encoded data removed]",
      "text/plain": [
       "<Figure size 432x288 with 1 Axes>"
      ]
     },
     "metadata": {
      "needs_background": "light"
     },
     "output_type": "display_data"
    },
    {
     "name": "stderr",
     "output_type": "stream",
     "text": [
      "  0%|          | 1999/473047 [02:14<3:37:44, 36.06it/s] "
     ]
    },
    {
     "data": {
      "image/png": "[encoded data removed]",
      "text/plain": [
       "<Figure size 432x288 with 1 Axes>"
      ]
     },
     "metadata": {
      "needs_background": "light"
     },
     "output_type": "display_data"
    },
    {
     "name": "stdout",
     "output_type": "stream",
     "text": [
      "Train recalls:  [98.33333333333333, 98.37837837837837, 98.42105263157895, 98.46153846153847, 98.5]\n",
      "Test recalls:  [98.27777777777777, 98.32432432432432, 98.36842105263158, 98.41025641025641, 98.45]\n",
      "Train losses:  [0.10049289704766125, 0.10047669012565166, 0.10046143340878189, 0.10044692158699037, 0.10043322176788934]\n",
      "Test losses:  [0.1004944656859152, 0.10047820660984144, 0.10046289762249216, 0.10044832800049336, 0.10043458167347126]\n",
      "Train cdfs:  [0.49519421020634474, 0.4953139421826291, 0.49542806322493205, 0.4955368891600567, 0.49564080023130025]\n",
      "Test cdfs:  [0.4951856003151241, 0.4953055676101466, 0.4954199114399502, 0.49552894860937835, 0.49563306023732817]\n",
      "Train scores (from unknown): [0.49871472 0.50345    0.5077601  0.49980035 0.5035994 ]\n",
      "Train scores (from train): [0.9995784  0.99947935 0.99949706 0.9995479  0.99954396]\n",
      "Test scores (from unknown): [0.49871472 0.50345    0.5077601  0.49980035 0.5035994 ]\n",
      "Test scores (from test): [0.99951625 0.999522   0.9995889  0.99954706 0.9995414 ]\n"
     ]
    },
    {
     "data": {
      "image/png": "[encoded data removed]",
      "text/plain": [
       "<Figure size 432x288 with 1 Axes>"
      ]
     },
     "metadata": {
      "needs_background": "light"
     },
     "output_type": "display_data"
    },
    {
     "name": "stderr",
     "output_type": "stream",
     "text": [
      "  1%|          | 2580/473047 [02:56<6:55:01, 18.89it/s] "
     ]
    }
   ],
   "source": [
    "for g in range(len(gammas)):\n",
    "    for l in range(len(lambdas)):\n",
    "        train_losses = []\n",
    "        train_recalls = []\n",
    "        train_recall_outputs = [] \n",
    "        train_cdfs = []\n",
    "        \n",
    "        test_losses = []\n",
    "        test_recalls = []\n",
    "        test_recall_outputs = []\n",
    "        test_cdfs = []\n",
    "        \n",
    "        eval_unknown_outputs = []\n",
    "        \n",
    "        model = SimpleConvNet()\n",
    "        model.apply(weights_init)\n",
    "        model.cuda()\n",
    "        \n",
    "        sgd(t=50, gamma=gammas[g], lamb=lambdas[l])\n",
    "        \n",
    "        j += 1"
   ]
  },
  {
   "cell_type": "code",
   "execution_count": null,
   "metadata": {},
   "outputs": [],
   "source": []
  }
 ],
 "metadata": {
  "kernelspec": {
   "display_name": "walnutree",
   "language": "python",
   "name": "walnutree"
  },
  "language_info": {
   "codemirror_mode": {
    "name": "ipython",
    "version": 3
   },
   "file_extension": ".py",
   "mimetype": "text/x-python",
   "name": "python",
   "nbconvert_exporter": "python",
   "pygments_lexer": "ipython3",
   "version": "3.7.4"
  },
  "toc": {
   "base_numbering": 1,
   "nav_menu": {},
   "number_sections": true,
   "sideBar": true,
   "skip_h1_title": false,
   "title_cell": "Table of Contents",
   "title_sidebar": "Contents",
   "toc_cell": false,
   "toc_position": {},
   "toc_section_display": true,
   "toc_window_display": false
  }
 },
 "nbformat": 4,
 "nbformat_minor": 2
}

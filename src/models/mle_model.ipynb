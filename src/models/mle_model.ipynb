{
 "cells": [
  {
   "cell_type": "code",
   "execution_count": 1,
   "metadata": {},
   "outputs": [],
   "source": [
    "import os, sys\n",
    "import numpy as np\n",
    "import json\n",
    "import random\n",
    "import torch\n",
    "import torch.nn as nn\n",
    "import torch.nn.functional as F\n",
    "from torch.optim import SGD, Adam\n",
    "import tqdm\n",
    "import matplotlib.pyplot as plt\n",
    "import seaborn as sns"
   ]
  },
  {
   "cell_type": "markdown",
   "metadata": {},
   "source": [
    "## Preliminary"
   ]
  },
  {
   "cell_type": "code",
   "execution_count": 2,
   "metadata": {},
   "outputs": [],
   "source": [
    "EPOCHS = 20\n",
    "k = 5000 # number of samples used to calculate loss"
   ]
  },
  {
   "cell_type": "code",
   "execution_count": 3,
   "metadata": {},
   "outputs": [],
   "source": [
    "torch.manual_seed(12345)\n",
    "device = torch.device(\"cuda:0\" if torch.cuda.is_available() else 'cpu')\n",
    "na_list = ['A', 'C', 'G', 'T'] #nucleic acids\n",
    "aa_list = ['R', 'L', 'S', 'A', 'G', 'P', 'T', 'V', 'N', 'D', 'C', 'Q', 'E', 'H', 'I', 'K', 'M', 'F', 'W', 'Y'] #amino acids\n",
    "NNK_freq = [0.09375]*3 + [0.0625]*5 + [0.03125]*13 #freq of 21 NNK codons including the stop codon\n",
    "sum_20 = 0.0625*5 + 0.09375*3 + 0.03125*12 #sum of freq without the stop codon\n",
    "pvals = [0.09375/sum_20]*3 + [0.0625/sum_20]*5 + [0.03125/sum_20]*12 #normalize freq for 20 codons\n",
    "pvals = [0.09375/sum_20]*3 + [0.0625/sum_20]*5 + [0.03125/sum_20]*11 + \\\n",
    "        [1- sum([0.09375/sum_20]*3 + [0.0625/sum_20]*5 + [0.03125/sum_20]*11)] \n",
    "        #adjust sum to 1 due to numerical issue\n",
    "aa_dict = dict(zip(aa_list, pvals))"
   ]
  },
  {
   "cell_type": "markdown",
   "metadata": {},
   "source": [
    "## Dataset & Sampling"
   ]
  },
  {
   "cell_type": "code",
   "execution_count": 4,
   "metadata": {},
   "outputs": [],
   "source": [
    "def construct_dataset():\n",
    "    with open(aptamer_dataset_file, 'r') as f:\n",
    "        aptamer_data = json.load(f)\n",
    "    ds = []\n",
    "    for aptamer in aptamer_data:\n",
    "        peptides = aptamer_data[aptamer]\n",
    "        if aptamer == \"CTTTGTAATTGGTTCTGAGTTCCGTTGTGGGAGGAACATG\": #took out aptamer control\n",
    "            continue\n",
    "        for peptide, _ in peptides:\n",
    "            peptide = peptide.replace(\"_\", \"\") #removed stop codons\n",
    "            if \"RRRRRR\" in peptide: #took out peptide control\n",
    "                continue\n",
    "            if len(aptamer) == 40 and len(peptide) == 8: #making sure right length\n",
    "                ds.append((aptamer, peptide))\n",
    "    ds = list(set(ds)) #removed duplicates\n",
    "    return ds\n",
    "\n",
    "# Sample x from P_X (assume apatamers follow uniform)\n",
    "def get_x():\n",
    "    x_idx = np.random.randint(0, 4, 40)\n",
    "    x = \"\"\n",
    "    for i in x_idx:\n",
    "        x += na_list[i]\n",
    "    return x\n",
    "\n",
    "# Sample y from P_y (assume peptides follow NNK)\n",
    "def get_y():\n",
    "    y_idx = np.random.choice(20, 7, p=pvals)\n",
    "    y = \"M\"\n",
    "    for i in y_idx:\n",
    "        y += aa_list[i]\n",
    "    return y\n",
    "\n",
    "# S'(train/test) contains S_train/S_test with double the size of S_train/S_test\n",
    "def get_S_prime(kind=\"train\"):\n",
    "    if kind == \"train\":\n",
    "        dset = S_train\n",
    "    else:\n",
    "        dset = S_test\n",
    "    k = len(dset)\n",
    "    S_prime_dict = dict.fromkeys(dset, 0) #indicator 0 means in S\n",
    "    for _ in range(k):\n",
    "        pair = (get_x(), get_y())\n",
    "        S_prime_dict[pair] = 1 #indicator 1 means not in S\n",
    "    S_prime = [[k,int(v)] for k,v in S_prime_dict.items()] \n",
    "    np.random.shuffle(S_prime)\n",
    "    return S_prime\n",
    "\n",
    "# S new contains unseen new examples\n",
    "def get_S_new(k):\n",
    "    S_new = []\n",
    "    for i in range(k):\n",
    "        pair = (get_x(), get_y())\n",
    "        S_new.append(pair)\n",
    "    np.random.shuffle(S_new)\n",
    "    return S_new\n",
    "    \n",
    "# Returns pmf of an aptamer\n",
    "def get_x_pmf():\n",
    "    return 0.25**40\n",
    "\n",
    "# Returns pmf of a peptide\n",
    "def get_y_pmf(y):\n",
    "    pmf = 1\n",
    "    for char in y[1:]: #skips first char \"M\"\n",
    "        pmf *= aa_dict[char]\n",
    "    return pmf    "
   ]
  },
  {
   "cell_type": "code",
   "execution_count": 5,
   "metadata": {},
   "outputs": [],
   "source": [
    "aptamer_dataset_file = \"../data/aptamer_dataset.json\"\n",
    "S = construct_dataset()\n",
    "n = len(S)\n",
    "m = int(0.8*n) #length of S_train\n",
    "S_train = S[:m]\n",
    "S_test = S[m:]\n",
    "S_prime_train = get_S_prime(\"train\") #use for sgd \n",
    "S_prime_test = get_S_prime(\"test\") #use for sgd \n",
    "S_new = get_S_new(10*n) #use for eval\n",
    "train_ds = np.hstack((S_train, S_prime_train[:len(S_prime_train)//2]))"
   ]
  },
  {
   "cell_type": "markdown",
   "metadata": {},
   "source": [
    "## NN Model"
   ]
  },
  {
   "cell_type": "code",
   "execution_count": 6,
   "metadata": {},
   "outputs": [],
   "source": [
    "class SimpleConvNet(nn.Module):\n",
    "    def __init__(self):\n",
    "        super(SimpleConvNet, self).__init__()\n",
    "        self.cnn_apt_1 = nn.Conv2d(1, 120, (4,4)) #similar to 4-gram\n",
    "        self.cnn_pep_1 = nn.Conv2d(1, 50, (4,20))\n",
    "        self.relu = nn.ReLU()\n",
    "        self.fc1 = nn.Linear(4690, 1)\n",
    "        \n",
    "    def forward(self, apt, pep):\n",
    "        apt = self.cnn_apt_1(apt)\n",
    "        apt = self.relu(apt)\n",
    "        pep = self.cnn_pep_1(pep)\n",
    "        pep = self.relu(pep)\n",
    "        apt = apt.view(-1, 1).T\n",
    "        pep = pep.view(-1, 1).T\n",
    "        \n",
    "        x = torch.cat((apt, pep), 1)\n",
    "        x = self.fc1(x)\n",
    "        x = torch.sigmoid(x)\n",
    "        return x\n",
    "\n",
    "def weights_init(m):\n",
    "    if isinstance(m, nn.Conv2d):\n",
    "        nn.init.xavier_uniform_(m.weight.data, gain=nn.init.calculate_gain('relu'))\n",
    "        nn.init.zeros_(m.bias.data)\n",
    "    if isinstance(m, nn.Linear):\n",
    "        nn.init.kaiming_normal_(m.weight.data, nonlinearity='sigmoid')\n",
    "        nn.init.zeros_(m.bias.data)"
   ]
  },
  {
   "cell_type": "code",
   "execution_count": 7,
   "metadata": {},
   "outputs": [],
   "source": [
    "class MoreComplexNet(nn.Module):\n",
    "    def __init__(self):\n",
    "        super(MoreComplexNet, self).__init__()\n",
    "        self.cnn_apt_1 = nn.Conv2d(1, 500, 1) #similar to 5-gram\n",
    "        self.cnn_apt_2 = nn.Conv2d(500, 1000, 1)\n",
    "        self.cnn_apt_3 = nn.Conv2d(1000, 500, 2)\n",
    "        self.cnn_apt_4 = nn.Conv2d(500, 100, 2)\n",
    "        self.cnn_apt_5 = nn.Conv2d(100, 10, 2)\n",
    "        \n",
    "        self.cnn_pep_1 = nn.Conv2d(1, 250, 1)\n",
    "        self.cnn_pep_2 = nn.Conv2d(250, 500, 1)\n",
    "        self.cnn_pep_3 = nn.Conv2d(500, 250, 3)\n",
    "        self.cnn_pep_4 = nn.Conv2d(250, 100, 2)\n",
    "        self.cnn_pep_5 = nn.Conv2d(100, 10, 2)\n",
    "        \n",
    "        self.relu = nn.ReLU()\n",
    "        \n",
    "        self.cnn_apt = nn.Sequential(self.cnn_apt_1, self.relu, self.cnn_apt_2, self.relu, self.cnn_apt_3, self.relu, self.cnn_apt_4, self.relu, self.cnn_apt_5)\n",
    "        self.cnn_pep = nn.Sequential(self.cnn_pep_1, self.relu, self.cnn_pep_2, self.relu, self.cnn_pep_3, self.relu, self.cnn_pep_4, self.relu, self.cnn_pep_5)\n",
    "        \n",
    "        \n",
    "        self.fc1 = nn.Linear(1010, 1)\n",
    "    \n",
    "    def forward(self, apt, pep):\n",
    "        apt = self.cnn_apt(apt)\n",
    "        apt = self.relu(apt)\n",
    "        pep = self.cnn_pep(pep)\n",
    "        pep = self.relu(pep)\n",
    "        apt = apt.view(-1, 1).T\n",
    "        pep = pep.view(-1, 1).T\n",
    "        \n",
    "        x = torch.cat((apt, pep), 1)\n",
    "        x = self.fc1(x)\n",
    "        x = torch.sigmoid(x)\n",
    "        return x"
   ]
  },
  {
   "cell_type": "markdown",
   "metadata": {},
   "source": [
    "## Helper methods"
   ]
  },
  {
   "cell_type": "code",
   "execution_count": 8,
   "metadata": {},
   "outputs": [],
   "source": [
    "## Takes a peptide and aptamer sequence and converts to one-hot matrix\n",
    "def one_hot(sequence, seq_type='peptide'):\n",
    "    if seq_type == 'peptide':\n",
    "        letters = aa_list\n",
    "    else:\n",
    "        letters = na_list\n",
    "    one_hot = np.zeros((len(sequence), len(letters)))\n",
    "    for i in range(len(sequence)):\n",
    "        char = sequence[i]\n",
    "        for _ in range(len(letters)):\n",
    "            idx = letters.index(char)\n",
    "            one_hot[i][idx] = 1\n",
    "    return one_hot\n",
    "\n",
    "# Convert a pair to one-hot tensor\n",
    "def convert(apt, pep): \n",
    "    apt = one_hot(apt, seq_type='aptamer') #(40, 4)\n",
    "    pep = one_hot(pep, seq_type='peptide') #(8, 20)\n",
    "    apt = torch.FloatTensor(np.reshape(apt, (1, 1, apt.shape[0], apt.shape[1]))).cuda() #(1, 1, 40, 4)\n",
    "    pep = torch.FloatTensor(np.reshape(pep, (1, 1, pep.shape[0], pep.shape[1]))).cuda() #(1, 1, 8, 20)\n",
    "    return apt, pep\n",
    "\n",
    "# Getting the output of the model for a pair (aptamer, peptide)\n",
    "def update(x, y):\n",
    "    x.requires_grad=True\n",
    "    y.requires_grad=True\n",
    "    x = x.cuda()\n",
    "    y = y.cuda()\n",
    "    out = model(x, y)\n",
    "    return out\n",
    "\n",
    "# Generates the samples used to calculate loss\n",
    "def loss_samples(k, ds='train'): # S_train/S_test\n",
    "    if ds == 'train':\n",
    "        dset = S_train\n",
    "    else:\n",
    "        dset = S_test\n",
    "    pairs = []\n",
    "    for (apt, pep) in dset[:k]:\n",
    "        x, y = convert(apt, pep)\n",
    "        pairs.append((x, y))\n",
    "    return pairs\n",
    "\n",
    "# Generates the samples used to calculate loss from S_prime_train/S_prime_test\n",
    "def prime_loss_samples(k, ds='train'): # S_prime_train/S_prime_test\n",
    "    if ds == \"train\":\n",
    "        dset = S_prime_train[len(S_prime_train)//2:]    \n",
    "    else:\n",
    "        dset = S_prime_test[len(S_prime_test)//2:]\n",
    "    pairs = []\n",
    "    for (apt, pep), ind in dset[:k]:\n",
    "        pmf = get_y_pmf(pep)\n",
    "        x, y = convert(apt, pep)\n",
    "        pairs.append((x, y, ind, pmf))\n",
    "    return pairs\n",
    "\n",
    "# First term of the loss\n",
    "def get_log_out(dataset='train'):\n",
    "    outs = []\n",
    "    if dataset == 'train':\n",
    "        dset = train_loss_samples\n",
    "    else:\n",
    "        dset = test_loss_samples\n",
    "    for (apt, pep) in dset:\n",
    "        out = update(apt, pep)\n",
    "        outs.append(torch.log(out).cpu().detach().numpy().flatten()[0])\n",
    "    return np.average(outs)\n",
    "\n",
    "# Second term of loss\n",
    "def get_out_prime(ds=\"train\"):\n",
    "    outs = []\n",
    "    if ds == \"train\":\n",
    "        dset = prime_train_loss_samples\n",
    "        leng = m\n",
    "    else:\n",
    "        dset = prime_test_loss_samples\n",
    "        leng = n-m\n",
    "    for (apt, pep, ind, pmf) in dset:\n",
    "        x = apt.cuda()\n",
    "        y = pep.cuda()\n",
    "        out = model(x, y)\n",
    "        if ind == 0:\n",
    "            factor = (2*leng*get_x_pmf()*pmf)/(1+leng*get_x_pmf()*pmf)\n",
    "        else:\n",
    "            factor = 2\n",
    "        out_is = out.cpu().detach().numpy().flatten()[0] * factor\n",
    "        outs.append(out_is)\n",
    "    return np.average(outs)\n",
    "\n",
    "## Plotting functions\n",
    "\n",
    "def plot_loss(train_loss, test_loss, i, j, lamb, gamma):\n",
    "    plt.plot(train_loss, 'b', label='Train loss')\n",
    "    plt.plot(test_loss, 'y', label='Test loss')\n",
    "    plt.ylabel(\"Loss\")\n",
    "    plt.xlabel(\"Number of iterations\")\n",
    "    plt.title('Loss after ' +  str(i) + \" iterations, \" + str(j) + \" epochs, \" + 'lambda =%.5f' % lamb  + ' gamma =%.5f' % gamma)\n",
    "    plt.legend()\n",
    "    plt.show()\n",
    "\n",
    "def plot_recall(train_recall, test_recall, i, j, lamb, gamma):\n",
    "    plt.plot(train_recall, 'b', label='Train recall')\n",
    "    plt.plot(test_recall, 'y', label='Test recall')\n",
    "    plt.ylabel(\"Recall (%)\")\n",
    "    plt.xlabel(\"Number of iterations\")\n",
    "    plt.title('Recall after ' + str(i) + \" iterations, \" + str(j) + \" epochs, \" + 'lambda =%.5f' % lamb  + ' gamma =%.5f' % gamma)\n",
    "    plt.legend()\n",
    "    plt.show()\n",
    "    \n",
    "def plot_cdf(train_cdf, test_cdf, i, j, lamb, gamma):\n",
    "    plt.plot(train_cdf, 'b', label='Train CDF')\n",
    "    plt.plot(test_cdf, 'y', label='Test CDF')\n",
    "    plt.ylabel(\"CDF\")\n",
    "    plt.xlabel(\"Most recent 10,000 samples\")\n",
    "    plt.title('CDF after ' + str(i) + \" iterations, \" + str(j) + \" epochs, \" + 'lambda =%.5f' % lamb  + ' gamma =%.5f' % gamma)\n",
    "    plt.legend()\n",
    "    plt.show()"
   ]
  },
  {
   "cell_type": "code",
   "execution_count": 9,
   "metadata": {},
   "outputs": [],
   "source": [
    "train_loss_samples = loss_samples(k, 'train')\n",
    "test_loss_samples = loss_samples(k, 'test')\n",
    "prime_train_loss_samples = prime_loss_samples(k, 'train')\n",
    "prime_test_loss_samples = prime_loss_samples(k, 'test')"
   ]
  },
  {
   "cell_type": "markdown",
   "metadata": {},
   "source": [
    "## SGD"
   ]
  },
  {
   "cell_type": "code",
   "execution_count": 15,
   "metadata": {},
   "outputs": [],
   "source": [
    "def sgd(lamb=1e28, #hyperparam\n",
    "        gamma=1e-3, #step size\n",
    "        save_checkpoints=False): #save checkpoints\n",
    "    \n",
    "    optim = SGD(model.parameters(), lr=gamma)\n",
    "    for j in range(EPOCHS):\n",
    "        \n",
    "        train_losses = []\n",
    "        train_recalls = []\n",
    "        train_recall_outputs = [] \n",
    "\n",
    "        test_losses = []\n",
    "        test_recalls = []\n",
    "        test_recall_outputs = []\n",
    "\n",
    "        new_outputs = []\n",
    "\n",
    "        train_correct = 0\n",
    "        test_correct = 0\n",
    "        \n",
    "        for i, (aptamer, peptide, (apt_prime, pep_prime), indicator) in enumerate(tqdm.tqdm(train_ds)):\n",
    "            if i == 0:\n",
    "                continue\n",
    "            model.train()\n",
    "            optim.zero_grad() \n",
    "            x, y = convert(aptamer, peptide) #sample x,y from S_train\n",
    "            out = update(x, y) #get S_train output/score\n",
    "            log_out = torch.log(out) \n",
    "            \n",
    "            train_score = out.cpu().detach().numpy().flatten()[0] \n",
    "            if train_score > 0.6:\n",
    "                train_correct += 1 \n",
    "            train_recall_outputs.append(train_score) \n",
    "\n",
    "            optim.zero_grad() \n",
    "            y_pmf = get_y_pmf(pep_prime)\n",
    "            x_prime, y_prime = convert(apt_prime, pep_prime) #sample x', y' from S_prime_train\n",
    "            out_prime = update(x_prime, y_prime) #get score from S_prime_train\n",
    "            if indicator == 0:\n",
    "                factor = (2*m*get_x_pmf()*y_pmf)/(1+m*get_x_pmf()*y_pmf)\n",
    "            else:\n",
    "                factor = 2\n",
    "            out_prime = out_prime*factor #adjust for IS\n",
    "            print(\"Obj first part: \", out_prime.cpu().detach().numpy().flatten()[0]*lamb*indicator)\n",
    "            print(\"Obj second part: \", log_out.cpu().detach().numpy().flatten()[0])\n",
    "            # Retain graph retains the graph for further operations\n",
    "            (lamb*indicator*out_prime - log_out).backward(retain_graph=True) \n",
    "            optim.step()\n",
    "\n",
    "            with torch.no_grad():\n",
    "                model.eval()\n",
    "            \n",
    "            x_test, y_test = convert(S_test[i%(n-m)][0], S_test[i%(n-m)][1]) #sample x,y from test set\n",
    "            test_score = model(x_test, y_test).cpu().detach().numpy().flatten()[0]\n",
    "            test_recall_outputs.append(test_score) \n",
    "            if test_score > 0.6:\n",
    "                test_correct += 1 \n",
    "\n",
    "            #generate 10 unseen examples from S_new as compared 1 example from S_train/S_test for cdfs\n",
    "            for x, y in S_new[10*i:10*(i+1)]:\n",
    "                x_new, y_new = convert(x, y) #generate unseen x'' and y'' from S_new\n",
    "                new_score = model(x_new, y_new).cpu().detach().numpy().flatten()[0] #get unknown score\n",
    "                new_outputs.append(new_score)\n",
    "\n",
    "            if i % 100 == 0:\n",
    "                train_loss = lamb*get_out_prime(\"train\") - get_log_out('train') #training loss\n",
    "                print(\"Train loss first part: \", lamb*get_out_prime(\"train\"))\n",
    "                print(\"Train loss second part: \", get_log_out('train'))\n",
    "                test_loss = (m/(n-m))*lamb*get_out_prime(\"test\") - get_log_out('test') #test loss\n",
    "                print(\"Test loss first part: \", lamb*get_out_prime(\"test\"))\n",
    "                print(\"Test loss second part: \", get_log_out('test'))\n",
    "                train_losses.append(train_loss)\n",
    "                test_losses.append(test_loss)\n",
    "\n",
    "                train_recall = 100*train_correct/i #training recall\n",
    "                train_recalls.append(train_recall) \n",
    "                test_recall = 100*test_correct/i #test recall\n",
    "                test_recalls.append(test_recall)\n",
    "                if i > 1000:\n",
    "                    train_score = np.asarray(new_outputs[-10000:] + train_recall_outputs[-1000:]) \n",
    "                    test_score = np.asarray(new_outputs[-10000:] + test_recall_outputs[-1000:])\n",
    "                else:\n",
    "                    train_score = np.asarray(new_outputs + train_recall_outputs) #combine train and unknown scores\n",
    "                    test_score = np.asarray(new_outputs + test_recall_outputs) #combibne test and unknown scores\n",
    "                train_cdf = np.cumsum(train_score)/np.sum(train_score) #train cdf\n",
    "                test_cdf = np.cumsum(test_score)/np.sum(test_score) #test cdf\n",
    "\n",
    "\n",
    "            if i % 500 == 0:\n",
    "                plot_recall(train_recalls, test_recalls, i, j, lamb, gamma)\n",
    "                plot_loss(train_losses, test_losses, i, j, lamb, gamma)\n",
    "                plot_cdf(train_cdf, test_cdf, i, j, lamb, gamma)\n",
    "                print(\"New score: \", np.average(new_outputs[-50:]))\n",
    "                print(\"Train score: \", np.average(train_score[-50:]))\n",
    "                print(\"Test score: \", np.average(test_score[-50:]))\n",
    "        # Save after every epoch\n",
    "        if save_checkpoints:\n",
    "            torch.save({'epoch': j,'model_state_dict': model.state_dict(), 'optimizer_state_dict': optimizer.state_dict()}, '../models/model_checkpoints/mle_model.pth')\n",
    "            "
   ]
  },
  {
   "cell_type": "markdown",
   "metadata": {},
   "source": [
    "## Hyperparameter tuning"
   ]
  },
  {
   "cell_type": "code",
   "execution_count": 16,
   "metadata": {},
   "outputs": [],
   "source": [
    "# Hyperparameter search\n",
    "gammas = [1e-3, 1e-2]\n",
    "lambdas = [10, 5, 2]"
   ]
  },
  {
   "cell_type": "code",
   "execution_count": null,
   "metadata": {},
   "outputs": [
    {
     "name": "stderr",
     "output_type": "stream",
     "text": [
      "\n",
      "\n",
      "  0%|          | 0/473047 [00:00<?, ?it/s]\u001b[A\u001b[A"
     ]
    },
    {
     "name": "stdout",
     "output_type": "stream",
     "text": [
      "Labmda: 10 Gamma: 0.001\n",
      "('Obj first part: ', 10.054479837417603)\n",
      "('Obj second part: ', -0.7105208)\n",
      "('Obj first part: ', 10.045503377914429)\n",
      "('Obj second part: ', -0.6949889)\n",
      "('Obj first part: ', 9.865582585334778)\n",
      "('Obj second part: ', -0.70078313)\n"
     ]
    },
    {
     "name": "stderr",
     "output_type": "stream",
     "text": [
      "\n",
      "\n",
      "  0%|          | 4/473047 [00:00<3:42:33, 35.42it/s]\u001b[A\u001b[A\n",
      "\n",
      "  0%|          | 7/473047 [00:00<4:05:28, 32.12it/s]\u001b[A\u001b[A"
     ]
    },
    {
     "name": "stdout",
     "output_type": "stream",
     "text": [
      "('Obj first part: ', 0.0)\n",
      "('Obj second part: ', -0.71837837)\n",
      "('Obj first part: ', 9.676278829574585)\n",
      "('Obj second part: ', -0.7193904)\n",
      "('Obj first part: ', 9.43494737148285)\n",
      "('Obj second part: ', -0.7258544)\n",
      "('Obj first part: ', 0.0)\n",
      "('Obj second part: ', -0.72641635)\n",
      "('Obj first part: ', 0.0)\n",
      "('Obj second part: ', -0.72323996)\n",
      "('Obj first part: ', 9.625979661941528)\n",
      "('Obj second part: ', -0.7186603)\n"
     ]
    },
    {
     "name": "stderr",
     "output_type": "stream",
     "text": [
      "\n",
      "\n",
      "  0%|          | 10/473047 [00:00<4:22:12, 30.07it/s]\u001b[A\u001b[A\n",
      "\n",
      "  0%|          | 13/473047 [00:00<4:33:10, 28.86it/s]\u001b[A\u001b[A"
     ]
    },
    {
     "name": "stdout",
     "output_type": "stream",
     "text": [
      "('Obj first part: ', 9.662039875984192)\n",
      "('Obj second part: ', -0.7356536)\n",
      "('Obj first part: ', 0.0)\n",
      "('Obj second part: ', -0.7355859)\n",
      "('Obj first part: ', 9.389182925224304)\n",
      "('Obj second part: ', -0.75260985)\n",
      "('Obj first part: ', 0.0)\n",
      "('Obj second part: ', -0.73829466)\n",
      "('Obj first part: ', 9.378103017807007)\n",
      "('Obj second part: ', -0.76177084)\n",
      "('Obj first part: ', 0.0)\n",
      "('Obj second part: ', -0.76876014)\n"
     ]
    },
    {
     "name": "stderr",
     "output_type": "stream",
     "text": [
      "\n",
      "\n",
      "  0%|          | 16/473047 [00:00<4:42:56, 27.86it/s]\u001b[A\u001b[A\n",
      "\n",
      "  0%|          | 19/473047 [00:00<4:47:55, 27.38it/s]\u001b[A\u001b[A"
     ]
    },
    {
     "name": "stdout",
     "output_type": "stream",
     "text": [
      "('Obj first part: ', 0.0)\n",
      "('Obj second part: ', -0.75802267)\n",
      "('Obj first part: ', 0.0)\n",
      "('Obj second part: ', -0.7412693)\n",
      "('Obj first part: ', 9.377570152282715)\n",
      "('Obj second part: ', -0.74571806)\n",
      "('Obj first part: ', 9.251853227615356)\n",
      "('Obj second part: ', -0.7696955)\n",
      "('Obj first part: ', 9.290438294410706)\n",
      "('Obj second part: ', -0.7972008)\n",
      "('Obj first part: ', 9.024861454963684)\n",
      "('Obj second part: ', -0.8011972)\n"
     ]
    },
    {
     "name": "stderr",
     "output_type": "stream",
     "text": [
      "\n",
      "\n",
      "  0%|          | 22/473047 [00:00<4:51:07, 27.08it/s]\u001b[A\u001b[A\n",
      "\n",
      "  0%|          | 25/473047 [00:00<4:53:09, 26.89it/s]\u001b[A\u001b[A"
     ]
    },
    {
     "name": "stdout",
     "output_type": "stream",
     "text": [
      "('Obj first part: ', 8.863983154296875)\n",
      "('Obj second part: ', -0.78024966)\n",
      "('Obj first part: ', 0.0)\n",
      "('Obj second part: ', -0.85086477)\n",
      "('Obj first part: ', 0.0)\n",
      "('Obj second part: ', -0.81007385)\n",
      "('Obj first part: ', 8.761160373687744)\n",
      "('Obj second part: ', -0.83473784)\n",
      "('Obj first part: ', 8.604588508605957)\n",
      "('Obj second part: ', -0.8484068)\n",
      "('Obj first part: ', 0.0)\n",
      "('Obj second part: ', -0.8581687)\n"
     ]
    },
    {
     "name": "stderr",
     "output_type": "stream",
     "text": [
      "\n",
      "\n",
      "  0%|          | 28/473047 [00:01<4:54:43, 26.75it/s]\u001b[A\u001b[A\n",
      "\n",
      "  0%|          | 31/473047 [00:01<4:55:01, 26.72it/s]\u001b[A\u001b[A"
     ]
    },
    {
     "name": "stdout",
     "output_type": "stream",
     "text": [
      "('Obj first part: ', 0.0)\n",
      "('Obj second part: ', -0.8479586)\n",
      "('Obj first part: ', 0.0)\n",
      "('Obj second part: ', -0.8571474)\n",
      "('Obj first part: ', 8.344258069992065)\n",
      "('Obj second part: ', -0.85655975)\n",
      "('Obj first part: ', 8.12105417251587)\n",
      "('Obj second part: ', -0.905496)\n",
      "('Obj first part: ', 7.708882093429565)\n",
      "('Obj second part: ', -0.939525)\n",
      "('Obj first part: ', 7.669330835342407)\n",
      "('Obj second part: ', -0.95094883)\n"
     ]
    },
    {
     "name": "stderr",
     "output_type": "stream",
     "text": [
      "\n",
      "\n",
      "  0%|          | 34/473047 [00:01<4:55:56, 26.64it/s]\u001b[A\u001b[A\n",
      "\n",
      "  0%|          | 37/473047 [00:01<4:58:25, 26.42it/s]\u001b[A\u001b[A"
     ]
    },
    {
     "name": "stdout",
     "output_type": "stream",
     "text": [
      "('Obj first part: ', 7.155939936637878)\n",
      "('Obj second part: ', -1.0034387)\n",
      "('Obj first part: ', 6.706050634384155)\n",
      "('Obj second part: ', -1.0391457)\n",
      "('Obj first part: ', 0.0)\n",
      "('Obj second part: ', -1.1185737)\n",
      "('Obj first part: ', 6.566362977027893)\n",
      "('Obj second part: ', -1.1324456)\n",
      "('Obj first part: ', 0.0)\n",
      "('Obj second part: ', -1.151177)\n",
      "('Obj first part: ', 0.0)\n",
      "('Obj second part: ', -1.1811103)\n"
     ]
    },
    {
     "name": "stderr",
     "output_type": "stream",
     "text": [
      "\n",
      "\n",
      "  0%|          | 40/473047 [00:01<5:04:26, 25.89it/s]\u001b[A\u001b[A\n",
      "\n",
      "  0%|          | 43/473047 [00:01<5:08:59, 25.51it/s]\u001b[A\u001b[A"
     ]
    },
    {
     "name": "stdout",
     "output_type": "stream",
     "text": [
      "('Obj first part: ', 6.08109712600708)\n",
      "('Obj second part: ', -1.1880587)\n",
      "('Obj first part: ', 0.0)\n",
      "('Obj second part: ', -1.2632314)\n",
      "('Obj first part: ', 0.0)\n",
      "('Obj second part: ', -1.2362341)\n",
      "('Obj first part: ', 6.06456995010376)\n",
      "('Obj second part: ', -1.2346311)\n",
      "('Obj first part: ', 5.6726473569869995)\n",
      "('Obj second part: ', -1.2660512)\n"
     ]
    },
    {
     "name": "stderr",
     "output_type": "stream",
     "text": [
      "\n",
      "\n",
      "  0%|          | 46/473047 [00:01<5:13:26, 25.15it/s]\u001b[A\u001b[A\n",
      "\n",
      "  0%|          | 49/473047 [00:01<5:15:25, 24.99it/s]\u001b[A\u001b[A"
     ]
    },
    {
     "name": "stdout",
     "output_type": "stream",
     "text": [
      "('Obj first part: ', 4.840910732746124)\n",
      "('Obj second part: ', -1.418994)\n",
      "('Obj first part: ', 0.0)\n",
      "('Obj second part: ', -1.5034499)\n",
      "('Obj first part: ', 4.676412045955658)\n",
      "('Obj second part: ', -1.506282)\n",
      "('Obj first part: ', 4.00271862745285)\n",
      "('Obj second part: ', -1.5883733)\n",
      "('Obj first part: ', 3.5228919982910156)\n",
      "('Obj second part: ', -1.7480375)\n"
     ]
    },
    {
     "name": "stderr",
     "output_type": "stream",
     "text": [
      "\n",
      "\n",
      "  0%|          | 52/473047 [00:01<5:18:13, 24.77it/s]\u001b[A\u001b[A\n",
      "\n",
      "  0%|          | 55/473047 [00:02<5:18:15, 24.77it/s]\u001b[A\u001b[A"
     ]
    },
    {
     "name": "stdout",
     "output_type": "stream",
     "text": [
      "('Obj first part: ', 0.0)\n",
      "('Obj second part: ', -1.8547063)\n",
      "('Obj first part: ', 3.3544430136680603)\n",
      "('Obj second part: ', -1.7851756)\n",
      "('Obj first part: ', 2.863645553588867)\n",
      "('Obj second part: ', -1.9486771)\n",
      "('Obj first part: ', 2.5780320167541504)\n",
      "('Obj second part: ', -2.0004702)\n",
      "('Obj first part: ', 0.0)\n",
      "('Obj second part: ', -2.0911741)\n"
     ]
    },
    {
     "name": "stderr",
     "output_type": "stream",
     "text": [
      "\n",
      "\n",
      "  0%|          | 58/473047 [00:02<5:14:31, 25.06it/s]\u001b[A\u001b[A"
     ]
    },
    {
     "name": "stdout",
     "output_type": "stream",
     "text": [
      "('Obj first part: ', 0.0)\n",
      "('Obj second part: ', -2.0346897)\n",
      "('Obj first part: ', 2.6847809553146362)\n",
      "('Obj second part: ', -2.0046072)\n",
      "('Obj first part: ', 0.0)\n",
      "('Obj second part: ', -2.0901852)\n",
      "('Obj first part: ', 0.0)\n",
      "('Obj second part: ', -2.0103068)\n",
      "('Obj first part: ', 0.0)\n",
      "('Obj second part: ', -1.9724766)\n",
      "('Obj first part: ', 2.9421892762184143)\n",
      "('Obj second part: ', -1.8752763)\n"
     ]
    },
    {
     "name": "stderr",
     "output_type": "stream",
     "text": [
      "\n",
      "\n",
      "  0%|          | 61/473047 [00:02<5:09:37, 25.46it/s]\u001b[A\u001b[A\n",
      "\n",
      "  0%|          | 64/473047 [00:02<5:06:29, 25.72it/s]\u001b[A\u001b[A"
     ]
    },
    {
     "name": "stdout",
     "output_type": "stream",
     "text": [
      "('Obj first part: ', 2.556500732898712)\n",
      "('Obj second part: ', -1.9992254)\n",
      "('Obj first part: ', 0.0)\n",
      "('Obj second part: ', -2.1628911)\n",
      "('Obj first part: ', 0.0)\n",
      "('Obj second part: ', -2.0781865)\n",
      "('Obj first part: ', 0.0)\n",
      "('Obj second part: ', -2.053343)\n",
      "('Obj first part: ', 2.8653699159622192)\n",
      "('Obj second part: ', -1.9691292)\n",
      "('Obj first part: ', 0.0)\n",
      "('Obj second part: ', -2.0693038)\n"
     ]
    },
    {
     "name": "stderr",
     "output_type": "stream",
     "text": [
      "\n",
      "\n",
      "  0%|          | 67/473047 [00:02<5:05:47, 25.78it/s]\u001b[A\u001b[A\n",
      "\n",
      "  0%|          | 70/473047 [00:02<5:06:59, 25.68it/s]\u001b[A\u001b[A"
     ]
    },
    {
     "name": "stdout",
     "output_type": "stream",
     "text": [
      "('Obj first part: ', 2.6428446173667908)\n",
      "('Obj second part: ', -1.9542034)\n",
      "('Obj first part: ', 0.0)\n",
      "('Obj second part: ', -2.1344302)\n",
      "('Obj first part: ', 0.0)\n",
      "('Obj second part: ', -2.030655)\n",
      "('Obj first part: ', 2.717140316963196)\n",
      "('Obj second part: ', -1.9718394)\n",
      "('Obj first part: ', 0.0)\n",
      "('Obj second part: ', -2.0836105)\n",
      "('Obj first part: ', 0.0)\n",
      "('Obj second part: ', -1.9652349)\n"
     ]
    },
    {
     "name": "stderr",
     "output_type": "stream",
     "text": [
      "\n",
      "\n",
      "  0%|          | 73/473047 [00:02<5:10:59, 25.35it/s]\u001b[A\u001b[A\n",
      "\n",
      "  0%|          | 76/473047 [00:02<5:13:25, 25.15it/s]\u001b[A\u001b[A"
     ]
    },
    {
     "name": "stdout",
     "output_type": "stream",
     "text": [
      "('Obj first part: ', 0.0)\n",
      "('Obj second part: ', -1.9107902)\n",
      "('Obj first part: ', 3.094763457775116)\n",
      "('Obj second part: ', -1.8640578)\n",
      "('Obj first part: ', 2.4389171600341797)\n",
      "('Obj second part: ', -1.9795059)\n",
      "('Obj first part: ', 0.0)\n",
      "('Obj second part: ', -2.134073)\n",
      "('Obj first part: ', 0.0)\n",
      "('Obj second part: ', -1.9902678)\n",
      "('Obj first part: ', 2.79532253742218)\n",
      "('Obj second part: ', -1.9776795)\n"
     ]
    },
    {
     "name": "stderr",
     "output_type": "stream",
     "text": [
      "\n",
      "\n",
      "  0%|          | 79/473047 [00:03<5:14:08, 25.09it/s]\u001b[A\u001b[A\n",
      "\n",
      "  0%|          | 82/473047 [00:03<5:13:16, 25.16it/s]\u001b[A\u001b[A"
     ]
    },
    {
     "name": "stdout",
     "output_type": "stream",
     "text": [
      "('Obj first part: ', 2.5129401683807373)\n",
      "('Obj second part: ', -2.13496)\n",
      "('Obj first part: ', 2.214980274438858)\n",
      "('Obj second part: ', -2.2566178)\n",
      "('Obj first part: ', 1.8820324540138245)\n",
      "('Obj second part: ', -2.302108)\n",
      "('Obj first part: ', 1.9318704307079315)\n",
      "('Obj second part: ', -2.3570886)\n",
      "('Obj first part: ', 1.6213105618953705)\n",
      "('Obj second part: ', -2.4965582)\n",
      "('Obj first part: ', 0.0)\n",
      "('Obj second part: ', -2.5224223)\n"
     ]
    },
    {
     "name": "stderr",
     "output_type": "stream",
     "text": [
      "\n",
      "\n",
      "  0%|          | 85/473047 [00:03<5:14:14, 25.09it/s]\u001b[A\u001b[A\n",
      "\n",
      "  0%|          | 88/473047 [00:03<5:14:31, 25.06it/s]\u001b[A\u001b[A"
     ]
    },
    {
     "name": "stdout",
     "output_type": "stream",
     "text": [
      "('Obj first part: ', 0.0)\n",
      "('Obj second part: ', -2.4432878)\n",
      "('Obj first part: ', 1.9462808966636658)\n",
      "('Obj second part: ', -2.2108817)\n",
      "('Obj first part: ', 0.0)\n",
      "('Obj second part: ', -2.4451811)\n",
      "('Obj first part: ', 1.862533837556839)\n",
      "('Obj second part: ', -2.296044)\n",
      "('Obj first part: ', 0.0)\n",
      "('Obj second part: ', -2.42928)\n",
      "('Obj first part: ', 2.0432451367378235)\n",
      "('Obj second part: ', -2.3029523)\n"
     ]
    },
    {
     "name": "stderr",
     "output_type": "stream",
     "text": [
      "\n",
      "\n",
      "  0%|          | 91/473047 [00:03<5:15:14, 25.01it/s]\u001b[A\u001b[A\n",
      "\n",
      "  0%|          | 94/473047 [00:03<5:14:30, 25.06it/s]\u001b[A\u001b[A"
     ]
    },
    {
     "name": "stdout",
     "output_type": "stream",
     "text": [
      "('Obj first part: ', 0.0)\n",
      "('Obj second part: ', -2.42363)\n",
      "('Obj first part: ', 1.8734924495220184)\n",
      "('Obj second part: ', -2.3462198)\n",
      "('Obj first part: ', 1.7704454064369202)\n",
      "('Obj second part: ', -2.3553708)\n",
      "('Obj first part: ', 1.6112785041332245)\n",
      "('Obj second part: ', -2.4584248)\n",
      "('Obj first part: ', 0.0)\n",
      "('Obj second part: ', -2.5896)\n",
      "('Obj first part: ', 0.0)\n",
      "('Obj second part: ', -2.4018443)\n"
     ]
    },
    {
     "name": "stderr",
     "output_type": "stream",
     "text": [
      "\n",
      "\n",
      "  0%|          | 97/473047 [00:03<5:13:56, 25.11it/s]\u001b[A\u001b[A\n",
      "\n",
      "  0%|          | 100/473047 [00:03<5:13:57, 25.11it/s]\u001b[A\u001b[A"
     ]
    },
    {
     "name": "stdout",
     "output_type": "stream",
     "text": [
      "('Obj first part: ', 0.0)\n",
      "('Obj second part: ', -2.25392)\n",
      "('Obj first part: ', 0.0)\n",
      "('Obj second part: ', -2.2968163)\n",
      "('Obj first part: ', 2.2626179456710815)\n",
      "('Obj second part: ', -2.158776)\n",
      "('Obj first part: ', 1.889651119709015)\n",
      "('Obj second part: ', -2.3025062)\n"
     ]
    },
    {
     "name": "stderr",
     "output_type": "stream",
     "text": [
      "\n",
      "\n",
      "  0%|          | 100/473047 [00:19<5:13:57, 25.11it/s]\u001b[A\u001b[A"
     ]
    },
    {
     "name": "stdout",
     "output_type": "stream",
     "text": [
      "('Train loss first part: ', 0.961210255086422)\n",
      "('Train loss second part: ', -2.3478177)\n",
      "('Test loss first part: ', 0.9428394177854061)\n"
     ]
    },
    {
     "name": "stderr",
     "output_type": "stream",
     "text": [
      "\n",
      "\n",
      "  0%|          | 101/473047 [01:07<2493:51:00, 18.98s/it]\u001b[A\u001b[A\n",
      "\n",
      "  0%|          | 104/473047 [01:07<1747:11:44, 13.30s/it]\u001b[A\u001b[A"
     ]
    },
    {
     "name": "stdout",
     "output_type": "stream",
     "text": [
      "('Test loss second part: ', -2.3483214)\n",
      "('Obj first part: ', 1.7685320973396301)\n",
      "('Obj second part: ', -2.461628)\n",
      "('Obj first part: ', 1.773388683795929)\n",
      "('Obj second part: ', -2.4607556)\n",
      "('Obj first part: ', 0.0)\n",
      "('Obj second part: ', -2.4236546)\n",
      "('Obj first part: ', 1.6669991612434387)\n",
      "('Obj second part: ', -2.424005)\n",
      "('Obj first part: ', 0.0)\n",
      "('Obj second part: ', -2.4893284)\n",
      "('Obj first part: ', 1.963181346654892)\n",
      "('Obj second part: ', -2.3474295)\n"
     ]
    },
    {
     "name": "stderr",
     "output_type": "stream",
     "text": [
      "\n",
      "\n",
      "  0%|          | 107/473047 [01:07<1224:33:47,  9.32s/it]\u001b[A\u001b[A\n",
      "\n",
      "  0%|          | 110/473047 [01:07<858:41:50,  6.54s/it] \u001b[A\u001b[A"
     ]
    },
    {
     "name": "stdout",
     "output_type": "stream",
     "text": [
      "('Obj first part: ', 0.0)\n",
      "('Obj second part: ', -2.3919063)\n",
      "('Obj first part: ', 1.8877871334552765)\n",
      "('Obj second part: ', -2.3156414)\n",
      "('Obj first part: ', 0.0)\n",
      "('Obj second part: ', -2.4043505)\n",
      "('Obj first part: ', 0.0)\n",
      "('Obj second part: ', -2.434874)\n",
      "('Obj first part: ', 0.0)\n",
      "('Obj second part: ', -2.1885996)\n",
      "('Obj first part: ', 2.147519439458847)\n",
      "('Obj second part: ', -2.1779046)\n"
     ]
    },
    {
     "name": "stderr",
     "output_type": "stream",
     "text": [
      "\n",
      "\n",
      "  0%|          | 113/473047 [01:07<602:34:25,  4.59s/it]\u001b[A\u001b[A\n",
      "\n",
      "  0%|          | 116/473047 [01:07<423:16:50,  3.22s/it]\u001b[A\u001b[A"
     ]
    },
    {
     "name": "stdout",
     "output_type": "stream",
     "text": [
      "('Obj first part: ', 2.0351694524288177)\n",
      "('Obj second part: ', -2.2085323)\n",
      "('Obj first part: ', 1.87644824385643)\n",
      "('Obj second part: ', -2.4333363)\n",
      "('Obj first part: ', 0.0)\n",
      "('Obj second part: ', -2.5122085)\n",
      "('Obj first part: ', 1.982005387544632)\n",
      "('Obj second part: ', -2.3694334)\n",
      "('Obj first part: ', 0.0)\n",
      "('Obj second part: ', -2.5157664)\n",
      "('Obj first part: ', 0.0)\n",
      "('Obj second part: ', -2.32234)\n"
     ]
    },
    {
     "name": "stderr",
     "output_type": "stream",
     "text": [
      "\n",
      "\n",
      "  0%|          | 119/473047 [01:07<297:47:22,  2.27s/it]\u001b[A\u001b[A\n",
      "\n",
      "  0%|          | 122/473047 [01:07<209:55:36,  1.60s/it]\u001b[A\u001b[A"
     ]
    },
    {
     "name": "stdout",
     "output_type": "stream",
     "text": [
      "('Obj first part: ', 2.056798040866852)\n",
      "('Obj second part: ', -2.239954)\n",
      "('Obj first part: ', 0.0)\n",
      "('Obj second part: ', -2.3619)\n",
      "('Obj first part: ', 0.0)\n",
      "('Obj second part: ', -2.3073382)\n",
      "('Obj first part: ', 2.1680545806884766)\n",
      "('Obj second part: ', -2.1915178)\n",
      "('Obj first part: ', 2.1261239051818848)\n",
      "('Obj second part: ', -2.3148284)\n",
      "('Obj first part: ', 0.0)\n",
      "('Obj second part: ', -2.4169002)\n"
     ]
    },
    {
     "name": "stderr",
     "output_type": "stream",
     "text": [
      "\n",
      "\n",
      "  0%|          | 125/473047 [01:07<148:26:07,  1.13s/it]\u001b[A\u001b[A\n",
      "\n",
      "  0%|          | 128/473047 [01:08<105:24:24,  1.25it/s]\u001b[A\u001b[A"
     ]
    },
    {
     "name": "stdout",
     "output_type": "stream",
     "text": [
      "('Obj first part: ', 0.0)\n",
      "('Obj second part: ', -2.279714)\n",
      "('Obj first part: ', 2.1652209758758545)\n",
      "('Obj second part: ', -2.1670275)\n",
      "('Obj first part: ', 2.034509629011154)\n",
      "('Obj second part: ', -2.26054)\n",
      "('Obj first part: ', 0.0)\n",
      "('Obj second part: ', -2.3302946)\n",
      "('Obj first part: ', 1.967899352312088)\n",
      "('Obj second part: ', -2.23081)\n",
      "('Obj first part: ', 1.7567668855190277)\n",
      "('Obj second part: ', -2.3216624)\n"
     ]
    },
    {
     "name": "stderr",
     "output_type": "stream",
     "text": [
      "\n",
      "\n",
      "  0%|          | 131/473047 [01:08<75:16:38,  1.75it/s] \u001b[A\u001b[A\n",
      "\n",
      "  0%|          | 134/473047 [01:08<54:10:31,  2.42it/s]\u001b[A\u001b[A"
     ]
    },
    {
     "name": "stdout",
     "output_type": "stream",
     "text": [
      "('Obj first part: ', 1.7011718451976776)\n",
      "('Obj second part: ', -2.292664)\n",
      "('Obj first part: ', 1.4333492517471313)\n",
      "('Obj second part: ', -2.5299993)\n",
      "('Obj first part: ', 1.5876083076000214)\n",
      "('Obj second part: ', -2.5835023)\n",
      "('Obj first part: ', 0.0)\n",
      "('Obj second part: ', -2.6862419)\n",
      "('Obj first part: ', 0.0)\n",
      "('Obj second part: ', -2.5789886)\n",
      "('Obj first part: ', 1.675812005996704)\n",
      "('Obj second part: ', -2.440735)\n"
     ]
    },
    {
     "name": "stderr",
     "output_type": "stream",
     "text": [
      "\n",
      "\n",
      "  0%|          | 137/473047 [01:08<39:25:16,  3.33it/s]\u001b[A\u001b[A\n",
      "\n",
      "  0%|          | 140/473047 [01:08<29:05:44,  4.51it/s]\u001b[A\u001b[A"
     ]
    },
    {
     "name": "stdout",
     "output_type": "stream",
     "text": [
      "('Obj first part: ', 0.0)\n",
      "('Obj second part: ', -2.4549341)\n",
      "('Obj first part: ', 1.8983541429042816)\n",
      "('Obj second part: ', -2.4169545)\n",
      "('Obj first part: ', 1.5911708772182465)\n",
      "('Obj second part: ', -2.446133)\n",
      "('Obj first part: ', 0.0)\n",
      "('Obj second part: ', -2.645815)\n",
      "('Obj first part: ', 0.0)\n",
      "('Obj second part: ', -2.3804543)\n",
      "('Obj first part: ', 0.0)\n",
      "('Obj second part: ', -2.3593042)\n"
     ]
    },
    {
     "name": "stderr",
     "output_type": "stream",
     "text": [
      "\n",
      "\n",
      "  0%|          | 143/473047 [01:08<21:53:39,  6.00it/s]\u001b[A\u001b[A\n",
      "\n",
      "  0%|          | 146/473047 [01:08<16:48:40,  7.81it/s]\u001b[A\u001b[A"
     ]
    },
    {
     "name": "stdout",
     "output_type": "stream",
     "text": [
      "('Obj first part: ', 0.0)\n",
      "('Obj second part: ', -2.3522303)\n",
      "('Obj first part: ', 0.0)\n",
      "('Obj second part: ', -2.0698662)\n",
      "('Obj first part: ', 2.464718073606491)\n",
      "('Obj second part: ', -2.034004)\n",
      "('Obj first part: ', 2.053833305835724)\n",
      "('Obj second part: ', -2.1465888)\n",
      "('Obj first part: ', 1.935507208108902)\n",
      "('Obj second part: ', -2.2811913)\n",
      "('Obj first part: ', 0.0)\n",
      "('Obj second part: ', -2.3576264)\n"
     ]
    },
    {
     "name": "stderr",
     "output_type": "stream",
     "text": [
      "\n",
      "\n",
      "  0%|          | 149/473047 [01:08<13:17:58,  9.88it/s]\u001b[A\u001b[A\n",
      "\n",
      "  0%|          | 152/473047 [01:09<10:47:53, 12.16it/s]\u001b[A\u001b[A"
     ]
    },
    {
     "name": "stdout",
     "output_type": "stream",
     "text": [
      "('Obj first part: ', 2.0262224972248077)\n",
      "('Obj second part: ', -2.2553732)\n",
      "('Obj first part: ', 0.0)\n",
      "('Obj second part: ', -2.517916)\n",
      "('Obj first part: ', 0.0)\n",
      "('Obj second part: ', -2.2573075)\n",
      "('Obj first part: ', 0.0)\n",
      "('Obj second part: ', -2.071182)\n",
      "('Obj first part: ', 0.0)\n",
      "('Obj second part: ', -2.1203086)\n",
      "('Obj first part: ', 2.634555399417877)\n",
      "('Obj second part: ', -2.021886)\n"
     ]
    },
    {
     "name": "stderr",
     "output_type": "stream",
     "text": [
      "\n",
      "\n",
      "  0%|          | 155/473047 [01:09<9:04:49, 14.47it/s] \u001b[A\u001b[A\n",
      "\n",
      "  0%|          | 158/473047 [01:09<7:53:18, 16.65it/s]\u001b[A\u001b[A"
     ]
    },
    {
     "name": "stdout",
     "output_type": "stream",
     "text": [
      "('Obj first part: ', 0.0)\n",
      "('Obj second part: ', -2.2317538)\n",
      "('Obj first part: ', 0.0)\n",
      "('Obj second part: ', -2.0916646)\n",
      "('Obj first part: ', 0.0)\n",
      "('Obj second part: ', -1.9569459)\n",
      "('Obj first part: ', 2.434617280960083)\n",
      "('Obj second part: ', -1.920443)\n",
      "('Obj first part: ', 0.0)\n",
      "('Obj second part: ', -2.1016319)\n",
      "('Obj first part: ', 0.0)\n",
      "('Obj second part: ', -1.939132)\n"
     ]
    },
    {
     "name": "stderr",
     "output_type": "stream",
     "text": [
      "\n",
      "\n",
      "  0%|          | 161/473047 [01:09<7:00:56, 18.72it/s]\u001b[A\u001b[A\n",
      "\n",
      "  0%|          | 164/473047 [01:09<6:26:26, 20.39it/s]\u001b[A\u001b[A"
     ]
    },
    {
     "name": "stdout",
     "output_type": "stream",
     "text": [
      "('Obj first part: ', 0.0)\n",
      "('Obj second part: ', -1.8748517)\n",
      "('Obj first part: ', 0.0)\n",
      "('Obj second part: ', -1.8815669)\n",
      "('Obj first part: ', 0.0)\n",
      "('Obj second part: ', -1.8047215)\n",
      "('Obj first part: ', 3.4856081008911133)\n",
      "('Obj second part: ', -1.707067)\n",
      "('Obj first part: ', 0.0)\n",
      "('Obj second part: ', -1.9200557)\n",
      "('Obj first part: ', 3.335849344730377)\n",
      "('Obj second part: ', -1.6966953)\n"
     ]
    },
    {
     "name": "stderr",
     "output_type": "stream",
     "text": [
      "\n",
      "\n",
      "  0%|          | 167/473047 [01:09<5:59:44, 21.91it/s]\u001b[A\u001b[A\n",
      "\n",
      "  0%|          | 170/473047 [01:09<5:42:30, 23.01it/s]\u001b[A\u001b[A"
     ]
    },
    {
     "name": "stdout",
     "output_type": "stream",
     "text": [
      "('Obj first part: ', 2.804015874862671)\n",
      "('Obj second part: ', -1.9507636)\n",
      "('Obj first part: ', 0.0)\n",
      "('Obj second part: ', -2.024332)\n",
      "('Obj first part: ', 0.0)\n",
      "('Obj second part: ', -1.9618144)\n",
      "('Obj first part: ', 0.0)\n",
      "('Obj second part: ', -1.9733711)\n",
      "('Obj first part: ', 0.0)\n",
      "('Obj second part: ', -1.8876523)\n",
      "('Obj first part: ', 0.0)\n",
      "('Obj second part: ', -1.818233)\n"
     ]
    },
    {
     "name": "stderr",
     "output_type": "stream",
     "text": [
      "\n",
      "\n",
      "  0%|          | 173/473047 [01:09<5:29:37, 23.91it/s]\u001b[A\u001b[A\n",
      "\n",
      "  0%|          | 176/473047 [01:09<5:19:49, 24.64it/s]\u001b[A\u001b[A"
     ]
    },
    {
     "name": "stdout",
     "output_type": "stream",
     "text": [
      "('Obj first part: ', 0.0)\n",
      "('Obj second part: ', -1.7280501)\n",
      "('Obj first part: ', 3.3717599511146545)\n",
      "('Obj second part: ', -1.7724252)\n",
      "('Obj first part: ', 0.0)\n",
      "('Obj second part: ', -1.8052757)\n",
      "('Obj first part: ', 3.355763256549835)\n",
      "('Obj second part: ', -1.7231939)\n",
      "('Obj first part: ', 0.0)\n",
      "('Obj second part: ', -1.832674)\n",
      "('Obj first part: ', 2.9779979586601257)\n",
      "('Obj second part: ', -1.7570137)\n"
     ]
    },
    {
     "name": "stderr",
     "output_type": "stream",
     "text": [
      "\n",
      "\n",
      "  0%|          | 179/473047 [01:10<5:15:43, 24.96it/s]\u001b[A\u001b[A\n",
      "\n",
      "  0%|          | 182/473047 [01:10<5:08:59, 25.51it/s]\u001b[A\u001b[A"
     ]
    },
    {
     "name": "stdout",
     "output_type": "stream",
     "text": [
      "('Obj first part: ', 0.0)\n",
      "('Obj second part: ', -1.9001019)\n",
      "('Obj first part: ', 2.9300978779792786)\n",
      "('Obj second part: ', -1.8512193)\n",
      "('Obj first part: ', 0.0)\n",
      "('Obj second part: ', -2.024701)\n",
      "('Obj first part: ', 0.0)\n",
      "('Obj second part: ', -1.970696)\n",
      "('Obj first part: ', 0.0)\n",
      "('Obj second part: ', -1.826268)\n",
      "('Obj first part: ', 3.358190953731537)\n",
      "('Obj second part: ', -1.8423328)\n"
     ]
    },
    {
     "name": "stderr",
     "output_type": "stream",
     "text": [
      "\n",
      "\n",
      "  0%|          | 185/473047 [01:10<5:05:26, 25.80it/s]\u001b[A\u001b[A\n",
      "\n",
      "  0%|          | 188/473047 [01:10<5:04:05, 25.92it/s]\u001b[A\u001b[A"
     ]
    },
    {
     "name": "stdout",
     "output_type": "stream",
     "text": [
      "('Obj first part: ', 3.042800724506378)\n",
      "('Obj second part: ', -2.0938861)\n",
      "('Obj first part: ', 0.0)\n",
      "('Obj second part: ', -2.152796)\n",
      "('Obj first part: ', 0.0)\n",
      "('Obj second part: ', -2.0773234)\n",
      "('Obj first part: ', 2.866268754005432)\n",
      "('Obj second part: ', -2.0733614)\n",
      "('Obj first part: ', 0.0)\n",
      "('Obj second part: ', -2.047092)\n",
      "('Obj first part: ', 0.0)\n",
      "('Obj second part: ', -1.930507)\n"
     ]
    },
    {
     "name": "stderr",
     "output_type": "stream",
     "text": [
      "\n",
      "\n",
      "  0%|          | 191/473047 [01:10<5:01:50, 26.11it/s]\u001b[A\u001b[A\n",
      "\n",
      "  0%|          | 194/473047 [01:10<5:00:31, 26.22it/s]\u001b[A\u001b[A"
     ]
    },
    {
     "name": "stdout",
     "output_type": "stream",
     "text": [
      "('Obj first part: ', 0.0)\n",
      "('Obj second part: ', -1.9413027)\n",
      "('Obj first part: ', 0.0)\n",
      "('Obj second part: ', -1.9603053)\n",
      "('Obj first part: ', 0.0)\n",
      "('Obj second part: ', -1.7356343)\n",
      "('Obj first part: ', 0.0)\n",
      "('Obj second part: ', -1.7486111)\n",
      "('Obj first part: ', 0.0)\n",
      "('Obj second part: ', -1.7111328)\n",
      "('Obj first part: ', 3.834827244281769)\n",
      "('Obj second part: ', -1.7237704)\n"
     ]
    },
    {
     "name": "stderr",
     "output_type": "stream",
     "text": [
      "\n",
      "\n",
      "  0%|          | 197/473047 [01:10<5:00:04, 26.26it/s]\u001b[A\u001b[A\n",
      "\n",
      "  0%|          | 200/473047 [01:10<4:59:34, 26.31it/s]\u001b[A\u001b[A"
     ]
    },
    {
     "name": "stdout",
     "output_type": "stream",
     "text": [
      "('Obj first part: ', 3.1346851587295532)\n",
      "('Obj second part: ', -1.7590003)\n",
      "('Obj first part: ', 2.7116668224334717)\n",
      "('Obj second part: ', -1.8919615)\n",
      "('Obj first part: ', 2.453938126564026)\n",
      "('Obj second part: ', -1.9885131)\n",
      "('Obj first part: ', 0.0)\n",
      "('Obj second part: ', -2.1589777)\n"
     ]
    },
    {
     "name": "stderr",
     "output_type": "stream",
     "text": [
      "\n",
      "\n",
      "  0%|          | 200/473047 [01:29<4:59:34, 26.31it/s]\u001b[A\u001b[A"
     ]
    },
    {
     "name": "stdout",
     "output_type": "stream",
     "text": [
      "('Train loss first part: ', 1.258993350148201)\n",
      "('Train loss second part: ', -2.0710468)\n",
      "('Test loss first part: ', 1.2344767428338528)\n"
     ]
    },
    {
     "name": "stderr",
     "output_type": "stream",
     "text": [
      "\n",
      "\n",
      "  0%|          | 201/473047 [02:14<2505:12:59, 19.07s/it]\u001b[A\u001b[A\n",
      "\n",
      "  0%|          | 204/473047 [02:14<1755:07:47, 13.36s/it]\u001b[A\u001b[A"
     ]
    },
    {
     "name": "stdout",
     "output_type": "stream",
     "text": [
      "('Test loss second part: ', -2.0716634)\n",
      "('Obj first part: ', 0.0)\n",
      "('Obj second part: ', -2.0996244)\n",
      "('Obj first part: ', 2.799651622772217)\n",
      "('Obj second part: ', -2.0118265)\n",
      "('Obj first part: ', 2.2848212718963623)\n",
      "('Obj second part: ', -2.0604668)\n",
      "('Obj first part: ', 2.1761126816272736)\n",
      "('Obj second part: ', -2.2943532)\n",
      "('Obj first part: ', 1.8567274510860443)\n",
      "('Obj second part: ', -2.2895207)\n",
      "('Obj first part: ', 1.8191903829574585)\n",
      "('Obj second part: ', -2.3708458)\n"
     ]
    },
    {
     "name": "stderr",
     "output_type": "stream",
     "text": [
      "\n",
      "\n",
      "  0%|          | 207/473047 [02:14<1230:03:34,  9.37s/it]\u001b[A\u001b[A\n",
      "\n",
      "  0%|          | 210/473047 [02:14<862:30:37,  6.57s/it] \u001b[A\u001b[A"
     ]
    },
    {
     "name": "stdout",
     "output_type": "stream",
     "text": [
      "('Obj first part: ', 1.555192768573761)\n",
      "('Obj second part: ', -2.443202)\n",
      "('Obj first part: ', 0.0)\n",
      "('Obj second part: ', -2.4542325)\n",
      "('Obj first part: ', 1.4179085195064545)\n",
      "('Obj second part: ', -2.4348564)\n",
      "('Obj first part: ', 0.0)\n",
      "('Obj second part: ', -2.4724)\n",
      "('Obj first part: ', 0.0)\n",
      "('Obj second part: ', -2.3745518)\n",
      "('Obj first part: ', 1.8283790349960327)\n",
      "('Obj second part: ', -2.2864497)\n"
     ]
    },
    {
     "name": "stderr",
     "output_type": "stream",
     "text": [
      "\n",
      "\n",
      "  0%|          | 213/473047 [02:14<605:14:19,  4.61s/it]\u001b[A\u001b[A\n",
      "\n",
      "  0%|          | 216/473047 [02:14<425:10:17,  3.24s/it]\u001b[A\u001b[A"
     ]
    },
    {
     "name": "stdout",
     "output_type": "stream",
     "text": [
      "('Obj first part: ', 0.0)\n",
      "('Obj second part: ', -2.4408965)\n",
      "('Obj first part: ', 0.0)\n",
      "('Obj second part: ', -2.4048905)\n",
      "('Obj first part: ', 2.2180557250976562)\n",
      "('Obj second part: ', -2.2060435)\n",
      "('Obj first part: ', 1.8648764491081238)\n",
      "('Obj second part: ', -2.372012)\n",
      "('Obj first part: ', 1.6466645896434784)\n",
      "('Obj second part: ', -2.288233)\n",
      "('Obj first part: ', 0.0)\n",
      "('Obj second part: ', -2.3354812)\n"
     ]
    },
    {
     "name": "stderr",
     "output_type": "stream",
     "text": [
      "\n",
      "\n",
      "  0%|          | 219/473047 [02:14<299:06:37,  2.28s/it]\u001b[A\u001b[A\n",
      "\n",
      "  0%|          | 222/473047 [02:15<210:51:15,  1.61s/it]\u001b[A\u001b[A"
     ]
    },
    {
     "name": "stdout",
     "output_type": "stream",
     "text": [
      "('Obj first part: ', 0.0)\n",
      "('Obj second part: ', -2.341993)\n",
      "('Obj first part: ', 2.12537482380867)\n",
      "('Obj second part: ', -2.3270404)\n",
      "('Obj first part: ', 1.7566801607608795)\n",
      "('Obj second part: ', -2.4488716)\n",
      "('Obj first part: ', 1.872115582227707)\n",
      "('Obj second part: ', -2.4554548)\n",
      "('Obj first part: ', 0.0)\n",
      "('Obj second part: ', -2.5530577)\n",
      "('Obj first part: ', 1.6740062832832336)\n",
      "('Obj second part: ', -2.4628863)\n"
     ]
    },
    {
     "name": "stderr",
     "output_type": "stream",
     "text": [
      "\n",
      "\n",
      "  0%|          | 225/473047 [02:15<149:05:06,  1.14s/it]\u001b[A\u001b[A\n",
      "\n",
      "  0%|          | 228/473047 [02:15<105:50:15,  1.24it/s]\u001b[A\u001b[A"
     ]
    },
    {
     "name": "stdout",
     "output_type": "stream",
     "text": [
      "('Obj first part: ', 0.0)\n",
      "('Obj second part: ', -2.5973015)\n",
      "('Obj first part: ', 1.7645226418972015)\n",
      "('Obj second part: ', -2.2408152)\n",
      "('Obj first part: ', 0.0)\n",
      "('Obj second part: ', -2.5619593)\n",
      "('Obj first part: ', 0.0)\n",
      "('Obj second part: ', -2.2694716)\n",
      "('Obj first part: ', 2.0652975142002106)\n",
      "('Obj second part: ', -2.3505297)\n",
      "('Obj first part: ', 0.0)\n",
      "('Obj second part: ', -2.3918867)\n"
     ]
    },
    {
     "name": "stderr",
     "output_type": "stream",
     "text": [
      "\n",
      "\n",
      "  0%|          | 231/473047 [02:15<75:35:04,  1.74it/s] \u001b[A\u001b[A\n",
      "\n",
      "  0%|          | 234/473047 [02:15<54:23:22,  2.41it/s]\u001b[A\u001b[A"
     ]
    },
    {
     "name": "stdout",
     "output_type": "stream",
     "text": [
      "('Obj first part: ', 1.8618975579738617)\n",
      "('Obj second part: ', -2.1922452)\n",
      "('Obj first part: ', 1.7162182927131653)\n",
      "('Obj second part: ', -2.379462)\n",
      "('Obj first part: ', 0.0)\n",
      "('Obj second part: ', -2.3489335)\n",
      "('Obj first part: ', 0.0)\n",
      "('Obj second part: ', -2.301187)\n",
      "('Obj first part: ', 2.107398211956024)\n",
      "('Obj second part: ', -2.1986668)\n",
      "('Obj first part: ', 0.0)\n",
      "('Obj second part: ', -2.215998)\n"
     ]
    },
    {
     "name": "stderr",
     "output_type": "stream",
     "text": [
      "\n",
      "\n",
      "  0%|          | 237/473047 [02:15<39:35:49,  3.32it/s]\u001b[A\u001b[A\n",
      "\n",
      "  0%|          | 240/473047 [02:15<29:11:06,  4.50it/s]\u001b[A\u001b[A"
     ]
    },
    {
     "name": "stdout",
     "output_type": "stream",
     "text": [
      "('Obj first part: ', 2.0665623247623444)\n",
      "('Obj second part: ', -2.1515105)\n",
      "('Obj first part: ', 1.9785942137241364)\n",
      "('Obj second part: ', -2.371931)\n",
      "('Obj first part: ', 1.812615841627121)\n",
      "('Obj second part: ', -2.4331498)\n",
      "('Obj first part: ', 0.0)\n",
      "('Obj second part: ', -2.4873004)\n",
      "('Obj first part: ', 1.5257367491722107)\n",
      "('Obj second part: ', -2.381748)\n",
      "('Obj first part: ', 0.0)\n",
      "('Obj second part: ', -2.4380488)\n"
     ]
    },
    {
     "name": "stderr",
     "output_type": "stream",
     "text": [
      "\n",
      "\n",
      "  0%|          | 243/473047 [02:15<21:57:05,  5.98it/s]\u001b[A\u001b[A\n",
      "\n",
      "  0%|          | 246/473047 [02:16<16:50:42,  7.80it/s]\u001b[A\u001b[A"
     ]
    },
    {
     "name": "stdout",
     "output_type": "stream",
     "text": [
      "('Obj first part: ', 0.0)\n",
      "('Obj second part: ', -2.4720721)\n",
      "('Obj first part: ', 1.9392314553260803)\n",
      "('Obj second part: ', -2.2830272)\n",
      "('Obj first part: ', 0.0)\n",
      "('Obj second part: ', -2.2196436)\n",
      "('Obj first part: ', 0.0)\n",
      "('Obj second part: ', -2.3439798)\n",
      "('Obj first part: ', 2.1669234335422516)\n",
      "('Obj second part: ', -2.117401)\n",
      "('Obj first part: ', 0.0)\n",
      "('Obj second part: ', -2.2600055)\n"
     ]
    },
    {
     "name": "stderr",
     "output_type": "stream",
     "text": [
      "\n",
      "\n",
      "  0%|          | 249/473047 [02:16<13:17:07,  9.89it/s]\u001b[A\u001b[A\n",
      "\n",
      "  0%|          | 252/473047 [02:16<10:49:11, 12.14it/s]\u001b[A\u001b[A"
     ]
    },
    {
     "name": "stdout",
     "output_type": "stream",
     "text": [
      "('Obj first part: ', 0.0)\n",
      "('Obj second part: ', -2.1166065)\n",
      "('Obj first part: ', 0.0)\n",
      "('Obj second part: ', -2.1668942)\n",
      "('Obj first part: ', 2.448676973581314)\n",
      "('Obj second part: ', -2.0735848)\n",
      "('Obj first part: ', 0.0)\n",
      "('Obj second part: ', -2.1019278)\n",
      "('Obj first part: ', 0.0)\n",
      "('Obj second part: ', -2.1451905)\n",
      "('Obj first part: ', 2.558279037475586)\n",
      "('Obj second part: ', -1.9888625)\n"
     ]
    },
    {
     "name": "stderr",
     "output_type": "stream",
     "text": [
      "\n",
      "\n",
      "  0%|          | 255/473047 [02:16<9:05:54, 14.43it/s] \u001b[A\u001b[A\n",
      "\n",
      "  0%|          | 258/473047 [02:16<7:50:48, 16.74it/s]\u001b[A\u001b[A"
     ]
    },
    {
     "name": "stdout",
     "output_type": "stream",
     "text": [
      "('Obj first part: ', 0.0)\n",
      "('Obj second part: ', -2.113044)\n",
      "('Obj first part: ', 0.0)\n",
      "('Obj second part: ', -2.0109906)\n",
      "('Obj first part: ', 2.8309112787246704)\n",
      "('Obj second part: ', -2.0559425)\n",
      "('Obj first part: ', 2.3202629387378693)\n",
      "('Obj second part: ', -2.0006545)\n",
      "('Obj first part: ', 0.0)\n",
      "('Obj second part: ', -2.142457)\n",
      "('Obj first part: ', 0.0)\n",
      "('Obj second part: ', -2.1000595)\n"
     ]
    },
    {
     "name": "stderr",
     "output_type": "stream",
     "text": [
      "\n",
      "\n",
      "  0%|          | 261/473047 [02:16<6:58:34, 18.83it/s]\u001b[A\u001b[A\n",
      "\n",
      "  0%|          | 264/473047 [02:16<6:25:55, 20.42it/s]\u001b[A\u001b[A"
     ]
    },
    {
     "name": "stdout",
     "output_type": "stream",
     "text": [
      "('Obj first part: ', 2.2339102625846863)\n",
      "('Obj second part: ', -1.9770437)\n",
      "('Obj first part: ', 2.169458717107773)\n",
      "('Obj second part: ', -2.1062164)\n",
      "('Obj first part: ', 1.9737502932548523)\n",
      "('Obj second part: ', -2.242777)\n",
      "('Obj first part: ', 0.0)\n",
      "('Obj second part: ', -2.2841349)\n",
      "('Obj first part: ', 0.0)\n",
      "('Obj second part: ', -2.2584846)\n",
      "('Obj first part: ', 1.8828146159648895)\n",
      "('Obj second part: ', -2.143464)\n"
     ]
    },
    {
     "name": "stderr",
     "output_type": "stream",
     "text": [
      "\n",
      "\n",
      "  0%|          | 267/473047 [02:16<6:03:48, 21.66it/s]\u001b[A\u001b[A\n",
      "\n",
      "  0%|          | 270/473047 [02:16<5:46:58, 22.71it/s]\u001b[A\u001b[A"
     ]
    },
    {
     "name": "stdout",
     "output_type": "stream",
     "text": [
      "('Obj first part: ', 0.0)\n",
      "('Obj second part: ', -2.2215528)\n",
      "('Obj first part: ', 0.0)\n",
      "('Obj second part: ', -2.020594)\n",
      "('Obj first part: ', 0.0)\n",
      "('Obj second part: ', -2.1266592)\n",
      "('Obj first part: ', 0.0)\n",
      "('Obj second part: ', -2.1193166)\n",
      "('Obj first part: ', 0.0)\n",
      "('Obj second part: ', -1.9173987)\n",
      "('Obj first part: ', 0.0)\n",
      "('Obj second part: ', -1.873933)\n"
     ]
    },
    {
     "name": "stderr",
     "output_type": "stream",
     "text": [
      "\n",
      "\n",
      "  0%|          | 273/473047 [02:17<5:34:33, 23.55it/s]\u001b[A\u001b[A\n",
      "\n",
      "  0%|          | 276/473047 [02:17<5:27:19, 24.07it/s]\u001b[A\u001b[A"
     ]
    },
    {
     "name": "stdout",
     "output_type": "stream",
     "text": [
      "('Obj first part: ', 0.0)\n",
      "('Obj second part: ', -1.8417679)\n",
      "('Obj first part: ', 3.1326043605804443)\n",
      "('Obj second part: ', -1.7902249)\n",
      "('Obj first part: ', 3.1037038564682007)\n",
      "('Obj second part: ', -1.9440622)\n",
      "('Obj first part: ', 2.5571033358573914)\n",
      "('Obj second part: ', -2.0297408)\n",
      "('Obj first part: ', 2.3970089852809906)\n",
      "('Obj second part: ', -2.1569638)\n",
      "('Obj first part: ', 0.0)\n",
      "('Obj second part: ', -2.1624095)\n"
     ]
    },
    {
     "name": "stderr",
     "output_type": "stream",
     "text": [
      "\n",
      "\n",
      "  0%|          | 279/473047 [02:17<5:20:01, 24.62it/s]\u001b[A\u001b[A\n",
      "\n",
      "  0%|          | 282/473047 [02:17<5:15:59, 24.93it/s]\u001b[A\u001b[A"
     ]
    },
    {
     "name": "stdout",
     "output_type": "stream",
     "text": [
      "('Obj first part: ', 2.239573150873184)\n",
      "('Obj second part: ', -2.0926926)\n",
      "('Obj first part: ', 0.0)\n",
      "('Obj second part: ', -2.262229)\n",
      "('Obj first part: ', 1.9220896065235138)\n",
      "('Obj second part: ', -2.2308877)\n",
      "('Obj first part: ', 2.2455616295337677)\n",
      "('Obj second part: ', -2.2828994)\n",
      "('Obj first part: ', 0.0)\n",
      "('Obj second part: ', -2.480843)\n",
      "('Obj first part: ', 1.9939954578876495)\n",
      "('Obj second part: ', -2.1938362)\n"
     ]
    },
    {
     "name": "stderr",
     "output_type": "stream",
     "text": [
      "\n",
      "\n",
      "  0%|          | 285/473047 [02:17<5:13:49, 25.11it/s]\u001b[A\u001b[A\n",
      "\n",
      "  0%|          | 288/473047 [02:17<5:10:49, 25.35it/s]\u001b[A\u001b[A"
     ]
    },
    {
     "name": "stdout",
     "output_type": "stream",
     "text": [
      "('Obj first part: ', 0.0)\n",
      "('Obj second part: ', -2.4462261)\n",
      "('Obj first part: ', 0.0)\n",
      "('Obj second part: ', -2.2768328)\n",
      "('Obj first part: ', 2.153751701116562)\n",
      "('Obj second part: ', -2.1953704)\n",
      "('Obj first part: ', 1.8326011300086975)\n",
      "('Obj second part: ', -2.3039143)\n",
      "('Obj first part: ', 1.6807013750076294)\n",
      "('Obj second part: ', -2.3802118)\n",
      "('Obj first part: ', 1.7067334055900574)\n",
      "('Obj second part: ', -2.4861228)\n"
     ]
    },
    {
     "name": "stderr",
     "output_type": "stream",
     "text": [
      "\n",
      "\n",
      "  0%|          | 291/473047 [02:17<5:10:01, 25.41it/s]\u001b[A\u001b[A\n",
      "\n",
      "  0%|          | 294/473047 [02:17<5:09:09, 25.49it/s]\u001b[A\u001b[A"
     ]
    },
    {
     "name": "stdout",
     "output_type": "stream",
     "text": [
      "('Obj first part: ', 0.0)\n",
      "('Obj second part: ', -2.5568054)\n",
      "('Obj first part: ', 0.0)\n",
      "('Obj second part: ', -2.4296546)\n",
      "('Obj first part: ', 1.7017868161201477)\n",
      "('Obj second part: ', -2.2694075)\n",
      "('Obj first part: ', 0.0)\n",
      "('Obj second part: ', -2.3777833)\n",
      "('Obj first part: ', 1.9652943313121796)\n",
      "('Obj second part: ', -2.2057936)\n",
      "('Obj first part: ', 0.0)\n",
      "('Obj second part: ', -2.3699415)\n"
     ]
    },
    {
     "name": "stderr",
     "output_type": "stream",
     "text": [
      "\n",
      "\n",
      "  0%|          | 297/473047 [02:17<5:07:00, 25.66it/s]\u001b[A\u001b[A\n",
      "\n",
      "  0%|          | 300/473047 [02:18<5:06:27, 25.71it/s]\u001b[A\u001b[A"
     ]
    },
    {
     "name": "stdout",
     "output_type": "stream",
     "text": [
      "('Obj first part: ', 1.9345730543136597)\n",
      "('Obj second part: ', -2.362268)\n",
      "('Obj first part: ', 0.0)\n",
      "('Obj second part: ', -2.2788467)\n",
      "('Obj first part: ', 1.9599571824073792)\n",
      "('Obj second part: ', -2.1465554)\n",
      "('Obj first part: ', 0.0)\n",
      "('Obj second part: ', -2.3226953)\n"
     ]
    },
    {
     "name": "stderr",
     "output_type": "stream",
     "text": [
      "\n",
      "\n",
      "  0%|          | 300/473047 [02:29<5:06:27, 25.71it/s]\u001b[A\u001b[A"
     ]
    },
    {
     "name": "stdout",
     "output_type": "stream",
     "text": [
      "('Train loss first part: ', 1.001954765111208)\n",
      "('Train loss second part: ', -2.2816794)\n",
      "('Test loss first part: ', 0.9817482780218124)\n"
     ]
    },
    {
     "name": "stderr",
     "output_type": "stream",
     "text": [
      "\n",
      "\n",
      "  0%|          | 301/473047 [03:20<2477:02:16, 18.86s/it]\u001b[A\u001b[A\n",
      "\n",
      "  0%|          | 304/473047 [03:21<1735:24:20, 13.22s/it]\u001b[A\u001b[A"
     ]
    },
    {
     "name": "stdout",
     "output_type": "stream",
     "text": [
      "('Test loss second part: ', -2.2828386)\n",
      "('Obj first part: ', 1.7629241943359375)\n",
      "('Obj second part: ', -2.245132)\n",
      "('Obj first part: ', 0.0)\n",
      "('Obj second part: ', -2.347533)\n",
      "('Obj first part: ', 1.8928635120391846)\n",
      "('Obj second part: ', -2.2503917)\n",
      "('Obj first part: ', 1.715623289346695)\n",
      "('Obj second part: ', -2.3511293)\n",
      "('Obj first part: ', 1.4969916641712189)\n",
      "('Obj second part: ', -2.306904)\n",
      "('Obj first part: ', 1.3618983328342438)\n",
      "('Obj second part: ', -2.6731937)\n"
     ]
    },
    {
     "name": "stderr",
     "output_type": "stream",
     "text": [
      "\n",
      "\n",
      "  0%|          | 307/473047 [03:21<1216:14:54,  9.26s/it]\u001b[A\u001b[A\n",
      "\n",
      "  0%|          | 310/473047 [03:21<852:50:38,  6.49s/it] \u001b[A\u001b[A"
     ]
    },
    {
     "name": "stdout",
     "output_type": "stream",
     "text": [
      "('Obj first part: ', 1.6941499710083008)\n",
      "('Obj second part: ', -2.6524165)\n",
      "('Obj first part: ', 0.0)\n",
      "('Obj second part: ', -2.7650015)\n",
      "('Obj first part: ', 0.0)\n",
      "('Obj second part: ', -2.5740187)\n",
      "('Obj first part: ', 0.0)\n",
      "('Obj second part: ', -2.1781821)\n",
      "('Obj first part: ', 0.0)\n",
      "('Obj second part: ', -2.2455199)\n",
      "('Obj first part: ', 2.239565998315811)\n",
      "('Obj second part: ', -2.167911)\n"
     ]
    },
    {
     "name": "stderr",
     "output_type": "stream",
     "text": [
      "\n",
      "\n",
      "  0%|          | 313/473047 [03:21<598:29:03,  4.56s/it]\u001b[A\u001b[A\n",
      "\n",
      "  0%|          | 316/473047 [03:21<420:27:24,  3.20s/it]\u001b[A\u001b[A"
     ]
    },
    {
     "name": "stdout",
     "output_type": "stream",
     "text": [
      "('Obj first part: ', 0.0)\n",
      "('Obj second part: ', -2.292607)\n",
      "('Obj first part: ', 0.0)\n",
      "('Obj second part: ', -2.1909707)\n",
      "('Obj first part: ', 0.0)\n",
      "('Obj second part: ', -2.2046812)\n",
      "('Obj first part: ', 0.0)\n",
      "('Obj second part: ', -2.0788596)\n",
      "('Obj first part: ', 2.734506130218506)\n",
      "('Obj second part: ', -1.9615707)\n",
      "('Obj first part: ', 2.557673752307892)\n",
      "('Obj second part: ', -2.073369)\n"
     ]
    },
    {
     "name": "stderr",
     "output_type": "stream",
     "text": [
      "\n",
      "\n",
      "  0%|          | 319/473047 [03:21<295:50:16,  2.25s/it]\u001b[A\u001b[A\n",
      "\n",
      "  0%|          | 322/473047 [03:21<208:33:41,  1.59s/it]\u001b[A\u001b[A"
     ]
    },
    {
     "name": "stdout",
     "output_type": "stream",
     "text": [
      "('Obj first part: ', 2.2851695120334625)\n",
      "('Obj second part: ', -2.181445)\n",
      "('Obj first part: ', 1.8152409791946411)\n",
      "('Obj second part: ', -2.3190646)\n",
      "('Obj first part: ', 0.0)\n",
      "('Obj second part: ', -2.458518)\n",
      "('Obj first part: ', 0.0)\n",
      "('Obj second part: ', -2.3461986)\n",
      "('Obj first part: ', 1.9651804864406586)\n",
      "('Obj second part: ', -2.2443664)\n",
      "('Obj first part: ', 1.7822235822677612)\n",
      "('Obj second part: ', -2.3804026)\n"
     ]
    },
    {
     "name": "stderr",
     "output_type": "stream",
     "text": [
      "\n",
      "\n",
      "  0%|          | 325/473047 [03:21<147:28:53,  1.12s/it]\u001b[A\u001b[A\n",
      "\n",
      "  0%|          | 328/473047 [03:21<104:43:15,  1.25it/s]\u001b[A\u001b[A"
     ]
    },
    {
     "name": "stdout",
     "output_type": "stream",
     "text": [
      "('Obj first part: ', 1.7196029424667358)\n",
      "('Obj second part: ', -2.4674616)\n",
      "('Obj first part: ', 0.0)\n",
      "('Obj second part: ', -2.342791)\n",
      "('Obj first part: ', 0.0)\n",
      "('Obj second part: ', -2.4158096)\n",
      "('Obj first part: ', 0.0)\n",
      "('Obj second part: ', -2.3017204)\n",
      "('Obj first part: ', 0.0)\n",
      "('Obj second part: ', -2.1237302)\n",
      "('Obj first part: ', 2.420938163995743)\n",
      "('Obj second part: ', -2.1917007)\n"
     ]
    },
    {
     "name": "stderr",
     "output_type": "stream",
     "text": [
      "\n",
      "\n",
      "  0%|          | 331/473047 [03:22<74:49:36,  1.75it/s] \u001b[A\u001b[A\n",
      "\n",
      "  0%|          | 334/473047 [03:22<53:52:02,  2.44it/s]\u001b[A\u001b[A"
     ]
    },
    {
     "name": "stdout",
     "output_type": "stream",
     "text": [
      "('Obj first part: ', 0.0)\n",
      "('Obj second part: ', -2.2106812)\n",
      "('Obj first part: ', 0.0)\n",
      "('Obj second part: ', -2.1665733)\n",
      "('Obj first part: ', 0.0)\n",
      "('Obj second part: ', -1.9814341)\n",
      "('Obj first part: ', 0.0)\n",
      "('Obj second part: ', -2.0043247)\n",
      "('Obj first part: ', 0.0)\n",
      "('Obj second part: ', -1.920052)\n",
      "('Obj first part: ', 0.0)\n",
      "('Obj second part: ', -1.8783453)\n"
     ]
    },
    {
     "name": "stderr",
     "output_type": "stream",
     "text": [
      "\n",
      "\n",
      "  0%|          | 337/473047 [03:22<39:13:00,  3.35it/s]\u001b[A\u001b[A\n",
      "\n",
      "  0%|          | 340/473047 [03:22<28:55:38,  4.54it/s]\u001b[A\u001b[A"
     ]
    },
    {
     "name": "stdout",
     "output_type": "stream",
     "text": [
      "('Obj first part: ', 0.0)\n",
      "('Obj second part: ', -1.7396233)\n",
      "('Obj first part: ', 3.330910801887512)\n",
      "('Obj second part: ', -1.7183148)\n",
      "('Obj first part: ', 0.0)\n",
      "('Obj second part: ', -1.8788886)\n",
      "('Obj first part: ', 0.0)\n",
      "('Obj second part: ', -1.8071809)\n",
      "('Obj first part: ', 0.0)\n",
      "('Obj second part: ', -1.743211)\n",
      "('Obj first part: ', 3.226475715637207)\n",
      "('Obj second part: ', -1.7976825)\n"
     ]
    },
    {
     "name": "stderr",
     "output_type": "stream",
     "text": [
      "\n",
      "\n",
      "  0%|          | 343/473047 [03:22<21:45:24,  6.04it/s]\u001b[A\u001b[A\n",
      "\n",
      "  0%|          | 346/473047 [03:22<16:43:50,  7.85it/s]\u001b[A\u001b[A"
     ]
    },
    {
     "name": "stdout",
     "output_type": "stream",
     "text": [
      "('Obj first part: ', 2.917071580886841)\n",
      "('Obj second part: ', -1.9567072)\n",
      "('Obj first part: ', 2.8220924735069275)\n",
      "('Obj second part: ', -2.110015)\n",
      "('Obj first part: ', 0.0)\n",
      "('Obj second part: ', -1.9717265)\n",
      "('Obj first part: ', 2.719453275203705)\n",
      "('Obj second part: ', -2.0276403)\n",
      "('Obj first part: ', 2.3092910647392273)\n",
      "('Obj second part: ', -2.0137415)\n",
      "('Obj first part: ', 0.0)\n",
      "('Obj second part: ', -2.142424)\n"
     ]
    },
    {
     "name": "stderr",
     "output_type": "stream",
     "text": [
      "\n",
      "\n",
      "  0%|          | 349/473047 [03:22<13:13:32,  9.93it/s]\u001b[A\u001b[A\n",
      "\n",
      "  0%|          | 352/473047 [03:22<10:44:08, 12.23it/s]\u001b[A\u001b[A"
     ]
    },
    {
     "name": "stdout",
     "output_type": "stream",
     "text": [
      "('Obj first part: ', 0.0)\n",
      "('Obj second part: ', -2.1304755)\n",
      "('Obj first part: ', 2.6034852862358093)\n",
      "('Obj second part: ', -2.0609927)\n",
      "('Obj first part: ', 2.2708331048488617)\n",
      "('Obj second part: ', -2.0856361)\n",
      "('Obj first part: ', 1.6454316675662994)\n",
      "('Obj second part: ', -2.2724264)\n",
      "('Obj first part: ', 1.8944281339645386)\n",
      "('Obj second part: ', -2.3301399)\n",
      "('Obj first part: ', 0.0)\n",
      "('Obj second part: ', -2.458069)\n"
     ]
    },
    {
     "name": "stderr",
     "output_type": "stream",
     "text": [
      "\n",
      "\n",
      "  0%|          | 355/473047 [03:22<9:00:52, 14.57it/s] \u001b[A\u001b[A\n",
      "\n",
      "  0%|          | 358/473047 [03:23<7:48:40, 16.81it/s]\u001b[A\u001b[A"
     ]
    },
    {
     "name": "stdout",
     "output_type": "stream",
     "text": [
      "('Obj first part: ', 1.7693671584129333)\n",
      "('Obj second part: ', -2.4088953)\n",
      "('Obj first part: ', 1.4289365708827972)\n",
      "('Obj second part: ', -2.3836064)\n",
      "('Obj first part: ', 1.4190346002578735)\n",
      "('Obj second part: ', -2.491077)\n",
      "('Obj first part: ', 0.0)\n",
      "('Obj second part: ', -2.701309)\n",
      "('Obj first part: ', 1.4897292852401733)\n",
      "('Obj second part: ', -2.5503428)\n",
      "('Obj first part: ', 1.6430813074111938)\n",
      "('Obj second part: ', -2.5964258)\n"
     ]
    },
    {
     "name": "stderr",
     "output_type": "stream",
     "text": [
      "\n",
      "\n",
      "  0%|          | 361/473047 [03:23<6:58:30, 18.82it/s]\u001b[A\u001b[A\n",
      "\n",
      "  0%|          | 364/473047 [03:23<6:21:03, 20.67it/s]\u001b[A\u001b[A"
     ]
    },
    {
     "name": "stdout",
     "output_type": "stream",
     "text": [
      "('Obj first part: ', 1.6666479408740997)\n",
      "('Obj second part: ', -2.5863795)\n",
      "('Obj first part: ', 1.255403459072113)\n",
      "('Obj second part: ', -2.5124512)\n",
      "('Obj first part: ', 1.1419255286455154)\n",
      "('Obj second part: ', -2.5904076)\n",
      "('Obj first part: ', 0.0)\n",
      "('Obj second part: ', -2.722153)\n",
      "('Obj first part: ', 0.0)\n",
      "('Obj second part: ', -2.5022118)\n",
      "('Obj first part: ', 1.5464363992214203)\n",
      "('Obj second part: ', -2.2651536)\n"
     ]
    },
    {
     "name": "stderr",
     "output_type": "stream",
     "text": [
      "\n",
      "\n",
      "  0%|          | 367/473047 [03:23<5:56:10, 22.12it/s]\u001b[A\u001b[A\n",
      "\n",
      "  0%|          | 370/473047 [03:23<5:39:14, 23.22it/s]\u001b[A\u001b[A"
     ]
    },
    {
     "name": "stdout",
     "output_type": "stream",
     "text": [
      "('Obj first part: ', 1.3448384404182434)\n",
      "('Obj second part: ', -2.6773703)\n",
      "('Obj first part: ', 0.0)\n",
      "('Obj second part: ', -2.6555507)\n",
      "('Obj first part: ', 1.6842609643936157)\n",
      "('Obj second part: ', -2.5505285)\n",
      "('Obj first part: ', 1.5282270312309265)\n",
      "('Obj second part: ', -2.5219717)\n",
      "('Obj first part: ', 1.5074922144412994)\n",
      "('Obj second part: ', -2.6053042)\n",
      "('Obj first part: ', 1.2749272584915161)\n",
      "('Obj second part: ', -2.7749474)\n"
     ]
    },
    {
     "name": "stderr",
     "output_type": "stream",
     "text": [
      "\n",
      "\n",
      "  0%|          | 373/473047 [03:23<5:28:32, 23.98it/s]\u001b[A\u001b[A\n",
      "\n",
      "  0%|          | 376/473047 [03:23<5:22:52, 24.40it/s]\u001b[A\u001b[A"
     ]
    },
    {
     "name": "stdout",
     "output_type": "stream",
     "text": [
      "('Obj first part: ', 0.0)\n",
      "('Obj second part: ', -2.7435508)\n",
      "('Obj first part: ', 0.0)\n",
      "('Obj second part: ', -2.5866146)\n",
      "('Obj first part: ', 1.7904329299926758)\n",
      "('Obj second part: ', -2.4445336)\n",
      "('Obj first part: ', 1.6455599665641785)\n",
      "('Obj second part: ', -2.50138)\n",
      "('Obj first part: ', 0.0)\n",
      "('Obj second part: ', -2.5840375)\n",
      "('Obj first part: ', 1.6487304866313934)\n",
      "('Obj second part: ', -2.4121993)\n"
     ]
    },
    {
     "name": "stderr",
     "output_type": "stream",
     "text": [
      "\n",
      "\n",
      "  0%|          | 379/473047 [03:23<5:16:49, 24.86it/s]\u001b[A\u001b[A\n",
      "\n",
      "  0%|          | 382/473047 [03:23<5:14:35, 25.04it/s]\u001b[A\u001b[A"
     ]
    },
    {
     "name": "stdout",
     "output_type": "stream",
     "text": [
      "('Obj first part: ', 0.0)\n",
      "('Obj second part: ', -2.5047674)\n",
      "('Obj first part: ', 1.5736065804958344)\n",
      "('Obj second part: ', -2.5010011)\n",
      "('Obj first part: ', 0.0)\n",
      "('Obj second part: ', -2.4457)\n",
      "('Obj first part: ', 1.7092499136924744)\n",
      "('Obj second part: ', -2.5891004)\n",
      "('Obj first part: ', 1.8298517167568207)\n",
      "('Obj second part: ', -2.3943315)\n",
      "('Obj first part: ', 1.4122827351093292)\n",
      "('Obj second part: ', -2.582664)\n"
     ]
    },
    {
     "name": "stderr",
     "output_type": "stream",
     "text": [
      "\n",
      "\n",
      "  0%|          | 385/473047 [03:24<5:09:40, 25.44it/s]\u001b[A\u001b[A\n",
      "\n",
      "  0%|          | 388/473047 [03:24<5:09:38, 25.44it/s]\u001b[A\u001b[A"
     ]
    },
    {
     "name": "stdout",
     "output_type": "stream",
     "text": [
      "('Obj first part: ', 0.0)\n",
      "('Obj second part: ', -2.7717316)\n",
      "('Obj first part: ', 0.0)\n",
      "('Obj second part: ', -2.412882)\n",
      "('Obj first part: ', 1.6527612507343292)\n",
      "('Obj second part: ', -2.2022793)\n",
      "('Obj first part: ', 1.4787238836288452)\n",
      "('Obj second part: ', -2.487369)\n",
      "('Obj first part: ', 1.5491686761379242)\n",
      "('Obj second part: ', -2.5928493)\n",
      "('Obj first part: ', 1.32023885846138)\n",
      "('Obj second part: ', -2.4761093)\n"
     ]
    },
    {
     "name": "stderr",
     "output_type": "stream",
     "text": [
      "\n",
      "\n",
      "  0%|          | 391/473047 [03:24<5:07:54, 25.58it/s]\u001b[A\u001b[A\n",
      "\n",
      "  0%|          | 394/473047 [03:24<5:06:15, 25.72it/s]\u001b[A\u001b[A"
     ]
    },
    {
     "name": "stdout",
     "output_type": "stream",
     "text": [
      "('Obj first part: ', 0.0)\n",
      "('Obj second part: ', -2.4076605)\n",
      "('Obj first part: ', 1.6778169572353363)\n",
      "('Obj second part: ', -2.4742322)\n",
      "('Obj first part: ', 0.0)\n",
      "('Obj second part: ', -2.535776)\n",
      "('Obj first part: ', 0.0)\n",
      "('Obj second part: ', -2.6737137)\n",
      "('Obj first part: ', 1.7722301185131073)\n",
      "('Obj second part: ', -2.4934628)\n",
      "('Obj first part: ', 0.0)\n",
      "('Obj second part: ', -2.6008937)\n"
     ]
    },
    {
     "name": "stderr",
     "output_type": "stream",
     "text": [
      "\n",
      "\n",
      "  0%|          | 397/473047 [03:24<5:04:00, 25.91it/s]\u001b[A\u001b[A\n",
      "\n",
      "  0%|          | 400/473047 [03:24<5:01:25, 26.13it/s]\u001b[A\u001b[A"
     ]
    },
    {
     "name": "stdout",
     "output_type": "stream",
     "text": [
      "('Obj first part: ', 0.0)\n",
      "('Obj second part: ', -2.448324)\n",
      "('Obj first part: ', 1.962820142507553)\n",
      "('Obj second part: ', -2.3601868)\n",
      "('Obj first part: ', 1.6819144785404205)\n",
      "('Obj second part: ', -2.42235)\n",
      "('Obj first part: ', 1.8898123502731323)\n",
      "('Obj second part: ', -2.4161115)\n"
     ]
    },
    {
     "name": "stderr",
     "output_type": "stream",
     "text": [
      "\n",
      "\n",
      "  0%|          | 400/473047 [03:39<5:01:25, 26.13it/s]\u001b[A\u001b[A"
     ]
    },
    {
     "name": "stdout",
     "output_type": "stream",
     "text": [
      "('Train loss first part: ', 0.7909162910729646)\n",
      "('Train loss second part: ', -2.5020566)\n",
      "('Test loss first part: ', 0.7745182364881038)\n"
     ]
    },
    {
     "name": "stderr",
     "output_type": "stream",
     "text": [
      "\n",
      "\n",
      "  0%|          | 401/473047 [04:28<2501:29:42, 19.05s/it]\u001b[A\u001b[A\n",
      "\n",
      "  0%|          | 404/473047 [04:28<1752:31:38, 13.35s/it]\u001b[A\u001b[A"
     ]
    },
    {
     "name": "stdout",
     "output_type": "stream",
     "text": [
      "('Test loss second part: ', -2.503709)\n",
      "('Obj first part: ', 0.0)\n",
      "('Obj second part: ', -2.5868948)\n",
      "('Obj first part: ', 0.0)\n",
      "('Obj second part: ', -2.407309)\n",
      "('Obj first part: ', 2.084783762693405)\n",
      "('Obj second part: ', -2.2951405)\n",
      "('Obj first part: ', 1.6472619771957397)\n",
      "('Obj second part: ', -2.4946632)\n",
      "('Obj first part: ', 1.6945664584636688)\n",
      "('Obj second part: ', -2.4030626)\n",
      "('Obj first part: ', 1.5648426115512848)\n",
      "('Obj second part: ', -2.6510744)\n"
     ]
    },
    {
     "name": "stderr",
     "output_type": "stream",
     "text": [
      "\n",
      "\n",
      "  0%|          | 407/473047 [04:28<1228:14:59,  9.36s/it]\u001b[A\u001b[A\n",
      "\n",
      "  0%|          | 410/473047 [04:28<861:14:45,  6.56s/it] \u001b[A\u001b[A"
     ]
    },
    {
     "name": "stdout",
     "output_type": "stream",
     "text": [
      "('Obj first part: ', 0.0)\n",
      "('Obj second part: ', -2.5292776)\n",
      "('Obj first part: ', 1.724603921175003)\n",
      "('Obj second part: ', -2.6712384)\n",
      "('Obj first part: ', 1.2129487842321396)\n",
      "('Obj second part: ', -2.5372708)\n",
      "('Obj first part: ', 0.0)\n",
      "('Obj second part: ', -2.6130984)\n",
      "('Obj first part: ', 0.0)\n",
      "('Obj second part: ', -2.645476)\n",
      "('Obj first part: ', 0.0)\n",
      "('Obj second part: ', -2.5081315)\n"
     ]
    },
    {
     "name": "stderr",
     "output_type": "stream",
     "text": [
      "\n",
      "\n",
      "  0%|          | 413/473047 [04:28<604:20:31,  4.60s/it]\u001b[A\u001b[A\n",
      "\n",
      "  0%|          | 416/473047 [04:28<424:30:32,  3.23s/it]\u001b[A\u001b[A"
     ]
    },
    {
     "name": "stdout",
     "output_type": "stream",
     "text": [
      "('Obj first part: ', 2.0555128157138824)\n",
      "('Obj second part: ', -2.2838554)\n",
      "('Obj first part: ', 1.7303717136383057)\n",
      "('Obj second part: ', -2.3568947)\n",
      "('Obj first part: ', 0.0)\n",
      "('Obj second part: ', -2.5240457)\n",
      "('Obj first part: ', 0.0)\n",
      "('Obj second part: ', -2.1406124)\n",
      "('Obj first part: ', 0.0)\n",
      "('Obj second part: ', -2.2862701)\n",
      "('Obj first part: ', 0.0)\n",
      "('Obj second part: ', -2.258409)\n"
     ]
    },
    {
     "name": "stderr",
     "output_type": "stream",
     "text": [
      "\n",
      "\n",
      "  0%|          | 419/473047 [04:28<298:39:29,  2.27s/it]\u001b[A\u001b[A\n",
      "\n",
      "  0%|          | 422/473047 [04:28<210:33:37,  1.60s/it]\u001b[A\u001b[A"
     ]
    },
    {
     "name": "stdout",
     "output_type": "stream",
     "text": [
      "('Obj first part: ', 2.0160476863384247)\n",
      "('Obj second part: ', -2.1383612)\n",
      "('Obj first part: ', 1.9546958804130554)\n",
      "('Obj second part: ', -2.1573656)\n",
      "('Obj first part: ', 2.1828386187553406)\n",
      "('Obj second part: ', -2.2545872)\n",
      "('Obj first part: ', 1.7366038262844086)\n",
      "('Obj second part: ', -2.253858)\n",
      "('Obj first part: ', 1.6844280064105988)\n",
      "('Obj second part: ', -2.4676335)\n",
      "('Obj first part: ', 1.5162009000778198)\n",
      "('Obj second part: ', -2.542561)\n"
     ]
    },
    {
     "name": "stderr",
     "output_type": "stream",
     "text": [
      "\n",
      "\n",
      "  0%|          | 425/473047 [04:28<148:52:36,  1.13s/it]\u001b[A\u001b[A\n",
      "\n",
      "  0%|          | 428/473047 [04:29<105:41:49,  1.24it/s]\u001b[A\u001b[A"
     ]
    },
    {
     "name": "stdout",
     "output_type": "stream",
     "text": [
      "('Obj first part: ', 1.3517263531684875)\n",
      "('Obj second part: ', -2.7288127)\n",
      "('Obj first part: ', 0.0)\n",
      "('Obj second part: ', -2.6990721)\n",
      "('Obj first part: ', 1.6731901466846466)\n",
      "('Obj second part: ', -2.5208673)\n",
      "('Obj first part: ', 1.3298393785953522)\n",
      "('Obj second part: ', -2.560203)\n",
      "('Obj first part: ', 1.442321091890335)\n",
      "('Obj second part: ', -2.6573288)\n",
      "('Obj first part: ', 0.0)\n",
      "('Obj second part: ', -2.764899)\n"
     ]
    },
    {
     "name": "stderr",
     "output_type": "stream",
     "text": [
      "\n",
      "\n",
      "  0%|          | 431/473047 [04:29<75:28:58,  1.74it/s] \u001b[A\u001b[A\n",
      "\n",
      "  0%|          | 434/473047 [04:29<54:19:36,  2.42it/s]\u001b[A\u001b[A"
     ]
    },
    {
     "name": "stdout",
     "output_type": "stream",
     "text": [
      "('Obj first part: ', 0.0)\n",
      "('Obj second part: ', -2.5610902)\n",
      "('Obj first part: ', 1.6126053035259247)\n",
      "('Obj second part: ', -2.3697324)\n",
      "('Obj first part: ', 0.0)\n",
      "('Obj second part: ', -2.65011)\n",
      "('Obj first part: ', 0.0)\n",
      "('Obj second part: ', -2.4984722)\n",
      "('Obj first part: ', 2.096133530139923)\n",
      "('Obj second part: ', -2.3781264)\n",
      "('Obj first part: ', 0.0)\n",
      "('Obj second part: ', -2.2913568)\n"
     ]
    },
    {
     "name": "stderr",
     "output_type": "stream",
     "text": [
      "\n",
      "\n",
      "  0%|          | 437/473047 [04:29<39:33:17,  3.32it/s]\u001b[A\u001b[A\n",
      "\n",
      "  0%|          | 440/473047 [04:29<29:12:10,  4.50it/s]\u001b[A\u001b[A"
     ]
    },
    {
     "name": "stdout",
     "output_type": "stream",
     "text": [
      "('Obj first part: ', 0.0)\n",
      "('Obj second part: ', -2.3576593)\n",
      "('Obj first part: ', 2.0162105560302734)\n",
      "('Obj second part: ', -2.2726364)\n",
      "('Obj first part: ', 1.692100167274475)\n",
      "('Obj second part: ', -2.3816404)\n",
      "('Obj first part: ', 0.0)\n",
      "('Obj second part: ', -2.4146245)\n",
      "('Obj first part: ', 1.9633042812347412)\n",
      "('Obj second part: ', -2.1444294)\n",
      "('Obj first part: ', 0.0)\n",
      "('Obj second part: ', -2.386304)\n"
     ]
    },
    {
     "name": "stderr",
     "output_type": "stream",
     "text": [
      "\n",
      "\n",
      "  0%|          | 443/473047 [04:29<21:57:34,  5.98it/s]\u001b[A\u001b[A\n",
      "\n",
      "  0%|          | 446/473047 [04:29<16:50:52,  7.79it/s]\u001b[A\u001b[A"
     ]
    },
    {
     "name": "stdout",
     "output_type": "stream",
     "text": [
      "('Obj first part: ', 2.036229223012924)\n",
      "('Obj second part: ', -2.1765876)\n",
      "('Obj first part: ', 0.0)\n",
      "('Obj second part: ', -2.3078768)\n",
      "('Obj first part: ', 2.061489075422287)\n",
      "('Obj second part: ', -2.159093)\n",
      "('Obj first part: ', 0.0)\n",
      "('Obj second part: ', -2.4559479)\n",
      "('Obj first part: ', 1.9241541624069214)\n",
      "('Obj second part: ', -2.291137)\n",
      "('Obj first part: ', 1.7729590833187103)\n",
      "('Obj second part: ', -2.4116735)\n"
     ]
    },
    {
     "name": "stderr",
     "output_type": "stream",
     "text": [
      "\n",
      "\n",
      "  0%|          | 449/473047 [04:29<13:16:41,  9.89it/s]\u001b[A\u001b[A\n",
      "\n",
      "  0%|          | 452/473047 [04:30<10:47:24, 12.17it/s]\u001b[A\u001b[A"
     ]
    },
    {
     "name": "stdout",
     "output_type": "stream",
     "text": [
      "('Obj first part: ', 1.9019119441509247)\n",
      "('Obj second part: ', -2.59378)\n",
      "('Obj first part: ', 0.0)\n",
      "('Obj second part: ', -2.5315514)\n",
      "('Obj first part: ', 1.5600290894508362)\n",
      "('Obj second part: ', -2.3380857)\n",
      "('Obj first part: ', 1.6076748073101044)\n",
      "('Obj second part: ', -2.4929576)\n",
      "('Obj first part: ', 1.5633569657802582)\n",
      "('Obj second part: ', -2.7016218)\n",
      "('Obj first part: ', 1.3654616475105286)\n",
      "('Obj second part: ', -2.5475037)\n"
     ]
    },
    {
     "name": "stderr",
     "output_type": "stream",
     "text": [
      "\n",
      "\n",
      "  0%|          | 455/473047 [04:30<9:03:11, 14.50it/s] \u001b[A\u001b[A\n",
      "\n",
      "  0%|          | 458/473047 [04:30<7:49:00, 16.79it/s]\u001b[A\u001b[A"
     ]
    },
    {
     "name": "stdout",
     "output_type": "stream",
     "text": [
      "('Obj first part: ', 1.3684181869029999)\n",
      "('Obj second part: ', -2.5295403)\n",
      "('Obj first part: ', 1.1474300920963287)\n",
      "('Obj second part: ', -2.6583889)\n",
      "('Obj first part: ', 0.0)\n",
      "('Obj second part: ', -2.7937262)\n",
      "('Obj first part: ', 0.0)\n",
      "('Obj second part: ', -2.7761488)\n",
      "('Obj first part: ', 1.5531736612319946)\n",
      "('Obj second part: ', -2.5317733)\n",
      "('Obj first part: ', 1.382448524236679)\n",
      "('Obj second part: ', -2.5740867)\n"
     ]
    },
    {
     "name": "stderr",
     "output_type": "stream",
     "text": [
      "\n",
      "\n",
      "  0%|          | 461/473047 [04:30<6:59:24, 18.78it/s]\u001b[A\u001b[A\n",
      "\n",
      "  0%|          | 464/473047 [04:30<6:26:23, 20.38it/s]\u001b[A\u001b[A"
     ]
    },
    {
     "name": "stdout",
     "output_type": "stream",
     "text": [
      "('Obj first part: ', 1.338265836238861)\n",
      "('Obj second part: ', -2.692962)\n",
      "('Obj first part: ', 0.0)\n",
      "('Obj second part: ', -2.6955135)\n",
      "('Obj first part: ', 0.0)\n",
      "('Obj second part: ', -2.7430403)\n",
      "('Obj first part: ', 0.0)\n",
      "('Obj second part: ', -2.4687834)\n",
      "('Obj first part: ', 2.1184585988521576)\n",
      "('Obj second part: ', -2.1211097)\n",
      "('Obj first part: ', 0.0)\n",
      "('Obj second part: ', -2.6238325)\n"
     ]
    },
    {
     "name": "stderr",
     "output_type": "stream",
     "text": [
      "\n",
      "\n",
      "  0%|          | 467/473047 [04:30<5:59:52, 21.89it/s]\u001b[A\u001b[A\n",
      "\n",
      "  0%|          | 470/473047 [04:30<5:42:54, 22.97it/s]\u001b[A\u001b[A"
     ]
    },
    {
     "name": "stdout",
     "output_type": "stream",
     "text": [
      "('Obj first part: ', 0.0)\n",
      "('Obj second part: ', -2.314616)\n",
      "('Obj first part: ', 0.0)\n",
      "('Obj second part: ', -2.3188808)\n",
      "('Obj first part: ', 2.4396006762981415)\n",
      "('Obj second part: ', -2.1604664)\n",
      "('Obj first part: ', 2.095327377319336)\n",
      "('Obj second part: ', -2.221673)\n",
      "('Obj first part: ', 2.1233685314655304)\n",
      "('Obj second part: ', -2.3061454)\n",
      "('Obj first part: ', 1.7488488554954529)\n",
      "('Obj second part: ', -2.477523)\n"
     ]
    },
    {
     "name": "stderr",
     "output_type": "stream",
     "text": [
      "\n",
      "\n",
      "  0%|          | 473/473047 [04:30<5:30:17, 23.85it/s]\u001b[A\u001b[A\n",
      "\n",
      "  0%|          | 476/473047 [04:30<5:20:37, 24.56it/s]\u001b[A\u001b[A"
     ]
    },
    {
     "name": "stdout",
     "output_type": "stream",
     "text": [
      "('Obj first part: ', 1.4445365965366364)\n",
      "('Obj second part: ', -2.547823)\n",
      "('Obj first part: ', 1.4176541566848755)\n",
      "('Obj second part: ', -2.7234144)\n",
      "('Obj first part: ', 1.2407559156417847)\n",
      "('Obj second part: ', -2.5676026)\n",
      "('Obj first part: ', 1.406521201133728)\n",
      "('Obj second part: ', -2.5869474)\n",
      "('Obj first part: ', 1.26619353890419)\n",
      "('Obj second part: ', -2.7203426)\n",
      "('Obj first part: ', 0.0)\n",
      "('Obj second part: ', -2.5712209)\n"
     ]
    },
    {
     "name": "stderr",
     "output_type": "stream",
     "text": [
      "\n",
      "\n",
      "  0%|          | 479/473047 [04:31<5:13:07, 25.15it/s]\u001b[A\u001b[A\n",
      "\n",
      "  0%|          | 482/473047 [04:31<5:07:51, 25.58it/s]\u001b[A\u001b[A"
     ]
    },
    {
     "name": "stdout",
     "output_type": "stream",
     "text": [
      "('Obj first part: ', 1.2306074798107147)\n",
      "('Obj second part: ', -2.7484822)\n",
      "('Obj first part: ', 1.33975088596344)\n",
      "('Obj second part: ', -2.5415254)\n",
      "('Obj first part: ', 0.0)\n",
      "('Obj second part: ', -2.6692193)\n",
      "('Obj first part: ', 0.0)\n",
      "('Obj second part: ', -2.5110373)\n",
      "('Obj first part: ', 1.743711680173874)\n",
      "('Obj second part: ', -2.484401)\n",
      "('Obj first part: ', 1.4820562303066254)\n",
      "('Obj second part: ', -2.5558991)\n"
     ]
    },
    {
     "name": "stderr",
     "output_type": "stream",
     "text": [
      "\n",
      "\n",
      "  0%|          | 485/473047 [04:31<5:06:31, 25.69it/s]\u001b[A\u001b[A\n",
      "\n",
      "  0%|          | 488/473047 [04:31<5:02:51, 26.01it/s]\u001b[A\u001b[A"
     ]
    },
    {
     "name": "stdout",
     "output_type": "stream",
     "text": [
      "('Obj first part: ', 0.0)\n",
      "('Obj second part: ', -2.499309)\n",
      "('Obj first part: ', 1.452518254518509)\n",
      "('Obj second part: ', -2.4962382)\n",
      "('Obj first part: ', 1.3069519400596619)\n",
      "('Obj second part: ', -2.5431676)\n",
      "('Obj first part: ', 1.33361354470253)\n",
      "('Obj second part: ', -2.6123939)\n",
      "('Obj first part: ', 0.0)\n",
      "('Obj second part: ', -2.5676274)\n",
      "('Obj first part: ', 0.0)\n",
      "('Obj second part: ', -2.5485399)\n"
     ]
    },
    {
     "name": "stderr",
     "output_type": "stream",
     "text": [
      "\n",
      "\n",
      "  0%|          | 491/473047 [04:31<5:01:17, 26.14it/s]\u001b[A\u001b[A\n",
      "\n",
      "  0%|          | 494/473047 [04:31<5:00:37, 26.20it/s]\u001b[A\u001b[A"
     ]
    },
    {
     "name": "stdout",
     "output_type": "stream",
     "text": [
      "('Obj first part: ', 0.0)\n",
      "('Obj second part: ', -2.4929667)\n",
      "('Obj first part: ', 1.916375458240509)\n",
      "('Obj second part: ', -2.181107)\n",
      "('Obj first part: ', 1.652849018573761)\n",
      "('Obj second part: ', -2.329181)\n",
      "('Obj first part: ', 0.0)\n",
      "('Obj second part: ', -2.382695)\n",
      "('Obj first part: ', 0.0)\n",
      "('Obj second part: ', -2.4809465)\n",
      "('Obj first part: ', 1.723274141550064)\n",
      "('Obj second part: ', -2.2784877)\n"
     ]
    },
    {
     "name": "stderr",
     "output_type": "stream",
     "text": [
      "\n",
      "\n",
      "  0%|          | 497/473047 [04:31<4:59:56, 26.26it/s]\u001b[A\u001b[A\n",
      "\n",
      "  0%|          | 500/473047 [04:31<4:58:57, 26.34it/s]\u001b[A\u001b[A"
     ]
    },
    {
     "name": "stdout",
     "output_type": "stream",
     "text": [
      "('Obj first part: ', 0.0)\n",
      "('Obj second part: ', -2.3930068)\n",
      "('Obj first part: ', 1.9718284904956818)\n",
      "('Obj second part: ', -2.096252)\n",
      "('Obj first part: ', 1.8931801617145538)\n",
      "('Obj second part: ', -2.3632793)\n",
      "('Obj first part: ', 0.0)\n",
      "('Obj second part: ', -2.467928)\n"
     ]
    },
    {
     "name": "stderr",
     "output_type": "stream",
     "text": [
      "\n",
      "\n",
      "  0%|          | 500/473047 [04:49<4:58:57, 26.34it/s]\u001b[A\u001b[A"
     ]
    },
    {
     "name": "stdout",
     "output_type": "stream",
     "text": [
      "('Train loss first part: ', 0.9281110382080078)\n",
      "('Train loss second part: ', -2.3363066)\n",
      "('Test loss first part: ', 0.9082399909943342)\n",
      "('Test loss second part: ', -2.3380148)\n"
     ]
    },
    {
     "data": {
      "image/png": "[encoded data removed]",
      "text/plain": [
       "<Figure size 432x288 with 1 Axes>"
      ]
     },
     "metadata": {
      "needs_background": "light"
     },
     "output_type": "display_data"
    },
    {
     "data": {
      "image/png": "[encoded data removed]",
      "text/plain": [
       "<Figure size 432x288 with 1 Axes>"
      ]
     },
     "metadata": {
      "needs_background": "light"
     },
     "output_type": "display_data"
    },
    {
     "data": {
      "image/png": "[encoded data removed]",
      "text/plain": [
       "<Figure size 432x288 with 1 Axes>"
      ]
     },
     "metadata": {
      "needs_background": "light"
     },
     "output_type": "display_data"
    },
    {
     "name": "stderr",
     "output_type": "stream",
     "text": [
      "\n",
      "\n",
      "  0%|          | 501/473047 [05:35<2519:49:29, 19.20s/it]\u001b[A\u001b[A\n",
      "\n",
      "  0%|          | 504/473047 [05:35<1765:26:05, 13.45s/it]\u001b[A\u001b[A"
     ]
    },
    {
     "name": "stdout",
     "output_type": "stream",
     "text": [
      "('New score: ', 0.08989737)\n",
      "('Train score: ', 0.083260536)\n",
      "('Test score: ', 0.08347969)\n",
      "('Obj first part: ', 0.0)\n",
      "('Obj second part: ', -2.389749)\n",
      "('Obj first part: ', 1.6983765363693237)\n",
      "('Obj second part: ', -2.4034896)\n",
      "('Obj first part: ', 1.8233440816402435)\n",
      "('Obj second part: ', -2.3508904)\n",
      "('Obj first part: ', 1.695554405450821)\n",
      "('Obj second part: ', -2.614951)\n",
      "('Obj first part: ', 1.5038585662841797)\n",
      "('Obj second part: ', -2.5103948)\n"
     ]
    },
    {
     "name": "stderr",
     "output_type": "stream",
     "text": [
      "\n",
      "\n",
      "  0%|          | 507/473047 [05:35<1237:22:10,  9.43s/it]\u001b[A\u001b[A\n",
      "\n",
      "  0%|          | 510/473047 [05:36<867:42:04,  6.61s/it] \u001b[A\u001b[A"
     ]
    },
    {
     "name": "stdout",
     "output_type": "stream",
     "text": [
      "('Obj first part: ', 0.0)\n",
      "('Obj second part: ', -2.564147)\n",
      "('Obj first part: ', 0.0)\n",
      "('Obj second part: ', -2.4045825)\n",
      "('Obj first part: ', 0.0)\n",
      "('Obj second part: ', -2.2222948)\n",
      "('Obj first part: ', 2.06283301115036)\n",
      "('Obj second part: ', -2.2585452)\n",
      "('Obj first part: ', 0.0)\n",
      "('Obj second part: ', -2.2976956)\n",
      "('Obj first part: ', 0.0)\n",
      "('Obj second part: ', -2.0731957)\n"
     ]
    },
    {
     "name": "stderr",
     "output_type": "stream",
     "text": [
      "\n",
      "\n",
      "  0%|          | 513/473047 [05:36<608:55:44,  4.64s/it]\u001b[A\u001b[A\n",
      "\n",
      "  0%|          | 516/473047 [05:36<427:47:26,  3.26s/it]\u001b[A\u001b[A"
     ]
    },
    {
     "name": "stdout",
     "output_type": "stream",
     "text": [
      "('Obj first part: ', 2.09110751748085)\n",
      "('Obj second part: ', -2.3371723)\n",
      "('Obj first part: ', 1.733172982931137)\n",
      "('Obj second part: ', -2.159357)\n",
      "('Obj first part: ', 1.8097078800201416)\n",
      "('Obj second part: ', -2.1137438)\n",
      "('Obj first part: ', 0.0)\n",
      "('Obj second part: ', -2.4368567)\n",
      "('Obj first part: ', 1.93369522690773)\n",
      "('Obj second part: ', -2.2372437)\n",
      "('Obj first part: ', 1.8210957944393158)\n",
      "('Obj second part: ', -2.5840375)\n"
     ]
    },
    {
     "name": "stderr",
     "output_type": "stream",
     "text": [
      "\n",
      "\n",
      "  0%|          | 519/473047 [05:36<301:00:05,  2.29s/it]\u001b[A\u001b[A\n",
      "\n",
      "  0%|          | 522/473047 [05:36<212:14:04,  1.62s/it]\u001b[A\u001b[A"
     ]
    },
    {
     "name": "stdout",
     "output_type": "stream",
     "text": [
      "('Obj first part: ', 0.0)\n",
      "('Obj second part: ', -2.4985147)\n",
      "('Obj first part: ', 0.0)\n",
      "('Obj second part: ', -2.513242)\n",
      "('Obj first part: ', 0.0)\n",
      "('Obj second part: ', -2.2027192)\n",
      "('Obj first part: ', 0.0)\n",
      "('Obj second part: ', -2.296342)\n",
      "('Obj first part: ', 0.0)\n",
      "('Obj second part: ', -2.054693)\n",
      "('Obj first part: ', 2.552812397480011)\n",
      "('Obj second part: ', -2.0578578)\n"
     ]
    },
    {
     "name": "stderr",
     "output_type": "stream",
     "text": [
      "\n",
      "\n",
      "  0%|          | 525/473047 [05:36<150:06:48,  1.14s/it]\u001b[A\u001b[A\n",
      "\n",
      "  0%|          | 528/473047 [05:36<106:37:53,  1.23it/s]\u001b[A\u001b[A"
     ]
    },
    {
     "name": "stdout",
     "output_type": "stream",
     "text": [
      "('Obj first part: ', 1.8996462225914001)\n",
      "('Obj second part: ', -2.248441)\n",
      "('Obj first part: ', 2.3137158155441284)\n",
      "('Obj second part: ', -2.2882085)\n",
      "('Obj first part: ', 0.0)\n",
      "('Obj second part: ', -2.2464266)\n",
      "('Obj first part: ', 0.0)\n",
      "('Obj second part: ', -2.299165)\n",
      "('Obj first part: ', 2.6176536083221436)\n",
      "('Obj second part: ', -2.1850991)\n",
      "('Obj first part: ', 0.0)\n",
      "('Obj second part: ', -2.2256632)\n"
     ]
    },
    {
     "name": "stderr",
     "output_type": "stream",
     "text": [
      "\n",
      "\n",
      "  0%|          | 531/473047 [05:36<76:12:02,  1.72it/s] \u001b[A\u001b[A\n",
      "\n",
      "  0%|          | 534/473047 [05:37<54:54:28,  2.39it/s]\u001b[A\u001b[A"
     ]
    },
    {
     "name": "stdout",
     "output_type": "stream",
     "text": [
      "('Obj first part: ', 0.0)\n",
      "('Obj second part: ', -2.0105066)\n",
      "('Obj first part: ', 2.4304354190826416)\n",
      "('Obj second part: ', -2.0858805)\n",
      "('Obj first part: ', 1.9809137284755707)\n",
      "('Obj second part: ', -2.1911445)\n",
      "('Obj first part: ', 1.8093028664588928)\n",
      "('Obj second part: ', -2.1719356)\n",
      "('Obj first part: ', 0.0)\n",
      "('Obj second part: ', -2.1868572)\n"
     ]
    },
    {
     "name": "stderr",
     "output_type": "stream",
     "text": [
      "\n",
      "\n",
      "  0%|          | 537/473047 [05:37<40:00:27,  3.28it/s]\u001b[A\u001b[A\n",
      "\n",
      "  0%|          | 540/473047 [05:37<29:33:53,  4.44it/s]\u001b[A\u001b[A"
     ]
    },
    {
     "name": "stdout",
     "output_type": "stream",
     "text": [
      "('Obj first part: ', 0.0)\n",
      "('Obj second part: ', -2.5411088)\n",
      "('Obj first part: ', 0.0)\n",
      "('Obj second part: ', -2.089459)\n",
      "('Obj first part: ', 2.5814050436019897)\n",
      "('Obj second part: ', -2.1957958)\n",
      "('Obj first part: ', 1.7648924887180328)\n",
      "('Obj second part: ', -2.3521109)\n",
      "('Obj first part: ', 2.0754025876522064)\n",
      "('Obj second part: ', -2.447905)\n",
      "('Obj first part: ', 2.0945991575717926)\n",
      "('Obj second part: ', -2.3923876)\n"
     ]
    },
    {
     "name": "stderr",
     "output_type": "stream",
     "text": [
      "\n",
      "\n",
      "  0%|          | 543/473047 [05:37<22:15:00,  5.90it/s]\u001b[A\u001b[A\n",
      "\n",
      "  0%|          | 546/473047 [05:37<17:08:16,  7.66it/s]\u001b[A\u001b[A"
     ]
    },
    {
     "name": "stdout",
     "output_type": "stream",
     "text": [
      "('Obj first part: ', 1.6516800224781036)\n",
      "('Obj second part: ', -2.5486264)\n",
      "('Obj first part: ', 0.0)\n",
      "('Obj second part: ', -2.644144)\n",
      "('Obj first part: ', 0.0)\n",
      "('Obj second part: ', -2.572061)\n",
      "('Obj first part: ', 1.4600400626659393)\n",
      "('Obj second part: ', -2.5063968)\n",
      "('Obj first part: ', 0.0)\n",
      "('Obj second part: ', -2.4716458)\n",
      "('Obj first part: ', 1.6675187647342682)\n",
      "('Obj second part: ', -2.3687115)\n"
     ]
    },
    {
     "name": "stderr",
     "output_type": "stream",
     "text": [
      "\n",
      "\n",
      "  0%|          | 549/473047 [05:37<13:33:48,  9.68it/s]\u001b[A\u001b[A\n",
      "\n",
      "  0%|          | 552/473047 [05:37<11:04:05, 11.86it/s]\u001b[A\u001b[A"
     ]
    },
    {
     "name": "stdout",
     "output_type": "stream",
     "text": [
      "('Obj first part: ', 1.4904731512069702)\n",
      "('Obj second part: ', -2.456218)\n",
      "('Obj first part: ', 1.6695870459079742)\n",
      "('Obj second part: ', -2.3919368)\n",
      "('Obj first part: ', 0.0)\n",
      "('Obj second part: ', -2.4561872)\n",
      "('Obj first part: ', 0.0)\n",
      "('Obj second part: ', -2.2448356)\n",
      "('Obj first part: ', 2.008143663406372)\n",
      "('Obj second part: ', -2.4321785)\n"
     ]
    },
    {
     "name": "stderr",
     "output_type": "stream",
     "text": [
      "\n",
      "\n",
      "  0%|          | 555/473047 [05:37<9:19:40, 14.07it/s] \u001b[A\u001b[A"
     ]
    },
    {
     "name": "stdout",
     "output_type": "stream",
     "text": [
      "('Obj first part: ', 0.0)\n",
      "('Obj second part: ', -2.2982435)\n",
      "('Obj first part: ', 1.9580654799938202)\n",
      "('Obj second part: ', -2.3070912)\n",
      "('Obj first part: ', 1.585683524608612)\n",
      "('Obj second part: ', -2.1937973)\n",
      "('Obj first part: ', 1.4587043225765228)\n",
      "('Obj second part: ', -2.4198856)\n",
      "('Obj first part: ', 1.4413274824619293)\n",
      "('Obj second part: ', -2.4576976)\n",
      "('Obj first part: ', 0.0)\n",
      "('Obj second part: ', -2.527335)\n"
     ]
    },
    {
     "name": "stderr",
     "output_type": "stream",
     "text": [
      "\n",
      "\n",
      "  0%|          | 558/473047 [05:38<8:04:32, 16.25it/s]\u001b[A\u001b[A\n",
      "\n",
      "  0%|          | 561/473047 [05:38<7:08:00, 18.40it/s]\u001b[A\u001b[A"
     ]
    },
    {
     "name": "stdout",
     "output_type": "stream",
     "text": [
      "('Obj first part: ', 0.0)\n",
      "('Obj second part: ', -2.4847639)\n",
      "('Obj first part: ', 0.0)\n",
      "('Obj second part: ', -2.406105)\n",
      "('Obj first part: ', 1.9845305383205414)\n",
      "('Obj second part: ', -2.2888544)\n",
      "('Obj first part: ', 0.0)\n",
      "('Obj second part: ', -2.3899643)\n",
      "('Obj first part: ', 1.6550232470035553)\n",
      "('Obj second part: ', -2.2984421)\n",
      "('Obj first part: ', 1.5526071190834045)\n",
      "('Obj second part: ', -2.331686)\n"
     ]
    },
    {
     "name": "stderr",
     "output_type": "stream",
     "text": [
      "\n",
      "\n",
      "  0%|          | 564/473047 [05:38<6:27:35, 20.32it/s]\u001b[A\u001b[A\n",
      "\n",
      "  0%|          | 567/473047 [05:38<6:00:22, 21.85it/s]\u001b[A\u001b[A"
     ]
    },
    {
     "name": "stdout",
     "output_type": "stream",
     "text": [
      "('Obj first part: ', 0.0)\n",
      "('Obj second part: ', -2.3480043)\n",
      "('Obj first part: ', 0.0)\n",
      "('Obj second part: ', -2.3381097)\n",
      "('Obj first part: ', 2.1627064049243927)\n",
      "('Obj second part: ', -2.1460457)\n",
      "('Obj first part: ', 1.7706714570522308)\n",
      "('Obj second part: ', -2.3254535)\n",
      "('Obj first part: ', 1.5530411899089813)\n",
      "('Obj second part: ', -2.3732123)\n",
      "('Obj first part: ', 0.0)\n",
      "('Obj second part: ', -2.4145536)\n"
     ]
    },
    {
     "name": "stderr",
     "output_type": "stream",
     "text": [
      "\n",
      "\n",
      "  0%|          | 570/473047 [05:38<5:41:09, 23.08it/s]\u001b[A\u001b[A\n",
      "\n",
      "  0%|          | 573/473047 [05:38<5:27:49, 24.02it/s]\u001b[A\u001b[A"
     ]
    },
    {
     "name": "stdout",
     "output_type": "stream",
     "text": [
      "('Obj first part: ', 1.651337593793869)\n",
      "('Obj second part: ', -2.3917193)\n",
      "('Obj first part: ', 0.0)\n",
      "('Obj second part: ', -2.4548464)\n",
      "('Obj first part: ', 0.0)\n",
      "('Obj second part: ', -2.5643783)\n",
      "('Obj first part: ', 0.0)\n",
      "('Obj second part: ', -2.382214)\n",
      "('Obj first part: ', 0.0)\n",
      "('Obj second part: ', -2.0186357)\n",
      "('Obj first part: ', 2.4881385266780853)\n",
      "('Obj second part: ', -2.2047257)\n"
     ]
    },
    {
     "name": "stderr",
     "output_type": "stream",
     "text": [
      "\n",
      "\n",
      "  0%|          | 576/473047 [05:38<5:19:24, 24.65it/s]\u001b[A\u001b[A\n",
      "\n",
      "  0%|          | 579/473047 [05:38<5:12:17, 25.22it/s]\u001b[A\u001b[A"
     ]
    },
    {
     "name": "stdout",
     "output_type": "stream",
     "text": [
      "('Obj first part: ', 0.0)\n",
      "('Obj second part: ', -2.2521553)\n",
      "('Obj first part: ', 0.0)\n",
      "('Obj second part: ', -2.1730292)\n",
      "('Obj first part: ', 2.5367364287376404)\n",
      "('Obj second part: ', -2.0763717)\n",
      "('Obj first part: ', 0.0)\n",
      "('Obj second part: ', -2.0805235)\n",
      "('Obj first part: ', 0.0)\n",
      "('Obj second part: ', -2.0979865)\n",
      "('Obj first part: ', 2.3400284349918365)\n",
      "('Obj second part: ', -1.9505328)\n"
     ]
    },
    {
     "name": "stderr",
     "output_type": "stream",
     "text": [
      "\n",
      "\n",
      "  0%|          | 582/473047 [05:38<5:08:01, 25.56it/s]\u001b[A\u001b[A\n",
      "\n",
      "  0%|          | 585/473047 [05:39<5:04:17, 25.88it/s]\u001b[A\u001b[A"
     ]
    },
    {
     "name": "stdout",
     "output_type": "stream",
     "text": [
      "('Obj first part: ', 0.0)\n",
      "('Obj second part: ', -2.0530589)\n",
      "('Obj first part: ', 0.0)\n",
      "('Obj second part: ', -1.9111712)\n",
      "('Obj first part: ', 2.4212945997714996)\n",
      "('Obj second part: ', -2.0437746)\n",
      "('Obj first part: ', 0.0)\n",
      "('Obj second part: ', -2.0365803)\n",
      "('Obj first part: ', 0.0)\n",
      "('Obj second part: ', -1.9873301)\n",
      "('Obj first part: ', 2.5132933259010315)\n",
      "('Obj second part: ', -1.881756)\n"
     ]
    },
    {
     "name": "stderr",
     "output_type": "stream",
     "text": [
      "\n",
      "\n",
      "  0%|          | 588/473047 [05:39<5:01:51, 26.09it/s]\u001b[A\u001b[A\n",
      "\n",
      "  0%|          | 591/473047 [05:39<5:00:16, 26.22it/s]\u001b[A\u001b[A"
     ]
    },
    {
     "name": "stdout",
     "output_type": "stream",
     "text": [
      "('Obj first part: ', 2.6027533411979675)\n",
      "('Obj second part: ', -1.9825631)\n",
      "('Obj first part: ', 2.0765143632888794)\n",
      "('Obj second part: ', -2.1231751)\n",
      "('Obj first part: ', 1.862701177597046)\n",
      "('Obj second part: ', -2.1539197)\n",
      "('Obj first part: ', 0.0)\n",
      "('Obj second part: ', -2.327872)\n",
      "('Obj first part: ', 1.9740545749664307)\n",
      "('Obj second part: ', -2.2350588)\n",
      "('Obj first part: ', 0.0)\n",
      "('Obj second part: ', -2.4390688)\n"
     ]
    },
    {
     "name": "stderr",
     "output_type": "stream",
     "text": [
      "\n",
      "\n",
      "  0%|          | 594/473047 [05:39<4:59:28, 26.29it/s]\u001b[A\u001b[A\n",
      "\n",
      "  0%|          | 597/473047 [05:39<5:00:12, 26.23it/s]\u001b[A\u001b[A"
     ]
    },
    {
     "name": "stdout",
     "output_type": "stream",
     "text": [
      "('Obj first part: ', 0.0)\n",
      "('Obj second part: ', -2.3062525)\n",
      "('Obj first part: ', 2.284470349550247)\n",
      "('Obj second part: ', -2.1996572)\n",
      "('Obj first part: ', 0.0)\n",
      "('Obj second part: ', -2.309391)\n",
      "('Obj first part: ', 2.216229736804962)\n",
      "('Obj second part: ', -2.0607808)\n",
      "('Obj first part: ', 0.0)\n",
      "('Obj second part: ', -2.1620014)\n",
      "('Obj first part: ', 1.906278282403946)\n",
      "('Obj second part: ', -2.3778284)\n"
     ]
    },
    {
     "name": "stderr",
     "output_type": "stream",
     "text": [
      "\n",
      "\n",
      "  0%|          | 600/473047 [05:39<4:59:59, 26.25it/s]\u001b[A\u001b[A"
     ]
    },
    {
     "name": "stdout",
     "output_type": "stream",
     "text": [
      "('Obj first part: ', 1.5755204856395721)\n",
      "('Obj second part: ', -2.299262)\n"
     ]
    },
    {
     "name": "stderr",
     "output_type": "stream",
     "text": [
      "\n",
      "\n",
      "  0%|          | 600/473047 [05:49<4:59:59, 26.25it/s]\u001b[A\u001b[A"
     ]
    },
    {
     "name": "stdout",
     "output_type": "stream",
     "text": [
      "('Train loss first part: ', 0.9112779243737459)\n",
      "('Train loss second part: ', -2.3373487)\n",
      "('Test loss first part: ', 0.8903025322407485)\n"
     ]
    },
    {
     "name": "stderr",
     "output_type": "stream",
     "text": [
      "\n",
      "\n",
      "  0%|          | 601/473047 [06:42<2488:57:24, 18.97s/it]\u001b[A\u001b[A\n",
      "\n",
      "  0%|          | 604/473047 [06:42<1743:44:57, 13.29s/it]\u001b[A\u001b[A"
     ]
    },
    {
     "name": "stdout",
     "output_type": "stream",
     "text": [
      "('Test loss second part: ', -2.3395762)\n",
      "('Obj first part: ', 1.9449523091316223)\n",
      "('Obj second part: ', -2.4168034)\n",
      "('Obj first part: ', 0.0)\n",
      "('Obj second part: ', -2.2983909)\n",
      "('Obj first part: ', 1.8705946207046509)\n",
      "('Obj second part: ', -2.1229265)\n",
      "('Obj first part: ', 0.0)\n",
      "('Obj second part: ', -2.5094588)\n",
      "('Obj first part: ', 1.789497286081314)\n",
      "('Obj second part: ', -2.3355868)\n",
      "('Obj first part: ', 1.7421315610408783)\n",
      "('Obj second part: ', -2.2630126)\n"
     ]
    },
    {
     "name": "stderr",
     "output_type": "stream",
     "text": [
      "\n",
      "\n",
      "  0%|          | 607/473047 [06:42<1222:05:44,  9.31s/it]\u001b[A\u001b[A\n",
      "\n",
      "  0%|          | 610/473047 [06:43<856:56:37,  6.53s/it] \u001b[A\u001b[A"
     ]
    },
    {
     "name": "stdout",
     "output_type": "stream",
     "text": [
      "('Obj first part: ', 1.7607797682285309)\n",
      "('Obj second part: ', -2.313943)\n",
      "('Obj first part: ', 0.0)\n",
      "('Obj second part: ', -2.616749)\n",
      "('Obj first part: ', 1.5232828259468079)\n",
      "('Obj second part: ', -2.3861177)\n",
      "('Obj first part: ', 0.0)\n",
      "('Obj second part: ', -2.4913561)\n",
      "('Obj first part: ', 1.9273997843265533)\n",
      "('Obj second part: ', -2.4922323)\n",
      "('Obj first part: ', 0.0)\n",
      "('Obj second part: ', -2.5828917)\n"
     ]
    },
    {
     "name": "stderr",
     "output_type": "stream",
     "text": [
      "\n",
      "\n",
      "  0%|          | 613/473047 [06:43<601:20:57,  4.58s/it]\u001b[A\u001b[A\n",
      "\n",
      "  0%|          | 616/473047 [06:43<422:25:04,  3.22s/it]\u001b[A\u001b[A"
     ]
    },
    {
     "name": "stdout",
     "output_type": "stream",
     "text": [
      "('Obj first part: ', 0.0)\n",
      "('Obj second part: ', -2.2884605)\n",
      "('Obj first part: ', 1.8659983575344086)\n",
      "('Obj second part: ', -2.256325)\n",
      "('Obj first part: ', 1.5082021057605743)\n",
      "('Obj second part: ', -2.4621096)\n",
      "('Obj first part: ', 2.1150656044483185)\n",
      "('Obj second part: ', -2.574241)\n",
      "('Obj first part: ', 1.6593992710113525)\n",
      "('Obj second part: ', -2.5915587)\n",
      "('Obj first part: ', 1.4163796603679657)\n",
      "('Obj second part: ', -2.6819582)\n"
     ]
    },
    {
     "name": "stderr",
     "output_type": "stream",
     "text": [
      "\n",
      "\n",
      "  0%|          | 619/473047 [06:43<297:11:57,  2.26s/it]\u001b[A\u001b[A\n",
      "\n",
      "  0%|          | 622/473047 [06:43<209:30:33,  1.60s/it]\u001b[A\u001b[A"
     ]
    },
    {
     "name": "stdout",
     "output_type": "stream",
     "text": [
      "('Obj first part: ', 1.5888598561286926)\n",
      "('Obj second part: ', -2.458208)\n",
      "('Obj first part: ', 1.183064952492714)\n",
      "('Obj second part: ', -2.7638927)\n",
      "('Obj first part: ', 1.0118773579597473)\n",
      "('Obj second part: ', -2.6868596)\n",
      "('Obj first part: ', 0.0)\n",
      "('Obj second part: ', -2.6736205)\n",
      "('Obj first part: ', 1.1059430241584778)\n",
      "('Obj second part: ', -2.9317572)\n",
      "('Obj first part: ', 1.3697715103626251)\n",
      "('Obj second part: ', -2.9255104)\n"
     ]
    },
    {
     "name": "stderr",
     "output_type": "stream",
     "text": [
      "\n",
      "\n",
      "  0%|          | 625/473047 [06:43<148:08:35,  1.13s/it]\u001b[A\u001b[A\n",
      "\n",
      "  0%|          | 628/473047 [06:43<105:11:29,  1.25it/s]\u001b[A\u001b[A"
     ]
    },
    {
     "name": "stdout",
     "output_type": "stream",
     "text": [
      "('Obj first part: ', 1.4145410060882568)\n",
      "('Obj second part: ', -2.7353275)\n",
      "('Obj first part: ', 1.237201765179634)\n",
      "('Obj second part: ', -2.624129)\n",
      "('Obj first part: ', 0.8966793119907379)\n",
      "('Obj second part: ', -2.7061286)\n",
      "('Obj first part: ', 0.9672047197818756)\n",
      "('Obj second part: ', -2.7978282)\n",
      "('Obj first part: ', 0.988132432103157)\n",
      "('Obj second part: ', -2.6610968)\n",
      "('Obj first part: ', 1.154520958662033)\n",
      "('Obj second part: ', -2.852649)\n"
     ]
    },
    {
     "name": "stderr",
     "output_type": "stream",
     "text": [
      "\n",
      "\n",
      "  0%|          | 631/473047 [06:43<75:08:22,  1.75it/s] \u001b[A\u001b[A\n",
      "\n",
      "  0%|          | 634/473047 [06:43<54:06:10,  2.43it/s]\u001b[A\u001b[A"
     ]
    },
    {
     "name": "stdout",
     "output_type": "stream",
     "text": [
      "('Obj first part: ', 1.0158967226743698)\n",
      "('Obj second part: ', -2.7698705)\n",
      "('Obj first part: ', 1.1055325716733932)\n",
      "('Obj second part: ', -2.8473256)\n",
      "('Obj first part: ', 1.031201258301735)\n",
      "('Obj second part: ', -2.5761535)\n",
      "('Obj first part: ', 0.9223996102809906)\n",
      "('Obj second part: ', -2.5524685)\n",
      "('Obj first part: ', 0.0)\n",
      "('Obj second part: ', -2.7288206)\n",
      "('Obj first part: ', 0.0)\n",
      "('Obj second part: ', -2.9483054)\n"
     ]
    },
    {
     "name": "stderr",
     "output_type": "stream",
     "text": [
      "\n",
      "\n",
      "  0%|          | 637/473047 [06:44<39:24:32,  3.33it/s]\u001b[A\u001b[A\n",
      "\n",
      "  0%|          | 640/473047 [06:44<29:04:08,  4.51it/s]\u001b[A\u001b[A"
     ]
    },
    {
     "name": "stdout",
     "output_type": "stream",
     "text": [
      "('Obj first part: ', 0.0)\n",
      "('Obj second part: ', -2.4537437)\n",
      "('Obj first part: ', 0.0)\n",
      "('Obj second part: ', -2.36608)\n",
      "('Obj first part: ', 0.0)\n",
      "('Obj second part: ', -2.371728)\n",
      "('Obj first part: ', 2.1182407438755035)\n",
      "('Obj second part: ', -2.2484567)\n",
      "('Obj first part: ', 0.0)\n",
      "('Obj second part: ', -2.4362302)\n",
      "('Obj first part: ', 0.0)\n",
      "('Obj second part: ', -2.2830524)\n"
     ]
    },
    {
     "name": "stderr",
     "output_type": "stream",
     "text": [
      "\n",
      "\n",
      "  0%|          | 643/473047 [06:44<21:50:36,  6.01it/s]\u001b[A\u001b[A\n",
      "\n",
      "  0%|          | 646/473047 [06:44<16:45:58,  7.83it/s]\u001b[A\u001b[A"
     ]
    },
    {
     "name": "stdout",
     "output_type": "stream",
     "text": [
      "('Obj first part: ', 2.3523204028606415)\n",
      "('Obj second part: ', -2.0941029)\n",
      "('Obj first part: ', 1.8995191156864166)\n",
      "('Obj second part: ', -2.5510645)\n",
      "('Obj first part: ', 0.0)\n",
      "('Obj second part: ', -2.4476075)\n",
      "('Obj first part: ', 0.0)\n",
      "('Obj second part: ', -2.190715)\n",
      "('Obj first part: ', 0.0)\n",
      "('Obj second part: ', -2.3465855)\n",
      "('Obj first part: ', 2.1059007942676544)\n",
      "('Obj second part: ', -2.1183515)\n"
     ]
    },
    {
     "name": "stderr",
     "output_type": "stream",
     "text": [
      "\n",
      "\n",
      "  0%|          | 649/473047 [06:44<13:13:59,  9.92it/s]\u001b[A\u001b[A\n",
      "\n",
      "  0%|          | 652/473047 [06:44<10:44:27, 12.22it/s]\u001b[A\u001b[A"
     ]
    },
    {
     "name": "stdout",
     "output_type": "stream",
     "text": [
      "('Obj first part: ', 2.2449317574501038)\n",
      "('Obj second part: ', -2.2218137)\n",
      "('Obj first part: ', 1.575043797492981)\n",
      "('Obj second part: ', -2.317715)\n",
      "('Obj first part: ', 2.0761698484420776)\n",
      "('Obj second part: ', -2.3928766)\n",
      "('Obj first part: ', 0.0)\n",
      "('Obj second part: ', -2.451077)\n",
      "('Obj first part: ', 0.0)\n",
      "('Obj second part: ', -2.366703)\n",
      "('Obj first part: ', 0.0)\n",
      "('Obj second part: ', -2.4331682)\n"
     ]
    },
    {
     "name": "stderr",
     "output_type": "stream",
     "text": [
      "\n",
      "\n",
      "  0%|          | 655/473047 [06:44<9:00:46, 14.56it/s] \u001b[A\u001b[A\n",
      "\n",
      "  0%|          | 658/473047 [06:44<7:48:38, 16.80it/s]\u001b[A\u001b[A"
     ]
    },
    {
     "name": "stdout",
     "output_type": "stream",
     "text": [
      "('Obj first part: ', 2.1290047466754913)\n",
      "('Obj second part: ', -2.3585908)\n",
      "('Obj first part: ', 1.8573978543281555)\n",
      "('Obj second part: ', -2.2504916)\n",
      "('Obj first part: ', 0.0)\n",
      "('Obj second part: ', -2.4196067)\n",
      "('Obj first part: ', 0.0)\n",
      "('Obj second part: ', -2.4373043)\n",
      "('Obj first part: ', 2.3482735455036163)\n",
      "('Obj second part: ', -2.2203674)\n",
      "('Obj first part: ', 0.0)\n",
      "('Obj second part: ', -2.2911704)\n"
     ]
    },
    {
     "name": "stderr",
     "output_type": "stream",
     "text": [
      "\n",
      "\n",
      "  0%|          | 661/473047 [06:44<6:58:22, 18.82it/s]\u001b[A\u001b[A\n",
      "\n",
      "  0%|          | 664/473047 [06:45<6:25:54, 20.40it/s]\u001b[A\u001b[A"
     ]
    },
    {
     "name": "stdout",
     "output_type": "stream",
     "text": [
      "('Obj first part: ', 2.0313046872615814)\n",
      "('Obj second part: ', -2.2013958)\n",
      "('Obj first part: ', 1.5121300518512726)\n",
      "('Obj second part: ', -2.3503056)\n",
      "('Obj first part: ', 0.0)\n",
      "('Obj second part: ', -2.322843)\n",
      "('Obj first part: ', 0.0)\n",
      "('Obj second part: ', -2.370551)\n",
      "('Obj first part: ', 0.0)\n",
      "('Obj second part: ', -2.140606)\n",
      "('Obj first part: ', 0.0)\n",
      "('Obj second part: ', -2.0279667)\n"
     ]
    },
    {
     "name": "stderr",
     "output_type": "stream",
     "text": [
      "\n",
      "\n",
      "  0%|          | 667/473047 [06:45<5:59:29, 21.90it/s]\u001b[A\u001b[A\n",
      "\n",
      "  0%|          | 670/473047 [06:45<5:40:29, 23.12it/s]\u001b[A\u001b[A"
     ]
    },
    {
     "name": "stdout",
     "output_type": "stream",
     "text": [
      "('Obj first part: ', 1.8588675558567047)\n",
      "('Obj second part: ', -1.9884115)\n",
      "('Obj first part: ', 2.088766247034073)\n",
      "('Obj second part: ', -2.1596394)\n",
      "('Obj first part: ', 0.0)\n",
      "('Obj second part: ', -2.271939)\n",
      "('Obj first part: ', 2.3811663687229156)\n",
      "('Obj second part: ', -2.2779076)\n",
      "('Obj first part: ', 1.9299857318401337)\n",
      "('Obj second part: ', -2.0737958)\n",
      "('Obj first part: ', 0.0)\n",
      "('Obj second part: ', -2.3048916)\n"
     ]
    },
    {
     "name": "stderr",
     "output_type": "stream",
     "text": [
      "\n",
      "\n",
      "  0%|          | 673/473047 [06:45<5:26:59, 24.08it/s]\u001b[A\u001b[A\n",
      "\n",
      "  0%|          | 676/473047 [06:45<5:18:01, 24.76it/s]\u001b[A\u001b[A"
     ]
    },
    {
     "name": "stdout",
     "output_type": "stream",
     "text": [
      "('Obj first part: ', 0.0)\n",
      "('Obj second part: ', -2.1725814)\n",
      "('Obj first part: ', 0.0)\n",
      "('Obj second part: ', -2.0237234)\n",
      "('Obj first part: ', 1.840447187423706)\n",
      "('Obj second part: ', -2.0375423)\n",
      "('Obj first part: ', 2.189350575208664)\n",
      "('Obj second part: ', -2.1485333)\n",
      "('Obj first part: ', 0.0)\n",
      "('Obj second part: ', -2.3316662)\n",
      "('Obj first part: ', 0.0)\n",
      "('Obj second part: ', -2.1255598)\n"
     ]
    },
    {
     "name": "stderr",
     "output_type": "stream",
     "text": [
      "\n",
      "\n",
      "  0%|          | 679/473047 [06:45<5:13:31, 25.11it/s]\u001b[A\u001b[A\n",
      "\n",
      "  0%|          | 682/473047 [06:45<5:08:00, 25.56it/s]\u001b[A\u001b[A"
     ]
    },
    {
     "name": "stdout",
     "output_type": "stream",
     "text": [
      "('Obj first part: ', 0.0)\n",
      "('Obj second part: ', -1.9585621)\n",
      "('Obj first part: ', 2.318396121263504)\n",
      "('Obj second part: ', -2.08738)\n",
      "('Obj first part: ', 2.4205489456653595)\n",
      "('Obj second part: ', -2.1546366)\n",
      "('Obj first part: ', 1.9223231077194214)\n",
      "('Obj second part: ', -2.4234629)\n",
      "('Obj first part: ', 1.6393674910068512)\n",
      "('Obj second part: ', -2.265543)\n",
      "('Obj first part: ', 1.422603726387024)\n",
      "('Obj second part: ', -2.510803)\n"
     ]
    },
    {
     "name": "stderr",
     "output_type": "stream",
     "text": [
      "\n",
      "\n",
      "  0%|          | 685/473047 [06:45<5:04:11, 25.88it/s]\u001b[A\u001b[A\n",
      "\n",
      "  0%|          | 688/473047 [06:46<5:01:57, 26.07it/s]\u001b[A\u001b[A"
     ]
    },
    {
     "name": "stdout",
     "output_type": "stream",
     "text": [
      "('Obj first part: ', 1.5846513211727142)\n",
      "('Obj second part: ', -2.4249983)\n",
      "('Obj first part: ', 1.5235304832458496)\n",
      "('Obj second part: ', -2.3722768)\n",
      "('Obj first part: ', 1.2362448871135712)\n",
      "('Obj second part: ', -2.3907123)\n",
      "('Obj first part: ', 0.0)\n",
      "('Obj second part: ', -2.908196)\n",
      "('Obj first part: ', 0.0)\n",
      "('Obj second part: ', -2.2761595)\n",
      "('Obj first part: ', 0.0)\n",
      "('Obj second part: ', -2.401802)\n"
     ]
    },
    {
     "name": "stderr",
     "output_type": "stream",
     "text": [
      "\n",
      "\n",
      "  0%|          | 691/473047 [06:46<5:02:55, 25.99it/s]\u001b[A\u001b[A\n",
      "\n",
      "  0%|          | 694/473047 [06:46<5:01:19, 26.13it/s]\u001b[A\u001b[A"
     ]
    },
    {
     "name": "stdout",
     "output_type": "stream",
     "text": [
      "('Obj first part: ', 0.0)\n",
      "('Obj second part: ', -2.3140955)\n",
      "('Obj first part: ', 0.0)\n",
      "('Obj second part: ', -2.358798)\n",
      "('Obj first part: ', 2.6097649335861206)\n",
      "('Obj second part: ', -2.0085917)\n",
      "('Obj first part: ', 2.377389371395111)\n",
      "('Obj second part: ', -1.9997131)\n",
      "('Obj first part: ', 1.727294772863388)\n",
      "('Obj second part: ', -2.2387373)\n",
      "('Obj first part: ', 1.365734040737152)\n",
      "('Obj second part: ', -2.3887863)\n"
     ]
    },
    {
     "name": "stderr",
     "output_type": "stream",
     "text": [
      "\n",
      "\n",
      "  0%|          | 697/473047 [06:46<5:00:09, 26.23it/s]\u001b[A\u001b[A\n",
      "\n",
      "  0%|          | 700/473047 [06:46<4:59:12, 26.31it/s]\u001b[A\u001b[A"
     ]
    },
    {
     "name": "stdout",
     "output_type": "stream",
     "text": [
      "('Obj first part: ', 0.0)\n",
      "('Obj second part: ', -2.320074)\n",
      "('Obj first part: ', 0.0)\n",
      "('Obj second part: ', -2.458455)\n",
      "('Obj first part: ', 1.7542839050292969)\n",
      "('Obj second part: ', -2.5672889)\n",
      "('Obj first part: ', 0.0)\n",
      "('Obj second part: ', -2.286249)\n"
     ]
    },
    {
     "name": "stderr",
     "output_type": "stream",
     "text": [
      "\n",
      "\n",
      "  0%|          | 700/473047 [06:59<4:59:12, 26.31it/s]\u001b[A\u001b[A"
     ]
    },
    {
     "name": "stdout",
     "output_type": "stream",
     "text": [
      "('Train loss first part: ', 0.9972892931997777)\n",
      "('Train loss second part: ', -2.2344484)\n",
      "('Test loss first part: ', 0.973216808795929)\n"
     ]
    },
    {
     "name": "stderr",
     "output_type": "stream",
     "text": [
      "\n",
      "\n",
      "  0%|          | 701/473047 [07:50<2505:56:17, 19.10s/it]\u001b[A\u001b[A\n",
      "\n",
      "  0%|          | 704/473047 [07:50<1755:39:25, 13.38s/it]\u001b[A\u001b[A"
     ]
    },
    {
     "name": "stdout",
     "output_type": "stream",
     "text": [
      "('Test loss second part: ', -2.2369602)\n",
      "('Obj first part: ', 1.9390030205249786)\n",
      "('Obj second part: ', -2.292623)\n",
      "('Obj first part: ', 1.7237699031829834)\n",
      "('Obj second part: ', -2.4779208)\n",
      "('Obj first part: ', 0.0)\n",
      "('Obj second part: ', -2.4405563)\n",
      "('Obj first part: ', 0.0)\n",
      "('Obj second part: ', -2.372035)\n",
      "('Obj first part: ', 0.0)\n",
      "('Obj second part: ', -2.4899957)\n"
     ]
    },
    {
     "name": "stderr",
     "output_type": "stream",
     "text": [
      "\n",
      "\n",
      "  0%|          | 707/473047 [07:50<1230:30:11,  9.38s/it]\u001b[A\u001b[A\n",
      "\n",
      "  0%|          | 710/473047 [07:50<862:49:02,  6.58s/it] \u001b[A\u001b[A"
     ]
    },
    {
     "name": "stdout",
     "output_type": "stream",
     "text": [
      "('Obj first part: ', 2.37932488322258)\n",
      "('Obj second part: ', -2.1783214)\n",
      "('Obj first part: ', 1.5559948980808258)\n",
      "('Obj second part: ', -2.235873)\n",
      "('Obj first part: ', 0.0)\n",
      "('Obj second part: ', -2.3323312)\n",
      "('Obj first part: ', 0.0)\n",
      "('Obj second part: ', -2.135002)\n",
      "('Obj first part: ', 1.8991243839263916)\n",
      "('Obj second part: ', -2.0769374)\n",
      "('Obj first part: ', 0.0)\n",
      "('Obj second part: ', -2.3567724)\n"
     ]
    },
    {
     "name": "stderr",
     "output_type": "stream",
     "text": [
      "\n",
      "\n",
      "  0%|          | 713/473047 [07:50<605:27:15,  4.61s/it]\u001b[A\u001b[A\n",
      "\n",
      "  0%|          | 716/473047 [07:50<425:17:17,  3.24s/it]\u001b[A\u001b[A"
     ]
    },
    {
     "name": "stdout",
     "output_type": "stream",
     "text": [
      "('Obj first part: ', 0.0)\n",
      "('Obj second part: ', -2.1844935)\n",
      "('Obj first part: ', 2.4389736354351044)\n",
      "('Obj second part: ', -2.0185773)\n",
      "('Obj first part: ', 0.0)\n",
      "('Obj second part: ', -2.2993445)\n",
      "('Obj first part: ', 2.7370235323905945)\n",
      "('Obj second part: ', -2.1982305)\n",
      "('Obj first part: ', 2.0272690057754517)\n",
      "('Obj second part: ', -2.3528388)\n",
      "('Obj first part: ', 0.0)\n",
      "('Obj second part: ', -2.2269127)\n"
     ]
    },
    {
     "name": "stderr",
     "output_type": "stream",
     "text": [
      "\n",
      "\n",
      "  0%|          | 719/473047 [07:50<299:13:34,  2.28s/it]\u001b[A\u001b[A\n",
      "\n",
      "  0%|          | 722/473047 [07:50<210:57:48,  1.61s/it]\u001b[A\u001b[A"
     ]
    },
    {
     "name": "stdout",
     "output_type": "stream",
     "text": [
      "('Obj first part: ', 0.0)\n",
      "('Obj second part: ', -2.2445507)\n",
      "('Obj first part: ', 0.0)\n",
      "('Obj second part: ', -2.1682415)\n",
      "('Obj first part: ', 2.343478351831436)\n",
      "('Obj second part: ', -2.0268924)\n",
      "('Obj first part: ', 0.0)\n",
      "('Obj second part: ', -2.045353)\n",
      "('Obj first part: ', 2.0977601408958435)\n",
      "('Obj second part: ', -2.080949)\n",
      "('Obj first part: ', 1.9099655747413635)\n",
      "('Obj second part: ', -2.1948307)\n"
     ]
    },
    {
     "name": "stderr",
     "output_type": "stream",
     "text": [
      "\n",
      "\n",
      "  0%|          | 725/473047 [07:50<149:09:28,  1.14s/it]\u001b[A\u001b[A\n",
      "\n",
      "  0%|          | 728/473047 [07:51<105:53:25,  1.24it/s]\u001b[A\u001b[A"
     ]
    },
    {
     "name": "stdout",
     "output_type": "stream",
     "text": [
      "('Obj first part: ', 0.0)\n",
      "('Obj second part: ', -2.065818)\n",
      "('Obj first part: ', 0.0)\n",
      "('Obj second part: ', -2.1373727)\n",
      "('Obj first part: ', 0.0)\n",
      "('Obj second part: ', -2.161075)\n",
      "('Obj first part: ', 2.507050633430481)\n",
      "('Obj second part: ', -1.9256568)\n",
      "('Obj first part: ', 1.903235763311386)\n",
      "('Obj second part: ', -2.0278902)\n",
      "('Obj first part: ', 2.1284161508083344)\n",
      "('Obj second part: ', -2.3168764)\n"
     ]
    },
    {
     "name": "stderr",
     "output_type": "stream",
     "text": [
      "\n",
      "\n",
      "  0%|          | 731/473047 [07:51<75:38:45,  1.73it/s] \u001b[A\u001b[A\n",
      "\n",
      "  0%|          | 734/473047 [07:51<54:25:40,  2.41it/s]\u001b[A\u001b[A"
     ]
    },
    {
     "name": "stdout",
     "output_type": "stream",
     "text": [
      "('Obj first part: ', 0.0)\n",
      "('Obj second part: ', -2.0774076)\n",
      "('Obj first part: ', 1.9264377653598785)\n",
      "('Obj second part: ', -2.2179322)\n",
      "('Obj first part: ', 0.0)\n",
      "('Obj second part: ', -2.4163036)\n",
      "('Obj first part: ', 0.0)\n",
      "('Obj second part: ', -2.2901227)\n",
      "('Obj first part: ', 0.0)\n",
      "('Obj second part: ', -2.1160386)\n",
      "('Obj first part: ', 2.4847054481506348)\n",
      "('Obj second part: ', -1.8291197)\n"
     ]
    },
    {
     "name": "stderr",
     "output_type": "stream",
     "text": [
      "\n",
      "\n",
      "  0%|          | 737/473047 [07:51<39:36:36,  3.31it/s]\u001b[A\u001b[A\n",
      "\n",
      "  0%|          | 740/473047 [07:51<29:15:56,  4.48it/s]\u001b[A\u001b[A"
     ]
    },
    {
     "name": "stdout",
     "output_type": "stream",
     "text": [
      "('Obj first part: ', 0.0)\n",
      "('Obj second part: ', -2.1873198)\n",
      "('Obj first part: ', 2.31318399310112)\n",
      "('Obj second part: ', -2.1013942)\n",
      "('Obj first part: ', 2.0920217037200928)\n",
      "('Obj second part: ', -2.2075303)\n",
      "('Obj first part: ', 0.0)\n",
      "('Obj second part: ', -2.4728432)\n",
      "('Obj first part: ', 1.7324259877204895)\n",
      "('Obj second part: ', -2.1462245)\n",
      "('Obj first part: ', 1.6890859603881836)\n",
      "('Obj second part: ', -2.237246)\n"
     ]
    },
    {
     "name": "stderr",
     "output_type": "stream",
     "text": [
      "\n",
      "\n",
      "  0%|          | 743/473047 [07:51<21:57:53,  5.97it/s]\u001b[A\u001b[A\n",
      "\n",
      "  0%|          | 746/473047 [07:51<16:51:08,  7.78it/s]\u001b[A\u001b[A"
     ]
    },
    {
     "name": "stdout",
     "output_type": "stream",
     "text": [
      "('Obj first part: ', 1.9108714163303375)\n",
      "('Obj second part: ', -2.3365993)\n",
      "('Obj first part: ', 1.3723903894424438)\n",
      "('Obj second part: ', -2.4463785)\n",
      "('Obj first part: ', 0.0)\n",
      "('Obj second part: ', -2.5218005)\n",
      "('Obj first part: ', 1.9011755287647247)\n",
      "('Obj second part: ', -2.4976876)\n",
      "('Obj first part: ', 1.2713804841041565)\n",
      "('Obj second part: ', -2.4334288)\n",
      "('Obj first part: ', 0.0)\n",
      "('Obj second part: ', -2.7051818)\n"
     ]
    },
    {
     "name": "stderr",
     "output_type": "stream",
     "text": [
      "\n",
      "\n",
      "  0%|          | 749/473047 [07:51<13:16:21,  9.88it/s]\u001b[A\u001b[A\n",
      "\n",
      "  0%|          | 752/473047 [07:51<10:47:11, 12.16it/s]\u001b[A\u001b[A"
     ]
    },
    {
     "name": "stdout",
     "output_type": "stream",
     "text": [
      "('Obj first part: ', 1.450355052947998)\n",
      "('Obj second part: ', -2.4540923)\n",
      "('Obj first part: ', 1.5863832831382751)\n",
      "('Obj second part: ', -2.4152865)\n",
      "('Obj first part: ', 0.0)\n",
      "('Obj second part: ', -2.5467992)\n",
      "('Obj first part: ', 1.6470438241958618)\n",
      "('Obj second part: ', -2.1114087)\n",
      "('Obj first part: ', 0.0)\n",
      "('Obj second part: ', -2.6043737)\n",
      "('Obj first part: ', 1.7859601974487305)\n",
      "('Obj second part: ', -2.1995912)\n"
     ]
    },
    {
     "name": "stderr",
     "output_type": "stream",
     "text": [
      "\n",
      "\n",
      "  0%|          | 755/473047 [07:52<9:03:24, 14.49it/s] \u001b[A\u001b[A\n",
      "\n",
      "  0%|          | 758/473047 [07:52<7:52:50, 16.65it/s]\u001b[A\u001b[A"
     ]
    },
    {
     "name": "stdout",
     "output_type": "stream",
     "text": [
      "('Obj first part: ', 1.4706504344940186)\n",
      "('Obj second part: ', -2.1970267)\n",
      "('Obj first part: ', 0.0)\n",
      "('Obj second part: ', -2.6112504)\n",
      "('Obj first part: ', 0.0)\n",
      "('Obj second part: ', -2.2773743)\n",
      "('Obj first part: ', 1.735956221818924)\n",
      "('Obj second part: ', -2.3437397)\n",
      "('Obj first part: ', 1.3388240337371826)\n",
      "('Obj second part: ', -2.2419667)\n",
      "('Obj first part: ', 0.0)\n",
      "('Obj second part: ', -2.487948)\n"
     ]
    },
    {
     "name": "stderr",
     "output_type": "stream",
     "text": [
      "\n",
      "\n",
      "  0%|          | 761/473047 [07:52<7:06:02, 18.48it/s]\u001b[A\u001b[A\n",
      "\n",
      "  0%|          | 764/473047 [07:52<6:31:22, 20.11it/s]\u001b[A\u001b[A"
     ]
    },
    {
     "name": "stdout",
     "output_type": "stream",
     "text": [
      "('Obj first part: ', 1.5199558436870575)\n",
      "('Obj second part: ', -2.4423134)\n",
      "('Obj first part: ', 0.0)\n",
      "('Obj second part: ', -2.2646909)\n",
      "('Obj first part: ', 0.0)\n",
      "('Obj second part: ', -2.3896112)\n",
      "('Obj first part: ', 0.0)\n",
      "('Obj second part: ', -2.0860276)\n",
      "('Obj first part: ', 2.158392071723938)\n",
      "('Obj second part: ', -2.2839456)\n",
      "('Obj first part: ', 0.0)\n",
      "('Obj second part: ', -2.2941759)\n"
     ]
    },
    {
     "name": "stderr",
     "output_type": "stream",
     "text": [
      "\n",
      "\n",
      "  0%|          | 767/473047 [07:52<6:05:58, 21.51it/s]\u001b[A\u001b[A\n",
      "\n",
      "  0%|          | 770/473047 [07:52<5:47:55, 22.62it/s]\u001b[A\u001b[A"
     ]
    },
    {
     "name": "stdout",
     "output_type": "stream",
     "text": [
      "('Obj first part: ', 0.0)\n",
      "('Obj second part: ', -2.1131396)\n",
      "('Obj first part: ', 2.4405433237552643)\n",
      "('Obj second part: ', -1.9341699)\n",
      "('Obj first part: ', 0.0)\n",
      "('Obj second part: ', -2.1618018)\n",
      "('Obj first part: ', 0.0)\n",
      "('Obj second part: ', -2.2202032)\n",
      "('Obj first part: ', 0.0)\n",
      "('Obj second part: ', -2.1859808)\n",
      "('Obj first part: ', 0.0)\n",
      "('Obj second part: ', -2.0792694)\n"
     ]
    },
    {
     "name": "stderr",
     "output_type": "stream",
     "text": [
      "\n",
      "\n",
      "  0%|          | 773/473047 [07:52<5:34:03, 23.56it/s]\u001b[A\u001b[A\n",
      "\n",
      "  0%|          | 776/473047 [07:52<5:25:42, 24.17it/s]\u001b[A\u001b[A"
     ]
    },
    {
     "name": "stdout",
     "output_type": "stream",
     "text": [
      "('Obj first part: ', 0.0)\n",
      "('Obj second part: ', -1.7997706)\n",
      "('Obj first part: ', 0.0)\n",
      "('Obj second part: ', -2.042916)\n",
      "('Obj first part: ', 0.0)\n",
      "('Obj second part: ', -1.6620629)\n",
      "('Obj first part: ', 0.0)\n",
      "('Obj second part: ', -1.7322047)\n",
      "('Obj first part: ', 3.256348669528961)\n",
      "('Obj second part: ', -1.6457162)\n",
      "('Obj first part: ', 0.0)\n",
      "('Obj second part: ', -1.8739)\n"
     ]
    },
    {
     "name": "stderr",
     "output_type": "stream",
     "text": [
      "\n",
      "\n",
      "  0%|          | 779/473047 [07:53<5:19:41, 24.62it/s]\u001b[A\u001b[A\n",
      "\n",
      "  0%|          | 782/473047 [07:53<5:17:06, 24.82it/s]\u001b[A\u001b[A"
     ]
    },
    {
     "name": "stdout",
     "output_type": "stream",
     "text": [
      "('Obj first part: ', 3.3489766716957092)\n",
      "('Obj second part: ', -1.5887818)\n",
      "('Obj first part: ', 2.5638052821159363)\n",
      "('Obj second part: ', -1.8549211)\n",
      "('Obj first part: ', 2.5259074568748474)\n",
      "('Obj second part: ', -2.2658691)\n",
      "('Obj first part: ', 0.0)\n",
      "('Obj second part: ', -2.0699322)\n",
      "('Obj first part: ', 2.6470917463302612)\n",
      "('Obj second part: ', -1.6692958)\n",
      "('Obj first part: ', 2.446771413087845)\n",
      "('Obj second part: ', -2.1635823)\n"
     ]
    },
    {
     "name": "stderr",
     "output_type": "stream",
     "text": [
      "\n",
      "\n",
      "  0%|          | 785/473047 [07:53<5:14:00, 25.07it/s]\u001b[A\u001b[A\n",
      "\n",
      "  0%|          | 788/473047 [07:53<5:12:03, 25.22it/s]\u001b[A\u001b[A"
     ]
    },
    {
     "name": "stdout",
     "output_type": "stream",
     "text": [
      "('Obj first part: ', 0.0)\n",
      "('Obj second part: ', -2.379925)\n",
      "('Obj first part: ', 1.9446443021297455)\n",
      "('Obj second part: ', -2.1376297)\n",
      "('Obj first part: ', 0.0)\n",
      "('Obj second part: ', -2.3058302)\n",
      "('Obj first part: ', 2.0800739526748657)\n",
      "('Obj second part: ', -2.1910036)\n",
      "('Obj first part: ', 1.8947209417819977)\n",
      "('Obj second part: ', -2.5846581)\n",
      "('Obj first part: ', 1.3050511479377747)\n",
      "('Obj second part: ', -2.2973704)\n"
     ]
    },
    {
     "name": "stderr",
     "output_type": "stream",
     "text": [
      "\n",
      "\n",
      "  0%|          | 791/473047 [07:53<5:10:14, 25.37it/s]\u001b[A\u001b[A\n",
      "\n",
      "  0%|          | 794/473047 [07:53<5:10:21, 25.36it/s]\u001b[A\u001b[A"
     ]
    },
    {
     "name": "stdout",
     "output_type": "stream",
     "text": [
      "('Obj first part: ', 0.0)\n",
      "('Obj second part: ', -2.4162276)\n",
      "('Obj first part: ', 0.0)\n",
      "('Obj second part: ', -2.1644568)\n",
      "('Obj first part: ', 0.0)\n",
      "('Obj second part: ', -2.4411745)\n",
      "('Obj first part: ', 1.8774068355560303)\n",
      "('Obj second part: ', -2.194524)\n",
      "('Obj first part: ', 0.0)\n",
      "('Obj second part: ', -2.2671282)\n",
      "('Obj first part: ', 0.0)\n",
      "('Obj second part: ', -2.2760444)\n"
     ]
    },
    {
     "name": "stderr",
     "output_type": "stream",
     "text": [
      "\n",
      "\n",
      "  0%|          | 797/473047 [07:53<5:08:08, 25.54it/s]\u001b[A\u001b[A\n",
      "\n",
      "  0%|          | 800/473047 [07:53<5:06:59, 25.64it/s]\u001b[A\u001b[A"
     ]
    },
    {
     "name": "stdout",
     "output_type": "stream",
     "text": [
      "('Obj first part: ', 2.1069033443927765)\n",
      "('Obj second part: ', -2.0672069)\n",
      "('Obj first part: ', 2.209153175354004)\n",
      "('Obj second part: ', -2.2403722)\n",
      "('Obj first part: ', 1.6594454646110535)\n",
      "('Obj second part: ', -2.056662)\n",
      "('Obj first part: ', 2.2054995596408844)\n",
      "('Obj second part: ', -2.2386434)\n",
      "('Obj first part: ', 0.0)\n",
      "('Obj second part: ', -2.5479965)\n"
     ]
    },
    {
     "name": "stderr",
     "output_type": "stream",
     "text": [
      "\n",
      "\n",
      "  0%|          | 800/473047 [08:09<5:06:59, 25.64it/s]\u001b[A\u001b[A"
     ]
    },
    {
     "name": "stdout",
     "output_type": "stream",
     "text": [
      "('Train loss first part: ', 0.8851205155551434)\n",
      "('Train loss second part: ', -2.3301756)\n",
      "('Test loss first part: ', 0.8630302154570818)\n"
     ]
    },
    {
     "name": "stderr",
     "output_type": "stream",
     "text": [
      "\n",
      "\n",
      "  0%|          | 801/473047 [08:57<2505:57:43, 19.10s/it]\u001b[A\u001b[A\n",
      "\n",
      "  0%|          | 804/473047 [08:57<1755:39:14, 13.38s/it]\u001b[A\u001b[A"
     ]
    },
    {
     "name": "stdout",
     "output_type": "stream",
     "text": [
      "('Test loss second part: ', -2.3335512)\n",
      "('Obj first part: ', 0.0)\n",
      "('Obj second part: ', -2.3019125)\n",
      "('Obj first part: ', 1.8621134757995605)\n",
      "('Obj second part: ', -2.0808804)\n",
      "('Obj first part: ', 0.0)\n",
      "('Obj second part: ', -2.3686583)\n",
      "('Obj first part: ', 0.0)\n",
      "('Obj second part: ', -2.192589)\n",
      "('Obj first part: ', 2.4166977405548096)\n",
      "('Obj second part: ', -2.086665)\n",
      "('Obj first part: ', 0.0)\n",
      "('Obj second part: ', -2.3306746)\n"
     ]
    },
    {
     "name": "stderr",
     "output_type": "stream",
     "text": [
      "\n",
      "\n",
      "  0%|          | 807/473047 [08:57<1230:25:45,  9.38s/it]\u001b[A\u001b[A\n",
      "\n",
      "  0%|          | 810/473047 [08:57<862:47:12,  6.58s/it] \u001b[A\u001b[A"
     ]
    },
    {
     "name": "stdout",
     "output_type": "stream",
     "text": [
      "('Obj first part: ', 0.0)\n",
      "('Obj second part: ', -2.213593)\n",
      "('Obj first part: ', 0.0)\n",
      "('Obj second part: ', -2.0909069)\n",
      "('Obj first part: ', 0.0)\n",
      "('Obj second part: ', -2.1286438)\n",
      "('Obj first part: ', 0.0)\n",
      "('Obj second part: ', -1.8755128)\n",
      "('Obj first part: ', 3.471921980381012)\n",
      "('Obj second part: ', -1.9422582)\n",
      "('Obj first part: ', 1.9364212453365326)\n",
      "('Obj second part: ', -2.0534217)\n"
     ]
    },
    {
     "name": "stderr",
     "output_type": "stream",
     "text": [
      "\n",
      "\n",
      "  0%|          | 813/473047 [08:57<605:25:59,  4.62s/it]\u001b[A\u001b[A\n",
      "\n",
      "  0%|          | 816/473047 [08:58<425:16:53,  3.24s/it]\u001b[A\u001b[A"
     ]
    },
    {
     "name": "stdout",
     "output_type": "stream",
     "text": [
      "('Obj first part: ', 2.0473334193229675)\n",
      "('Obj second part: ', -1.8632911)\n",
      "('Obj first part: ', 0.0)\n",
      "('Obj second part: ', -2.0100396)\n",
      "('Obj first part: ', 0.0)\n",
      "('Obj second part: ', -2.2477553)\n",
      "('Obj first part: ', 0.0)\n",
      "('Obj second part: ', -2.217733)\n",
      "('Obj first part: ', 1.831468641757965)\n",
      "('Obj second part: ', -1.8598368)\n",
      "('Obj first part: ', 0.0)\n",
      "('Obj second part: ', -1.969934)\n"
     ]
    },
    {
     "name": "stderr",
     "output_type": "stream",
     "text": [
      "\n",
      "\n",
      "  0%|          | 819/473047 [08:58<299:10:46,  2.28s/it]\u001b[A\u001b[A\n",
      "\n",
      "  0%|          | 822/473047 [08:58<210:55:56,  1.61s/it]\u001b[A\u001b[A"
     ]
    },
    {
     "name": "stdout",
     "output_type": "stream",
     "text": [
      "('Obj first part: ', 0.0)\n",
      "('Obj second part: ', -2.0140285)\n",
      "('Obj first part: ', 0.0)\n",
      "('Obj second part: ', -1.7552668)\n",
      "('Obj first part: ', 0.0)\n",
      "('Obj second part: ', -2.1285846)\n",
      "('Obj first part: ', 0.0)\n",
      "('Obj second part: ', -1.904897)\n",
      "('Obj first part: ', 0.0)\n",
      "('Obj second part: ', -1.7408123)\n",
      "('Obj first part: ', 0.0)\n",
      "('Obj second part: ', -1.6704363)\n"
     ]
    },
    {
     "name": "stderr",
     "output_type": "stream",
     "text": [
      "\n",
      "\n",
      "  0%|          | 825/473047 [08:58<149:07:10,  1.14s/it]\u001b[A\u001b[A\n",
      "\n",
      "  0%|          | 828/473047 [08:58<105:49:29,  1.24it/s]\u001b[A\u001b[A"
     ]
    },
    {
     "name": "stdout",
     "output_type": "stream",
     "text": [
      "('Obj first part: ', 0.0)\n",
      "('Obj second part: ', -1.6136551)\n",
      "('Obj first part: ', 0.0)\n",
      "('Obj second part: ', -1.4637599)\n",
      "('Obj first part: ', 0.0)\n",
      "('Obj second part: ', -1.3667321)\n",
      "('Obj first part: ', 0.0)\n",
      "('Obj second part: ', -1.4474603)\n",
      "('Obj first part: ', 0.0)\n",
      "('Obj second part: ', -1.418864)\n",
      "('Obj first part: ', 0.0)\n",
      "('Obj second part: ', -1.5483333)\n"
     ]
    },
    {
     "name": "stderr",
     "output_type": "stream",
     "text": [
      "\n",
      "\n",
      "  0%|          | 831/473047 [08:58<75:33:29,  1.74it/s] \u001b[A\u001b[A\n",
      "\n",
      "  0%|          | 834/473047 [08:58<54:22:35,  2.41it/s]\u001b[A\u001b[A"
     ]
    },
    {
     "name": "stdout",
     "output_type": "stream",
     "text": [
      "('Obj first part: ', 0.0)\n",
      "('Obj second part: ', -1.4841111)\n",
      "('Obj first part: ', 0.0)\n",
      "('Obj second part: ', -1.304313)\n",
      "('Obj first part: ', 0.0)\n",
      "('Obj second part: ', -1.417512)\n",
      "('Obj first part: ', 5.9158337116241455)\n",
      "('Obj second part: ', -1.3190486)\n",
      "('Obj first part: ', 0.0)\n",
      "('Obj second part: ', -1.5159502)\n",
      "('Obj first part: ', 4.6897077560424805)\n",
      "('Obj second part: ', -1.4657061)\n"
     ]
    },
    {
     "name": "stderr",
     "output_type": "stream",
     "text": [
      "\n",
      "\n",
      "  0%|          | 837/473047 [08:58<39:34:40,  3.31it/s]\u001b[A\u001b[A\n",
      "\n",
      "  0%|          | 840/473047 [08:58<29:10:37,  4.50it/s]\u001b[A\u001b[A"
     ]
    },
    {
     "name": "stdout",
     "output_type": "stream",
     "text": [
      "('Obj first part: ', 4.0319085121154785)\n",
      "('Obj second part: ', -1.488733)\n",
      "('Obj first part: ', 4.334527850151062)\n",
      "('Obj second part: ', -1.6111288)\n",
      "('Obj first part: ', 3.6986523866653442)\n",
      "('Obj second part: ', -1.9120659)\n",
      "('Obj first part: ', 0.0)\n",
      "('Obj second part: ', -1.7725582)\n",
      "('Obj first part: ', 0.0)\n",
      "('Obj second part: ', -2.080159)\n",
      "('Obj first part: ', 4.263629913330078)\n",
      "('Obj second part: ', -1.8815578)\n"
     ]
    },
    {
     "name": "stderr",
     "output_type": "stream",
     "text": [
      "\n",
      "\n",
      "  0%|          | 843/473047 [08:59<21:54:42,  5.99it/s]\u001b[A\u001b[A\n",
      "\n",
      "  0%|          | 846/473047 [08:59<16:51:58,  7.78it/s]\u001b[A\u001b[A"
     ]
    },
    {
     "name": "stdout",
     "output_type": "stream",
     "text": [
      "('Obj first part: ', 2.544391453266144)\n",
      "('Obj second part: ', -1.7919774)\n",
      "('Obj first part: ', 0.0)\n",
      "('Obj second part: ', -1.8539381)\n",
      "('Obj first part: ', 0.0)\n",
      "('Obj second part: ', -2.2924798)\n",
      "('Obj first part: ', 0.0)\n",
      "('Obj second part: ', -1.912202)\n",
      "('Obj first part: ', 3.09397429227829)\n",
      "('Obj second part: ', -1.6863801)\n",
      "('Obj first part: ', 3.015602231025696)\n",
      "('Obj second part: ', -2.0266938)\n"
     ]
    },
    {
     "name": "stderr",
     "output_type": "stream",
     "text": [
      "\n",
      "\n",
      "  0%|          | 849/473047 [08:59<13:19:23,  9.84it/s]\u001b[A\u001b[A\n",
      "\n",
      "  0%|          | 852/473047 [08:59<10:48:53, 12.13it/s]\u001b[A\u001b[A"
     ]
    },
    {
     "name": "stdout",
     "output_type": "stream",
     "text": [
      "('Obj first part: ', 0.0)\n",
      "('Obj second part: ', -1.9388047)\n",
      "('Obj first part: ', 3.2600685954093933)\n",
      "('Obj second part: ', -2.2706275)\n",
      "('Obj first part: ', 0.0)\n",
      "('Obj second part: ', -2.1072307)\n",
      "('Obj first part: ', 2.359032481908798)\n",
      "('Obj second part: ', -2.3883536)\n",
      "('Obj first part: ', 0.0)\n",
      "('Obj second part: ', -2.4936519)\n",
      "('Obj first part: ', 2.014884501695633)\n",
      "('Obj second part: ', -2.2949932)\n"
     ]
    },
    {
     "name": "stderr",
     "output_type": "stream",
     "text": [
      "\n",
      "\n",
      "  0%|          | 855/473047 [08:59<9:03:04, 14.49it/s] \u001b[A\u001b[A\n",
      "\n",
      "  0%|          | 858/473047 [08:59<7:48:36, 16.79it/s]\u001b[A\u001b[A"
     ]
    },
    {
     "name": "stdout",
     "output_type": "stream",
     "text": [
      "('Obj first part: ', 2.0424719154834747)\n",
      "('Obj second part: ', -2.2903354)\n",
      "('Obj first part: ', 0.0)\n",
      "('Obj second part: ', -2.2300873)\n",
      "('Obj first part: ', 0.0)\n",
      "('Obj second part: ', -2.2987943)\n",
      "('Obj first part: ', 1.9851289689540863)\n",
      "('Obj second part: ', -2.3481462)\n",
      "('Obj first part: ', 0.0)\n",
      "('Obj second part: ', -2.0757394)\n",
      "('Obj first part: ', 0.0)\n",
      "('Obj second part: ', -2.0447779)\n"
     ]
    },
    {
     "name": "stderr",
     "output_type": "stream",
     "text": [
      "\n",
      "\n",
      "  0%|          | 861/473047 [08:59<6:58:15, 18.82it/s]\u001b[A\u001b[A\n",
      "\n",
      "  0%|          | 864/473047 [08:59<6:22:51, 20.56it/s]\u001b[A\u001b[A"
     ]
    },
    {
     "name": "stdout",
     "output_type": "stream",
     "text": [
      "('Obj first part: ', 0.0)\n",
      "('Obj second part: ', -2.484704)\n",
      "('Obj first part: ', 0.0)\n",
      "('Obj second part: ', -1.7401749)\n",
      "('Obj first part: ', 0.0)\n",
      "('Obj second part: ', -2.2512884)\n",
      "('Obj first part: ', 3.13161164522171)\n",
      "('Obj second part: ', -1.5808339)\n",
      "('Obj first part: ', 3.035302758216858)\n",
      "('Obj second part: ', -2.132647)\n",
      "('Obj first part: ', 1.4546827971935272)\n",
      "('Obj second part: ', -2.2657454)\n"
     ]
    },
    {
     "name": "stderr",
     "output_type": "stream",
     "text": [
      "\n",
      "\n",
      "  0%|          | 867/473047 [08:59<5:58:54, 21.93it/s]\u001b[A\u001b[A\n",
      "\n",
      "  0%|          | 870/473047 [09:00<5:43:52, 22.89it/s]\u001b[A\u001b[A"
     ]
    },
    {
     "name": "stdout",
     "output_type": "stream",
     "text": [
      "('Obj first part: ', 0.0)\n",
      "('Obj second part: ', -2.2843947)\n",
      "('Obj first part: ', 0.0)\n",
      "('Obj second part: ', -2.2503562)\n",
      "('Obj first part: ', 3.033786714076996)\n",
      "('Obj second part: ', -1.8378596)\n",
      "('Obj first part: ', 0.0)\n",
      "('Obj second part: ', -2.0137742)\n",
      "('Obj first part: ', 0.0)\n",
      "('Obj second part: ', -2.1901531)\n",
      "('Obj first part: ', 2.2154806554317474)\n",
      "('Obj second part: ', -1.8814691)\n"
     ]
    },
    {
     "name": "stderr",
     "output_type": "stream",
     "text": [
      "\n",
      "\n",
      "  0%|          | 873/473047 [09:00<5:33:30, 23.60it/s]\u001b[A\u001b[A\n",
      "\n",
      "  0%|          | 876/473047 [09:00<5:25:52, 24.15it/s]\u001b[A\u001b[A"
     ]
    },
    {
     "name": "stdout",
     "output_type": "stream",
     "text": [
      "('Obj first part: ', 2.118523418903351)\n",
      "('Obj second part: ', -2.0374334)\n",
      "('Obj first part: ', 2.1676522493362427)\n",
      "('Obj second part: ', -1.8475313)\n",
      "('Obj first part: ', 0.0)\n",
      "('Obj second part: ', -2.3288083)\n",
      "('Obj first part: ', 0.0)\n",
      "('Obj second part: ', -2.2614553)\n",
      "('Obj first part: ', 2.041901797056198)\n",
      "('Obj second part: ', -2.0864599)\n",
      "('Obj first part: ', 0.0)\n",
      "('Obj second part: ', -2.390731)\n"
     ]
    },
    {
     "name": "stderr",
     "output_type": "stream",
     "text": [
      "\n",
      "\n",
      "  0%|          | 879/473047 [09:00<5:20:54, 24.52it/s]\u001b[A\u001b[A\n",
      "\n",
      "  0%|          | 882/473047 [09:00<5:16:46, 24.84it/s]\u001b[A\u001b[A"
     ]
    },
    {
     "name": "stdout",
     "output_type": "stream",
     "text": [
      "('Obj first part: ', 0.0)\n",
      "('Obj second part: ', -2.052026)\n",
      "('Obj first part: ', 2.357752025127411)\n",
      "('Obj second part: ', -2.258829)\n",
      "('Obj first part: ', 0.0)\n",
      "('Obj second part: ', -2.1077225)\n",
      "('Obj first part: ', 0.0)\n",
      "('Obj second part: ', -2.3439898)\n",
      "('Obj first part: ', 0.0)\n",
      "('Obj second part: ', -2.302364)\n",
      "('Obj first part: ', 1.9360816478729248)\n",
      "('Obj second part: ', -1.8987195)\n"
     ]
    },
    {
     "name": "stderr",
     "output_type": "stream",
     "text": [
      "\n",
      "\n",
      "  0%|          | 885/473047 [09:00<5:14:13, 25.04it/s]\u001b[A\u001b[A\n",
      "\n",
      "  0%|          | 888/473047 [09:00<5:13:03, 25.14it/s]\u001b[A\u001b[A"
     ]
    },
    {
     "name": "stdout",
     "output_type": "stream",
     "text": [
      "('Obj first part: ', 0.0)\n",
      "('Obj second part: ', -2.1405926)\n",
      "('Obj first part: ', 2.3839253187179565)\n",
      "('Obj second part: ', -1.985881)\n",
      "('Obj first part: ', 0.0)\n",
      "('Obj second part: ', -2.0332172)\n",
      "('Obj first part: ', 0.0)\n",
      "('Obj second part: ', -2.0751326)\n",
      "('Obj first part: ', 0.0)\n",
      "('Obj second part: ', -2.1545675)\n",
      "('Obj first part: ', 2.358849346637726)\n",
      "('Obj second part: ', -1.9119966)\n"
     ]
    },
    {
     "name": "stderr",
     "output_type": "stream",
     "text": [
      "\n",
      "\n",
      "  0%|          | 891/473047 [09:00<5:10:36, 25.33it/s]\u001b[A\u001b[A\n",
      "\n",
      "  0%|          | 894/473047 [09:01<5:09:54, 25.39it/s]\u001b[A\u001b[A"
     ]
    },
    {
     "name": "stdout",
     "output_type": "stream",
     "text": [
      "('Obj first part: ', 2.632940411567688)\n",
      "('Obj second part: ', -2.0314236)\n",
      "('Obj first part: ', 2.352183163166046)\n",
      "('Obj second part: ', -2.0595796)\n",
      "('Obj first part: ', 0.0)\n",
      "('Obj second part: ', -2.0518482)\n",
      "('Obj first part: ', 1.9753062725067139)\n",
      "('Obj second part: ', -1.9734015)\n",
      "('Obj first part: ', 2.5723016262054443)\n",
      "('Obj second part: ', -2.279134)\n",
      "('Obj first part: ', 0.0)\n",
      "('Obj second part: ', -2.1218362)\n"
     ]
    },
    {
     "name": "stderr",
     "output_type": "stream",
     "text": [
      "\n",
      "\n",
      "  0%|          | 897/473047 [09:01<5:08:32, 25.50it/s]\u001b[A\u001b[A\n",
      "\n",
      "  0%|          | 900/473047 [09:01<5:06:30, 25.67it/s]\u001b[A\u001b[A"
     ]
    },
    {
     "name": "stdout",
     "output_type": "stream",
     "text": [
      "('Obj first part: ', 0.0)\n",
      "('Obj second part: ', -2.38206)\n",
      "('Obj first part: ', 1.9269612431526184)\n",
      "('Obj second part: ', -2.225573)\n",
      "('Obj first part: ', 0.0)\n",
      "('Obj second part: ', -2.4882503)\n",
      "('Obj first part: ', 2.216065376996994)\n",
      "('Obj second part: ', -2.2273123)\n"
     ]
    }
   ],
   "source": [
    "for g in gammas:\n",
    "    for l in lambdas:\n",
    "        print(\"Lambda: \" + str(l) + \" Gamma: \" + str(g))\n",
    "        model = MoreComplexNet()\n",
    "        model.apply(weights_init)\n",
    "        model.cuda()\n",
    "        sgd(gamma=g, lamb=l, save_checkpoints=True)"
   ]
  },
  {
   "cell_type": "code",
   "execution_count": null,
   "metadata": {},
   "outputs": [],
   "source": [
    "# For loading the checkpointed model\n",
    "# for g in range(len(gammas)):\n",
    "#     for l in range(len(lambdas)):\n",
    "#         model = SimpleConvNet()\n",
    "#         optim = SGD(model.parameters(), lr=gamma)\n",
    "#         checkpoint = torch.load('../models/model.pth')\n",
    "#         model.load_state_dict(checkpoint['model_state_dict'])\n",
    "#         optimizer.load_state_dict(checkpoint['optimizer_state_dict'])\n",
    "#         epoch = checkpoint['epoch']\n",
    "#         model.to(device)\n",
    "#         sgd(gamma=gammas[g], lamb=lambdas[l])        "
   ]
  },
  {
   "cell_type": "code",
   "execution_count": null,
   "metadata": {},
   "outputs": [],
   "source": []
  }
 ],
 "metadata": {
  "kernelspec": {
   "display_name": "Python 3",
   "language": "python",
   "name": "python3"
  },
  "language_info": {
   "codemirror_mode": {
    "name": "ipython",
    "version": 2
   },
   "file_extension": ".py",
   "mimetype": "text/x-python",
   "name": "python",
   "nbconvert_exporter": "python",
   "pygments_lexer": "ipython2",
   "version": "2.7.17"
  },
  "toc": {
   "base_numbering": 1,
   "nav_menu": {},
   "number_sections": true,
   "sideBar": true,
   "skip_h1_title": false,
   "title_cell": "Table of Contents",
   "title_sidebar": "Contents",
   "toc_cell": false,
   "toc_position": {},
   "toc_section_display": true,
   "toc_window_display": false
  }
 },
 "nbformat": 4,
 "nbformat_minor": 2
}

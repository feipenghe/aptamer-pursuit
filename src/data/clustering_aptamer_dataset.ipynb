{
 "cells": [
  {
   "cell_type": "code",
   "execution_count": 1,
   "metadata": {},
   "outputs": [],
   "source": [
    "import os, sys\n",
    "from Bio import SeqIO\n",
    "from sklearn.cluster import KMeans\n",
    "import numpy as np\n",
    "import seaborn as sns\n",
    "import json"
   ]
  },
  {
   "cell_type": "code",
   "execution_count": null,
   "metadata": {},
   "outputs": [],
   "source": [
    "# Located on the misl-a server\n",
    "data = \"/ssd1/home/kz9/mRNA_display/out.extendedFrags.fastq\""
   ]
  },
  {
   "cell_type": "code",
   "execution_count": null,
   "metadata": {},
   "outputs": [],
   "source": [
    "records = list(SeqIO.parse(data, \"fastq\"))"
   ]
  },
  {
   "cell_type": "code",
   "execution_count": null,
   "metadata": {},
   "outputs": [],
   "source": [
    "print(str(len(records)))"
   ]
  },
  {
   "cell_type": "code",
   "execution_count": null,
   "metadata": {},
   "outputs": [],
   "source": [
    "sequences = [r.seq for r in records]"
   ]
  },
  {
   "cell_type": "code",
   "execution_count": null,
   "metadata": {},
   "outputs": [],
   "source": [
    "print(str(sequences[0]))\n",
    "print(str(len(sequences)))"
   ]
  },
  {
   "cell_type": "code",
   "execution_count": null,
   "metadata": {},
   "outputs": [],
   "source": [
    "dna_prod_original_sequence = \"ACTTTAAGAAGGAGATATACATATGNNNNNNNNNNNNNNNNNNNNNTAACTGAACTATTTTTTNNNNNNNNNNNNNNNNNNNNNNNNNNNNNNNNNNNNNNNNTTTTTGCATGTGTACGATTTCTGATGC\"\n",
    "test_seq = sequences[0]\n",
    "\n",
    "mrna_seq = test_seq[25:46]\n",
    "aptamer_seq = test_seq[63:103]"
   ]
  },
  {
   "cell_type": "code",
   "execution_count": null,
   "metadata": {},
   "outputs": [],
   "source": [
    "fixed_len_sequences = []\n",
    "for s in sequences:\n",
    "    if len(s) == 130:\n",
    "        fixed_len_sequences.append(s)"
   ]
  },
  {
   "cell_type": "code",
   "execution_count": null,
   "metadata": {},
   "outputs": [],
   "source": [
    "print(\"Length of fixed length sequences: \", len(fixed_len_sequences))"
   ]
  },
  {
   "cell_type": "code",
   "execution_count": null,
   "metadata": {},
   "outputs": [],
   "source": [
    "print(\"Sequences that are not fixed length: \", len(sequences) - len(fixed_len_sequences))"
   ]
  },
  {
   "cell_type": "code",
   "execution_count": null,
   "metadata": {},
   "outputs": [],
   "source": [
    "aptamers = [s[63:103] for s in fixed_len_sequences]"
   ]
  },
  {
   "cell_type": "code",
   "execution_count": null,
   "metadata": {},
   "outputs": [],
   "source": [
    "# Write the aptamers to a text file\n",
    "aptamers_string = \"\"\n",
    "for apt in aptamers:\n",
    "    aptamers_string += str(apt)\n",
    "    aptamers_string += \"\\n\"\n",
    "with open('raw_aptamers.txt', 'w') as f:\n",
    "    f.write(aptamers_string)"
   ]
  },
  {
   "cell_type": "markdown",
   "metadata": {},
   "source": [
    "## Kmeans clustering"
   ]
  },
  {
   "cell_type": "markdown",
   "metadata": {},
   "source": [
    "### This runs into a memory error on misl-a. I can do it with smaller subsections of the data though. "
   ]
  },
  {
   "cell_type": "code",
   "execution_count": null,
   "metadata": {},
   "outputs": [],
   "source": [
    "# Change everything into array elements\n",
    "indexed_sequences = np.zeros((len(shortened_sequences), len(shortened_sequences)))\n",
    "for i in range(len(shortened_sequences)):\n",
    "    for j in range(len(shortened_sequences[i])):\n",
    "        if shortened_sequences[i][j] == 'T':\n",
    "            indexed_sequences[i][j] = 1\n",
    "        elif shortened_sequences[i][j] == 'G':\n",
    "            indexed_sequences[i][j] = 2\n",
    "        else:\n",
    "            indexed_sequences[i][j] = 3"
   ]
  },
  {
   "cell_type": "code",
   "execution_count": null,
   "metadata": {},
   "outputs": [],
   "source": [
    "kmeans = KMeans(n_clusters=100).fit(indexed_sequences)\n",
    "kmeans.cluster_centers_"
   ]
  },
  {
   "cell_type": "markdown",
   "metadata": {},
   "source": [
    "## Starcode clustering"
   ]
  },
  {
   "cell_type": "markdown",
   "metadata": {},
   "source": [
    "### Not changing the original sequences in any way, letting starcode decide parameters. Includes mRNA"
   ]
  },
  {
   "cell_type": "code",
   "execution_count": 4,
   "metadata": {},
   "outputs": [],
   "source": [
    "starcode_output_file = 'starcode_original_reads.txt'\n",
    "# size of cluster --> num clusters\n",
    "clusters = {}\n",
    "with open(starcode_output_file, 'r') as f:\n",
    "    lines = f.readlines()\n",
    "\n",
    "for l in lines:\n",
    "    split = l.split()\n",
    "    if int(split[1]) not in clusters:\n",
    "        clusters[int(split[1])] = 0\n",
    "    clusters[int(split[1])] += 1"
   ]
  },
  {
   "cell_type": "code",
   "execution_count": 5,
   "metadata": {},
   "outputs": [
    {
     "name": "stdout",
     "output_type": "stream",
     "text": [
      "{1: 295717, 2: 118420, 3: 123028, 4: 109486, 5: 84758, 6: 57973, 7: 36041, 8: 20708, 9: 11317, 10: 6008, 11: 3137, 12: 1810, 13: 1150, 14: 926, 15: 729, 16: 697, 17: 720, 18: 788, 19: 821, 20: 1029, 21: 1200, 22: 1400, 23: 1720, 24: 2078, 25: 2416, 26: 2751, 27: 3109, 28: 3437, 29: 3668, 30: 3872, 31: 4043, 32: 4278, 33: 4182, 34: 4034, 35: 3936, 36: 3731, 37: 3391, 38: 3121, 39: 2762, 40: 2438, 41: 2086, 42: 1778, 43: 1418, 44: 1175, 45: 968, 46: 755, 47: 568, 48: 467, 49: 330, 50: 233, 51: 177, 52: 121, 53: 121, 54: 84, 55: 76, 56: 31, 57: 33, 58: 24, 59: 11, 60: 9, 61: 7, 62: 7, 63: 9, 64: 1, 65: 4, 66: 2, 67: 2, 68: 1, 69: 2, 71: 2, 72: 2, 73: 2, 74: 1, 75: 1, 76: 1, 81: 3, 84: 1, 86: 1, 98: 1}\n"
     ]
    }
   ],
   "source": [
    "print(str(clusters))"
   ]
  },
  {
   "cell_type": "code",
   "execution_count": 6,
   "metadata": {},
   "outputs": [
    {
     "data": {
      "text/plain": [
       "Text(0.5,1,'Starcode clustering on original sequences (length 130) w/ d=6')"
      ]
     },
     "execution_count": 6,
     "metadata": {},
     "output_type": "execute_result"
    },
    {
     "data": {
      "image/png": "[encoded data removed]",
      "text/plain": [
       "<Figure size 432x288 with 1 Axes>"
      ]
     },
     "metadata": {
      "needs_background": "light"
     },
     "output_type": "display_data"
    }
   ],
   "source": [
    "# Create a plot: how many clusters have how many sequences\n",
    "ax = sns.scatterplot(list(clusters.keys()), list(clusters.values()))\n",
    "ax.set_ylabel(\"Number of clusters\")\n",
    "ax.set_xlabel(\"Number of sequences in the cluster\")\n",
    "ax.set_title(\"Starcode clustering on original sequences (length 130) w/ d=6\")"
   ]
  },
  {
   "cell_type": "markdown",
   "metadata": {},
   "source": [
    "#### Writing these clustered files to a class to be read in as a dataset"
   ]
  },
  {
   "cell_type": "code",
   "execution_count": 7,
   "metadata": {},
   "outputs": [],
   "source": [
    "def translate(seq): \n",
    "       \n",
    "    table = { \n",
    "        'ATA':'I', 'ATC':'I', 'ATT':'I', 'ATG':'M', \n",
    "        'ACA':'T', 'ACC':'T', 'ACG':'T', 'ACT':'T', \n",
    "        'AAC':'N', 'AAT':'N', 'AAA':'K', 'AAG':'K', \n",
    "        'AGC':'S', 'AGT':'S', 'AGA':'R', 'AGG':'R',                  \n",
    "        'CTA':'L', 'CTC':'L', 'CTG':'L', 'CTT':'L', \n",
    "        'CCA':'P', 'CCC':'P', 'CCG':'P', 'CCT':'P', \n",
    "        'CAC':'H', 'CAT':'H', 'CAA':'Q', 'CAG':'Q', \n",
    "        'CGA':'R', 'CGC':'R', 'CGG':'R', 'CGT':'R', \n",
    "        'GTA':'V', 'GTC':'V', 'GTG':'V', 'GTT':'V', \n",
    "        'GCA':'A', 'GCC':'A', 'GCG':'A', 'GCT':'A', \n",
    "        'GAC':'D', 'GAT':'D', 'GAA':'E', 'GAG':'E', \n",
    "        'GGA':'G', 'GGC':'G', 'GGG':'G', 'GGT':'G', \n",
    "        'TCA':'S', 'TCC':'S', 'TCG':'S', 'TCT':'S', \n",
    "        'TTC':'F', 'TTT':'F', 'TTA':'L', 'TTG':'L', \n",
    "        'TAC':'Y', 'TAT':'Y', 'TAA':'_', 'TAG':'_', \n",
    "        'TGC':'C', 'TGT':'C', 'TGA':'_', 'TGG':'W', \n",
    "    } \n",
    "    protein =\"\" \n",
    "    for i in range(0, len(seq), 3): \n",
    "        codon = seq[i:i + 3] \n",
    "        protein+= table[codon] \n",
    "    return protein "
   ]
  },
  {
   "cell_type": "code",
   "execution_count": 8,
   "metadata": {},
   "outputs": [
    {
     "name": "stdout",
     "output_type": "stream",
     "text": [
      "947345\n"
     ]
    }
   ],
   "source": [
    "clusters = {}\n",
    "with open(starcode_output_file, 'r') as f:\n",
    "    lines = f.readlines()\n",
    "\n",
    "for l in lines:\n",
    "    split = l.split()\n",
    "    clusters[split[0]] = split[1]\n",
    "print(str(len(clusters.keys())))"
   ]
  },
  {
   "cell_type": "code",
   "execution_count": 9,
   "metadata": {},
   "outputs": [
    {
     "name": "stdout",
     "output_type": "stream",
     "text": [
      "Wrote the dataset\n"
     ]
    }
   ],
   "source": [
    "# aptamer --> (peptide, affinity)\n",
    "dataset = {}\n",
    "for c in clusters.keys():\n",
    "    # This is the control sequence\n",
    "    if int(clusters[c]) > 90:\n",
    "        continue\n",
    "    else:\n",
    "        mrna_seq = c[25:46]\n",
    "        aptamer_seq = c[63:103]\n",
    "        if len(mrna_seq) != 21:\n",
    "            continue\n",
    "        peptide = translate(mrna_seq)\n",
    "        peptide = 'M' + peptide\n",
    "        if aptamer_seq not in dataset:\n",
    "            dataset[aptamer_seq] = []\n",
    "        dataset[aptamer_seq].append((peptide, 1))\n",
    "\n",
    "with open('clustered_aptamer_dataset.json', 'w') as f:\n",
    "    json.dump(dataset, f)\n",
    "    print(\"Wrote the dataset\")"
   ]
  },
  {
   "cell_type": "markdown",
   "metadata": {},
   "source": [
    "### Only using sequences that have 40 nucleotides long"
   ]
  },
  {
   "cell_type": "code",
   "execution_count": null,
   "metadata": {},
   "outputs": [],
   "source": [
    "starcode_output_file = 'starcode_aptamers_output.txt'\n",
    "# size of cluster --> num clusters\n",
    "clusters = {}\n",
    "with open(starcode_output_file, 'r') as f:\n",
    "    lines = f.readlines()\n",
    "\n",
    "for l in lines:\n",
    "    split = l.split()\n",
    "    if int(split[1]) not in clusters:\n",
    "        clusters[int(split[1])] = 0\n",
    "    clusters[int(split[1])] += 1"
   ]
  },
  {
   "cell_type": "code",
   "execution_count": null,
   "metadata": {},
   "outputs": [],
   "source": [
    "print(str(clusters))"
   ]
  },
  {
   "cell_type": "code",
   "execution_count": null,
   "metadata": {},
   "outputs": [],
   "source": [
    "# Create a plot: how many clusters have how many sequences\n",
    "ax = sns.scatterplot(list(clusters.keys()), list(clusters.values()))\n",
    "ax.set_ylabel(\"Number of clusters\")\n",
    "ax.set_xlabel(\"Number of sequences in the cluster\")\n",
    "ax.set_title(\"Starcode clustering on aptamer sequences (length 40) w/ d=3\")"
   ]
  },
  {
   "cell_type": "markdown",
   "metadata": {},
   "source": [
    "### Only using sequences that have 40 nucleotides long, d=2"
   ]
  },
  {
   "cell_type": "code",
   "execution_count": null,
   "metadata": {},
   "outputs": [],
   "source": [
    "starcode_output_file = 'starcode_aptamers_d=2.txt'\n",
    "# size of cluster --> num clusters\n",
    "clusters = {}\n",
    "with open(starcode_output_file, 'r') as f:\n",
    "    lines = f.readlines()\n",
    "\n",
    "for l in lines:\n",
    "    split = l.split()\n",
    "    if int(split[1]) not in clusters:\n",
    "        clusters[int(split[1])] = 0\n",
    "    clusters[int(split[1])] += 1"
   ]
  },
  {
   "cell_type": "code",
   "execution_count": null,
   "metadata": {},
   "outputs": [],
   "source": [
    "print(str(clusters))"
   ]
  },
  {
   "cell_type": "code",
   "execution_count": null,
   "metadata": {},
   "outputs": [],
   "source": [
    "# Create a plot: how many clusters have how many sequences\n",
    "ax = sns.scatterplot(list(clusters.keys()), list(clusters.values()))\n",
    "ax.set_ylabel(\"Number of clusters\")\n",
    "ax.set_xlabel(\"Number of sequences in the cluster\")\n",
    "ax.set_title(\"Starcode clustering on aptamer sequences (length 40) w/ d=2\")"
   ]
  },
  {
   "cell_type": "code",
   "execution_count": null,
   "metadata": {},
   "outputs": [],
   "source": [
    "ax = sns.regplot(list(clusters.keys()), list(clusters.values()), fit_reg=False)\n",
    "ax.set_ylabel(\"Number of clusters\")\n",
    "ax.set_xlabel(\"Number of sequences in the cluster\")\n",
    "ax.set_title(\"Starcode clustering on aptamer sequences (length 40) w/ d=2\")\n",
    "ax.set(xscale=\"log\")"
   ]
  },
  {
   "cell_type": "markdown",
   "metadata": {},
   "source": [
    "### What is in the clusters?"
   ]
  },
  {
   "cell_type": "code",
   "execution_count": null,
   "metadata": {},
   "outputs": [],
   "source": [
    "starcode_output_file = \"starcode_aptamers_print_clusters.txt\"\n",
    "# size of cluster --> num clusters\n",
    "clusters = {}\n",
    "with open(starcode_output_file, 'r') as f:\n",
    "    lines = f.readlines()\n",
    "\n",
    "for l in lines:\n",
    "    split = l.split()\n",
    "    if int(split[1]) not in clusters:\n",
    "        clusters[int(split[1])] = 0\n",
    "    clusters[int(split[1])] += 1"
   ]
  },
  {
   "cell_type": "code",
   "execution_count": null,
   "metadata": {},
   "outputs": [],
   "source": [
    "print(str(clusters))"
   ]
  },
  {
   "cell_type": "code",
   "execution_count": null,
   "metadata": {},
   "outputs": [],
   "source": [
    "sorted_clusters = {k: v for k, v in sorted(clusters.items(), key=lambda item: len(item[1]))}"
   ]
  },
  {
   "cell_type": "code",
   "execution_count": null,
   "metadata": {},
   "outputs": [],
   "source": [
    "for i in range(len(sorted_clusters.keys())):\n",
    "    reverse_sorted = sorted_clusters.keys()[len(sorted_clusters.keys()) - 1 - i]\n",
    "    print(str(reverse_sorted))\n",
    "    print(str(len(sorted_clusters[reverse_sorted])))\n",
    "    break"
   ]
  },
  {
   "cell_type": "code",
   "execution_count": null,
   "metadata": {},
   "outputs": [],
   "source": []
  },
  {
   "cell_type": "code",
   "execution_count": null,
   "metadata": {},
   "outputs": [],
   "source": []
  }
 ],
 "metadata": {
  "kernelspec": {
   "display_name": "Python 3",
   "language": "python",
   "name": "python3"
  },
  "language_info": {
   "codemirror_mode": {
    "name": "ipython",
    "version": 2
   },
   "file_extension": ".py",
   "mimetype": "text/x-python",
   "name": "python",
   "nbconvert_exporter": "python",
   "pygments_lexer": "ipython2",
   "version": "2.7.17"
  },
  "toc": {
   "base_numbering": 1,
   "nav_menu": {},
   "number_sections": true,
   "sideBar": true,
   "skip_h1_title": false,
   "title_cell": "Table of Contents",
   "title_sidebar": "Contents",
   "toc_cell": false,
   "toc_position": {},
   "toc_section_display": true,
   "toc_window_display": false
  }
 },
 "nbformat": 4,
 "nbformat_minor": 2
}

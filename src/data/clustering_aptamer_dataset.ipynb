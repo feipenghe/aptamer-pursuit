{
 "cells": [
  {
   "cell_type": "code",
   "execution_count": 33,
   "metadata": {},
   "outputs": [],
   "source": [
    "import os, sys\n",
    "from Bio import SeqIO\n",
    "from sklearn.cluster import KMeans\n",
    "import numpy as np\n",
    "import seaborn as sns"
   ]
  },
  {
   "cell_type": "code",
   "execution_count": 2,
   "metadata": {},
   "outputs": [],
   "source": [
    "# Located on the misl-a server\n",
    "data = \"/ssd1/home/kz9/mRNA_display/out.extendedFrags.fastq\""
   ]
  },
  {
   "cell_type": "code",
   "execution_count": 3,
   "metadata": {},
   "outputs": [],
   "source": [
    "records = list(SeqIO.parse(data, \"fastq\"))"
   ]
  },
  {
   "cell_type": "code",
   "execution_count": 4,
   "metadata": {},
   "outputs": [
    {
     "name": "stdout",
     "output_type": "stream",
     "text": [
      "5266903\n"
     ]
    }
   ],
   "source": [
    "print(str(len(records)))"
   ]
  },
  {
   "cell_type": "code",
   "execution_count": 5,
   "metadata": {},
   "outputs": [],
   "source": [
    "sequences = [r.seq for r in records]"
   ]
  },
  {
   "cell_type": "code",
   "execution_count": 10,
   "metadata": {},
   "outputs": [
    {
     "name": "stdout",
     "output_type": "stream",
     "text": [
      "ACTTTAAGAAGGAGATATACATATGAGTATGGTGAATTCGATTTTTTAACTGAACTATTTTTTCTCCTGGCAGTTTCCCGGGCCCCATCACGTACAATGGTATTTTTTGCATGTGTACGATTTCTGATGC\n",
      "5266903\n"
     ]
    }
   ],
   "source": [
    "print(str(sequences[0]))\n",
    "print(str(len(sequences)))"
   ]
  },
  {
   "cell_type": "code",
   "execution_count": 19,
   "metadata": {},
   "outputs": [],
   "source": [
    "dna_prod_original_sequence = \"ACTTTAAGAAGGAGATATACATATGNNNNNNNNNNNNNNNNNNNNNTAACTGAACTATTTTTTNNNNNNNNNNNNNNNNNNNNNNNNNNNNNNNNNNNNNNNNTTTTTGCATGTGTACGATTTCTGATGC\"\n",
    "test_seq = sequences[0]\n",
    "\n",
    "mrna_seq = test_seq[25:46]\n",
    "aptamer_seq = test_seq[63:103]"
   ]
  },
  {
   "cell_type": "code",
   "execution_count": 20,
   "metadata": {},
   "outputs": [],
   "source": [
    "fixed_len_sequences = []\n",
    "for s in sequences:\n",
    "    if len(s) == 130:\n",
    "        fixed_len_sequences.append(s)"
   ]
  },
  {
   "cell_type": "code",
   "execution_count": 21,
   "metadata": {},
   "outputs": [],
   "source": [
    "aptamers = [s[63:103] for s in fixed_len_sequences]"
   ]
  },
  {
   "cell_type": "code",
   "execution_count": 24,
   "metadata": {},
   "outputs": [],
   "source": [
    "# Write the aptamers to a text file\n",
    "aptamers_string = \"\"\n",
    "for apt in aptamers:\n",
    "    aptamers_string += str(apt)\n",
    "    aptamers_string += \"\\n\"\n",
    "with open('raw_aptamers.txt', 'w') as f:\n",
    "    f.write(aptamers_string)"
   ]
  },
  {
   "cell_type": "markdown",
   "metadata": {},
   "source": [
    "## Kmeans clustering"
   ]
  },
  {
   "cell_type": "markdown",
   "metadata": {},
   "source": [
    "### This runs into a memory error on misl-a. I can do it with smaller subsections of the data though. "
   ]
  },
  {
   "cell_type": "code",
   "execution_count": null,
   "metadata": {},
   "outputs": [],
   "source": [
    "# Change everything into array elements\n",
    "indexed_sequences = np.zeros((len(shortened_sequences), len(shortened_sequences)))\n",
    "for i in range(len(shortened_sequences)):\n",
    "    for j in range(len(shortened_sequences[i])):\n",
    "        if shortened_sequences[i][j] == 'T':\n",
    "            indexed_sequences[i][j] = 1\n",
    "        elif shortened_sequences[i][j] == 'G':\n",
    "            indexed_sequences[i][j] = 2\n",
    "        else:\n",
    "            indexed_sequences[i][j] = 3"
   ]
  },
  {
   "cell_type": "code",
   "execution_count": null,
   "metadata": {},
   "outputs": [],
   "source": [
    "kmeans = KMeans(n_clusters=100).fit(indexed_sequences)\n",
    "kmeans.cluster_centers_"
   ]
  },
  {
   "cell_type": "markdown",
   "metadata": {},
   "source": [
    "## Starcode clustering"
   ]
  },
  {
   "cell_type": "markdown",
   "metadata": {},
   "source": [
    "### Not changing the original sequences in any way, letting starcode decide parameters. Includes mRNA"
   ]
  },
  {
   "cell_type": "code",
   "execution_count": 30,
   "metadata": {},
   "outputs": [],
   "source": [
    "starcode_output_file = 'starcode_original_reads.txt'\n",
    "# size of cluster --> num clusters\n",
    "clusters = {}\n",
    "with open(starcode_output_file, 'r') as f:\n",
    "    lines = f.readlines()\n",
    "\n",
    "for l in lines:\n",
    "    split = l.split()\n",
    "    if int(split[1]) not in clusters:\n",
    "        clusters[int(split[1])] = 0\n",
    "    clusters[int(split[1])] += 1"
   ]
  },
  {
   "cell_type": "code",
   "execution_count": 31,
   "metadata": {},
   "outputs": [
    {
     "name": "stdout",
     "output_type": "stream",
     "text": [
      "{1: 295717, 2: 118420, 3: 123028, 4: 109486, 5: 84758, 6: 57973, 7: 36041, 8: 20708, 9: 11317, 10: 6008, 11: 3137, 12: 1810, 13: 1150, 14: 926, 15: 729, 16: 697, 17: 720, 18: 788, 19: 821, 20: 1029, 21: 1200, 22: 1400, 23: 1720, 24: 2078, 25: 2416, 26: 2751, 27: 3109, 28: 3437, 29: 3668, 30: 3872, 31: 4043, 32: 4278, 33: 4182, 34: 4034, 35: 3936, 36: 3731, 37: 3391, 38: 3121, 39: 2762, 40: 2438, 41: 2086, 42: 1778, 43: 1418, 44: 1175, 45: 968, 46: 755, 47: 568, 48: 467, 49: 330, 50: 233, 51: 177, 52: 121, 53: 121, 54: 84, 55: 76, 56: 31, 57: 33, 58: 24, 59: 11, 60: 9, 61: 7, 62: 7, 63: 9, 64: 1, 65: 4, 66: 2, 67: 2, 68: 1, 69: 2, 71: 2, 72: 2, 73: 2, 74: 1, 75: 1, 76: 1, 81: 3, 84: 1, 86: 1, 98: 1}\n"
     ]
    }
   ],
   "source": [
    "print(str(clusters))"
   ]
  },
  {
   "cell_type": "code",
   "execution_count": 38,
   "metadata": {},
   "outputs": [
    {
     "data": {
      "text/plain": [
       "Text(0.5,1,'Starcode clustering on original sequences (length 130) w/ d=6')"
      ]
     },
     "execution_count": 38,
     "metadata": {},
     "output_type": "execute_result"
    },
    {
     "data": {
      "image/png": "[encoded data removed]",
      "text/plain": [
       "<Figure size 432x288 with 1 Axes>"
      ]
     },
     "metadata": {
      "needs_background": "light"
     },
     "output_type": "display_data"
    }
   ],
   "source": [
    "# Create a plot: how many clusters have how many sequences\n",
    "ax = sns.scatterplot(list(clusters.keys()), list(clusters.values()))\n",
    "ax.set_ylabel(\"Number of clusters\")\n",
    "ax.set_xlabel(\"Number of sequences in the cluster\")\n",
    "ax.set_title(\"Starcode clustering on original sequences (length 130) w/ d=6\")"
   ]
  },
  {
   "cell_type": "markdown",
   "metadata": {},
   "source": [
    "### Only using sequences that have 40 nucleotides long"
   ]
  },
  {
   "cell_type": "code",
   "execution_count": 39,
   "metadata": {},
   "outputs": [],
   "source": [
    "starcode_output_file = 'starcode_aptamers_output.txt'\n",
    "# size of cluster --> num clusters\n",
    "clusters = {}\n",
    "with open(starcode_output_file, 'r') as f:\n",
    "    lines = f.readlines()\n",
    "\n",
    "for l in lines:\n",
    "    split = l.split()\n",
    "    if int(split[1]) not in clusters:\n",
    "        clusters[int(split[1])] = 0\n",
    "    clusters[int(split[1])] += 1"
   ]
  },
  {
   "cell_type": "code",
   "execution_count": 40,
   "metadata": {},
   "outputs": [
    {
     "name": "stdout",
     "output_type": "stream",
     "text": [
      "{1: 220998, 2: 98453, 3: 104995, 4: 92942, 5: 71383, 6: 48457, 7: 29883, 8: 16847, 9: 9176, 10: 4765, 11: 2351, 12: 1258, 13: 711, 14: 522, 15: 412, 16: 414, 17: 450, 18: 539, 19: 597, 20: 786, 21: 974, 22: 1189, 23: 1491, 24: 1733, 25: 2058, 26: 2384, 27: 2713, 28: 2928, 29: 3319, 30: 3563, 31: 3653, 32: 3711, 33: 3719, 34: 3563, 35: 3412, 36: 3088, 37: 2801, 38: 2625, 39: 2214, 40: 2021, 41: 1646, 42: 1328, 43: 1186, 44: 901, 45: 705, 46: 528, 47: 419, 48: 309, 49: 221, 50: 176, 51: 133, 52: 80, 53: 81, 54: 59, 55: 33, 56: 22, 57: 17, 58: 18, 59: 3, 60: 5, 61: 5, 62: 4, 63: 6, 64: 3, 65: 2, 66: 1, 67: 1, 68: 1, 70: 2, 72: 2, 74: 2, 75: 1, 77: 1, 79: 1, 82: 1, 88: 1, 20987: 1}\n"
     ]
    }
   ],
   "source": [
    "print(str(clusters))"
   ]
  },
  {
   "cell_type": "code",
   "execution_count": 44,
   "metadata": {},
   "outputs": [
    {
     "data": {
      "text/plain": [
       "Text(0.5,1,'Starcode clustering on aptamer sequences (length 40) w/ d=3')"
      ]
     },
     "execution_count": 44,
     "metadata": {},
     "output_type": "execute_result"
    },
    {
     "data": {
      "image/png": "[encoded data removed]",
      "text/plain": [
       "<Figure size 432x288 with 1 Axes>"
      ]
     },
     "metadata": {
      "needs_background": "light"
     },
     "output_type": "display_data"
    }
   ],
   "source": [
    "# Create a plot: how many clusters have how many sequences\n",
    "ax = sns.scatterplot(list(clusters.keys()), list(clusters.values()))\n",
    "ax.set_ylabel(\"Number of clusters\")\n",
    "ax.set_xlabel(\"Number of sequences in the cluster\")\n",
    "ax.set_title(\"Starcode clustering on aptamer sequences (length 40) w/ d=3\")"
   ]
  },
  {
   "cell_type": "markdown",
   "metadata": {},
   "source": [
    "### Only using sequences that have 40 nucleotides long, d=2"
   ]
  },
  {
   "cell_type": "code",
   "execution_count": 45,
   "metadata": {},
   "outputs": [],
   "source": [
    "starcode_output_file = 'starcode_aptamers_d=2.txt'\n",
    "# size of cluster --> num clusters\n",
    "clusters = {}\n",
    "with open(starcode_output_file, 'r') as f:\n",
    "    lines = f.readlines()\n",
    "\n",
    "for l in lines:\n",
    "    split = l.split()\n",
    "    if int(split[1]) not in clusters:\n",
    "        clusters[int(split[1])] = 0\n",
    "    clusters[int(split[1])] += 1"
   ]
  },
  {
   "cell_type": "code",
   "execution_count": 46,
   "metadata": {},
   "outputs": [
    {
     "name": "stdout",
     "output_type": "stream",
     "text": [
      "{1: 257036, 2: 102595, 3: 107453, 4: 93950, 5: 71215, 6: 47746, 7: 28926, 8: 16011, 9: 8541, 10: 4274, 11: 2050, 12: 1087, 13: 609, 14: 473, 15: 380, 16: 410, 17: 463, 18: 554, 19: 642, 20: 829, 21: 1029, 22: 1244, 23: 1530, 24: 1855, 25: 2176, 26: 2484, 27: 2814, 28: 3037, 29: 3327, 30: 3595, 31: 3711, 32: 3778, 33: 3693, 34: 3526, 35: 3347, 36: 3076, 37: 2745, 38: 2521, 39: 2189, 40: 1901, 41: 1528, 42: 1279, 43: 1127, 44: 819, 45: 645, 46: 511, 47: 364, 48: 295, 49: 194, 50: 158, 51: 120, 52: 68, 53: 68, 54: 53, 55: 26, 56: 19, 57: 18, 58: 14, 59: 3, 60: 2, 61: 3, 63: 2, 64: 2, 66: 2, 70: 1, 72: 1, 20846: 1}\n"
     ]
    }
   ],
   "source": [
    "print(str(clusters))"
   ]
  },
  {
   "cell_type": "code",
   "execution_count": 47,
   "metadata": {},
   "outputs": [
    {
     "data": {
      "text/plain": [
       "Text(0.5,1,'Starcode clustering on aptamer sequences (length 40) w/ d=2')"
      ]
     },
     "execution_count": 47,
     "metadata": {},
     "output_type": "execute_result"
    },
    {
     "data": {
      "image/png": "[encoded data removed]",
      "text/plain": [
       "<Figure size 432x288 with 1 Axes>"
      ]
     },
     "metadata": {
      "needs_background": "light"
     },
     "output_type": "display_data"
    }
   ],
   "source": [
    "# Create a plot: how many clusters have how many sequences\n",
    "ax = sns.scatterplot(list(clusters.keys()), list(clusters.values()))\n",
    "ax.set_ylabel(\"Number of clusters\")\n",
    "ax.set_xlabel(\"Number of sequences in the cluster\")\n",
    "ax.set_title(\"Starcode clustering on aptamer sequences (length 40) w/ d=2\")"
   ]
  },
  {
   "cell_type": "code",
   "execution_count": null,
   "metadata": {},
   "outputs": [],
   "source": []
  }
 ],
 "metadata": {
  "kernelspec": {
   "display_name": "Python 3",
   "language": "python",
   "name": "python3"
  },
  "language_info": {
   "codemirror_mode": {
    "name": "ipython",
    "version": 2
   },
   "file_extension": ".py",
   "mimetype": "text/x-python",
   "name": "python",
   "nbconvert_exporter": "python",
   "pygments_lexer": "ipython2",
   "version": "2.7.17"
  },
  "toc": {
   "base_numbering": 1,
   "nav_menu": {},
   "number_sections": true,
   "sideBar": true,
   "skip_h1_title": false,
   "title_cell": "Table of Contents",
   "title_sidebar": "Contents",
   "toc_cell": false,
   "toc_position": {},
   "toc_section_display": true,
   "toc_window_display": false
  }
 },
 "nbformat": 4,
 "nbformat_minor": 2
}

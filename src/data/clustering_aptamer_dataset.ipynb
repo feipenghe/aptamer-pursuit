{
 "cells": [
  {
   "cell_type": "code",
   "execution_count": 13,
   "metadata": {},
   "outputs": [],
   "source": [
    "import os, sys\n",
    "from Bio import SeqIO\n",
    "from sklearn.cluster import KMeans\n",
    "import numpy as np"
   ]
  },
  {
   "cell_type": "code",
   "execution_count": 4,
   "metadata": {},
   "outputs": [],
   "source": [
    "data = \"/Users/aishwaryamandyam/Documents/Research/Masters MISL/aptamer-pursuit/src/data/out.extendedFrags.fastq\"\n",
    "records = list(SeqIO.parse(data, \"fastq\"))"
   ]
  },
  {
   "cell_type": "code",
   "execution_count": 5,
   "metadata": {},
   "outputs": [
    {
     "name": "stdout",
     "output_type": "stream",
     "text": [
      "5266903\n"
     ]
    }
   ],
   "source": [
    "print(str(len(records)))"
   ]
  },
  {
   "cell_type": "code",
   "execution_count": 15,
   "metadata": {},
   "outputs": [],
   "source": [
    "sequences = [r.seq for r in records]\n",
    "shortened_sequences = sequences[:1000]"
   ]
  },
  {
   "cell_type": "code",
   "execution_count": 10,
   "metadata": {},
   "outputs": [
    {
     "name": "stdout",
     "output_type": "stream",
     "text": [
      "ACTTTAAGAAGGAGATATACATATGAGTATGGTGAATTCGATTTTTTAACTGAACTATTTTTTCTCCTGGCAGTTTCCCGGGCCCCATCACGTACAATGGTATTTTTTGCATGTGTACGATTTCTGATGC\n"
     ]
    }
   ],
   "source": [
    "print(str(sequences[0]))"
   ]
  },
  {
   "cell_type": "code",
   "execution_count": 17,
   "metadata": {},
   "outputs": [],
   "source": [
    "# Change everything into array elements\n",
    "indexed_sequences = np.zeros((len(shortened_sequences), len(shortened_sequences)))\n",
    "for i in range(len(shortened_sequences)):\n",
    "    for j in range(len(shortened_sequences[i])):\n",
    "        if shortened_sequences[i][j] == 'T':\n",
    "            indexed_sequences[i][j] = 1\n",
    "        elif shortened_sequences[i][j] == 'G':\n",
    "            indexed_sequences[i][j] = 2\n",
    "        else:\n",
    "            indexed_sequences[i][j] = 3"
   ]
  },
  {
   "cell_type": "code",
   "execution_count": 18,
   "metadata": {},
   "outputs": [
    {
     "data": {
      "text/plain": [
       "array([[2., 3., 3., ..., 0., 0., 0.],\n",
       "       [3., 3., 1., ..., 0., 0., 0.],\n",
       "       [2., 3., 3., ..., 0., 0., 0.],\n",
       "       ...,\n",
       "       [3., 3., 1., ..., 0., 0., 0.],\n",
       "       [3., 3., 1., ..., 0., 0., 0.],\n",
       "       [3., 3., 1., ..., 0., 0., 0.]])"
      ]
     },
     "execution_count": 18,
     "metadata": {},
     "output_type": "execute_result"
    }
   ],
   "source": [
    "kmeans = KMeans(n_clusters=100).fit(indexed_sequences)\n",
    "kmeans.cluster_centers_"
   ]
  },
  {
   "cell_type": "code",
   "execution_count": null,
   "metadata": {},
   "outputs": [],
   "source": []
  }
 ],
 "metadata": {
  "kernelspec": {
   "display_name": "Python 3",
   "language": "python",
   "name": "python3"
  },
  "language_info": {
   "codemirror_mode": {
    "name": "ipython",
    "version": 3
   },
   "file_extension": ".py",
   "mimetype": "text/x-python",
   "name": "python",
   "nbconvert_exporter": "python",
   "pygments_lexer": "ipython3",
   "version": "3.7.5"
  },
  "toc": {
   "base_numbering": 1,
   "nav_menu": {},
   "number_sections": true,
   "sideBar": true,
   "skip_h1_title": false,
   "title_cell": "Table of Contents",
   "title_sidebar": "Contents",
   "toc_cell": false,
   "toc_position": {},
   "toc_section_display": true,
   "toc_window_display": false
  }
 },
 "nbformat": 4,
 "nbformat_minor": 2
}

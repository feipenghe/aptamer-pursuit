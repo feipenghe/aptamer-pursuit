{
 "cells": [
  {
   "cell_type": "code",
   "execution_count": null,
   "metadata": {},
   "outputs": [],
   "source": [
    "import os, sys\n",
    "import csv\n",
    "import json\n",
    "import matplotlib.pyplot as plt\n",
    "import seaborn as sns\n",
    "from scipy import stats"
   ]
  },
  {
   "cell_type": "code",
   "execution_count": null,
   "metadata": {},
   "outputs": [],
   "source": [
    "file = '20191204_peptide_aptamer_pairs_correct.csv'"
   ]
  },
  {
   "cell_type": "markdown",
   "metadata": {},
   "source": [
    "## General metrics about the file"
   ]
  },
  {
   "cell_type": "code",
   "execution_count": null,
   "metadata": {},
   "outputs": [],
   "source": [
    "# Generate a dictionary from peptide --> [(aptamer, read count)]\n",
    "all_aptamers = []\n",
    "dataset = {}\n",
    "with open(file) as csv_file:\n",
    "    csv_reader = csv.reader(csv_file, delimiter=',')\n",
    "    line_count = 0\n",
    "    for row in csv_reader:\n",
    "        if line_count == 0:\n",
    "            print(f'Column names are {\", \".join(row)}')\n",
    "        else:\n",
    "            peptide = row[0]\n",
    "            aptamer = row[1]\n",
    "            # Controls\n",
    "            if \"RRRRRR\" in peptide:\n",
    "                continue\n",
    "            if aptamer == \"CTTTGTAATTGGTTCTGAGTTCCGTTGTGGGAGGAACATG\":\n",
    "                continue\n",
    "            if len(aptamer) < 40:\n",
    "                continue\n",
    "            rc = row[2]\n",
    "            \n",
    "            # Reformat the peptide\n",
    "            if '_' in peptide:\n",
    "                split = peptide.split('_')\n",
    "                save = split[0]\n",
    "                if len(save) < 8:\n",
    "                    continue\n",
    "                peptide = save \n",
    "            # Only look at length-8 peptides\n",
    "            if len(peptide) < 8:\n",
    "                continue\n",
    "            \n",
    "            if peptide not in dataset.keys():\n",
    "                dataset[peptide] = []\n",
    "            dataset[peptide].append((aptamer, rc))\n",
    "            all_aptamers.append(aptamer)\n",
    "        line_count += 1\n",
    "    print(\"Number of lines: \", line_count)"
   ]
  },
  {
   "cell_type": "code",
   "execution_count": null,
   "metadata": {},
   "outputs": [],
   "source": [
    "print(str(len(dataset.keys())))\n",
    "peptides = list(dataset.keys())\n",
    "lengths = [len(p) for p in peptides]\n",
    "for i in range(3, 9):\n",
    "    print(\"count of \", i, \":\", lengths.count(i))"
   ]
  },
  {
   "cell_type": "markdown",
   "metadata": {},
   "source": [
    "## Split the dataset into binding affinity groups"
   ]
  },
  {
   "cell_type": "code",
   "execution_count": null,
   "metadata": {},
   "outputs": [],
   "source": [
    "affinity_groups = [0, 0, 0, 0]\n",
    "x = ['high (> 50)', 'medium (>10)', 'medium-ish (>5)', 'low (<= 5)']\n",
    "for peptide in dataset:\n",
    "    for a, r in dataset[peptide]:\n",
    "        r = int(r)\n",
    "        if r > 50:\n",
    "            affinity_groups[0] += 1\n",
    "        elif r > 10:\n",
    "            affinity_groups[1] += 1\n",
    "        elif r > 5:\n",
    "            affinity_groups[2] += 1\n",
    "        else:\n",
    "            affinity_groups[3] += 1\n",
    "\n",
    "print(\"Affinity Groups: \", affinity_groups)          \n",
    "plt.title(\"Aptamer dataset binding affinity groups (based on read count)\")\n",
    "plt.xlabel(\"Affinity groups (read count)\")\n",
    "plt.ylabel(\"Number of samples\")\n",
    "sns.barplot(x, affinity_groups)"
   ]
  },
  {
   "cell_type": "markdown",
   "metadata": {},
   "source": [
    "## Write the dataset into a json file"
   ]
  },
  {
   "cell_type": "code",
   "execution_count": null,
   "metadata": {},
   "outputs": [],
   "source": [
    "# Dictionary should be aptamer --> [(peptide, aff), ...., ]\n",
    "aptamer_dataset = {}\n",
    "with open(file) as csv_file:\n",
    "    csv_reader = csv.reader(csv_file, delimiter=',')\n",
    "    line_count = 0\n",
    "    for row in csv_reader:\n",
    "        if line_count == 0:\n",
    "            print(f'Column names are {\", \".join(row)}')\n",
    "        else:\n",
    "            peptide = row[0]\n",
    "            aptamer = row[1]\n",
    "            rc = row[2]\n",
    "            \n",
    "            # Reformat the peptide\n",
    "            if '_' in peptide:\n",
    "                split = peptide.split('_')\n",
    "                save = split[0]\n",
    "                if len(save) < 8:\n",
    "                    continue\n",
    "                peptide = save \n",
    "            if aptamer not in aptamer_dataset.keys():\n",
    "                aptamer_dataset[aptamer] = []\n",
    "            \n",
    "            aptamer_dataset[aptamer].append((peptide, rc))\n",
    "        line_count +=1\n",
    "\n",
    "with open('aptamer_dataset.json', 'w') as f:\n",
    "    json.dump(aptamer_dataset, f)\n",
    "    print(\"Wrote to dataset file\")"
   ]
  },
  {
   "cell_type": "markdown",
   "metadata": {},
   "source": [
    "## Test to see if the datasets are uniform"
   ]
  },
  {
   "cell_type": "code",
   "execution_count": null,
   "metadata": {},
   "outputs": [],
   "source": [
    "# Reduce the peptides to only peptides with 8 AA\n",
    "all_peptides = [p for p in peptides if len(p) == 8]\n",
    "all_aptamers = [a for a in all_aptamers if len(a) == 40]\n",
    "\n",
    "print(len(all_peptides))\n",
    "print(len(set(all_peptides)))\n",
    "print(len(all_aptamers))\n",
    "print(len(set(all_aptamers)))"
   ]
  },
  {
   "cell_type": "markdown",
   "metadata": {},
   "source": [
    "## Test if each position of peptides is uniformly distributed"
   ]
  },
  {
   "cell_type": "code",
   "execution_count": null,
   "metadata": {},
   "outputs": [],
   "source": [
    "for i in range(1,8):\n",
    "    char = dict()\n",
    "    for p in set(all_peptides):\n",
    "        if p[i] not in char:\n",
    "            char[p[i]] = 1\n",
    "        else:\n",
    "            char[p[i]] += 1\n",
    "    print(\"-------------Position \", i, \"--------------\")\n",
    "    print(char)\n",
    "    plt.bar(sorted(list(char.keys())), list(char.values()), color='g')\n",
    "    plt.show()\n",
    "print(sorted(list(char.keys())))"
   ]
  },
  {
   "cell_type": "code",
   "execution_count": null,
   "metadata": {},
   "outputs": [],
   "source": [
    "for i in range(40):\n",
    "    char = dict()\n",
    "    for a in set(all_aptamers):\n",
    "        if a[i] not in char:\n",
    "            char[a[i]] = 1\n",
    "        else:\n",
    "            char[a[i]] += 1\n",
    "    print(\"-------------Position \", i, \"--------------\")\n",
    "    print(char)\n",
    "    plt.bar(sorted(list(char.keys())), list(char.values()), color='g')\n",
    "    plt.show()\n",
    "print(sorted(char.keys()))"
   ]
  },
  {
   "cell_type": "markdown",
   "metadata": {},
   "source": [
    "## Test pairwise interactions "
   ]
  },
  {
   "cell_type": "code",
   "execution_count": null,
   "metadata": {},
   "outputs": [],
   "source": [
    "import numpy as np\n",
    "\n",
    "\n",
    "na_list = ['A', 'C', 'G', 'T']\n",
    "aa_list = ['A', 'C', 'D', 'E', 'F', 'G', 'H', 'I', 'K', 'L', 'M', 'N', 'P', 'Q', 'R', 'S', 'T', 'V', 'W', 'Y']\n",
    "num_samples = 1000\n",
    "\n",
    "\n",
    "# Generate uniform random samples without replacement\n",
    "def get_samples(kind=\"pep\",num=num_samples):\n",
    "    if kind == \"apt\":\n",
    "        samples = [all_aptamers[i] for i in np.random.choice(len(all_aptamers), num_samples, replace=False)]\n",
    "    else:\n",
    "        samples = [all_peptides[i] for i in np.random.choice(len(all_peptides), num_samples, replace=False)]\n",
    "    return samples\n",
    "\n",
    "\n",
    "# Index list for pairwise interaction\n",
    "def get_index(kind=\"pep\"):\n",
    "    index = []\n",
    "    if kind == \"apt\":\n",
    "        a = np.random.choice(40, 40, replace=False)\n",
    "        for i in range(0,40,2):\n",
    "            index.append((a[i],a[(i+1)]))\n",
    "    else:\n",
    "        for i in range(1,7):\n",
    "            for j in range(1,7):\n",
    "                if i+j >= 8:\n",
    "                    continue\n",
    "                index.append((i, (i+j)))\n",
    "    return index\n",
    "\n",
    "\n",
    "# Plot matrix of relative probabilities\n",
    "def get_pair_mat(kind=\"pep\"):\n",
    "    char_list = na_list if kind == \"apt\" else aa_list\n",
    "    dim = len(char_list)\n",
    "    index = get_index(kind)\n",
    "    samples = get_samples(kind)\n",
    "    M = np.zeros((dim,dim))\n",
    "    # Loop through all possible pairwise combination\n",
    "    for (i,j) in index:\n",
    "        for s in samples:\n",
    "            M[char_list.index(s[i]), char_list.index(s[j])] += 1\n",
    "            M[char_list.index(s[j]), char_list.index(s[i])] += 1\n",
    "        print(\"-----------Positions: \",(i,j),\"Heatmap of probability matrix: ---------\")\n",
    "        M = np.true_divide(M, num_samples)\n",
    "        ct = 2/(dim**2)\n",
    "        mat = sns.heatmap(M,center=ct)\n",
    "        plt.show()\n",
    "        \n",
    "\n",
    "# Plot matrix of relative probabilities, assume independence\n",
    "def get_indep_mat(kind=\"pep\"):\n",
    "    char_list = na_list if kind == \"apt\" else aa_list\n",
    "    dim = len(char_list)\n",
    "    index = get_index(kind)\n",
    "    samples = get_samples(kind)\n",
    "    # Loop through all possible pairwise combination\n",
    "    for (i,j) in index:\n",
    "        # Create dict to count num of each letter\n",
    "        i_char, j_char = dict.fromkeys(char_list, 0), dict.fromkeys(char_list, 0)\n",
    "        for s in samples:\n",
    "            if s[i] in i_char:\n",
    "                i_char[s[i]] += 1\n",
    "            if s[j] in j_char:\n",
    "                j_char[s[j]] += 1\n",
    "        # Initialize matrix of relative probabilities\n",
    "        M = np.zeros((dim,dim))\n",
    "        for r in range(dim):\n",
    "            for c in range(dim):\n",
    "                # Each entry in M is the product of their relative probabilities\n",
    "                M[r,c] = (i_char[char_list[r]] * j_char[char_list[c]])/(num_samples**2)\n",
    "        print(\"-----------Positions: \",(i,j),\"Heatmap of probability matrix: ---------\")\n",
    "        p_range = 4/(dim**2)\n",
    "        mat = sns.heatmap(M, vmin=0, vmax=p_range)\n",
    "        plt.show()"
   ]
  },
  {
   "cell_type": "code",
   "execution_count": null,
   "metadata": {},
   "outputs": [],
   "source": [
    "# Peptides, pair\n",
    "get_pair_mat()"
   ]
  },
  {
   "cell_type": "code",
   "execution_count": null,
   "metadata": {},
   "outputs": [],
   "source": [
    "# Peptides, independence\n",
    "get_indep_mat()"
   ]
  },
  {
   "cell_type": "code",
   "execution_count": null,
   "metadata": {},
   "outputs": [],
   "source": [
    "# Peptides, pair\n",
    "get_pair_mat(\"apt\")"
   ]
  },
  {
   "cell_type": "code",
   "execution_count": null,
   "metadata": {},
   "outputs": [],
   "source": [
    "# Aptamers, independence\n",
    "get_indep_mat(\"apt\")"
   ]
  }
 ],
 "metadata": {
  "kernelspec": {
   "display_name": "Python 3",
   "language": "python",
   "name": "python3"
  },
  "language_info": {
   "codemirror_mode": {
    "name": "ipython",
    "version": 3
   },
   "file_extension": ".py",
   "mimetype": "text/x-python",
   "name": "python",
   "nbconvert_exporter": "python",
   "pygments_lexer": "ipython3",
   "version": "3.7.3"
  },
  "toc": {
   "base_numbering": 1,
   "nav_menu": {},
   "number_sections": true,
   "sideBar": true,
   "skip_h1_title": false,
   "title_cell": "Table of Contents",
   "title_sidebar": "Contents",
   "toc_cell": false,
   "toc_position": {},
   "toc_section_display": true,
   "toc_window_display": false
  }
 },
 "nbformat": 4,
 "nbformat_minor": 2
}

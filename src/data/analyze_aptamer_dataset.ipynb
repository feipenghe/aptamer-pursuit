{
 "cells": [
  {
   "cell_type": "code",
   "execution_count": 31,
   "metadata": {},
   "outputs": [],
   "source": [
    "import os, sys\n",
    "import csv\n",
    "import json\n",
    "import matplotlib.pyplot as plt\n",
    "import seaborn as sns\n",
    "from scipy import stats"
   ]
  },
  {
   "cell_type": "code",
   "execution_count": 2,
   "metadata": {},
   "outputs": [],
   "source": [
    "file = '../../20191204_peptide_aptamer_pairs.csv'"
   ]
  },
  {
   "cell_type": "markdown",
   "metadata": {},
   "source": [
    "## General metrics about the file"
   ]
  },
  {
   "cell_type": "code",
   "execution_count": 15,
   "metadata": {},
   "outputs": [
    {
     "name": "stdout",
     "output_type": "stream",
     "text": [
      "Column names are Peptide, Aptamer, Read Count\n",
      "Number of lines:  595072\n"
     ]
    }
   ],
   "source": [
    "# Generate a dictionary from peptide --> [(aptamer, read count)]\n",
    "all_aptamers = []\n",
    "dataset = {}\n",
    "with open(file) as csv_file:\n",
    "    csv_reader = csv.reader(csv_file, delimiter=',')\n",
    "    line_count = 0\n",
    "    for row in csv_reader:\n",
    "        if line_count == 0:\n",
    "            print(f'Column names are {\", \".join(row)}')\n",
    "        else:\n",
    "            peptide = row[0]\n",
    "            aptamer = row[1]\n",
    "            rc = row[2]\n",
    "            \n",
    "            # Reformat the peptide\n",
    "            if '_' in peptide:\n",
    "                split = peptide.split('_')\n",
    "                save = split[0]\n",
    "                if len(save) < 8:\n",
    "                    continue\n",
    "                peptide = save \n",
    "            if len(peptide) < 8:\n",
    "                continue\n",
    "            \n",
    "            if peptide not in dataset.keys():\n",
    "                dataset[peptide] = []\n",
    "            dataset[peptide].append((aptamer, rc))\n",
    "            all_aptamers.append(aptamer)\n",
    "        line_count += 1\n",
    "    print(\"Number of lines: \", line_count)"
   ]
  },
  {
   "cell_type": "code",
   "execution_count": 10,
   "metadata": {},
   "outputs": [
    {
     "name": "stdout",
     "output_type": "stream",
     "text": [
      "489899\n",
      "Count of 3:  400\n",
      "Count of 4:  5494\n",
      "Count of 5:  15168\n",
      "Count of 6:  15915\n",
      "Count of 7:  15150\n",
      "Count of 8:  437772\n"
     ]
    },
    {
     "data": {
      "image/png": "[encoded data removed]",
      "text/plain": [
       "<Figure size 432x288 with 1 Axes>"
      ]
     },
     "metadata": {
      "needs_background": "light"
     },
     "output_type": "display_data"
    }
   ],
   "source": [
    "print(str(len(dataset.keys())))\n",
    "peptides = list(dataset.keys())\n",
    "lengths = [len(p) for p in peptides]\n",
    "sns.distplot(lengths, hist=True, norm_hist=True)\n",
    "print(\"Count of 3: \", lengths.count(3))\n",
    "print(\"Count of 4: \", lengths.count(4))\n",
    "print(\"Count of 5: \", lengths.count(5))\n",
    "print(\"Count of 6: \", lengths.count(6))\n",
    "print(\"Count of 7: \", lengths.count(7))\n",
    "print(\"Count of 8: \", lengths.count(8))"
   ]
  },
  {
   "cell_type": "markdown",
   "metadata": {},
   "source": [
    "## Split the dataset into binding affinity groups"
   ]
  },
  {
   "cell_type": "code",
   "execution_count": 14,
   "metadata": {},
   "outputs": [
    {
     "name": "stdout",
     "output_type": "stream",
     "text": [
      "Affinity Groups:  [24449, 41890, 129699, 399033]\n"
     ]
    },
    {
     "data": {
      "text/plain": [
       "<matplotlib.axes._subplots.AxesSubplot at 0x1a25a46450>"
      ]
     },
     "execution_count": 14,
     "metadata": {},
     "output_type": "execute_result"
    },
    {
     "data": {
      "image/png": "[encoded data removed]",
      "text/plain": [
       "<Figure size 432x288 with 1 Axes>"
      ]
     },
     "metadata": {
      "needs_background": "light"
     },
     "output_type": "display_data"
    }
   ],
   "source": [
    "affinity_groups = [0, 0, 0, 0]\n",
    "x = ['high (> 50)', 'medium (>10)', 'medium-ish (>5)', 'low (<= 5)']\n",
    "for peptide in dataset:\n",
    "    for a, r in dataset[peptide]:\n",
    "        r = int(r)\n",
    "        if r > 50:\n",
    "            affinity_groups[0] += 1\n",
    "        elif r > 10:\n",
    "            affinity_groups[1] += 1\n",
    "        elif r > 5:\n",
    "            affinity_groups[2] += 1\n",
    "        else:\n",
    "            affinity_groups[3] += 1\n",
    "\n",
    "print(\"Affinity Groups: \", affinity_groups)          \n",
    "plt.title(\"Aptamer dataset binding affinity groups (based on read count)\")\n",
    "plt.xlabel(\"Affinity groups (read count)\")\n",
    "plt.ylabel(\"Number of samples\")\n",
    "sns.barplot(x, affinity_groups)"
   ]
  },
  {
   "cell_type": "markdown",
   "metadata": {},
   "source": [
    "## Write the dataset into a json file"
   ]
  },
  {
   "cell_type": "code",
   "execution_count": null,
   "metadata": {},
   "outputs": [],
   "source": [
    "# Dictionary should be aptamer --> [(peptide, aff), ...., ]\n",
    "aptamer_dataset = {}\n",
    "with open(file) as csv_file:\n",
    "    csv_reader = csv.reader(csv_file, delimiter=',')\n",
    "    line_count = 0\n",
    "    for row in csv_reader:\n",
    "        if line_count == 0:\n",
    "            print(f'Column names are {\", \".join(row)}')\n",
    "        else:\n",
    "            peptide = row[0]\n",
    "            aptamer = row[1]\n",
    "            rc = row[2]\n",
    "            \n",
    "            # Reformat the peptide\n",
    "            if '_' in peptide:\n",
    "                split = peptide.split('_')\n",
    "                save = split[0]\n",
    "                if len(save) < 3:\n",
    "                    continue\n",
    "                peptide = save \n",
    "            if aptamer not in aptamer_dataset.keys():\n",
    "                aptamer_dataset[aptamer] = []\n",
    "            \n",
    "            aptamer_dataset[aptamer].append((peptide, rc))\n",
    "        line_count +=1\n",
    "\n",
    "with open('aptamer_dataset.json', 'w') as f:\n",
    "    json.dump(aptamer_dataset, f)\n",
    "    print(\"Wrote to dataset file\")"
   ]
  },
  {
   "cell_type": "markdown",
   "metadata": {},
   "source": [
    "## Test to see if the datasets are uniform"
   ]
  },
  {
   "cell_type": "code",
   "execution_count": 29,
   "metadata": {},
   "outputs": [
    {
     "name": "stdout",
     "output_type": "stream",
     "text": [
      "Count of aptamers that are not 40 N long:  0\n",
      "437772\n",
      "437772\n",
      "594900\n",
      "557824\n"
     ]
    }
   ],
   "source": [
    "# Reduce the peptides to only peptides with 8 AA\n",
    "all_peptides = [p for p in peptides if len(p) > 7]\n",
    "all_aptamers = [a for a in all_aptamers if len(a) == 40]\n",
    "\n",
    "count = 0\n",
    "for a in all_aptamers:\n",
    "    if len(a) < 40:\n",
    "        count += 1\n",
    "print(\"Count of aptamers that are not 40 N long: \", count)\n",
    "\n",
    "print(len(all_peptides))\n",
    "print(len(set(all_peptides)))\n",
    "print(len(all_aptamers))\n",
    "print(len(set(all_aptamers)))"
   ]
  },
  {
   "cell_type": "code",
   "execution_count": null,
   "metadata": {},
   "outputs": [],
   "source": []
  }
 ],
 "metadata": {
  "kernelspec": {
   "display_name": "Python 3",
   "language": "python",
   "name": "python3"
  },
  "language_info": {
   "codemirror_mode": {
    "name": "ipython",
    "version": 3
   },
   "file_extension": ".py",
   "mimetype": "text/x-python",
   "name": "python",
   "nbconvert_exporter": "python",
   "pygments_lexer": "ipython3",
   "version": "3.7.5"
  },
  "toc": {
   "base_numbering": 1,
   "nav_menu": {},
   "number_sections": true,
   "sideBar": true,
   "skip_h1_title": false,
   "title_cell": "Table of Contents",
   "title_sidebar": "Contents",
   "toc_cell": false,
   "toc_position": {},
   "toc_section_display": true,
   "toc_window_display": false
  }
 },
 "nbformat": 4,
 "nbformat_minor": 2
}

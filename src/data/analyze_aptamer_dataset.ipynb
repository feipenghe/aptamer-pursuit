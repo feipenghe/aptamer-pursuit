{
 "cells": [
  {
   "cell_type": "code",
   "execution_count": 5,
   "metadata": {},
   "outputs": [],
   "source": [
    "import os, sys\n",
    "import csv\n",
    "import json\n",
    "import matplotlib.pyplot as plt\n",
    "import seaborn as sns\n",
    "from scipy import stats"
   ]
  },
  {
   "cell_type": "code",
   "execution_count": 10,
   "metadata": {},
   "outputs": [],
   "source": [
    "file = '../../../20191204_peptide_aptamer_pairs.csv'"
   ]
  },
  {
   "cell_type": "markdown",
   "metadata": {},
   "source": [
    "## General metrics about the file"
   ]
  },
  {
   "cell_type": "code",
   "execution_count": 11,
   "metadata": {},
   "outputs": [
    {
     "name": "stdout",
     "output_type": "stream",
     "text": [
      "Column names are Peptide, Aptamer, Read Count\n",
      "Number of lines:  595072\n"
     ]
    }
   ],
   "source": [
    "# Generate a dictionary from peptide --> [(aptamer, read count)]\n",
    "all_aptamers = []\n",
    "dataset = {}\n",
    "with open(file) as csv_file:\n",
    "    csv_reader = csv.reader(csv_file, delimiter=',')\n",
    "    line_count = 0\n",
    "    for row in csv_reader:\n",
    "        if line_count == 0:\n",
    "            print(f'Column names are {\", \".join(row)}')\n",
    "        else:\n",
    "            peptide = row[0]\n",
    "            aptamer = row[1]\n",
    "            rc = row[2]\n",
    "            \n",
    "            # Reformat the peptide\n",
    "            if '_' in peptide:\n",
    "                split = peptide.split('_')\n",
    "                save = split[0]\n",
    "                if len(save) < 8:\n",
    "                    continue\n",
    "                peptide = save \n",
    "            if len(peptide) < 8:\n",
    "                continue\n",
    "            \n",
    "            if peptide not in dataset.keys():\n",
    "                dataset[peptide] = []\n",
    "            dataset[peptide].append((aptamer, rc))\n",
    "            all_aptamers.append(aptamer)\n",
    "        line_count += 1\n",
    "    print(\"Number of lines: \", line_count)"
   ]
  },
  {
   "cell_type": "code",
   "execution_count": 14,
   "metadata": {},
   "outputs": [
    {
     "name": "stdout",
     "output_type": "stream",
     "text": [
      "437772\n",
      "count of  3 : 0\n",
      "count of  4 : 0\n",
      "count of  5 : 0\n",
      "count of  6 : 0\n",
      "count of  7 : 0\n",
      "count of  8 : 437772\n"
     ]
    },
    {
     "data": {
      "image/png": "[encoded data removed]",
      "text/plain": [
       "<Figure size 432x288 with 1 Axes>"
      ]
     },
     "metadata": {
      "needs_background": "light"
     },
     "output_type": "display_data"
    }
   ],
   "source": [
    "print(str(len(dataset.keys())))\n",
    "peptides = list(dataset.keys())\n",
    "lengths = [len(p) for p in peptides]\n",
    "sns.distplot(lengths, hist=True, norm_hist=True)\n",
    "for i in range(3, 9):\n",
    "    print(\"count of \", i, \":\", lengths.count(i))"
   ]
  },
  {
   "cell_type": "markdown",
   "metadata": {},
   "source": [
    "## Split the dataset into binding affinity groups"
   ]
  },
  {
   "cell_type": "code",
   "execution_count": 14,
   "metadata": {},
   "outputs": [
    {
     "name": "stdout",
     "output_type": "stream",
     "text": [
      "Affinity Groups:  [24449, 41890, 129699, 399033]\n"
     ]
    },
    {
     "data": {
      "text/plain": [
       "<matplotlib.axes._subplots.AxesSubplot at 0x1a25a46450>"
      ]
     },
     "execution_count": 14,
     "metadata": {},
     "output_type": "execute_result"
    },
    {
     "data": {
      "image/png": "[encoded data removed]",
      "text/plain": [
       "<Figure size 432x288 with 1 Axes>"
      ]
     },
     "metadata": {
      "needs_background": "light"
     },
     "output_type": "display_data"
    }
   ],
   "source": [
    "affinity_groups = [0, 0, 0, 0]\n",
    "x = ['high (> 50)', 'medium (>10)', 'medium-ish (>5)', 'low (<= 5)']\n",
    "for peptide in dataset:\n",
    "    for a, r in dataset[peptide]:\n",
    "        r = int(r)\n",
    "        if r > 50:\n",
    "            affinity_groups[0] += 1\n",
    "        elif r > 10:\n",
    "            affinity_groups[1] += 1\n",
    "        elif r > 5:\n",
    "            affinity_groups[2] += 1\n",
    "        else:\n",
    "            affinity_groups[3] += 1\n",
    "\n",
    "print(\"Affinity Groups: \", affinity_groups)          \n",
    "plt.title(\"Aptamer dataset binding affinity groups (based on read count)\")\n",
    "plt.xlabel(\"Affinity groups (read count)\")\n",
    "plt.ylabel(\"Number of samples\")\n",
    "sns.barplot(x, affinity_groups)"
   ]
  },
  {
   "cell_type": "markdown",
   "metadata": {},
   "source": [
    "## Write the dataset into a json file"
   ]
  },
  {
   "cell_type": "code",
   "execution_count": null,
   "metadata": {},
   "outputs": [],
   "source": [
    "# Dictionary should be aptamer --> [(peptide, aff), ...., ]\n",
    "aptamer_dataset = {}\n",
    "with open(file) as csv_file:\n",
    "    csv_reader = csv.reader(csv_file, delimiter=',')\n",
    "    line_count = 0\n",
    "    for row in csv_reader:\n",
    "        if line_count == 0:\n",
    "            print(f'Column names are {\", \".join(row)}')\n",
    "        else:\n",
    "            peptide = row[0]\n",
    "            aptamer = row[1]\n",
    "            rc = row[2]\n",
    "            \n",
    "            # Reformat the peptide\n",
    "            if '_' in peptide:\n",
    "                split = peptide.split('_')\n",
    "                save = split[0]\n",
    "                if len(save) < 3:\n",
    "                    continue\n",
    "                peptide = save \n",
    "            if aptamer not in aptamer_dataset.keys():\n",
    "                aptamer_dataset[aptamer] = []\n",
    "            \n",
    "            aptamer_dataset[aptamer].append((peptide, rc))\n",
    "        line_count +=1\n",
    "\n",
    "with open('aptamer_dataset.json', 'w') as f:\n",
    "    json.dump(aptamer_dataset, f)\n",
    "    print(\"Wrote to dataset file\")"
   ]
  },
  {
   "cell_type": "markdown",
   "metadata": {},
   "source": [
    "## Test to see if the datasets are uniform"
   ]
  },
  {
   "cell_type": "code",
   "execution_count": 15,
   "metadata": {},
   "outputs": [
    {
     "name": "stdout",
     "output_type": "stream",
     "text": [
      "Count of aptamers that are not 40 N long:  0\n",
      "437772\n",
      "437772\n",
      "594900\n",
      "557824\n"
     ]
    }
   ],
   "source": [
    "# Reduce the peptides to only peptides with 8 AA\n",
    "all_peptides = [p for p in peptides if len(p) > 7]\n",
    "all_aptamers = [a for a in all_aptamers if len(a) == 40]\n",
    "\n",
    "count = 0\n",
    "for a in all_aptamers:\n",
    "    if len(a) < 40:\n",
    "        count += 1\n",
    "print(\"Count of aptamers that are not 40 N long: \", count)\n",
    "\n",
    "print(len(all_peptides))\n",
    "print(len(set(all_peptides)))\n",
    "print(len(all_aptamers))\n",
    "print(len(set(all_aptamers)))"
   ]
  },
  {
   "cell_type": "markdown",
   "metadata": {},
   "source": [
    "## Test if each position of peptides is uniformly distributed"
   ]
  },
  {
   "cell_type": "code",
   "execution_count": 37,
   "metadata": {},
   "outputs": [
    {
     "name": "stdout",
     "output_type": "stream",
     "text": [
      "-------------Position  1 --------------\n",
      "{'S': 43220, 'A': 33786, 'G': 46852, 'T': 19891, 'V': 29716, 'Y': 11697, 'C': 15577, 'K': 17991, 'R': 50625, 'F': 10416, 'P': 19064, 'L': 37218, 'Q': 13682, 'E': 19393, 'I': 9921, 'D': 10263, 'W': 18957, 'N': 8740, 'M': 12809, 'H': 7954}\n"
     ]
    },
    {
     "data": {
      "image/png": "[encoded data removed]",
      "text/plain": [
       "<Figure size 432x288 with 1 Axes>"
      ]
     },
     "metadata": {
      "needs_background": "light"
     },
     "output_type": "display_data"
    },
    {
     "name": "stdout",
     "output_type": "stream",
     "text": [
      "-------------Position  2 --------------\n",
      "{'M': 13462, 'L': 41192, 'K': 14343, 'P': 21535, 'G': 49826, 'A': 34266, 'W': 20343, 'T': 18668, 'V': 35845, 'D': 10155, 'S': 36068, 'R': 51024, 'I': 9618, 'C': 15172, 'E': 17821, 'F': 10033, 'Q': 12469, 'H': 8509, 'N': 8226, 'Y': 9197}\n"
     ]
    },
    {
     "data": {
      "image/png": "[encoded data removed]",
      "text/plain": [
       "<Figure size 432x288 with 1 Axes>"
      ]
     },
     "metadata": {
      "needs_background": "light"
     },
     "output_type": "display_data"
    },
    {
     "name": "stdout",
     "output_type": "stream",
     "text": [
      "-------------Position  3 --------------\n",
      "{'V': 37111, 'A': 33213, 'T': 17544, 'R': 52974, 'E': 18000, 'Q': 12778, 'W': 21391, 'Y': 9153, 'L': 40641, 'N': 7897, 'P': 16781, 'G': 53205, 'I': 9660, 'K': 14504, 'D': 10089, 'S': 34922, 'C': 15778, 'F': 10041, 'M': 13716, 'H': 8374}\n"
     ]
    },
    {
     "data": {
      "image/png": "[encoded data removed]",
      "text/plain": [
       "<Figure size 432x288 with 1 Axes>"
      ]
     },
     "metadata": {
      "needs_background": "light"
     },
     "output_type": "display_data"
    },
    {
     "name": "stdout",
     "output_type": "stream",
     "text": [
      "-------------Position  4 --------------\n",
      "{'N': 7992, 'G': 55392, 'M': 13802, 'A': 33426, 'H': 7890, 'V': 38056, 'L': 38804, 'D': 10723, 'F': 11016, 'P': 15765, 'R': 52220, 'I': 9745, 'S': 33199, 'Q': 12212, 'Y': 9102, 'C': 15494, 'E': 18791, 'W': 22543, 'T': 16916, 'K': 14684}\n"
     ]
    },
    {
     "data": {
      "image/png": "[encoded data removed]",
      "text/plain": [
       "<Figure size 432x288 with 1 Axes>"
      ]
     },
     "metadata": {
      "needs_background": "light"
     },
     "output_type": "display_data"
    },
    {
     "name": "stdout",
     "output_type": "stream",
     "text": [
      "-------------Position  5 --------------\n",
      "{'S': 31861, 'G': 55577, 'L': 39767, 'Q': 11449, 'A': 32623, 'V': 39244, 'D': 10381, 'M': 14204, 'C': 15871, 'R': 53460, 'F': 10725, 'P': 14845, 'I': 10060, 'Y': 8842, 'W': 23835, 'N': 7544, 'K': 14677, 'E': 18113, 'T': 17089, 'H': 7605}\n"
     ]
    },
    {
     "data": {
      "image/png": "[encoded data removed]",
      "text/plain": [
       "<Figure size 432x288 with 1 Axes>"
      ]
     },
     "metadata": {
      "needs_background": "light"
     },
     "output_type": "display_data"
    },
    {
     "name": "stdout",
     "output_type": "stream",
     "text": [
      "-------------Position  6 --------------\n",
      "{'I': 8977, 'V': 40328, 'G': 67848, 'E': 20308, 'R': 53961, 'Y': 8043, 'S': 29183, 'C': 15540, 'W': 24039, 'A': 33638, 'Q': 9986, 'P': 14131, 'T': 15716, 'M': 12955, 'H': 6373, 'D': 10112, 'L': 37842, 'K': 12083, 'N': 6705, 'F': 10004}\n"
     ]
    },
    {
     "data": {
      "image/png": "[encoded data removed]",
      "text/plain": [
       "<Figure size 432x288 with 1 Axes>"
      ]
     },
     "metadata": {
      "needs_background": "light"
     },
     "output_type": "display_data"
    },
    {
     "name": "stdout",
     "output_type": "stream",
     "text": [
      "-------------Position  7 --------------\n",
      "{'F': 10574, 'V': 40250, 'H': 8758, 'C': 16205, 'G': 70845, 'W': 23193, 'E': 18844, 'R': 54071, 'T': 15654, 'Q': 10873, 'S': 31983, 'K': 11444, 'I': 10159, 'Y': 8176, 'L': 34877, 'M': 11766, 'D': 11652, 'A': 28254, 'P': 12881, 'N': 7313}\n"
     ]
    },
    {
     "data": {
      "image/png": "[encoded data removed]",
      "text/plain": [
       "<Figure size 432x288 with 1 Axes>"
      ]
     },
     "metadata": {
      "needs_background": "light"
     },
     "output_type": "display_data"
    }
   ],
   "source": [
    "for i in range(1,8):\n",
    "    char = dict()\n",
    "    for p in peptides:\n",
    "        if p[i] not in char:\n",
    "            char[p[i]] = 1\n",
    "        else:\n",
    "            char[p[i]] += 1\n",
    "    print(\"-------------Position \", i, \"--------------\")\n",
    "    print(char)\n",
    "    plt.bar(sorted(list(char.keys())), list(char.values()), color='g')\n",
    "    plt.show()"
   ]
  },
  {
   "cell_type": "code",
   "execution_count": null,
   "metadata": {},
   "outputs": [],
   "source": []
  }
 ],
 "metadata": {
  "kernelspec": {
   "display_name": "Python 3",
   "language": "python",
   "name": "python3"
  },
  "language_info": {
   "codemirror_mode": {
    "name": "ipython",
    "version": 3
   },
   "file_extension": ".py",
   "mimetype": "text/x-python",
   "name": "python",
   "nbconvert_exporter": "python",
   "pygments_lexer": "ipython3",
   "version": "3.7.3"
  },
  "toc": {
   "base_numbering": 1,
   "nav_menu": {},
   "number_sections": true,
   "sideBar": true,
   "skip_h1_title": false,
   "title_cell": "Table of Contents",
   "title_sidebar": "Contents",
   "toc_cell": false,
   "toc_position": {},
   "toc_section_display": true,
   "toc_window_display": false
  }
 },
 "nbformat": 4,
 "nbformat_minor": 2
}

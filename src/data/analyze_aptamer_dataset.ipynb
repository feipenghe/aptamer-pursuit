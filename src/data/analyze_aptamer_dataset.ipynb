{
 "cells": [
  {
   "cell_type": "code",
   "execution_count": 1,
   "metadata": {},
   "outputs": [],
   "source": [
    "import os, sys\n",
    "import csv\n",
    "import json\n",
    "import matplotlib.pyplot as plt\n",
    "import seaborn as sns"
   ]
  },
  {
   "cell_type": "code",
   "execution_count": 2,
   "metadata": {},
   "outputs": [],
   "source": [
    "file = '../../20191204_peptide_aptamer_pairs.csv'"
   ]
  },
  {
   "cell_type": "markdown",
   "metadata": {},
   "source": [
    "## General metrics about the file"
   ]
  },
  {
   "cell_type": "code",
   "execution_count": 3,
   "metadata": {},
   "outputs": [
    {
     "name": "stdout",
     "output_type": "stream",
     "text": [
      "Column names are Peptide, Aptamer, Read Count\n",
      "Number of lines:  710659\n"
     ]
    }
   ],
   "source": [
    "# Generate a dictionary from peptide --> [(aptamer, read count)]\n",
    "dataset = {}\n",
    "with open(file) as csv_file:\n",
    "    csv_reader = csv.reader(csv_file, delimiter=',')\n",
    "    line_count = 0\n",
    "    for row in csv_reader:\n",
    "        if line_count == 0:\n",
    "            print(f'Column names are {\", \".join(row)}')\n",
    "        else:\n",
    "            peptide = row[0]\n",
    "            aptamer = row[1]\n",
    "            rc = row[2]\n",
    "            \n",
    "            # Reformat the peptide\n",
    "            if '_' in peptide:\n",
    "                split = peptide.split('_')\n",
    "                save = split[0]\n",
    "                if len(save) < 3:\n",
    "                    continue\n",
    "                peptide = save \n",
    "            \n",
    "            if peptide not in dataset.keys():\n",
    "                dataset[peptide] = []\n",
    "            dataset[peptide].append((aptamer, rc))\n",
    "        line_count += 1\n",
    "    print(\"Number of lines: \", line_count)"
   ]
  },
  {
   "cell_type": "code",
   "execution_count": 4,
   "metadata": {},
   "outputs": [
    {
     "name": "stdout",
     "output_type": "stream",
     "text": [
      "489899\n"
     ]
    }
   ],
   "source": [
    "print(str(len(dataset.keys())))"
   ]
  },
  {
   "cell_type": "markdown",
   "metadata": {},
   "source": [
    "## Split the dataset into binding affinity groups"
   ]
  },
  {
   "cell_type": "code",
   "execution_count": 14,
   "metadata": {},
   "outputs": [
    {
     "data": {
      "text/plain": [
       "<matplotlib.axes._subplots.AxesSubplot at 0x1a2f38fb50>"
      ]
     },
     "execution_count": 14,
     "metadata": {},
     "output_type": "execute_result"
    },
    {
     "data": {
      "image/png": "[encoded data removed]",
      "text/plain": [
       "<Figure size 432x288 with 1 Axes>"
      ]
     },
     "metadata": {
      "needs_background": "light"
     },
     "output_type": "display_data"
    }
   ],
   "source": [
    "affinity_groups = [0, 0, 0, 0]\n",
    "x = ['high (> 50)', 'medium (>10)', 'medium-ish (>5)', 'low (<= 5)']\n",
    "for peptide in dataset:\n",
    "    for a, r in dataset[peptide]:\n",
    "        r = int(r)\n",
    "        if r > 50:\n",
    "            affinity_groups[0] += 1\n",
    "        elif r > 10:\n",
    "            affinity_groups[1] += 1\n",
    "        elif r > 5:\n",
    "            affinity_groups[2] += 1\n",
    "        else:\n",
    "            affinity_groups[3] += 1\n",
    "            \n",
    "plt.title(\"Aptamer dataset binding affinity groups (based on read count)\")\n",
    "plt.xlabel(\"Affinity groups (read count)\")\n",
    "plt.ylabel(\"Number of samples\")\n",
    "sns.barplot(x, affinity_groups)"
   ]
  },
  {
   "cell_type": "code",
   "execution_count": null,
   "metadata": {},
   "outputs": [],
   "source": []
  }
 ],
 "metadata": {
  "kernelspec": {
   "display_name": "Python 3",
   "language": "python",
   "name": "python3"
  },
  "language_info": {
   "codemirror_mode": {
    "name": "ipython",
    "version": 3
   },
   "file_extension": ".py",
   "mimetype": "text/x-python",
   "name": "python",
   "nbconvert_exporter": "python",
   "pygments_lexer": "ipython3",
   "version": "3.7.5"
  },
  "toc": {
   "base_numbering": 1,
   "nav_menu": {},
   "number_sections": true,
   "sideBar": true,
   "skip_h1_title": false,
   "title_cell": "Table of Contents",
   "title_sidebar": "Contents",
   "toc_cell": false,
   "toc_position": {},
   "toc_section_display": true,
   "toc_window_display": false
  }
 },
 "nbformat": 4,
 "nbformat_minor": 2
}
